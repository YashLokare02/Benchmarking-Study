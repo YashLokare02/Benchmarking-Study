{
 "cells": [
  {
   "cell_type": "markdown",
   "id": "0cd39890-9d2a-402c-b211-9ee0cc9db937",
   "metadata": {},
   "source": [
    "## Importing relevant libraries"
   ]
  },
  {
   "cell_type": "code",
   "execution_count": 1,
   "id": "1fa570cb-15a5-4f47-b44f-8f0158f1a1b9",
   "metadata": {},
   "outputs": [],
   "source": [
    "import numpy as np\n",
    "import scipy.linalg as la\n",
    "import scipy.spatial as spat\n",
    "from scipy.stats import unitary_group\n",
    "from scipy.stats import moment\n",
    "from scipy.stats import skew, kurtosis\n",
    "from scipy.optimize import curve_fit\n",
    "from scipy.linalg import norm\n",
    "import matplotlib.pyplot as plt\n",
    "import math\n",
    "from dataclasses import dataclass\n",
    "\n",
    "# Libraries for implementing the VQD algorithm\n",
    "from qiskit.circuit import QuantumCircuit, Parameter, ParameterVector\n",
    "from qiskit.primitives import Sampler, Estimator\n",
    "from qiskit_aer import AerSimulator\n",
    "from qiskit_algorithms.utils import algorithm_globals\n",
    "from qiskit_ibm_runtime import QiskitRuntimeService, Sampler, Session, Options\n",
    "from qiskit_ibm_runtime import Estimator as EstimatorNew\n",
    "from qiskit.quantum_info.operators import Operator\n",
    "from qiskit.quantum_info import SparsePauliOp\n",
    "from qiskit.circuit.library import RealAmplitudes, TwoLocal, EfficientSU2\n",
    "from qiskit_algorithms.optimizers import *\n",
    "from qiskit_algorithms.state_fidelities import ComputeUncompute\n",
    "\n",
    "from qiskit_algorithms.eigensolvers import EigensolverResult, VQD\n",
    "from qiskit_algorithms import NumPyMinimumEigensolver, VQE\n",
    "\n",
    "# Import classical optimizers\n",
    "from qiskit_algorithms.optimizers import SPSA, P_BFGS, COBYLA, IMFIL, SNOBFIT, NELDER_MEAD, SLSQP, NFT, ADAM, POWELL, GradientDescent, BOBYQA\n",
    "\n",
    "# Import Statevector and SparsePauliOp\n",
    "from qiskit.quantum_info import SparsePauliOp, Statevector\n",
    "\n",
    "# Import noise models\n",
    "from qiskit_aer.noise import (\n",
    "    NoiseModel,\n",
    "    QuantumError,\n",
    "    ReadoutError,\n",
    "    depolarizing_error,\n",
    "    pauli_error,\n",
    "    thermal_relaxation_error,\n",
    ")\n",
    "\n",
    "# Import a fake backend and Qiskit simulators and/or noise libraries\n",
    "from qiskit_aer import AerSimulator\n",
    "# from qiskit_aer.primitives import Estimator as AerEstimator \n",
    "# from qiskit_aer.noise import NoiseModel\n",
    "\n",
    "# Import the FakeManila backend\n",
    "from qiskit_ibm_runtime.fake_provider import FakeManilaV2, FakeMontrealV2, FakeGuadalupeV2, FakeManila"
   ]
  },
  {
   "cell_type": "markdown",
   "id": "1a891700-e9f3-4316-b620-43b202b2b8ef",
   "metadata": {},
   "source": [
    "## Constructing the FPE operator"
   ]
  },
  {
   "cell_type": "code",
   "execution_count": 3,
   "id": "5aa9b90d-c425-4823-8e31-84024548cc14",
   "metadata": {},
   "outputs": [],
   "source": [
    "## Classical implementation\n",
    "\"\"\"\n",
    "Purpose: \n",
    "    Find the analytical solution given the input parameters\n",
    "Input: \n",
    "    x: array representing the x coordinates over which the solution is to be found\n",
    "    a, Γ: parameters for the Ornstein-Uhlenbeck equation\n",
    "Output:\n",
    "    y: array of the value of the analytical solution over x\n",
    "\"\"\"\n",
    "\n",
    "def OrnsteinUhlenbeck(x, a = 1, gamma = 1):\n",
    "    y = np.sqrt(a/(2*np.pi*gamma)) * np.exp((-a * x ** 2)/(2*gamma))\n",
    "    \n",
    "    return y\n",
    "\n",
    "\"\"\"\n",
    "Purpose:\n",
    "    Calculate the weighted Hermite polynomials using recursive relations up to H_n\n",
    "Input:\n",
    "    n: the highest number of Hermite polynomials to be evaluated at\n",
    "    x: the value of x at which the weighted Hermite polynomials are to be evaluated\n",
    "Output:\n",
    "    Hermite: the value of the weighted Hermite polynomials\n",
    "Example: HermiteSeries(2, 4) -> [H_0(4), H_1(4), H_2(4)]\n",
    "\"\"\"\n",
    "\n",
    "def HermiteSeries(n, x):\n",
    "    Hermite = np.zeros((1, n+1))\n",
    "    Hermite[0][0] = 1.0 * np.exp(-x**2/2)\n",
    "    Hermite[0][1] = 2.0 * x *np.exp(-x**2/2)\n",
    "    \n",
    "    for ni in range(1, n):\n",
    "        Hermite[0][ni+1] = 2*x*Hermite[0][ni] - 2*ni*Hermite[0][ni-1]\n",
    "    \n",
    "    return Hermite\n",
    "\n",
    "\"\"\"\n",
    "Purpose:\n",
    "    Reconstruct the functions represented by the coefficients of weighted Hermite polynomials in spatial coordinates\n",
    "Input:\n",
    "    x: array containing the x values over which the function is to be evaluated\n",
    "    coefficients: the coefficients corresponding to the Hermite polynomials (should be zero-mode of the operator)\n",
    "    nmax: the highest order of weighted Hermite polynomials used\n",
    "    s: the scaling factor\n",
    "Output:\n",
    "    y: the reconstruction\n",
    "\"\"\"\n",
    "\n",
    "def project(x, coefficients, nmax, s):\n",
    "    \n",
    "    y = np.zeros(x.shape)\n",
    "    \n",
    "    for i in (range(len(x))):\n",
    "        x0 = s*x[i]\n",
    "        hermite_values = HermiteSeries(nmax, x0)\n",
    "        y[i] += np.dot(hermite_values, coefficients)\n",
    "        \n",
    "    return (x, y)\n",
    "\n",
    "\"\"\"\n",
    "Purpose:\n",
    "    Normalize the PDF so that the area under the curve is 1\n",
    "Input:\n",
    "    x, y: arrays representing the unnormalized\n",
    "Output:\n",
    "    (x, y): normalized PDF\n",
    "\"\"\"\n",
    "\n",
    "def normalize(x, y):\n",
    "    dx = x[1] - x[0]\n",
    "    sum = 0\n",
    "    \n",
    "    for i in range(len(x)):\n",
    "        sum = sum + (y[i] * dx)\n",
    "    \n",
    "    y = y/sum\n",
    "    \n",
    "    return (x, y)\n",
    "\n",
    "\"\"\"\n",
    "Purpose:\n",
    "    Calculate the RMS\n",
    "Input:\n",
    "    y_op, y: the y values generated by the operator and the analytical solution\n",
    "Output:\n",
    "    RMS\n",
    "\"\"\"\n",
    "\n",
    "def rms_diff(y_op, y):\n",
    "    return np.sqrt(np.sum((y_op-y)**2)/len(y))\n",
    "\n",
    "\"\"\"\n",
    "Purpose:\n",
    "    Find s given a and Γ such that the projection in Hermite space is just H_0\n",
    "Input:\n",
    "    a, Γ: parameters for Ornstein-Uhlenbeck\n",
    "Output:\n",
    "    s\n",
    "\"\"\"\n",
    "\n",
    "def special_s(a, gamma):\n",
    "    return np.sqrt(a/gamma)\n",
    "\n",
    "def euler_representation(z):\n",
    "    A = abs(z)\n",
    "    phase = math.atan(z.imag/z.real)\n",
    "    \n",
    "    return A, phase\n",
    "\n",
    "def generate_positive_semidefinite_matrix(eigenvalues):\n",
    "    ## Function to transform the FPE operator to the Hermite basis and return a finite truncated matrix for the ...\n",
    "    ## ... FPE operator\n",
    "    \n",
    "    n = len(eigenvalues)\n",
    "    s = np.diag(eigenvalues)\n",
    "    q, _ = la.qr(np.random.rand(n, n))\n",
    "    semidef = np.dot(np.transpose(q), s)\n",
    "    semidef = np.dot(semidef, q)\n",
    "    \n",
    "    return semidef\n",
    "\n",
    "def normalize_probability(y, dx):\n",
    "    ## Function to return a normalized PDF \n",
    "    \n",
    "    total = np.sum(y) * dx\n",
    "    y = y / total\n",
    "    \n",
    "    return y\n",
    "\n",
    "def perturbed_ornstein_uhlenbeck(x0, a = 1, gamma = 1, c = 0, shift = 0):\n",
    "    ## Function to compute the exact solution to the perturbed Ornstein-Uhlenbeck equation\n",
    "    \n",
    "    assert len(x0) > 1, \"Error: x0 should be a vector\"\n",
    "\n",
    "    x = x0 - shift\n",
    "    y = np.exp(-a*x**2 /(2*gamma) - c*x**4 /(4*gamma))\n",
    "    dx = x[2] - x[1]\n",
    "    \n",
    "    y = normalize_probability(y, dx)\n",
    "    \n",
    "    return y\n",
    "\n",
    "def special_L(a, gamma):\n",
    "    ## Function to compute the characteristic length scale\n",
    "    \n",
    "    return np.sqrt(a/gamma)\n",
    "\n",
    "def delta(N, n):\n",
    "    ## Function to implement the Kronecker delta function\n",
    "    \n",
    "    if N == n:\n",
    "        return 1\n",
    "    else:\n",
    "        return 0\n",
    "    \n",
    "def matrix_element(N, n, L):\n",
    "    # Function to compute the matrix elements of the position operator\n",
    "    \n",
    "    value = L/np.sqrt(2) * (np.sqrt(n) * delta(N, n-1) + np.sqrt(n+1) * delta(N, n+1))\n",
    "    \n",
    "    return value\n",
    "\n",
    "def create_position(nmax, L):\n",
    "    # Function to construct the position operator\n",
    "    \n",
    "    op = np.zeros((nmax + 1, nmax + 1))\n",
    "    \n",
    "    for N in range(nmax+1):\n",
    "        row = N\n",
    "        for n in range(nmax+1):\n",
    "            col = n\n",
    "            op[row, col] = matrix_element(N, n, L)\n",
    "            \n",
    "    return op\n",
    "\n",
    "def f(N,n):\n",
    "    return 0.5*( np.sqrt(n*(n-1))*delta(N,n-2) + delta(N,n) - np.sqrt((n+1)*(n+2))*delta(N,n+2))\n",
    "\n",
    "def g(N,n, L):\n",
    "    return (0.5 / L**2)*( np.sqrt(n*(n-1))*delta(N,n-2) - (2*n+1)*delta(N,n) + np.sqrt((n+1)*(n+2))*delta(N,n+2))\n",
    "\n",
    "def t(N, n, L):\n",
    "    val1 = np.sqrt(n*(n-1)*(n-2)*(n-3))*delta(N, n-4)\n",
    "    val2 = (2*n+2)*np.sqrt(n*(n-1))*delta(N, n-2)\n",
    "    val3 = (6*n+3)*delta(N, n)\n",
    "    val4 = -2*n*np.sqrt((n+1)*(n+2))*delta(N, n+2)\n",
    "    val5 = -1*np.sqrt((n+1)*(n+2)*(n+3)*(n+4))*delta(N, n+4)\n",
    "\n",
    "    return (L**2/4)*( val1 + val2 + val3 + val4 + val5 )\n",
    "\n",
    "def element_perturbed(N, n, L, a, c, gamma):\n",
    "    ## Function to compute the matrix elements of the finite truncated matrix for the FPE operator (in the Hermite basis)\n",
    "    \n",
    "    return -(a*f(N,n) + c*t(N, n, L) + gamma*g(N, n, L))\n",
    "\n",
    "def create_operator_perturbed(nmax, L, a, c, gamma):\n",
    "    ## Function to generate the FPE operator matrix in the Hermite basis\n",
    "    op = np.zeros((nmax+1, nmax+1))\n",
    "    \n",
    "    for N in range(nmax+1):\n",
    "        row = N\n",
    "        for n in range(nmax+1):\n",
    "            col = n\n",
    "            op[row, col] = element_perturbed(N, n, L, a, c, gamma)\n",
    "    \n",
    "    \"\"\"\n",
    "    if np.any(np.nan, op):\n",
    "        print(\"There's an nan in the operator\")\n",
    "    elif np.any(np.inf, op):\n",
    "        print(\"There is an inf in the operator\")\n",
    "    \"\"\"\n",
    "\n",
    "    return op\n",
    "\n",
    "def state_n(nmax, x0, L):\n",
    "    ## Function to compute the Hermite polynomials upto the order specified by nmax\n",
    "    \n",
    "    assert L > 0, \"Error (state_n): input L must be greater than or equal to 0\"\n",
    "\n",
    "    states = np.zeros(nmax + 1)\n",
    "    x = x0 / L\n",
    "\n",
    "    states[0] = np.sqrt(L / np.sqrt(1/np.pi))* 1.0 * np.exp(-x**2/2)\n",
    "\n",
    "    if nmax > 0:\n",
    "        states[1] = np.sqrt(L / np.sqrt(1/np.pi))* (1/np.sqrt(2)) * 2.0 * x * np.exp(-(x**2)/2)\n",
    "    \n",
    "    for ni in range(2, nmax + 1):\n",
    "        states[ni] = ((np.sqrt(2)*x) / np.sqrt(ni))*states[ni-1] - (ni-1)/np.sqrt((ni)*(ni-1))*states[ni-2]\n",
    "\n",
    "    return states\n",
    "\n",
    "def integrate_eigenvector(x0, y, nmax, L):\n",
    "    ## Function to compute the coefficients corresponding to the calculated Hermite polynomials by numerical integration\n",
    "    ## Note: here, we use the left-hand integration method\n",
    "    \n",
    "    dx = x0[2] - x0[1]\n",
    "    eigenvector = np.zeros(nmax + 1)\n",
    "\n",
    "    for i in range(len(x)):\n",
    "\n",
    "        states = state_n(nmax, x0[i], L)\n",
    "        states = states * y[i] * dx\n",
    "\n",
    "        eigenvector = eigenvector + states\n",
    "        \n",
    "    return {\"eigenvector\" : eigenvector, \"dx\" : dx, \"nmax\" : nmax, \"x0\" : x0, \"L\" : L}\n",
    "\n",
    "def make_operator_even(op):\n",
    "    op_new = np.zeros((op.shape[0]//2, op.shape[1]//2))\n",
    "    \n",
    "    for row in range(op_new.shape[0]):\n",
    "        for col in range(op_new.shape[1]):\n",
    "            op_new[row, col] = op[row*2, col * 2]\n",
    "    \n",
    "    return op_new\n",
    "\n",
    "def reconstruct_eigenvector(cache, normalize = True, only_even = False):\n",
    "    ## Function to reconstruct the PDF using the cache obtained previously\n",
    "    \n",
    "    eigenvector = cache[\"eigenvector\"]\n",
    "    nmax = cache[\"nmax\"]\n",
    "    x0 = cache[\"x0\"]\n",
    "    dx = cache[\"dx\"]\n",
    "    L = cache[\"L\"]\n",
    "    \n",
    "    if not only_even:\n",
    "        eigenvector = cache[\"eigenvector\"]\n",
    "    else:\n",
    "        eigenvector_old = cache[\"eigenvector\"]\n",
    "        eigenvector = np.zeros(nmax + 1)\n",
    "        \n",
    "        for i in range(len(eigenvector_old)):\n",
    "            eigenvector[2*i] = eigenvector_old[i]\n",
    "\n",
    "    y = np.zeros(len(x0))\n",
    "\n",
    "    for i in range(len(x0)):\n",
    "        states = state_n(nmax, x0[i], L)\n",
    "        y[i] += (np.dot(states, eigenvector))\n",
    "    if normalize:   \n",
    "        y = normalize_probability(y, dx)\n",
    "        \n",
    "    return (x0, y)\n",
    "\n",
    "def find_zeromode(op_nonhermitian, nmax, x0, dx, L, which = \"single\", only_even = False):\n",
    "    ## Function to compute the zeromode, its position, and the eigenvalue corresponding to the zeromode\n",
    "    \n",
    "    assert which == \"nonhermitian\" or which == \"single\", \"Error: currently only supports which = {\\\"nonhermitian\\\", \\\"single\\\"}\"\n",
    "    \n",
    "    if only_even:\n",
    "        op_processed = make_operator_even(op_nonhermitian)\n",
    "    else:\n",
    "        op_processed = op_nonhermitian\n",
    "        \n",
    "    if which == \"nonhermitian\":\n",
    "        op = op_processed\n",
    "    elif which == \"single\":\n",
    "        op = np.dot(np.transpose(op_processed), op_processed)\n",
    "\n",
    "    eigenvalues, eigenvectors = la.eig(op)\n",
    "\n",
    "    index = np.argmin(np.real(eigenvalues)**2)\n",
    "\n",
    "    min_eigenval = eigenvalues[index]\n",
    "    \n",
    "    zeromode = eigenvectors[:, index]\n",
    "\n",
    "    return {\"operator\" : op, \"which\" : which, \\\n",
    "            \"eigenvector\" : np.real(zeromode), \"index\" : index, \"eigenvalue\" : np.real(min_eigenval), \\\n",
    "            \"nmax\" : nmax, \"x0\" : x0, \"dx\" : dx, \"L\" : L, \"spectrum\" : eigenvalues, \"P\" : eigenvectors}\n",
    "\n",
    "def rms_diff(y0, y, sigdigits = 0):\n",
    "    ## Function to compute the RMS difference between the analytically computed PDF and the one ...\n",
    "    ## ... obtained using the FPE operator\n",
    "    \n",
    "    assert len(y0) == len(y), \"Error: the length of y0 and y should be the same\"\n",
    "    diff = np.sum((y0-y)**2)/len(y0)\n",
    "    \n",
    "    return np.sqrt(diff)\n",
    "\n",
    "def analyze_collapse(initial_state, P, index):\n",
    "    num_basis = P.shape[1]\n",
    "    coefficients = np.zeros((num_basis, ))\n",
    "\n",
    "    for i in range(num_basis):\n",
    "        basis = P[:, i]\n",
    "        basis = normalize_eigenvector(basis)\n",
    "\n",
    "        coefficients[i] = np.dot(basis, initial_state)\n",
    "\n",
    "    normalized_coefficients = normalize_eigenvector(coefficients)\n",
    "\n",
    "    reconstruction = np.zeros((P.shape[0], ))\n",
    "\n",
    "    for i in range(num_basis):\n",
    "        basis = P[:, i]\n",
    "        basis = normalize_eigenvector(basis)\n",
    "\n",
    "        added_vector = coefficients[i] * basis\n",
    "        reconstruction = reconstruction + added_vector\n",
    "\n",
    "    probability = normalized_coefficients ** 2\n",
    "    \n",
    "    probability_zeromode = probability[index]\n",
    "    assert np.sum(probability) - 1 < 0.00001, \"Error: unity normalization of probability is not observed\"\n",
    "\n",
    "    print(\"The initial_state is: \")\n",
    "    print(initial_state)\n",
    "    print()\n",
    "\n",
    "    print(\"The coefficient expansion is: \")\n",
    "    print(coefficients)\n",
    "    print()\n",
    "\n",
    "    print(\"The normalized coefficient expansion is: \")\n",
    "    print(normalized_coefficients)\n",
    "    print()\n",
    "\n",
    "    print(\"The reconstructed vector is: \")\n",
    "    print(reconstruction)\n",
    "    print()\n",
    "\n",
    "    print(\"The probability of collapsing into each eigenvector is: \")\n",
    "    print(probability)\n",
    "    print()\n",
    "\n",
    "    print(\"The probability of collapsing into the zeromode is: \")\n",
    "    print(probability_zeromode)\n",
    "    print()\n",
    "    \n",
    "    return probability_zeromode, probability\n",
    "\n",
    "def get_unitary(matrix, add_half = False):\n",
    "    \"\"\"\n",
    "    Purpose: given a matrix, returns the unitary, hermitian matrix to be diagonalized\n",
    "    Input: matrix -> the matrix to be diagonalized\n",
    "    Output: U -> the unitary matrix\n",
    "            nqubits -> the number of qubis needed to represent the basis of U\n",
    "            dimension -> the dimension of the original matrix\n",
    "    \"\"\"\n",
    "    assert matrix.ndim == 2, \"Error: Only a matrix maybe processed\"\n",
    "    assert matrix.shape[0] == matrix.shape[1], \"Error: Only a square matrix maybe processed\"\n",
    "\n",
    "    if np.any(np.transpose(matrix) != matrix):\n",
    "        matrix_T = np.transpose(matrix)\n",
    "        matrix = np.dot(matrix_T, matrix)\n",
    "\n",
    "    ## Finding the dimension of the matrix\n",
    "    dimension_hermitian = matrix.shape[0]\n",
    "\n",
    "    ## Finding the number of qubits required to represent the matrix\n",
    "    nqubits = int(np.ceil(np.log2(dimension_hermitian)))\n",
    "\n",
    "    ## Construct the relevant matrix\n",
    "    op_dim = 2 ** nqubits\n",
    "    op = np.eye(op_dim)\n",
    "    op[0:dimension_hermitian, 0:dimension_hermitian] = np.copy(matrix)\n",
    "\n",
    "    if add_half:\n",
    "        op = op + np.pi * np.eye(op.shape[0])\n",
    "\n",
    "    U = la.expm(1j*op)\n",
    "\n",
    "    # Get the dimensions of the unitary matrix\n",
    "    dimension = U.shape[0]\n",
    "\n",
    "    return U, nqubits, dimension\n",
    "\n",
    "def expect_value(zeromode, matrix):\n",
    "    \n",
    "    value = np.dot(matrix, zeromode)\n",
    "    expect = np.dot(np.transpose(zeromode), value)\n",
    "    \n",
    "    return expect"
   ]
  },
  {
   "cell_type": "markdown",
   "id": "b0ca19f5-5c74-4922-8297-55fd8dfe15a7",
   "metadata": {},
   "source": [
    "## Helper functions"
   ]
  },
  {
   "cell_type": "code",
   "execution_count": 6,
   "id": "2e869e51-192b-4b7f-a778-332e5140143a",
   "metadata": {},
   "outputs": [],
   "source": [
    "def find_probability(eigenvector_raw):\n",
    "    \"\"\"\n",
    "    Purpose: Find the probability associated with each basis of an eigenvector\n",
    "    Input: eigenvector_raw -> Numpy array documenting the number of times each basis is detected within the eigenvector\n",
    "    Output: eigenvector_prob -> Numpy array documenting the probability of detecting each basis\n",
    "    \"\"\"\n",
    "    count_total = np.sum(eigenvector_raw)\n",
    "    eigenvector_prob = eigenvector_raw / count_total\n",
    "    \n",
    "    return eigenvector_prob\n",
    "\n",
    "def find_amplitude(eigenvector_prob):\n",
    "    \"\"\"\n",
    "    Purpose: Finding the probability amplitude of each basis using quantum mechanics\n",
    "    Input: eigenvector_prob -> Numpy array documenting the probability that each basis is measured\n",
    "    Output: eigenvector -> Numpy array representing the eigenvector\n",
    "    \"\"\"\n",
    "    eigenvector = np.sqrt(eigenvector_prob)\n",
    "    return eigenvector\n",
    "\n",
    "def normalize_eigenvector(vector):\n",
    "    \"\"\"\n",
    "    Purpose: Normalizes a vector such that its norm is 1\n",
    "    Input: vector -> The vector to be normalized\n",
    "    Output: vector -> The normalized vector\n",
    "    \"\"\"\n",
    "    L2 = np.sum(np.square(vector))\n",
    "    vector = vector / np.sqrt(L2)\n",
    "\n",
    "    return vector\n",
    "\n",
    "def make_operator_even(op):\n",
    "    op_new = np.zeros((op.shape[0]//2, op.shape[1]//2))\n",
    "\n",
    "    for row in range(op_new.shape[0]):\n",
    "        for col in range(op_new.shape[1]):\n",
    "            op_new[row, col] = op[row*2, col * 2]\n",
    "\n",
    "    return op_new\n",
    "\n",
    "def get_pdf(n, x, dx, L, shift, zeromode_qpe, normalize = True, make_even = False):\n",
    "    # Function to construct the ground state PDF using the VQSVD zeromode\n",
    "    \n",
    "    if not make_even:\n",
    "        eigenvector = zeromode_qpe\n",
    "    else:\n",
    "        eigenvector_old = zeromode_qpe\n",
    "        eigenvector = np.zeros(n + 1)\n",
    "        for i in range(len(eigenvector_old)):\n",
    "            eigenvector[2*i] = eigenvector_old[i]\n",
    "            \n",
    "    x0 = x - shift\n",
    "    \n",
    "    # Computing the PDF\n",
    "    y = np.zeros(len(x0))\n",
    "\n",
    "    for i in range(len(x0)):\n",
    "        states = state_n(nmax, x0[i], L)\n",
    "        y[i] += (np.dot(states, eigenvector))\n",
    "    \n",
    "    if normalize:\n",
    "        y = normalize_probability(y, dx)\n",
    "\n",
    "    return x0, y\n",
    "\n",
    "def compute_expectation_x_squared_simpson(x, y, n):\n",
    "    \"\"\"\n",
    "    Computes the expectation value of x^2 using Simpson's rule for numerical integration.\n",
    "    \n",
    "    Parameters:\n",
    "    x (array-like): Discrete values of x.\n",
    "    y (array-like): Corresponding values of the probability density function (PDF) at x.\n",
    "    \n",
    "    Returns:\n",
    "    float: The expectation value of x^2.\n",
    "    \"\"\"\n",
    "    # Ensure x and y are numpy arrays\n",
    "    x = np.array(x)\n",
    "    y = np.array(y)\n",
    "    \n",
    "    # Compute x^2\n",
    "    x_squared = x**n\n",
    "    \n",
    "    # Check if the number of intervals is even, if not make it even by truncating the last point\n",
    "    if len(x) % 2 == 0:\n",
    "        x = x[:-1]\n",
    "        y = y[:-1]\n",
    "        x_squared = x_squared[:-1]\n",
    "    \n",
    "    # Compute the integral using Simpson's rule\n",
    "    h = (x[-1] - x[0]) / (len(x) - 1)\n",
    "    integral = y[0] * x_squared[0] + y[-1] * x_squared[-1] + \\\n",
    "               4 * np.sum(y[1:-1:2] * x_squared[1:-1:2]) + \\\n",
    "               2 * np.sum(y[2:-2:2] * x_squared[2:-2:2])\n",
    "    integral *= h / 3\n",
    "    \n",
    "    return integral\n",
    "\n",
    "def get_pdf(n, x, dx, L, shift, zeromode_qpe, normalize = True, make_even = False):\n",
    "    # Function to construct the ground state PDF using the VQSVD zeromode\n",
    "    \n",
    "    if not make_even:\n",
    "        eigenvector = zeromode_qpe\n",
    "    else:\n",
    "        eigenvector_old = zeromode_qpe\n",
    "        eigenvector = np.zeros(n + 1)\n",
    "        for i in range(len(eigenvector_old)):\n",
    "            eigenvector[2*i] = eigenvector_old[i]\n",
    "            \n",
    "    x0 = x - shift\n",
    "    \n",
    "    # Computing the PDF\n",
    "    y = np.zeros(len(x0))\n",
    "\n",
    "    for i in range(len(x0)):\n",
    "        states = state_n(nmax, x0[i], L)\n",
    "        y[i] += (np.dot(states, eigenvector))\n",
    "    \n",
    "    if normalize:\n",
    "        y = normalize_probability(y, dx)\n",
    "\n",
    "    return x0, y\n",
    "\n",
    "# Fidelity measure 1\n",
    "def get_fidelity(zeromode_classic, zeromode_vqe):\n",
    "    # Function to compute the infidelity\n",
    "\n",
    "    overlap = np.dot(np.transpose(zeromode_vqe), zeromode_classic)\n",
    "    fidelity = 1 - overlap ** 2\n",
    "    return fidelity\n",
    "\n",
    "# Fidelity measure 2\n",
    "def get_similarity(a, b):\n",
    "    # Function to compute the similarity between 2 zeromodes\n",
    "    \n",
    "    numerator = np.abs(np.dot(a.conj().T, b))**2\n",
    "    denominator = np.linalg.norm(a)**2 * np.linalg.norm(b)**2\n",
    "    \n",
    "    return numerator / denominator\n",
    "\n",
    "def compute_errors(expect_classical, expect_quantum):\n",
    "\n",
    "    error = np.abs(expect_classical - expect_quantum) / expect_classical\n",
    "    return error"
   ]
  },
  {
   "cell_type": "markdown",
   "id": "29e77eee-2973-4895-9aff-d5e73900799a",
   "metadata": {},
   "source": [
    "## VQE implementation"
   ]
  },
  {
   "cell_type": "code",
   "execution_count": 8,
   "id": "d31e4807-b1bb-47be-bd28-6a98ab0dba8f",
   "metadata": {},
   "outputs": [],
   "source": [
    "# VQE run for a given ansatz and optimizer\n",
    "def run_vqe_ansatz_analysis(matrix, ansatz, optimizer, seed, exact_ground_state):\n",
    "\n",
    "    # Get the Pauli-decomposed form of the operator\n",
    "    qub_hamiltonian = SparsePauliOp.from_operator(matrix)\n",
    "    dimension = matrix.shape[0]\n",
    "    num_qubits = int(np.log2(dimension))\n",
    "\n",
    "    # Set up the random initial point\n",
    "    np.random.seed(seed)\n",
    "    initial_point = np.random.uniform(-np.pi, np.pi, ansatz.num_parameters)\n",
    "\n",
    "    # Initialize the Estimator primitive\n",
    "    estimator = Estimator()\n",
    "\n",
    "    # Logging class for VQE callback\n",
    "    @dataclass\n",
    "    class VQELog:\n",
    "        parameters: list\n",
    "        values: list\n",
    "        def update(self, count, parameters, mean, _metadata):\n",
    "            self.values.append(mean)\n",
    "            self.parameters.append(parameters)\n",
    "            \n",
    "    log = VQELog([], [])\n",
    "    \n",
    "    # Run VQE with the given ansatz and optimizer\n",
    "    vqe = VQE(estimator, ansatz, optimizer, initial_point=initial_point, callback=log.update)\n",
    "\n",
    "    # Get the VQE results\n",
    "    result = vqe.compute_minimum_eigenvalue(qub_hamiltonian)\n",
    "\n",
    "    # Get the number of optimizer function calls\n",
    "    num_calls = result.cost_function_evals\n",
    "\n",
    "    # Extract the optimal parameters and construct the state vector\n",
    "    optimal_params = result.optimal_point\n",
    "    final_circuit = ansatz.assign_parameters(optimal_params)\n",
    "    vqe_statevector = Statevector.from_instruction(final_circuit)\n",
    "\n",
    "     # Convert the quantum and classical zeromodes into 4 x 1 arrays\n",
    "    exact_ground_state = np.array(exact_ground_state).reshape((len(exact_ground_state), 1))\n",
    "    vqe_statevector = vqe_statevector.data.tolist()\n",
    "\n",
    "    if len(exact_ground_state) == 6:\n",
    "        vqe_statevector = vqe_statevector[:6]\n",
    "        zeromode = np.array(vqe_statevector).reshape((len(exact_ground_state), 1))\n",
    "        zeromode = np.real(zeromode)\n",
    "    \n",
    "        # Compute the fidelity measure\n",
    "        fidelity_value = get_similarity(exact_ground_state, zeromode)\n",
    "    \n",
    "    else:\n",
    "        zeromode = np.array(vqe_statevector).reshape((len(exact_ground_state), 1))\n",
    "        zeromode = np.real(zeromode)\n",
    "    \n",
    "        # Compute the fidelity measure\n",
    "        fidelity_value = get_similarity(exact_ground_state, zeromode)\n",
    "    \n",
    "    return zeromode, fidelity_value, num_calls"
   ]
  },
  {
   "cell_type": "markdown",
   "id": "8ffa0c48-faca-488e-ae88-f67576e4bece",
   "metadata": {},
   "source": [
    "## Compute the matrix and the zeromode"
   ]
  },
  {
   "cell_type": "code",
   "execution_count": 12,
   "id": "71cf6fcc-e068-4ce8-bfc4-2ca8eee6f6a0",
   "metadata": {},
   "outputs": [],
   "source": [
    "def get_zeromode(nmax, a, c, L, gamma):\n",
    "    # Function to construct the matrix and get the zeromode\n",
    "\n",
    "    #3, 5, 1, 1\n",
    "    dx = 0.01\n",
    "    x = np.linspace(-4, 4, int((8)/dx))\n",
    "    \n",
    "    ## Finding the zeromode through diagonalization\n",
    "    op_nonhermitian = create_operator_perturbed(nmax, L, a, c, gamma)\n",
    "    only_even = True\n",
    "    \n",
    "    # Matrix\n",
    "    cache_diagonalization = find_zeromode(op_nonhermitian, nmax, x, dx, L, which = \"single\", only_even = only_even)\n",
    "    matrix = cache_diagonalization['operator']\n",
    "\n",
    "    # Get the classical zeromode\n",
    "    A, P = la.eig(matrix)\n",
    "    \n",
    "    # Get the zeromode\n",
    "    A_real = np.real(A)\n",
    "    index = np.where(A_real == np.amin(A_real))[0][0]\n",
    "    \n",
    "    eigenvalue = A[index]\n",
    "    zeromode_classic = P[:, index]\n",
    "    \n",
    "    zeromode_classic = np.real(normalize_eigenvector(zeromode_classic))\n",
    "    zeromode_classic = np.reshape(zeromode_classic, (zeromode_classic.size, 1))\n",
    "\n",
    "    return matrix, zeromode_classic"
   ]
  },
  {
   "cell_type": "markdown",
   "id": "85d0dc62-8065-4911-a1d8-53e58ac60a02",
   "metadata": {},
   "source": [
    "### Evaluating performance metrics at multiple ansatz depths"
   ]
  },
  {
   "cell_type": "code",
   "execution_count": 15,
   "id": "81de0f8c-1e08-4d15-85cc-3daea0a37494",
   "metadata": {},
   "outputs": [],
   "source": [
    "def analyze_ansatz_performance(matrix, zeromode_classic, optimizer, num_qubits, max_depth):\n",
    "\n",
    "    # Initialize dictionaries to store results\n",
    "    zeromodes = {}\n",
    "    metrics = {}  # To store fidelity and function call counts\n",
    "\n",
    "    optimizer_name = optimizer.__class__.__name__\n",
    "\n",
    "    # Loop through each ansatz type\n",
    "    for AnsatzClass in [RealAmplitudes, TwoLocal, EfficientSU2]:\n",
    "        # Initialize ansatz with appropriate configurations\n",
    "        if AnsatzClass == RealAmplitudes:\n",
    "            ansatz = AnsatzClass(num_qubits=num_qubits, entanglement='full', reps=1)\n",
    "        elif AnsatzClass == TwoLocal:\n",
    "            ansatz = AnsatzClass(num_qubits=num_qubits, rotation_blocks=['ry'], entanglement_blocks='cx', reps=1)\n",
    "        elif AnsatzClass == EfficientSU2:\n",
    "            ansatz = AnsatzClass(num_qubits=num_qubits, su2_gates=['ry'], entanglement='sca', reps=1)\n",
    "\n",
    "        ansatz_name = AnsatzClass.__name__\n",
    "        pair_name = f\"{optimizer_name}-{ansatz_name}\"\n",
    "        print(f\"\\nRunning VQE for optimizer-ansatz pair: {pair_name}\")\n",
    "\n",
    "        # Initialize dictionaries to store depth-specific results\n",
    "        zeromodes[pair_name] = {}\n",
    "        metrics[pair_name] = {}\n",
    "\n",
    "        for current_depth in range(1, max_depth + 1):\n",
    "            # Set `reps` (depth) for the current ansatz\n",
    "            ansatz.reps = current_depth\n",
    "\n",
    "            # Temporary storage for the fidelity results\n",
    "            fidelities = []\n",
    "            function_calls = []  # To track the number of function calls for each run\n",
    "            all_zeromodes = []  # To store all zeromodes for the depth\n",
    "\n",
    "            # Perform multiple independent VQE runs to calculate fidelity and resource usage\n",
    "            for run in range(6):  # Number of independent runs\n",
    "                seed = run + 1  # Set a unique seed for each run\n",
    "\n",
    "                # Run VQE\n",
    "                zeromode, fidelity_value, function_call_count = run_vqe_ansatz_analysis(\n",
    "                    matrix=matrix, ansatz=ansatz, optimizer=optimizer, seed=seed,\n",
    "                    exact_ground_state=zeromode_classic)\n",
    "\n",
    "                # Append results\n",
    "                fidelities.append(fidelity_value)\n",
    "                function_calls.append(function_call_count)\n",
    "                all_zeromodes.append(zeromode)\n",
    "\n",
    "            # Identify the run with the highest fidelity at this depth\n",
    "            best_run_index = np.argmax(fidelities)\n",
    "            best_fidelity = fidelities[best_run_index]\n",
    "            best_zeromode = all_zeromodes[best_run_index]\n",
    "            best_function_calls = function_calls[best_run_index]\n",
    "\n",
    "            # Store results for the current depth\n",
    "            zeromodes[pair_name][current_depth] = best_zeromode\n",
    "            metrics[pair_name][current_depth] = {\n",
    "                'fidelity': best_fidelity,\n",
    "                'function_calls': best_function_calls\n",
    "            }\n",
    "\n",
    "            print(f\"{pair_name} - Depth {current_depth}: Best fidelity = {best_fidelity}, Function calls = {best_function_calls}, \\\n",
    "            Best zeromode: {best_zeromode}\")\n",
    "\n",
    "    return zeromodes, metrics"
   ]
  },
  {
   "cell_type": "markdown",
   "id": "68dfc502-dd34-4c4a-8cbf-6319c70d3f12",
   "metadata": {},
   "source": [
    "### Quantum (VQE) analysis\n",
    "\n",
    "### For a = 1 (N = 2) -- Non-Gaussian case\n",
    "\n",
    "### Get the matrix and the zeromode"
   ]
  },
  {
   "cell_type": "code",
   "execution_count": 18,
   "id": "85b8d193-4e5d-4124-8f8e-db791e116fb7",
   "metadata": {},
   "outputs": [
    {
     "name": "stdout",
     "output_type": "stream",
     "text": [
      "The matrix is:\n",
      "[[  5.765625   -21.34578596]\n",
      " [-21.34578596  79.265625  ]]\n",
      "\n",
      "The zeromode is:\n",
      "[[-0.96558703]\n",
      " [-0.26008015]]\n",
      "\n",
      "The value of <x^2> is:\n",
      "0.41050077276583463\n",
      "\n"
     ]
    },
    {
     "name": "stderr",
     "output_type": "stream",
     "text": [
      "C:\\Users\\Owner\\AppData\\Local\\Temp\\ipykernel_2916\\795971042.py:108: DeprecationWarning: Conversion of an array with ndim > 0 to a scalar is deprecated, and will error in future. Ensure you extract a single element from your array before performing this operation. (Deprecated NumPy 1.25.)\n",
      "  eigenvector[2*i] = eigenvector_old[i]\n"
     ]
    }
   ],
   "source": [
    "## Get the matrix and zeromode\n",
    "nmax = 3\n",
    "a = 1\n",
    "gamma = 1\n",
    "dx = 0.01\n",
    "c = 2\n",
    "L = 1/2\n",
    "x = np.linspace(-4, 4, int(8/dx))\n",
    "\n",
    "# Matrix and zeromode\n",
    "matrix, zeromode_classic = get_zeromode(nmax, a, c, L, gamma)\n",
    "\n",
    "## Print the matrix and zeromode\n",
    "print('The matrix is:')\n",
    "print(matrix)\n",
    "print()\n",
    "\n",
    "# Print the zeromode\n",
    "print('The zeromode is:')\n",
    "print(zeromode_classic)\n",
    "print()\n",
    "\n",
    "## Compute the classical <x^2> value\n",
    "x, y = get_pdf(nmax, x, dx, L, shift = 0, zeromode_qpe = zeromode_classic, normalize = True, make_even = True)\n",
    "classical_expectation = compute_expectation_x_squared_simpson(x, y, 2)\n",
    "\n",
    "# Print the classical expectation value\n",
    "print('The value of <x^2> is:')\n",
    "print(classical_expectation)\n",
    "print()"
   ]
  },
  {
   "cell_type": "markdown",
   "id": "0f8e0551-0b92-4cce-9127-3ef03bf09dab",
   "metadata": {},
   "source": [
    "### Run VQE for multiple ansatz depths (fix at 5000 optimization iterations) -- P_BFGS optimizer"
   ]
  },
  {
   "cell_type": "code",
   "execution_count": 27,
   "id": "46c4f942-02de-44cb-84c3-4decb418495d",
   "metadata": {},
   "outputs": [
    {
     "name": "stderr",
     "output_type": "stream",
     "text": [
      "For Windows, using only current process. Multiple core use not supported.\n"
     ]
    },
    {
     "name": "stdout",
     "output_type": "stream",
     "text": [
      "\n",
      "Running VQE for optimizer-ansatz pair: P_BFGS-RealAmplitudes\n"
     ]
    },
    {
     "name": "stderr",
     "output_type": "stream",
     "text": [
      "For Windows, using only current process. Multiple core use not supported.\n",
      "For Windows, using only current process. Multiple core use not supported.\n",
      "For Windows, using only current process. Multiple core use not supported.\n",
      "For Windows, using only current process. Multiple core use not supported.\n",
      "For Windows, using only current process. Multiple core use not supported.\n",
      "For Windows, using only current process. Multiple core use not supported.\n",
      "For Windows, using only current process. Multiple core use not supported.\n",
      "For Windows, using only current process. Multiple core use not supported.\n",
      "For Windows, using only current process. Multiple core use not supported.\n",
      "For Windows, using only current process. Multiple core use not supported.\n"
     ]
    },
    {
     "name": "stdout",
     "output_type": "stream",
     "text": [
      "P_BFGS-RealAmplitudes - Depth 1: Best fidelity = [[1.]], Function calls = 21,             Best zeromode: [[0.96558703]\n",
      " [0.26008014]]\n"
     ]
    },
    {
     "name": "stderr",
     "output_type": "stream",
     "text": [
      "For Windows, using only current process. Multiple core use not supported.\n",
      "For Windows, using only current process. Multiple core use not supported.\n",
      "For Windows, using only current process. Multiple core use not supported.\n",
      "For Windows, using only current process. Multiple core use not supported.\n",
      "For Windows, using only current process. Multiple core use not supported.\n",
      "For Windows, using only current process. Multiple core use not supported.\n",
      "For Windows, using only current process. Multiple core use not supported.\n",
      "For Windows, using only current process. Multiple core use not supported.\n",
      "For Windows, using only current process. Multiple core use not supported.\n",
      "For Windows, using only current process. Multiple core use not supported.\n",
      "For Windows, using only current process. Multiple core use not supported.\n"
     ]
    },
    {
     "name": "stdout",
     "output_type": "stream",
     "text": [
      "P_BFGS-RealAmplitudes - Depth 2: Best fidelity = [[1.]], Function calls = 28,             Best zeromode: [[-0.96558704]\n",
      " [-0.26008014]]\n"
     ]
    },
    {
     "name": "stderr",
     "output_type": "stream",
     "text": [
      "For Windows, using only current process. Multiple core use not supported.\n",
      "For Windows, using only current process. Multiple core use not supported.\n",
      "For Windows, using only current process. Multiple core use not supported.\n",
      "For Windows, using only current process. Multiple core use not supported.\n",
      "For Windows, using only current process. Multiple core use not supported.\n",
      "For Windows, using only current process. Multiple core use not supported.\n",
      "For Windows, using only current process. Multiple core use not supported.\n",
      "For Windows, using only current process. Multiple core use not supported.\n",
      "For Windows, using only current process. Multiple core use not supported.\n",
      "For Windows, using only current process. Multiple core use not supported.\n"
     ]
    },
    {
     "name": "stdout",
     "output_type": "stream",
     "text": [
      "P_BFGS-RealAmplitudes - Depth 3: Best fidelity = [[1.]], Function calls = 35,             Best zeromode: [[0.96558703]\n",
      " [0.26008014]]\n"
     ]
    },
    {
     "name": "stderr",
     "output_type": "stream",
     "text": [
      "For Windows, using only current process. Multiple core use not supported.\n",
      "For Windows, using only current process. Multiple core use not supported.\n",
      "For Windows, using only current process. Multiple core use not supported.\n",
      "For Windows, using only current process. Multiple core use not supported.\n",
      "For Windows, using only current process. Multiple core use not supported.\n",
      "For Windows, using only current process. Multiple core use not supported.\n",
      "For Windows, using only current process. Multiple core use not supported.\n",
      "For Windows, using only current process. Multiple core use not supported.\n",
      "For Windows, using only current process. Multiple core use not supported.\n",
      "For Windows, using only current process. Multiple core use not supported.\n"
     ]
    },
    {
     "name": "stdout",
     "output_type": "stream",
     "text": [
      "P_BFGS-RealAmplitudes - Depth 4: Best fidelity = [[1.]], Function calls = 66,             Best zeromode: [[-0.96558703]\n",
      " [-0.26008014]]\n"
     ]
    },
    {
     "name": "stderr",
     "output_type": "stream",
     "text": [
      "For Windows, using only current process. Multiple core use not supported.\n",
      "For Windows, using only current process. Multiple core use not supported.\n",
      "For Windows, using only current process. Multiple core use not supported.\n",
      "For Windows, using only current process. Multiple core use not supported.\n",
      "For Windows, using only current process. Multiple core use not supported.\n",
      "For Windows, using only current process. Multiple core use not supported.\n",
      "For Windows, using only current process. Multiple core use not supported.\n",
      "For Windows, using only current process. Multiple core use not supported.\n",
      "For Windows, using only current process. Multiple core use not supported.\n"
     ]
    },
    {
     "name": "stdout",
     "output_type": "stream",
     "text": [
      "P_BFGS-RealAmplitudes - Depth 5: Best fidelity = [[1.]], Function calls = 49,             Best zeromode: [[0.96558703]\n",
      " [0.26008015]]\n"
     ]
    },
    {
     "name": "stderr",
     "output_type": "stream",
     "text": [
      "For Windows, using only current process. Multiple core use not supported.\n",
      "For Windows, using only current process. Multiple core use not supported.\n",
      "For Windows, using only current process. Multiple core use not supported.\n",
      "For Windows, using only current process. Multiple core use not supported.\n",
      "For Windows, using only current process. Multiple core use not supported.\n",
      "For Windows, using only current process. Multiple core use not supported.\n",
      "For Windows, using only current process. Multiple core use not supported.\n",
      "For Windows, using only current process. Multiple core use not supported.\n",
      "For Windows, using only current process. Multiple core use not supported.\n",
      "For Windows, using only current process. Multiple core use not supported.\n",
      "For Windows, using only current process. Multiple core use not supported.\n",
      "For Windows, using only current process. Multiple core use not supported.\n"
     ]
    },
    {
     "name": "stdout",
     "output_type": "stream",
     "text": [
      "P_BFGS-RealAmplitudes - Depth 6: Best fidelity = [[1.]], Function calls = 56,             Best zeromode: [[-0.96558703]\n",
      " [-0.26008015]]\n",
      "\n",
      "Running VQE for optimizer-ansatz pair: P_BFGS-TwoLocal\n"
     ]
    },
    {
     "name": "stderr",
     "output_type": "stream",
     "text": [
      "For Windows, using only current process. Multiple core use not supported.\n",
      "For Windows, using only current process. Multiple core use not supported.\n",
      "For Windows, using only current process. Multiple core use not supported.\n",
      "For Windows, using only current process. Multiple core use not supported.\n",
      "For Windows, using only current process. Multiple core use not supported.\n",
      "For Windows, using only current process. Multiple core use not supported.\n",
      "For Windows, using only current process. Multiple core use not supported.\n",
      "For Windows, using only current process. Multiple core use not supported.\n",
      "For Windows, using only current process. Multiple core use not supported.\n"
     ]
    },
    {
     "name": "stdout",
     "output_type": "stream",
     "text": [
      "P_BFGS-TwoLocal - Depth 1: Best fidelity = [[1.]], Function calls = 21,             Best zeromode: [[-0.96558703]\n",
      " [-0.26008014]]\n"
     ]
    },
    {
     "name": "stderr",
     "output_type": "stream",
     "text": [
      "For Windows, using only current process. Multiple core use not supported.\n",
      "For Windows, using only current process. Multiple core use not supported.\n",
      "For Windows, using only current process. Multiple core use not supported.\n",
      "For Windows, using only current process. Multiple core use not supported.\n",
      "For Windows, using only current process. Multiple core use not supported.\n",
      "For Windows, using only current process. Multiple core use not supported.\n",
      "For Windows, using only current process. Multiple core use not supported.\n",
      "For Windows, using only current process. Multiple core use not supported.\n",
      "For Windows, using only current process. Multiple core use not supported.\n",
      "For Windows, using only current process. Multiple core use not supported.\n"
     ]
    },
    {
     "name": "stdout",
     "output_type": "stream",
     "text": [
      "P_BFGS-TwoLocal - Depth 2: Best fidelity = [[1.]], Function calls = 24,             Best zeromode: [[0.96558703]\n",
      " [0.26008014]]\n"
     ]
    },
    {
     "name": "stderr",
     "output_type": "stream",
     "text": [
      "For Windows, using only current process. Multiple core use not supported.\n",
      "For Windows, using only current process. Multiple core use not supported.\n",
      "For Windows, using only current process. Multiple core use not supported.\n",
      "For Windows, using only current process. Multiple core use not supported.\n",
      "For Windows, using only current process. Multiple core use not supported.\n",
      "For Windows, using only current process. Multiple core use not supported.\n",
      "For Windows, using only current process. Multiple core use not supported.\n",
      "For Windows, using only current process. Multiple core use not supported.\n",
      "For Windows, using only current process. Multiple core use not supported.\n",
      "For Windows, using only current process. Multiple core use not supported.\n"
     ]
    },
    {
     "name": "stdout",
     "output_type": "stream",
     "text": [
      "P_BFGS-TwoLocal - Depth 3: Best fidelity = [[1.]], Function calls = 25,             Best zeromode: [[0.96558703]\n",
      " [0.26008015]]\n"
     ]
    },
    {
     "name": "stderr",
     "output_type": "stream",
     "text": [
      "For Windows, using only current process. Multiple core use not supported.\n",
      "For Windows, using only current process. Multiple core use not supported.\n",
      "For Windows, using only current process. Multiple core use not supported.\n",
      "For Windows, using only current process. Multiple core use not supported.\n",
      "For Windows, using only current process. Multiple core use not supported.\n",
      "For Windows, using only current process. Multiple core use not supported.\n",
      "For Windows, using only current process. Multiple core use not supported.\n",
      "For Windows, using only current process. Multiple core use not supported.\n",
      "For Windows, using only current process. Multiple core use not supported.\n",
      "For Windows, using only current process. Multiple core use not supported.\n"
     ]
    },
    {
     "name": "stdout",
     "output_type": "stream",
     "text": [
      "P_BFGS-TwoLocal - Depth 4: Best fidelity = [[1.]], Function calls = 36,             Best zeromode: [[-0.96558704]\n",
      " [-0.26008013]]\n"
     ]
    },
    {
     "name": "stderr",
     "output_type": "stream",
     "text": [
      "For Windows, using only current process. Multiple core use not supported.\n",
      "For Windows, using only current process. Multiple core use not supported.\n",
      "For Windows, using only current process. Multiple core use not supported.\n",
      "For Windows, using only current process. Multiple core use not supported.\n",
      "For Windows, using only current process. Multiple core use not supported.\n",
      "For Windows, using only current process. Multiple core use not supported.\n",
      "For Windows, using only current process. Multiple core use not supported.\n",
      "For Windows, using only current process. Multiple core use not supported.\n",
      "For Windows, using only current process. Multiple core use not supported.\n"
     ]
    },
    {
     "name": "stdout",
     "output_type": "stream",
     "text": [
      "P_BFGS-TwoLocal - Depth 5: Best fidelity = [[1.]], Function calls = 42,             Best zeromode: [[0.96558703]\n",
      " [0.26008015]]\n"
     ]
    },
    {
     "name": "stderr",
     "output_type": "stream",
     "text": [
      "For Windows, using only current process. Multiple core use not supported.\n",
      "For Windows, using only current process. Multiple core use not supported.\n",
      "For Windows, using only current process. Multiple core use not supported.\n",
      "For Windows, using only current process. Multiple core use not supported.\n",
      "For Windows, using only current process. Multiple core use not supported.\n",
      "For Windows, using only current process. Multiple core use not supported.\n",
      "For Windows, using only current process. Multiple core use not supported.\n",
      "For Windows, using only current process. Multiple core use not supported.\n",
      "For Windows, using only current process. Multiple core use not supported.\n",
      "For Windows, using only current process. Multiple core use not supported.\n",
      "For Windows, using only current process. Multiple core use not supported.\n",
      "For Windows, using only current process. Multiple core use not supported.\n"
     ]
    },
    {
     "name": "stdout",
     "output_type": "stream",
     "text": [
      "P_BFGS-TwoLocal - Depth 6: Best fidelity = [[1.]], Function calls = 48,             Best zeromode: [[0.96558703]\n",
      " [0.26008015]]\n",
      "\n",
      "Running VQE for optimizer-ansatz pair: P_BFGS-EfficientSU2\n"
     ]
    },
    {
     "name": "stderr",
     "output_type": "stream",
     "text": [
      "For Windows, using only current process. Multiple core use not supported.\n",
      "For Windows, using only current process. Multiple core use not supported.\n",
      "For Windows, using only current process. Multiple core use not supported.\n",
      "For Windows, using only current process. Multiple core use not supported.\n",
      "For Windows, using only current process. Multiple core use not supported.\n",
      "For Windows, using only current process. Multiple core use not supported.\n",
      "For Windows, using only current process. Multiple core use not supported.\n",
      "For Windows, using only current process. Multiple core use not supported.\n",
      "For Windows, using only current process. Multiple core use not supported.\n",
      "For Windows, using only current process. Multiple core use not supported.\n"
     ]
    },
    {
     "name": "stdout",
     "output_type": "stream",
     "text": [
      "P_BFGS-EfficientSU2 - Depth 1: Best fidelity = [[1.]], Function calls = 21,             Best zeromode: [[0.96558703]\n",
      " [0.26008014]]\n"
     ]
    },
    {
     "name": "stderr",
     "output_type": "stream",
     "text": [
      "For Windows, using only current process. Multiple core use not supported.\n",
      "For Windows, using only current process. Multiple core use not supported.\n",
      "For Windows, using only current process. Multiple core use not supported.\n",
      "For Windows, using only current process. Multiple core use not supported.\n",
      "For Windows, using only current process. Multiple core use not supported.\n",
      "For Windows, using only current process. Multiple core use not supported.\n",
      "For Windows, using only current process. Multiple core use not supported.\n",
      "For Windows, using only current process. Multiple core use not supported.\n",
      "For Windows, using only current process. Multiple core use not supported.\n"
     ]
    },
    {
     "name": "stdout",
     "output_type": "stream",
     "text": [
      "P_BFGS-EfficientSU2 - Depth 2: Best fidelity = [[1.]], Function calls = 28,             Best zeromode: [[-0.96558704]\n",
      " [-0.26008014]]\n"
     ]
    },
    {
     "name": "stderr",
     "output_type": "stream",
     "text": [
      "For Windows, using only current process. Multiple core use not supported.\n",
      "For Windows, using only current process. Multiple core use not supported.\n",
      "For Windows, using only current process. Multiple core use not supported.\n",
      "For Windows, using only current process. Multiple core use not supported.\n",
      "For Windows, using only current process. Multiple core use not supported.\n",
      "For Windows, using only current process. Multiple core use not supported.\n",
      "For Windows, using only current process. Multiple core use not supported.\n",
      "For Windows, using only current process. Multiple core use not supported.\n",
      "For Windows, using only current process. Multiple core use not supported.\n",
      "For Windows, using only current process. Multiple core use not supported.\n"
     ]
    },
    {
     "name": "stdout",
     "output_type": "stream",
     "text": [
      "P_BFGS-EfficientSU2 - Depth 3: Best fidelity = [[1.]], Function calls = 35,             Best zeromode: [[0.96558703]\n",
      " [0.26008014]]\n"
     ]
    },
    {
     "name": "stderr",
     "output_type": "stream",
     "text": [
      "For Windows, using only current process. Multiple core use not supported.\n",
      "For Windows, using only current process. Multiple core use not supported.\n",
      "For Windows, using only current process. Multiple core use not supported.\n",
      "For Windows, using only current process. Multiple core use not supported.\n",
      "For Windows, using only current process. Multiple core use not supported.\n",
      "For Windows, using only current process. Multiple core use not supported.\n",
      "For Windows, using only current process. Multiple core use not supported.\n",
      "For Windows, using only current process. Multiple core use not supported.\n",
      "For Windows, using only current process. Multiple core use not supported.\n",
      "For Windows, using only current process. Multiple core use not supported.\n"
     ]
    },
    {
     "name": "stdout",
     "output_type": "stream",
     "text": [
      "P_BFGS-EfficientSU2 - Depth 4: Best fidelity = [[1.]], Function calls = 66,             Best zeromode: [[-0.96558703]\n",
      " [-0.26008014]]\n"
     ]
    },
    {
     "name": "stderr",
     "output_type": "stream",
     "text": [
      "For Windows, using only current process. Multiple core use not supported.\n",
      "For Windows, using only current process. Multiple core use not supported.\n",
      "For Windows, using only current process. Multiple core use not supported.\n",
      "For Windows, using only current process. Multiple core use not supported.\n",
      "For Windows, using only current process. Multiple core use not supported.\n",
      "For Windows, using only current process. Multiple core use not supported.\n",
      "For Windows, using only current process. Multiple core use not supported.\n",
      "For Windows, using only current process. Multiple core use not supported.\n",
      "For Windows, using only current process. Multiple core use not supported.\n"
     ]
    },
    {
     "name": "stdout",
     "output_type": "stream",
     "text": [
      "P_BFGS-EfficientSU2 - Depth 5: Best fidelity = [[1.]], Function calls = 49,             Best zeromode: [[0.96558703]\n",
      " [0.26008015]]\n"
     ]
    },
    {
     "name": "stderr",
     "output_type": "stream",
     "text": [
      "For Windows, using only current process. Multiple core use not supported.\n",
      "For Windows, using only current process. Multiple core use not supported.\n",
      "For Windows, using only current process. Multiple core use not supported.\n",
      "For Windows, using only current process. Multiple core use not supported.\n",
      "For Windows, using only current process. Multiple core use not supported.\n",
      "For Windows, using only current process. Multiple core use not supported.\n",
      "For Windows, using only current process. Multiple core use not supported.\n",
      "For Windows, using only current process. Multiple core use not supported.\n",
      "For Windows, using only current process. Multiple core use not supported.\n"
     ]
    },
    {
     "name": "stdout",
     "output_type": "stream",
     "text": [
      "P_BFGS-EfficientSU2 - Depth 6: Best fidelity = [[1.]], Function calls = 56,             Best zeromode: [[-0.96558703]\n",
      " [-0.26008015]]\n"
     ]
    }
   ],
   "source": [
    "## Get the optimizers\n",
    "maxiter = 5000\n",
    "optimizer = P_BFGS(maxfun = maxiter)\n",
    "\n",
    "# Define parameters\n",
    "dimension = matrix.shape[0]\n",
    "num_qubits = int(np.log2(dimension))\n",
    "max_depth = 6\n",
    "\n",
    "# Compute \n",
    "zeromodes_N_2, metrics_N_2 = analyze_ansatz_performance(matrix, zeromode_classic, optimizer, num_qubits, max_depth)"
   ]
  },
  {
   "cell_type": "markdown",
   "id": "1966ff5c-e332-41a4-b4b2-9f5fde2989e6",
   "metadata": {},
   "source": [
    "### Print the results"
   ]
  },
  {
   "cell_type": "code",
   "execution_count": 29,
   "id": "a9acf0e8-bbf5-439c-8d69-60a06c92dfe5",
   "metadata": {},
   "outputs": [
    {
     "name": "stdout",
     "output_type": "stream",
     "text": [
      "The best zeromodes are:\n",
      "{'P_BFGS-RealAmplitudes': {1: array([[0.96558703],\n",
      "       [0.26008014]]), 2: array([[-0.96558704],\n",
      "       [-0.26008014]]), 3: array([[0.96558703],\n",
      "       [0.26008014]]), 4: array([[-0.96558703],\n",
      "       [-0.26008014]]), 5: array([[0.96558703],\n",
      "       [0.26008015]]), 6: array([[-0.96558703],\n",
      "       [-0.26008015]])}, 'P_BFGS-TwoLocal': {1: array([[-0.96558703],\n",
      "       [-0.26008014]]), 2: array([[0.96558703],\n",
      "       [0.26008014]]), 3: array([[0.96558703],\n",
      "       [0.26008015]]), 4: array([[-0.96558704],\n",
      "       [-0.26008013]]), 5: array([[0.96558703],\n",
      "       [0.26008015]]), 6: array([[0.96558703],\n",
      "       [0.26008015]])}, 'P_BFGS-EfficientSU2': {1: array([[0.96558703],\n",
      "       [0.26008014]]), 2: array([[-0.96558704],\n",
      "       [-0.26008014]]), 3: array([[0.96558703],\n",
      "       [0.26008014]]), 4: array([[-0.96558703],\n",
      "       [-0.26008014]]), 5: array([[0.96558703],\n",
      "       [0.26008015]]), 6: array([[-0.96558703],\n",
      "       [-0.26008015]])}}\n",
      "\n",
      "The performance metrics are:\n",
      "{'P_BFGS-RealAmplitudes': {1: {'fidelity': array([[1.]]), 'function_calls': 21}, 2: {'fidelity': array([[1.]]), 'function_calls': 28}, 3: {'fidelity': array([[1.]]), 'function_calls': 35}, 4: {'fidelity': array([[1.]]), 'function_calls': 66}, 5: {'fidelity': array([[1.]]), 'function_calls': 49}, 6: {'fidelity': array([[1.]]), 'function_calls': 56}}, 'P_BFGS-TwoLocal': {1: {'fidelity': array([[1.]]), 'function_calls': 21}, 2: {'fidelity': array([[1.]]), 'function_calls': 24}, 3: {'fidelity': array([[1.]]), 'function_calls': 25}, 4: {'fidelity': array([[1.]]), 'function_calls': 36}, 5: {'fidelity': array([[1.]]), 'function_calls': 42}, 6: {'fidelity': array([[1.]]), 'function_calls': 48}}, 'P_BFGS-EfficientSU2': {1: {'fidelity': array([[1.]]), 'function_calls': 21}, 2: {'fidelity': array([[1.]]), 'function_calls': 28}, 3: {'fidelity': array([[1.]]), 'function_calls': 35}, 4: {'fidelity': array([[1.]]), 'function_calls': 66}, 5: {'fidelity': array([[1.]]), 'function_calls': 49}, 6: {'fidelity': array([[1.]]), 'function_calls': 56}}}\n",
      "\n"
     ]
    }
   ],
   "source": [
    "# Print the results\n",
    "print('The best zeromodes are:')\n",
    "print(zeromodes_N_2)\n",
    "print()\n",
    "\n",
    "print('The performance metrics are:')\n",
    "print(metrics_N_2)\n",
    "print()"
   ]
  },
  {
   "cell_type": "markdown",
   "id": "71c85a2c-6f76-46e1-839d-3710136b01a0",
   "metadata": {},
   "source": [
    "### Computing relative errors in <x^2>"
   ]
  },
  {
   "cell_type": "code",
   "execution_count": 31,
   "id": "c2f14257-ae46-4d8a-a24c-086a54990112",
   "metadata": {},
   "outputs": [
    {
     "name": "stderr",
     "output_type": "stream",
     "text": [
      "C:\\Users\\Owner\\AppData\\Local\\Temp\\ipykernel_9592\\795971042.py:108: DeprecationWarning: Conversion of an array with ndim > 0 to a scalar is deprecated, and will error in future. Ensure you extract a single element from your array before performing this operation. (Deprecated NumPy 1.25.)\n",
      "  eigenvector[2*i] = eigenvector_old[i]\n"
     ]
    },
    {
     "name": "stdout",
     "output_type": "stream",
     "text": [
      "The errors for RealAmplitudes are:\n",
      "[6.485065525859509e-09, 1.175356352773887e-08, 6.340211173568491e-09, 5.440752904338527e-09, 7.781326223080094e-09, 1.3829953216531535e-09]\n",
      "\n",
      "The errors for TwoLocal are:\n",
      "[7.518450111549826e-09, 1.0326035770413547e-08, 6.520989354381997e-09, 1.6450794440302076e-08, 1.1239354762612961e-09, 7.184408432425778e-09]\n",
      "\n",
      "The errors for EfficientSU2 are:\n",
      "[6.485065525859509e-09, 1.175356352773887e-08, 6.340211173568491e-09, 5.440752904338527e-09, 7.781326223080094e-09, 1.3829953216531535e-09]\n",
      "\n"
     ]
    }
   ],
   "source": [
    "# Get the zeromodes\n",
    "zeromodes = [\n",
    "    zeromode\n",
    "    for depths in zeromodes_N_2.values()\n",
    "    for zeromode in depths.values()\n",
    "]\n",
    "\n",
    "# Initialize\n",
    "relative_errors = []\n",
    "\n",
    "# Compute \n",
    "for zeromode in zeromodes:\n",
    "    x, y = get_pdf(nmax, x, dx, L, shift = 0, zeromode_qpe = zeromode, normalize = True, make_even = True)\n",
    "    \n",
    "    # Ensure quantum_expectation is a scalar\n",
    "    quantum_expectation = compute_expectation_x_squared_simpson(x, y, 2)\n",
    "    if isinstance(quantum_expectation, np.ndarray):\n",
    "        quantum_expectation = quantum_expectation.item()  # Convert to scalar if necessary\n",
    "    \n",
    "    # Compute the relative error\n",
    "    relative_error = compute_errors(classical_expectation, quantum_expectation)\n",
    "    relative_errors.append(relative_error)\n",
    "\n",
    "# Get the relative errors for the individual optimizers\n",
    "errors_realamps = relative_errors[:6]\n",
    "errors_twolocal = relative_errors[6:12]\n",
    "errors_efficientsu2 = relative_errors[12:18]\n",
    "\n",
    "## Print the relative errors\n",
    "print('The errors for RealAmplitudes are:')\n",
    "print(errors_realamps)\n",
    "print()\n",
    "\n",
    "print('The errors for TwoLocal are:')\n",
    "print(errors_twolocal)\n",
    "print()\n",
    "\n",
    "print('The errors for EfficientSU2 are:')\n",
    "print(errors_efficientsu2)\n",
    "print()"
   ]
  },
  {
   "cell_type": "markdown",
   "id": "db2eea46-4473-4c5d-abf2-79a40dad711c",
   "metadata": {},
   "source": [
    "### For N = 4\n",
    "\n",
    "### Get the matrix and the zeromode"
   ]
  },
  {
   "cell_type": "code",
   "execution_count": 69,
   "id": "ca0fe5fc-8277-45de-9be5-8b4033623838",
   "metadata": {},
   "outputs": [
    {
     "name": "stdout",
     "output_type": "stream",
     "text": [
      "The matrix is:\n",
      "[[   6.140625    -23.4671063    35.51760127   -9.22378041]\n",
      " [ -23.4671063    96.890625   -151.66269884  111.47028752]\n",
      " [  35.51760127 -151.66269884  376.140625   -354.47919269]\n",
      " [  -9.22378041  111.47028752 -354.47919269  972.890625  ]]\n",
      "\n",
      "The zeromode is:\n",
      "[[-0.97335411]\n",
      " [-0.22648723]\n",
      " [ 0.02489903]\n",
      " [ 0.02579447]]\n",
      "\n",
      "The value of <x^2> is:\n",
      "0.32868055910006333\n",
      "\n"
     ]
    },
    {
     "name": "stderr",
     "output_type": "stream",
     "text": [
      "C:\\Users\\Owner\\AppData\\Local\\Temp\\ipykernel_9592\\795971042.py:108: DeprecationWarning: Conversion of an array with ndim > 0 to a scalar is deprecated, and will error in future. Ensure you extract a single element from your array before performing this operation. (Deprecated NumPy 1.25.)\n",
      "  eigenvector[2*i] = eigenvector_old[i]\n"
     ]
    }
   ],
   "source": [
    "## Get the matrix and zeromode\n",
    "nmax = 7\n",
    "a = 1\n",
    "gamma = 1\n",
    "dx = 0.01\n",
    "c = 2\n",
    "L = 1/2\n",
    "x = np.linspace(-4, 4, int(8/dx))\n",
    "\n",
    "# Matrix and zeromode\n",
    "matrix, zeromode_classic = get_zeromode(nmax, a, c, L, gamma)\n",
    "\n",
    "## Print the matrix and zeromode\n",
    "print('The matrix is:')\n",
    "print(matrix)\n",
    "print()\n",
    "\n",
    "# Print the zeromode\n",
    "print('The zeromode is:')\n",
    "print(zeromode_classic)\n",
    "print()\n",
    "\n",
    "## Compute the classical <x^2> value\n",
    "x, y = get_pdf(nmax, x, dx, L, shift = 0, zeromode_qpe = zeromode_classic, normalize = True, make_even = True)\n",
    "classical_expectation = compute_expectation_x_squared_simpson(x, y, 2)\n",
    "\n",
    "# Print the classical expectation value\n",
    "print('The value of <x^2> is:')\n",
    "print(classical_expectation)\n",
    "print()"
   ]
  },
  {
   "cell_type": "markdown",
   "id": "dd4bb25b-0b27-4289-b7bc-7a3f0e3811d6",
   "metadata": {},
   "source": [
    "### Run VQE for multiple ansatz depths (fix at 5000 optimization iterations)"
   ]
  },
  {
   "cell_type": "code",
   "execution_count": 71,
   "id": "0e95068e-31ff-4b1a-a4d2-54819ba4d7ef",
   "metadata": {},
   "outputs": [
    {
     "name": "stderr",
     "output_type": "stream",
     "text": [
      "For Windows, using only current process. Multiple core use not supported.\n"
     ]
    },
    {
     "name": "stdout",
     "output_type": "stream",
     "text": [
      "\n",
      "Running VQE for optimizer-ansatz pair: P_BFGS-RealAmplitudes\n"
     ]
    },
    {
     "name": "stderr",
     "output_type": "stream",
     "text": [
      "For Windows, using only current process. Multiple core use not supported.\n",
      "For Windows, using only current process. Multiple core use not supported.\n",
      "For Windows, using only current process. Multiple core use not supported.\n",
      "For Windows, using only current process. Multiple core use not supported.\n",
      "For Windows, using only current process. Multiple core use not supported.\n",
      "For Windows, using only current process. Multiple core use not supported.\n",
      "For Windows, using only current process. Multiple core use not supported.\n",
      "For Windows, using only current process. Multiple core use not supported.\n",
      "For Windows, using only current process. Multiple core use not supported.\n",
      "For Windows, using only current process. Multiple core use not supported.\n"
     ]
    },
    {
     "name": "stdout",
     "output_type": "stream",
     "text": [
      "P_BFGS-RealAmplitudes - Depth 1: Best fidelity = [[1.]], Function calls = 185,             Best zeromode: [[ 0.97335408]\n",
      " [ 0.22648736]\n",
      " [-0.02489896]\n",
      " [-0.02579448]]\n"
     ]
    },
    {
     "name": "stderr",
     "output_type": "stream",
     "text": [
      "For Windows, using only current process. Multiple core use not supported.\n",
      "For Windows, using only current process. Multiple core use not supported.\n",
      "For Windows, using only current process. Multiple core use not supported.\n",
      "For Windows, using only current process. Multiple core use not supported.\n",
      "For Windows, using only current process. Multiple core use not supported.\n",
      "For Windows, using only current process. Multiple core use not supported.\n",
      "For Windows, using only current process. Multiple core use not supported.\n",
      "For Windows, using only current process. Multiple core use not supported.\n",
      "For Windows, using only current process. Multiple core use not supported.\n",
      "For Windows, using only current process. Multiple core use not supported.\n"
     ]
    },
    {
     "name": "stdout",
     "output_type": "stream",
     "text": [
      "P_BFGS-RealAmplitudes - Depth 2: Best fidelity = [[1.]], Function calls = 560,             Best zeromode: [[-0.97335411]\n",
      " [-0.22648724]\n",
      " [ 0.02489902]\n",
      " [ 0.02579445]]\n"
     ]
    },
    {
     "name": "stderr",
     "output_type": "stream",
     "text": [
      "For Windows, using only current process. Multiple core use not supported.\n",
      "For Windows, using only current process. Multiple core use not supported.\n",
      "For Windows, using only current process. Multiple core use not supported.\n",
      "For Windows, using only current process. Multiple core use not supported.\n",
      "For Windows, using only current process. Multiple core use not supported.\n",
      "For Windows, using only current process. Multiple core use not supported.\n",
      "For Windows, using only current process. Multiple core use not supported.\n",
      "For Windows, using only current process. Multiple core use not supported.\n",
      "For Windows, using only current process. Multiple core use not supported.\n",
      "For Windows, using only current process. Multiple core use not supported.\n"
     ]
    },
    {
     "name": "stdout",
     "output_type": "stream",
     "text": [
      "P_BFGS-RealAmplitudes - Depth 3: Best fidelity = [[1.]], Function calls = 711,             Best zeromode: [[ 0.97335411]\n",
      " [ 0.22648722]\n",
      " [-0.02489904]\n",
      " [-0.02579447]]\n"
     ]
    },
    {
     "name": "stderr",
     "output_type": "stream",
     "text": [
      "For Windows, using only current process. Multiple core use not supported.\n",
      "For Windows, using only current process. Multiple core use not supported.\n",
      "For Windows, using only current process. Multiple core use not supported.\n",
      "For Windows, using only current process. Multiple core use not supported.\n",
      "For Windows, using only current process. Multiple core use not supported.\n",
      "For Windows, using only current process. Multiple core use not supported.\n",
      "For Windows, using only current process. Multiple core use not supported.\n",
      "For Windows, using only current process. Multiple core use not supported.\n",
      "For Windows, using only current process. Multiple core use not supported.\n",
      "For Windows, using only current process. Multiple core use not supported.\n"
     ]
    },
    {
     "name": "stdout",
     "output_type": "stream",
     "text": [
      "P_BFGS-RealAmplitudes - Depth 4: Best fidelity = [[1.]], Function calls = 682,             Best zeromode: [[-0.97335411]\n",
      " [-0.22648723]\n",
      " [ 0.02489902]\n",
      " [ 0.02579446]]\n"
     ]
    },
    {
     "name": "stderr",
     "output_type": "stream",
     "text": [
      "For Windows, using only current process. Multiple core use not supported.\n",
      "For Windows, using only current process. Multiple core use not supported.\n",
      "For Windows, using only current process. Multiple core use not supported.\n",
      "For Windows, using only current process. Multiple core use not supported.\n",
      "For Windows, using only current process. Multiple core use not supported.\n",
      "For Windows, using only current process. Multiple core use not supported.\n",
      "For Windows, using only current process. Multiple core use not supported.\n",
      "For Windows, using only current process. Multiple core use not supported.\n",
      "For Windows, using only current process. Multiple core use not supported.\n",
      "For Windows, using only current process. Multiple core use not supported.\n"
     ]
    },
    {
     "name": "stdout",
     "output_type": "stream",
     "text": [
      "P_BFGS-RealAmplitudes - Depth 5: Best fidelity = [[1.]], Function calls = 1508,             Best zeromode: [[ 0.97335411]\n",
      " [ 0.22648723]\n",
      " [-0.02489903]\n",
      " [-0.02579446]]\n"
     ]
    },
    {
     "name": "stderr",
     "output_type": "stream",
     "text": [
      "For Windows, using only current process. Multiple core use not supported.\n",
      "For Windows, using only current process. Multiple core use not supported.\n",
      "For Windows, using only current process. Multiple core use not supported.\n",
      "For Windows, using only current process. Multiple core use not supported.\n",
      "For Windows, using only current process. Multiple core use not supported.\n",
      "For Windows, using only current process. Multiple core use not supported.\n",
      "For Windows, using only current process. Multiple core use not supported.\n",
      "For Windows, using only current process. Multiple core use not supported.\n",
      "For Windows, using only current process. Multiple core use not supported.\n",
      "For Windows, using only current process. Multiple core use not supported.\n"
     ]
    },
    {
     "name": "stdout",
     "output_type": "stream",
     "text": [
      "P_BFGS-RealAmplitudes - Depth 6: Best fidelity = [[1.]], Function calls = 1590,             Best zeromode: [[-0.97335411]\n",
      " [-0.22648721]\n",
      " [ 0.02489904]\n",
      " [ 0.02579446]]\n",
      "\n",
      "Running VQE for optimizer-ansatz pair: P_BFGS-TwoLocal\n"
     ]
    },
    {
     "name": "stderr",
     "output_type": "stream",
     "text": [
      "For Windows, using only current process. Multiple core use not supported.\n",
      "For Windows, using only current process. Multiple core use not supported.\n",
      "For Windows, using only current process. Multiple core use not supported.\n",
      "For Windows, using only current process. Multiple core use not supported.\n",
      "For Windows, using only current process. Multiple core use not supported.\n",
      "For Windows, using only current process. Multiple core use not supported.\n",
      "For Windows, using only current process. Multiple core use not supported.\n",
      "For Windows, using only current process. Multiple core use not supported.\n",
      "For Windows, using only current process. Multiple core use not supported.\n",
      "For Windows, using only current process. Multiple core use not supported.\n"
     ]
    },
    {
     "name": "stdout",
     "output_type": "stream",
     "text": [
      "P_BFGS-TwoLocal - Depth 1: Best fidelity = [[1.]], Function calls = 85,             Best zeromode: [[ 0.97335411]\n",
      " [ 0.22648721]\n",
      " [-0.02489903]\n",
      " [-0.02579445]]\n"
     ]
    },
    {
     "name": "stderr",
     "output_type": "stream",
     "text": [
      "For Windows, using only current process. Multiple core use not supported.\n",
      "For Windows, using only current process. Multiple core use not supported.\n",
      "For Windows, using only current process. Multiple core use not supported.\n",
      "For Windows, using only current process. Multiple core use not supported.\n",
      "For Windows, using only current process. Multiple core use not supported.\n",
      "For Windows, using only current process. Multiple core use not supported.\n",
      "For Windows, using only current process. Multiple core use not supported.\n",
      "For Windows, using only current process. Multiple core use not supported.\n",
      "For Windows, using only current process. Multiple core use not supported.\n",
      "For Windows, using only current process. Multiple core use not supported.\n"
     ]
    },
    {
     "name": "stdout",
     "output_type": "stream",
     "text": [
      "P_BFGS-TwoLocal - Depth 2: Best fidelity = [[1.]], Function calls = 441,             Best zeromode: [[ 0.9733541 ]\n",
      " [ 0.22648725]\n",
      " [-0.02489904]\n",
      " [-0.02579448]]\n"
     ]
    },
    {
     "name": "stderr",
     "output_type": "stream",
     "text": [
      "For Windows, using only current process. Multiple core use not supported.\n",
      "For Windows, using only current process. Multiple core use not supported.\n",
      "For Windows, using only current process. Multiple core use not supported.\n",
      "For Windows, using only current process. Multiple core use not supported.\n",
      "For Windows, using only current process. Multiple core use not supported.\n",
      "For Windows, using only current process. Multiple core use not supported.\n",
      "For Windows, using only current process. Multiple core use not supported.\n",
      "For Windows, using only current process. Multiple core use not supported.\n",
      "For Windows, using only current process. Multiple core use not supported.\n",
      "For Windows, using only current process. Multiple core use not supported.\n"
     ]
    },
    {
     "name": "stdout",
     "output_type": "stream",
     "text": [
      "P_BFGS-TwoLocal - Depth 3: Best fidelity = [[1.]], Function calls = 153,             Best zeromode: [[-0.97335411]\n",
      " [-0.22648724]\n",
      " [ 0.02489903]\n",
      " [ 0.02579446]]\n"
     ]
    },
    {
     "name": "stderr",
     "output_type": "stream",
     "text": [
      "For Windows, using only current process. Multiple core use not supported.\n",
      "For Windows, using only current process. Multiple core use not supported.\n",
      "For Windows, using only current process. Multiple core use not supported.\n",
      "For Windows, using only current process. Multiple core use not supported.\n",
      "For Windows, using only current process. Multiple core use not supported.\n",
      "For Windows, using only current process. Multiple core use not supported.\n",
      "For Windows, using only current process. Multiple core use not supported.\n",
      "For Windows, using only current process. Multiple core use not supported.\n",
      "For Windows, using only current process. Multiple core use not supported.\n",
      "For Windows, using only current process. Multiple core use not supported.\n"
     ]
    },
    {
     "name": "stdout",
     "output_type": "stream",
     "text": [
      "P_BFGS-TwoLocal - Depth 4: Best fidelity = [[1.]], Function calls = 583,             Best zeromode: [[-0.97335411]\n",
      " [-0.22648723]\n",
      " [ 0.02489903]\n",
      " [ 0.02579446]]\n"
     ]
    },
    {
     "name": "stderr",
     "output_type": "stream",
     "text": [
      "For Windows, using only current process. Multiple core use not supported.\n",
      "For Windows, using only current process. Multiple core use not supported.\n",
      "For Windows, using only current process. Multiple core use not supported.\n",
      "For Windows, using only current process. Multiple core use not supported.\n",
      "For Windows, using only current process. Multiple core use not supported.\n",
      "For Windows, using only current process. Multiple core use not supported.\n",
      "For Windows, using only current process. Multiple core use not supported.\n",
      "For Windows, using only current process. Multiple core use not supported.\n",
      "For Windows, using only current process. Multiple core use not supported.\n",
      "For Windows, using only current process. Multiple core use not supported.\n"
     ]
    },
    {
     "name": "stdout",
     "output_type": "stream",
     "text": [
      "P_BFGS-TwoLocal - Depth 5: Best fidelity = [[1.]], Function calls = 715,             Best zeromode: [[-0.97335411]\n",
      " [-0.22648723]\n",
      " [ 0.02489903]\n",
      " [ 0.02579447]]\n"
     ]
    },
    {
     "name": "stderr",
     "output_type": "stream",
     "text": [
      "For Windows, using only current process. Multiple core use not supported.\n",
      "For Windows, using only current process. Multiple core use not supported.\n",
      "For Windows, using only current process. Multiple core use not supported.\n",
      "For Windows, using only current process. Multiple core use not supported.\n",
      "For Windows, using only current process. Multiple core use not supported.\n",
      "For Windows, using only current process. Multiple core use not supported.\n",
      "For Windows, using only current process. Multiple core use not supported.\n",
      "For Windows, using only current process. Multiple core use not supported.\n",
      "For Windows, using only current process. Multiple core use not supported.\n",
      "For Windows, using only current process. Multiple core use not supported.\n"
     ]
    },
    {
     "name": "stdout",
     "output_type": "stream",
     "text": [
      "P_BFGS-TwoLocal - Depth 6: Best fidelity = [[1.]], Function calls = 930,             Best zeromode: [[-0.97335411]\n",
      " [-0.22648723]\n",
      " [ 0.02489902]\n",
      " [ 0.02579447]]\n",
      "\n",
      "Running VQE for optimizer-ansatz pair: P_BFGS-EfficientSU2\n"
     ]
    },
    {
     "name": "stderr",
     "output_type": "stream",
     "text": [
      "For Windows, using only current process. Multiple core use not supported.\n",
      "For Windows, using only current process. Multiple core use not supported.\n",
      "For Windows, using only current process. Multiple core use not supported.\n",
      "For Windows, using only current process. Multiple core use not supported.\n",
      "For Windows, using only current process. Multiple core use not supported.\n",
      "For Windows, using only current process. Multiple core use not supported.\n",
      "For Windows, using only current process. Multiple core use not supported.\n",
      "For Windows, using only current process. Multiple core use not supported.\n",
      "For Windows, using only current process. Multiple core use not supported.\n",
      "For Windows, using only current process. Multiple core use not supported.\n"
     ]
    },
    {
     "name": "stdout",
     "output_type": "stream",
     "text": [
      "P_BFGS-EfficientSU2 - Depth 1: Best fidelity = [[1.]], Function calls = 185,             Best zeromode: [[ 0.97335408]\n",
      " [ 0.22648736]\n",
      " [-0.02489896]\n",
      " [-0.02579448]]\n"
     ]
    },
    {
     "name": "stderr",
     "output_type": "stream",
     "text": [
      "For Windows, using only current process. Multiple core use not supported.\n",
      "For Windows, using only current process. Multiple core use not supported.\n",
      "For Windows, using only current process. Multiple core use not supported.\n",
      "For Windows, using only current process. Multiple core use not supported.\n",
      "For Windows, using only current process. Multiple core use not supported.\n",
      "For Windows, using only current process. Multiple core use not supported.\n",
      "For Windows, using only current process. Multiple core use not supported.\n",
      "For Windows, using only current process. Multiple core use not supported.\n",
      "For Windows, using only current process. Multiple core use not supported.\n",
      "For Windows, using only current process. Multiple core use not supported.\n"
     ]
    },
    {
     "name": "stdout",
     "output_type": "stream",
     "text": [
      "P_BFGS-EfficientSU2 - Depth 2: Best fidelity = [[1.]], Function calls = 357,             Best zeromode: [[-0.97335411]\n",
      " [-0.22648722]\n",
      " [ 0.02489905]\n",
      " [ 0.02579447]]\n"
     ]
    },
    {
     "name": "stderr",
     "output_type": "stream",
     "text": [
      "For Windows, using only current process. Multiple core use not supported.\n",
      "For Windows, using only current process. Multiple core use not supported.\n",
      "For Windows, using only current process. Multiple core use not supported.\n",
      "For Windows, using only current process. Multiple core use not supported.\n",
      "For Windows, using only current process. Multiple core use not supported.\n",
      "For Windows, using only current process. Multiple core use not supported.\n",
      "For Windows, using only current process. Multiple core use not supported.\n",
      "For Windows, using only current process. Multiple core use not supported.\n",
      "For Windows, using only current process. Multiple core use not supported.\n",
      "For Windows, using only current process. Multiple core use not supported.\n"
     ]
    },
    {
     "name": "stdout",
     "output_type": "stream",
     "text": [
      "P_BFGS-EfficientSU2 - Depth 3: Best fidelity = [[1.]], Function calls = 396,             Best zeromode: [[-0.97335411]\n",
      " [-0.22648723]\n",
      " [ 0.02489903]\n",
      " [ 0.02579447]]\n"
     ]
    },
    {
     "name": "stderr",
     "output_type": "stream",
     "text": [
      "For Windows, using only current process. Multiple core use not supported.\n",
      "For Windows, using only current process. Multiple core use not supported.\n",
      "For Windows, using only current process. Multiple core use not supported.\n",
      "For Windows, using only current process. Multiple core use not supported.\n",
      "For Windows, using only current process. Multiple core use not supported.\n",
      "For Windows, using only current process. Multiple core use not supported.\n",
      "For Windows, using only current process. Multiple core use not supported.\n",
      "For Windows, using only current process. Multiple core use not supported.\n",
      "For Windows, using only current process. Multiple core use not supported.\n",
      "For Windows, using only current process. Multiple core use not supported.\n"
     ]
    },
    {
     "name": "stdout",
     "output_type": "stream",
     "text": [
      "P_BFGS-EfficientSU2 - Depth 4: Best fidelity = [[1.]], Function calls = 935,             Best zeromode: [[ 0.97335411]\n",
      " [ 0.22648723]\n",
      " [-0.02489903]\n",
      " [-0.02579447]]\n"
     ]
    },
    {
     "name": "stderr",
     "output_type": "stream",
     "text": [
      "For Windows, using only current process. Multiple core use not supported.\n",
      "For Windows, using only current process. Multiple core use not supported.\n",
      "For Windows, using only current process. Multiple core use not supported.\n",
      "For Windows, using only current process. Multiple core use not supported.\n",
      "For Windows, using only current process. Multiple core use not supported.\n",
      "For Windows, using only current process. Multiple core use not supported.\n",
      "For Windows, using only current process. Multiple core use not supported.\n",
      "For Windows, using only current process. Multiple core use not supported.\n",
      "For Windows, using only current process. Multiple core use not supported.\n",
      "For Windows, using only current process. Multiple core use not supported.\n"
     ]
    },
    {
     "name": "stdout",
     "output_type": "stream",
     "text": [
      "P_BFGS-EfficientSU2 - Depth 5: Best fidelity = [[1.]], Function calls = 611,             Best zeromode: [[-0.9733541 ]\n",
      " [-0.22648725]\n",
      " [ 0.02489902]\n",
      " [ 0.02579447]]\n"
     ]
    },
    {
     "name": "stderr",
     "output_type": "stream",
     "text": [
      "For Windows, using only current process. Multiple core use not supported.\n",
      "For Windows, using only current process. Multiple core use not supported.\n",
      "For Windows, using only current process. Multiple core use not supported.\n",
      "For Windows, using only current process. Multiple core use not supported.\n",
      "For Windows, using only current process. Multiple core use not supported.\n",
      "For Windows, using only current process. Multiple core use not supported.\n",
      "For Windows, using only current process. Multiple core use not supported.\n",
      "For Windows, using only current process. Multiple core use not supported.\n",
      "For Windows, using only current process. Multiple core use not supported.\n"
     ]
    },
    {
     "name": "stdout",
     "output_type": "stream",
     "text": [
      "P_BFGS-EfficientSU2 - Depth 6: Best fidelity = [[1.]], Function calls = 660,             Best zeromode: [[-0.97335411]\n",
      " [-0.22648723]\n",
      " [ 0.02489904]\n",
      " [ 0.02579447]]\n"
     ]
    }
   ],
   "source": [
    "## Get the optimizers\n",
    "maxiter = 5000\n",
    "optimizer = P_BFGS(maxfun = maxiter)\n",
    "\n",
    "# Define parameters\n",
    "dimension = matrix.shape[0]\n",
    "num_qubits = int(np.log2(dimension))\n",
    "max_depth = 6\n",
    "\n",
    "# Compute \n",
    "zeromodes_N_4, metrics_N_4 = analyze_ansatz_performance(matrix, zeromode_classic, optimizer, num_qubits, max_depth)"
   ]
  },
  {
   "cell_type": "markdown",
   "id": "47026634-a963-4850-8030-98559474455b",
   "metadata": {},
   "source": [
    "### Print the results"
   ]
  },
  {
   "cell_type": "code",
   "execution_count": 73,
   "id": "ebaf7765-f22f-4f59-8554-9e4488a6cc42",
   "metadata": {},
   "outputs": [
    {
     "name": "stdout",
     "output_type": "stream",
     "text": [
      "The best zeromodes are:\n",
      "{'P_BFGS-RealAmplitudes': {1: array([[ 0.97335408],\n",
      "       [ 0.22648736],\n",
      "       [-0.02489896],\n",
      "       [-0.02579448]]), 2: array([[-0.97335411],\n",
      "       [-0.22648724],\n",
      "       [ 0.02489902],\n",
      "       [ 0.02579445]]), 3: array([[ 0.97335411],\n",
      "       [ 0.22648722],\n",
      "       [-0.02489904],\n",
      "       [-0.02579447]]), 4: array([[-0.97335411],\n",
      "       [-0.22648723],\n",
      "       [ 0.02489902],\n",
      "       [ 0.02579446]]), 5: array([[ 0.97335411],\n",
      "       [ 0.22648723],\n",
      "       [-0.02489903],\n",
      "       [-0.02579446]]), 6: array([[-0.97335411],\n",
      "       [-0.22648721],\n",
      "       [ 0.02489904],\n",
      "       [ 0.02579446]])}, 'P_BFGS-TwoLocal': {1: array([[ 0.97335411],\n",
      "       [ 0.22648721],\n",
      "       [-0.02489903],\n",
      "       [-0.02579445]]), 2: array([[ 0.9733541 ],\n",
      "       [ 0.22648725],\n",
      "       [-0.02489904],\n",
      "       [-0.02579448]]), 3: array([[-0.97335411],\n",
      "       [-0.22648724],\n",
      "       [ 0.02489903],\n",
      "       [ 0.02579446]]), 4: array([[-0.97335411],\n",
      "       [-0.22648723],\n",
      "       [ 0.02489903],\n",
      "       [ 0.02579446]]), 5: array([[-0.97335411],\n",
      "       [-0.22648723],\n",
      "       [ 0.02489903],\n",
      "       [ 0.02579447]]), 6: array([[-0.97335411],\n",
      "       [-0.22648723],\n",
      "       [ 0.02489902],\n",
      "       [ 0.02579447]])}, 'P_BFGS-EfficientSU2': {1: array([[ 0.97335408],\n",
      "       [ 0.22648736],\n",
      "       [-0.02489896],\n",
      "       [-0.02579448]]), 2: array([[-0.97335411],\n",
      "       [-0.22648722],\n",
      "       [ 0.02489905],\n",
      "       [ 0.02579447]]), 3: array([[-0.97335411],\n",
      "       [-0.22648723],\n",
      "       [ 0.02489903],\n",
      "       [ 0.02579447]]), 4: array([[ 0.97335411],\n",
      "       [ 0.22648723],\n",
      "       [-0.02489903],\n",
      "       [-0.02579447]]), 5: array([[-0.9733541 ],\n",
      "       [-0.22648725],\n",
      "       [ 0.02489902],\n",
      "       [ 0.02579447]]), 6: array([[-0.97335411],\n",
      "       [-0.22648723],\n",
      "       [ 0.02489904],\n",
      "       [ 0.02579447]])}}\n",
      "\n",
      "The performance metrics are:\n",
      "{'P_BFGS-RealAmplitudes': {1: {'fidelity': array([[1.]]), 'function_calls': 185}, 2: {'fidelity': array([[1.]]), 'function_calls': 560}, 3: {'fidelity': array([[1.]]), 'function_calls': 711}, 4: {'fidelity': array([[1.]]), 'function_calls': 682}, 5: {'fidelity': array([[1.]]), 'function_calls': 1508}, 6: {'fidelity': array([[1.]]), 'function_calls': 1590}}, 'P_BFGS-TwoLocal': {1: {'fidelity': array([[1.]]), 'function_calls': 85}, 2: {'fidelity': array([[1.]]), 'function_calls': 441}, 3: {'fidelity': array([[1.]]), 'function_calls': 153}, 4: {'fidelity': array([[1.]]), 'function_calls': 583}, 5: {'fidelity': array([[1.]]), 'function_calls': 715}, 6: {'fidelity': array([[1.]]), 'function_calls': 930}}, 'P_BFGS-EfficientSU2': {1: {'fidelity': array([[1.]]), 'function_calls': 185}, 2: {'fidelity': array([[1.]]), 'function_calls': 357}, 3: {'fidelity': array([[1.]]), 'function_calls': 396}, 4: {'fidelity': array([[1.]]), 'function_calls': 935}, 5: {'fidelity': array([[1.]]), 'function_calls': 611}, 6: {'fidelity': array([[1.]]), 'function_calls': 660}}}\n",
      "\n"
     ]
    }
   ],
   "source": [
    "# Print the results\n",
    "print('The best zeromodes are:')\n",
    "print(zeromodes_N_4)\n",
    "print()\n",
    "\n",
    "print('The performance metrics are:')\n",
    "print(metrics_N_4)\n",
    "print()"
   ]
  },
  {
   "cell_type": "markdown",
   "id": "0a35fb0c-08a6-40c8-8ecf-22b86832c00e",
   "metadata": {},
   "source": [
    "### Computing relative errors in <x^2>"
   ]
  },
  {
   "cell_type": "code",
   "execution_count": 75,
   "id": "1dd5152e-257a-47a1-bc04-19a698dd2740",
   "metadata": {},
   "outputs": [
    {
     "name": "stderr",
     "output_type": "stream",
     "text": [
      "C:\\Users\\Owner\\AppData\\Local\\Temp\\ipykernel_9592\\795971042.py:108: DeprecationWarning: Conversion of an array with ndim > 0 to a scalar is deprecated, and will error in future. Ensure you extract a single element from your array before performing this operation. (Deprecated NumPy 1.25.)\n",
      "  eigenvector[2*i] = eigenvector_old[i]\n"
     ]
    },
    {
     "name": "stdout",
     "output_type": "stream",
     "text": [
      "The errors for RealAmplitudes are:\n",
      "[4.225151467270674e-07, 1.2305205274640836e-07, 7.067765067259312e-08, 7.172066235568314e-08, 1.7222265177519086e-08, 3.237022767864794e-08]\n",
      "\n",
      "The errors for TwoLocal are:\n",
      "[7.341616759904789e-08, 1.414564862401792e-08, 4.7693864738350355e-08, 6.29983255889385e-08, 1.5628905649404547e-08, 3.442139737021861e-08]\n",
      "\n",
      "The errors for EfficientSU2 are:\n",
      "[4.225151467270674e-07, 7.830405261450795e-08, 6.17281161420991e-10, 1.1796256639449915e-09, 8.674358868405624e-08, 2.690135615342582e-08]\n",
      "\n"
     ]
    }
   ],
   "source": [
    "# Get the zeromodes\n",
    "zeromodes = [\n",
    "    zeromode\n",
    "    for depths in zeromodes_N_4.values()\n",
    "    for zeromode in depths.values()\n",
    "]\n",
    "\n",
    "# Initialize\n",
    "relative_errors = []\n",
    "\n",
    "# Compute \n",
    "for zeromode in zeromodes:\n",
    "    x, y = get_pdf(nmax, x, dx, L, shift = 0, zeromode_qpe = zeromode, normalize = True, make_even = True)\n",
    "    \n",
    "    # Ensure quantum_expectation is a scalar\n",
    "    quantum_expectation = compute_expectation_x_squared_simpson(x, y, 2)\n",
    "    if isinstance(quantum_expectation, np.ndarray):\n",
    "        quantum_expectation = quantum_expectation.item()  # Convert to scalar if necessary\n",
    "    \n",
    "    # Compute the relative error\n",
    "    relative_error = compute_errors(classical_expectation, quantum_expectation)\n",
    "    relative_errors.append(relative_error)\n",
    "\n",
    "# Get the relative errors for the individual optimizers\n",
    "errors_realamps = relative_errors[:6]\n",
    "errors_twolocal = relative_errors[6:12]\n",
    "errors_efficientsu2 = relative_errors[12:18]\n",
    "\n",
    "## Print the relative errors\n",
    "print('The errors for RealAmplitudes are:')\n",
    "print(errors_realamps)\n",
    "print()\n",
    "\n",
    "print('The errors for TwoLocal are:')\n",
    "print(errors_twolocal)\n",
    "print()\n",
    "\n",
    "print('The errors for EfficientSU2 are:')\n",
    "print(errors_efficientsu2)\n",
    "print()"
   ]
  },
  {
   "cell_type": "markdown",
   "id": "4fb884ea-ef21-4e4a-8271-44adcedf6b59",
   "metadata": {},
   "source": [
    "### For N = 8\n",
    "\n",
    "### Get the matrix and the zeromode"
   ]
  },
  {
   "cell_type": "code",
   "execution_count": 77,
   "id": "dbc5b698-021f-42b6-abc1-45793345a82e",
   "metadata": {},
   "outputs": [
    {
     "name": "stdout",
     "output_type": "stream",
     "text": [
      "The matrix is:\n",
      "[[ 6.14062500e+00 -2.34671063e+01  3.55176013e+01 -9.22378041e+00\n",
      "  -3.13747510e+00  0.00000000e+00  0.00000000e+00  0.00000000e+00]\n",
      " [-2.34671063e+01  9.68906250e+01 -1.51662699e+02  1.11470288e+02\n",
      "  -6.65558976e+01 -2.10468228e+01  0.00000000e+00  0.00000000e+00]\n",
      " [ 3.55176013e+01 -1.51662699e+02  4.02390625e+02 -3.54479193e+02\n",
      "   1.63951212e+02 -2.30876387e+02 -6.98044143e+01  0.00000000e+00]\n",
      " [-9.22378041e+00  1.11470288e+02 -3.54479193e+02  1.05164062e+03\n",
      "  -5.71772019e+02  1.15363556e+02 -5.86246269e+02 -1.71932490e+02]\n",
      " [-3.13747510e+00 -6.65558976e+01  1.63951212e+02 -5.71772019e+02\n",
      "   2.23364062e+03 -7.19516989e+02 -1.36244266e+02 -1.24067405e+03]\n",
      " [ 0.00000000e+00 -2.10468228e+01 -2.30876387e+02  1.15363556e+02\n",
      "  -7.19516989e+02  4.19739062e+03 -6.89706553e+02 -7.16860080e+02]\n",
      " [ 0.00000000e+00  0.00000000e+00 -6.98044143e+01 -5.86246269e+02\n",
      "  -1.36244266e+02 -6.89706553e+02  6.56939062e+03 -1.15978184e+03]\n",
      " [ 0.00000000e+00  0.00000000e+00  0.00000000e+00 -1.71932490e+02\n",
      "  -1.24067405e+03 -7.16860080e+02 -1.15978184e+03  9.65864062e+03]]\n",
      "\n",
      "The zeromode is:\n",
      "[[-9.70765847e-01]\n",
      " [-2.38641915e-01]\n",
      " [ 1.49872667e-02]\n",
      " [ 2.02525015e-02]\n",
      " [-4.87634140e-03]\n",
      " [-1.51995952e-03]\n",
      " [ 1.67450042e-03]\n",
      " [-1.77605778e-04]]\n",
      "\n",
      "The value of <x^2> is:\n",
      "0.36296427302630774\n",
      "\n"
     ]
    },
    {
     "name": "stderr",
     "output_type": "stream",
     "text": [
      "C:\\Users\\Owner\\AppData\\Local\\Temp\\ipykernel_9592\\795971042.py:108: DeprecationWarning: Conversion of an array with ndim > 0 to a scalar is deprecated, and will error in future. Ensure you extract a single element from your array before performing this operation. (Deprecated NumPy 1.25.)\n",
      "  eigenvector[2*i] = eigenvector_old[i]\n"
     ]
    }
   ],
   "source": [
    "## Get the matrix and zeromode\n",
    "nmax = 15\n",
    "a = 1\n",
    "gamma = 1\n",
    "dx = 0.01\n",
    "c = 2\n",
    "L = 1/2\n",
    "x = np.linspace(-4, 4, int(8/dx))\n",
    "\n",
    "# Matrix and zeromode\n",
    "matrix, zeromode_classic = get_zeromode(nmax, a, c, L, gamma)\n",
    "\n",
    "## Print the matrix and zeromode\n",
    "print('The matrix is:')\n",
    "print(matrix)\n",
    "print()\n",
    "\n",
    "# Print the zeromode\n",
    "print('The zeromode is:')\n",
    "print(zeromode_classic)\n",
    "print()\n",
    "\n",
    "## Compute the classical <x^2> value\n",
    "x, y = get_pdf(nmax, x, dx, L, shift = 0, zeromode_qpe = zeromode_classic, normalize = True, make_even = True)\n",
    "classical_expectation = compute_expectation_x_squared_simpson(x, y, 2)\n",
    "\n",
    "# Print the classical expectation value\n",
    "print('The value of <x^2> is:')\n",
    "print(classical_expectation)\n",
    "print()"
   ]
  },
  {
   "cell_type": "markdown",
   "id": "90d99b19-76db-48b2-ad70-8442c13a6d4b",
   "metadata": {},
   "source": [
    "### Run VQE for multiple ansatz depths (fix at 5000 optimization iterations)"
   ]
  },
  {
   "cell_type": "code",
   "execution_count": 79,
   "id": "d6e335e4-bc68-4dcd-9bc7-fa34b7af0af1",
   "metadata": {},
   "outputs": [
    {
     "name": "stderr",
     "output_type": "stream",
     "text": [
      "For Windows, using only current process. Multiple core use not supported.\n"
     ]
    },
    {
     "name": "stdout",
     "output_type": "stream",
     "text": [
      "\n",
      "Running VQE for optimizer-ansatz pair: P_BFGS-RealAmplitudes\n"
     ]
    },
    {
     "name": "stderr",
     "output_type": "stream",
     "text": [
      "For Windows, using only current process. Multiple core use not supported.\n",
      "For Windows, using only current process. Multiple core use not supported.\n",
      "For Windows, using only current process. Multiple core use not supported.\n",
      "For Windows, using only current process. Multiple core use not supported.\n",
      "For Windows, using only current process. Multiple core use not supported.\n",
      "For Windows, using only current process. Multiple core use not supported.\n",
      "For Windows, using only current process. Multiple core use not supported.\n",
      "For Windows, using only current process. Multiple core use not supported.\n",
      "For Windows, using only current process. Multiple core use not supported.\n",
      "For Windows, using only current process. Multiple core use not supported.\n"
     ]
    },
    {
     "name": "stdout",
     "output_type": "stream",
     "text": [
      "P_BFGS-RealAmplitudes - Depth 1: Best fidelity = [[0.99999956]], Function calls = 546,             Best zeromode: [[ 9.70878537e-01]\n",
      " [ 2.38167165e-01]\n",
      " [-1.53123227e-02]\n",
      " [-2.01793370e-02]\n",
      " [ 5.01936006e-03]\n",
      " [ 1.26992339e-03]\n",
      " [-1.64603055e-03]\n",
      " [ 2.79435156e-04]]\n"
     ]
    },
    {
     "name": "stderr",
     "output_type": "stream",
     "text": [
      "For Windows, using only current process. Multiple core use not supported.\n",
      "For Windows, using only current process. Multiple core use not supported.\n",
      "For Windows, using only current process. Multiple core use not supported.\n",
      "For Windows, using only current process. Multiple core use not supported.\n",
      "For Windows, using only current process. Multiple core use not supported.\n",
      "For Windows, using only current process. Multiple core use not supported.\n",
      "For Windows, using only current process. Multiple core use not supported.\n",
      "For Windows, using only current process. Multiple core use not supported.\n",
      "For Windows, using only current process. Multiple core use not supported.\n",
      "For Windows, using only current process. Multiple core use not supported.\n"
     ]
    },
    {
     "name": "stdout",
     "output_type": "stream",
     "text": [
      "P_BFGS-RealAmplitudes - Depth 2: Best fidelity = [[1.]], Function calls = 1500,             Best zeromode: [[ 9.70765924e-01]\n",
      " [ 2.38641589e-01]\n",
      " [-1.49874261e-02]\n",
      " [-2.02525324e-02]\n",
      " [ 4.87633794e-03]\n",
      " [ 1.51995847e-03]\n",
      " [-1.67449242e-03]\n",
      " [ 1.77619786e-04]]\n"
     ]
    },
    {
     "name": "stderr",
     "output_type": "stream",
     "text": [
      "For Windows, using only current process. Multiple core use not supported.\n",
      "For Windows, using only current process. Multiple core use not supported.\n",
      "For Windows, using only current process. Multiple core use not supported.\n",
      "For Windows, using only current process. Multiple core use not supported.\n",
      "For Windows, using only current process. Multiple core use not supported.\n",
      "For Windows, using only current process. Multiple core use not supported.\n",
      "For Windows, using only current process. Multiple core use not supported.\n",
      "For Windows, using only current process. Multiple core use not supported.\n",
      "For Windows, using only current process. Multiple core use not supported.\n",
      "For Windows, using only current process. Multiple core use not supported.\n"
     ]
    },
    {
     "name": "stdout",
     "output_type": "stream",
     "text": [
      "P_BFGS-RealAmplitudes - Depth 3: Best fidelity = [[1.]], Function calls = 3510,             Best zeromode: [[ 9.70767202e-01]\n",
      " [ 2.38635730e-01]\n",
      " [-1.49933433e-02]\n",
      " [-2.02567084e-02]\n",
      " [ 4.87319400e-03]\n",
      " [ 1.51835377e-03]\n",
      " [-1.67618943e-03]\n",
      " [ 1.74805648e-04]]\n"
     ]
    },
    {
     "name": "stderr",
     "output_type": "stream",
     "text": [
      "For Windows, using only current process. Multiple core use not supported.\n",
      "For Windows, using only current process. Multiple core use not supported.\n",
      "For Windows, using only current process. Multiple core use not supported.\n",
      "For Windows, using only current process. Multiple core use not supported.\n",
      "For Windows, using only current process. Multiple core use not supported.\n",
      "For Windows, using only current process. Multiple core use not supported.\n",
      "For Windows, using only current process. Multiple core use not supported.\n",
      "For Windows, using only current process. Multiple core use not supported.\n",
      "For Windows, using only current process. Multiple core use not supported.\n",
      "For Windows, using only current process. Multiple core use not supported.\n"
     ]
    },
    {
     "name": "stdout",
     "output_type": "stream",
     "text": [
      "P_BFGS-RealAmplitudes - Depth 4: Best fidelity = [[1.]], Function calls = 1264,             Best zeromode: [[-9.70765882e-01]\n",
      " [-2.38641779e-01]\n",
      " [ 1.49872463e-02]\n",
      " [ 2.02524635e-02]\n",
      " [-4.87631614e-03]\n",
      " [-1.51995675e-03]\n",
      " [ 1.67449389e-03]\n",
      " [-1.77603403e-04]]\n"
     ]
    },
    {
     "name": "stderr",
     "output_type": "stream",
     "text": [
      "For Windows, using only current process. Multiple core use not supported.\n",
      "For Windows, using only current process. Multiple core use not supported.\n",
      "For Windows, using only current process. Multiple core use not supported.\n",
      "For Windows, using only current process. Multiple core use not supported.\n",
      "For Windows, using only current process. Multiple core use not supported.\n",
      "For Windows, using only current process. Multiple core use not supported.\n",
      "For Windows, using only current process. Multiple core use not supported.\n",
      "For Windows, using only current process. Multiple core use not supported.\n",
      "For Windows, using only current process. Multiple core use not supported.\n",
      "For Windows, using only current process. Multiple core use not supported.\n"
     ]
    },
    {
     "name": "stdout",
     "output_type": "stream",
     "text": [
      "P_BFGS-RealAmplitudes - Depth 5: Best fidelity = [[1.]], Function calls = 1976,             Best zeromode: [[ 9.70765838e-01]\n",
      " [ 2.38641961e-01]\n",
      " [-1.49871534e-02]\n",
      " [-2.02524794e-02]\n",
      " [ 4.87636389e-03]\n",
      " [ 1.51997368e-03]\n",
      " [-1.67450045e-03]\n",
      " [ 1.77600036e-04]]\n"
     ]
    },
    {
     "name": "stderr",
     "output_type": "stream",
     "text": [
      "For Windows, using only current process. Multiple core use not supported.\n",
      "For Windows, using only current process. Multiple core use not supported.\n",
      "For Windows, using only current process. Multiple core use not supported.\n",
      "For Windows, using only current process. Multiple core use not supported.\n",
      "For Windows, using only current process. Multiple core use not supported.\n",
      "For Windows, using only current process. Multiple core use not supported.\n",
      "For Windows, using only current process. Multiple core use not supported.\n",
      "For Windows, using only current process. Multiple core use not supported.\n",
      "For Windows, using only current process. Multiple core use not supported.\n",
      "For Windows, using only current process. Multiple core use not supported.\n"
     ]
    },
    {
     "name": "stdout",
     "output_type": "stream",
     "text": [
      "P_BFGS-RealAmplitudes - Depth 6: Best fidelity = [[1.]], Function calls = 2046,             Best zeromode: [[-9.70765862e-01]\n",
      " [-2.38641852e-01]\n",
      " [ 1.49872970e-02]\n",
      " [ 2.02525264e-02]\n",
      " [-4.87629258e-03]\n",
      " [-1.51995491e-03]\n",
      " [ 1.67449707e-03]\n",
      " [-1.77598767e-04]]\n",
      "\n",
      "Running VQE for optimizer-ansatz pair: P_BFGS-TwoLocal\n"
     ]
    },
    {
     "name": "stderr",
     "output_type": "stream",
     "text": [
      "For Windows, using only current process. Multiple core use not supported.\n",
      "For Windows, using only current process. Multiple core use not supported.\n",
      "For Windows, using only current process. Multiple core use not supported.\n",
      "For Windows, using only current process. Multiple core use not supported.\n",
      "For Windows, using only current process. Multiple core use not supported.\n",
      "For Windows, using only current process. Multiple core use not supported.\n",
      "For Windows, using only current process. Multiple core use not supported.\n",
      "For Windows, using only current process. Multiple core use not supported.\n",
      "For Windows, using only current process. Multiple core use not supported.\n",
      "For Windows, using only current process. Multiple core use not supported.\n"
     ]
    },
    {
     "name": "stdout",
     "output_type": "stream",
     "text": [
      "P_BFGS-TwoLocal - Depth 1: Best fidelity = [[0.99999901]], Function calls = 1260,             Best zeromode: [[ 9.70933653e-01]\n",
      " [ 2.37912037e-01]\n",
      " [-1.55611418e-02]\n",
      " [-2.03809492e-02]\n",
      " [ 4.86224653e-03]\n",
      " [ 1.23012573e-03]\n",
      " [-1.73093786e-03]\n",
      " [ 1.48146815e-04]]\n"
     ]
    },
    {
     "name": "stderr",
     "output_type": "stream",
     "text": [
      "For Windows, using only current process. Multiple core use not supported.\n",
      "For Windows, using only current process. Multiple core use not supported.\n",
      "For Windows, using only current process. Multiple core use not supported.\n",
      "For Windows, using only current process. Multiple core use not supported.\n",
      "For Windows, using only current process. Multiple core use not supported.\n",
      "For Windows, using only current process. Multiple core use not supported.\n",
      "For Windows, using only current process. Multiple core use not supported.\n",
      "For Windows, using only current process. Multiple core use not supported.\n",
      "For Windows, using only current process. Multiple core use not supported.\n",
      "For Windows, using only current process. Multiple core use not supported.\n"
     ]
    },
    {
     "name": "stdout",
     "output_type": "stream",
     "text": [
      "P_BFGS-TwoLocal - Depth 2: Best fidelity = [[1.]], Function calls = 2750,             Best zeromode: [[ 9.70766254e-01]\n",
      " [ 2.38640114e-01]\n",
      " [-1.49886560e-02]\n",
      " [-2.02533201e-02]\n",
      " [ 4.87574792e-03]\n",
      " [ 1.51963879e-03]\n",
      " [-1.67480607e-03]\n",
      " [ 1.77104762e-04]]\n"
     ]
    },
    {
     "name": "stderr",
     "output_type": "stream",
     "text": [
      "For Windows, using only current process. Multiple core use not supported.\n",
      "For Windows, using only current process. Multiple core use not supported.\n",
      "For Windows, using only current process. Multiple core use not supported.\n",
      "For Windows, using only current process. Multiple core use not supported.\n",
      "For Windows, using only current process. Multiple core use not supported.\n",
      "For Windows, using only current process. Multiple core use not supported.\n",
      "For Windows, using only current process. Multiple core use not supported.\n",
      "For Windows, using only current process. Multiple core use not supported.\n",
      "For Windows, using only current process. Multiple core use not supported.\n",
      "For Windows, using only current process. Multiple core use not supported.\n"
     ]
    },
    {
     "name": "stdout",
     "output_type": "stream",
     "text": [
      "P_BFGS-TwoLocal - Depth 3: Best fidelity = [[1.]], Function calls = 1521,             Best zeromode: [[ 9.70765825e-01]\n",
      " [ 2.38642000e-01]\n",
      " [-1.49872777e-02]\n",
      " [-2.02525540e-02]\n",
      " [ 4.87632573e-03]\n",
      " [ 1.51993979e-03]\n",
      " [-1.67451499e-03]\n",
      " [ 1.77602488e-04]]\n"
     ]
    },
    {
     "name": "stderr",
     "output_type": "stream",
     "text": [
      "For Windows, using only current process. Multiple core use not supported.\n",
      "For Windows, using only current process. Multiple core use not supported.\n",
      "For Windows, using only current process. Multiple core use not supported.\n",
      "For Windows, using only current process. Multiple core use not supported.\n",
      "For Windows, using only current process. Multiple core use not supported.\n",
      "For Windows, using only current process. Multiple core use not supported.\n",
      "For Windows, using only current process. Multiple core use not supported.\n",
      "For Windows, using only current process. Multiple core use not supported.\n",
      "For Windows, using only current process. Multiple core use not supported.\n",
      "For Windows, using only current process. Multiple core use not supported.\n"
     ]
    },
    {
     "name": "stdout",
     "output_type": "stream",
     "text": [
      "P_BFGS-TwoLocal - Depth 4: Best fidelity = [[1.]], Function calls = 1488,             Best zeromode: [[-9.70765852e-01]\n",
      " [-2.38641879e-01]\n",
      " [ 1.49873906e-02]\n",
      " [ 2.02525823e-02]\n",
      " [-4.87631351e-03]\n",
      " [-1.51993386e-03]\n",
      " [ 1.67451086e-03]\n",
      " [-1.77611583e-04]]\n"
     ]
    },
    {
     "name": "stderr",
     "output_type": "stream",
     "text": [
      "For Windows, using only current process. Multiple core use not supported.\n",
      "For Windows, using only current process. Multiple core use not supported.\n",
      "For Windows, using only current process. Multiple core use not supported.\n",
      "For Windows, using only current process. Multiple core use not supported.\n",
      "For Windows, using only current process. Multiple core use not supported.\n",
      "For Windows, using only current process. Multiple core use not supported.\n",
      "For Windows, using only current process. Multiple core use not supported.\n",
      "For Windows, using only current process. Multiple core use not supported.\n",
      "For Windows, using only current process. Multiple core use not supported.\n",
      "For Windows, using only current process. Multiple core use not supported.\n"
     ]
    },
    {
     "name": "stdout",
     "output_type": "stream",
     "text": [
      "P_BFGS-TwoLocal - Depth 5: Best fidelity = [[1.]], Function calls = 2318,             Best zeromode: [[-9.70765854e-01]\n",
      " [-2.38641883e-01]\n",
      " [ 1.49873142e-02]\n",
      " [ 2.02525251e-02]\n",
      " [-4.87633671e-03]\n",
      " [-1.51995362e-03]\n",
      " [ 1.67451371e-03]\n",
      " [-1.77600107e-04]]\n"
     ]
    },
    {
     "name": "stderr",
     "output_type": "stream",
     "text": [
      "For Windows, using only current process. Multiple core use not supported.\n",
      "For Windows, using only current process. Multiple core use not supported.\n",
      "For Windows, using only current process. Multiple core use not supported.\n",
      "For Windows, using only current process. Multiple core use not supported.\n",
      "For Windows, using only current process. Multiple core use not supported.\n",
      "For Windows, using only current process. Multiple core use not supported.\n",
      "For Windows, using only current process. Multiple core use not supported.\n",
      "For Windows, using only current process. Multiple core use not supported.\n",
      "For Windows, using only current process. Multiple core use not supported.\n",
      "For Windows, using only current process. Multiple core use not supported.\n"
     ]
    },
    {
     "name": "stdout",
     "output_type": "stream",
     "text": [
      "P_BFGS-TwoLocal - Depth 6: Best fidelity = [[1.]], Function calls = 2442,             Best zeromode: [[-9.70765858e-01]\n",
      " [-2.38641873e-01]\n",
      " [ 1.49872142e-02]\n",
      " [ 2.02525332e-02]\n",
      " [-4.87631796e-03]\n",
      " [-1.51997058e-03]\n",
      " [ 1.67450069e-03]\n",
      " [-1.77605738e-04]]\n",
      "\n",
      "Running VQE for optimizer-ansatz pair: P_BFGS-EfficientSU2\n"
     ]
    },
    {
     "name": "stderr",
     "output_type": "stream",
     "text": [
      "For Windows, using only current process. Multiple core use not supported.\n",
      "For Windows, using only current process. Multiple core use not supported.\n",
      "For Windows, using only current process. Multiple core use not supported.\n",
      "For Windows, using only current process. Multiple core use not supported.\n",
      "For Windows, using only current process. Multiple core use not supported.\n",
      "For Windows, using only current process. Multiple core use not supported.\n",
      "For Windows, using only current process. Multiple core use not supported.\n",
      "For Windows, using only current process. Multiple core use not supported.\n",
      "For Windows, using only current process. Multiple core use not supported.\n",
      "For Windows, using only current process. Multiple core use not supported.\n"
     ]
    },
    {
     "name": "stdout",
     "output_type": "stream",
     "text": [
      "P_BFGS-EfficientSU2 - Depth 1: Best fidelity = [[0.999999]], Function calls = 441,             Best zeromode: [[ 9.70933814e-01]\n",
      " [ 2.37911066e-01]\n",
      " [-1.55632567e-02]\n",
      " [-2.03834247e-02]\n",
      " [ 4.86028030e-03]\n",
      " [ 1.22963692e-03]\n",
      " [-1.73191683e-03]\n",
      " [ 1.46447493e-04]]\n"
     ]
    },
    {
     "name": "stderr",
     "output_type": "stream",
     "text": [
      "For Windows, using only current process. Multiple core use not supported.\n",
      "For Windows, using only current process. Multiple core use not supported.\n",
      "For Windows, using only current process. Multiple core use not supported.\n",
      "For Windows, using only current process. Multiple core use not supported.\n",
      "For Windows, using only current process. Multiple core use not supported.\n",
      "For Windows, using only current process. Multiple core use not supported.\n",
      "For Windows, using only current process. Multiple core use not supported.\n",
      "For Windows, using only current process. Multiple core use not supported.\n",
      "For Windows, using only current process. Multiple core use not supported.\n",
      "For Windows, using only current process. Multiple core use not supported.\n"
     ]
    },
    {
     "name": "stdout",
     "output_type": "stream",
     "text": [
      "P_BFGS-EfficientSU2 - Depth 2: Best fidelity = [[1.]], Function calls = 1770,             Best zeromode: [[ 9.70765865e-01]\n",
      " [ 2.38641831e-01]\n",
      " [-1.49873803e-02]\n",
      " [-2.02525500e-02]\n",
      " [ 4.87629689e-03]\n",
      " [ 1.51993713e-03]\n",
      " [-1.67453425e-03]\n",
      " [ 1.77591947e-04]]\n"
     ]
    },
    {
     "name": "stderr",
     "output_type": "stream",
     "text": [
      "For Windows, using only current process. Multiple core use not supported.\n",
      "For Windows, using only current process. Multiple core use not supported.\n",
      "For Windows, using only current process. Multiple core use not supported.\n",
      "For Windows, using only current process. Multiple core use not supported.\n",
      "For Windows, using only current process. Multiple core use not supported.\n",
      "For Windows, using only current process. Multiple core use not supported.\n",
      "For Windows, using only current process. Multiple core use not supported.\n",
      "For Windows, using only current process. Multiple core use not supported.\n",
      "For Windows, using only current process. Multiple core use not supported.\n",
      "For Windows, using only current process. Multiple core use not supported.\n"
     ]
    },
    {
     "name": "stdout",
     "output_type": "stream",
     "text": [
      "P_BFGS-EfficientSU2 - Depth 3: Best fidelity = [[1.]], Function calls = 1547,             Best zeromode: [[ 9.70765853e-01]\n",
      " [ 2.38641898e-01]\n",
      " [-1.49872175e-02]\n",
      " [-2.02524454e-02]\n",
      " [ 4.87635288e-03]\n",
      " [ 1.51998059e-03]\n",
      " [-1.67448962e-03]\n",
      " [ 1.77602489e-04]]\n"
     ]
    },
    {
     "name": "stderr",
     "output_type": "stream",
     "text": [
      "For Windows, using only current process. Multiple core use not supported.\n",
      "For Windows, using only current process. Multiple core use not supported.\n",
      "For Windows, using only current process. Multiple core use not supported.\n",
      "For Windows, using only current process. Multiple core use not supported.\n",
      "For Windows, using only current process. Multiple core use not supported.\n",
      "For Windows, using only current process. Multiple core use not supported.\n",
      "For Windows, using only current process. Multiple core use not supported.\n",
      "For Windows, using only current process. Multiple core use not supported.\n",
      "For Windows, using only current process. Multiple core use not supported.\n",
      "For Windows, using only current process. Multiple core use not supported.\n"
     ]
    },
    {
     "name": "stdout",
     "output_type": "stream",
     "text": [
      "P_BFGS-EfficientSU2 - Depth 4: Best fidelity = [[1.]], Function calls = 2048,             Best zeromode: [[ 9.70766013e-01]\n",
      " [ 2.38641228e-01]\n",
      " [-1.49874489e-02]\n",
      " [-2.02525309e-02]\n",
      " [ 4.87629712e-03]\n",
      " [ 1.51994334e-03]\n",
      " [-1.67451763e-03]\n",
      " [ 1.77600033e-04]]\n"
     ]
    },
    {
     "name": "stderr",
     "output_type": "stream",
     "text": [
      "For Windows, using only current process. Multiple core use not supported.\n",
      "For Windows, using only current process. Multiple core use not supported.\n",
      "For Windows, using only current process. Multiple core use not supported.\n",
      "For Windows, using only current process. Multiple core use not supported.\n",
      "For Windows, using only current process. Multiple core use not supported.\n",
      "For Windows, using only current process. Multiple core use not supported.\n",
      "For Windows, using only current process. Multiple core use not supported.\n",
      "For Windows, using only current process. Multiple core use not supported.\n",
      "For Windows, using only current process. Multiple core use not supported.\n",
      "For Windows, using only current process. Multiple core use not supported.\n"
     ]
    },
    {
     "name": "stdout",
     "output_type": "stream",
     "text": [
      "P_BFGS-EfficientSU2 - Depth 5: Best fidelity = [[1.]], Function calls = 1444,             Best zeromode: [[-9.70765903e-01]\n",
      " [-2.38641712e-01]\n",
      " [ 1.49870880e-02]\n",
      " [ 2.02523165e-02]\n",
      " [-4.87637131e-03]\n",
      " [-1.52016465e-03]\n",
      " [ 1.67445998e-03]\n",
      " [-1.77623633e-04]]\n"
     ]
    },
    {
     "name": "stderr",
     "output_type": "stream",
     "text": [
      "For Windows, using only current process. Multiple core use not supported.\n",
      "For Windows, using only current process. Multiple core use not supported.\n",
      "For Windows, using only current process. Multiple core use not supported.\n",
      "For Windows, using only current process. Multiple core use not supported.\n",
      "For Windows, using only current process. Multiple core use not supported.\n",
      "For Windows, using only current process. Multiple core use not supported.\n",
      "For Windows, using only current process. Multiple core use not supported.\n",
      "For Windows, using only current process. Multiple core use not supported.\n",
      "For Windows, using only current process. Multiple core use not supported.\n"
     ]
    },
    {
     "name": "stdout",
     "output_type": "stream",
     "text": [
      "P_BFGS-EfficientSU2 - Depth 6: Best fidelity = [[1.]], Function calls = 2134,             Best zeromode: [[ 9.70765844e-01]\n",
      " [ 2.38641929e-01]\n",
      " [-1.49872551e-02]\n",
      " [-2.02524678e-02]\n",
      " [ 4.87637256e-03]\n",
      " [ 1.51995647e-03]\n",
      " [-1.67449420e-03]\n",
      " [ 1.77606472e-04]]\n"
     ]
    }
   ],
   "source": [
    "## Get the optimizers\n",
    "maxiter = 5000\n",
    "optimizer = P_BFGS(maxfun = maxiter)\n",
    "\n",
    "# Define parameters\n",
    "dimension = matrix.shape[0]\n",
    "num_qubits = int(np.log2(dimension))\n",
    "max_depth = 6\n",
    "\n",
    "# Compute \n",
    "zeromodes_N_8, metrics_N_8 = analyze_ansatz_performance(matrix, zeromode_classic, optimizer, num_qubits, max_depth)"
   ]
  },
  {
   "cell_type": "markdown",
   "id": "c2b52ae8-471e-4119-96b9-411c02b54f0b",
   "metadata": {},
   "source": [
    "### Print the results"
   ]
  },
  {
   "cell_type": "code",
   "execution_count": 81,
   "id": "021fdbb5-4846-44f7-8e17-f7362d62cbe3",
   "metadata": {},
   "outputs": [
    {
     "name": "stdout",
     "output_type": "stream",
     "text": [
      "The best zeromodes are:\n",
      "{'P_BFGS-RealAmplitudes': {1: array([[ 9.70878537e-01],\n",
      "       [ 2.38167165e-01],\n",
      "       [-1.53123227e-02],\n",
      "       [-2.01793370e-02],\n",
      "       [ 5.01936006e-03],\n",
      "       [ 1.26992339e-03],\n",
      "       [-1.64603055e-03],\n",
      "       [ 2.79435156e-04]]), 2: array([[ 9.70765924e-01],\n",
      "       [ 2.38641589e-01],\n",
      "       [-1.49874261e-02],\n",
      "       [-2.02525324e-02],\n",
      "       [ 4.87633794e-03],\n",
      "       [ 1.51995847e-03],\n",
      "       [-1.67449242e-03],\n",
      "       [ 1.77619786e-04]]), 3: array([[ 9.70767202e-01],\n",
      "       [ 2.38635730e-01],\n",
      "       [-1.49933433e-02],\n",
      "       [-2.02567084e-02],\n",
      "       [ 4.87319400e-03],\n",
      "       [ 1.51835377e-03],\n",
      "       [-1.67618943e-03],\n",
      "       [ 1.74805648e-04]]), 4: array([[-9.70765882e-01],\n",
      "       [-2.38641779e-01],\n",
      "       [ 1.49872463e-02],\n",
      "       [ 2.02524635e-02],\n",
      "       [-4.87631614e-03],\n",
      "       [-1.51995675e-03],\n",
      "       [ 1.67449389e-03],\n",
      "       [-1.77603403e-04]]), 5: array([[ 9.70765838e-01],\n",
      "       [ 2.38641961e-01],\n",
      "       [-1.49871534e-02],\n",
      "       [-2.02524794e-02],\n",
      "       [ 4.87636389e-03],\n",
      "       [ 1.51997368e-03],\n",
      "       [-1.67450045e-03],\n",
      "       [ 1.77600036e-04]]), 6: array([[-9.70765862e-01],\n",
      "       [-2.38641852e-01],\n",
      "       [ 1.49872970e-02],\n",
      "       [ 2.02525264e-02],\n",
      "       [-4.87629258e-03],\n",
      "       [-1.51995491e-03],\n",
      "       [ 1.67449707e-03],\n",
      "       [-1.77598767e-04]])}, 'P_BFGS-TwoLocal': {1: array([[ 9.70933653e-01],\n",
      "       [ 2.37912037e-01],\n",
      "       [-1.55611418e-02],\n",
      "       [-2.03809492e-02],\n",
      "       [ 4.86224653e-03],\n",
      "       [ 1.23012573e-03],\n",
      "       [-1.73093786e-03],\n",
      "       [ 1.48146815e-04]]), 2: array([[ 9.70766254e-01],\n",
      "       [ 2.38640114e-01],\n",
      "       [-1.49886560e-02],\n",
      "       [-2.02533201e-02],\n",
      "       [ 4.87574792e-03],\n",
      "       [ 1.51963879e-03],\n",
      "       [-1.67480607e-03],\n",
      "       [ 1.77104762e-04]]), 3: array([[ 9.70765825e-01],\n",
      "       [ 2.38642000e-01],\n",
      "       [-1.49872777e-02],\n",
      "       [-2.02525540e-02],\n",
      "       [ 4.87632573e-03],\n",
      "       [ 1.51993979e-03],\n",
      "       [-1.67451499e-03],\n",
      "       [ 1.77602488e-04]]), 4: array([[-9.70765852e-01],\n",
      "       [-2.38641879e-01],\n",
      "       [ 1.49873906e-02],\n",
      "       [ 2.02525823e-02],\n",
      "       [-4.87631351e-03],\n",
      "       [-1.51993386e-03],\n",
      "       [ 1.67451086e-03],\n",
      "       [-1.77611583e-04]]), 5: array([[-9.70765854e-01],\n",
      "       [-2.38641883e-01],\n",
      "       [ 1.49873142e-02],\n",
      "       [ 2.02525251e-02],\n",
      "       [-4.87633671e-03],\n",
      "       [-1.51995362e-03],\n",
      "       [ 1.67451371e-03],\n",
      "       [-1.77600107e-04]]), 6: array([[-9.70765858e-01],\n",
      "       [-2.38641873e-01],\n",
      "       [ 1.49872142e-02],\n",
      "       [ 2.02525332e-02],\n",
      "       [-4.87631796e-03],\n",
      "       [-1.51997058e-03],\n",
      "       [ 1.67450069e-03],\n",
      "       [-1.77605738e-04]])}, 'P_BFGS-EfficientSU2': {1: array([[ 9.70933814e-01],\n",
      "       [ 2.37911066e-01],\n",
      "       [-1.55632567e-02],\n",
      "       [-2.03834247e-02],\n",
      "       [ 4.86028030e-03],\n",
      "       [ 1.22963692e-03],\n",
      "       [-1.73191683e-03],\n",
      "       [ 1.46447493e-04]]), 2: array([[ 9.70765865e-01],\n",
      "       [ 2.38641831e-01],\n",
      "       [-1.49873803e-02],\n",
      "       [-2.02525500e-02],\n",
      "       [ 4.87629689e-03],\n",
      "       [ 1.51993713e-03],\n",
      "       [-1.67453425e-03],\n",
      "       [ 1.77591947e-04]]), 3: array([[ 9.70765853e-01],\n",
      "       [ 2.38641898e-01],\n",
      "       [-1.49872175e-02],\n",
      "       [-2.02524454e-02],\n",
      "       [ 4.87635288e-03],\n",
      "       [ 1.51998059e-03],\n",
      "       [-1.67448962e-03],\n",
      "       [ 1.77602489e-04]]), 4: array([[ 9.70766013e-01],\n",
      "       [ 2.38641228e-01],\n",
      "       [-1.49874489e-02],\n",
      "       [-2.02525309e-02],\n",
      "       [ 4.87629712e-03],\n",
      "       [ 1.51994334e-03],\n",
      "       [-1.67451763e-03],\n",
      "       [ 1.77600033e-04]]), 5: array([[-9.70765903e-01],\n",
      "       [-2.38641712e-01],\n",
      "       [ 1.49870880e-02],\n",
      "       [ 2.02523165e-02],\n",
      "       [-4.87637131e-03],\n",
      "       [-1.52016465e-03],\n",
      "       [ 1.67445998e-03],\n",
      "       [-1.77623633e-04]]), 6: array([[ 9.70765844e-01],\n",
      "       [ 2.38641929e-01],\n",
      "       [-1.49872551e-02],\n",
      "       [-2.02524678e-02],\n",
      "       [ 4.87637256e-03],\n",
      "       [ 1.51995647e-03],\n",
      "       [-1.67449420e-03],\n",
      "       [ 1.77606472e-04]])}}\n",
      "\n",
      "The performance metrics are:\n",
      "{'P_BFGS-RealAmplitudes': {1: {'fidelity': array([[0.99999956]]), 'function_calls': 546}, 2: {'fidelity': array([[1.]]), 'function_calls': 1500}, 3: {'fidelity': array([[1.]]), 'function_calls': 3510}, 4: {'fidelity': array([[1.]]), 'function_calls': 1264}, 5: {'fidelity': array([[1.]]), 'function_calls': 1976}, 6: {'fidelity': array([[1.]]), 'function_calls': 2046}}, 'P_BFGS-TwoLocal': {1: {'fidelity': array([[0.99999901]]), 'function_calls': 1260}, 2: {'fidelity': array([[1.]]), 'function_calls': 2750}, 3: {'fidelity': array([[1.]]), 'function_calls': 1521}, 4: {'fidelity': array([[1.]]), 'function_calls': 1488}, 5: {'fidelity': array([[1.]]), 'function_calls': 2318}, 6: {'fidelity': array([[1.]]), 'function_calls': 2442}}, 'P_BFGS-EfficientSU2': {1: {'fidelity': array([[0.999999]]), 'function_calls': 441}, 2: {'fidelity': array([[1.]]), 'function_calls': 1770}, 3: {'fidelity': array([[1.]]), 'function_calls': 1547}, 4: {'fidelity': array([[1.]]), 'function_calls': 2048}, 5: {'fidelity': array([[1.]]), 'function_calls': 1444}, 6: {'fidelity': array([[1.]]), 'function_calls': 2134}}}\n",
      "\n"
     ]
    }
   ],
   "source": [
    "# Print the results\n",
    "print('The best zeromodes are:')\n",
    "print(zeromodes_N_8)\n",
    "print()\n",
    "\n",
    "print('The performance metrics are:')\n",
    "print(metrics_N_8)\n",
    "print()"
   ]
  },
  {
   "cell_type": "markdown",
   "id": "b5633d61-1fe4-4c97-8f51-4529f87937a9",
   "metadata": {},
   "source": [
    "### Computing relative errors in <x^2>"
   ]
  },
  {
   "cell_type": "code",
   "execution_count": 83,
   "id": "1973a1dc-b1d3-4c44-bf86-0edd9ca5ddfb",
   "metadata": {},
   "outputs": [
    {
     "name": "stderr",
     "output_type": "stream",
     "text": [
      "C:\\Users\\Owner\\AppData\\Local\\Temp\\ipykernel_9592\\795971042.py:108: DeprecationWarning: Conversion of an array with ndim > 0 to a scalar is deprecated, and will error in future. Ensure you extract a single element from your array before performing this operation. (Deprecated NumPy 1.25.)\n",
      "  eigenvector[2*i] = eigenvector_old[i]\n"
     ]
    },
    {
     "name": "stdout",
     "output_type": "stream",
     "text": [
      "The errors for RealAmplitudes are:\n",
      "[0.0011886153401521862, 9.60419259851094e-07, 0.00010253477062452442, 1.2739785156561975e-07, 6.346548687315207e-07, 5.886685884798525e-07]\n",
      "\n",
      "The errors for TwoLocal are:\n",
      "[0.005734534197608043, 2.095845992341826e-05, 4.2429600877841505e-07, 1.04917320298579e-06, 4.7438285084264516e-07, 9.770774650030607e-08]\n",
      "\n",
      "The errors for EfficientSU2 are:\n",
      "[0.005784641899194859, 1.3467830466538936e-06, 5.660459204391997e-07, 2.22291584963397e-06, 2.7024846517284423e-06, 3.739447975099702e-07]\n",
      "\n"
     ]
    }
   ],
   "source": [
    "# Get the zeromodes\n",
    "zeromodes = [\n",
    "    zeromode\n",
    "    for depths in zeromodes_N_8.values()\n",
    "    for zeromode in depths.values()\n",
    "]\n",
    "\n",
    "# Initialize\n",
    "relative_errors = []\n",
    "\n",
    "# Compute \n",
    "for zeromode in zeromodes:\n",
    "    x, y = get_pdf(nmax, x, dx, L, shift = 0, zeromode_qpe = zeromode, normalize = True, make_even = True)\n",
    "    \n",
    "    # Ensure quantum_expectation is a scalar\n",
    "    quantum_expectation = compute_expectation_x_squared_simpson(x, y, 2)\n",
    "    if isinstance(quantum_expectation, np.ndarray):\n",
    "        quantum_expectation = quantum_expectation.item()  # Convert to scalar if necessary\n",
    "    \n",
    "    # Compute the relative error\n",
    "    relative_error = compute_errors(classical_expectation, quantum_expectation)\n",
    "    relative_errors.append(relative_error)\n",
    "\n",
    "# Get the relative errors for the individual optimizers\n",
    "errors_realamps = relative_errors[:6]\n",
    "errors_twolocal = relative_errors[6:12]\n",
    "errors_efficientsu2 = relative_errors[12:18]\n",
    "\n",
    "## Print the relative errors\n",
    "print('The errors for RealAmplitudes are:')\n",
    "print(errors_realamps)\n",
    "print()\n",
    "\n",
    "print('The errors for TwoLocal are:')\n",
    "print(errors_twolocal)\n",
    "print()\n",
    "\n",
    "print('The errors for EfficientSU2 are:')\n",
    "print(errors_efficientsu2)\n",
    "print()"
   ]
  },
  {
   "cell_type": "markdown",
   "id": "181ce37f-5bb8-4ca4-a43d-566950ca5ed3",
   "metadata": {},
   "source": [
    "### For N = 16\n",
    "\n",
    "### Get the matrix and the zeromode"
   ]
  },
  {
   "cell_type": "code",
   "execution_count": 21,
   "id": "22cf15d9-cf54-4805-b7dd-35b9ea0523c6",
   "metadata": {},
   "outputs": [
    {
     "name": "stdout",
     "output_type": "stream",
     "text": [
      "The matrix is:\n",
      "[[ 6.14062500e+00 -2.34671063e+01  3.55176013e+01 -9.22378041e+00\n",
      "  -3.13747510e+00  0.00000000e+00  0.00000000e+00  0.00000000e+00\n",
      "   0.00000000e+00  0.00000000e+00  0.00000000e+00  0.00000000e+00\n",
      "   0.00000000e+00  0.00000000e+00  0.00000000e+00  0.00000000e+00]\n",
      " [-2.34671063e+01  9.68906250e+01 -1.51662699e+02  1.11470288e+02\n",
      "  -6.65558976e+01 -2.10468228e+01  0.00000000e+00  0.00000000e+00\n",
      "   0.00000000e+00  0.00000000e+00  0.00000000e+00  0.00000000e+00\n",
      "   0.00000000e+00  0.00000000e+00  0.00000000e+00  0.00000000e+00]\n",
      " [ 3.55176013e+01 -1.51662699e+02  4.02390625e+02 -3.54479193e+02\n",
      "   1.63951212e+02 -2.30876387e+02 -6.98044143e+01  0.00000000e+00\n",
      "   0.00000000e+00  0.00000000e+00  0.00000000e+00  0.00000000e+00\n",
      "   0.00000000e+00  0.00000000e+00  0.00000000e+00  0.00000000e+00]\n",
      " [-9.22378041e+00  1.11470288e+02 -3.54479193e+02  1.05164062e+03\n",
      "  -5.71772019e+02  1.15363556e+02 -5.86246269e+02 -1.71932490e+02\n",
      "   0.00000000e+00  0.00000000e+00  0.00000000e+00  0.00000000e+00\n",
      "   0.00000000e+00  0.00000000e+00  0.00000000e+00  0.00000000e+00]\n",
      " [-3.13747510e+00 -6.65558976e+01  1.63951212e+02 -5.71772019e+02\n",
      "   2.23364062e+03 -7.19516989e+02 -1.36244266e+02 -1.24067405e+03\n",
      "  -3.55934070e+02  0.00000000e+00  0.00000000e+00  0.00000000e+00\n",
      "   0.00000000e+00  0.00000000e+00  0.00000000e+00  0.00000000e+00]\n",
      " [ 0.00000000e+00 -2.10468228e+01 -2.30876387e+02  1.15363556e+02\n",
      "  -7.19516989e+02  4.19739062e+03 -6.89706553e+02 -7.16860080e+02\n",
      "  -2.32616221e+03 -6.56309997e+02  0.00000000e+00  0.00000000e+00\n",
      "   0.00000000e+00  0.00000000e+00  0.00000000e+00  0.00000000e+00]\n",
      " [ 0.00000000e+00  0.00000000e+00 -6.98044143e+01 -5.86246269e+02\n",
      "  -1.36244266e+02 -6.89706553e+02  7.25189062e+03 -3.50337591e+02\n",
      "  -1.77647966e+03 -3.99871171e+03 -1.11356059e+03  0.00000000e+00\n",
      "   0.00000000e+00  0.00000000e+00  0.00000000e+00  0.00000000e+00]\n",
      " [ 0.00000000e+00  0.00000000e+00  0.00000000e+00 -1.71932490e+02\n",
      "  -1.24067405e+03 -7.16860080e+02 -3.50337591e+02  1.17661406e+04\n",
      "   4.54591420e+02 -3.48910125e+03 -6.43832301e+03 -1.77418599e+03\n",
      "   0.00000000e+00  0.00000000e+00  0.00000000e+00  0.00000000e+00]\n",
      " [ 0.00000000e+00  0.00000000e+00  0.00000000e+00  0.00000000e+00\n",
      "  -3.55934070e+02 -2.32616221e+03 -1.77647966e+03  4.54591420e+02\n",
      "   1.81691406e+04  1.90508131e+03 -6.05272397e+03 -9.84899635e+03\n",
      "  -2.69068628e+03  0.00000000e+00  0.00000000e+00  0.00000000e+00]\n",
      " [ 0.00000000e+00  0.00000000e+00  0.00000000e+00  0.00000000e+00\n",
      "   0.00000000e+00 -6.56309997e+02 -3.99871171e+03 -3.48910125e+03\n",
      "   1.90508131e+03  2.69498906e+04  4.20513259e+03 -9.68934740e+03\n",
      "  -1.44587319e+04 -3.92156149e+03  0.00000000e+00  0.00000000e+00]\n",
      " [ 0.00000000e+00  0.00000000e+00  0.00000000e+00  0.00000000e+00\n",
      "   0.00000000e+00  0.00000000e+00 -1.11356059e+03 -6.43832301e+03\n",
      "  -6.05272397e+03  4.20513259e+03  3.86573906e+04  7.58274554e+03\n",
      "  -1.46449713e+04 -2.05195297e+04 -5.53131165e+03  0.00000000e+00]\n",
      " [ 0.00000000e+00  0.00000000e+00  0.00000000e+00  0.00000000e+00\n",
      "   0.00000000e+00  0.00000000e+00  0.00000000e+00 -1.77418599e+03\n",
      "  -9.84899635e+03 -9.68934740e+03  7.58274554e+03  5.39006406e+04\n",
      "   1.22899204e+04 -2.11895955e+04 -2.83073899e+04 -7.59043678e+03]\n",
      " [ 0.00000000e+00  0.00000000e+00  0.00000000e+00  0.00000000e+00\n",
      "   0.00000000e+00  0.00000000e+00  0.00000000e+00  0.00000000e+00\n",
      "  -2.69068628e+03 -1.44587319e+04 -1.46449713e+04  1.22899204e+04\n",
      "   7.33486406e+04  1.86026573e+04 -2.96172199e+04 -3.81223124e+04]\n",
      " [ 0.00000000e+00  0.00000000e+00  0.00000000e+00  0.00000000e+00\n",
      "   0.00000000e+00  0.00000000e+00  0.00000000e+00  0.00000000e+00\n",
      "   0.00000000e+00 -3.92156149e+03 -2.05195297e+04 -2.11895955e+04\n",
      "   1.86026573e+04  9.77303906e+04  2.68209563e+04 -4.02458444e+04]\n",
      " [ 0.00000000e+00  0.00000000e+00  0.00000000e+00  0.00000000e+00\n",
      "   0.00000000e+00  0.00000000e+00  0.00000000e+00  0.00000000e+00\n",
      "   0.00000000e+00  0.00000000e+00 -5.53131165e+03 -2.83073899e+04\n",
      "  -2.96172199e+04  2.68209563e+04  1.14349891e+05  1.53239703e+04]\n",
      " [ 0.00000000e+00  0.00000000e+00  0.00000000e+00  0.00000000e+00\n",
      "   0.00000000e+00  0.00000000e+00  0.00000000e+00  0.00000000e+00\n",
      "   0.00000000e+00  0.00000000e+00  0.00000000e+00 -7.59043678e+03\n",
      "  -3.81223124e+04 -4.02458444e+04  1.53239703e+04  1.11408141e+05]]\n",
      "\n",
      "The zeromode is:\n",
      "[[-9.70583831e-01]\n",
      " [-2.39445349e-01]\n",
      " [ 1.43195784e-02]\n",
      " [ 1.99137010e-02]\n",
      " [-5.09464199e-03]\n",
      " [-1.71508216e-03]\n",
      " [ 1.51693918e-03]\n",
      " [-2.71673876e-04]\n",
      " [-2.01964898e-04]\n",
      " [ 1.76670641e-04]\n",
      " [-4.37312438e-05]\n",
      " [-1.59055281e-05]\n",
      " [ 2.71282836e-05]\n",
      " [-9.64064476e-06]\n",
      " [ 2.65162129e-06]\n",
      " [ 4.35186999e-06]]\n",
      "\n"
     ]
    },
    {
     "name": "stderr",
     "output_type": "stream",
     "text": [
      "C:\\Users\\Owner\\AppData\\Local\\Temp\\ipykernel_26896\\795971042.py:108: DeprecationWarning: Conversion of an array with ndim > 0 to a scalar is deprecated, and will error in future. Ensure you extract a single element from your array before performing this operation. (Deprecated NumPy 1.25.)\n",
      "  eigenvector[2*i] = eigenvector_old[i]\n"
     ]
    },
    {
     "name": "stdout",
     "output_type": "stream",
     "text": [
      "The value of <x^2> is:\n",
      "0.3662333595845026\n",
      "\n"
     ]
    }
   ],
   "source": [
    "## Get the matrix and zeromode\n",
    "nmax = 31\n",
    "a = 1\n",
    "gamma = 1\n",
    "dx = 0.01\n",
    "c = 2\n",
    "L = 1/2\n",
    "x = np.linspace(-4, 4, int(8/dx))\n",
    "\n",
    "# Matrix and zeromode\n",
    "matrix, zeromode_classic = get_zeromode(nmax, a, c, L, gamma)\n",
    "\n",
    "## Print the matrix and zeromode\n",
    "print('The matrix is:')\n",
    "print(matrix)\n",
    "print()\n",
    "\n",
    "# Print the zeromode\n",
    "print('The zeromode is:')\n",
    "print(zeromode_classic)\n",
    "print()\n",
    "\n",
    "## Compute the classical <x^2> value\n",
    "x, y = get_pdf(nmax, x, dx, L, shift = 0, zeromode_qpe = zeromode_classic, normalize = True, make_even = True)\n",
    "classical_expectation = compute_expectation_x_squared_simpson(x, y, 2)\n",
    "\n",
    "# Print the classical expectation value\n",
    "print('The value of <x^2> is:')\n",
    "print(classical_expectation)\n",
    "print()"
   ]
  },
  {
   "cell_type": "markdown",
   "id": "fa549a72-b1c7-4bf9-a4e6-4c5471811ed3",
   "metadata": {},
   "source": [
    "### Run VQE for multiple ansatz depths (fix at 50_000 optimization iterations)\n",
    "\n",
    "### Note: here, we consider 6 independent VQE runs at each ansatz depth, not the usual 10"
   ]
  },
  {
   "cell_type": "code",
   "execution_count": 23,
   "id": "9b87aeb6-41ad-4135-86ce-ef4366ea39eb",
   "metadata": {},
   "outputs": [
    {
     "name": "stderr",
     "output_type": "stream",
     "text": [
      "For Windows, using only current process. Multiple core use not supported.\n"
     ]
    },
    {
     "name": "stdout",
     "output_type": "stream",
     "text": [
      "\n",
      "Running VQE for optimizer-ansatz pair: P_BFGS-RealAmplitudes\n"
     ]
    },
    {
     "name": "stderr",
     "output_type": "stream",
     "text": [
      "For Windows, using only current process. Multiple core use not supported.\n",
      "For Windows, using only current process. Multiple core use not supported.\n",
      "For Windows, using only current process. Multiple core use not supported.\n",
      "For Windows, using only current process. Multiple core use not supported.\n",
      "For Windows, using only current process. Multiple core use not supported.\n",
      "For Windows, using only current process. Multiple core use not supported.\n"
     ]
    },
    {
     "name": "stdout",
     "output_type": "stream",
     "text": [
      "P_BFGS-RealAmplitudes - Depth 1: Best fidelity = [[0.99999859]], Function calls = 2340,             Best zeromode: [[ 9.70788348e-01]\n",
      " [ 2.38577751e-01]\n",
      " [-1.49342679e-02]\n",
      " [-1.99260662e-02]\n",
      " [ 5.15295422e-03]\n",
      " [ 1.30188077e-03]\n",
      " [-1.48348133e-03]\n",
      " [ 3.28807988e-04]\n",
      " [ 5.11227354e-05]\n",
      " [ 1.25637538e-05]\n",
      " [-7.86396632e-07]\n",
      " [-1.04934543e-06]\n",
      " [ 2.70545652e-07]\n",
      " [ 6.86271763e-08]\n",
      " [-8.87430272e-08]\n",
      " [ 2.06230648e-08]]\n"
     ]
    },
    {
     "name": "stderr",
     "output_type": "stream",
     "text": [
      "For Windows, using only current process. Multiple core use not supported.\n",
      "For Windows, using only current process. Multiple core use not supported.\n",
      "For Windows, using only current process. Multiple core use not supported.\n",
      "For Windows, using only current process. Multiple core use not supported.\n",
      "For Windows, using only current process. Multiple core use not supported.\n",
      "For Windows, using only current process. Multiple core use not supported.\n"
     ]
    },
    {
     "name": "stdout",
     "output_type": "stream",
     "text": [
      "P_BFGS-RealAmplitudes - Depth 2: Best fidelity = [[0.99999993]], Function calls = 3133,             Best zeromode: [[ 9.70601642e-01]\n",
      " [ 2.39373320e-01]\n",
      " [-1.43431714e-02]\n",
      " [-1.99181594e-02]\n",
      " [ 5.03776490e-03]\n",
      " [ 1.67037934e-03]\n",
      " [-1.47444354e-03]\n",
      " [ 2.35566158e-04]\n",
      " [ 9.15596320e-05]\n",
      " [ 2.29893655e-05]\n",
      " [-3.71404196e-06]\n",
      " [-1.43537878e-06]\n",
      " [ 1.20669059e-06]\n",
      " [ 6.02405975e-09]\n",
      " [ 1.53066376e-06]\n",
      " [-4.03490264e-07]]\n"
     ]
    },
    {
     "name": "stderr",
     "output_type": "stream",
     "text": [
      "For Windows, using only current process. Multiple core use not supported.\n",
      "For Windows, using only current process. Multiple core use not supported.\n",
      "For Windows, using only current process. Multiple core use not supported.\n",
      "For Windows, using only current process. Multiple core use not supported.\n",
      "For Windows, using only current process. Multiple core use not supported.\n",
      "For Windows, using only current process. Multiple core use not supported.\n"
     ]
    },
    {
     "name": "stdout",
     "output_type": "stream",
     "text": [
      "P_BFGS-RealAmplitudes - Depth 3: Best fidelity = [[0.99999973]], Function calls = 21947,             Best zeromode: [[-9.70519181e-01]\n",
      " [-2.39736730e-01]\n",
      " [ 1.40390063e-02]\n",
      " [ 1.97461588e-02]\n",
      " [-5.16089608e-03]\n",
      " [-1.75702808e-03]\n",
      " [ 1.40372969e-03]\n",
      " [-3.26712957e-04]\n",
      " [-1.17727153e-04]\n",
      " [-2.87286935e-05]\n",
      " [-1.12046880e-05]\n",
      " [ 9.17763755e-06]\n",
      " [-1.51557558e-05]\n",
      " [-2.53824695e-07]\n",
      " [ 5.68128862e-06]\n",
      " [ 1.17200629e-06]]\n"
     ]
    },
    {
     "name": "stderr",
     "output_type": "stream",
     "text": [
      "For Windows, using only current process. Multiple core use not supported.\n",
      "For Windows, using only current process. Multiple core use not supported.\n",
      "For Windows, using only current process. Multiple core use not supported.\n",
      "For Windows, using only current process. Multiple core use not supported.\n",
      "For Windows, using only current process. Multiple core use not supported.\n",
      "For Windows, using only current process. Multiple core use not supported.\n"
     ]
    },
    {
     "name": "stdout",
     "output_type": "stream",
     "text": [
      "P_BFGS-RealAmplitudes - Depth 4: Best fidelity = [[0.99999994]], Function calls = 7728,             Best zeromode: [[ 9.70558652e-01]\n",
      " [ 2.39560874e-01]\n",
      " [-1.41969380e-02]\n",
      " [-1.98375129e-02]\n",
      " [ 5.11506105e-03]\n",
      " [ 1.72707403e-03]\n",
      " [-1.46240763e-03]\n",
      " [ 2.93299098e-04]\n",
      " [ 1.54337761e-04]\n",
      " [-5.57847139e-05]\n",
      " [ 1.04706549e-04]\n",
      " [-2.86145215e-05]\n",
      " [ 5.48267277e-06]\n",
      " [ 6.97790050e-06]\n",
      " [ 2.47525440e-06]\n",
      " [-1.59992789e-05]]\n"
     ]
    },
    {
     "name": "stderr",
     "output_type": "stream",
     "text": [
      "For Windows, using only current process. Multiple core use not supported.\n",
      "For Windows, using only current process. Multiple core use not supported.\n",
      "For Windows, using only current process. Multiple core use not supported.\n",
      "For Windows, using only current process. Multiple core use not supported.\n",
      "For Windows, using only current process. Multiple core use not supported.\n",
      "For Windows, using only current process. Multiple core use not supported.\n"
     ]
    },
    {
     "name": "stdout",
     "output_type": "stream",
     "text": [
      "P_BFGS-RealAmplitudes - Depth 5: Best fidelity = [[0.99999996]], Function calls = 50025,             Best zeromode: [[-9.70602142e-01]\n",
      " [-2.39368292e-01]\n",
      " [ 1.43631647e-02]\n",
      " [ 1.99319326e-02]\n",
      " [-5.05803602e-03]\n",
      " [-1.67516484e-03]\n",
      " [ 1.49566861e-03]\n",
      " [-2.67213073e-04]\n",
      " [-1.10416736e-04]\n",
      " [ 5.79269548e-05]\n",
      " [-6.24443828e-05]\n",
      " [ 5.21564598e-05]\n",
      " [-8.21843090e-07]\n",
      " [-9.17388871e-06]\n",
      " [ 1.10701111e-05]\n",
      " [ 1.23718284e-05]]\n"
     ]
    },
    {
     "name": "stderr",
     "output_type": "stream",
     "text": [
      "For Windows, using only current process. Multiple core use not supported.\n",
      "For Windows, using only current process. Multiple core use not supported.\n",
      "For Windows, using only current process. Multiple core use not supported.\n",
      "For Windows, using only current process. Multiple core use not supported.\n",
      "For Windows, using only current process. Multiple core use not supported.\n",
      "For Windows, using only current process. Multiple core use not supported.\n"
     ]
    },
    {
     "name": "stdout",
     "output_type": "stream",
     "text": [
      "P_BFGS-RealAmplitudes - Depth 6: Best fidelity = [[1.]], Function calls = 30682,             Best zeromode: [[ 9.70576653e-01]\n",
      " [ 2.39476601e-01]\n",
      " [-1.42943241e-02]\n",
      " [-1.99043370e-02]\n",
      " [ 5.09961484e-03]\n",
      " [ 1.71820248e-03]\n",
      " [-1.51629812e-03]\n",
      " [ 2.74817510e-04]\n",
      " [ 2.02773837e-04]\n",
      " [-1.75785522e-04]\n",
      " [ 4.45302031e-05]\n",
      " [ 1.62730234e-05]\n",
      " [-2.67010866e-05]\n",
      " [ 9.90670741e-06]\n",
      " [-2.58886465e-06]\n",
      " [-4.05018563e-06]]\n",
      "\n",
      "Running VQE for optimizer-ansatz pair: P_BFGS-TwoLocal\n"
     ]
    },
    {
     "name": "stderr",
     "output_type": "stream",
     "text": [
      "For Windows, using only current process. Multiple core use not supported.\n",
      "For Windows, using only current process. Multiple core use not supported.\n",
      "For Windows, using only current process. Multiple core use not supported.\n",
      "For Windows, using only current process. Multiple core use not supported.\n",
      "For Windows, using only current process. Multiple core use not supported.\n",
      "For Windows, using only current process. Multiple core use not supported.\n"
     ]
    },
    {
     "name": "stdout",
     "output_type": "stream",
     "text": [
      "P_BFGS-TwoLocal - Depth 1: Best fidelity = [[0.99999302]], Function calls = 3141,             Best zeromode: [[ 9.71023352e-01]\n",
      " [ 2.37550114e-01]\n",
      " [-1.56004311e-02]\n",
      " [-2.04178072e-02]\n",
      " [ 4.47350351e-03]\n",
      " [ 1.11671484e-03]\n",
      " [-1.37881549e-03]\n",
      " [-4.15211163e-04]\n",
      " [ 2.32741185e-05]\n",
      " [ 5.69378889e-06]\n",
      " [-3.75879032e-07]\n",
      " [-4.89868336e-07]\n",
      " [ 1.56042887e-06]\n",
      " [ 3.82269883e-07]\n",
      " [-5.59981339e-08]\n",
      " [-4.04111014e-08]]\n"
     ]
    },
    {
     "name": "stderr",
     "output_type": "stream",
     "text": [
      "For Windows, using only current process. Multiple core use not supported.\n",
      "For Windows, using only current process. Multiple core use not supported.\n",
      "For Windows, using only current process. Multiple core use not supported.\n",
      "For Windows, using only current process. Multiple core use not supported.\n",
      "For Windows, using only current process. Multiple core use not supported.\n",
      "For Windows, using only current process. Multiple core use not supported.\n"
     ]
    },
    {
     "name": "stdout",
     "output_type": "stream",
     "text": [
      "P_BFGS-TwoLocal - Depth 2: Best fidelity = [[0.99999985]], Function calls = 11258,             Best zeromode: [[ 9.70635951e-01]\n",
      " [ 2.39233228e-01]\n",
      " [-1.44374015e-02]\n",
      " [-1.98399077e-02]\n",
      " [ 5.15246236e-03]\n",
      " [ 1.56819835e-03]\n",
      " [-1.45728579e-03]\n",
      " [ 3.32439156e-04]\n",
      " [ 9.33095331e-05]\n",
      " [ 1.53156610e-05]\n",
      " [ 3.89723240e-05]\n",
      " [-1.23767634e-05]\n",
      " [ 1.72149030e-06]\n",
      " [-2.03012286e-07]\n",
      " [ 2.91591951e-06]\n",
      " [-9.54043937e-07]]\n"
     ]
    },
    {
     "name": "stderr",
     "output_type": "stream",
     "text": [
      "For Windows, using only current process. Multiple core use not supported.\n",
      "For Windows, using only current process. Multiple core use not supported.\n",
      "For Windows, using only current process. Multiple core use not supported.\n",
      "For Windows, using only current process. Multiple core use not supported.\n",
      "For Windows, using only current process. Multiple core use not supported.\n",
      "For Windows, using only current process. Multiple core use not supported.\n"
     ]
    },
    {
     "name": "stdout",
     "output_type": "stream",
     "text": [
      "P_BFGS-TwoLocal - Depth 3: Best fidelity = [[0.99999994]], Function calls = 4709,             Best zeromode: [[ 9.70560838e-01]\n",
      " [ 2.39551949e-01]\n",
      " [-1.42027134e-02]\n",
      " [-1.98259440e-02]\n",
      " [ 5.14126899e-03]\n",
      " [ 1.73142465e-03]\n",
      " [-1.46809024e-03]\n",
      " [ 3.21026604e-04]\n",
      " [ 1.61006522e-04]\n",
      " [-1.06496365e-04]\n",
      " [ 9.56704000e-05]\n",
      " [-5.04297720e-05]\n",
      " [ 8.53835552e-06]\n",
      " [ 8.34121155e-06]\n",
      " [-4.51340515e-06]\n",
      " [ 1.79992507e-06]]\n"
     ]
    },
    {
     "name": "stderr",
     "output_type": "stream",
     "text": [
      "For Windows, using only current process. Multiple core use not supported.\n",
      "For Windows, using only current process. Multiple core use not supported.\n",
      "For Windows, using only current process. Multiple core use not supported.\n",
      "For Windows, using only current process. Multiple core use not supported.\n",
      "For Windows, using only current process. Multiple core use not supported.\n",
      "For Windows, using only current process. Multiple core use not supported.\n"
     ]
    },
    {
     "name": "stdout",
     "output_type": "stream",
     "text": [
      "P_BFGS-TwoLocal - Depth 4: Best fidelity = [[1.]], Function calls = 8841,             Best zeromode: [[ 9.70586189e-01]\n",
      " [ 2.39435466e-01]\n",
      " [-1.43232385e-02]\n",
      " [-1.99159499e-02]\n",
      " [ 5.09145873e-03]\n",
      " [ 1.71370046e-03]\n",
      " [-1.51760885e-03]\n",
      " [ 2.67911251e-04]\n",
      " [ 2.01137586e-04]\n",
      " [-1.73948466e-04]\n",
      " [ 3.50434894e-05]\n",
      " [ 1.91877349e-05]\n",
      " [-2.30797670e-05]\n",
      " [-3.46540578e-06]\n",
      " [ 1.22761865e-06]\n",
      " [-8.02800383e-06]]\n"
     ]
    },
    {
     "name": "stderr",
     "output_type": "stream",
     "text": [
      "For Windows, using only current process. Multiple core use not supported.\n",
      "For Windows, using only current process. Multiple core use not supported.\n",
      "For Windows, using only current process. Multiple core use not supported.\n",
      "For Windows, using only current process. Multiple core use not supported.\n",
      "For Windows, using only current process. Multiple core use not supported.\n",
      "For Windows, using only current process. Multiple core use not supported.\n"
     ]
    },
    {
     "name": "stdout",
     "output_type": "stream",
     "text": [
      "P_BFGS-TwoLocal - Depth 5: Best fidelity = [[1.]], Function calls = 7825,             Best zeromode: [[-9.70594026e-01]\n",
      " [-2.39401636e-01]\n",
      " [ 1.43483146e-02]\n",
      " [ 1.99232203e-02]\n",
      " [-5.08946576e-03]\n",
      " [-1.70967464e-03]\n",
      " [ 1.52043423e-03]\n",
      " [-2.69906677e-04]\n",
      " [-1.98250000e-04]\n",
      " [ 1.78517220e-04]\n",
      " [-4.52909408e-05]\n",
      " [-7.59139432e-06]\n",
      " [ 1.96277175e-05]\n",
      " [-1.65491504e-06]\n",
      " [-1.45261319e-06]\n",
      " [ 3.31928015e-06]]\n"
     ]
    },
    {
     "name": "stderr",
     "output_type": "stream",
     "text": [
      "For Windows, using only current process. Multiple core use not supported.\n",
      "For Windows, using only current process. Multiple core use not supported.\n",
      "For Windows, using only current process. Multiple core use not supported.\n",
      "For Windows, using only current process. Multiple core use not supported.\n",
      "For Windows, using only current process. Multiple core use not supported.\n",
      "For Windows, using only current process. Multiple core use not supported.\n"
     ]
    },
    {
     "name": "stdout",
     "output_type": "stream",
     "text": [
      "P_BFGS-TwoLocal - Depth 6: Best fidelity = [[1.]], Function calls = 8845,             Best zeromode: [[-9.70582838e-01]\n",
      " [-2.39449623e-01]\n",
      " [ 1.43167602e-02]\n",
      " [ 1.99125679e-02]\n",
      " [-5.09513862e-03]\n",
      " [-1.71569094e-03]\n",
      " [ 1.51634238e-03]\n",
      " [-2.71939342e-04]\n",
      " [-2.02146500e-04]\n",
      " [ 1.76534581e-04]\n",
      " [-4.38752522e-05]\n",
      " [-1.59349714e-05]\n",
      " [ 2.70632945e-05]\n",
      " [-9.69572937e-06]\n",
      " [ 2.66680807e-06]\n",
      " [ 4.31348792e-06]]\n",
      "\n",
      "Running VQE for optimizer-ansatz pair: P_BFGS-EfficientSU2\n"
     ]
    },
    {
     "name": "stderr",
     "output_type": "stream",
     "text": [
      "For Windows, using only current process. Multiple core use not supported.\n",
      "For Windows, using only current process. Multiple core use not supported.\n",
      "For Windows, using only current process. Multiple core use not supported.\n",
      "For Windows, using only current process. Multiple core use not supported.\n",
      "For Windows, using only current process. Multiple core use not supported.\n",
      "For Windows, using only current process. Multiple core use not supported.\n"
     ]
    },
    {
     "name": "stdout",
     "output_type": "stream",
     "text": [
      "P_BFGS-EfficientSU2 - Depth 1: Best fidelity = [[0.99957947]], Function calls = 1386,             Best zeromode: [[-9.73034055e-01]\n",
      " [-2.30128361e-01]\n",
      " [ 1.15564863e-02]\n",
      " [ 2.74484939e-03]\n",
      " [-9.87910078e-03]\n",
      " [-2.35011830e-03]\n",
      " [ 3.74769732e-04]\n",
      " [-1.06045860e-03]\n",
      " [-4.27386309e-04]\n",
      " [-1.01087900e-04]\n",
      " [ 5.13682624e-06]\n",
      " [ 1.31970098e-06]\n",
      " [-3.94048248e-05]\n",
      " [-9.49039585e-06]\n",
      " [-4.49991331e-06]\n",
      " [-1.54433654e-05]]\n"
     ]
    },
    {
     "name": "stderr",
     "output_type": "stream",
     "text": [
      "For Windows, using only current process. Multiple core use not supported.\n",
      "For Windows, using only current process. Multiple core use not supported.\n",
      "For Windows, using only current process. Multiple core use not supported.\n",
      "For Windows, using only current process. Multiple core use not supported.\n",
      "For Windows, using only current process. Multiple core use not supported.\n",
      "For Windows, using only current process. Multiple core use not supported.\n"
     ]
    },
    {
     "name": "stdout",
     "output_type": "stream",
     "text": [
      "P_BFGS-EfficientSU2 - Depth 2: Best fidelity = [[0.99999432]], Function calls = 3289,             Best zeromode: [[-9.70492239e-01]\n",
      " [-2.39984726e-01]\n",
      " [ 1.31997830e-02]\n",
      " [ 1.86438299e-02]\n",
      " [-5.34388349e-03]\n",
      " [-1.32144325e-03]\n",
      " [ 7.26828097e-05]\n",
      " [ 1.02659713e-04]\n",
      " [ 3.44595297e-12]\n",
      " [-1.74766436e-12]\n",
      " [ 1.64123950e-10]\n",
      " [ 4.06748252e-11]\n",
      " [-6.25788020e-10]\n",
      " [ 3.17382979e-10]\n",
      " [-2.98062323e-08]\n",
      " [-7.38686686e-09]]\n"
     ]
    },
    {
     "name": "stderr",
     "output_type": "stream",
     "text": [
      "For Windows, using only current process. Multiple core use not supported.\n",
      "For Windows, using only current process. Multiple core use not supported.\n",
      "For Windows, using only current process. Multiple core use not supported.\n",
      "For Windows, using only current process. Multiple core use not supported.\n",
      "For Windows, using only current process. Multiple core use not supported.\n",
      "For Windows, using only current process. Multiple core use not supported.\n"
     ]
    },
    {
     "name": "stdout",
     "output_type": "stream",
     "text": [
      "P_BFGS-EfficientSU2 - Depth 3: Best fidelity = [[0.99999992]], Function calls = 17833,             Best zeromode: [[-9.70626583e-01]\n",
      " [-2.39256454e-01]\n",
      " [ 1.44798918e-02]\n",
      " [ 2.00017823e-02]\n",
      " [-5.03391445e-03]\n",
      " [-1.66518798e-03]\n",
      " [ 1.55347698e-03]\n",
      " [-2.34381875e-04]\n",
      " [-1.68395499e-04]\n",
      " [ 1.89831069e-04]\n",
      " [-7.59293794e-06]\n",
      " [ 5.84083826e-06]\n",
      " [ 2.58625674e-05]\n",
      " [-1.17643896e-05]\n",
      " [ 1.19806500e-05]\n",
      " [ 4.16820767e-06]]\n"
     ]
    },
    {
     "name": "stderr",
     "output_type": "stream",
     "text": [
      "For Windows, using only current process. Multiple core use not supported.\n",
      "For Windows, using only current process. Multiple core use not supported.\n",
      "For Windows, using only current process. Multiple core use not supported.\n",
      "For Windows, using only current process. Multiple core use not supported.\n",
      "For Windows, using only current process. Multiple core use not supported.\n",
      "For Windows, using only current process. Multiple core use not supported.\n"
     ]
    },
    {
     "name": "stdout",
     "output_type": "stream",
     "text": [
      "P_BFGS-EfficientSU2 - Depth 4: Best fidelity = [[0.99999988]], Function calls = 14343,             Best zeromode: [[-9.70630050e-01]\n",
      " [-2.39245635e-01]\n",
      " [ 1.44607940e-02]\n",
      " [ 1.99896505e-02]\n",
      " [-5.00400711e-03]\n",
      " [-1.65132274e-03]\n",
      " [ 1.51683339e-03]\n",
      " [-2.06291490e-04]\n",
      " [-1.15180176e-04]\n",
      " [ 5.09904724e-05]\n",
      " [ 3.43150374e-05]\n",
      " [-2.26807442e-05]\n",
      " [ 3.03267553e-05]\n",
      " [-4.32839221e-05]\n",
      " [ 2.54246574e-05]\n",
      " [ 7.64359463e-06]]\n"
     ]
    },
    {
     "name": "stderr",
     "output_type": "stream",
     "text": [
      "For Windows, using only current process. Multiple core use not supported.\n",
      "For Windows, using only current process. Multiple core use not supported.\n",
      "For Windows, using only current process. Multiple core use not supported.\n",
      "For Windows, using only current process. Multiple core use not supported.\n",
      "For Windows, using only current process. Multiple core use not supported.\n",
      "For Windows, using only current process. Multiple core use not supported.\n"
     ]
    },
    {
     "name": "stdout",
     "output_type": "stream",
     "text": [
      "P_BFGS-EfficientSU2 - Depth 5: Best fidelity = [[1.]], Function calls = 14100,             Best zeromode: [[-9.70574250e-01]\n",
      " [-2.39486250e-01]\n",
      " [ 1.42931786e-02]\n",
      " [ 1.99079659e-02]\n",
      " [-5.09611981e-03]\n",
      " [-1.70866740e-03]\n",
      " [ 1.51666236e-03]\n",
      " [-2.71142632e-04]\n",
      " [-2.01186893e-04]\n",
      " [ 1.76769297e-04]\n",
      " [-4.34772836e-05]\n",
      " [-1.58394758e-05]\n",
      " [ 2.72879028e-05]\n",
      " [-9.75246751e-06]\n",
      " [ 2.65759363e-06]\n",
      " [ 4.25284669e-06]]\n"
     ]
    },
    {
     "name": "stderr",
     "output_type": "stream",
     "text": [
      "For Windows, using only current process. Multiple core use not supported.\n",
      "For Windows, using only current process. Multiple core use not supported.\n",
      "For Windows, using only current process. Multiple core use not supported.\n",
      "For Windows, using only current process. Multiple core use not supported.\n",
      "For Windows, using only current process. Multiple core use not supported.\n"
     ]
    },
    {
     "name": "stdout",
     "output_type": "stream",
     "text": [
      "P_BFGS-EfficientSU2 - Depth 6: Best fidelity = [[1.]], Function calls = 10498,             Best zeromode: [[-9.70582738e-01]\n",
      " [-2.39450213e-01]\n",
      " [ 1.43159338e-02]\n",
      " [ 1.99105821e-02]\n",
      " [-5.09642302e-03]\n",
      " [-1.71631971e-03]\n",
      " [ 1.51617319e-03]\n",
      " [-2.72335431e-04]\n",
      " [-2.02397598e-04]\n",
      " [ 1.76310148e-04]\n",
      " [-4.39598916e-05]\n",
      " [-1.61985982e-05]\n",
      " [ 2.70054626e-05]\n",
      " [-9.77914272e-06]\n",
      " [ 2.58374283e-06]\n",
      " [ 4.25274354e-06]]\n"
     ]
    }
   ],
   "source": [
    "## Get the optimizers\n",
    "maxiter = 50_000\n",
    "optimizer = P_BFGS(maxfun = maxiter)\n",
    "\n",
    "# Define parameters\n",
    "dimension = matrix.shape[0]\n",
    "num_qubits = int(np.log2(dimension))\n",
    "max_depth = 6\n",
    "\n",
    "# Compute \n",
    "zeromodes_N_16, metrics_N_16 = analyze_ansatz_performance(matrix, zeromode_classic, optimizer, num_qubits, max_depth)"
   ]
  },
  {
   "cell_type": "markdown",
   "id": "b79cf8a7-181f-4d04-a29e-de7351694dbc",
   "metadata": {},
   "source": [
    "### Print the results"
   ]
  },
  {
   "cell_type": "code",
   "execution_count": 26,
   "id": "65fec90d-06ca-4d8c-a482-425d69a2a94e",
   "metadata": {},
   "outputs": [
    {
     "name": "stdout",
     "output_type": "stream",
     "text": [
      "The best zeromodes are:\n",
      "{'P_BFGS-RealAmplitudes': {1: array([[ 9.70788348e-01],\n",
      "       [ 2.38577751e-01],\n",
      "       [-1.49342679e-02],\n",
      "       [-1.99260662e-02],\n",
      "       [ 5.15295422e-03],\n",
      "       [ 1.30188077e-03],\n",
      "       [-1.48348133e-03],\n",
      "       [ 3.28807988e-04],\n",
      "       [ 5.11227354e-05],\n",
      "       [ 1.25637538e-05],\n",
      "       [-7.86396632e-07],\n",
      "       [-1.04934543e-06],\n",
      "       [ 2.70545652e-07],\n",
      "       [ 6.86271763e-08],\n",
      "       [-8.87430272e-08],\n",
      "       [ 2.06230648e-08]]), 2: array([[ 9.70601642e-01],\n",
      "       [ 2.39373320e-01],\n",
      "       [-1.43431714e-02],\n",
      "       [-1.99181594e-02],\n",
      "       [ 5.03776490e-03],\n",
      "       [ 1.67037934e-03],\n",
      "       [-1.47444354e-03],\n",
      "       [ 2.35566158e-04],\n",
      "       [ 9.15596320e-05],\n",
      "       [ 2.29893655e-05],\n",
      "       [-3.71404196e-06],\n",
      "       [-1.43537878e-06],\n",
      "       [ 1.20669059e-06],\n",
      "       [ 6.02405975e-09],\n",
      "       [ 1.53066376e-06],\n",
      "       [-4.03490264e-07]]), 3: array([[-9.70519181e-01],\n",
      "       [-2.39736730e-01],\n",
      "       [ 1.40390063e-02],\n",
      "       [ 1.97461588e-02],\n",
      "       [-5.16089608e-03],\n",
      "       [-1.75702808e-03],\n",
      "       [ 1.40372969e-03],\n",
      "       [-3.26712957e-04],\n",
      "       [-1.17727153e-04],\n",
      "       [-2.87286935e-05],\n",
      "       [-1.12046880e-05],\n",
      "       [ 9.17763755e-06],\n",
      "       [-1.51557558e-05],\n",
      "       [-2.53824695e-07],\n",
      "       [ 5.68128862e-06],\n",
      "       [ 1.17200629e-06]]), 4: array([[ 9.70558652e-01],\n",
      "       [ 2.39560874e-01],\n",
      "       [-1.41969380e-02],\n",
      "       [-1.98375129e-02],\n",
      "       [ 5.11506105e-03],\n",
      "       [ 1.72707403e-03],\n",
      "       [-1.46240763e-03],\n",
      "       [ 2.93299098e-04],\n",
      "       [ 1.54337761e-04],\n",
      "       [-5.57847139e-05],\n",
      "       [ 1.04706549e-04],\n",
      "       [-2.86145215e-05],\n",
      "       [ 5.48267277e-06],\n",
      "       [ 6.97790050e-06],\n",
      "       [ 2.47525440e-06],\n",
      "       [-1.59992789e-05]]), 5: array([[-9.70602142e-01],\n",
      "       [-2.39368292e-01],\n",
      "       [ 1.43631647e-02],\n",
      "       [ 1.99319326e-02],\n",
      "       [-5.05803602e-03],\n",
      "       [-1.67516484e-03],\n",
      "       [ 1.49566861e-03],\n",
      "       [-2.67213073e-04],\n",
      "       [-1.10416736e-04],\n",
      "       [ 5.79269548e-05],\n",
      "       [-6.24443828e-05],\n",
      "       [ 5.21564598e-05],\n",
      "       [-8.21843090e-07],\n",
      "       [-9.17388871e-06],\n",
      "       [ 1.10701111e-05],\n",
      "       [ 1.23718284e-05]]), 6: array([[ 9.70576653e-01],\n",
      "       [ 2.39476601e-01],\n",
      "       [-1.42943241e-02],\n",
      "       [-1.99043370e-02],\n",
      "       [ 5.09961484e-03],\n",
      "       [ 1.71820248e-03],\n",
      "       [-1.51629812e-03],\n",
      "       [ 2.74817510e-04],\n",
      "       [ 2.02773837e-04],\n",
      "       [-1.75785522e-04],\n",
      "       [ 4.45302031e-05],\n",
      "       [ 1.62730234e-05],\n",
      "       [-2.67010866e-05],\n",
      "       [ 9.90670741e-06],\n",
      "       [-2.58886465e-06],\n",
      "       [-4.05018563e-06]])}, 'P_BFGS-TwoLocal': {1: array([[ 9.71023352e-01],\n",
      "       [ 2.37550114e-01],\n",
      "       [-1.56004311e-02],\n",
      "       [-2.04178072e-02],\n",
      "       [ 4.47350351e-03],\n",
      "       [ 1.11671484e-03],\n",
      "       [-1.37881549e-03],\n",
      "       [-4.15211163e-04],\n",
      "       [ 2.32741185e-05],\n",
      "       [ 5.69378889e-06],\n",
      "       [-3.75879032e-07],\n",
      "       [-4.89868336e-07],\n",
      "       [ 1.56042887e-06],\n",
      "       [ 3.82269883e-07],\n",
      "       [-5.59981339e-08],\n",
      "       [-4.04111014e-08]]), 2: array([[ 9.70635951e-01],\n",
      "       [ 2.39233228e-01],\n",
      "       [-1.44374015e-02],\n",
      "       [-1.98399077e-02],\n",
      "       [ 5.15246236e-03],\n",
      "       [ 1.56819835e-03],\n",
      "       [-1.45728579e-03],\n",
      "       [ 3.32439156e-04],\n",
      "       [ 9.33095331e-05],\n",
      "       [ 1.53156610e-05],\n",
      "       [ 3.89723240e-05],\n",
      "       [-1.23767634e-05],\n",
      "       [ 1.72149030e-06],\n",
      "       [-2.03012286e-07],\n",
      "       [ 2.91591951e-06],\n",
      "       [-9.54043937e-07]]), 3: array([[ 9.70560838e-01],\n",
      "       [ 2.39551949e-01],\n",
      "       [-1.42027134e-02],\n",
      "       [-1.98259440e-02],\n",
      "       [ 5.14126899e-03],\n",
      "       [ 1.73142465e-03],\n",
      "       [-1.46809024e-03],\n",
      "       [ 3.21026604e-04],\n",
      "       [ 1.61006522e-04],\n",
      "       [-1.06496365e-04],\n",
      "       [ 9.56704000e-05],\n",
      "       [-5.04297720e-05],\n",
      "       [ 8.53835552e-06],\n",
      "       [ 8.34121155e-06],\n",
      "       [-4.51340515e-06],\n",
      "       [ 1.79992507e-06]]), 4: array([[ 9.70586189e-01],\n",
      "       [ 2.39435466e-01],\n",
      "       [-1.43232385e-02],\n",
      "       [-1.99159499e-02],\n",
      "       [ 5.09145873e-03],\n",
      "       [ 1.71370046e-03],\n",
      "       [-1.51760885e-03],\n",
      "       [ 2.67911251e-04],\n",
      "       [ 2.01137586e-04],\n",
      "       [-1.73948466e-04],\n",
      "       [ 3.50434894e-05],\n",
      "       [ 1.91877349e-05],\n",
      "       [-2.30797670e-05],\n",
      "       [-3.46540578e-06],\n",
      "       [ 1.22761865e-06],\n",
      "       [-8.02800383e-06]]), 5: array([[-9.70594026e-01],\n",
      "       [-2.39401636e-01],\n",
      "       [ 1.43483146e-02],\n",
      "       [ 1.99232203e-02],\n",
      "       [-5.08946576e-03],\n",
      "       [-1.70967464e-03],\n",
      "       [ 1.52043423e-03],\n",
      "       [-2.69906677e-04],\n",
      "       [-1.98250000e-04],\n",
      "       [ 1.78517220e-04],\n",
      "       [-4.52909408e-05],\n",
      "       [-7.59139432e-06],\n",
      "       [ 1.96277175e-05],\n",
      "       [-1.65491504e-06],\n",
      "       [-1.45261319e-06],\n",
      "       [ 3.31928015e-06]]), 6: array([[-9.70582838e-01],\n",
      "       [-2.39449623e-01],\n",
      "       [ 1.43167602e-02],\n",
      "       [ 1.99125679e-02],\n",
      "       [-5.09513862e-03],\n",
      "       [-1.71569094e-03],\n",
      "       [ 1.51634238e-03],\n",
      "       [-2.71939342e-04],\n",
      "       [-2.02146500e-04],\n",
      "       [ 1.76534581e-04],\n",
      "       [-4.38752522e-05],\n",
      "       [-1.59349714e-05],\n",
      "       [ 2.70632945e-05],\n",
      "       [-9.69572937e-06],\n",
      "       [ 2.66680807e-06],\n",
      "       [ 4.31348792e-06]])}, 'P_BFGS-EfficientSU2': {1: array([[-9.73034055e-01],\n",
      "       [-2.30128361e-01],\n",
      "       [ 1.15564863e-02],\n",
      "       [ 2.74484939e-03],\n",
      "       [-9.87910078e-03],\n",
      "       [-2.35011830e-03],\n",
      "       [ 3.74769732e-04],\n",
      "       [-1.06045860e-03],\n",
      "       [-4.27386309e-04],\n",
      "       [-1.01087900e-04],\n",
      "       [ 5.13682624e-06],\n",
      "       [ 1.31970098e-06],\n",
      "       [-3.94048248e-05],\n",
      "       [-9.49039585e-06],\n",
      "       [-4.49991331e-06],\n",
      "       [-1.54433654e-05]]), 2: array([[-9.70492239e-01],\n",
      "       [-2.39984726e-01],\n",
      "       [ 1.31997830e-02],\n",
      "       [ 1.86438299e-02],\n",
      "       [-5.34388349e-03],\n",
      "       [-1.32144325e-03],\n",
      "       [ 7.26828097e-05],\n",
      "       [ 1.02659713e-04],\n",
      "       [ 3.44595297e-12],\n",
      "       [-1.74766436e-12],\n",
      "       [ 1.64123950e-10],\n",
      "       [ 4.06748252e-11],\n",
      "       [-6.25788020e-10],\n",
      "       [ 3.17382979e-10],\n",
      "       [-2.98062323e-08],\n",
      "       [-7.38686686e-09]]), 3: array([[-9.70626583e-01],\n",
      "       [-2.39256454e-01],\n",
      "       [ 1.44798918e-02],\n",
      "       [ 2.00017823e-02],\n",
      "       [-5.03391445e-03],\n",
      "       [-1.66518798e-03],\n",
      "       [ 1.55347698e-03],\n",
      "       [-2.34381875e-04],\n",
      "       [-1.68395499e-04],\n",
      "       [ 1.89831069e-04],\n",
      "       [-7.59293794e-06],\n",
      "       [ 5.84083826e-06],\n",
      "       [ 2.58625674e-05],\n",
      "       [-1.17643896e-05],\n",
      "       [ 1.19806500e-05],\n",
      "       [ 4.16820767e-06]]), 4: array([[-9.70630050e-01],\n",
      "       [-2.39245635e-01],\n",
      "       [ 1.44607940e-02],\n",
      "       [ 1.99896505e-02],\n",
      "       [-5.00400711e-03],\n",
      "       [-1.65132274e-03],\n",
      "       [ 1.51683339e-03],\n",
      "       [-2.06291490e-04],\n",
      "       [-1.15180176e-04],\n",
      "       [ 5.09904724e-05],\n",
      "       [ 3.43150374e-05],\n",
      "       [-2.26807442e-05],\n",
      "       [ 3.03267553e-05],\n",
      "       [-4.32839221e-05],\n",
      "       [ 2.54246574e-05],\n",
      "       [ 7.64359463e-06]]), 5: array([[-9.70574250e-01],\n",
      "       [-2.39486250e-01],\n",
      "       [ 1.42931786e-02],\n",
      "       [ 1.99079659e-02],\n",
      "       [-5.09611981e-03],\n",
      "       [-1.70866740e-03],\n",
      "       [ 1.51666236e-03],\n",
      "       [-2.71142632e-04],\n",
      "       [-2.01186893e-04],\n",
      "       [ 1.76769297e-04],\n",
      "       [-4.34772836e-05],\n",
      "       [-1.58394758e-05],\n",
      "       [ 2.72879028e-05],\n",
      "       [-9.75246751e-06],\n",
      "       [ 2.65759363e-06],\n",
      "       [ 4.25284669e-06]]), 6: array([[-9.70582738e-01],\n",
      "       [-2.39450213e-01],\n",
      "       [ 1.43159338e-02],\n",
      "       [ 1.99105821e-02],\n",
      "       [-5.09642302e-03],\n",
      "       [-1.71631971e-03],\n",
      "       [ 1.51617319e-03],\n",
      "       [-2.72335431e-04],\n",
      "       [-2.02397598e-04],\n",
      "       [ 1.76310148e-04],\n",
      "       [-4.39598916e-05],\n",
      "       [-1.61985982e-05],\n",
      "       [ 2.70054626e-05],\n",
      "       [-9.77914272e-06],\n",
      "       [ 2.58374283e-06],\n",
      "       [ 4.25274354e-06]])}}\n",
      "\n",
      "The performance metrics are:\n",
      "{'P_BFGS-RealAmplitudes': {1: {'fidelity': array([[0.99999859]]), 'function_calls': 2340}, 2: {'fidelity': array([[0.99999993]]), 'function_calls': 3133}, 3: {'fidelity': array([[0.99999973]]), 'function_calls': 21947}, 4: {'fidelity': array([[0.99999994]]), 'function_calls': 7728}, 5: {'fidelity': array([[0.99999996]]), 'function_calls': 50025}, 6: {'fidelity': array([[1.]]), 'function_calls': 30682}}, 'P_BFGS-TwoLocal': {1: {'fidelity': array([[0.99999302]]), 'function_calls': 3141}, 2: {'fidelity': array([[0.99999985]]), 'function_calls': 11258}, 3: {'fidelity': array([[0.99999994]]), 'function_calls': 4709}, 4: {'fidelity': array([[1.]]), 'function_calls': 8841}, 5: {'fidelity': array([[1.]]), 'function_calls': 7825}, 6: {'fidelity': array([[1.]]), 'function_calls': 8845}}, 'P_BFGS-EfficientSU2': {1: {'fidelity': array([[0.99957947]]), 'function_calls': 1386}, 2: {'fidelity': array([[0.99999432]]), 'function_calls': 3289}, 3: {'fidelity': array([[0.99999992]]), 'function_calls': 17833}, 4: {'fidelity': array([[0.99999988]]), 'function_calls': 14343}, 5: {'fidelity': array([[1.]]), 'function_calls': 14100}, 6: {'fidelity': array([[1.]]), 'function_calls': 10498}}}\n",
      "\n"
     ]
    }
   ],
   "source": [
    "# Print the results\n",
    "print('The best zeromodes are:')\n",
    "print(zeromodes_N_16)\n",
    "print()\n",
    "\n",
    "print('The performance metrics are:')\n",
    "print(metrics_N_16)\n",
    "print()"
   ]
  },
  {
   "cell_type": "markdown",
   "id": "52a99297-2611-4fde-acea-3f0b7813e6d6",
   "metadata": {},
   "source": [
    "### Computing relative errors in <x^2>"
   ]
  },
  {
   "cell_type": "code",
   "execution_count": 29,
   "id": "c150dd90-b69f-4593-ad5c-03b7cd1b20cc",
   "metadata": {},
   "outputs": [
    {
     "name": "stderr",
     "output_type": "stream",
     "text": [
      "C:\\Users\\Owner\\AppData\\Local\\Temp\\ipykernel_26896\\795971042.py:108: DeprecationWarning: Conversion of an array with ndim > 0 to a scalar is deprecated, and will error in future. Ensure you extract a single element from your array before performing this operation. (Deprecated NumPy 1.25.)\n",
      "  eigenvector[2*i] = eigenvector_old[i]\n"
     ]
    },
    {
     "name": "stdout",
     "output_type": "stream",
     "text": [
      "The errors for RealAmplitudes are:\n",
      "[0.004516437336644318, 0.00017534659333234034, 0.004641073091126609, 0.00266606073429593, 0.0007136230363133777, 0.00026795419734732787]\n",
      "\n",
      "The errors for TwoLocal are:\n",
      "[0.0197145707889133, 0.0007380517572327267, 0.002427563696403335, 0.00022890975849587284, 0.00035482209496189547, 3.750991101606317e-05]\n",
      "\n",
      "The errors for EfficientSU2 are:\n",
      "[0.1053508087672761, 0.014404984786251901, 0.0033023422675540147, 0.002560448389651847, 0.00011858216161452855, 7.401820248463206e-05]\n",
      "\n"
     ]
    }
   ],
   "source": [
    "# Get the zeromodes\n",
    "zeromodes = [\n",
    "    zeromode\n",
    "    for depths in zeromodes_N_16.values()\n",
    "    for zeromode in depths.values()\n",
    "]\n",
    "\n",
    "# Initialize\n",
    "relative_errors = []\n",
    "\n",
    "# Compute \n",
    "for zeromode in zeromodes:\n",
    "    x, y = get_pdf(nmax, x, dx, L, shift = 0, zeromode_qpe = zeromode, normalize = True, make_even = True)\n",
    "    \n",
    "    # Ensure quantum_expectation is a scalar\n",
    "    quantum_expectation = compute_expectation_x_squared_simpson(x, y, 2)\n",
    "    if isinstance(quantum_expectation, np.ndarray):\n",
    "        quantum_expectation = quantum_expectation.item()  # Convert to scalar if necessary\n",
    "    \n",
    "    # Compute the relative error\n",
    "    relative_error = compute_errors(classical_expectation, quantum_expectation)\n",
    "    relative_errors.append(relative_error)\n",
    "\n",
    "# Get the relative errors for the individual optimizers\n",
    "errors_realamps = relative_errors[:6]\n",
    "errors_twolocal = relative_errors[6:12]\n",
    "errors_efficientsu2 = relative_errors[12:18]\n",
    "\n",
    "## Print the relative errors\n",
    "print('The errors for RealAmplitudes are:')\n",
    "print(errors_realamps)\n",
    "print()\n",
    "\n",
    "print('The errors for TwoLocal are:')\n",
    "print(errors_twolocal)\n",
    "print()\n",
    "\n",
    "print('The errors for EfficientSU2 are:')\n",
    "print(errors_efficientsu2)\n",
    "print()"
   ]
  },
  {
   "cell_type": "markdown",
   "id": "741da683-63b6-49e6-b1f2-27f8bb81a991",
   "metadata": {},
   "source": [
    "### For a = -1 (non-Gaussian) case \n",
    "\n",
    "### For N = 2\n",
    "\n",
    "### Get the matrix and the zeromode"
   ]
  },
  {
   "cell_type": "code",
   "execution_count": 33,
   "id": "e083d122-591d-47f3-9a3e-2cc58643c813",
   "metadata": {},
   "outputs": [
    {
     "name": "stdout",
     "output_type": "stream",
     "text": [
      "The matrix is:\n",
      "[[ 17.015625   -37.25568853]\n",
      " [-37.25568853  84.515625  ]]\n",
      "\n",
      "The zeromode is:\n",
      "[[-0.91416021]\n",
      " [-0.40535307]]\n",
      "\n",
      "The value of <x^2> is:\n",
      "0.48931145833928297\n",
      "\n"
     ]
    },
    {
     "name": "stderr",
     "output_type": "stream",
     "text": [
      "C:\\Users\\Owner\\AppData\\Local\\Temp\\ipykernel_9592\\795971042.py:108: DeprecationWarning: Conversion of an array with ndim > 0 to a scalar is deprecated, and will error in future. Ensure you extract a single element from your array before performing this operation. (Deprecated NumPy 1.25.)\n",
      "  eigenvector[2*i] = eigenvector_old[i]\n"
     ]
    }
   ],
   "source": [
    "## Get the matrix and zeromode\n",
    "nmax = 3\n",
    "a = -1\n",
    "gamma = 1\n",
    "dx = 0.01\n",
    "c = 2\n",
    "L = 1/2\n",
    "x = np.linspace(-4, 4, int(8/dx))\n",
    "\n",
    "# Matrix and zeromode\n",
    "matrix, zeromode_classic = get_zeromode(nmax, a, c, L, gamma)\n",
    "\n",
    "## Print the matrix and zeromode\n",
    "print('The matrix is:')\n",
    "print(matrix)\n",
    "print()\n",
    "\n",
    "# Print the zeromode\n",
    "print('The zeromode is:')\n",
    "print(zeromode_classic)\n",
    "print()\n",
    "\n",
    "## Compute the classical <x^2> value\n",
    "x, y = get_pdf(nmax, x, dx, L, shift = 0, zeromode_qpe = zeromode_classic, normalize = True, make_even = True)\n",
    "classical_expectation = compute_expectation_x_squared_simpson(x, y, 2)\n",
    "\n",
    "# Print the classical expectation value\n",
    "print('The value of <x^2> is:')\n",
    "print(classical_expectation)\n",
    "print()"
   ]
  },
  {
   "cell_type": "markdown",
   "id": "e1230924-6f96-4ff8-8bae-28fd99ab7b3a",
   "metadata": {},
   "source": [
    "### Run VQE for multiple ansatz depths (fix at 5000 optimization iterations)"
   ]
  },
  {
   "cell_type": "code",
   "execution_count": 36,
   "id": "81ceffcd-800b-4c8c-bdaa-9c65fba9a314",
   "metadata": {},
   "outputs": [
    {
     "name": "stderr",
     "output_type": "stream",
     "text": [
      "For Windows, using only current process. Multiple core use not supported.\n"
     ]
    },
    {
     "name": "stdout",
     "output_type": "stream",
     "text": [
      "\n",
      "Running VQE for optimizer-ansatz pair: P_BFGS-RealAmplitudes\n"
     ]
    },
    {
     "name": "stderr",
     "output_type": "stream",
     "text": [
      "For Windows, using only current process. Multiple core use not supported.\n",
      "For Windows, using only current process. Multiple core use not supported.\n",
      "For Windows, using only current process. Multiple core use not supported.\n",
      "For Windows, using only current process. Multiple core use not supported.\n",
      "For Windows, using only current process. Multiple core use not supported.\n",
      "For Windows, using only current process. Multiple core use not supported.\n",
      "For Windows, using only current process. Multiple core use not supported.\n",
      "For Windows, using only current process. Multiple core use not supported.\n",
      "For Windows, using only current process. Multiple core use not supported.\n",
      "For Windows, using only current process. Multiple core use not supported.\n",
      "For Windows, using only current process. Multiple core use not supported.\n",
      "For Windows, using only current process. Multiple core use not supported.\n"
     ]
    },
    {
     "name": "stdout",
     "output_type": "stream",
     "text": [
      "P_BFGS-RealAmplitudes - Depth 1: Best fidelity = [[1.]], Function calls = 18,             Best zeromode: [[0.91416021]\n",
      " [0.40535307]]\n"
     ]
    },
    {
     "name": "stderr",
     "output_type": "stream",
     "text": [
      "For Windows, using only current process. Multiple core use not supported.\n",
      "For Windows, using only current process. Multiple core use not supported.\n",
      "For Windows, using only current process. Multiple core use not supported.\n",
      "For Windows, using only current process. Multiple core use not supported.\n",
      "For Windows, using only current process. Multiple core use not supported.\n",
      "For Windows, using only current process. Multiple core use not supported.\n",
      "For Windows, using only current process. Multiple core use not supported.\n",
      "For Windows, using only current process. Multiple core use not supported.\n"
     ]
    },
    {
     "name": "stdout",
     "output_type": "stream",
     "text": [
      "P_BFGS-RealAmplitudes - Depth 2: Best fidelity = [[1.]], Function calls = 32,             Best zeromode: [[0.91416021]\n",
      " [0.40535307]]\n"
     ]
    },
    {
     "name": "stderr",
     "output_type": "stream",
     "text": [
      "For Windows, using only current process. Multiple core use not supported.\n",
      "For Windows, using only current process. Multiple core use not supported.\n",
      "For Windows, using only current process. Multiple core use not supported.\n",
      "For Windows, using only current process. Multiple core use not supported.\n",
      "For Windows, using only current process. Multiple core use not supported.\n",
      "For Windows, using only current process. Multiple core use not supported.\n",
      "For Windows, using only current process. Multiple core use not supported.\n",
      "For Windows, using only current process. Multiple core use not supported.\n",
      "For Windows, using only current process. Multiple core use not supported.\n",
      "For Windows, using only current process. Multiple core use not supported.\n",
      "For Windows, using only current process. Multiple core use not supported.\n"
     ]
    },
    {
     "name": "stdout",
     "output_type": "stream",
     "text": [
      "P_BFGS-RealAmplitudes - Depth 3: Best fidelity = [[1.]], Function calls = 35,             Best zeromode: [[0.91416021]\n",
      " [0.40535307]]\n"
     ]
    },
    {
     "name": "stderr",
     "output_type": "stream",
     "text": [
      "For Windows, using only current process. Multiple core use not supported.\n",
      "For Windows, using only current process. Multiple core use not supported.\n",
      "For Windows, using only current process. Multiple core use not supported.\n",
      "For Windows, using only current process. Multiple core use not supported.\n",
      "For Windows, using only current process. Multiple core use not supported.\n",
      "For Windows, using only current process. Multiple core use not supported.\n",
      "For Windows, using only current process. Multiple core use not supported.\n",
      "For Windows, using only current process. Multiple core use not supported.\n",
      "For Windows, using only current process. Multiple core use not supported.\n",
      "For Windows, using only current process. Multiple core use not supported.\n"
     ]
    },
    {
     "name": "stdout",
     "output_type": "stream",
     "text": [
      "P_BFGS-RealAmplitudes - Depth 4: Best fidelity = [[1.]], Function calls = 36,             Best zeromode: [[0.9141602 ]\n",
      " [0.40535309]]\n"
     ]
    },
    {
     "name": "stderr",
     "output_type": "stream",
     "text": [
      "For Windows, using only current process. Multiple core use not supported.\n",
      "For Windows, using only current process. Multiple core use not supported.\n",
      "For Windows, using only current process. Multiple core use not supported.\n",
      "For Windows, using only current process. Multiple core use not supported.\n",
      "For Windows, using only current process. Multiple core use not supported.\n",
      "For Windows, using only current process. Multiple core use not supported.\n",
      "For Windows, using only current process. Multiple core use not supported.\n",
      "For Windows, using only current process. Multiple core use not supported.\n",
      "For Windows, using only current process. Multiple core use not supported.\n"
     ]
    },
    {
     "name": "stdout",
     "output_type": "stream",
     "text": [
      "P_BFGS-RealAmplitudes - Depth 5: Best fidelity = [[1.]], Function calls = 63,             Best zeromode: [[-0.91416021]\n",
      " [-0.40535308]]\n"
     ]
    },
    {
     "name": "stderr",
     "output_type": "stream",
     "text": [
      "For Windows, using only current process. Multiple core use not supported.\n",
      "For Windows, using only current process. Multiple core use not supported.\n",
      "For Windows, using only current process. Multiple core use not supported.\n",
      "For Windows, using only current process. Multiple core use not supported.\n",
      "For Windows, using only current process. Multiple core use not supported.\n",
      "For Windows, using only current process. Multiple core use not supported.\n",
      "For Windows, using only current process. Multiple core use not supported.\n",
      "For Windows, using only current process. Multiple core use not supported.\n",
      "For Windows, using only current process. Multiple core use not supported.\n",
      "For Windows, using only current process. Multiple core use not supported.\n",
      "For Windows, using only current process. Multiple core use not supported.\n",
      "For Windows, using only current process. Multiple core use not supported.\n",
      "For Windows, using only current process. Multiple core use not supported.\n"
     ]
    },
    {
     "name": "stdout",
     "output_type": "stream",
     "text": [
      "P_BFGS-RealAmplitudes - Depth 6: Best fidelity = [[1.]], Function calls = 72,             Best zeromode: [[0.91416021]\n",
      " [0.40535307]]\n",
      "\n",
      "Running VQE for optimizer-ansatz pair: P_BFGS-TwoLocal\n"
     ]
    },
    {
     "name": "stderr",
     "output_type": "stream",
     "text": [
      "For Windows, using only current process. Multiple core use not supported.\n",
      "For Windows, using only current process. Multiple core use not supported.\n",
      "For Windows, using only current process. Multiple core use not supported.\n",
      "For Windows, using only current process. Multiple core use not supported.\n",
      "For Windows, using only current process. Multiple core use not supported.\n",
      "For Windows, using only current process. Multiple core use not supported.\n",
      "For Windows, using only current process. Multiple core use not supported.\n",
      "For Windows, using only current process. Multiple core use not supported.\n"
     ]
    },
    {
     "name": "stdout",
     "output_type": "stream",
     "text": [
      "P_BFGS-TwoLocal - Depth 1: Best fidelity = [[1.]], Function calls = 15,             Best zeromode: [[0.91416021]\n",
      " [0.40535307]]\n"
     ]
    },
    {
     "name": "stderr",
     "output_type": "stream",
     "text": [
      "For Windows, using only current process. Multiple core use not supported.\n",
      "For Windows, using only current process. Multiple core use not supported.\n",
      "For Windows, using only current process. Multiple core use not supported.\n",
      "For Windows, using only current process. Multiple core use not supported.\n",
      "For Windows, using only current process. Multiple core use not supported.\n",
      "For Windows, using only current process. Multiple core use not supported.\n",
      "For Windows, using only current process. Multiple core use not supported.\n",
      "For Windows, using only current process. Multiple core use not supported.\n",
      "For Windows, using only current process. Multiple core use not supported.\n",
      "For Windows, using only current process. Multiple core use not supported.\n",
      "For Windows, using only current process. Multiple core use not supported.\n"
     ]
    },
    {
     "name": "stdout",
     "output_type": "stream",
     "text": [
      "P_BFGS-TwoLocal - Depth 2: Best fidelity = [[1.]], Function calls = 24,             Best zeromode: [[0.91416021]\n",
      " [0.40535306]]\n"
     ]
    },
    {
     "name": "stderr",
     "output_type": "stream",
     "text": [
      "For Windows, using only current process. Multiple core use not supported.\n",
      "For Windows, using only current process. Multiple core use not supported.\n",
      "For Windows, using only current process. Multiple core use not supported.\n",
      "For Windows, using only current process. Multiple core use not supported.\n",
      "For Windows, using only current process. Multiple core use not supported.\n",
      "For Windows, using only current process. Multiple core use not supported.\n",
      "For Windows, using only current process. Multiple core use not supported.\n",
      "For Windows, using only current process. Multiple core use not supported.\n",
      "For Windows, using only current process. Multiple core use not supported.\n"
     ]
    },
    {
     "name": "stdout",
     "output_type": "stream",
     "text": [
      "P_BFGS-TwoLocal - Depth 3: Best fidelity = [[1.]], Function calls = 25,             Best zeromode: [[-0.91416021]\n",
      " [-0.40535307]]\n"
     ]
    },
    {
     "name": "stderr",
     "output_type": "stream",
     "text": [
      "For Windows, using only current process. Multiple core use not supported.\n",
      "For Windows, using only current process. Multiple core use not supported.\n",
      "For Windows, using only current process. Multiple core use not supported.\n",
      "For Windows, using only current process. Multiple core use not supported.\n",
      "For Windows, using only current process. Multiple core use not supported.\n",
      "For Windows, using only current process. Multiple core use not supported.\n",
      "For Windows, using only current process. Multiple core use not supported.\n",
      "For Windows, using only current process. Multiple core use not supported.\n",
      "For Windows, using only current process. Multiple core use not supported.\n"
     ]
    },
    {
     "name": "stdout",
     "output_type": "stream",
     "text": [
      "P_BFGS-TwoLocal - Depth 4: Best fidelity = [[1.]], Function calls = 30,             Best zeromode: [[0.91416021]\n",
      " [0.40535307]]\n"
     ]
    },
    {
     "name": "stderr",
     "output_type": "stream",
     "text": [
      "For Windows, using only current process. Multiple core use not supported.\n",
      "For Windows, using only current process. Multiple core use not supported.\n",
      "For Windows, using only current process. Multiple core use not supported.\n",
      "For Windows, using only current process. Multiple core use not supported.\n",
      "For Windows, using only current process. Multiple core use not supported.\n",
      "For Windows, using only current process. Multiple core use not supported.\n",
      "For Windows, using only current process. Multiple core use not supported.\n",
      "For Windows, using only current process. Multiple core use not supported.\n",
      "For Windows, using only current process. Multiple core use not supported.\n",
      "For Windows, using only current process. Multiple core use not supported.\n",
      "For Windows, using only current process. Multiple core use not supported.\n"
     ]
    },
    {
     "name": "stdout",
     "output_type": "stream",
     "text": [
      "P_BFGS-TwoLocal - Depth 5: Best fidelity = [[1.]], Function calls = 35,             Best zeromode: [[-0.91416021]\n",
      " [-0.40535307]]\n"
     ]
    },
    {
     "name": "stderr",
     "output_type": "stream",
     "text": [
      "For Windows, using only current process. Multiple core use not supported.\n",
      "For Windows, using only current process. Multiple core use not supported.\n",
      "For Windows, using only current process. Multiple core use not supported.\n",
      "For Windows, using only current process. Multiple core use not supported.\n",
      "For Windows, using only current process. Multiple core use not supported.\n",
      "For Windows, using only current process. Multiple core use not supported.\n",
      "For Windows, using only current process. Multiple core use not supported.\n",
      "For Windows, using only current process. Multiple core use not supported.\n",
      "For Windows, using only current process. Multiple core use not supported.\n",
      "For Windows, using only current process. Multiple core use not supported.\n",
      "For Windows, using only current process. Multiple core use not supported.\n"
     ]
    },
    {
     "name": "stdout",
     "output_type": "stream",
     "text": [
      "P_BFGS-TwoLocal - Depth 6: Best fidelity = [[1.]], Function calls = 48,             Best zeromode: [[0.91416021]\n",
      " [0.40535307]]\n",
      "\n",
      "Running VQE for optimizer-ansatz pair: P_BFGS-EfficientSU2\n"
     ]
    },
    {
     "name": "stderr",
     "output_type": "stream",
     "text": [
      "For Windows, using only current process. Multiple core use not supported.\n",
      "For Windows, using only current process. Multiple core use not supported.\n",
      "For Windows, using only current process. Multiple core use not supported.\n",
      "For Windows, using only current process. Multiple core use not supported.\n",
      "For Windows, using only current process. Multiple core use not supported.\n",
      "For Windows, using only current process. Multiple core use not supported.\n",
      "For Windows, using only current process. Multiple core use not supported.\n",
      "For Windows, using only current process. Multiple core use not supported.\n",
      "For Windows, using only current process. Multiple core use not supported.\n",
      "For Windows, using only current process. Multiple core use not supported.\n"
     ]
    },
    {
     "name": "stdout",
     "output_type": "stream",
     "text": [
      "P_BFGS-EfficientSU2 - Depth 1: Best fidelity = [[1.]], Function calls = 18,             Best zeromode: [[0.91416021]\n",
      " [0.40535307]]\n"
     ]
    },
    {
     "name": "stderr",
     "output_type": "stream",
     "text": [
      "For Windows, using only current process. Multiple core use not supported.\n",
      "For Windows, using only current process. Multiple core use not supported.\n",
      "For Windows, using only current process. Multiple core use not supported.\n",
      "For Windows, using only current process. Multiple core use not supported.\n",
      "For Windows, using only current process. Multiple core use not supported.\n",
      "For Windows, using only current process. Multiple core use not supported.\n",
      "For Windows, using only current process. Multiple core use not supported.\n",
      "For Windows, using only current process. Multiple core use not supported.\n",
      "For Windows, using only current process. Multiple core use not supported.\n"
     ]
    },
    {
     "name": "stdout",
     "output_type": "stream",
     "text": [
      "P_BFGS-EfficientSU2 - Depth 2: Best fidelity = [[1.]], Function calls = 32,             Best zeromode: [[0.91416021]\n",
      " [0.40535307]]\n"
     ]
    },
    {
     "name": "stderr",
     "output_type": "stream",
     "text": [
      "For Windows, using only current process. Multiple core use not supported.\n",
      "For Windows, using only current process. Multiple core use not supported.\n",
      "For Windows, using only current process. Multiple core use not supported.\n",
      "For Windows, using only current process. Multiple core use not supported.\n",
      "For Windows, using only current process. Multiple core use not supported.\n",
      "For Windows, using only current process. Multiple core use not supported.\n",
      "For Windows, using only current process. Multiple core use not supported.\n",
      "For Windows, using only current process. Multiple core use not supported.\n",
      "For Windows, using only current process. Multiple core use not supported.\n",
      "For Windows, using only current process. Multiple core use not supported.\n"
     ]
    },
    {
     "name": "stdout",
     "output_type": "stream",
     "text": [
      "P_BFGS-EfficientSU2 - Depth 3: Best fidelity = [[1.]], Function calls = 35,             Best zeromode: [[0.91416021]\n",
      " [0.40535307]]\n"
     ]
    },
    {
     "name": "stderr",
     "output_type": "stream",
     "text": [
      "For Windows, using only current process. Multiple core use not supported.\n",
      "For Windows, using only current process. Multiple core use not supported.\n",
      "For Windows, using only current process. Multiple core use not supported.\n",
      "For Windows, using only current process. Multiple core use not supported.\n",
      "For Windows, using only current process. Multiple core use not supported.\n",
      "For Windows, using only current process. Multiple core use not supported.\n",
      "For Windows, using only current process. Multiple core use not supported.\n",
      "For Windows, using only current process. Multiple core use not supported.\n",
      "For Windows, using only current process. Multiple core use not supported.\n",
      "For Windows, using only current process. Multiple core use not supported.\n"
     ]
    },
    {
     "name": "stdout",
     "output_type": "stream",
     "text": [
      "P_BFGS-EfficientSU2 - Depth 4: Best fidelity = [[1.]], Function calls = 36,             Best zeromode: [[0.9141602 ]\n",
      " [0.40535309]]\n"
     ]
    },
    {
     "name": "stderr",
     "output_type": "stream",
     "text": [
      "For Windows, using only current process. Multiple core use not supported.\n",
      "For Windows, using only current process. Multiple core use not supported.\n",
      "For Windows, using only current process. Multiple core use not supported.\n",
      "For Windows, using only current process. Multiple core use not supported.\n",
      "For Windows, using only current process. Multiple core use not supported.\n",
      "For Windows, using only current process. Multiple core use not supported.\n",
      "For Windows, using only current process. Multiple core use not supported.\n",
      "For Windows, using only current process. Multiple core use not supported.\n",
      "For Windows, using only current process. Multiple core use not supported.\n"
     ]
    },
    {
     "name": "stdout",
     "output_type": "stream",
     "text": [
      "P_BFGS-EfficientSU2 - Depth 5: Best fidelity = [[1.]], Function calls = 63,             Best zeromode: [[-0.91416021]\n",
      " [-0.40535308]]\n"
     ]
    },
    {
     "name": "stderr",
     "output_type": "stream",
     "text": [
      "For Windows, using only current process. Multiple core use not supported.\n",
      "For Windows, using only current process. Multiple core use not supported.\n",
      "For Windows, using only current process. Multiple core use not supported.\n",
      "For Windows, using only current process. Multiple core use not supported.\n",
      "For Windows, using only current process. Multiple core use not supported.\n",
      "For Windows, using only current process. Multiple core use not supported.\n",
      "For Windows, using only current process. Multiple core use not supported.\n",
      "For Windows, using only current process. Multiple core use not supported.\n",
      "For Windows, using only current process. Multiple core use not supported.\n"
     ]
    },
    {
     "name": "stdout",
     "output_type": "stream",
     "text": [
      "P_BFGS-EfficientSU2 - Depth 6: Best fidelity = [[1.]], Function calls = 72,             Best zeromode: [[0.91416021]\n",
      " [0.40535307]]\n"
     ]
    }
   ],
   "source": [
    "## Get the optimizers\n",
    "maxiter = 5000\n",
    "optimizer = P_BFGS(maxfun = maxiter)\n",
    "\n",
    "# Define parameters\n",
    "dimension = matrix.shape[0]\n",
    "num_qubits = int(np.log2(dimension))\n",
    "max_depth = 6\n",
    "\n",
    "# Compute \n",
    "zeromodes_N_2, metrics_N_2 = analyze_ansatz_performance(matrix, zeromode_classic, optimizer, num_qubits, max_depth)"
   ]
  },
  {
   "cell_type": "markdown",
   "id": "9a4d626e-cf02-415d-895e-355880017fe6",
   "metadata": {},
   "source": [
    "### Print the results"
   ]
  },
  {
   "cell_type": "code",
   "execution_count": 39,
   "id": "cba494ac-cb92-4544-b053-08a9beec77f9",
   "metadata": {},
   "outputs": [
    {
     "name": "stdout",
     "output_type": "stream",
     "text": [
      "The best zeromodes are:\n",
      "{'P_BFGS-RealAmplitudes': {1: array([[0.91416021],\n",
      "       [0.40535307]]), 2: array([[0.91416021],\n",
      "       [0.40535307]]), 3: array([[0.91416021],\n",
      "       [0.40535307]]), 4: array([[0.9141602 ],\n",
      "       [0.40535309]]), 5: array([[-0.91416021],\n",
      "       [-0.40535308]]), 6: array([[0.91416021],\n",
      "       [0.40535307]])}, 'P_BFGS-TwoLocal': {1: array([[0.91416021],\n",
      "       [0.40535307]]), 2: array([[0.91416021],\n",
      "       [0.40535306]]), 3: array([[-0.91416021],\n",
      "       [-0.40535307]]), 4: array([[0.91416021],\n",
      "       [0.40535307]]), 5: array([[-0.91416021],\n",
      "       [-0.40535307]]), 6: array([[0.91416021],\n",
      "       [0.40535307]])}, 'P_BFGS-EfficientSU2': {1: array([[0.91416021],\n",
      "       [0.40535307]]), 2: array([[0.91416021],\n",
      "       [0.40535307]]), 3: array([[0.91416021],\n",
      "       [0.40535307]]), 4: array([[0.9141602 ],\n",
      "       [0.40535309]]), 5: array([[-0.91416021],\n",
      "       [-0.40535308]]), 6: array([[0.91416021],\n",
      "       [0.40535307]])}}\n",
      "\n",
      "The performance metrics are:\n",
      "{'P_BFGS-RealAmplitudes': {1: {'fidelity': array([[1.]]), 'function_calls': 18}, 2: {'fidelity': array([[1.]]), 'function_calls': 32}, 3: {'fidelity': array([[1.]]), 'function_calls': 35}, 4: {'fidelity': array([[1.]]), 'function_calls': 36}, 5: {'fidelity': array([[1.]]), 'function_calls': 63}, 6: {'fidelity': array([[1.]]), 'function_calls': 72}}, 'P_BFGS-TwoLocal': {1: {'fidelity': array([[1.]]), 'function_calls': 15}, 2: {'fidelity': array([[1.]]), 'function_calls': 24}, 3: {'fidelity': array([[1.]]), 'function_calls': 25}, 4: {'fidelity': array([[1.]]), 'function_calls': 30}, 5: {'fidelity': array([[1.]]), 'function_calls': 35}, 6: {'fidelity': array([[1.]]), 'function_calls': 48}}, 'P_BFGS-EfficientSU2': {1: {'fidelity': array([[1.]]), 'function_calls': 18}, 2: {'fidelity': array([[1.]]), 'function_calls': 32}, 3: {'fidelity': array([[1.]]), 'function_calls': 35}, 4: {'fidelity': array([[1.]]), 'function_calls': 36}, 5: {'fidelity': array([[1.]]), 'function_calls': 63}, 6: {'fidelity': array([[1.]]), 'function_calls': 72}}}\n",
      "\n"
     ]
    }
   ],
   "source": [
    "# Print the results\n",
    "print('The best zeromodes are:')\n",
    "print(zeromodes_N_2)\n",
    "print()\n",
    "\n",
    "print('The performance metrics are:')\n",
    "print(metrics_N_2)\n",
    "print()"
   ]
  },
  {
   "cell_type": "markdown",
   "id": "8564e24d-61d3-481f-b7e3-f7fc73530155",
   "metadata": {},
   "source": [
    "### Computing relative errors in <x^2>"
   ]
  },
  {
   "cell_type": "code",
   "execution_count": 42,
   "id": "ac008d72-0ab1-4ce4-a924-50293ced7f6c",
   "metadata": {},
   "outputs": [
    {
     "name": "stderr",
     "output_type": "stream",
     "text": [
      "C:\\Users\\Owner\\AppData\\Local\\Temp\\ipykernel_9592\\795971042.py:108: DeprecationWarning: Conversion of an array with ndim > 0 to a scalar is deprecated, and will error in future. Ensure you extract a single element from your array before performing this operation. (Deprecated NumPy 1.25.)\n",
      "  eigenvector[2*i] = eigenvector_old[i]\n"
     ]
    },
    {
     "name": "stdout",
     "output_type": "stream",
     "text": [
      "The errors for RealAmplitudes are:\n",
      "[2.621293731546903e-09, 1.0017491779493877e-10, 2.1631113574015795e-09, 1.5468789817012852e-08, 4.015901544740527e-09, 2.8271304544424898e-09]\n",
      "\n",
      "The errors for TwoLocal are:\n",
      "[6.212846797494754e-10, 8.866759288450307e-09, 6.91177629301338e-10, 6.061814169145939e-09, 2.776463335652773e-09, 2.6125838013722766e-09]\n",
      "\n",
      "The errors for EfficientSU2 are:\n",
      "[2.621293731546903e-09, 1.0017491779493877e-10, 2.1631113574015795e-09, 1.5468789817012852e-08, 4.015901544740527e-09, 2.8271304544424898e-09]\n",
      "\n"
     ]
    }
   ],
   "source": [
    "# Get the zeromodes\n",
    "zeromodes = [\n",
    "    zeromode\n",
    "    for depths in zeromodes_N_2.values()\n",
    "    for zeromode in depths.values()\n",
    "]\n",
    "\n",
    "# Initialize\n",
    "relative_errors = []\n",
    "\n",
    "# Compute \n",
    "for zeromode in zeromodes:\n",
    "    x, y = get_pdf(nmax, x, dx, L, shift = 0, zeromode_qpe = zeromode, normalize = True, make_even = True)\n",
    "    \n",
    "    # Ensure quantum_expectation is a scalar\n",
    "    quantum_expectation = compute_expectation_x_squared_simpson(x, y, 2)\n",
    "    if isinstance(quantum_expectation, np.ndarray):\n",
    "        quantum_expectation = quantum_expectation.item()  # Convert to scalar if necessary\n",
    "    \n",
    "    # Compute the relative error\n",
    "    relative_error = compute_errors(classical_expectation, quantum_expectation)\n",
    "    relative_errors.append(relative_error)\n",
    "\n",
    "# Get the relative errors for the individual optimizers\n",
    "errors_realamps = relative_errors[:6]\n",
    "errors_twolocal = relative_errors[6:12]\n",
    "errors_efficientsu2 = relative_errors[12:18]\n",
    "\n",
    "## Print the relative errors\n",
    "print('The errors for RealAmplitudes are:')\n",
    "print(errors_realamps)\n",
    "print()\n",
    "\n",
    "print('The errors for TwoLocal are:')\n",
    "print(errors_twolocal)\n",
    "print()\n",
    "\n",
    "print('The errors for EfficientSU2 are:')\n",
    "print(errors_efficientsu2)\n",
    "print()"
   ]
  },
  {
   "cell_type": "markdown",
   "id": "f4244fe8-4ed4-4a18-9791-b9218aa8190f",
   "metadata": {},
   "source": [
    "### For N = 4\n",
    "\n",
    "### Get the matrix and the zeromode"
   ]
  },
  {
   "cell_type": "code",
   "execution_count": 45,
   "id": "d82a0abd-b413-451e-b90b-7c5106ebea04",
   "metadata": {},
   "outputs": [
    {
     "name": "stdout",
     "output_type": "stream",
     "text": [
      "The matrix is:\n",
      "[[  17.390625    -41.49832922   41.64132563   -2.51557647]\n",
      " [ -41.49832922  138.140625   -204.49024847  154.16103593]\n",
      " [  41.64132563 -204.49024847  387.390625   -424.31381877]\n",
      " [  -2.51557647  154.16103593 -424.31381877  790.140625  ]]\n",
      "\n",
      "The zeromode is:\n",
      "[[-0.80492107]\n",
      " [-0.55178885]\n",
      " [-0.21791911]\n",
      " [-0.01193297]]\n",
      "\n",
      "The value of <x^2> is:\n",
      "0.7580435055926756\n",
      "\n"
     ]
    },
    {
     "name": "stderr",
     "output_type": "stream",
     "text": [
      "C:\\Users\\Owner\\AppData\\Local\\Temp\\ipykernel_9592\\795971042.py:108: DeprecationWarning: Conversion of an array with ndim > 0 to a scalar is deprecated, and will error in future. Ensure you extract a single element from your array before performing this operation. (Deprecated NumPy 1.25.)\n",
      "  eigenvector[2*i] = eigenvector_old[i]\n"
     ]
    }
   ],
   "source": [
    "## Get the matrix and zeromode\n",
    "nmax = 7\n",
    "a = -1\n",
    "gamma = 1\n",
    "dx = 0.01\n",
    "c = 2\n",
    "L = 1/2\n",
    "x = np.linspace(-4, 4, int(8/dx))\n",
    "\n",
    "# Matrix and zeromode\n",
    "matrix, zeromode_classic = get_zeromode(nmax, a, c, L, gamma)\n",
    "\n",
    "## Print the matrix and zeromode\n",
    "print('The matrix is:')\n",
    "print(matrix)\n",
    "print()\n",
    "\n",
    "# Print the zeromode\n",
    "print('The zeromode is:')\n",
    "print(zeromode_classic)\n",
    "print()\n",
    "\n",
    "## Compute the classical <x^2> value\n",
    "x, y = get_pdf(nmax, x, dx, L, shift = 0, zeromode_qpe = zeromode_classic, normalize = True, make_even = True)\n",
    "classical_expectation = compute_expectation_x_squared_simpson(x, y, 2)\n",
    "\n",
    "# Print the classical expectation value\n",
    "print('The value of <x^2> is:')\n",
    "print(classical_expectation)\n",
    "print()"
   ]
  },
  {
   "cell_type": "markdown",
   "id": "d03a71fa-c669-47a1-b278-3239ca9f36e7",
   "metadata": {},
   "source": [
    "### Run VQE for multiple ansatz depths (fix at 5000 optimization iterations)"
   ]
  },
  {
   "cell_type": "code",
   "execution_count": 48,
   "id": "e2777a73-4618-4ada-a176-96dd6b2cc521",
   "metadata": {},
   "outputs": [
    {
     "name": "stderr",
     "output_type": "stream",
     "text": [
      "For Windows, using only current process. Multiple core use not supported.\n"
     ]
    },
    {
     "name": "stdout",
     "output_type": "stream",
     "text": [
      "\n",
      "Running VQE for optimizer-ansatz pair: P_BFGS-RealAmplitudes\n"
     ]
    },
    {
     "name": "stderr",
     "output_type": "stream",
     "text": [
      "For Windows, using only current process. Multiple core use not supported.\n",
      "For Windows, using only current process. Multiple core use not supported.\n",
      "For Windows, using only current process. Multiple core use not supported.\n",
      "For Windows, using only current process. Multiple core use not supported.\n",
      "For Windows, using only current process. Multiple core use not supported.\n",
      "For Windows, using only current process. Multiple core use not supported.\n",
      "For Windows, using only current process. Multiple core use not supported.\n",
      "For Windows, using only current process. Multiple core use not supported.\n",
      "For Windows, using only current process. Multiple core use not supported.\n",
      "For Windows, using only current process. Multiple core use not supported.\n"
     ]
    },
    {
     "name": "stdout",
     "output_type": "stream",
     "text": [
      "P_BFGS-RealAmplitudes - Depth 1: Best fidelity = [[1.]], Function calls = 140,             Best zeromode: [[0.80492106]\n",
      " [0.55178886]\n",
      " [0.21791912]\n",
      " [0.01193296]]\n"
     ]
    },
    {
     "name": "stderr",
     "output_type": "stream",
     "text": [
      "For Windows, using only current process. Multiple core use not supported.\n",
      "For Windows, using only current process. Multiple core use not supported.\n",
      "For Windows, using only current process. Multiple core use not supported.\n",
      "For Windows, using only current process. Multiple core use not supported.\n",
      "For Windows, using only current process. Multiple core use not supported.\n",
      "For Windows, using only current process. Multiple core use not supported.\n",
      "For Windows, using only current process. Multiple core use not supported.\n",
      "For Windows, using only current process. Multiple core use not supported.\n",
      "For Windows, using only current process. Multiple core use not supported.\n",
      "For Windows, using only current process. Multiple core use not supported.\n"
     ]
    },
    {
     "name": "stdout",
     "output_type": "stream",
     "text": [
      "P_BFGS-RealAmplitudes - Depth 2: Best fidelity = [[1.]], Function calls = 189,             Best zeromode: [[-0.80492107]\n",
      " [-0.55178884]\n",
      " [-0.21791913]\n",
      " [-0.01193299]]\n"
     ]
    },
    {
     "name": "stderr",
     "output_type": "stream",
     "text": [
      "For Windows, using only current process. Multiple core use not supported.\n",
      "For Windows, using only current process. Multiple core use not supported.\n",
      "For Windows, using only current process. Multiple core use not supported.\n",
      "For Windows, using only current process. Multiple core use not supported.\n",
      "For Windows, using only current process. Multiple core use not supported.\n",
      "For Windows, using only current process. Multiple core use not supported.\n",
      "For Windows, using only current process. Multiple core use not supported.\n",
      "For Windows, using only current process. Multiple core use not supported.\n",
      "For Windows, using only current process. Multiple core use not supported.\n",
      "For Windows, using only current process. Multiple core use not supported.\n"
     ]
    },
    {
     "name": "stdout",
     "output_type": "stream",
     "text": [
      "P_BFGS-RealAmplitudes - Depth 3: Best fidelity = [[1.]], Function calls = 576,             Best zeromode: [[-0.80492107]\n",
      " [-0.55178884]\n",
      " [-0.21791912]\n",
      " [-0.01193298]]\n"
     ]
    },
    {
     "name": "stderr",
     "output_type": "stream",
     "text": [
      "For Windows, using only current process. Multiple core use not supported.\n",
      "For Windows, using only current process. Multiple core use not supported.\n",
      "For Windows, using only current process. Multiple core use not supported.\n",
      "For Windows, using only current process. Multiple core use not supported.\n",
      "For Windows, using only current process. Multiple core use not supported.\n",
      "For Windows, using only current process. Multiple core use not supported.\n",
      "For Windows, using only current process. Multiple core use not supported.\n",
      "For Windows, using only current process. Multiple core use not supported.\n",
      "For Windows, using only current process. Multiple core use not supported.\n",
      "For Windows, using only current process. Multiple core use not supported.\n"
     ]
    },
    {
     "name": "stdout",
     "output_type": "stream",
     "text": [
      "P_BFGS-RealAmplitudes - Depth 4: Best fidelity = [[1.]], Function calls = 297,             Best zeromode: [[0.80492107]\n",
      " [0.55178885]\n",
      " [0.21791911]\n",
      " [0.01193296]]\n"
     ]
    },
    {
     "name": "stderr",
     "output_type": "stream",
     "text": [
      "For Windows, using only current process. Multiple core use not supported.\n",
      "For Windows, using only current process. Multiple core use not supported.\n",
      "For Windows, using only current process. Multiple core use not supported.\n",
      "For Windows, using only current process. Multiple core use not supported.\n",
      "For Windows, using only current process. Multiple core use not supported.\n",
      "For Windows, using only current process. Multiple core use not supported.\n",
      "For Windows, using only current process. Multiple core use not supported.\n",
      "For Windows, using only current process. Multiple core use not supported.\n",
      "For Windows, using only current process. Multiple core use not supported.\n",
      "For Windows, using only current process. Multiple core use not supported.\n"
     ]
    },
    {
     "name": "stdout",
     "output_type": "stream",
     "text": [
      "P_BFGS-RealAmplitudes - Depth 5: Best fidelity = [[1.]], Function calls = 923,             Best zeromode: [[-0.80492109]\n",
      " [-0.55178883]\n",
      " [-0.2179191 ]\n",
      " [-0.01193297]]\n"
     ]
    },
    {
     "name": "stderr",
     "output_type": "stream",
     "text": [
      "For Windows, using only current process. Multiple core use not supported.\n",
      "For Windows, using only current process. Multiple core use not supported.\n",
      "For Windows, using only current process. Multiple core use not supported.\n",
      "For Windows, using only current process. Multiple core use not supported.\n",
      "For Windows, using only current process. Multiple core use not supported.\n",
      "For Windows, using only current process. Multiple core use not supported.\n",
      "For Windows, using only current process. Multiple core use not supported.\n",
      "For Windows, using only current process. Multiple core use not supported.\n",
      "For Windows, using only current process. Multiple core use not supported.\n",
      "For Windows, using only current process. Multiple core use not supported.\n"
     ]
    },
    {
     "name": "stdout",
     "output_type": "stream",
     "text": [
      "P_BFGS-RealAmplitudes - Depth 6: Best fidelity = [[1.]], Function calls = 840,             Best zeromode: [[-0.80492108]\n",
      " [-0.55178884]\n",
      " [-0.2179191 ]\n",
      " [-0.01193296]]\n",
      "\n",
      "Running VQE for optimizer-ansatz pair: P_BFGS-TwoLocal\n"
     ]
    },
    {
     "name": "stderr",
     "output_type": "stream",
     "text": [
      "For Windows, using only current process. Multiple core use not supported.\n",
      "For Windows, using only current process. Multiple core use not supported.\n",
      "For Windows, using only current process. Multiple core use not supported.\n",
      "For Windows, using only current process. Multiple core use not supported.\n",
      "For Windows, using only current process. Multiple core use not supported.\n",
      "For Windows, using only current process. Multiple core use not supported.\n",
      "For Windows, using only current process. Multiple core use not supported.\n",
      "For Windows, using only current process. Multiple core use not supported.\n",
      "For Windows, using only current process. Multiple core use not supported.\n",
      "For Windows, using only current process. Multiple core use not supported.\n"
     ]
    },
    {
     "name": "stdout",
     "output_type": "stream",
     "text": [
      "P_BFGS-TwoLocal - Depth 1: Best fidelity = [[1.]], Function calls = 105,             Best zeromode: [[-0.80492106]\n",
      " [-0.55178886]\n",
      " [-0.21791913]\n",
      " [-0.01193297]]\n"
     ]
    },
    {
     "name": "stderr",
     "output_type": "stream",
     "text": [
      "For Windows, using only current process. Multiple core use not supported.\n",
      "For Windows, using only current process. Multiple core use not supported.\n",
      "For Windows, using only current process. Multiple core use not supported.\n",
      "For Windows, using only current process. Multiple core use not supported.\n",
      "For Windows, using only current process. Multiple core use not supported.\n",
      "For Windows, using only current process. Multiple core use not supported.\n",
      "For Windows, using only current process. Multiple core use not supported.\n",
      "For Windows, using only current process. Multiple core use not supported.\n",
      "For Windows, using only current process. Multiple core use not supported.\n",
      "For Windows, using only current process. Multiple core use not supported.\n"
     ]
    },
    {
     "name": "stdout",
     "output_type": "stream",
     "text": [
      "P_BFGS-TwoLocal - Depth 2: Best fidelity = [[1.]], Function calls = 175,             Best zeromode: [[0.80492106]\n",
      " [0.55178885]\n",
      " [0.21791912]\n",
      " [0.01193298]]\n"
     ]
    },
    {
     "name": "stderr",
     "output_type": "stream",
     "text": [
      "For Windows, using only current process. Multiple core use not supported.\n",
      "For Windows, using only current process. Multiple core use not supported.\n",
      "For Windows, using only current process. Multiple core use not supported.\n",
      "For Windows, using only current process. Multiple core use not supported.\n",
      "For Windows, using only current process. Multiple core use not supported.\n",
      "For Windows, using only current process. Multiple core use not supported.\n",
      "For Windows, using only current process. Multiple core use not supported.\n",
      "For Windows, using only current process. Multiple core use not supported.\n",
      "For Windows, using only current process. Multiple core use not supported.\n",
      "For Windows, using only current process. Multiple core use not supported.\n"
     ]
    },
    {
     "name": "stdout",
     "output_type": "stream",
     "text": [
      "P_BFGS-TwoLocal - Depth 3: Best fidelity = [[1.]], Function calls = 243,             Best zeromode: [[-0.80492106]\n",
      " [-0.55178886]\n",
      " [-0.21791912]\n",
      " [-0.01193298]]\n"
     ]
    },
    {
     "name": "stderr",
     "output_type": "stream",
     "text": [
      "For Windows, using only current process. Multiple core use not supported.\n",
      "For Windows, using only current process. Multiple core use not supported.\n",
      "For Windows, using only current process. Multiple core use not supported.\n",
      "For Windows, using only current process. Multiple core use not supported.\n",
      "For Windows, using only current process. Multiple core use not supported.\n",
      "For Windows, using only current process. Multiple core use not supported.\n",
      "For Windows, using only current process. Multiple core use not supported.\n",
      "For Windows, using only current process. Multiple core use not supported.\n",
      "For Windows, using only current process. Multiple core use not supported.\n",
      "For Windows, using only current process. Multiple core use not supported.\n"
     ]
    },
    {
     "name": "stdout",
     "output_type": "stream",
     "text": [
      "P_BFGS-TwoLocal - Depth 4: Best fidelity = [[1.]], Function calls = 429,             Best zeromode: [[0.80492106]\n",
      " [0.55178886]\n",
      " [0.21791911]\n",
      " [0.01193297]]\n"
     ]
    },
    {
     "name": "stderr",
     "output_type": "stream",
     "text": [
      "For Windows, using only current process. Multiple core use not supported.\n",
      "For Windows, using only current process. Multiple core use not supported.\n",
      "For Windows, using only current process. Multiple core use not supported.\n",
      "For Windows, using only current process. Multiple core use not supported.\n",
      "For Windows, using only current process. Multiple core use not supported.\n",
      "For Windows, using only current process. Multiple core use not supported.\n",
      "For Windows, using only current process. Multiple core use not supported.\n",
      "For Windows, using only current process. Multiple core use not supported.\n",
      "For Windows, using only current process. Multiple core use not supported.\n",
      "For Windows, using only current process. Multiple core use not supported.\n"
     ]
    },
    {
     "name": "stdout",
     "output_type": "stream",
     "text": [
      "P_BFGS-TwoLocal - Depth 5: Best fidelity = [[1.]], Function calls = 585,             Best zeromode: [[0.80492108]\n",
      " [0.55178884]\n",
      " [0.21791911]\n",
      " [0.01193298]]\n"
     ]
    },
    {
     "name": "stderr",
     "output_type": "stream",
     "text": [
      "For Windows, using only current process. Multiple core use not supported.\n",
      "For Windows, using only current process. Multiple core use not supported.\n",
      "For Windows, using only current process. Multiple core use not supported.\n",
      "For Windows, using only current process. Multiple core use not supported.\n",
      "For Windows, using only current process. Multiple core use not supported.\n",
      "For Windows, using only current process. Multiple core use not supported.\n",
      "For Windows, using only current process. Multiple core use not supported.\n",
      "For Windows, using only current process. Multiple core use not supported.\n",
      "For Windows, using only current process. Multiple core use not supported.\n",
      "For Windows, using only current process. Multiple core use not supported.\n"
     ]
    },
    {
     "name": "stdout",
     "output_type": "stream",
     "text": [
      "P_BFGS-TwoLocal - Depth 6: Best fidelity = [[1.]], Function calls = 870,             Best zeromode: [[0.80492105]\n",
      " [0.55178887]\n",
      " [0.21791914]\n",
      " [0.01193298]]\n",
      "\n",
      "Running VQE for optimizer-ansatz pair: P_BFGS-EfficientSU2\n"
     ]
    },
    {
     "name": "stderr",
     "output_type": "stream",
     "text": [
      "For Windows, using only current process. Multiple core use not supported.\n",
      "For Windows, using only current process. Multiple core use not supported.\n",
      "For Windows, using only current process. Multiple core use not supported.\n",
      "For Windows, using only current process. Multiple core use not supported.\n",
      "For Windows, using only current process. Multiple core use not supported.\n",
      "For Windows, using only current process. Multiple core use not supported.\n",
      "For Windows, using only current process. Multiple core use not supported.\n",
      "For Windows, using only current process. Multiple core use not supported.\n",
      "For Windows, using only current process. Multiple core use not supported.\n",
      "For Windows, using only current process. Multiple core use not supported.\n"
     ]
    },
    {
     "name": "stdout",
     "output_type": "stream",
     "text": [
      "P_BFGS-EfficientSU2 - Depth 1: Best fidelity = [[1.]], Function calls = 140,             Best zeromode: [[0.80492106]\n",
      " [0.55178886]\n",
      " [0.21791912]\n",
      " [0.01193296]]\n"
     ]
    },
    {
     "name": "stderr",
     "output_type": "stream",
     "text": [
      "For Windows, using only current process. Multiple core use not supported.\n",
      "For Windows, using only current process. Multiple core use not supported.\n",
      "For Windows, using only current process. Multiple core use not supported.\n",
      "For Windows, using only current process. Multiple core use not supported.\n",
      "For Windows, using only current process. Multiple core use not supported.\n",
      "For Windows, using only current process. Multiple core use not supported.\n",
      "For Windows, using only current process. Multiple core use not supported.\n",
      "For Windows, using only current process. Multiple core use not supported.\n",
      "For Windows, using only current process. Multiple core use not supported.\n",
      "For Windows, using only current process. Multiple core use not supported.\n"
     ]
    },
    {
     "name": "stdout",
     "output_type": "stream",
     "text": [
      "P_BFGS-EfficientSU2 - Depth 2: Best fidelity = [[1.]], Function calls = 245,             Best zeromode: [[-0.80492107]\n",
      " [-0.55178885]\n",
      " [-0.21791912]\n",
      " [-0.01193298]]\n"
     ]
    },
    {
     "name": "stderr",
     "output_type": "stream",
     "text": [
      "For Windows, using only current process. Multiple core use not supported.\n",
      "For Windows, using only current process. Multiple core use not supported.\n",
      "For Windows, using only current process. Multiple core use not supported.\n",
      "For Windows, using only current process. Multiple core use not supported.\n",
      "For Windows, using only current process. Multiple core use not supported.\n",
      "For Windows, using only current process. Multiple core use not supported.\n",
      "For Windows, using only current process. Multiple core use not supported.\n",
      "For Windows, using only current process. Multiple core use not supported.\n",
      "For Windows, using only current process. Multiple core use not supported.\n",
      "For Windows, using only current process. Multiple core use not supported.\n"
     ]
    },
    {
     "name": "stdout",
     "output_type": "stream",
     "text": [
      "P_BFGS-EfficientSU2 - Depth 3: Best fidelity = [[1.]], Function calls = 207,             Best zeromode: [[-0.80492107]\n",
      " [-0.55178884]\n",
      " [-0.21791912]\n",
      " [-0.01193298]]\n"
     ]
    },
    {
     "name": "stderr",
     "output_type": "stream",
     "text": [
      "For Windows, using only current process. Multiple core use not supported.\n",
      "For Windows, using only current process. Multiple core use not supported.\n",
      "For Windows, using only current process. Multiple core use not supported.\n",
      "For Windows, using only current process. Multiple core use not supported.\n",
      "For Windows, using only current process. Multiple core use not supported.\n",
      "For Windows, using only current process. Multiple core use not supported.\n",
      "For Windows, using only current process. Multiple core use not supported.\n",
      "For Windows, using only current process. Multiple core use not supported.\n",
      "For Windows, using only current process. Multiple core use not supported.\n",
      "For Windows, using only current process. Multiple core use not supported.\n"
     ]
    },
    {
     "name": "stdout",
     "output_type": "stream",
     "text": [
      "P_BFGS-EfficientSU2 - Depth 4: Best fidelity = [[1.]], Function calls = 220,             Best zeromode: [[-0.80492107]\n",
      " [-0.55178884]\n",
      " [-0.21791912]\n",
      " [-0.01193298]]\n"
     ]
    },
    {
     "name": "stderr",
     "output_type": "stream",
     "text": [
      "For Windows, using only current process. Multiple core use not supported.\n",
      "For Windows, using only current process. Multiple core use not supported.\n",
      "For Windows, using only current process. Multiple core use not supported.\n",
      "For Windows, using only current process. Multiple core use not supported.\n",
      "For Windows, using only current process. Multiple core use not supported.\n",
      "For Windows, using only current process. Multiple core use not supported.\n",
      "For Windows, using only current process. Multiple core use not supported.\n",
      "For Windows, using only current process. Multiple core use not supported.\n",
      "For Windows, using only current process. Multiple core use not supported.\n",
      "For Windows, using only current process. Multiple core use not supported.\n"
     ]
    },
    {
     "name": "stdout",
     "output_type": "stream",
     "text": [
      "P_BFGS-EfficientSU2 - Depth 5: Best fidelity = [[1.]], Function calls = 1066,             Best zeromode: [[0.80492108]\n",
      " [0.55178883]\n",
      " [0.21791911]\n",
      " [0.01193297]]\n"
     ]
    },
    {
     "name": "stderr",
     "output_type": "stream",
     "text": [
      "For Windows, using only current process. Multiple core use not supported.\n",
      "For Windows, using only current process. Multiple core use not supported.\n",
      "For Windows, using only current process. Multiple core use not supported.\n",
      "For Windows, using only current process. Multiple core use not supported.\n",
      "For Windows, using only current process. Multiple core use not supported.\n",
      "For Windows, using only current process. Multiple core use not supported.\n",
      "For Windows, using only current process. Multiple core use not supported.\n",
      "For Windows, using only current process. Multiple core use not supported.\n",
      "For Windows, using only current process. Multiple core use not supported.\n"
     ]
    },
    {
     "name": "stdout",
     "output_type": "stream",
     "text": [
      "P_BFGS-EfficientSU2 - Depth 6: Best fidelity = [[1.]], Function calls = 855,             Best zeromode: [[-0.80492108]\n",
      " [-0.55178884]\n",
      " [-0.2179191 ]\n",
      " [-0.01193296]]\n"
     ]
    }
   ],
   "source": [
    "## Get the optimizers\n",
    "maxiter = 5000\n",
    "optimizer = P_BFGS(maxfun = maxiter)\n",
    "\n",
    "# Define parameters\n",
    "dimension = matrix.shape[0]\n",
    "num_qubits = int(np.log2(dimension))\n",
    "max_depth = 6\n",
    "\n",
    "# Compute \n",
    "zeromodes_N_4, metrics_N_4 = analyze_ansatz_performance(matrix, zeromode_classic, optimizer, num_qubits, max_depth)"
   ]
  },
  {
   "cell_type": "markdown",
   "id": "22186914-d84c-42d3-a0da-3f8b5e7b3f1b",
   "metadata": {},
   "source": [
    "### Print the results"
   ]
  },
  {
   "cell_type": "code",
   "execution_count": 51,
   "id": "0b48c5e6-ceb7-4f2b-a8d7-4398441d276d",
   "metadata": {},
   "outputs": [
    {
     "name": "stdout",
     "output_type": "stream",
     "text": [
      "The best zeromodes are:\n",
      "{'P_BFGS-RealAmplitudes': {1: array([[0.80492106],\n",
      "       [0.55178886],\n",
      "       [0.21791912],\n",
      "       [0.01193296]]), 2: array([[-0.80492107],\n",
      "       [-0.55178884],\n",
      "       [-0.21791913],\n",
      "       [-0.01193299]]), 3: array([[-0.80492107],\n",
      "       [-0.55178884],\n",
      "       [-0.21791912],\n",
      "       [-0.01193298]]), 4: array([[0.80492107],\n",
      "       [0.55178885],\n",
      "       [0.21791911],\n",
      "       [0.01193296]]), 5: array([[-0.80492109],\n",
      "       [-0.55178883],\n",
      "       [-0.2179191 ],\n",
      "       [-0.01193297]]), 6: array([[-0.80492108],\n",
      "       [-0.55178884],\n",
      "       [-0.2179191 ],\n",
      "       [-0.01193296]])}, 'P_BFGS-TwoLocal': {1: array([[-0.80492106],\n",
      "       [-0.55178886],\n",
      "       [-0.21791913],\n",
      "       [-0.01193297]]), 2: array([[0.80492106],\n",
      "       [0.55178885],\n",
      "       [0.21791912],\n",
      "       [0.01193298]]), 3: array([[-0.80492106],\n",
      "       [-0.55178886],\n",
      "       [-0.21791912],\n",
      "       [-0.01193298]]), 4: array([[0.80492106],\n",
      "       [0.55178886],\n",
      "       [0.21791911],\n",
      "       [0.01193297]]), 5: array([[0.80492108],\n",
      "       [0.55178884],\n",
      "       [0.21791911],\n",
      "       [0.01193298]]), 6: array([[0.80492105],\n",
      "       [0.55178887],\n",
      "       [0.21791914],\n",
      "       [0.01193298]])}, 'P_BFGS-EfficientSU2': {1: array([[0.80492106],\n",
      "       [0.55178886],\n",
      "       [0.21791912],\n",
      "       [0.01193296]]), 2: array([[-0.80492107],\n",
      "       [-0.55178885],\n",
      "       [-0.21791912],\n",
      "       [-0.01193298]]), 3: array([[-0.80492107],\n",
      "       [-0.55178884],\n",
      "       [-0.21791912],\n",
      "       [-0.01193298]]), 4: array([[-0.80492107],\n",
      "       [-0.55178884],\n",
      "       [-0.21791912],\n",
      "       [-0.01193298]]), 5: array([[0.80492108],\n",
      "       [0.55178883],\n",
      "       [0.21791911],\n",
      "       [0.01193297]]), 6: array([[-0.80492108],\n",
      "       [-0.55178884],\n",
      "       [-0.2179191 ],\n",
      "       [-0.01193296]])}}\n",
      "\n",
      "The performance metrics are:\n",
      "{'P_BFGS-RealAmplitudes': {1: {'fidelity': array([[1.]]), 'function_calls': 140}, 2: {'fidelity': array([[1.]]), 'function_calls': 189}, 3: {'fidelity': array([[1.]]), 'function_calls': 576}, 4: {'fidelity': array([[1.]]), 'function_calls': 297}, 5: {'fidelity': array([[1.]]), 'function_calls': 923}, 6: {'fidelity': array([[1.]]), 'function_calls': 840}}, 'P_BFGS-TwoLocal': {1: {'fidelity': array([[1.]]), 'function_calls': 105}, 2: {'fidelity': array([[1.]]), 'function_calls': 175}, 3: {'fidelity': array([[1.]]), 'function_calls': 243}, 4: {'fidelity': array([[1.]]), 'function_calls': 429}, 5: {'fidelity': array([[1.]]), 'function_calls': 585}, 6: {'fidelity': array([[1.]]), 'function_calls': 870}}, 'P_BFGS-EfficientSU2': {1: {'fidelity': array([[1.]]), 'function_calls': 140}, 2: {'fidelity': array([[1.]]), 'function_calls': 245}, 3: {'fidelity': array([[1.]]), 'function_calls': 207}, 4: {'fidelity': array([[1.]]), 'function_calls': 220}, 5: {'fidelity': array([[1.]]), 'function_calls': 1066}, 6: {'fidelity': array([[1.]]), 'function_calls': 855}}}\n",
      "\n"
     ]
    }
   ],
   "source": [
    "# Print the results\n",
    "print('The best zeromodes are:')\n",
    "print(zeromodes_N_4)\n",
    "print()\n",
    "\n",
    "print('The performance metrics are:')\n",
    "print(metrics_N_4)\n",
    "print()"
   ]
  },
  {
   "cell_type": "markdown",
   "id": "e1e482db-d48c-4c8c-806b-6e479d0a1507",
   "metadata": {},
   "source": [
    "### Computing relative errors in <x^2>"
   ]
  },
  {
   "cell_type": "code",
   "execution_count": 54,
   "id": "ae09890e-d11a-46d2-bf09-a16da6291866",
   "metadata": {},
   "outputs": [
    {
     "name": "stderr",
     "output_type": "stream",
     "text": [
      "C:\\Users\\Owner\\AppData\\Local\\Temp\\ipykernel_9592\\795971042.py:108: DeprecationWarning: Conversion of an array with ndim > 0 to a scalar is deprecated, and will error in future. Ensure you extract a single element from your array before performing this operation. (Deprecated NumPy 1.25.)\n",
      "  eigenvector[2*i] = eigenvector_old[i]\n"
     ]
    },
    {
     "name": "stdout",
     "output_type": "stream",
     "text": [
      "The errors for RealAmplitudes are:\n",
      "[7.734090162796722e-09, 2.5709309418824114e-08, 2.061584945562113e-08, 2.283396093184703e-08, 2.836182549949179e-08, 2.850802088471765e-08]\n",
      "\n",
      "The errors for TwoLocal are:\n",
      "[1.9343140857494934e-08, 1.7204441068324432e-08, 1.9571378480080783e-08, 8.078578161128088e-09, 1.8729808157523082e-10, 5.106784086415227e-08]\n",
      "\n",
      "The errors for EfficientSU2 are:\n",
      "[7.734090162796722e-09, 1.913096334426826e-08, 1.2894078399654205e-08, 6.644435117635027e-09, 1.9414725042683576e-08, 3.51639706098326e-08]\n",
      "\n"
     ]
    }
   ],
   "source": [
    "# Get the zeromodes\n",
    "zeromodes = [\n",
    "    zeromode\n",
    "    for depths in zeromodes_N_4.values()\n",
    "    for zeromode in depths.values()\n",
    "]\n",
    "\n",
    "# Initialize\n",
    "relative_errors = []\n",
    "\n",
    "# Compute \n",
    "for zeromode in zeromodes:\n",
    "    x, y = get_pdf(nmax, x, dx, L, shift = 0, zeromode_qpe = zeromode, normalize = True, make_even = True)\n",
    "    \n",
    "    # Ensure quantum_expectation is a scalar\n",
    "    quantum_expectation = compute_expectation_x_squared_simpson(x, y, 2)\n",
    "    if isinstance(quantum_expectation, np.ndarray):\n",
    "        quantum_expectation = quantum_expectation.item()  # Convert to scalar if necessary\n",
    "    \n",
    "    # Compute the relative error\n",
    "    relative_error = compute_errors(classical_expectation, quantum_expectation)\n",
    "    relative_errors.append(relative_error)\n",
    "\n",
    "# Get the relative errors for the individual optimizers\n",
    "errors_realamps = relative_errors[:6]\n",
    "errors_twolocal = relative_errors[6:12]\n",
    "errors_efficientsu2 = relative_errors[12:18]\n",
    "\n",
    "## Print the relative errors\n",
    "print('The errors for RealAmplitudes are:')\n",
    "print(errors_realamps)\n",
    "print()\n",
    "\n",
    "print('The errors for TwoLocal are:')\n",
    "print(errors_twolocal)\n",
    "print()\n",
    "\n",
    "print('The errors for EfficientSU2 are:')\n",
    "print(errors_efficientsu2)\n",
    "print()"
   ]
  },
  {
   "cell_type": "markdown",
   "id": "66ceb074-3904-44ce-b87c-8ccb543d6cab",
   "metadata": {},
   "source": [
    "### For N = 8\n",
    "\n",
    "### Get the matrix and the zeromode"
   ]
  },
  {
   "cell_type": "code",
   "execution_count": 57,
   "id": "a5296934-f75e-4abf-a918-b692b8fe9e21",
   "metadata": {},
   "outputs": [
    {
     "name": "stdout",
     "output_type": "stream",
     "text": [
      "The matrix is:\n",
      "[[ 1.73906250e+01 -4.14983292e+01  4.16413256e+01 -2.51557647e+00\n",
      "  -3.13747510e+00  0.00000000e+00  0.00000000e+00  0.00000000e+00]\n",
      " [-4.14983292e+01  1.38140625e+02 -2.04490248e+02  1.54161036e+02\n",
      "  -3.10594189e+01 -2.10468228e+01  0.00000000e+00  0.00000000e+00]\n",
      " [ 4.16413256e+01 -2.04490248e+02  4.13640625e+02 -4.62654398e+02\n",
      "   2.97161572e+02 -1.33665277e+02 -6.98044143e+01  0.00000000e+00]\n",
      " [-2.51557647e+00  1.54161036e+02 -4.62654398e+02  9.24890625e+02\n",
      "  -7.68209032e+02  4.17083625e+02 -3.82334523e+02 -1.71932490e+02]\n",
      " [-3.13747510e+00 -3.10594189e+01  2.97161572e+02 -7.68209032e+02\n",
      "   1.81289062e+03 -1.04918443e+03  4.35981651e+02 -8.73066927e+02]\n",
      " [ 0.00000000e+00 -2.10468228e+01 -1.33665277e+02  4.17083625e+02\n",
      "  -1.04918443e+03  3.27864062e+03 -1.20958947e+03  2.51869758e+02]\n",
      " [ 0.00000000e+00  0.00000000e+00 -6.98044143e+01 -3.82334523e+02\n",
      "   4.35981651e+02 -1.20958947e+03  4.90064062e+03 -1.53414981e+03]\n",
      " [ 0.00000000e+00  0.00000000e+00  0.00000000e+00 -1.71932490e+02\n",
      "  -8.73066927e+02  2.51869758e+02 -1.53414981e+03  7.65989062e+03]]\n",
      "\n",
      "The zeromode is:\n",
      "[[-0.83477494]\n",
      " [-0.52277432]\n",
      " [-0.16895116]\n",
      " [ 0.02397234]\n",
      " [ 0.02597929]\n",
      " [-0.00650643]\n",
      " [-0.00351119]\n",
      " [ 0.00300988]]\n",
      "\n",
      "The value of <x^2> is:\n",
      "0.6389400054333254\n",
      "\n"
     ]
    },
    {
     "name": "stderr",
     "output_type": "stream",
     "text": [
      "C:\\Users\\Owner\\AppData\\Local\\Temp\\ipykernel_9592\\795971042.py:108: DeprecationWarning: Conversion of an array with ndim > 0 to a scalar is deprecated, and will error in future. Ensure you extract a single element from your array before performing this operation. (Deprecated NumPy 1.25.)\n",
      "  eigenvector[2*i] = eigenvector_old[i]\n"
     ]
    }
   ],
   "source": [
    "## Get the matrix and zeromode\n",
    "nmax = 15\n",
    "a = -1\n",
    "gamma = 1\n",
    "dx = 0.01\n",
    "c = 2\n",
    "L = 1/2\n",
    "x = np.linspace(-4, 4, int(8/dx))\n",
    "\n",
    "# Matrix and zeromode\n",
    "matrix, zeromode_classic = get_zeromode(nmax, a, c, L, gamma)\n",
    "\n",
    "## Print the matrix and zeromode\n",
    "print('The matrix is:')\n",
    "print(matrix)\n",
    "print()\n",
    "\n",
    "# Print the zeromode\n",
    "print('The zeromode is:')\n",
    "print(zeromode_classic)\n",
    "print()\n",
    "\n",
    "## Compute the classical <x^2> value\n",
    "x, y = get_pdf(nmax, x, dx, L, shift = 0, zeromode_qpe = zeromode_classic, normalize = True, make_even = True)\n",
    "classical_expectation = compute_expectation_x_squared_simpson(x, y, 2)\n",
    "\n",
    "# Print the classical expectation value\n",
    "print('The value of <x^2> is:')\n",
    "print(classical_expectation)\n",
    "print()"
   ]
  },
  {
   "cell_type": "markdown",
   "id": "02946915-78c4-46a9-9b5b-7ab67314f2c6",
   "metadata": {},
   "source": [
    "### Run VQE for multiple ansatz depths (fix at 5000 optimization iterations)"
   ]
  },
  {
   "cell_type": "code",
   "execution_count": 61,
   "id": "6e8df6f6-911f-45b9-b8f2-30b8b00890ca",
   "metadata": {},
   "outputs": [
    {
     "name": "stderr",
     "output_type": "stream",
     "text": [
      "For Windows, using only current process. Multiple core use not supported.\n"
     ]
    },
    {
     "name": "stdout",
     "output_type": "stream",
     "text": [
      "\n",
      "Running VQE for optimizer-ansatz pair: P_BFGS-RealAmplitudes\n"
     ]
    },
    {
     "name": "stderr",
     "output_type": "stream",
     "text": [
      "For Windows, using only current process. Multiple core use not supported.\n",
      "For Windows, using only current process. Multiple core use not supported.\n",
      "For Windows, using only current process. Multiple core use not supported.\n",
      "For Windows, using only current process. Multiple core use not supported.\n",
      "For Windows, using only current process. Multiple core use not supported.\n",
      "For Windows, using only current process. Multiple core use not supported.\n",
      "For Windows, using only current process. Multiple core use not supported.\n",
      "For Windows, using only current process. Multiple core use not supported.\n",
      "For Windows, using only current process. Multiple core use not supported.\n",
      "For Windows, using only current process. Multiple core use not supported.\n"
     ]
    },
    {
     "name": "stdout",
     "output_type": "stream",
     "text": [
      "P_BFGS-RealAmplitudes - Depth 1: Best fidelity = [[0.99787956]], Function calls = 693,             Best zeromode: [[ 8.49003239e-01]\n",
      " [ 5.01461167e-01]\n",
      " [ 1.66483775e-01]\n",
      " [ 3.00641137e-03]\n",
      " [-1.79539774e-04]\n",
      " [-2.95530975e-04]\n",
      " [ 1.78771164e-03]\n",
      " [ 9.98590563e-04]]\n"
     ]
    },
    {
     "name": "stderr",
     "output_type": "stream",
     "text": [
      "For Windows, using only current process. Multiple core use not supported.\n",
      "For Windows, using only current process. Multiple core use not supported.\n",
      "For Windows, using only current process. Multiple core use not supported.\n",
      "For Windows, using only current process. Multiple core use not supported.\n",
      "For Windows, using only current process. Multiple core use not supported.\n",
      "For Windows, using only current process. Multiple core use not supported.\n",
      "For Windows, using only current process. Multiple core use not supported.\n",
      "For Windows, using only current process. Multiple core use not supported.\n",
      "For Windows, using only current process. Multiple core use not supported.\n",
      "For Windows, using only current process. Multiple core use not supported.\n"
     ]
    },
    {
     "name": "stdout",
     "output_type": "stream",
     "text": [
      "P_BFGS-RealAmplitudes - Depth 2: Best fidelity = [[1.]], Function calls = 2760,             Best zeromode: [[ 0.83477483]\n",
      " [ 0.52277444]\n",
      " [ 0.16895134]\n",
      " [-0.02397224]\n",
      " [-0.02597925]\n",
      " [ 0.00650641]\n",
      " [ 0.00351124]\n",
      " [-0.00300984]]\n"
     ]
    },
    {
     "name": "stderr",
     "output_type": "stream",
     "text": [
      "For Windows, using only current process. Multiple core use not supported.\n",
      "For Windows, using only current process. Multiple core use not supported.\n",
      "For Windows, using only current process. Multiple core use not supported.\n",
      "For Windows, using only current process. Multiple core use not supported.\n",
      "For Windows, using only current process. Multiple core use not supported.\n",
      "For Windows, using only current process. Multiple core use not supported.\n",
      "For Windows, using only current process. Multiple core use not supported.\n",
      "For Windows, using only current process. Multiple core use not supported.\n",
      "For Windows, using only current process. Multiple core use not supported.\n",
      "For Windows, using only current process. Multiple core use not supported.\n"
     ]
    },
    {
     "name": "stdout",
     "output_type": "stream",
     "text": [
      "P_BFGS-RealAmplitudes - Depth 3: Best fidelity = [[1.]], Function calls = 2106,             Best zeromode: [[ 0.8347745 ]\n",
      " [ 0.52277482]\n",
      " [ 0.16895187]\n",
      " [-0.02397196]\n",
      " [-0.02597923]\n",
      " [ 0.00650647]\n",
      " [ 0.00351124]\n",
      " [-0.00300986]]\n"
     ]
    },
    {
     "name": "stderr",
     "output_type": "stream",
     "text": [
      "For Windows, using only current process. Multiple core use not supported.\n",
      "For Windows, using only current process. Multiple core use not supported.\n",
      "For Windows, using only current process. Multiple core use not supported.\n",
      "For Windows, using only current process. Multiple core use not supported.\n",
      "For Windows, using only current process. Multiple core use not supported.\n",
      "For Windows, using only current process. Multiple core use not supported.\n",
      "For Windows, using only current process. Multiple core use not supported.\n",
      "For Windows, using only current process. Multiple core use not supported.\n",
      "For Windows, using only current process. Multiple core use not supported.\n",
      "For Windows, using only current process. Multiple core use not supported.\n"
     ]
    },
    {
     "name": "stdout",
     "output_type": "stream",
     "text": [
      "P_BFGS-RealAmplitudes - Depth 4: Best fidelity = [[1.]], Function calls = 2864,             Best zeromode: [[ 0.83477495]\n",
      " [ 0.52277433]\n",
      " [ 0.16895107]\n",
      " [-0.02397239]\n",
      " [-0.02597929]\n",
      " [ 0.00650643]\n",
      " [ 0.00351118]\n",
      " [-0.00300989]]\n"
     ]
    },
    {
     "name": "stderr",
     "output_type": "stream",
     "text": [
      "For Windows, using only current process. Multiple core use not supported.\n",
      "For Windows, using only current process. Multiple core use not supported.\n",
      "For Windows, using only current process. Multiple core use not supported.\n",
      "For Windows, using only current process. Multiple core use not supported.\n",
      "For Windows, using only current process. Multiple core use not supported.\n",
      "For Windows, using only current process. Multiple core use not supported.\n",
      "For Windows, using only current process. Multiple core use not supported.\n",
      "For Windows, using only current process. Multiple core use not supported.\n",
      "For Windows, using only current process. Multiple core use not supported.\n",
      "For Windows, using only current process. Multiple core use not supported.\n"
     ]
    },
    {
     "name": "stdout",
     "output_type": "stream",
     "text": [
      "P_BFGS-RealAmplitudes - Depth 5: Best fidelity = [[1.]], Function calls = 2128,             Best zeromode: [[ 0.83477479]\n",
      " [ 0.52277451]\n",
      " [ 0.16895132]\n",
      " [-0.02397231]\n",
      " [-0.0259793 ]\n",
      " [ 0.00650643]\n",
      " [ 0.00351119]\n",
      " [-0.00300988]]\n"
     ]
    },
    {
     "name": "stderr",
     "output_type": "stream",
     "text": [
      "For Windows, using only current process. Multiple core use not supported.\n",
      "For Windows, using only current process. Multiple core use not supported.\n",
      "For Windows, using only current process. Multiple core use not supported.\n",
      "For Windows, using only current process. Multiple core use not supported.\n",
      "For Windows, using only current process. Multiple core use not supported.\n",
      "For Windows, using only current process. Multiple core use not supported.\n",
      "For Windows, using only current process. Multiple core use not supported.\n",
      "For Windows, using only current process. Multiple core use not supported.\n",
      "For Windows, using only current process. Multiple core use not supported.\n",
      "For Windows, using only current process. Multiple core use not supported.\n"
     ]
    },
    {
     "name": "stdout",
     "output_type": "stream",
     "text": [
      "P_BFGS-RealAmplitudes - Depth 6: Best fidelity = [[1.]], Function calls = 2002,             Best zeromode: [[ 0.83477496]\n",
      " [ 0.52277429]\n",
      " [ 0.16895111]\n",
      " [-0.02397236]\n",
      " [-0.0259793 ]\n",
      " [ 0.00650644]\n",
      " [ 0.0035112 ]\n",
      " [-0.00300987]]\n",
      "\n",
      "Running VQE for optimizer-ansatz pair: P_BFGS-TwoLocal\n"
     ]
    },
    {
     "name": "stderr",
     "output_type": "stream",
     "text": [
      "For Windows, using only current process. Multiple core use not supported.\n",
      "For Windows, using only current process. Multiple core use not supported.\n",
      "For Windows, using only current process. Multiple core use not supported.\n",
      "For Windows, using only current process. Multiple core use not supported.\n",
      "For Windows, using only current process. Multiple core use not supported.\n",
      "For Windows, using only current process. Multiple core use not supported.\n",
      "For Windows, using only current process. Multiple core use not supported.\n",
      "For Windows, using only current process. Multiple core use not supported.\n",
      "For Windows, using only current process. Multiple core use not supported.\n",
      "For Windows, using only current process. Multiple core use not supported.\n"
     ]
    },
    {
     "name": "stdout",
     "output_type": "stream",
     "text": [
      "P_BFGS-TwoLocal - Depth 1: Best fidelity = [[0.99589152]], Function calls = 1323,             Best zeromode: [[ 8.65852183e-01]\n",
      " [ 4.79891810e-01]\n",
      " [ 1.40101608e-01]\n",
      " [-1.47551987e-02]\n",
      " [-1.09386446e-02]\n",
      " [-5.67020921e-03]\n",
      " [-4.71574040e-04]\n",
      " [-2.37573840e-03]]\n"
     ]
    },
    {
     "name": "stderr",
     "output_type": "stream",
     "text": [
      "For Windows, using only current process. Multiple core use not supported.\n",
      "For Windows, using only current process. Multiple core use not supported.\n",
      "For Windows, using only current process. Multiple core use not supported.\n",
      "For Windows, using only current process. Multiple core use not supported.\n",
      "For Windows, using only current process. Multiple core use not supported.\n",
      "For Windows, using only current process. Multiple core use not supported.\n",
      "For Windows, using only current process. Multiple core use not supported.\n",
      "For Windows, using only current process. Multiple core use not supported.\n",
      "For Windows, using only current process. Multiple core use not supported.\n",
      "For Windows, using only current process. Multiple core use not supported.\n"
     ]
    },
    {
     "name": "stdout",
     "output_type": "stream",
     "text": [
      "P_BFGS-TwoLocal - Depth 2: Best fidelity = [[1.]], Function calls = 1200,             Best zeromode: [[ 0.83477525]\n",
      " [ 0.522774  ]\n",
      " [ 0.16895056]\n",
      " [-0.02397274]\n",
      " [-0.02597936]\n",
      " [ 0.00650639]\n",
      " [ 0.00351112]\n",
      " [-0.00300993]]\n"
     ]
    },
    {
     "name": "stderr",
     "output_type": "stream",
     "text": [
      "For Windows, using only current process. Multiple core use not supported.\n",
      "For Windows, using only current process. Multiple core use not supported.\n",
      "For Windows, using only current process. Multiple core use not supported.\n",
      "For Windows, using only current process. Multiple core use not supported.\n",
      "For Windows, using only current process. Multiple core use not supported.\n",
      "For Windows, using only current process. Multiple core use not supported.\n",
      "For Windows, using only current process. Multiple core use not supported.\n",
      "For Windows, using only current process. Multiple core use not supported.\n",
      "For Windows, using only current process. Multiple core use not supported.\n",
      "For Windows, using only current process. Multiple core use not supported.\n"
     ]
    },
    {
     "name": "stdout",
     "output_type": "stream",
     "text": [
      "P_BFGS-TwoLocal - Depth 3: Best fidelity = [[1.]], Function calls = 1495,             Best zeromode: [[-0.83477492]\n",
      " [-0.52277436]\n",
      " [-0.16895112]\n",
      " [ 0.0239724 ]\n",
      " [ 0.02597931]\n",
      " [-0.00650642]\n",
      " [-0.00351117]\n",
      " [ 0.00300988]]\n"
     ]
    },
    {
     "name": "stderr",
     "output_type": "stream",
     "text": [
      "For Windows, using only current process. Multiple core use not supported.\n",
      "For Windows, using only current process. Multiple core use not supported.\n",
      "For Windows, using only current process. Multiple core use not supported.\n",
      "For Windows, using only current process. Multiple core use not supported.\n",
      "For Windows, using only current process. Multiple core use not supported.\n",
      "For Windows, using only current process. Multiple core use not supported.\n",
      "For Windows, using only current process. Multiple core use not supported.\n",
      "For Windows, using only current process. Multiple core use not supported.\n",
      "For Windows, using only current process. Multiple core use not supported.\n",
      "For Windows, using only current process. Multiple core use not supported.\n"
     ]
    },
    {
     "name": "stdout",
     "output_type": "stream",
     "text": [
      "P_BFGS-TwoLocal - Depth 4: Best fidelity = [[1.]], Function calls = 2192,             Best zeromode: [[ 0.83477495]\n",
      " [ 0.52277429]\n",
      " [ 0.16895118]\n",
      " [-0.02397239]\n",
      " [-0.02597932]\n",
      " [ 0.00650643]\n",
      " [ 0.0035112 ]\n",
      " [-0.00300989]]\n"
     ]
    },
    {
     "name": "stderr",
     "output_type": "stream",
     "text": [
      "For Windows, using only current process. Multiple core use not supported.\n",
      "For Windows, using only current process. Multiple core use not supported.\n",
      "For Windows, using only current process. Multiple core use not supported.\n",
      "For Windows, using only current process. Multiple core use not supported.\n",
      "For Windows, using only current process. Multiple core use not supported.\n",
      "For Windows, using only current process. Multiple core use not supported.\n",
      "For Windows, using only current process. Multiple core use not supported.\n",
      "For Windows, using only current process. Multiple core use not supported.\n",
      "For Windows, using only current process. Multiple core use not supported.\n",
      "For Windows, using only current process. Multiple core use not supported.\n"
     ]
    },
    {
     "name": "stdout",
     "output_type": "stream",
     "text": [
      "P_BFGS-TwoLocal - Depth 5: Best fidelity = [[1.]], Function calls = 1596,             Best zeromode: [[ 0.83477494]\n",
      " [ 0.52277434]\n",
      " [ 0.16895111]\n",
      " [-0.02397231]\n",
      " [-0.02597926]\n",
      " [ 0.00650644]\n",
      " [ 0.00351118]\n",
      " [-0.00300988]]\n"
     ]
    },
    {
     "name": "stderr",
     "output_type": "stream",
     "text": [
      "For Windows, using only current process. Multiple core use not supported.\n",
      "For Windows, using only current process. Multiple core use not supported.\n",
      "For Windows, using only current process. Multiple core use not supported.\n",
      "For Windows, using only current process. Multiple core use not supported.\n",
      "For Windows, using only current process. Multiple core use not supported.\n",
      "For Windows, using only current process. Multiple core use not supported.\n",
      "For Windows, using only current process. Multiple core use not supported.\n",
      "For Windows, using only current process. Multiple core use not supported.\n",
      "For Windows, using only current process. Multiple core use not supported.\n",
      "For Windows, using only current process. Multiple core use not supported.\n"
     ]
    },
    {
     "name": "stdout",
     "output_type": "stream",
     "text": [
      "P_BFGS-TwoLocal - Depth 6: Best fidelity = [[1.]], Function calls = 3080,             Best zeromode: [[-0.8347749 ]\n",
      " [-0.52277435]\n",
      " [-0.16895126]\n",
      " [ 0.02397224]\n",
      " [ 0.02597926]\n",
      " [-0.00650642]\n",
      " [-0.00351118]\n",
      " [ 0.00300988]]\n",
      "\n",
      "Running VQE for optimizer-ansatz pair: P_BFGS-EfficientSU2\n"
     ]
    },
    {
     "name": "stderr",
     "output_type": "stream",
     "text": [
      "For Windows, using only current process. Multiple core use not supported.\n",
      "For Windows, using only current process. Multiple core use not supported.\n",
      "For Windows, using only current process. Multiple core use not supported.\n",
      "For Windows, using only current process. Multiple core use not supported.\n",
      "For Windows, using only current process. Multiple core use not supported.\n",
      "For Windows, using only current process. Multiple core use not supported.\n",
      "For Windows, using only current process. Multiple core use not supported.\n",
      "For Windows, using only current process. Multiple core use not supported.\n",
      "For Windows, using only current process. Multiple core use not supported.\n",
      "For Windows, using only current process. Multiple core use not supported.\n"
     ]
    },
    {
     "name": "stdout",
     "output_type": "stream",
     "text": [
      "P_BFGS-EfficientSU2 - Depth 1: Best fidelity = [[0.99787951]], Function calls = 455,             Best zeromode: [[-8.49003955e-01]\n",
      " [-5.01460277e-01]\n",
      " [-1.66482810e-01]\n",
      " [-3.00606854e-03]\n",
      " [ 1.79536294e-04]\n",
      " [ 2.95525194e-04]\n",
      " [-1.78768836e-03]\n",
      " [-9.98575482e-04]]\n"
     ]
    },
    {
     "name": "stderr",
     "output_type": "stream",
     "text": [
      "For Windows, using only current process. Multiple core use not supported.\n",
      "For Windows, using only current process. Multiple core use not supported.\n",
      "For Windows, using only current process. Multiple core use not supported.\n",
      "For Windows, using only current process. Multiple core use not supported.\n",
      "For Windows, using only current process. Multiple core use not supported.\n",
      "For Windows, using only current process. Multiple core use not supported.\n",
      "For Windows, using only current process. Multiple core use not supported.\n",
      "For Windows, using only current process. Multiple core use not supported.\n",
      "For Windows, using only current process. Multiple core use not supported.\n",
      "For Windows, using only current process. Multiple core use not supported.\n"
     ]
    },
    {
     "name": "stdout",
     "output_type": "stream",
     "text": [
      "P_BFGS-EfficientSU2 - Depth 2: Best fidelity = [[1.]], Function calls = 1060,             Best zeromode: [[ 0.83477503]\n",
      " [ 0.52277421]\n",
      " [ 0.16895105]\n",
      " [-0.02397242]\n",
      " [-0.02597934]\n",
      " [ 0.00650639]\n",
      " [ 0.00351119]\n",
      " [-0.00300989]]\n"
     ]
    },
    {
     "name": "stderr",
     "output_type": "stream",
     "text": [
      "For Windows, using only current process. Multiple core use not supported.\n",
      "For Windows, using only current process. Multiple core use not supported.\n",
      "For Windows, using only current process. Multiple core use not supported.\n",
      "For Windows, using only current process. Multiple core use not supported.\n",
      "For Windows, using only current process. Multiple core use not supported.\n",
      "For Windows, using only current process. Multiple core use not supported.\n",
      "For Windows, using only current process. Multiple core use not supported.\n",
      "For Windows, using only current process. Multiple core use not supported.\n",
      "For Windows, using only current process. Multiple core use not supported.\n",
      "For Windows, using only current process. Multiple core use not supported.\n"
     ]
    },
    {
     "name": "stdout",
     "output_type": "stream",
     "text": [
      "P_BFGS-EfficientSU2 - Depth 3: Best fidelity = [[1.]], Function calls = 1963,             Best zeromode: [[ 0.83477486]\n",
      " [ 0.52277442]\n",
      " [ 0.16895126]\n",
      " [-0.02397234]\n",
      " [-0.02597929]\n",
      " [ 0.00650643]\n",
      " [ 0.0035112 ]\n",
      " [-0.00300988]]\n"
     ]
    },
    {
     "name": "stderr",
     "output_type": "stream",
     "text": [
      "For Windows, using only current process. Multiple core use not supported.\n",
      "For Windows, using only current process. Multiple core use not supported.\n",
      "For Windows, using only current process. Multiple core use not supported.\n",
      "For Windows, using only current process. Multiple core use not supported.\n",
      "For Windows, using only current process. Multiple core use not supported.\n",
      "For Windows, using only current process. Multiple core use not supported.\n",
      "For Windows, using only current process. Multiple core use not supported.\n",
      "For Windows, using only current process. Multiple core use not supported.\n",
      "For Windows, using only current process. Multiple core use not supported.\n",
      "For Windows, using only current process. Multiple core use not supported.\n"
     ]
    },
    {
     "name": "stdout",
     "output_type": "stream",
     "text": [
      "P_BFGS-EfficientSU2 - Depth 4: Best fidelity = [[1.]], Function calls = 3072,             Best zeromode: [[ 0.83477495]\n",
      " [ 0.5227743 ]\n",
      " [ 0.16895114]\n",
      " [-0.02397233]\n",
      " [-0.02597929]\n",
      " [ 0.00650642]\n",
      " [ 0.00351118]\n",
      " [-0.00300989]]\n"
     ]
    },
    {
     "name": "stderr",
     "output_type": "stream",
     "text": [
      "For Windows, using only current process. Multiple core use not supported.\n",
      "For Windows, using only current process. Multiple core use not supported.\n",
      "For Windows, using only current process. Multiple core use not supported.\n",
      "For Windows, using only current process. Multiple core use not supported.\n",
      "For Windows, using only current process. Multiple core use not supported.\n",
      "For Windows, using only current process. Multiple core use not supported.\n",
      "For Windows, using only current process. Multiple core use not supported.\n",
      "For Windows, using only current process. Multiple core use not supported.\n",
      "For Windows, using only current process. Multiple core use not supported.\n",
      "For Windows, using only current process. Multiple core use not supported.\n"
     ]
    },
    {
     "name": "stdout",
     "output_type": "stream",
     "text": [
      "P_BFGS-EfficientSU2 - Depth 5: Best fidelity = [[1.]], Function calls = 4370,             Best zeromode: [[ 0.83477532]\n",
      " [ 0.52277385]\n",
      " [ 0.16895067]\n",
      " [-0.02397253]\n",
      " [-0.02597931]\n",
      " [ 0.00650642]\n",
      " [ 0.00351116]\n",
      " [-0.0030099 ]]\n"
     ]
    },
    {
     "name": "stderr",
     "output_type": "stream",
     "text": [
      "For Windows, using only current process. Multiple core use not supported.\n",
      "For Windows, using only current process. Multiple core use not supported.\n",
      "For Windows, using only current process. Multiple core use not supported.\n",
      "For Windows, using only current process. Multiple core use not supported.\n",
      "For Windows, using only current process. Multiple core use not supported.\n",
      "For Windows, using only current process. Multiple core use not supported.\n",
      "For Windows, using only current process. Multiple core use not supported.\n",
      "For Windows, using only current process. Multiple core use not supported.\n",
      "For Windows, using only current process. Multiple core use not supported.\n"
     ]
    },
    {
     "name": "stdout",
     "output_type": "stream",
     "text": [
      "P_BFGS-EfficientSU2 - Depth 6: Best fidelity = [[1.]], Function calls = 2684,             Best zeromode: [[-0.83477498]\n",
      " [-0.52277424]\n",
      " [-0.16895119]\n",
      " [ 0.02397232]\n",
      " [ 0.02597934]\n",
      " [-0.00650642]\n",
      " [-0.00351119]\n",
      " [ 0.00300989]]\n"
     ]
    }
   ],
   "source": [
    "## Get the optimizers\n",
    "maxiter = 5000\n",
    "optimizer = P_BFGS(maxfun = maxiter)\n",
    "\n",
    "# Define parameters\n",
    "dimension = matrix.shape[0]\n",
    "num_qubits = int(np.log2(dimension))\n",
    "max_depth = 6\n",
    "\n",
    "# Compute \n",
    "zeromodes_N_8, metrics_N_8 = analyze_ansatz_performance(matrix, zeromode_classic, optimizer, num_qubits, max_depth)"
   ]
  },
  {
   "cell_type": "markdown",
   "id": "c80c35ea-334d-4f34-b515-315ad4bba58c",
   "metadata": {},
   "source": [
    "### Print the results"
   ]
  },
  {
   "cell_type": "code",
   "execution_count": 64,
   "id": "50fa6390-e524-411c-9d6d-867ec7e51e53",
   "metadata": {},
   "outputs": [
    {
     "name": "stdout",
     "output_type": "stream",
     "text": [
      "The best zeromodes are:\n",
      "{'P_BFGS-RealAmplitudes': {1: array([[ 8.49003239e-01],\n",
      "       [ 5.01461167e-01],\n",
      "       [ 1.66483775e-01],\n",
      "       [ 3.00641137e-03],\n",
      "       [-1.79539774e-04],\n",
      "       [-2.95530975e-04],\n",
      "       [ 1.78771164e-03],\n",
      "       [ 9.98590563e-04]]), 2: array([[ 0.83477483],\n",
      "       [ 0.52277444],\n",
      "       [ 0.16895134],\n",
      "       [-0.02397224],\n",
      "       [-0.02597925],\n",
      "       [ 0.00650641],\n",
      "       [ 0.00351124],\n",
      "       [-0.00300984]]), 3: array([[ 0.8347745 ],\n",
      "       [ 0.52277482],\n",
      "       [ 0.16895187],\n",
      "       [-0.02397196],\n",
      "       [-0.02597923],\n",
      "       [ 0.00650647],\n",
      "       [ 0.00351124],\n",
      "       [-0.00300986]]), 4: array([[ 0.83477495],\n",
      "       [ 0.52277433],\n",
      "       [ 0.16895107],\n",
      "       [-0.02397239],\n",
      "       [-0.02597929],\n",
      "       [ 0.00650643],\n",
      "       [ 0.00351118],\n",
      "       [-0.00300989]]), 5: array([[ 0.83477479],\n",
      "       [ 0.52277451],\n",
      "       [ 0.16895132],\n",
      "       [-0.02397231],\n",
      "       [-0.0259793 ],\n",
      "       [ 0.00650643],\n",
      "       [ 0.00351119],\n",
      "       [-0.00300988]]), 6: array([[ 0.83477496],\n",
      "       [ 0.52277429],\n",
      "       [ 0.16895111],\n",
      "       [-0.02397236],\n",
      "       [-0.0259793 ],\n",
      "       [ 0.00650644],\n",
      "       [ 0.0035112 ],\n",
      "       [-0.00300987]])}, 'P_BFGS-TwoLocal': {1: array([[ 8.65852183e-01],\n",
      "       [ 4.79891810e-01],\n",
      "       [ 1.40101608e-01],\n",
      "       [-1.47551987e-02],\n",
      "       [-1.09386446e-02],\n",
      "       [-5.67020921e-03],\n",
      "       [-4.71574040e-04],\n",
      "       [-2.37573840e-03]]), 2: array([[ 0.83477525],\n",
      "       [ 0.522774  ],\n",
      "       [ 0.16895056],\n",
      "       [-0.02397274],\n",
      "       [-0.02597936],\n",
      "       [ 0.00650639],\n",
      "       [ 0.00351112],\n",
      "       [-0.00300993]]), 3: array([[-0.83477492],\n",
      "       [-0.52277436],\n",
      "       [-0.16895112],\n",
      "       [ 0.0239724 ],\n",
      "       [ 0.02597931],\n",
      "       [-0.00650642],\n",
      "       [-0.00351117],\n",
      "       [ 0.00300988]]), 4: array([[ 0.83477495],\n",
      "       [ 0.52277429],\n",
      "       [ 0.16895118],\n",
      "       [-0.02397239],\n",
      "       [-0.02597932],\n",
      "       [ 0.00650643],\n",
      "       [ 0.0035112 ],\n",
      "       [-0.00300989]]), 5: array([[ 0.83477494],\n",
      "       [ 0.52277434],\n",
      "       [ 0.16895111],\n",
      "       [-0.02397231],\n",
      "       [-0.02597926],\n",
      "       [ 0.00650644],\n",
      "       [ 0.00351118],\n",
      "       [-0.00300988]]), 6: array([[-0.8347749 ],\n",
      "       [-0.52277435],\n",
      "       [-0.16895126],\n",
      "       [ 0.02397224],\n",
      "       [ 0.02597926],\n",
      "       [-0.00650642],\n",
      "       [-0.00351118],\n",
      "       [ 0.00300988]])}, 'P_BFGS-EfficientSU2': {1: array([[-8.49003955e-01],\n",
      "       [-5.01460277e-01],\n",
      "       [-1.66482810e-01],\n",
      "       [-3.00606854e-03],\n",
      "       [ 1.79536294e-04],\n",
      "       [ 2.95525194e-04],\n",
      "       [-1.78768836e-03],\n",
      "       [-9.98575482e-04]]), 2: array([[ 0.83477503],\n",
      "       [ 0.52277421],\n",
      "       [ 0.16895105],\n",
      "       [-0.02397242],\n",
      "       [-0.02597934],\n",
      "       [ 0.00650639],\n",
      "       [ 0.00351119],\n",
      "       [-0.00300989]]), 3: array([[ 0.83477486],\n",
      "       [ 0.52277442],\n",
      "       [ 0.16895126],\n",
      "       [-0.02397234],\n",
      "       [-0.02597929],\n",
      "       [ 0.00650643],\n",
      "       [ 0.0035112 ],\n",
      "       [-0.00300988]]), 4: array([[ 0.83477495],\n",
      "       [ 0.5227743 ],\n",
      "       [ 0.16895114],\n",
      "       [-0.02397233],\n",
      "       [-0.02597929],\n",
      "       [ 0.00650642],\n",
      "       [ 0.00351118],\n",
      "       [-0.00300989]]), 5: array([[ 0.83477532],\n",
      "       [ 0.52277385],\n",
      "       [ 0.16895067],\n",
      "       [-0.02397253],\n",
      "       [-0.02597931],\n",
      "       [ 0.00650642],\n",
      "       [ 0.00351116],\n",
      "       [-0.0030099 ]]), 6: array([[-0.83477498],\n",
      "       [-0.52277424],\n",
      "       [-0.16895119],\n",
      "       [ 0.02397232],\n",
      "       [ 0.02597934],\n",
      "       [-0.00650642],\n",
      "       [-0.00351119],\n",
      "       [ 0.00300989]])}}\n",
      "\n",
      "The performance metrics are:\n",
      "{'P_BFGS-RealAmplitudes': {1: {'fidelity': array([[0.99787956]]), 'function_calls': 693}, 2: {'fidelity': array([[1.]]), 'function_calls': 2760}, 3: {'fidelity': array([[1.]]), 'function_calls': 2106}, 4: {'fidelity': array([[1.]]), 'function_calls': 2864}, 5: {'fidelity': array([[1.]]), 'function_calls': 2128}, 6: {'fidelity': array([[1.]]), 'function_calls': 2002}}, 'P_BFGS-TwoLocal': {1: {'fidelity': array([[0.99589152]]), 'function_calls': 1323}, 2: {'fidelity': array([[1.]]), 'function_calls': 1200}, 3: {'fidelity': array([[1.]]), 'function_calls': 1495}, 4: {'fidelity': array([[1.]]), 'function_calls': 2192}, 5: {'fidelity': array([[1.]]), 'function_calls': 1596}, 6: {'fidelity': array([[1.]]), 'function_calls': 3080}}, 'P_BFGS-EfficientSU2': {1: {'fidelity': array([[0.99787951]]), 'function_calls': 455}, 2: {'fidelity': array([[1.]]), 'function_calls': 1060}, 3: {'fidelity': array([[1.]]), 'function_calls': 1963}, 4: {'fidelity': array([[1.]]), 'function_calls': 3072}, 5: {'fidelity': array([[1.]]), 'function_calls': 4370}, 6: {'fidelity': array([[1.]]), 'function_calls': 2684}}}\n",
      "\n"
     ]
    }
   ],
   "source": [
    "# Print the results\n",
    "print('The best zeromodes are:')\n",
    "print(zeromodes_N_8)\n",
    "print()\n",
    "\n",
    "print('The performance metrics are:')\n",
    "print(metrics_N_8)\n",
    "print()"
   ]
  },
  {
   "cell_type": "markdown",
   "id": "2bf3c858-1415-44c5-ae34-1759e6153efd",
   "metadata": {},
   "source": [
    "### Computing relative errors in <x^2>"
   ]
  },
  {
   "cell_type": "code",
   "execution_count": 67,
   "id": "a7788630-9d04-4a21-b71b-ab0f4c995629",
   "metadata": {},
   "outputs": [
    {
     "name": "stderr",
     "output_type": "stream",
     "text": [
      "C:\\Users\\Owner\\AppData\\Local\\Temp\\ipykernel_9592\\795971042.py:108: DeprecationWarning: Conversion of an array with ndim > 0 to a scalar is deprecated, and will error in future. Ensure you extract a single element from your array before performing this operation. (Deprecated NumPy 1.25.)\n",
      "  eigenvector[2*i] = eigenvector_old[i]\n"
     ]
    },
    {
     "name": "stdout",
     "output_type": "stream",
     "text": [
      "The errors for RealAmplitudes are:\n",
      "[0.07535759628945446, 8.816414367922437e-07, 2.509566180484397e-06, 2.8526900864602765e-07, 4.065142500826371e-07, 4.987401485898919e-08]\n",
      "\n",
      "The errors for TwoLocal are:\n",
      "[0.0662106375650912, 2.411690472012576e-06, 2.408728760896542e-07, 1.7888004288335337e-07, 1.18520157221775e-07, 3.798767252648384e-07]\n",
      "\n",
      "The errors for EfficientSU2 are:\n",
      "[0.07535499695737244, 6.049491424651036e-07, 2.9053272202378656e-07, 1.0071471765125162e-07, 1.5840706221716522e-06, 1.410191432154513e-07]\n",
      "\n"
     ]
    }
   ],
   "source": [
    "# Get the zeromodes\n",
    "zeromodes = [\n",
    "    zeromode\n",
    "    for depths in zeromodes_N_8.values()\n",
    "    for zeromode in depths.values()\n",
    "]\n",
    "\n",
    "# Initialize\n",
    "relative_errors = []\n",
    "\n",
    "# Compute \n",
    "for zeromode in zeromodes:\n",
    "    x, y = get_pdf(nmax, x, dx, L, shift = 0, zeromode_qpe = zeromode, normalize = True, make_even = True)\n",
    "    \n",
    "    # Ensure quantum_expectation is a scalar\n",
    "    quantum_expectation = compute_expectation_x_squared_simpson(x, y, 2)\n",
    "    if isinstance(quantum_expectation, np.ndarray):\n",
    "        quantum_expectation = quantum_expectation.item()  # Convert to scalar if necessary\n",
    "    \n",
    "    # Compute the relative error\n",
    "    relative_error = compute_errors(classical_expectation, quantum_expectation)\n",
    "    relative_errors.append(relative_error)\n",
    "\n",
    "# Get the relative errors for the individual optimizers\n",
    "errors_realamps = relative_errors[:6]\n",
    "errors_twolocal = relative_errors[6:12]\n",
    "errors_efficientsu2 = relative_errors[12:18]\n",
    "\n",
    "## Print the relative errors\n",
    "print('The errors for RealAmplitudes are:')\n",
    "print(errors_realamps)\n",
    "print()\n",
    "\n",
    "print('The errors for TwoLocal are:')\n",
    "print(errors_twolocal)\n",
    "print()\n",
    "\n",
    "print('The errors for EfficientSU2 are:')\n",
    "print(errors_efficientsu2)\n",
    "print()"
   ]
  },
  {
   "cell_type": "markdown",
   "id": "0f14b0fe-44be-49b4-b8f0-0f46aacc5fdf",
   "metadata": {},
   "source": [
    "### For N = 16\n",
    "\n",
    "### Get the matrix and the zeromode"
   ]
  },
  {
   "cell_type": "code",
   "execution_count": 21,
   "id": "ebd938c4-ea40-4c8d-bd57-baf565e6c6f6",
   "metadata": {},
   "outputs": [
    {
     "name": "stdout",
     "output_type": "stream",
     "text": [
      "The matrix is:\n",
      "[[ 1.73906250e+01 -4.14983292e+01  4.16413256e+01 -2.51557647e+00\n",
      "  -3.13747510e+00  0.00000000e+00  0.00000000e+00  0.00000000e+00\n",
      "   0.00000000e+00  0.00000000e+00  0.00000000e+00  0.00000000e+00\n",
      "   0.00000000e+00  0.00000000e+00  0.00000000e+00  0.00000000e+00]\n",
      " [-4.14983292e+01  1.38140625e+02 -2.04490248e+02  1.54161036e+02\n",
      "  -3.10594189e+01 -2.10468228e+01  0.00000000e+00  0.00000000e+00\n",
      "   0.00000000e+00  0.00000000e+00  0.00000000e+00  0.00000000e+00\n",
      "   0.00000000e+00  0.00000000e+00  0.00000000e+00  0.00000000e+00]\n",
      " [ 4.16413256e+01 -2.04490248e+02  4.13640625e+02 -4.62654398e+02\n",
      "   2.97161572e+02 -1.33665277e+02 -6.98044143e+01  0.00000000e+00\n",
      "   0.00000000e+00  0.00000000e+00  0.00000000e+00  0.00000000e+00\n",
      "   0.00000000e+00  0.00000000e+00  0.00000000e+00  0.00000000e+00]\n",
      " [-2.51557647e+00  1.54161036e+02 -4.62654398e+02  9.24890625e+02\n",
      "  -7.68209032e+02  4.17083625e+02 -3.82334523e+02 -1.71932490e+02\n",
      "   0.00000000e+00  0.00000000e+00  0.00000000e+00  0.00000000e+00\n",
      "   0.00000000e+00  0.00000000e+00  0.00000000e+00  0.00000000e+00]\n",
      " [-3.13747510e+00 -3.10594189e+01  2.97161572e+02 -7.68209032e+02\n",
      "   1.81289062e+03 -1.04918443e+03  4.35981651e+02 -8.73066927e+02\n",
      "  -3.55934070e+02  0.00000000e+00  0.00000000e+00  0.00000000e+00\n",
      "   0.00000000e+00  0.00000000e+00  0.00000000e+00  0.00000000e+00]\n",
      " [ 0.00000000e+00 -2.10468228e+01 -1.33665277e+02  4.17083625e+02\n",
      "  -1.04918443e+03  3.27864062e+03 -1.20958947e+03  2.51869758e+02\n",
      "  -1.72586228e+03 -6.56309997e+02  0.00000000e+00  0.00000000e+00\n",
      "   0.00000000e+00  0.00000000e+00  0.00000000e+00  0.00000000e+00]\n",
      " [ 0.00000000e+00  0.00000000e+00 -6.98044143e+01 -3.82334523e+02\n",
      "   4.35981651e+02 -1.20958947e+03  5.58314062e+03 -1.12942769e+03\n",
      "  -2.61247010e+02 -3.08472046e+03 -1.11356059e+03  0.00000000e+00\n",
      "   0.00000000e+00  0.00000000e+00  0.00000000e+00  0.00000000e+00]\n",
      " [ 0.00000000e+00  0.00000000e+00  0.00000000e+00 -1.71932490e+02\n",
      "  -8.73066927e+02  2.51869758e+02 -1.12942769e+03  9.04739062e+03\n",
      "  -6.64700767e+02 -1.25336647e+03 -5.11764136e+03 -1.77418599e+03\n",
      "   0.00000000e+00  0.00000000e+00  0.00000000e+00  0.00000000e+00]\n",
      " [ 0.00000000e+00  0.00000000e+00  0.00000000e+00  0.00000000e+00\n",
      "  -3.55934070e+02 -1.72586228e+03 -2.61247010e+02 -6.64700767e+02\n",
      "   1.40523906e+04  3.52590372e+02 -2.89848754e+03 -8.01662494e+03\n",
      "  -2.69068628e+03  0.00000000e+00  0.00000000e+00  0.00000000e+00]\n",
      " [ 0.00000000e+00  0.00000000e+00  0.00000000e+00  0.00000000e+00\n",
      "   0.00000000e+00 -6.56309997e+02 -3.08472046e+03 -1.25336647e+03\n",
      "   3.52590372e+02  2.10391406e+04  2.11444520e+03 -5.39460964e+03\n",
      "  -1.19976711e+04 -3.92156149e+03  0.00000000e+00  0.00000000e+00]\n",
      " [ 0.00000000e+00  0.00000000e+00  0.00000000e+00  0.00000000e+00\n",
      "   0.00000000e+00  0.00000000e+00 -1.11356059e+03 -5.11764136e+03\n",
      "  -2.89848754e+03  2.11444520e+03  3.05086406e+04  4.83686338e+03\n",
      "  -8.96373243e+03 -1.73007799e+04 -5.53131165e+03  0.00000000e+00]\n",
      " [ 0.00000000e+00  0.00000000e+00  0.00000000e+00  0.00000000e+00\n",
      "   0.00000000e+00  0.00000000e+00  0.00000000e+00 -1.77418599e+03\n",
      "  -8.01662494e+03 -5.39460964e+03  4.83686338e+03  4.30218906e+04\n",
      "   8.75984469e+03 -1.38518557e+04 -2.41899513e+04 -7.59043678e+03]\n",
      " [ 0.00000000e+00  0.00000000e+00  0.00000000e+00  0.00000000e+00\n",
      "   0.00000000e+00  0.00000000e+00  0.00000000e+00  0.00000000e+00\n",
      "  -2.69068628e+03 -1.19976711e+04 -8.96373243e+03  8.75984469e+03\n",
      "   5.91998906e+04  1.41473890e+04 -2.03289793e+04 -3.29531853e+04]\n",
      " [ 0.00000000e+00  0.00000000e+00  0.00000000e+00  0.00000000e+00\n",
      "   0.00000000e+00  0.00000000e+00  0.00000000e+00  0.00000000e+00\n",
      "   0.00000000e+00 -3.92156149e+03 -1.73007799e+04 -1.38518557e+04\n",
      "   1.41473890e+04  7.97236406e+04  2.12874962e+04 -2.86891032e+04]\n",
      " [ 0.00000000e+00  0.00000000e+00  0.00000000e+00  0.00000000e+00\n",
      "   0.00000000e+00  0.00000000e+00  0.00000000e+00  0.00000000e+00\n",
      "   0.00000000e+00  0.00000000e+00 -5.53131165e+03 -2.41899513e+04\n",
      "  -2.03289793e+04  2.12874962e+04  9.18491406e+04  1.22047934e+04]\n",
      " [ 0.00000000e+00  0.00000000e+00  0.00000000e+00  0.00000000e+00\n",
      "   0.00000000e+00  0.00000000e+00  0.00000000e+00  0.00000000e+00\n",
      "   0.00000000e+00  0.00000000e+00  0.00000000e+00 -7.59043678e+03\n",
      "  -3.29531853e+04 -2.86891032e+04  1.22047934e+04  9.46413906e+04]]\n",
      "\n",
      "The zeromode is:\n",
      "[[-8.33616331e-01]\n",
      " [-5.24079477e-01]\n",
      " [-1.70843806e-01]\n",
      " [ 2.27832468e-02]\n",
      " [ 2.54474498e-02]\n",
      " [-6.89803130e-03]\n",
      " [-3.84535264e-03]\n",
      " [ 2.68846391e-03]\n",
      " [-8.54577580e-05]\n",
      " [-7.17181087e-04]\n",
      " [ 3.43309489e-04]\n",
      " [-3.67605103e-06]\n",
      " [-1.31700668e-04]\n",
      " [ 5.77041261e-05]\n",
      " [-1.93397937e-05]\n",
      " [-2.61655236e-05]]\n",
      "\n"
     ]
    },
    {
     "name": "stderr",
     "output_type": "stream",
     "text": [
      "C:\\Users\\Owner\\AppData\\Local\\Temp\\ipykernel_2564\\795971042.py:108: DeprecationWarning: Conversion of an array with ndim > 0 to a scalar is deprecated, and will error in future. Ensure you extract a single element from your array before performing this operation. (Deprecated NumPy 1.25.)\n",
      "  eigenvector[2*i] = eigenvector_old[i]\n"
     ]
    },
    {
     "name": "stdout",
     "output_type": "stream",
     "text": [
      "The value of <x^2> is:\n",
      "0.6471064574160962\n",
      "\n"
     ]
    }
   ],
   "source": [
    "## Get the matrix and zeromode\n",
    "nmax = 31\n",
    "a = -1\n",
    "gamma = 1\n",
    "dx = 0.01\n",
    "c = 2\n",
    "L = 1/2\n",
    "x = np.linspace(-4, 4, int(8/dx))\n",
    "\n",
    "# Matrix and zeromode\n",
    "matrix, zeromode_classic = get_zeromode(nmax, a, c, L, gamma)\n",
    "\n",
    "## Print the matrix and zeromode\n",
    "print('The matrix is:')\n",
    "print(matrix)\n",
    "print()\n",
    "\n",
    "# Print the zeromode\n",
    "print('The zeromode is:')\n",
    "print(zeromode_classic)\n",
    "print()\n",
    "\n",
    "## Compute the classical <x^2> value\n",
    "x, y = get_pdf(nmax, x, dx, L, shift = 0, zeromode_qpe = zeromode_classic, normalize = True, make_even = True)\n",
    "classical_expectation = compute_expectation_x_squared_simpson(x, y, 2)\n",
    "\n",
    "# Print the classical expectation value\n",
    "print('The value of <x^2> is:')\n",
    "print(classical_expectation)\n",
    "print()"
   ]
  },
  {
   "cell_type": "markdown",
   "id": "d870cff5-7d18-4bb4-9dd8-2850b8c118c8",
   "metadata": {},
   "source": [
    "### Run VQE for multiple ansatz depths (fix at 50_000 optimization iterations)\n",
    "\n",
    "### Note: 6 independent VQE runs at each ansatz depth considered"
   ]
  },
  {
   "cell_type": "code",
   "execution_count": 24,
   "id": "17f5096c-0711-424e-bd49-d324ede3a02d",
   "metadata": {},
   "outputs": [
    {
     "name": "stderr",
     "output_type": "stream",
     "text": [
      "For Windows, using only current process. Multiple core use not supported.\n"
     ]
    },
    {
     "name": "stdout",
     "output_type": "stream",
     "text": [
      "\n",
      "Running VQE for optimizer-ansatz pair: P_BFGS-RealAmplitudes\n"
     ]
    },
    {
     "name": "stderr",
     "output_type": "stream",
     "text": [
      "For Windows, using only current process. Multiple core use not supported.\n",
      "For Windows, using only current process. Multiple core use not supported.\n",
      "For Windows, using only current process. Multiple core use not supported.\n",
      "For Windows, using only current process. Multiple core use not supported.\n",
      "For Windows, using only current process. Multiple core use not supported.\n",
      "For Windows, using only current process. Multiple core use not supported.\n"
     ]
    },
    {
     "name": "stdout",
     "output_type": "stream",
     "text": [
      "P_BFGS-RealAmplitudes - Depth 1: Best fidelity = [[0.99488686]], Function calls = 4041,             Best zeromode: [[ 8.68420693e-01]\n",
      " [ 4.76332550e-01]\n",
      " [ 1.35730048e-01]\n",
      " [-1.77158933e-02]\n",
      " [-1.27885846e-02]\n",
      " [-6.60396073e-03]\n",
      " [-1.03448866e-03]\n",
      " [-2.49227119e-03]\n",
      " [-1.18448929e-03]\n",
      " [-6.49739010e-04]\n",
      " [-1.85227417e-04]\n",
      " [ 2.44416497e-05]\n",
      " [ 1.68231990e-05]\n",
      " [ 5.87262866e-06]\n",
      " [-5.24921159e-06]\n",
      " [ 2.21507288e-05]]\n"
     ]
    },
    {
     "name": "stderr",
     "output_type": "stream",
     "text": [
      "For Windows, using only current process. Multiple core use not supported.\n",
      "For Windows, using only current process. Multiple core use not supported.\n",
      "For Windows, using only current process. Multiple core use not supported.\n",
      "For Windows, using only current process. Multiple core use not supported.\n",
      "For Windows, using only current process. Multiple core use not supported.\n",
      "For Windows, using only current process. Multiple core use not supported.\n"
     ]
    },
    {
     "name": "stdout",
     "output_type": "stream",
     "text": [
      "P_BFGS-RealAmplitudes - Depth 2: Best fidelity = [[0.99999928]], Function calls = 15028,             Best zeromode: [[-8.33725855e-01]\n",
      " [-5.23932592e-01]\n",
      " [-1.70849425e-01]\n",
      " [ 2.24956470e-02]\n",
      " [ 2.51356012e-02]\n",
      " [-6.93386742e-03]\n",
      " [-3.77425122e-03]\n",
      " [ 2.43947790e-03]\n",
      " [-2.67408160e-04]\n",
      " [-3.09802272e-04]\n",
      " [-1.24729612e-04]\n",
      " [ 2.02900327e-05]\n",
      " [-6.18055473e-06]\n",
      " [ 1.78402823e-05]\n",
      " [ 8.03589957e-06]\n",
      " [-3.35809764e-06]]\n"
     ]
    },
    {
     "name": "stderr",
     "output_type": "stream",
     "text": [
      "For Windows, using only current process. Multiple core use not supported.\n",
      "For Windows, using only current process. Multiple core use not supported.\n",
      "For Windows, using only current process. Multiple core use not supported.\n",
      "For Windows, using only current process. Multiple core use not supported.\n",
      "For Windows, using only current process. Multiple core use not supported.\n",
      "For Windows, using only current process. Multiple core use not supported.\n"
     ]
    },
    {
     "name": "stdout",
     "output_type": "stream",
     "text": [
      "P_BFGS-RealAmplitudes - Depth 3: Best fidelity = [[0.99999928]], Function calls = 16252,             Best zeromode: [[ 8.33787016e-01]\n",
      " [ 5.23892640e-01]\n",
      " [ 1.70646521e-01]\n",
      " [-2.26737909e-02]\n",
      " [-2.51438235e-02]\n",
      " [ 6.99241830e-03]\n",
      " [ 3.71824308e-03]\n",
      " [-2.48778069e-03]\n",
      " [ 3.22161388e-04]\n",
      " [ 3.39500166e-04]\n",
      " [ 1.44118820e-04]\n",
      " [-5.12285781e-05]\n",
      " [ 1.18671628e-04]\n",
      " [ 2.44633032e-05]\n",
      " [-4.86542173e-06]\n",
      " [ 1.42054048e-05]]\n"
     ]
    },
    {
     "name": "stderr",
     "output_type": "stream",
     "text": [
      "For Windows, using only current process. Multiple core use not supported.\n",
      "For Windows, using only current process. Multiple core use not supported.\n",
      "For Windows, using only current process. Multiple core use not supported.\n",
      "For Windows, using only current process. Multiple core use not supported.\n",
      "For Windows, using only current process. Multiple core use not supported.\n",
      "For Windows, using only current process. Multiple core use not supported.\n"
     ]
    },
    {
     "name": "stdout",
     "output_type": "stream",
     "text": [
      "P_BFGS-RealAmplitudes - Depth 4: Best fidelity = [[0.99999953]], Function calls = 50001,             Best zeromode: [[ 8.33766143e-01]\n",
      " [ 5.23911617e-01]\n",
      " [ 1.70679278e-01]\n",
      " [-2.26937220e-02]\n",
      " [-2.51574269e-02]\n",
      " [ 7.06634111e-03]\n",
      " [ 3.75956147e-03]\n",
      " [-2.60373288e-03]\n",
      " [ 4.47033859e-04]\n",
      " [ 4.30624894e-04]\n",
      " [-2.23382943e-04]\n",
      " [ 6.98980129e-05]\n",
      " [ 1.13398515e-04]\n",
      " [ 3.60639682e-05]\n",
      " [-4.49806905e-05]\n",
      " [ 1.29095912e-04]]\n"
     ]
    },
    {
     "name": "stderr",
     "output_type": "stream",
     "text": [
      "For Windows, using only current process. Multiple core use not supported.\n",
      "For Windows, using only current process. Multiple core use not supported.\n",
      "For Windows, using only current process. Multiple core use not supported.\n",
      "For Windows, using only current process. Multiple core use not supported.\n",
      "For Windows, using only current process. Multiple core use not supported.\n",
      "For Windows, using only current process. Multiple core use not supported.\n"
     ]
    },
    {
     "name": "stdout",
     "output_type": "stream",
     "text": [
      "P_BFGS-RealAmplitudes - Depth 5: Best fidelity = [[0.99999994]], Function calls = 47200,             Best zeromode: [[ 8.33564852e-01]\n",
      " [ 5.24159968e-01]\n",
      " [ 1.70853095e-01]\n",
      " [-2.27918907e-02]\n",
      " [-2.54029802e-02]\n",
      " [ 6.93253942e-03]\n",
      " [ 3.80271067e-03]\n",
      " [-2.70231857e-03]\n",
      " [ 1.99928966e-04]\n",
      " [ 6.21626313e-04]\n",
      " [-3.76685477e-04]\n",
      " [ 1.00132119e-04]\n",
      " [ 2.73944513e-05]\n",
      " [ 1.89528080e-05]\n",
      " [ 1.57424534e-05]\n",
      " [ 1.80619802e-05]]\n"
     ]
    },
    {
     "name": "stderr",
     "output_type": "stream",
     "text": [
      "For Windows, using only current process. Multiple core use not supported.\n",
      "For Windows, using only current process. Multiple core use not supported.\n",
      "For Windows, using only current process. Multiple core use not supported.\n",
      "For Windows, using only current process. Multiple core use not supported.\n",
      "For Windows, using only current process. Multiple core use not supported.\n",
      "For Windows, using only current process. Multiple core use not supported.\n"
     ]
    },
    {
     "name": "stdout",
     "output_type": "stream",
     "text": [
      "P_BFGS-RealAmplitudes - Depth 6: Best fidelity = [[1.]], Function calls = 9280,             Best zeromode: [[-8.33615385e-01]\n",
      " [-5.24081327e-01]\n",
      " [-1.70841254e-01]\n",
      " [ 2.27893711e-02]\n",
      " [ 2.54516761e-02]\n",
      " [-6.89889688e-03]\n",
      " [-3.84537172e-03]\n",
      " [ 2.68909972e-03]\n",
      " [-8.53312725e-05]\n",
      " [-7.17276669e-04]\n",
      " [ 3.43467059e-04]\n",
      " [-3.67848362e-06]\n",
      " [-1.31677386e-04]\n",
      " [ 5.77099484e-05]\n",
      " [-1.93516824e-05]\n",
      " [-2.61815300e-05]]\n",
      "\n",
      "Running VQE for optimizer-ansatz pair: P_BFGS-TwoLocal\n"
     ]
    },
    {
     "name": "stderr",
     "output_type": "stream",
     "text": [
      "For Windows, using only current process. Multiple core use not supported.\n",
      "For Windows, using only current process. Multiple core use not supported.\n",
      "For Windows, using only current process. Multiple core use not supported.\n",
      "For Windows, using only current process. Multiple core use not supported.\n",
      "For Windows, using only current process. Multiple core use not supported.\n",
      "For Windows, using only current process. Multiple core use not supported.\n"
     ]
    },
    {
     "name": "stdout",
     "output_type": "stream",
     "text": [
      "P_BFGS-TwoLocal - Depth 1: Best fidelity = [[0.99477262]], Function calls = 7641,             Best zeromode: [[ 8.68532845e-01]\n",
      " [ 4.76336506e-01]\n",
      " [ 1.35599792e-01]\n",
      " [-1.55455191e-02]\n",
      " [-9.62545448e-03]\n",
      " [-5.23004962e-03]\n",
      " [-2.00129428e-03]\n",
      " [-8.38815562e-05]\n",
      " [-9.61272696e-04]\n",
      " [-5.27202853e-04]\n",
      " [-1.50035206e-04]\n",
      " [ 1.72278392e-05]\n",
      " [-1.30481216e-04]\n",
      " [-7.12838547e-05]\n",
      " [-2.31945353e-05]\n",
      " [ 8.84762014e-07]]\n"
     ]
    },
    {
     "name": "stderr",
     "output_type": "stream",
     "text": [
      "For Windows, using only current process. Multiple core use not supported.\n",
      "For Windows, using only current process. Multiple core use not supported.\n",
      "For Windows, using only current process. Multiple core use not supported.\n",
      "For Windows, using only current process. Multiple core use not supported.\n",
      "For Windows, using only current process. Multiple core use not supported.\n",
      "For Windows, using only current process. Multiple core use not supported.\n"
     ]
    },
    {
     "name": "stdout",
     "output_type": "stream",
     "text": [
      "P_BFGS-TwoLocal - Depth 2: Best fidelity = [[0.99999908]], Function calls = 14274,             Best zeromode: [[-8.33782240e-01]\n",
      " [-5.23877325e-01]\n",
      " [-1.70751317e-01]\n",
      " [ 2.25177416e-02]\n",
      " [ 2.50250053e-02]\n",
      " [-7.05853531e-03]\n",
      " [-3.75193604e-03]\n",
      " [ 2.48557694e-03]\n",
      " [-5.03248143e-04]\n",
      " [-2.53220049e-04]\n",
      " [ 4.31711763e-05]\n",
      " [-1.19730596e-04]\n",
      " [ 1.30739929e-05]\n",
      " [-7.67334860e-06]\n",
      " [-6.68163076e-06]\n",
      " [ 9.83873666e-06]]\n"
     ]
    },
    {
     "name": "stderr",
     "output_type": "stream",
     "text": [
      "For Windows, using only current process. Multiple core use not supported.\n",
      "For Windows, using only current process. Multiple core use not supported.\n",
      "For Windows, using only current process. Multiple core use not supported.\n",
      "For Windows, using only current process. Multiple core use not supported.\n",
      "For Windows, using only current process. Multiple core use not supported.\n",
      "For Windows, using only current process. Multiple core use not supported.\n"
     ]
    },
    {
     "name": "stdout",
     "output_type": "stream",
     "text": [
      "P_BFGS-TwoLocal - Depth 3: Best fidelity = [[0.99999936]], Function calls = 44880,             Best zeromode: [[ 8.33314642e-01]\n",
      " [ 5.24418626e-01]\n",
      " [ 1.71337096e-01]\n",
      " [-2.24545661e-02]\n",
      " [-2.52789792e-02]\n",
      " [ 7.01464267e-03]\n",
      " [ 3.93612204e-03]\n",
      " [-2.59862250e-03]\n",
      " [ 1.62442450e-04]\n",
      " [ 7.67756051e-04]\n",
      " [-2.79842380e-04]\n",
      " [ 9.75091751e-05]\n",
      " [ 1.31018691e-04]\n",
      " [-9.16523381e-06]\n",
      " [ 3.17381356e-06]\n",
      " [ 6.87932859e-05]]\n"
     ]
    },
    {
     "name": "stderr",
     "output_type": "stream",
     "text": [
      "For Windows, using only current process. Multiple core use not supported.\n",
      "For Windows, using only current process. Multiple core use not supported.\n",
      "For Windows, using only current process. Multiple core use not supported.\n",
      "For Windows, using only current process. Multiple core use not supported.\n",
      "For Windows, using only current process. Multiple core use not supported.\n",
      "For Windows, using only current process. Multiple core use not supported.\n"
     ]
    },
    {
     "name": "stdout",
     "output_type": "stream",
     "text": [
      "P_BFGS-TwoLocal - Depth 4: Best fidelity = [[0.9999997]], Function calls = 15624,             Best zeromode: [[ 8.33830960e-01]\n",
      " [ 5.23838509e-01]\n",
      " [ 1.70497301e-01]\n",
      " [-2.29946440e-02]\n",
      " [-2.55379691e-02]\n",
      " [ 6.82533111e-03]\n",
      " [ 3.77605610e-03]\n",
      " [-2.72975884e-03]\n",
      " [ 4.46280880e-05]\n",
      " [ 6.66250745e-04]\n",
      " [-3.58779959e-04]\n",
      " [-1.41250043e-05]\n",
      " [ 5.99175852e-05]\n",
      " [-1.13066959e-05]\n",
      " [-3.84711450e-05]\n",
      " [ 9.63025155e-06]]\n"
     ]
    },
    {
     "name": "stderr",
     "output_type": "stream",
     "text": [
      "For Windows, using only current process. Multiple core use not supported.\n",
      "For Windows, using only current process. Multiple core use not supported.\n",
      "For Windows, using only current process. Multiple core use not supported.\n",
      "For Windows, using only current process. Multiple core use not supported.\n",
      "For Windows, using only current process. Multiple core use not supported.\n",
      "For Windows, using only current process. Multiple core use not supported.\n"
     ]
    },
    {
     "name": "stdout",
     "output_type": "stream",
     "text": [
      "P_BFGS-TwoLocal - Depth 5: Best fidelity = [[1.]], Function calls = 39225,             Best zeromode: [[-8.33612956e-01]\n",
      " [-5.24081712e-01]\n",
      " [-1.70854697e-01]\n",
      " [ 2.27739639e-02]\n",
      " [ 2.54480893e-02]\n",
      " [-6.89434091e-03]\n",
      " [-3.85038371e-03]\n",
      " [ 2.68259577e-03]\n",
      " [-7.53853963e-05]\n",
      " [-7.21515880e-04]\n",
      " [ 3.32572694e-04]\n",
      " [ 1.71489025e-06]\n",
      " [-1.32277907e-04]\n",
      " [ 5.56418708e-05]\n",
      " [-2.76129735e-05]\n",
      " [-1.91185660e-05]]\n"
     ]
    },
    {
     "name": "stderr",
     "output_type": "stream",
     "text": [
      "For Windows, using only current process. Multiple core use not supported.\n",
      "For Windows, using only current process. Multiple core use not supported.\n",
      "For Windows, using only current process. Multiple core use not supported.\n",
      "For Windows, using only current process. Multiple core use not supported.\n",
      "For Windows, using only current process. Multiple core use not supported.\n",
      "For Windows, using only current process. Multiple core use not supported.\n"
     ]
    },
    {
     "name": "stdout",
     "output_type": "stream",
     "text": [
      "P_BFGS-TwoLocal - Depth 6: Best fidelity = [[1.]], Function calls = 11107,             Best zeromode: [[ 8.33613236e-01]\n",
      " [ 5.24084336e-01]\n",
      " [ 1.70843652e-01]\n",
      " [-2.27849455e-02]\n",
      " [-2.54484312e-02]\n",
      " [ 6.89743090e-03]\n",
      " [ 3.84523361e-03]\n",
      " [-2.68895400e-03]\n",
      " [ 8.47106564e-05]\n",
      " [ 7.17490118e-04]\n",
      " [-3.43695582e-04]\n",
      " [ 3.40237274e-06]\n",
      " [ 1.31723706e-04]\n",
      " [-5.78416071e-05]\n",
      " [ 1.93762085e-05]\n",
      " [ 2.60917700e-05]]\n",
      "\n",
      "Running VQE for optimizer-ansatz pair: P_BFGS-EfficientSU2\n"
     ]
    },
    {
     "name": "stderr",
     "output_type": "stream",
     "text": [
      "For Windows, using only current process. Multiple core use not supported.\n",
      "For Windows, using only current process. Multiple core use not supported.\n",
      "For Windows, using only current process. Multiple core use not supported.\n",
      "For Windows, using only current process. Multiple core use not supported.\n",
      "For Windows, using only current process. Multiple core use not supported.\n",
      "For Windows, using only current process. Multiple core use not supported.\n"
     ]
    },
    {
     "name": "stdout",
     "output_type": "stream",
     "text": [
      "P_BFGS-EfficientSU2 - Depth 1: Best fidelity = [[0.94655016]], Function calls = 1134,             Best zeromode: [[-9.33545186e-01]\n",
      " [-3.50156124e-01]\n",
      " [-7.06785948e-02]\n",
      " [-2.64964209e-02]\n",
      " [-1.26978495e-02]\n",
      " [-4.68582530e-03]\n",
      " [-6.25339290e-04]\n",
      " [-1.25029889e-03]\n",
      " [-1.09195159e-03]\n",
      " [-4.09660161e-04]\n",
      " [-8.24506724e-05]\n",
      " [-3.02164407e-05]\n",
      " [-1.65173672e-04]\n",
      " [-5.70656131e-05]\n",
      " [-2.43714944e-05]\n",
      " [-7.37128149e-05]]\n"
     ]
    },
    {
     "name": "stderr",
     "output_type": "stream",
     "text": [
      "For Windows, using only current process. Multiple core use not supported.\n",
      "For Windows, using only current process. Multiple core use not supported.\n",
      "For Windows, using only current process. Multiple core use not supported.\n",
      "For Windows, using only current process. Multiple core use not supported.\n",
      "For Windows, using only current process. Multiple core use not supported.\n",
      "For Windows, using only current process. Multiple core use not supported.\n"
     ]
    },
    {
     "name": "stdout",
     "output_type": "stream",
     "text": [
      "P_BFGS-EfficientSU2 - Depth 2: Best fidelity = [[0.99779463]], Function calls = 1196,             Best zeromode: [[-8.50052443e-01]\n",
      " [-5.00251242e-01]\n",
      " [-1.64778796e-01]\n",
      " [-2.16064414e-03]\n",
      " [ 1.41913264e-04]\n",
      " [ 2.34744027e-04]\n",
      " [-1.43427927e-03]\n",
      " [-7.98920123e-04]\n",
      " [ 1.09180351e-04]\n",
      " [-1.86133007e-04]\n",
      " [ 1.41558477e-06]\n",
      " [ 3.28538029e-05]\n",
      " [-2.58542552e-05]\n",
      " [-1.44539351e-05]\n",
      " [-2.38772745e-06]\n",
      " [-4.55285652e-06]]\n"
     ]
    },
    {
     "name": "stderr",
     "output_type": "stream",
     "text": [
      "For Windows, using only current process. Multiple core use not supported.\n",
      "For Windows, using only current process. Multiple core use not supported.\n",
      "For Windows, using only current process. Multiple core use not supported.\n",
      "For Windows, using only current process. Multiple core use not supported.\n",
      "For Windows, using only current process. Multiple core use not supported.\n",
      "For Windows, using only current process. Multiple core use not supported.\n"
     ]
    },
    {
     "name": "stdout",
     "output_type": "stream",
     "text": [
      "P_BFGS-EfficientSU2 - Depth 3: Best fidelity = [[0.99999944]], Function calls = 25823,             Best zeromode: [[-8.33829227e-01]\n",
      " [-5.23804520e-01]\n",
      " [-1.70716649e-01]\n",
      " [ 2.25750174e-02]\n",
      " [ 2.52263225e-02]\n",
      " [-6.83923264e-03]\n",
      " [-3.78789857e-03]\n",
      " [ 2.46940640e-03]\n",
      " [-8.42959434e-05]\n",
      " [-4.76254568e-04]\n",
      " [-6.00026661e-05]\n",
      " [-5.96484902e-05]\n",
      " [ 8.20496407e-05]\n",
      " [ 1.13181442e-05]\n",
      " [ 1.90802964e-05]\n",
      " [ 5.61222936e-05]]\n"
     ]
    },
    {
     "name": "stderr",
     "output_type": "stream",
     "text": [
      "For Windows, using only current process. Multiple core use not supported.\n",
      "For Windows, using only current process. Multiple core use not supported.\n",
      "For Windows, using only current process. Multiple core use not supported.\n",
      "For Windows, using only current process. Multiple core use not supported.\n",
      "For Windows, using only current process. Multiple core use not supported.\n",
      "For Windows, using only current process. Multiple core use not supported.\n"
     ]
    },
    {
     "name": "stdout",
     "output_type": "stream",
     "text": [
      "P_BFGS-EfficientSU2 - Depth 4: Best fidelity = [[1.]], Function calls = 13713,             Best zeromode: [[ 8.33618514e-01]\n",
      " [ 5.24076210e-01]\n",
      " [ 1.70842838e-01]\n",
      " [-2.27842704e-02]\n",
      " [-2.54488525e-02]\n",
      " [ 6.89738970e-03]\n",
      " [ 3.84541518e-03]\n",
      " [-2.68990473e-03]\n",
      " [ 8.54561585e-05]\n",
      " [ 7.17013592e-04]\n",
      " [-3.42392207e-04]\n",
      " [ 3.99946898e-06]\n",
      " [ 1.31843946e-04]\n",
      " [-5.74639854e-05]\n",
      " [ 1.93769827e-05]\n",
      " [ 2.64105260e-05]]\n"
     ]
    },
    {
     "name": "stderr",
     "output_type": "stream",
     "text": [
      "For Windows, using only current process. Multiple core use not supported.\n",
      "For Windows, using only current process. Multiple core use not supported.\n",
      "For Windows, using only current process. Multiple core use not supported.\n",
      "For Windows, using only current process. Multiple core use not supported.\n",
      "For Windows, using only current process. Multiple core use not supported.\n",
      "For Windows, using only current process. Multiple core use not supported.\n"
     ]
    },
    {
     "name": "stdout",
     "output_type": "stream",
     "text": [
      "P_BFGS-EfficientSU2 - Depth 5: Best fidelity = [[1.]], Function calls = 29900,             Best zeromode: [[-8.33606847e-01]\n",
      " [-5.24090540e-01]\n",
      " [-1.70857563e-01]\n",
      " [ 2.27752182e-02]\n",
      " [ 2.54454535e-02]\n",
      " [-6.89686302e-03]\n",
      " [-3.84555758e-03]\n",
      " [ 2.68820000e-03]\n",
      " [-8.51955240e-05]\n",
      " [-7.16919514e-04]\n",
      " [ 3.43347180e-04]\n",
      " [-3.68991893e-06]\n",
      " [-1.31194554e-04]\n",
      " [ 5.75798399e-05]\n",
      " [-1.92268539e-05]\n",
      " [-2.60867369e-05]]\n"
     ]
    },
    {
     "name": "stderr",
     "output_type": "stream",
     "text": [
      "For Windows, using only current process. Multiple core use not supported.\n",
      "For Windows, using only current process. Multiple core use not supported.\n",
      "For Windows, using only current process. Multiple core use not supported.\n",
      "For Windows, using only current process. Multiple core use not supported.\n",
      "For Windows, using only current process. Multiple core use not supported.\n"
     ]
    },
    {
     "name": "stdout",
     "output_type": "stream",
     "text": [
      "P_BFGS-EfficientSU2 - Depth 6: Best fidelity = [[1.]], Function calls = 9077,             Best zeromode: [[ 8.33621446e-01]\n",
      " [ 5.24073221e-01]\n",
      " [ 1.70837964e-01]\n",
      " [-2.27846164e-02]\n",
      " [-2.54467362e-02]\n",
      " [ 6.89802060e-03]\n",
      " [ 3.84546918e-03]\n",
      " [-2.68823911e-03]\n",
      " [ 8.55857733e-05]\n",
      " [ 7.17199753e-04]\n",
      " [-3.43227772e-04]\n",
      " [ 3.73858249e-06]\n",
      " [ 1.31709452e-04]\n",
      " [-5.76732971e-05]\n",
      " [ 1.93466439e-05]\n",
      " [ 2.61639839e-05]]\n"
     ]
    }
   ],
   "source": [
    "## Get the optimizers\n",
    "maxiter = 50_000\n",
    "optimizer = P_BFGS(maxfun = maxiter)\n",
    "\n",
    "# Define parameters\n",
    "dimension = matrix.shape[0]\n",
    "num_qubits = int(np.log2(dimension))\n",
    "max_depth = 6\n",
    "\n",
    "# Compute \n",
    "zeromodes_N_16, metrics_N_16 = analyze_ansatz_performance(matrix, zeromode_classic, optimizer, num_qubits, max_depth)"
   ]
  },
  {
   "cell_type": "markdown",
   "id": "40d4a0b8-c547-461f-adc3-49b396ecbbc9",
   "metadata": {},
   "source": [
    "### Print the results"
   ]
  },
  {
   "cell_type": "code",
   "execution_count": 27,
   "id": "cdae5f25-4390-4ad6-a286-1abc4ab198ad",
   "metadata": {},
   "outputs": [
    {
     "name": "stdout",
     "output_type": "stream",
     "text": [
      "The best zeromodes are:\n",
      "{'P_BFGS-RealAmplitudes': {1: array([[ 8.68420693e-01],\n",
      "       [ 4.76332550e-01],\n",
      "       [ 1.35730048e-01],\n",
      "       [-1.77158933e-02],\n",
      "       [-1.27885846e-02],\n",
      "       [-6.60396073e-03],\n",
      "       [-1.03448866e-03],\n",
      "       [-2.49227119e-03],\n",
      "       [-1.18448929e-03],\n",
      "       [-6.49739010e-04],\n",
      "       [-1.85227417e-04],\n",
      "       [ 2.44416497e-05],\n",
      "       [ 1.68231990e-05],\n",
      "       [ 5.87262866e-06],\n",
      "       [-5.24921159e-06],\n",
      "       [ 2.21507288e-05]]), 2: array([[-8.33725855e-01],\n",
      "       [-5.23932592e-01],\n",
      "       [-1.70849425e-01],\n",
      "       [ 2.24956470e-02],\n",
      "       [ 2.51356012e-02],\n",
      "       [-6.93386742e-03],\n",
      "       [-3.77425122e-03],\n",
      "       [ 2.43947790e-03],\n",
      "       [-2.67408160e-04],\n",
      "       [-3.09802272e-04],\n",
      "       [-1.24729612e-04],\n",
      "       [ 2.02900327e-05],\n",
      "       [-6.18055473e-06],\n",
      "       [ 1.78402823e-05],\n",
      "       [ 8.03589957e-06],\n",
      "       [-3.35809764e-06]]), 3: array([[ 8.33787016e-01],\n",
      "       [ 5.23892640e-01],\n",
      "       [ 1.70646521e-01],\n",
      "       [-2.26737909e-02],\n",
      "       [-2.51438235e-02],\n",
      "       [ 6.99241830e-03],\n",
      "       [ 3.71824308e-03],\n",
      "       [-2.48778069e-03],\n",
      "       [ 3.22161388e-04],\n",
      "       [ 3.39500166e-04],\n",
      "       [ 1.44118820e-04],\n",
      "       [-5.12285781e-05],\n",
      "       [ 1.18671628e-04],\n",
      "       [ 2.44633032e-05],\n",
      "       [-4.86542173e-06],\n",
      "       [ 1.42054048e-05]]), 4: array([[ 8.33766143e-01],\n",
      "       [ 5.23911617e-01],\n",
      "       [ 1.70679278e-01],\n",
      "       [-2.26937220e-02],\n",
      "       [-2.51574269e-02],\n",
      "       [ 7.06634111e-03],\n",
      "       [ 3.75956147e-03],\n",
      "       [-2.60373288e-03],\n",
      "       [ 4.47033859e-04],\n",
      "       [ 4.30624894e-04],\n",
      "       [-2.23382943e-04],\n",
      "       [ 6.98980129e-05],\n",
      "       [ 1.13398515e-04],\n",
      "       [ 3.60639682e-05],\n",
      "       [-4.49806905e-05],\n",
      "       [ 1.29095912e-04]]), 5: array([[ 8.33564852e-01],\n",
      "       [ 5.24159968e-01],\n",
      "       [ 1.70853095e-01],\n",
      "       [-2.27918907e-02],\n",
      "       [-2.54029802e-02],\n",
      "       [ 6.93253942e-03],\n",
      "       [ 3.80271067e-03],\n",
      "       [-2.70231857e-03],\n",
      "       [ 1.99928966e-04],\n",
      "       [ 6.21626313e-04],\n",
      "       [-3.76685477e-04],\n",
      "       [ 1.00132119e-04],\n",
      "       [ 2.73944513e-05],\n",
      "       [ 1.89528080e-05],\n",
      "       [ 1.57424534e-05],\n",
      "       [ 1.80619802e-05]]), 6: array([[-8.33615385e-01],\n",
      "       [-5.24081327e-01],\n",
      "       [-1.70841254e-01],\n",
      "       [ 2.27893711e-02],\n",
      "       [ 2.54516761e-02],\n",
      "       [-6.89889688e-03],\n",
      "       [-3.84537172e-03],\n",
      "       [ 2.68909972e-03],\n",
      "       [-8.53312725e-05],\n",
      "       [-7.17276669e-04],\n",
      "       [ 3.43467059e-04],\n",
      "       [-3.67848362e-06],\n",
      "       [-1.31677386e-04],\n",
      "       [ 5.77099484e-05],\n",
      "       [-1.93516824e-05],\n",
      "       [-2.61815300e-05]])}, 'P_BFGS-TwoLocal': {1: array([[ 8.68532845e-01],\n",
      "       [ 4.76336506e-01],\n",
      "       [ 1.35599792e-01],\n",
      "       [-1.55455191e-02],\n",
      "       [-9.62545448e-03],\n",
      "       [-5.23004962e-03],\n",
      "       [-2.00129428e-03],\n",
      "       [-8.38815562e-05],\n",
      "       [-9.61272696e-04],\n",
      "       [-5.27202853e-04],\n",
      "       [-1.50035206e-04],\n",
      "       [ 1.72278392e-05],\n",
      "       [-1.30481216e-04],\n",
      "       [-7.12838547e-05],\n",
      "       [-2.31945353e-05],\n",
      "       [ 8.84762014e-07]]), 2: array([[-8.33782240e-01],\n",
      "       [-5.23877325e-01],\n",
      "       [-1.70751317e-01],\n",
      "       [ 2.25177416e-02],\n",
      "       [ 2.50250053e-02],\n",
      "       [-7.05853531e-03],\n",
      "       [-3.75193604e-03],\n",
      "       [ 2.48557694e-03],\n",
      "       [-5.03248143e-04],\n",
      "       [-2.53220049e-04],\n",
      "       [ 4.31711763e-05],\n",
      "       [-1.19730596e-04],\n",
      "       [ 1.30739929e-05],\n",
      "       [-7.67334860e-06],\n",
      "       [-6.68163076e-06],\n",
      "       [ 9.83873666e-06]]), 3: array([[ 8.33314642e-01],\n",
      "       [ 5.24418626e-01],\n",
      "       [ 1.71337096e-01],\n",
      "       [-2.24545661e-02],\n",
      "       [-2.52789792e-02],\n",
      "       [ 7.01464267e-03],\n",
      "       [ 3.93612204e-03],\n",
      "       [-2.59862250e-03],\n",
      "       [ 1.62442450e-04],\n",
      "       [ 7.67756051e-04],\n",
      "       [-2.79842380e-04],\n",
      "       [ 9.75091751e-05],\n",
      "       [ 1.31018691e-04],\n",
      "       [-9.16523381e-06],\n",
      "       [ 3.17381356e-06],\n",
      "       [ 6.87932859e-05]]), 4: array([[ 8.33830960e-01],\n",
      "       [ 5.23838509e-01],\n",
      "       [ 1.70497301e-01],\n",
      "       [-2.29946440e-02],\n",
      "       [-2.55379691e-02],\n",
      "       [ 6.82533111e-03],\n",
      "       [ 3.77605610e-03],\n",
      "       [-2.72975884e-03],\n",
      "       [ 4.46280880e-05],\n",
      "       [ 6.66250745e-04],\n",
      "       [-3.58779959e-04],\n",
      "       [-1.41250043e-05],\n",
      "       [ 5.99175852e-05],\n",
      "       [-1.13066959e-05],\n",
      "       [-3.84711450e-05],\n",
      "       [ 9.63025155e-06]]), 5: array([[-8.33612956e-01],\n",
      "       [-5.24081712e-01],\n",
      "       [-1.70854697e-01],\n",
      "       [ 2.27739639e-02],\n",
      "       [ 2.54480893e-02],\n",
      "       [-6.89434091e-03],\n",
      "       [-3.85038371e-03],\n",
      "       [ 2.68259577e-03],\n",
      "       [-7.53853963e-05],\n",
      "       [-7.21515880e-04],\n",
      "       [ 3.32572694e-04],\n",
      "       [ 1.71489025e-06],\n",
      "       [-1.32277907e-04],\n",
      "       [ 5.56418708e-05],\n",
      "       [-2.76129735e-05],\n",
      "       [-1.91185660e-05]]), 6: array([[ 8.33613236e-01],\n",
      "       [ 5.24084336e-01],\n",
      "       [ 1.70843652e-01],\n",
      "       [-2.27849455e-02],\n",
      "       [-2.54484312e-02],\n",
      "       [ 6.89743090e-03],\n",
      "       [ 3.84523361e-03],\n",
      "       [-2.68895400e-03],\n",
      "       [ 8.47106564e-05],\n",
      "       [ 7.17490118e-04],\n",
      "       [-3.43695582e-04],\n",
      "       [ 3.40237274e-06],\n",
      "       [ 1.31723706e-04],\n",
      "       [-5.78416071e-05],\n",
      "       [ 1.93762085e-05],\n",
      "       [ 2.60917700e-05]])}, 'P_BFGS-EfficientSU2': {1: array([[-9.33545186e-01],\n",
      "       [-3.50156124e-01],\n",
      "       [-7.06785948e-02],\n",
      "       [-2.64964209e-02],\n",
      "       [-1.26978495e-02],\n",
      "       [-4.68582530e-03],\n",
      "       [-6.25339290e-04],\n",
      "       [-1.25029889e-03],\n",
      "       [-1.09195159e-03],\n",
      "       [-4.09660161e-04],\n",
      "       [-8.24506724e-05],\n",
      "       [-3.02164407e-05],\n",
      "       [-1.65173672e-04],\n",
      "       [-5.70656131e-05],\n",
      "       [-2.43714944e-05],\n",
      "       [-7.37128149e-05]]), 2: array([[-8.50052443e-01],\n",
      "       [-5.00251242e-01],\n",
      "       [-1.64778796e-01],\n",
      "       [-2.16064414e-03],\n",
      "       [ 1.41913264e-04],\n",
      "       [ 2.34744027e-04],\n",
      "       [-1.43427927e-03],\n",
      "       [-7.98920123e-04],\n",
      "       [ 1.09180351e-04],\n",
      "       [-1.86133007e-04],\n",
      "       [ 1.41558477e-06],\n",
      "       [ 3.28538029e-05],\n",
      "       [-2.58542552e-05],\n",
      "       [-1.44539351e-05],\n",
      "       [-2.38772745e-06],\n",
      "       [-4.55285652e-06]]), 3: array([[-8.33829227e-01],\n",
      "       [-5.23804520e-01],\n",
      "       [-1.70716649e-01],\n",
      "       [ 2.25750174e-02],\n",
      "       [ 2.52263225e-02],\n",
      "       [-6.83923264e-03],\n",
      "       [-3.78789857e-03],\n",
      "       [ 2.46940640e-03],\n",
      "       [-8.42959434e-05],\n",
      "       [-4.76254568e-04],\n",
      "       [-6.00026661e-05],\n",
      "       [-5.96484902e-05],\n",
      "       [ 8.20496407e-05],\n",
      "       [ 1.13181442e-05],\n",
      "       [ 1.90802964e-05],\n",
      "       [ 5.61222936e-05]]), 4: array([[ 8.33618514e-01],\n",
      "       [ 5.24076210e-01],\n",
      "       [ 1.70842838e-01],\n",
      "       [-2.27842704e-02],\n",
      "       [-2.54488525e-02],\n",
      "       [ 6.89738970e-03],\n",
      "       [ 3.84541518e-03],\n",
      "       [-2.68990473e-03],\n",
      "       [ 8.54561585e-05],\n",
      "       [ 7.17013592e-04],\n",
      "       [-3.42392207e-04],\n",
      "       [ 3.99946898e-06],\n",
      "       [ 1.31843946e-04],\n",
      "       [-5.74639854e-05],\n",
      "       [ 1.93769827e-05],\n",
      "       [ 2.64105260e-05]]), 5: array([[-8.33606847e-01],\n",
      "       [-5.24090540e-01],\n",
      "       [-1.70857563e-01],\n",
      "       [ 2.27752182e-02],\n",
      "       [ 2.54454535e-02],\n",
      "       [-6.89686302e-03],\n",
      "       [-3.84555758e-03],\n",
      "       [ 2.68820000e-03],\n",
      "       [-8.51955240e-05],\n",
      "       [-7.16919514e-04],\n",
      "       [ 3.43347180e-04],\n",
      "       [-3.68991893e-06],\n",
      "       [-1.31194554e-04],\n",
      "       [ 5.75798399e-05],\n",
      "       [-1.92268539e-05],\n",
      "       [-2.60867369e-05]]), 6: array([[ 8.33621446e-01],\n",
      "       [ 5.24073221e-01],\n",
      "       [ 1.70837964e-01],\n",
      "       [-2.27846164e-02],\n",
      "       [-2.54467362e-02],\n",
      "       [ 6.89802060e-03],\n",
      "       [ 3.84546918e-03],\n",
      "       [-2.68823911e-03],\n",
      "       [ 8.55857733e-05],\n",
      "       [ 7.17199753e-04],\n",
      "       [-3.43227772e-04],\n",
      "       [ 3.73858249e-06],\n",
      "       [ 1.31709452e-04],\n",
      "       [-5.76732971e-05],\n",
      "       [ 1.93466439e-05],\n",
      "       [ 2.61639839e-05]])}}\n",
      "\n",
      "The performance metrics are:\n",
      "{'P_BFGS-RealAmplitudes': {1: {'fidelity': array([[0.99488686]]), 'function_calls': 4041}, 2: {'fidelity': array([[0.99999928]]), 'function_calls': 15028}, 3: {'fidelity': array([[0.99999928]]), 'function_calls': 16252}, 4: {'fidelity': array([[0.99999953]]), 'function_calls': 50001}, 5: {'fidelity': array([[0.99999994]]), 'function_calls': 47200}, 6: {'fidelity': array([[1.]]), 'function_calls': 9280}}, 'P_BFGS-TwoLocal': {1: {'fidelity': array([[0.99477262]]), 'function_calls': 7641}, 2: {'fidelity': array([[0.99999908]]), 'function_calls': 14274}, 3: {'fidelity': array([[0.99999936]]), 'function_calls': 44880}, 4: {'fidelity': array([[0.9999997]]), 'function_calls': 15624}, 5: {'fidelity': array([[1.]]), 'function_calls': 39225}, 6: {'fidelity': array([[1.]]), 'function_calls': 11107}}, 'P_BFGS-EfficientSU2': {1: {'fidelity': array([[0.94655016]]), 'function_calls': 1134}, 2: {'fidelity': array([[0.99779463]]), 'function_calls': 1196}, 3: {'fidelity': array([[0.99999944]]), 'function_calls': 25823}, 4: {'fidelity': array([[1.]]), 'function_calls': 13713}, 5: {'fidelity': array([[1.]]), 'function_calls': 29900}, 6: {'fidelity': array([[1.]]), 'function_calls': 9077}}}\n",
      "\n"
     ]
    }
   ],
   "source": [
    "# Print the results\n",
    "print('The best zeromodes are:')\n",
    "print(zeromodes_N_16)\n",
    "print()\n",
    "\n",
    "print('The performance metrics are:')\n",
    "print(metrics_N_16)\n",
    "print()"
   ]
  },
  {
   "cell_type": "markdown",
   "id": "cc73f3f4-5eb7-4a70-9fe8-3b4424bdce42",
   "metadata": {},
   "source": [
    "### Computing relative errors in <x^2>"
   ]
  },
  {
   "cell_type": "code",
   "execution_count": 30,
   "id": "2c1a1122-db05-46ab-816a-489930a2cc4c",
   "metadata": {},
   "outputs": [
    {
     "name": "stderr",
     "output_type": "stream",
     "text": [
      "C:\\Users\\Owner\\AppData\\Local\\Temp\\ipykernel_2564\\795971042.py:108: DeprecationWarning: Conversion of an array with ndim > 0 to a scalar is deprecated, and will error in future. Ensure you extract a single element from your array before performing this operation. (Deprecated NumPy 1.25.)\n",
      "  eigenvector[2*i] = eigenvector_old[i]\n"
     ]
    },
    {
     "name": "stdout",
     "output_type": "stream",
     "text": [
      "The errors for RealAmplitudes are:\n",
      "[0.10954897637113721, 0.0021880553592987452, 0.002599905505952389, 0.002675604318302532, 0.00024962496242818364, 2.2624137595374434e-05]\n",
      "\n",
      "The errors for TwoLocal are:\n",
      "[0.08860942813547215, 0.003006331171391604, 0.004528045888686157, 0.002887984779343588, 8.55893026406257e-05, 1.099962139495267e-05]\n",
      "\n",
      "The errors for EfficientSU2 are:\n",
      "[0.08085097810481134, 0.056198033626417905, 0.0005280706741107806, 6.598750025316014e-06, 3.794227361317616e-05, 1.0584783186409784e-05]\n",
      "\n"
     ]
    }
   ],
   "source": [
    "# Get the zeromodes\n",
    "zeromodes = [\n",
    "    zeromode\n",
    "    for depths in zeromodes_N_16.values()\n",
    "    for zeromode in depths.values()\n",
    "]\n",
    "\n",
    "# Initialize\n",
    "relative_errors = []\n",
    "\n",
    "# Compute \n",
    "for zeromode in zeromodes:\n",
    "    x, y = get_pdf(nmax, x, dx, L, shift = 0, zeromode_qpe = zeromode, normalize = True, make_even = True)\n",
    "    \n",
    "    # Ensure quantum_expectation is a scalar\n",
    "    quantum_expectation = compute_expectation_x_squared_simpson(x, y, 2)\n",
    "    if isinstance(quantum_expectation, np.ndarray):\n",
    "        quantum_expectation = quantum_expectation.item()  # Convert to scalar if necessary\n",
    "    \n",
    "    # Compute the relative error\n",
    "    relative_error = compute_errors(classical_expectation, quantum_expectation)\n",
    "    relative_errors.append(relative_error)\n",
    "\n",
    "# Get the relative errors for the individual optimizers\n",
    "errors_realamps = relative_errors[:6]\n",
    "errors_twolocal = relative_errors[6:12]\n",
    "errors_efficientsu2 = relative_errors[12:18]\n",
    "\n",
    "## Print the relative errors\n",
    "print('The errors for RealAmplitudes are:')\n",
    "print(errors_realamps)\n",
    "print()\n",
    "\n",
    "print('The errors for TwoLocal are:')\n",
    "print(errors_twolocal)\n",
    "print()\n",
    "\n",
    "print('The errors for EfficientSU2 are:')\n",
    "print(errors_efficientsu2)\n",
    "print()"
   ]
  },
  {
   "cell_type": "markdown",
   "id": "765cf58b-033f-4ffe-a349-b0bf92237879",
   "metadata": {},
   "source": [
    "### For the pure Gaussian (b = 0) case\n",
    "\n",
    "### For N = 2\n",
    "\n",
    "### Get the matrix and the zeromode"
   ]
  },
  {
   "cell_type": "code",
   "execution_count": 20,
   "id": "f49d3be7-c368-47b5-aad0-f3536a5493f4",
   "metadata": {},
   "outputs": [
    {
     "name": "stdout",
     "output_type": "stream",
     "text": [
      "The matrix is:\n",
      "[[  6.75       -25.45584412]\n",
      " [-25.45584412 102.75      ]]\n",
      "\n",
      "The zeromode is:\n",
      "[[-0.97042573]\n",
      " [-0.24139987]]\n",
      "\n",
      "The value of <x^2> is:\n",
      "0.40008586593679\n",
      "\n"
     ]
    },
    {
     "name": "stderr",
     "output_type": "stream",
     "text": [
      "C:\\Users\\Owner\\AppData\\Local\\Temp\\ipykernel_8728\\795971042.py:108: DeprecationWarning: Conversion of an array with ndim > 0 to a scalar is deprecated, and will error in future. Ensure you extract a single element from your array before performing this operation. (Deprecated NumPy 1.25.)\n",
      "  eigenvector[2*i] = eigenvector_old[i]\n"
     ]
    }
   ],
   "source": [
    "## Get the matrix and zeromode\n",
    "nmax = 3\n",
    "a = 1\n",
    "gamma = 1\n",
    "dx = 0.01\n",
    "c = 0\n",
    "L = 1/2\n",
    "x = np.linspace(-4, 4, int(8/dx))\n",
    "\n",
    "# Matrix and zeromode\n",
    "matrix, zeromode_classic = get_zeromode(nmax, a, c, L, gamma)\n",
    "\n",
    "## Print the matrix and zeromode\n",
    "print('The matrix is:')\n",
    "print(matrix)\n",
    "print()\n",
    "\n",
    "# Print the zeromode\n",
    "print('The zeromode is:')\n",
    "print(zeromode_classic)\n",
    "print()\n",
    "\n",
    "## Compute the classical <x^2> value\n",
    "x, y = get_pdf(nmax, x, dx, L, shift = 0, zeromode_qpe = zeromode_classic, normalize = True, make_even = True)\n",
    "classical_expectation = compute_expectation_x_squared_simpson(x, y, 2)\n",
    "\n",
    "# Print the classical expectation value\n",
    "print('The value of <x^2> is:')\n",
    "print(classical_expectation)\n",
    "print()"
   ]
  },
  {
   "cell_type": "markdown",
   "id": "73523725-fd16-42a4-b0c3-9233bdfa50ab",
   "metadata": {},
   "source": [
    "### Run VQE for multiple ansatz depths (fix at 5000 optimization iterations)"
   ]
  },
  {
   "cell_type": "code",
   "execution_count": 23,
   "id": "a2a16e59-2701-40bc-8cf6-9009b48e2b8e",
   "metadata": {},
   "outputs": [
    {
     "name": "stderr",
     "output_type": "stream",
     "text": [
      "For Windows, using only current process. Multiple core use not supported.\n",
      "For Windows, using only current process. Multiple core use not supported.\n"
     ]
    },
    {
     "name": "stdout",
     "output_type": "stream",
     "text": [
      "\n",
      "Running VQE for optimizer-ansatz pair: P_BFGS-RealAmplitudes\n"
     ]
    },
    {
     "name": "stderr",
     "output_type": "stream",
     "text": [
      "For Windows, using only current process. Multiple core use not supported.\n",
      "For Windows, using only current process. Multiple core use not supported.\n",
      "For Windows, using only current process. Multiple core use not supported.\n",
      "For Windows, using only current process. Multiple core use not supported.\n",
      "For Windows, using only current process. Multiple core use not supported.\n",
      "For Windows, using only current process. Multiple core use not supported.\n",
      "For Windows, using only current process. Multiple core use not supported.\n",
      "For Windows, using only current process. Multiple core use not supported.\n",
      "For Windows, using only current process. Multiple core use not supported.\n",
      "For Windows, using only current process. Multiple core use not supported.\n",
      "For Windows, using only current process. Multiple core use not supported.\n"
     ]
    },
    {
     "name": "stdout",
     "output_type": "stream",
     "text": [
      "P_BFGS-RealAmplitudes - Depth 1: Best fidelity = [[1.]], Function calls = 18,             Best zeromode: [[-0.97042573]\n",
      " [-0.24139987]]\n"
     ]
    },
    {
     "name": "stderr",
     "output_type": "stream",
     "text": [
      "For Windows, using only current process. Multiple core use not supported.\n",
      "For Windows, using only current process. Multiple core use not supported.\n",
      "For Windows, using only current process. Multiple core use not supported.\n",
      "For Windows, using only current process. Multiple core use not supported.\n",
      "For Windows, using only current process. Multiple core use not supported.\n",
      "For Windows, using only current process. Multiple core use not supported.\n",
      "For Windows, using only current process. Multiple core use not supported.\n",
      "For Windows, using only current process. Multiple core use not supported.\n"
     ]
    },
    {
     "name": "stdout",
     "output_type": "stream",
     "text": [
      "P_BFGS-RealAmplitudes - Depth 2: Best fidelity = [[1.]], Function calls = 28,             Best zeromode: [[0.97042573]\n",
      " [0.24139988]]\n"
     ]
    },
    {
     "name": "stderr",
     "output_type": "stream",
     "text": [
      "For Windows, using only current process. Multiple core use not supported.\n",
      "For Windows, using only current process. Multiple core use not supported.\n",
      "For Windows, using only current process. Multiple core use not supported.\n",
      "For Windows, using only current process. Multiple core use not supported.\n",
      "For Windows, using only current process. Multiple core use not supported.\n",
      "For Windows, using only current process. Multiple core use not supported.\n",
      "For Windows, using only current process. Multiple core use not supported.\n",
      "For Windows, using only current process. Multiple core use not supported.\n",
      "For Windows, using only current process. Multiple core use not supported.\n",
      "For Windows, using only current process. Multiple core use not supported.\n",
      "For Windows, using only current process. Multiple core use not supported.\n"
     ]
    },
    {
     "name": "stdout",
     "output_type": "stream",
     "text": [
      "P_BFGS-RealAmplitudes - Depth 3: Best fidelity = [[1.]], Function calls = 35,             Best zeromode: [[0.97042573]\n",
      " [0.24139987]]\n"
     ]
    },
    {
     "name": "stderr",
     "output_type": "stream",
     "text": [
      "For Windows, using only current process. Multiple core use not supported.\n",
      "For Windows, using only current process. Multiple core use not supported.\n",
      "For Windows, using only current process. Multiple core use not supported.\n",
      "For Windows, using only current process. Multiple core use not supported.\n",
      "For Windows, using only current process. Multiple core use not supported.\n",
      "For Windows, using only current process. Multiple core use not supported.\n",
      "For Windows, using only current process. Multiple core use not supported.\n",
      "For Windows, using only current process. Multiple core use not supported.\n",
      "For Windows, using only current process. Multiple core use not supported.\n",
      "For Windows, using only current process. Multiple core use not supported.\n"
     ]
    },
    {
     "name": "stdout",
     "output_type": "stream",
     "text": [
      "P_BFGS-RealAmplitudes - Depth 4: Best fidelity = [[1.]], Function calls = 54,             Best zeromode: [[0.97042573]\n",
      " [0.24139986]]\n"
     ]
    },
    {
     "name": "stderr",
     "output_type": "stream",
     "text": [
      "For Windows, using only current process. Multiple core use not supported.\n",
      "For Windows, using only current process. Multiple core use not supported.\n",
      "For Windows, using only current process. Multiple core use not supported.\n",
      "For Windows, using only current process. Multiple core use not supported.\n",
      "For Windows, using only current process. Multiple core use not supported.\n",
      "For Windows, using only current process. Multiple core use not supported.\n",
      "For Windows, using only current process. Multiple core use not supported.\n",
      "For Windows, using only current process. Multiple core use not supported.\n",
      "For Windows, using only current process. Multiple core use not supported.\n"
     ]
    },
    {
     "name": "stdout",
     "output_type": "stream",
     "text": [
      "P_BFGS-RealAmplitudes - Depth 5: Best fidelity = [[1.]], Function calls = 49,             Best zeromode: [[0.97042573]\n",
      " [0.24139986]]\n"
     ]
    },
    {
     "name": "stderr",
     "output_type": "stream",
     "text": [
      "For Windows, using only current process. Multiple core use not supported.\n",
      "For Windows, using only current process. Multiple core use not supported.\n",
      "For Windows, using only current process. Multiple core use not supported.\n",
      "For Windows, using only current process. Multiple core use not supported.\n",
      "For Windows, using only current process. Multiple core use not supported.\n",
      "For Windows, using only current process. Multiple core use not supported.\n",
      "For Windows, using only current process. Multiple core use not supported.\n",
      "For Windows, using only current process. Multiple core use not supported.\n",
      "For Windows, using only current process. Multiple core use not supported.\n",
      "For Windows, using only current process. Multiple core use not supported.\n",
      "For Windows, using only current process. Multiple core use not supported.\n",
      "For Windows, using only current process. Multiple core use not supported.\n"
     ]
    },
    {
     "name": "stdout",
     "output_type": "stream",
     "text": [
      "P_BFGS-RealAmplitudes - Depth 6: Best fidelity = [[1.]], Function calls = 72,             Best zeromode: [[0.97042573]\n",
      " [0.24139987]]\n",
      "\n",
      "Running VQE for optimizer-ansatz pair: P_BFGS-TwoLocal\n"
     ]
    },
    {
     "name": "stderr",
     "output_type": "stream",
     "text": [
      "For Windows, using only current process. Multiple core use not supported.\n",
      "For Windows, using only current process. Multiple core use not supported.\n",
      "For Windows, using only current process. Multiple core use not supported.\n",
      "For Windows, using only current process. Multiple core use not supported.\n",
      "For Windows, using only current process. Multiple core use not supported.\n",
      "For Windows, using only current process. Multiple core use not supported.\n",
      "For Windows, using only current process. Multiple core use not supported.\n",
      "For Windows, using only current process. Multiple core use not supported.\n",
      "For Windows, using only current process. Multiple core use not supported.\n"
     ]
    },
    {
     "name": "stdout",
     "output_type": "stream",
     "text": [
      "P_BFGS-TwoLocal - Depth 1: Best fidelity = [[1.]], Function calls = 27,             Best zeromode: [[0.97042573]\n",
      " [0.24139986]]\n"
     ]
    },
    {
     "name": "stderr",
     "output_type": "stream",
     "text": [
      "For Windows, using only current process. Multiple core use not supported.\n",
      "For Windows, using only current process. Multiple core use not supported.\n",
      "For Windows, using only current process. Multiple core use not supported.\n",
      "For Windows, using only current process. Multiple core use not supported.\n",
      "For Windows, using only current process. Multiple core use not supported.\n",
      "For Windows, using only current process. Multiple core use not supported.\n",
      "For Windows, using only current process. Multiple core use not supported.\n",
      "For Windows, using only current process. Multiple core use not supported.\n",
      "For Windows, using only current process. Multiple core use not supported.\n",
      "For Windows, using only current process. Multiple core use not supported.\n"
     ]
    },
    {
     "name": "stdout",
     "output_type": "stream",
     "text": [
      "P_BFGS-TwoLocal - Depth 2: Best fidelity = [[1.]], Function calls = 20,             Best zeromode: [[0.97042573]\n",
      " [0.24139986]]\n"
     ]
    },
    {
     "name": "stderr",
     "output_type": "stream",
     "text": [
      "For Windows, using only current process. Multiple core use not supported.\n",
      "For Windows, using only current process. Multiple core use not supported.\n",
      "For Windows, using only current process. Multiple core use not supported.\n",
      "For Windows, using only current process. Multiple core use not supported.\n",
      "For Windows, using only current process. Multiple core use not supported.\n",
      "For Windows, using only current process. Multiple core use not supported.\n",
      "For Windows, using only current process. Multiple core use not supported.\n",
      "For Windows, using only current process. Multiple core use not supported.\n",
      "For Windows, using only current process. Multiple core use not supported.\n",
      "For Windows, using only current process. Multiple core use not supported.\n"
     ]
    },
    {
     "name": "stdout",
     "output_type": "stream",
     "text": [
      "P_BFGS-TwoLocal - Depth 3: Best fidelity = [[1.]], Function calls = 25,             Best zeromode: [[0.97042573]\n",
      " [0.24139987]]\n"
     ]
    },
    {
     "name": "stderr",
     "output_type": "stream",
     "text": [
      "For Windows, using only current process. Multiple core use not supported.\n",
      "For Windows, using only current process. Multiple core use not supported.\n",
      "For Windows, using only current process. Multiple core use not supported.\n",
      "For Windows, using only current process. Multiple core use not supported.\n",
      "For Windows, using only current process. Multiple core use not supported.\n",
      "For Windows, using only current process. Multiple core use not supported.\n",
      "For Windows, using only current process. Multiple core use not supported.\n",
      "For Windows, using only current process. Multiple core use not supported.\n",
      "For Windows, using only current process. Multiple core use not supported.\n",
      "For Windows, using only current process. Multiple core use not supported.\n"
     ]
    },
    {
     "name": "stdout",
     "output_type": "stream",
     "text": [
      "P_BFGS-TwoLocal - Depth 4: Best fidelity = [[1.]], Function calls = 36,             Best zeromode: [[-0.97042574]\n",
      " [-0.24139986]]\n"
     ]
    },
    {
     "name": "stderr",
     "output_type": "stream",
     "text": [
      "For Windows, using only current process. Multiple core use not supported.\n",
      "For Windows, using only current process. Multiple core use not supported.\n",
      "For Windows, using only current process. Multiple core use not supported.\n",
      "For Windows, using only current process. Multiple core use not supported.\n",
      "For Windows, using only current process. Multiple core use not supported.\n",
      "For Windows, using only current process. Multiple core use not supported.\n",
      "For Windows, using only current process. Multiple core use not supported.\n",
      "For Windows, using only current process. Multiple core use not supported.\n",
      "For Windows, using only current process. Multiple core use not supported.\n"
     ]
    },
    {
     "name": "stdout",
     "output_type": "stream",
     "text": [
      "P_BFGS-TwoLocal - Depth 5: Best fidelity = [[1.]], Function calls = 42,             Best zeromode: [[-0.97042573]\n",
      " [-0.24139987]]\n"
     ]
    },
    {
     "name": "stderr",
     "output_type": "stream",
     "text": [
      "For Windows, using only current process. Multiple core use not supported.\n",
      "For Windows, using only current process. Multiple core use not supported.\n",
      "For Windows, using only current process. Multiple core use not supported.\n",
      "For Windows, using only current process. Multiple core use not supported.\n",
      "For Windows, using only current process. Multiple core use not supported.\n",
      "For Windows, using only current process. Multiple core use not supported.\n",
      "For Windows, using only current process. Multiple core use not supported.\n",
      "For Windows, using only current process. Multiple core use not supported.\n",
      "For Windows, using only current process. Multiple core use not supported.\n",
      "For Windows, using only current process. Multiple core use not supported.\n",
      "For Windows, using only current process. Multiple core use not supported.\n",
      "For Windows, using only current process. Multiple core use not supported.\n"
     ]
    },
    {
     "name": "stdout",
     "output_type": "stream",
     "text": [
      "P_BFGS-TwoLocal - Depth 6: Best fidelity = [[1.]], Function calls = 48,             Best zeromode: [[-0.97042573]\n",
      " [-0.24139986]]\n",
      "\n",
      "Running VQE for optimizer-ansatz pair: P_BFGS-EfficientSU2\n"
     ]
    },
    {
     "name": "stderr",
     "output_type": "stream",
     "text": [
      "For Windows, using only current process. Multiple core use not supported.\n",
      "For Windows, using only current process. Multiple core use not supported.\n",
      "For Windows, using only current process. Multiple core use not supported.\n",
      "For Windows, using only current process. Multiple core use not supported.\n",
      "For Windows, using only current process. Multiple core use not supported.\n",
      "For Windows, using only current process. Multiple core use not supported.\n",
      "For Windows, using only current process. Multiple core use not supported.\n",
      "For Windows, using only current process. Multiple core use not supported.\n",
      "For Windows, using only current process. Multiple core use not supported.\n",
      "For Windows, using only current process. Multiple core use not supported.\n"
     ]
    },
    {
     "name": "stdout",
     "output_type": "stream",
     "text": [
      "P_BFGS-EfficientSU2 - Depth 1: Best fidelity = [[1.]], Function calls = 18,             Best zeromode: [[-0.97042573]\n",
      " [-0.24139987]]\n"
     ]
    },
    {
     "name": "stderr",
     "output_type": "stream",
     "text": [
      "For Windows, using only current process. Multiple core use not supported.\n",
      "For Windows, using only current process. Multiple core use not supported.\n",
      "For Windows, using only current process. Multiple core use not supported.\n",
      "For Windows, using only current process. Multiple core use not supported.\n",
      "For Windows, using only current process. Multiple core use not supported.\n",
      "For Windows, using only current process. Multiple core use not supported.\n",
      "For Windows, using only current process. Multiple core use not supported.\n",
      "For Windows, using only current process. Multiple core use not supported.\n",
      "For Windows, using only current process. Multiple core use not supported.\n"
     ]
    },
    {
     "name": "stdout",
     "output_type": "stream",
     "text": [
      "P_BFGS-EfficientSU2 - Depth 2: Best fidelity = [[1.]], Function calls = 28,             Best zeromode: [[0.97042573]\n",
      " [0.24139988]]\n"
     ]
    },
    {
     "name": "stderr",
     "output_type": "stream",
     "text": [
      "For Windows, using only current process. Multiple core use not supported.\n",
      "For Windows, using only current process. Multiple core use not supported.\n",
      "For Windows, using only current process. Multiple core use not supported.\n",
      "For Windows, using only current process. Multiple core use not supported.\n",
      "For Windows, using only current process. Multiple core use not supported.\n",
      "For Windows, using only current process. Multiple core use not supported.\n",
      "For Windows, using only current process. Multiple core use not supported.\n",
      "For Windows, using only current process. Multiple core use not supported.\n",
      "For Windows, using only current process. Multiple core use not supported.\n",
      "For Windows, using only current process. Multiple core use not supported.\n"
     ]
    },
    {
     "name": "stdout",
     "output_type": "stream",
     "text": [
      "P_BFGS-EfficientSU2 - Depth 3: Best fidelity = [[1.]], Function calls = 35,             Best zeromode: [[0.97042573]\n",
      " [0.24139987]]\n"
     ]
    },
    {
     "name": "stderr",
     "output_type": "stream",
     "text": [
      "For Windows, using only current process. Multiple core use not supported.\n",
      "For Windows, using only current process. Multiple core use not supported.\n",
      "For Windows, using only current process. Multiple core use not supported.\n",
      "For Windows, using only current process. Multiple core use not supported.\n",
      "For Windows, using only current process. Multiple core use not supported.\n",
      "For Windows, using only current process. Multiple core use not supported.\n",
      "For Windows, using only current process. Multiple core use not supported.\n",
      "For Windows, using only current process. Multiple core use not supported.\n",
      "For Windows, using only current process. Multiple core use not supported.\n",
      "For Windows, using only current process. Multiple core use not supported.\n"
     ]
    },
    {
     "name": "stdout",
     "output_type": "stream",
     "text": [
      "P_BFGS-EfficientSU2 - Depth 4: Best fidelity = [[1.]], Function calls = 54,             Best zeromode: [[0.97042573]\n",
      " [0.24139986]]\n"
     ]
    },
    {
     "name": "stderr",
     "output_type": "stream",
     "text": [
      "For Windows, using only current process. Multiple core use not supported.\n",
      "For Windows, using only current process. Multiple core use not supported.\n",
      "For Windows, using only current process. Multiple core use not supported.\n",
      "For Windows, using only current process. Multiple core use not supported.\n",
      "For Windows, using only current process. Multiple core use not supported.\n",
      "For Windows, using only current process. Multiple core use not supported.\n",
      "For Windows, using only current process. Multiple core use not supported.\n",
      "For Windows, using only current process. Multiple core use not supported.\n",
      "For Windows, using only current process. Multiple core use not supported.\n",
      "For Windows, using only current process. Multiple core use not supported.\n"
     ]
    },
    {
     "name": "stdout",
     "output_type": "stream",
     "text": [
      "P_BFGS-EfficientSU2 - Depth 5: Best fidelity = [[1.]], Function calls = 49,             Best zeromode: [[0.97042573]\n",
      " [0.24139986]]\n"
     ]
    },
    {
     "name": "stderr",
     "output_type": "stream",
     "text": [
      "For Windows, using only current process. Multiple core use not supported.\n",
      "For Windows, using only current process. Multiple core use not supported.\n",
      "For Windows, using only current process. Multiple core use not supported.\n",
      "For Windows, using only current process. Multiple core use not supported.\n",
      "For Windows, using only current process. Multiple core use not supported.\n",
      "For Windows, using only current process. Multiple core use not supported.\n",
      "For Windows, using only current process. Multiple core use not supported.\n",
      "For Windows, using only current process. Multiple core use not supported.\n"
     ]
    },
    {
     "name": "stdout",
     "output_type": "stream",
     "text": [
      "P_BFGS-EfficientSU2 - Depth 6: Best fidelity = [[1.]], Function calls = 72,             Best zeromode: [[0.97042573]\n",
      " [0.24139987]]\n"
     ]
    }
   ],
   "source": [
    "## Get the optimizers\n",
    "maxiter = 5000\n",
    "optimizer = P_BFGS(maxfun = maxiter)\n",
    "\n",
    "# Define parameters\n",
    "dimension = matrix.shape[0]\n",
    "num_qubits = int(np.log2(dimension))\n",
    "max_depth = 6\n",
    "\n",
    "# Compute \n",
    "zeromodes_N_2, metrics_N_2 = analyze_ansatz_performance(matrix, zeromode_classic, optimizer, num_qubits, max_depth)"
   ]
  },
  {
   "cell_type": "markdown",
   "id": "c887ca0a-7985-4117-971b-b01c1042118b",
   "metadata": {},
   "source": [
    "### Print the results"
   ]
  },
  {
   "cell_type": "code",
   "execution_count": 26,
   "id": "135ee788-5539-44ce-93c7-53c9d0fa2775",
   "metadata": {},
   "outputs": [
    {
     "name": "stdout",
     "output_type": "stream",
     "text": [
      "The best zeromodes are:\n",
      "{'P_BFGS-RealAmplitudes': {1: array([[-0.97042573],\n",
      "       [-0.24139987]]), 2: array([[0.97042573],\n",
      "       [0.24139988]]), 3: array([[0.97042573],\n",
      "       [0.24139987]]), 4: array([[0.97042573],\n",
      "       [0.24139986]]), 5: array([[0.97042573],\n",
      "       [0.24139986]]), 6: array([[0.97042573],\n",
      "       [0.24139987]])}, 'P_BFGS-TwoLocal': {1: array([[0.97042573],\n",
      "       [0.24139986]]), 2: array([[0.97042573],\n",
      "       [0.24139986]]), 3: array([[0.97042573],\n",
      "       [0.24139987]]), 4: array([[-0.97042574],\n",
      "       [-0.24139986]]), 5: array([[-0.97042573],\n",
      "       [-0.24139987]]), 6: array([[-0.97042573],\n",
      "       [-0.24139986]])}, 'P_BFGS-EfficientSU2': {1: array([[-0.97042573],\n",
      "       [-0.24139987]]), 2: array([[0.97042573],\n",
      "       [0.24139988]]), 3: array([[0.97042573],\n",
      "       [0.24139987]]), 4: array([[0.97042573],\n",
      "       [0.24139986]]), 5: array([[0.97042573],\n",
      "       [0.24139986]]), 6: array([[0.97042573],\n",
      "       [0.24139987]])}}\n",
      "\n",
      "The performance metrics are:\n",
      "{'P_BFGS-RealAmplitudes': {1: {'fidelity': array([[1.]]), 'function_calls': 18}, 2: {'fidelity': array([[1.]]), 'function_calls': 28}, 3: {'fidelity': array([[1.]]), 'function_calls': 35}, 4: {'fidelity': array([[1.]]), 'function_calls': 54}, 5: {'fidelity': array([[1.]]), 'function_calls': 49}, 6: {'fidelity': array([[1.]]), 'function_calls': 72}}, 'P_BFGS-TwoLocal': {1: {'fidelity': array([[1.]]), 'function_calls': 27}, 2: {'fidelity': array([[1.]]), 'function_calls': 20}, 3: {'fidelity': array([[1.]]), 'function_calls': 25}, 4: {'fidelity': array([[1.]]), 'function_calls': 36}, 5: {'fidelity': array([[1.]]), 'function_calls': 42}, 6: {'fidelity': array([[1.]]), 'function_calls': 48}}, 'P_BFGS-EfficientSU2': {1: {'fidelity': array([[1.]]), 'function_calls': 18}, 2: {'fidelity': array([[1.]]), 'function_calls': 28}, 3: {'fidelity': array([[1.]]), 'function_calls': 35}, 4: {'fidelity': array([[1.]]), 'function_calls': 54}, 5: {'fidelity': array([[1.]]), 'function_calls': 49}, 6: {'fidelity': array([[1.]]), 'function_calls': 72}}}\n",
      "\n"
     ]
    }
   ],
   "source": [
    "# Print the results\n",
    "print('The best zeromodes are:')\n",
    "print(zeromodes_N_2)\n",
    "print()\n",
    "\n",
    "print('The performance metrics are:')\n",
    "print(metrics_N_2)\n",
    "print()"
   ]
  },
  {
   "cell_type": "markdown",
   "id": "24d36692-bd10-43fe-9e95-5652dc80eb6f",
   "metadata": {},
   "source": [
    "### Computing relative errors in <x^2>"
   ]
  },
  {
   "cell_type": "code",
   "execution_count": 29,
   "id": "30256fee-5b45-47b7-9f41-95163e3bd613",
   "metadata": {},
   "outputs": [
    {
     "name": "stderr",
     "output_type": "stream",
     "text": [
      "C:\\Users\\Owner\\AppData\\Local\\Temp\\ipykernel_8728\\795971042.py:108: DeprecationWarning: Conversion of an array with ndim > 0 to a scalar is deprecated, and will error in future. Ensure you extract a single element from your array before performing this operation. (Deprecated NumPy 1.25.)\n",
      "  eigenvector[2*i] = eigenvector_old[i]\n"
     ]
    },
    {
     "name": "stdout",
     "output_type": "stream",
     "text": [
      "The errors for RealAmplitudes are:\n",
      "[3.6610356447967732e-09, 1.2055055698140791e-08, 4.158149946195491e-10, 6.934023673478102e-09, 3.0221256477785176e-09, 2.215123583926457e-09]\n",
      "\n",
      "The errors for TwoLocal are:\n",
      "[4.0738645029428386e-09, 6.00398604376116e-09, 8.20964839517545e-10, 1.2230960392636939e-08, 2.543102571574534e-09, 3.1474876029311467e-09]\n",
      "\n",
      "The errors for EfficientSU2 are:\n",
      "[3.6610356447967732e-09, 1.2055055698140791e-08, 4.158149946195491e-10, 6.934023673478102e-09, 3.0221256477785176e-09, 2.215123583926457e-09]\n",
      "\n"
     ]
    }
   ],
   "source": [
    "# Get the zeromodes\n",
    "zeromodes = [\n",
    "    zeromode\n",
    "    for depths in zeromodes_N_2.values()\n",
    "    for zeromode in depths.values()\n",
    "]\n",
    "\n",
    "# Initialize\n",
    "relative_errors = []\n",
    "\n",
    "# Compute \n",
    "for zeromode in zeromodes:\n",
    "    x, y = get_pdf(nmax, x, dx, L, shift = 0, zeromode_qpe = zeromode, normalize = True, make_even = True)\n",
    "    \n",
    "    # Ensure quantum_expectation is a scalar\n",
    "    quantum_expectation = compute_expectation_x_squared_simpson(x, y, 2)\n",
    "    if isinstance(quantum_expectation, np.ndarray):\n",
    "        quantum_expectation = quantum_expectation.item()  # Convert to scalar if necessary\n",
    "    \n",
    "    # Compute the relative error\n",
    "    relative_error = compute_errors(classical_expectation, quantum_expectation)\n",
    "    relative_errors.append(relative_error)\n",
    "\n",
    "# Get the relative errors for the individual optimizers\n",
    "errors_realamps = relative_errors[:6]\n",
    "errors_twolocal = relative_errors[6:12]\n",
    "errors_efficientsu2 = relative_errors[12:18]\n",
    "\n",
    "## Print the relative errors\n",
    "print('The errors for RealAmplitudes are:')\n",
    "print(errors_realamps)\n",
    "print()\n",
    "\n",
    "print('The errors for TwoLocal are:')\n",
    "print(errors_twolocal)\n",
    "print()\n",
    "\n",
    "print('The errors for EfficientSU2 are:')\n",
    "print(errors_efficientsu2)\n",
    "print()"
   ]
  },
  {
   "cell_type": "markdown",
   "id": "d29a8851-9274-4e08-a159-1941a10064e6",
   "metadata": {},
   "source": [
    "### For N = 4\n",
    "\n",
    "### Get the matrix and the zeromode"
   ]
  },
  {
   "cell_type": "code",
   "execution_count": 32,
   "id": "3b01c497-da2b-4541-983b-b8cb5867a738",
   "metadata": {},
   "outputs": [
    {
     "name": "stdout",
     "output_type": "stream",
     "text": [
      "The matrix is:\n",
      "[[   6.75        -25.45584412   18.37117307    0.        ]\n",
      " [ -25.45584412  129.75       -173.20508076   71.15124735]\n",
      " [  18.37117307 -173.20508076  448.75       -449.13249715]\n",
      " [   0.           71.15124735 -449.13249715  837.75      ]]\n",
      "\n",
      "The zeromode is:\n",
      "[[-0.92504521]\n",
      " [-0.34807967]\n",
      " [-0.14437197]\n",
      " [-0.04783967]]\n",
      "\n",
      "The value of <x^2> is:\n",
      "0.6419765393615697\n",
      "\n"
     ]
    },
    {
     "name": "stderr",
     "output_type": "stream",
     "text": [
      "C:\\Users\\Owner\\AppData\\Local\\Temp\\ipykernel_8728\\795971042.py:108: DeprecationWarning: Conversion of an array with ndim > 0 to a scalar is deprecated, and will error in future. Ensure you extract a single element from your array before performing this operation. (Deprecated NumPy 1.25.)\n",
      "  eigenvector[2*i] = eigenvector_old[i]\n"
     ]
    }
   ],
   "source": [
    "## Get the matrix and zeromode\n",
    "nmax = 7\n",
    "a = 1\n",
    "gamma = 1\n",
    "dx = 0.01\n",
    "c = 0\n",
    "L = 1/2\n",
    "x = np.linspace(-4, 4, int(8/dx))\n",
    "\n",
    "# Matrix and zeromode\n",
    "matrix, zeromode_classic = get_zeromode(nmax, a, c, L, gamma)\n",
    "\n",
    "## Print the matrix and zeromode\n",
    "print('The matrix is:')\n",
    "print(matrix)\n",
    "print()\n",
    "\n",
    "# Print the zeromode\n",
    "print('The zeromode is:')\n",
    "print(zeromode_classic)\n",
    "print()\n",
    "\n",
    "## Compute the classical <x^2> value\n",
    "x, y = get_pdf(nmax, x, dx, L, shift = 0, zeromode_qpe = zeromode_classic, normalize = True, make_even = True)\n",
    "classical_expectation = compute_expectation_x_squared_simpson(x, y, 2)\n",
    "\n",
    "# Print the classical expectation value\n",
    "print('The value of <x^2> is:')\n",
    "print(classical_expectation)\n",
    "print()"
   ]
  },
  {
   "cell_type": "markdown",
   "id": "f87b2469-a2dd-4939-b393-3542285242cb",
   "metadata": {},
   "source": [
    "### Run VQE for multiple ansatz depths (fix at 5000 optimization iterations)"
   ]
  },
  {
   "cell_type": "code",
   "execution_count": 35,
   "id": "7f49c2ce-a0cc-4a14-b30d-4ef4a534ab84",
   "metadata": {},
   "outputs": [
    {
     "name": "stderr",
     "output_type": "stream",
     "text": [
      "For Windows, using only current process. Multiple core use not supported.\n"
     ]
    },
    {
     "name": "stdout",
     "output_type": "stream",
     "text": [
      "\n",
      "Running VQE for optimizer-ansatz pair: P_BFGS-RealAmplitudes\n"
     ]
    },
    {
     "name": "stderr",
     "output_type": "stream",
     "text": [
      "For Windows, using only current process. Multiple core use not supported.\n",
      "For Windows, using only current process. Multiple core use not supported.\n",
      "For Windows, using only current process. Multiple core use not supported.\n",
      "For Windows, using only current process. Multiple core use not supported.\n",
      "For Windows, using only current process. Multiple core use not supported.\n",
      "For Windows, using only current process. Multiple core use not supported.\n",
      "For Windows, using only current process. Multiple core use not supported.\n",
      "For Windows, using only current process. Multiple core use not supported.\n",
      "For Windows, using only current process. Multiple core use not supported.\n",
      "For Windows, using only current process. Multiple core use not supported.\n"
     ]
    },
    {
     "name": "stdout",
     "output_type": "stream",
     "text": [
      "P_BFGS-RealAmplitudes - Depth 1: Best fidelity = [[1.]], Function calls = 165,             Best zeromode: [[0.92504521]\n",
      " [0.34807967]\n",
      " [0.14437198]\n",
      " [0.04783968]]\n"
     ]
    },
    {
     "name": "stderr",
     "output_type": "stream",
     "text": [
      "For Windows, using only current process. Multiple core use not supported.\n",
      "For Windows, using only current process. Multiple core use not supported.\n",
      "For Windows, using only current process. Multiple core use not supported.\n",
      "For Windows, using only current process. Multiple core use not supported.\n",
      "For Windows, using only current process. Multiple core use not supported.\n",
      "For Windows, using only current process. Multiple core use not supported.\n",
      "For Windows, using only current process. Multiple core use not supported.\n",
      "For Windows, using only current process. Multiple core use not supported.\n",
      "For Windows, using only current process. Multiple core use not supported.\n",
      "For Windows, using only current process. Multiple core use not supported.\n"
     ]
    },
    {
     "name": "stdout",
     "output_type": "stream",
     "text": [
      "P_BFGS-RealAmplitudes - Depth 2: Best fidelity = [[1.]], Function calls = 434,             Best zeromode: [[-0.92504522]\n",
      " [-0.34807966]\n",
      " [-0.14437195]\n",
      " [-0.04783967]]\n"
     ]
    },
    {
     "name": "stderr",
     "output_type": "stream",
     "text": [
      "For Windows, using only current process. Multiple core use not supported.\n",
      "For Windows, using only current process. Multiple core use not supported.\n",
      "For Windows, using only current process. Multiple core use not supported.\n",
      "For Windows, using only current process. Multiple core use not supported.\n",
      "For Windows, using only current process. Multiple core use not supported.\n",
      "For Windows, using only current process. Multiple core use not supported.\n",
      "For Windows, using only current process. Multiple core use not supported.\n",
      "For Windows, using only current process. Multiple core use not supported.\n",
      "For Windows, using only current process. Multiple core use not supported.\n",
      "For Windows, using only current process. Multiple core use not supported.\n"
     ]
    },
    {
     "name": "stdout",
     "output_type": "stream",
     "text": [
      "P_BFGS-RealAmplitudes - Depth 3: Best fidelity = [[1.]], Function calls = 306,             Best zeromode: [[-0.92504521]\n",
      " [-0.34807966]\n",
      " [-0.14437198]\n",
      " [-0.04783967]]\n"
     ]
    },
    {
     "name": "stderr",
     "output_type": "stream",
     "text": [
      "For Windows, using only current process. Multiple core use not supported.\n",
      "For Windows, using only current process. Multiple core use not supported.\n",
      "For Windows, using only current process. Multiple core use not supported.\n",
      "For Windows, using only current process. Multiple core use not supported.\n",
      "For Windows, using only current process. Multiple core use not supported.\n",
      "For Windows, using only current process. Multiple core use not supported.\n",
      "For Windows, using only current process. Multiple core use not supported.\n",
      "For Windows, using only current process. Multiple core use not supported.\n",
      "For Windows, using only current process. Multiple core use not supported.\n",
      "For Windows, using only current process. Multiple core use not supported.\n"
     ]
    },
    {
     "name": "stdout",
     "output_type": "stream",
     "text": [
      "P_BFGS-RealAmplitudes - Depth 4: Best fidelity = [[1.]], Function calls = 858,             Best zeromode: [[0.9250452 ]\n",
      " [0.34807968]\n",
      " [0.14437198]\n",
      " [0.04783969]]\n"
     ]
    },
    {
     "name": "stderr",
     "output_type": "stream",
     "text": [
      "For Windows, using only current process. Multiple core use not supported.\n",
      "For Windows, using only current process. Multiple core use not supported.\n",
      "For Windows, using only current process. Multiple core use not supported.\n",
      "For Windows, using only current process. Multiple core use not supported.\n",
      "For Windows, using only current process. Multiple core use not supported.\n",
      "For Windows, using only current process. Multiple core use not supported.\n",
      "For Windows, using only current process. Multiple core use not supported.\n",
      "For Windows, using only current process. Multiple core use not supported.\n",
      "For Windows, using only current process. Multiple core use not supported.\n",
      "For Windows, using only current process. Multiple core use not supported.\n"
     ]
    },
    {
     "name": "stdout",
     "output_type": "stream",
     "text": [
      "P_BFGS-RealAmplitudes - Depth 5: Best fidelity = [[1.]], Function calls = 845,             Best zeromode: [[0.92504521]\n",
      " [0.34807968]\n",
      " [0.14437198]\n",
      " [0.04783968]]\n"
     ]
    },
    {
     "name": "stderr",
     "output_type": "stream",
     "text": [
      "For Windows, using only current process. Multiple core use not supported.\n",
      "For Windows, using only current process. Multiple core use not supported.\n",
      "For Windows, using only current process. Multiple core use not supported.\n",
      "For Windows, using only current process. Multiple core use not supported.\n",
      "For Windows, using only current process. Multiple core use not supported.\n",
      "For Windows, using only current process. Multiple core use not supported.\n",
      "For Windows, using only current process. Multiple core use not supported.\n",
      "For Windows, using only current process. Multiple core use not supported.\n",
      "For Windows, using only current process. Multiple core use not supported.\n",
      "For Windows, using only current process. Multiple core use not supported.\n"
     ]
    },
    {
     "name": "stdout",
     "output_type": "stream",
     "text": [
      "P_BFGS-RealAmplitudes - Depth 6: Best fidelity = [[1.]], Function calls = 1785,             Best zeromode: [[0.92504522]\n",
      " [0.34807965]\n",
      " [0.14437196]\n",
      " [0.04783967]]\n",
      "\n",
      "Running VQE for optimizer-ansatz pair: P_BFGS-TwoLocal\n"
     ]
    },
    {
     "name": "stderr",
     "output_type": "stream",
     "text": [
      "For Windows, using only current process. Multiple core use not supported.\n",
      "For Windows, using only current process. Multiple core use not supported.\n",
      "For Windows, using only current process. Multiple core use not supported.\n",
      "For Windows, using only current process. Multiple core use not supported.\n",
      "For Windows, using only current process. Multiple core use not supported.\n",
      "For Windows, using only current process. Multiple core use not supported.\n",
      "For Windows, using only current process. Multiple core use not supported.\n",
      "For Windows, using only current process. Multiple core use not supported.\n",
      "For Windows, using only current process. Multiple core use not supported.\n",
      "For Windows, using only current process. Multiple core use not supported.\n"
     ]
    },
    {
     "name": "stdout",
     "output_type": "stream",
     "text": [
      "P_BFGS-TwoLocal - Depth 1: Best fidelity = [[1.]], Function calls = 160,             Best zeromode: [[-0.9250452 ]\n",
      " [-0.34807969]\n",
      " [-0.14437196]\n",
      " [-0.04783966]]\n"
     ]
    },
    {
     "name": "stderr",
     "output_type": "stream",
     "text": [
      "For Windows, using only current process. Multiple core use not supported.\n",
      "For Windows, using only current process. Multiple core use not supported.\n",
      "For Windows, using only current process. Multiple core use not supported.\n",
      "For Windows, using only current process. Multiple core use not supported.\n",
      "For Windows, using only current process. Multiple core use not supported.\n",
      "For Windows, using only current process. Multiple core use not supported.\n",
      "For Windows, using only current process. Multiple core use not supported.\n",
      "For Windows, using only current process. Multiple core use not supported.\n",
      "For Windows, using only current process. Multiple core use not supported.\n",
      "For Windows, using only current process. Multiple core use not supported.\n"
     ]
    },
    {
     "name": "stdout",
     "output_type": "stream",
     "text": [
      "P_BFGS-TwoLocal - Depth 2: Best fidelity = [[1.]], Function calls = 378,             Best zeromode: [[-0.92504522]\n",
      " [-0.34807966]\n",
      " [-0.14437196]\n",
      " [-0.04783966]]\n"
     ]
    },
    {
     "name": "stderr",
     "output_type": "stream",
     "text": [
      "For Windows, using only current process. Multiple core use not supported.\n",
      "For Windows, using only current process. Multiple core use not supported.\n",
      "For Windows, using only current process. Multiple core use not supported.\n",
      "For Windows, using only current process. Multiple core use not supported.\n",
      "For Windows, using only current process. Multiple core use not supported.\n",
      "For Windows, using only current process. Multiple core use not supported.\n",
      "For Windows, using only current process. Multiple core use not supported.\n",
      "For Windows, using only current process. Multiple core use not supported.\n",
      "For Windows, using only current process. Multiple core use not supported.\n",
      "For Windows, using only current process. Multiple core use not supported.\n"
     ]
    },
    {
     "name": "stdout",
     "output_type": "stream",
     "text": [
      "P_BFGS-TwoLocal - Depth 3: Best fidelity = [[1.]], Function calls = 612,             Best zeromode: [[-0.92504521]\n",
      " [-0.34807968]\n",
      " [-0.14437198]\n",
      " [-0.04783968]]\n"
     ]
    },
    {
     "name": "stderr",
     "output_type": "stream",
     "text": [
      "For Windows, using only current process. Multiple core use not supported.\n",
      "For Windows, using only current process. Multiple core use not supported.\n",
      "For Windows, using only current process. Multiple core use not supported.\n",
      "For Windows, using only current process. Multiple core use not supported.\n",
      "For Windows, using only current process. Multiple core use not supported.\n",
      "For Windows, using only current process. Multiple core use not supported.\n",
      "For Windows, using only current process. Multiple core use not supported.\n",
      "For Windows, using only current process. Multiple core use not supported.\n",
      "For Windows, using only current process. Multiple core use not supported.\n",
      "For Windows, using only current process. Multiple core use not supported.\n"
     ]
    },
    {
     "name": "stdout",
     "output_type": "stream",
     "text": [
      "P_BFGS-TwoLocal - Depth 4: Best fidelity = [[1.]], Function calls = 385,             Best zeromode: [[-0.92504521]\n",
      " [-0.34807967]\n",
      " [-0.14437197]\n",
      " [-0.04783967]]\n"
     ]
    },
    {
     "name": "stderr",
     "output_type": "stream",
     "text": [
      "For Windows, using only current process. Multiple core use not supported.\n",
      "For Windows, using only current process. Multiple core use not supported.\n",
      "For Windows, using only current process. Multiple core use not supported.\n",
      "For Windows, using only current process. Multiple core use not supported.\n",
      "For Windows, using only current process. Multiple core use not supported.\n",
      "For Windows, using only current process. Multiple core use not supported.\n",
      "For Windows, using only current process. Multiple core use not supported.\n",
      "For Windows, using only current process. Multiple core use not supported.\n",
      "For Windows, using only current process. Multiple core use not supported.\n",
      "For Windows, using only current process. Multiple core use not supported.\n"
     ]
    },
    {
     "name": "stdout",
     "output_type": "stream",
     "text": [
      "P_BFGS-TwoLocal - Depth 5: Best fidelity = [[1.]], Function calls = 1105,             Best zeromode: [[0.92504521]\n",
      " [0.34807967]\n",
      " [0.14437198]\n",
      " [0.04783967]]\n"
     ]
    },
    {
     "name": "stderr",
     "output_type": "stream",
     "text": [
      "For Windows, using only current process. Multiple core use not supported.\n",
      "For Windows, using only current process. Multiple core use not supported.\n",
      "For Windows, using only current process. Multiple core use not supported.\n",
      "For Windows, using only current process. Multiple core use not supported.\n",
      "For Windows, using only current process. Multiple core use not supported.\n",
      "For Windows, using only current process. Multiple core use not supported.\n",
      "For Windows, using only current process. Multiple core use not supported.\n",
      "For Windows, using only current process. Multiple core use not supported.\n",
      "For Windows, using only current process. Multiple core use not supported.\n",
      "For Windows, using only current process. Multiple core use not supported.\n"
     ]
    },
    {
     "name": "stdout",
     "output_type": "stream",
     "text": [
      "P_BFGS-TwoLocal - Depth 6: Best fidelity = [[1.]], Function calls = 810,             Best zeromode: [[-0.92504523]\n",
      " [-0.34807964]\n",
      " [-0.14437196]\n",
      " [-0.04783967]]\n",
      "\n",
      "Running VQE for optimizer-ansatz pair: P_BFGS-EfficientSU2\n"
     ]
    },
    {
     "name": "stderr",
     "output_type": "stream",
     "text": [
      "For Windows, using only current process. Multiple core use not supported.\n",
      "For Windows, using only current process. Multiple core use not supported.\n",
      "For Windows, using only current process. Multiple core use not supported.\n",
      "For Windows, using only current process. Multiple core use not supported.\n",
      "For Windows, using only current process. Multiple core use not supported.\n",
      "For Windows, using only current process. Multiple core use not supported.\n",
      "For Windows, using only current process. Multiple core use not supported.\n",
      "For Windows, using only current process. Multiple core use not supported.\n",
      "For Windows, using only current process. Multiple core use not supported.\n",
      "For Windows, using only current process. Multiple core use not supported.\n"
     ]
    },
    {
     "name": "stdout",
     "output_type": "stream",
     "text": [
      "P_BFGS-EfficientSU2 - Depth 1: Best fidelity = [[1.]], Function calls = 165,             Best zeromode: [[0.92504521]\n",
      " [0.34807967]\n",
      " [0.14437198]\n",
      " [0.04783968]]\n"
     ]
    },
    {
     "name": "stderr",
     "output_type": "stream",
     "text": [
      "For Windows, using only current process. Multiple core use not supported.\n",
      "For Windows, using only current process. Multiple core use not supported.\n",
      "For Windows, using only current process. Multiple core use not supported.\n",
      "For Windows, using only current process. Multiple core use not supported.\n",
      "For Windows, using only current process. Multiple core use not supported.\n",
      "For Windows, using only current process. Multiple core use not supported.\n",
      "For Windows, using only current process. Multiple core use not supported.\n",
      "For Windows, using only current process. Multiple core use not supported.\n",
      "For Windows, using only current process. Multiple core use not supported.\n",
      "For Windows, using only current process. Multiple core use not supported.\n"
     ]
    },
    {
     "name": "stdout",
     "output_type": "stream",
     "text": [
      "P_BFGS-EfficientSU2 - Depth 2: Best fidelity = [[1.]], Function calls = 252,             Best zeromode: [[-0.92504522]\n",
      " [-0.34807966]\n",
      " [-0.14437197]\n",
      " [-0.04783968]]\n"
     ]
    },
    {
     "name": "stderr",
     "output_type": "stream",
     "text": [
      "For Windows, using only current process. Multiple core use not supported.\n",
      "For Windows, using only current process. Multiple core use not supported.\n",
      "For Windows, using only current process. Multiple core use not supported.\n",
      "For Windows, using only current process. Multiple core use not supported.\n",
      "For Windows, using only current process. Multiple core use not supported.\n",
      "For Windows, using only current process. Multiple core use not supported.\n",
      "For Windows, using only current process. Multiple core use not supported.\n",
      "For Windows, using only current process. Multiple core use not supported.\n",
      "For Windows, using only current process. Multiple core use not supported.\n",
      "For Windows, using only current process. Multiple core use not supported.\n"
     ]
    },
    {
     "name": "stdout",
     "output_type": "stream",
     "text": [
      "P_BFGS-EfficientSU2 - Depth 3: Best fidelity = [[1.]], Function calls = 558,             Best zeromode: [[-0.92504522]\n",
      " [-0.34807966]\n",
      " [-0.14437196]\n",
      " [-0.04783967]]\n"
     ]
    },
    {
     "name": "stderr",
     "output_type": "stream",
     "text": [
      "For Windows, using only current process. Multiple core use not supported.\n",
      "For Windows, using only current process. Multiple core use not supported.\n",
      "For Windows, using only current process. Multiple core use not supported.\n",
      "For Windows, using only current process. Multiple core use not supported.\n",
      "For Windows, using only current process. Multiple core use not supported.\n",
      "For Windows, using only current process. Multiple core use not supported.\n",
      "For Windows, using only current process. Multiple core use not supported.\n",
      "For Windows, using only current process. Multiple core use not supported.\n",
      "For Windows, using only current process. Multiple core use not supported.\n",
      "For Windows, using only current process. Multiple core use not supported.\n"
     ]
    },
    {
     "name": "stdout",
     "output_type": "stream",
     "text": [
      "P_BFGS-EfficientSU2 - Depth 4: Best fidelity = [[1.]], Function calls = 836,             Best zeromode: [[0.92504522]\n",
      " [0.34807965]\n",
      " [0.14437198]\n",
      " [0.04783967]]\n"
     ]
    },
    {
     "name": "stderr",
     "output_type": "stream",
     "text": [
      "For Windows, using only current process. Multiple core use not supported.\n",
      "For Windows, using only current process. Multiple core use not supported.\n",
      "For Windows, using only current process. Multiple core use not supported.\n",
      "For Windows, using only current process. Multiple core use not supported.\n",
      "For Windows, using only current process. Multiple core use not supported.\n",
      "For Windows, using only current process. Multiple core use not supported.\n",
      "For Windows, using only current process. Multiple core use not supported.\n",
      "For Windows, using only current process. Multiple core use not supported.\n",
      "For Windows, using only current process. Multiple core use not supported.\n",
      "For Windows, using only current process. Multiple core use not supported.\n"
     ]
    },
    {
     "name": "stdout",
     "output_type": "stream",
     "text": [
      "P_BFGS-EfficientSU2 - Depth 5: Best fidelity = [[1.]], Function calls = 650,             Best zeromode: [[-0.92504521]\n",
      " [-0.34807968]\n",
      " [-0.14437197]\n",
      " [-0.04783967]]\n"
     ]
    },
    {
     "name": "stderr",
     "output_type": "stream",
     "text": [
      "For Windows, using only current process. Multiple core use not supported.\n",
      "For Windows, using only current process. Multiple core use not supported.\n",
      "For Windows, using only current process. Multiple core use not supported.\n",
      "For Windows, using only current process. Multiple core use not supported.\n",
      "For Windows, using only current process. Multiple core use not supported.\n",
      "For Windows, using only current process. Multiple core use not supported.\n",
      "For Windows, using only current process. Multiple core use not supported.\n",
      "For Windows, using only current process. Multiple core use not supported.\n",
      "For Windows, using only current process. Multiple core use not supported.\n"
     ]
    },
    {
     "name": "stdout",
     "output_type": "stream",
     "text": [
      "P_BFGS-EfficientSU2 - Depth 6: Best fidelity = [[1.]], Function calls = 780,             Best zeromode: [[0.92504521]\n",
      " [0.34807968]\n",
      " [0.14437197]\n",
      " [0.04783967]]\n"
     ]
    }
   ],
   "source": [
    "## Get the optimizers\n",
    "maxiter = 5000\n",
    "optimizer = P_BFGS(maxfun = maxiter)\n",
    "\n",
    "# Define parameters\n",
    "dimension = matrix.shape[0]\n",
    "num_qubits = int(np.log2(dimension))\n",
    "max_depth = 6\n",
    "\n",
    "# Compute \n",
    "zeromodes_N_4, metrics_N_4 = analyze_ansatz_performance(matrix, zeromode_classic, optimizer, num_qubits, max_depth)"
   ]
  },
  {
   "cell_type": "markdown",
   "id": "1f40b425-2adf-4c37-86db-5c5d0bb7caa5",
   "metadata": {},
   "source": [
    "### Print the results"
   ]
  },
  {
   "cell_type": "code",
   "execution_count": 38,
   "id": "0e9967b2-21c1-48ad-8ff2-d21bef7945d1",
   "metadata": {},
   "outputs": [
    {
     "name": "stdout",
     "output_type": "stream",
     "text": [
      "The best zeromodes are:\n",
      "{'P_BFGS-RealAmplitudes': {1: array([[0.92504521],\n",
      "       [0.34807967],\n",
      "       [0.14437198],\n",
      "       [0.04783968]]), 2: array([[-0.92504522],\n",
      "       [-0.34807966],\n",
      "       [-0.14437195],\n",
      "       [-0.04783967]]), 3: array([[-0.92504521],\n",
      "       [-0.34807966],\n",
      "       [-0.14437198],\n",
      "       [-0.04783967]]), 4: array([[0.9250452 ],\n",
      "       [0.34807968],\n",
      "       [0.14437198],\n",
      "       [0.04783969]]), 5: array([[0.92504521],\n",
      "       [0.34807968],\n",
      "       [0.14437198],\n",
      "       [0.04783968]]), 6: array([[0.92504522],\n",
      "       [0.34807965],\n",
      "       [0.14437196],\n",
      "       [0.04783967]])}, 'P_BFGS-TwoLocal': {1: array([[-0.9250452 ],\n",
      "       [-0.34807969],\n",
      "       [-0.14437196],\n",
      "       [-0.04783966]]), 2: array([[-0.92504522],\n",
      "       [-0.34807966],\n",
      "       [-0.14437196],\n",
      "       [-0.04783966]]), 3: array([[-0.92504521],\n",
      "       [-0.34807968],\n",
      "       [-0.14437198],\n",
      "       [-0.04783968]]), 4: array([[-0.92504521],\n",
      "       [-0.34807967],\n",
      "       [-0.14437197],\n",
      "       [-0.04783967]]), 5: array([[0.92504521],\n",
      "       [0.34807967],\n",
      "       [0.14437198],\n",
      "       [0.04783967]]), 6: array([[-0.92504523],\n",
      "       [-0.34807964],\n",
      "       [-0.14437196],\n",
      "       [-0.04783967]])}, 'P_BFGS-EfficientSU2': {1: array([[0.92504521],\n",
      "       [0.34807967],\n",
      "       [0.14437198],\n",
      "       [0.04783968]]), 2: array([[-0.92504522],\n",
      "       [-0.34807966],\n",
      "       [-0.14437197],\n",
      "       [-0.04783968]]), 3: array([[-0.92504522],\n",
      "       [-0.34807966],\n",
      "       [-0.14437196],\n",
      "       [-0.04783967]]), 4: array([[0.92504522],\n",
      "       [0.34807965],\n",
      "       [0.14437198],\n",
      "       [0.04783967]]), 5: array([[-0.92504521],\n",
      "       [-0.34807968],\n",
      "       [-0.14437197],\n",
      "       [-0.04783967]]), 6: array([[0.92504521],\n",
      "       [0.34807968],\n",
      "       [0.14437197],\n",
      "       [0.04783967]])}}\n",
      "\n",
      "The performance metrics are:\n",
      "{'P_BFGS-RealAmplitudes': {1: {'fidelity': array([[1.]]), 'function_calls': 165}, 2: {'fidelity': array([[1.]]), 'function_calls': 434}, 3: {'fidelity': array([[1.]]), 'function_calls': 306}, 4: {'fidelity': array([[1.]]), 'function_calls': 858}, 5: {'fidelity': array([[1.]]), 'function_calls': 845}, 6: {'fidelity': array([[1.]]), 'function_calls': 1785}}, 'P_BFGS-TwoLocal': {1: {'fidelity': array([[1.]]), 'function_calls': 160}, 2: {'fidelity': array([[1.]]), 'function_calls': 378}, 3: {'fidelity': array([[1.]]), 'function_calls': 612}, 4: {'fidelity': array([[1.]]), 'function_calls': 385}, 5: {'fidelity': array([[1.]]), 'function_calls': 1105}, 6: {'fidelity': array([[1.]]), 'function_calls': 810}}, 'P_BFGS-EfficientSU2': {1: {'fidelity': array([[1.]]), 'function_calls': 165}, 2: {'fidelity': array([[1.]]), 'function_calls': 252}, 3: {'fidelity': array([[1.]]), 'function_calls': 558}, 4: {'fidelity': array([[1.]]), 'function_calls': 836}, 5: {'fidelity': array([[1.]]), 'function_calls': 650}, 6: {'fidelity': array([[1.]]), 'function_calls': 780}}}\n",
      "\n"
     ]
    }
   ],
   "source": [
    "# Print the results\n",
    "print('The best zeromodes are:')\n",
    "print(zeromodes_N_4)\n",
    "print()\n",
    "\n",
    "print('The performance metrics are:')\n",
    "print(metrics_N_4)\n",
    "print()"
   ]
  },
  {
   "cell_type": "markdown",
   "id": "37c4848b-2269-4498-a875-39e2532c9b36",
   "metadata": {},
   "source": [
    "### Computing relative errors in <x^2>"
   ]
  },
  {
   "cell_type": "code",
   "execution_count": 41,
   "id": "e63bdd3e-591c-4fa9-830c-26f0694ec614",
   "metadata": {},
   "outputs": [
    {
     "name": "stderr",
     "output_type": "stream",
     "text": [
      "C:\\Users\\Owner\\AppData\\Local\\Temp\\ipykernel_8728\\795971042.py:108: DeprecationWarning: Conversion of an array with ndim > 0 to a scalar is deprecated, and will error in future. Ensure you extract a single element from your array before performing this operation. (Deprecated NumPy 1.25.)\n",
      "  eigenvector[2*i] = eigenvector_old[i]\n"
     ]
    },
    {
     "name": "stdout",
     "output_type": "stream",
     "text": [
      "The errors for RealAmplitudes are:\n",
      "[2.793487837188261e-08, 3.30853213315141e-08, 1.2306099970677197e-08, 5.298089029417922e-08, 3.376985487108626e-08, 1.5065396410290868e-08]\n",
      "\n",
      "The errors for TwoLocal are:\n",
      "[2.269803009897159e-09, 2.2078812052482782e-08, 4.2637409509773645e-08, 1.5125560245696287e-09, 1.1568859866193096e-08, 3.447494523515272e-08]\n",
      "\n",
      "The errors for EfficientSU2 are:\n",
      "[2.793487837188261e-08, 1.4856949262217022e-08, 1.3152380239007111e-08, 4.209709696326017e-09, 1.3267215390839426e-08, 1.4718709165768956e-08]\n",
      "\n"
     ]
    }
   ],
   "source": [
    "# Get the zeromodes\n",
    "zeromodes = [\n",
    "    zeromode\n",
    "    for depths in zeromodes_N_4.values()\n",
    "    for zeromode in depths.values()\n",
    "]\n",
    "\n",
    "# Initialize\n",
    "relative_errors = []\n",
    "\n",
    "# Compute \n",
    "for zeromode in zeromodes:\n",
    "    x, y = get_pdf(nmax, x, dx, L, shift = 0, zeromode_qpe = zeromode, normalize = True, make_even = True)\n",
    "    \n",
    "    # Ensure quantum_expectation is a scalar\n",
    "    quantum_expectation = compute_expectation_x_squared_simpson(x, y, 2)\n",
    "    if isinstance(quantum_expectation, np.ndarray):\n",
    "        quantum_expectation = quantum_expectation.item()  # Convert to scalar if necessary\n",
    "    \n",
    "    # Compute the relative error\n",
    "    relative_error = compute_errors(classical_expectation, quantum_expectation)\n",
    "    relative_errors.append(relative_error)\n",
    "\n",
    "# Get the relative errors for the individual optimizers\n",
    "errors_realamps = relative_errors[:6]\n",
    "errors_twolocal = relative_errors[6:12]\n",
    "errors_efficientsu2 = relative_errors[12:18]\n",
    "\n",
    "## Print the relative errors\n",
    "print('The errors for RealAmplitudes are:')\n",
    "print(errors_realamps)\n",
    "print()\n",
    "\n",
    "print('The errors for TwoLocal are:')\n",
    "print(errors_twolocal)\n",
    "print()\n",
    "\n",
    "print('The errors for EfficientSU2 are:')\n",
    "print(errors_efficientsu2)\n",
    "print()"
   ]
  },
  {
   "cell_type": "markdown",
   "id": "db9084e2-fd2c-42d4-ba70-ac118f6edcdd",
   "metadata": {},
   "source": [
    "### For N = 8\n",
    "\n",
    "### Get the matrix and the zeromode"
   ]
  },
  {
   "cell_type": "code",
   "execution_count": 21,
   "id": "6f795c8f-46d9-4646-888b-7a5e093913c1",
   "metadata": {},
   "outputs": [
    {
     "name": "stdout",
     "output_type": "stream",
     "text": [
      "The matrix is:\n",
      "[[    6.75         -25.45584412    18.37117307     0.\n",
      "      0.             0.             0.             0.        ]\n",
      " [  -25.45584412   129.75        -173.20508076    71.15124735\n",
      "      0.             0.             0.             0.        ]\n",
      " [   18.37117307  -173.20508076   448.75        -449.13249715\n",
      "    153.70426149     0.             0.             0.        ]\n",
      " [    0.            71.15124735  -449.13249715   963.75\n",
      "   -853.09788418   266.22359024     0.             0.        ]\n",
      " [    0.             0.           153.70426149  -853.09788418\n",
      "   1674.75       -1385.07761515   408.7327978      0.        ]\n",
      " [    0.             0.             0.           266.22359024\n",
      "  -1385.07761515  2581.75       -2045.06430217   581.2379031 ]\n",
      " [    0.             0.             0.             0.\n",
      "    408.7327978  -2045.06430217  3684.75       -2833.05488828]\n",
      " [    0.             0.             0.             0.\n",
      "      0.           581.2379031  -2833.05488828  4443.75      ]]\n",
      "\n",
      "The zeromode is:\n",
      "[[0.89865021]\n",
      " [0.37648525]\n",
      " [0.19152278]\n",
      " [0.10119182]\n",
      " [0.05336691]\n",
      " [0.02717778]\n",
      " [0.01261409]\n",
      " [0.00448713]]\n",
      "\n",
      "The value of <x^2> is:\n",
      "0.8993572186285961\n",
      "\n"
     ]
    },
    {
     "name": "stderr",
     "output_type": "stream",
     "text": [
      "C:\\Users\\Owner\\AppData\\Local\\Temp\\ipykernel_2916\\795971042.py:108: DeprecationWarning: Conversion of an array with ndim > 0 to a scalar is deprecated, and will error in future. Ensure you extract a single element from your array before performing this operation. (Deprecated NumPy 1.25.)\n",
      "  eigenvector[2*i] = eigenvector_old[i]\n"
     ]
    }
   ],
   "source": [
    "## Get the matrix and zeromode\n",
    "nmax = 15\n",
    "a = 1\n",
    "gamma = 1\n",
    "dx = 0.01\n",
    "c = 0\n",
    "L = 1/2\n",
    "x = np.linspace(-4, 4, int(8/dx))\n",
    "\n",
    "# Matrix and zeromode\n",
    "matrix, zeromode_classic = get_zeromode(nmax, a, c, L, gamma)\n",
    "\n",
    "## Print the matrix and zeromode\n",
    "print('The matrix is:')\n",
    "print(matrix)\n",
    "print()\n",
    "\n",
    "# Print the zeromode\n",
    "print('The zeromode is:')\n",
    "print(zeromode_classic)\n",
    "print()\n",
    "\n",
    "## Compute the classical <x^2> value\n",
    "x, y = get_pdf(nmax, x, dx, L, shift = 0, zeromode_qpe = zeromode_classic, normalize = True, make_even = True)\n",
    "classical_expectation = compute_expectation_x_squared_simpson(x, y, 2)\n",
    "\n",
    "# Print the classical expectation value\n",
    "print('The value of <x^2> is:')\n",
    "print(classical_expectation)\n",
    "print()"
   ]
  },
  {
   "cell_type": "markdown",
   "id": "e20a8159-348e-400b-884b-c8340f25e5a3",
   "metadata": {},
   "source": [
    "### Run VQE for multiple ansatz depths (fix at 5000 optimization iterations)"
   ]
  },
  {
   "cell_type": "code",
   "execution_count": 24,
   "id": "5524b44a-58ed-45c0-8c44-bdebdb7f3a80",
   "metadata": {},
   "outputs": [
    {
     "name": "stderr",
     "output_type": "stream",
     "text": [
      "For Windows, using only current process. Multiple core use not supported.\n"
     ]
    },
    {
     "name": "stdout",
     "output_type": "stream",
     "text": [
      "\n",
      "Running VQE for optimizer-ansatz pair: P_BFGS-RealAmplitudes\n"
     ]
    },
    {
     "name": "stderr",
     "output_type": "stream",
     "text": [
      "For Windows, using only current process. Multiple core use not supported.\n",
      "For Windows, using only current process. Multiple core use not supported.\n",
      "For Windows, using only current process. Multiple core use not supported.\n",
      "For Windows, using only current process. Multiple core use not supported.\n",
      "For Windows, using only current process. Multiple core use not supported.\n",
      "For Windows, using only current process. Multiple core use not supported.\n",
      "For Windows, using only current process. Multiple core use not supported.\n",
      "For Windows, using only current process. Multiple core use not supported.\n",
      "For Windows, using only current process. Multiple core use not supported.\n",
      "For Windows, using only current process. Multiple core use not supported.\n"
     ]
    },
    {
     "name": "stdout",
     "output_type": "stream",
     "text": [
      "P_BFGS-RealAmplitudes - Depth 1: Best fidelity = [[0.99974471]], Function calls = 1281,             Best zeromode: [[0.90192158]\n",
      " [0.37483827]\n",
      " [0.186312  ]\n",
      " [0.09402016]\n",
      " [0.04536018]\n",
      " [0.01918989]\n",
      " [0.00720939]\n",
      " [0.00200087]]\n"
     ]
    },
    {
     "name": "stderr",
     "output_type": "stream",
     "text": [
      "For Windows, using only current process. Multiple core use not supported.\n",
      "For Windows, using only current process. Multiple core use not supported.\n",
      "For Windows, using only current process. Multiple core use not supported.\n",
      "For Windows, using only current process. Multiple core use not supported.\n",
      "For Windows, using only current process. Multiple core use not supported.\n",
      "For Windows, using only current process. Multiple core use not supported.\n",
      "For Windows, using only current process. Multiple core use not supported.\n",
      "For Windows, using only current process. Multiple core use not supported.\n",
      "For Windows, using only current process. Multiple core use not supported.\n",
      "For Windows, using only current process. Multiple core use not supported.\n"
     ]
    },
    {
     "name": "stdout",
     "output_type": "stream",
     "text": [
      "P_BFGS-RealAmplitudes - Depth 2: Best fidelity = [[1.]], Function calls = 2170,             Best zeromode: [[0.89865003]\n",
      " [0.37648613]\n",
      " [0.1915232 ]\n",
      " [0.1011912 ]\n",
      " [0.05336528]\n",
      " [0.02717535]\n",
      " [0.01261162]\n",
      " [0.00448577]]\n"
     ]
    },
    {
     "name": "stderr",
     "output_type": "stream",
     "text": [
      "For Windows, using only current process. Multiple core use not supported.\n",
      "For Windows, using only current process. Multiple core use not supported.\n",
      "For Windows, using only current process. Multiple core use not supported.\n",
      "For Windows, using only current process. Multiple core use not supported.\n",
      "For Windows, using only current process. Multiple core use not supported.\n",
      "For Windows, using only current process. Multiple core use not supported.\n",
      "For Windows, using only current process. Multiple core use not supported.\n",
      "For Windows, using only current process. Multiple core use not supported.\n",
      "For Windows, using only current process. Multiple core use not supported.\n",
      "For Windows, using only current process. Multiple core use not supported.\n"
     ]
    },
    {
     "name": "stdout",
     "output_type": "stream",
     "text": [
      "P_BFGS-RealAmplitudes - Depth 3: Best fidelity = [[1.]], Function calls = 1924,             Best zeromode: [[-0.89864988]\n",
      " [-0.3764857 ]\n",
      " [-0.19152321]\n",
      " [-0.10119214]\n",
      " [-0.05336707]\n",
      " [-0.02717783]\n",
      " [-0.01261409]\n",
      " [-0.0044871 ]]\n"
     ]
    },
    {
     "name": "stderr",
     "output_type": "stream",
     "text": [
      "For Windows, using only current process. Multiple core use not supported.\n",
      "For Windows, using only current process. Multiple core use not supported.\n",
      "For Windows, using only current process. Multiple core use not supported.\n",
      "For Windows, using only current process. Multiple core use not supported.\n",
      "For Windows, using only current process. Multiple core use not supported.\n",
      "For Windows, using only current process. Multiple core use not supported.\n",
      "For Windows, using only current process. Multiple core use not supported.\n",
      "For Windows, using only current process. Multiple core use not supported.\n",
      "For Windows, using only current process. Multiple core use not supported.\n",
      "For Windows, using only current process. Multiple core use not supported.\n"
     ]
    },
    {
     "name": "stdout",
     "output_type": "stream",
     "text": [
      "P_BFGS-RealAmplitudes - Depth 4: Best fidelity = [[1.]], Function calls = 1616,             Best zeromode: [[0.89865019]\n",
      " [0.37648526]\n",
      " [0.1915228 ]\n",
      " [0.10119183]\n",
      " [0.05336692]\n",
      " [0.02717782]\n",
      " [0.01261413]\n",
      " [0.00448715]]\n"
     ]
    },
    {
     "name": "stderr",
     "output_type": "stream",
     "text": [
      "For Windows, using only current process. Multiple core use not supported.\n",
      "For Windows, using only current process. Multiple core use not supported.\n",
      "For Windows, using only current process. Multiple core use not supported.\n",
      "For Windows, using only current process. Multiple core use not supported.\n",
      "For Windows, using only current process. Multiple core use not supported.\n",
      "For Windows, using only current process. Multiple core use not supported.\n",
      "For Windows, using only current process. Multiple core use not supported.\n",
      "For Windows, using only current process. Multiple core use not supported.\n",
      "For Windows, using only current process. Multiple core use not supported.\n",
      "For Windows, using only current process. Multiple core use not supported.\n"
     ]
    },
    {
     "name": "stdout",
     "output_type": "stream",
     "text": [
      "P_BFGS-RealAmplitudes - Depth 5: Best fidelity = [[1.]], Function calls = 3211,             Best zeromode: [[0.89865027]\n",
      " [0.37648517]\n",
      " [0.19152267]\n",
      " [0.10119173]\n",
      " [0.05336687]\n",
      " [0.02717776]\n",
      " [0.01261409]\n",
      " [0.00448713]]\n"
     ]
    },
    {
     "name": "stderr",
     "output_type": "stream",
     "text": [
      "For Windows, using only current process. Multiple core use not supported.\n",
      "For Windows, using only current process. Multiple core use not supported.\n",
      "For Windows, using only current process. Multiple core use not supported.\n",
      "For Windows, using only current process. Multiple core use not supported.\n",
      "For Windows, using only current process. Multiple core use not supported.\n",
      "For Windows, using only current process. Multiple core use not supported.\n",
      "For Windows, using only current process. Multiple core use not supported.\n",
      "For Windows, using only current process. Multiple core use not supported.\n",
      "For Windows, using only current process. Multiple core use not supported.\n",
      "For Windows, using only current process. Multiple core use not supported.\n"
     ]
    },
    {
     "name": "stdout",
     "output_type": "stream",
     "text": [
      "P_BFGS-RealAmplitudes - Depth 6: Best fidelity = [[1.]], Function calls = 3894,             Best zeromode: [[0.89865021]\n",
      " [0.37648522]\n",
      " [0.19152275]\n",
      " [0.10119185]\n",
      " [0.05336698]\n",
      " [0.02717784]\n",
      " [0.01261413]\n",
      " [0.00448714]]\n",
      "\n",
      "Running VQE for optimizer-ansatz pair: P_BFGS-TwoLocal\n"
     ]
    },
    {
     "name": "stderr",
     "output_type": "stream",
     "text": [
      "For Windows, using only current process. Multiple core use not supported.\n",
      "For Windows, using only current process. Multiple core use not supported.\n",
      "For Windows, using only current process. Multiple core use not supported.\n",
      "For Windows, using only current process. Multiple core use not supported.\n",
      "For Windows, using only current process. Multiple core use not supported.\n",
      "For Windows, using only current process. Multiple core use not supported.\n",
      "For Windows, using only current process. Multiple core use not supported.\n",
      "For Windows, using only current process. Multiple core use not supported.\n",
      "For Windows, using only current process. Multiple core use not supported.\n",
      "For Windows, using only current process. Multiple core use not supported.\n"
     ]
    },
    {
     "name": "stdout",
     "output_type": "stream",
     "text": [
      "P_BFGS-TwoLocal - Depth 1: Best fidelity = [[0.99974473]], Function calls = 1351,             Best zeromode: [[0.90192116]\n",
      " [0.37483884]\n",
      " [0.18631265]\n",
      " [0.09402058]\n",
      " [0.04536037]\n",
      " [0.01919   ]\n",
      " [0.00720939]\n",
      " [0.00200089]]\n"
     ]
    },
    {
     "name": "stderr",
     "output_type": "stream",
     "text": [
      "For Windows, using only current process. Multiple core use not supported.\n",
      "For Windows, using only current process. Multiple core use not supported.\n",
      "For Windows, using only current process. Multiple core use not supported.\n",
      "For Windows, using only current process. Multiple core use not supported.\n",
      "For Windows, using only current process. Multiple core use not supported.\n",
      "For Windows, using only current process. Multiple core use not supported.\n",
      "For Windows, using only current process. Multiple core use not supported.\n",
      "For Windows, using only current process. Multiple core use not supported.\n",
      "For Windows, using only current process. Multiple core use not supported.\n",
      "For Windows, using only current process. Multiple core use not supported.\n"
     ]
    },
    {
     "name": "stdout",
     "output_type": "stream",
     "text": [
      "P_BFGS-TwoLocal - Depth 2: Best fidelity = [[1.]], Function calls = 2700,             Best zeromode: [[-0.89864936]\n",
      " [-0.37648633]\n",
      " [-0.19152408]\n",
      " [-0.10119269]\n",
      " [-0.0533673 ]\n",
      " [-0.02717772]\n",
      " [-0.01261364]\n",
      " [-0.0044868 ]]\n"
     ]
    },
    {
     "name": "stderr",
     "output_type": "stream",
     "text": [
      "For Windows, using only current process. Multiple core use not supported.\n",
      "For Windows, using only current process. Multiple core use not supported.\n",
      "For Windows, using only current process. Multiple core use not supported.\n",
      "For Windows, using only current process. Multiple core use not supported.\n",
      "For Windows, using only current process. Multiple core use not supported.\n",
      "For Windows, using only current process. Multiple core use not supported.\n",
      "For Windows, using only current process. Multiple core use not supported.\n",
      "For Windows, using only current process. Multiple core use not supported.\n",
      "For Windows, using only current process. Multiple core use not supported.\n",
      "For Windows, using only current process. Multiple core use not supported.\n"
     ]
    },
    {
     "name": "stdout",
     "output_type": "stream",
     "text": [
      "P_BFGS-TwoLocal - Depth 3: Best fidelity = [[1.]], Function calls = 1326,             Best zeromode: [[-0.89865016]\n",
      " [-0.37648535]\n",
      " [-0.19152278]\n",
      " [-0.10119181]\n",
      " [-0.05336691]\n",
      " [-0.02717781]\n",
      " [-0.01261409]\n",
      " [-0.00448712]]\n"
     ]
    },
    {
     "name": "stderr",
     "output_type": "stream",
     "text": [
      "For Windows, using only current process. Multiple core use not supported.\n",
      "For Windows, using only current process. Multiple core use not supported.\n",
      "For Windows, using only current process. Multiple core use not supported.\n",
      "For Windows, using only current process. Multiple core use not supported.\n",
      "For Windows, using only current process. Multiple core use not supported.\n",
      "For Windows, using only current process. Multiple core use not supported.\n",
      "For Windows, using only current process. Multiple core use not supported.\n",
      "For Windows, using only current process. Multiple core use not supported.\n",
      "For Windows, using only current process. Multiple core use not supported.\n",
      "For Windows, using only current process. Multiple core use not supported.\n"
     ]
    },
    {
     "name": "stdout",
     "output_type": "stream",
     "text": [
      "P_BFGS-TwoLocal - Depth 4: Best fidelity = [[1.]], Function calls = 1536,             Best zeromode: [[-0.89865025]\n",
      " [-0.37648519]\n",
      " [-0.19152271]\n",
      " [-0.10119178]\n",
      " [-0.05336691]\n",
      " [-0.02717781]\n",
      " [-0.01261415]\n",
      " [-0.00448716]]\n"
     ]
    },
    {
     "name": "stderr",
     "output_type": "stream",
     "text": [
      "For Windows, using only current process. Multiple core use not supported.\n",
      "For Windows, using only current process. Multiple core use not supported.\n",
      "For Windows, using only current process. Multiple core use not supported.\n",
      "For Windows, using only current process. Multiple core use not supported.\n",
      "For Windows, using only current process. Multiple core use not supported.\n",
      "For Windows, using only current process. Multiple core use not supported.\n",
      "For Windows, using only current process. Multiple core use not supported.\n",
      "For Windows, using only current process. Multiple core use not supported.\n",
      "For Windows, using only current process. Multiple core use not supported.\n",
      "For Windows, using only current process. Multiple core use not supported.\n"
     ]
    },
    {
     "name": "stdout",
     "output_type": "stream",
     "text": [
      "P_BFGS-TwoLocal - Depth 5: Best fidelity = [[1.]], Function calls = 2090,             Best zeromode: [[0.89865024]\n",
      " [0.37648516]\n",
      " [0.19152277]\n",
      " [0.10119183]\n",
      " [0.05336691]\n",
      " [0.02717777]\n",
      " [0.01261409]\n",
      " [0.00448713]]\n"
     ]
    },
    {
     "name": "stderr",
     "output_type": "stream",
     "text": [
      "For Windows, using only current process. Multiple core use not supported.\n",
      "For Windows, using only current process. Multiple core use not supported.\n",
      "For Windows, using only current process. Multiple core use not supported.\n",
      "For Windows, using only current process. Multiple core use not supported.\n",
      "For Windows, using only current process. Multiple core use not supported.\n",
      "For Windows, using only current process. Multiple core use not supported.\n",
      "For Windows, using only current process. Multiple core use not supported.\n",
      "For Windows, using only current process. Multiple core use not supported.\n",
      "For Windows, using only current process. Multiple core use not supported.\n",
      "For Windows, using only current process. Multiple core use not supported.\n"
     ]
    },
    {
     "name": "stdout",
     "output_type": "stream",
     "text": [
      "P_BFGS-TwoLocal - Depth 6: Best fidelity = [[1.]], Function calls = 2772,             Best zeromode: [[-0.89865031]\n",
      " [-0.37648511]\n",
      " [-0.19152262]\n",
      " [-0.10119171]\n",
      " [-0.05336686]\n",
      " [-0.02717777]\n",
      " [-0.01261412]\n",
      " [-0.00448715]]\n",
      "\n",
      "Running VQE for optimizer-ansatz pair: P_BFGS-EfficientSU2\n"
     ]
    },
    {
     "name": "stderr",
     "output_type": "stream",
     "text": [
      "For Windows, using only current process. Multiple core use not supported.\n",
      "For Windows, using only current process. Multiple core use not supported.\n",
      "For Windows, using only current process. Multiple core use not supported.\n",
      "For Windows, using only current process. Multiple core use not supported.\n",
      "For Windows, using only current process. Multiple core use not supported.\n",
      "For Windows, using only current process. Multiple core use not supported.\n",
      "For Windows, using only current process. Multiple core use not supported.\n",
      "For Windows, using only current process. Multiple core use not supported.\n",
      "For Windows, using only current process. Multiple core use not supported.\n",
      "For Windows, using only current process. Multiple core use not supported.\n"
     ]
    },
    {
     "name": "stdout",
     "output_type": "stream",
     "text": [
      "P_BFGS-EfficientSU2 - Depth 1: Best fidelity = [[0.99974472]], Function calls = 546,             Best zeromode: [[0.90192135]\n",
      " [0.37483863]\n",
      " [0.18631241]\n",
      " [0.09402023]\n",
      " [0.04536012]\n",
      " [0.01918986]\n",
      " [0.00720922]\n",
      " [0.00200087]]\n"
     ]
    },
    {
     "name": "stderr",
     "output_type": "stream",
     "text": [
      "For Windows, using only current process. Multiple core use not supported.\n",
      "For Windows, using only current process. Multiple core use not supported.\n",
      "For Windows, using only current process. Multiple core use not supported.\n",
      "For Windows, using only current process. Multiple core use not supported.\n",
      "For Windows, using only current process. Multiple core use not supported.\n",
      "For Windows, using only current process. Multiple core use not supported.\n",
      "For Windows, using only current process. Multiple core use not supported.\n",
      "For Windows, using only current process. Multiple core use not supported.\n",
      "For Windows, using only current process. Multiple core use not supported.\n",
      "For Windows, using only current process. Multiple core use not supported.\n"
     ]
    },
    {
     "name": "stdout",
     "output_type": "stream",
     "text": [
      "P_BFGS-EfficientSU2 - Depth 2: Best fidelity = [[1.]], Function calls = 860,             Best zeromode: [[0.89865039]\n",
      " [0.37648495]\n",
      " [0.19152253]\n",
      " [0.10119175]\n",
      " [0.05336692]\n",
      " [0.02717785]\n",
      " [0.01261417]\n",
      " [0.00448715]]\n"
     ]
    },
    {
     "name": "stderr",
     "output_type": "stream",
     "text": [
      "For Windows, using only current process. Multiple core use not supported.\n",
      "For Windows, using only current process. Multiple core use not supported.\n",
      "For Windows, using only current process. Multiple core use not supported.\n",
      "For Windows, using only current process. Multiple core use not supported.\n",
      "For Windows, using only current process. Multiple core use not supported.\n",
      "For Windows, using only current process. Multiple core use not supported.\n",
      "For Windows, using only current process. Multiple core use not supported.\n",
      "For Windows, using only current process. Multiple core use not supported.\n",
      "For Windows, using only current process. Multiple core use not supported.\n",
      "For Windows, using only current process. Multiple core use not supported.\n"
     ]
    },
    {
     "name": "stdout",
     "output_type": "stream",
     "text": [
      "P_BFGS-EfficientSU2 - Depth 3: Best fidelity = [[1.]], Function calls = 2899,             Best zeromode: [[0.8986501 ]\n",
      " [0.37648554]\n",
      " [0.1915228 ]\n",
      " [0.10119167]\n",
      " [0.05336682]\n",
      " [0.02717775]\n",
      " [0.0126141 ]\n",
      " [0.00448713]]\n"
     ]
    },
    {
     "name": "stderr",
     "output_type": "stream",
     "text": [
      "For Windows, using only current process. Multiple core use not supported.\n",
      "For Windows, using only current process. Multiple core use not supported.\n",
      "For Windows, using only current process. Multiple core use not supported.\n",
      "For Windows, using only current process. Multiple core use not supported.\n",
      "For Windows, using only current process. Multiple core use not supported.\n",
      "For Windows, using only current process. Multiple core use not supported.\n",
      "For Windows, using only current process. Multiple core use not supported.\n",
      "For Windows, using only current process. Multiple core use not supported.\n",
      "For Windows, using only current process. Multiple core use not supported.\n",
      "For Windows, using only current process. Multiple core use not supported.\n"
     ]
    },
    {
     "name": "stdout",
     "output_type": "stream",
     "text": [
      "P_BFGS-EfficientSU2 - Depth 4: Best fidelity = [[1.]], Function calls = 2800,             Best zeromode: [[0.89865022]\n",
      " [0.37648519]\n",
      " [0.19152282]\n",
      " [0.10119186]\n",
      " [0.05336692]\n",
      " [0.02717775]\n",
      " [0.01261408]\n",
      " [0.00448713]]\n"
     ]
    },
    {
     "name": "stderr",
     "output_type": "stream",
     "text": [
      "For Windows, using only current process. Multiple core use not supported.\n",
      "For Windows, using only current process. Multiple core use not supported.\n",
      "For Windows, using only current process. Multiple core use not supported.\n",
      "For Windows, using only current process. Multiple core use not supported.\n",
      "For Windows, using only current process. Multiple core use not supported.\n",
      "For Windows, using only current process. Multiple core use not supported.\n",
      "For Windows, using only current process. Multiple core use not supported.\n",
      "For Windows, using only current process. Multiple core use not supported.\n",
      "For Windows, using only current process. Multiple core use not supported.\n",
      "For Windows, using only current process. Multiple core use not supported.\n"
     ]
    },
    {
     "name": "stdout",
     "output_type": "stream",
     "text": [
      "P_BFGS-EfficientSU2 - Depth 5: Best fidelity = [[1.]], Function calls = 874,             Best zeromode: [[-0.89865016]\n",
      " [-0.37648529]\n",
      " [-0.19152288]\n",
      " [-0.10119188]\n",
      " [-0.0533669 ]\n",
      " [-0.02717771]\n",
      " [-0.01261404]\n",
      " [-0.00448709]]\n"
     ]
    },
    {
     "name": "stderr",
     "output_type": "stream",
     "text": [
      "For Windows, using only current process. Multiple core use not supported.\n",
      "For Windows, using only current process. Multiple core use not supported.\n",
      "For Windows, using only current process. Multiple core use not supported.\n",
      "For Windows, using only current process. Multiple core use not supported.\n",
      "For Windows, using only current process. Multiple core use not supported.\n",
      "For Windows, using only current process. Multiple core use not supported.\n",
      "For Windows, using only current process. Multiple core use not supported.\n",
      "For Windows, using only current process. Multiple core use not supported.\n",
      "For Windows, using only current process. Multiple core use not supported.\n"
     ]
    },
    {
     "name": "stdout",
     "output_type": "stream",
     "text": [
      "P_BFGS-EfficientSU2 - Depth 6: Best fidelity = [[1.]], Function calls = 1496,             Best zeromode: [[-0.89865007]\n",
      " [-0.37648546]\n",
      " [-0.19152295]\n",
      " [-0.10119186]\n",
      " [-0.05336691]\n",
      " [-0.02717777]\n",
      " [-0.01261408]\n",
      " [-0.00448712]]\n"
     ]
    }
   ],
   "source": [
    "## Get the optimizers\n",
    "maxiter = 5000\n",
    "optimizer = P_BFGS(maxfun = maxiter)\n",
    "\n",
    "# Define parameters\n",
    "dimension = matrix.shape[0]\n",
    "num_qubits = int(np.log2(dimension))\n",
    "max_depth = 6\n",
    "\n",
    "# Compute \n",
    "zeromodes_N_8, metrics_N_8 = analyze_ansatz_performance(matrix, zeromode_classic, optimizer, num_qubits, max_depth)"
   ]
  },
  {
   "cell_type": "markdown",
   "id": "a53b2b2a-377f-4638-9b1c-f10a9b9840fc",
   "metadata": {},
   "source": [
    "### Print the results"
   ]
  },
  {
   "cell_type": "code",
   "execution_count": 27,
   "id": "96aee47f-9e15-4157-bfb1-a31f2e5a78ee",
   "metadata": {},
   "outputs": [
    {
     "name": "stdout",
     "output_type": "stream",
     "text": [
      "The best zeromodes are:\n",
      "{'P_BFGS-RealAmplitudes': {1: array([[0.90192158],\n",
      "       [0.37483827],\n",
      "       [0.186312  ],\n",
      "       [0.09402016],\n",
      "       [0.04536018],\n",
      "       [0.01918989],\n",
      "       [0.00720939],\n",
      "       [0.00200087]]), 2: array([[0.89865003],\n",
      "       [0.37648613],\n",
      "       [0.1915232 ],\n",
      "       [0.1011912 ],\n",
      "       [0.05336528],\n",
      "       [0.02717535],\n",
      "       [0.01261162],\n",
      "       [0.00448577]]), 3: array([[-0.89864988],\n",
      "       [-0.3764857 ],\n",
      "       [-0.19152321],\n",
      "       [-0.10119214],\n",
      "       [-0.05336707],\n",
      "       [-0.02717783],\n",
      "       [-0.01261409],\n",
      "       [-0.0044871 ]]), 4: array([[0.89865019],\n",
      "       [0.37648526],\n",
      "       [0.1915228 ],\n",
      "       [0.10119183],\n",
      "       [0.05336692],\n",
      "       [0.02717782],\n",
      "       [0.01261413],\n",
      "       [0.00448715]]), 5: array([[0.89865027],\n",
      "       [0.37648517],\n",
      "       [0.19152267],\n",
      "       [0.10119173],\n",
      "       [0.05336687],\n",
      "       [0.02717776],\n",
      "       [0.01261409],\n",
      "       [0.00448713]]), 6: array([[0.89865021],\n",
      "       [0.37648522],\n",
      "       [0.19152275],\n",
      "       [0.10119185],\n",
      "       [0.05336698],\n",
      "       [0.02717784],\n",
      "       [0.01261413],\n",
      "       [0.00448714]])}, 'P_BFGS-TwoLocal': {1: array([[0.90192116],\n",
      "       [0.37483884],\n",
      "       [0.18631265],\n",
      "       [0.09402058],\n",
      "       [0.04536037],\n",
      "       [0.01919   ],\n",
      "       [0.00720939],\n",
      "       [0.00200089]]), 2: array([[-0.89864936],\n",
      "       [-0.37648633],\n",
      "       [-0.19152408],\n",
      "       [-0.10119269],\n",
      "       [-0.0533673 ],\n",
      "       [-0.02717772],\n",
      "       [-0.01261364],\n",
      "       [-0.0044868 ]]), 3: array([[-0.89865016],\n",
      "       [-0.37648535],\n",
      "       [-0.19152278],\n",
      "       [-0.10119181],\n",
      "       [-0.05336691],\n",
      "       [-0.02717781],\n",
      "       [-0.01261409],\n",
      "       [-0.00448712]]), 4: array([[-0.89865025],\n",
      "       [-0.37648519],\n",
      "       [-0.19152271],\n",
      "       [-0.10119178],\n",
      "       [-0.05336691],\n",
      "       [-0.02717781],\n",
      "       [-0.01261415],\n",
      "       [-0.00448716]]), 5: array([[0.89865024],\n",
      "       [0.37648516],\n",
      "       [0.19152277],\n",
      "       [0.10119183],\n",
      "       [0.05336691],\n",
      "       [0.02717777],\n",
      "       [0.01261409],\n",
      "       [0.00448713]]), 6: array([[-0.89865031],\n",
      "       [-0.37648511],\n",
      "       [-0.19152262],\n",
      "       [-0.10119171],\n",
      "       [-0.05336686],\n",
      "       [-0.02717777],\n",
      "       [-0.01261412],\n",
      "       [-0.00448715]])}, 'P_BFGS-EfficientSU2': {1: array([[0.90192135],\n",
      "       [0.37483863],\n",
      "       [0.18631241],\n",
      "       [0.09402023],\n",
      "       [0.04536012],\n",
      "       [0.01918986],\n",
      "       [0.00720922],\n",
      "       [0.00200087]]), 2: array([[0.89865039],\n",
      "       [0.37648495],\n",
      "       [0.19152253],\n",
      "       [0.10119175],\n",
      "       [0.05336692],\n",
      "       [0.02717785],\n",
      "       [0.01261417],\n",
      "       [0.00448715]]), 3: array([[0.8986501 ],\n",
      "       [0.37648554],\n",
      "       [0.1915228 ],\n",
      "       [0.10119167],\n",
      "       [0.05336682],\n",
      "       [0.02717775],\n",
      "       [0.0126141 ],\n",
      "       [0.00448713]]), 4: array([[0.89865022],\n",
      "       [0.37648519],\n",
      "       [0.19152282],\n",
      "       [0.10119186],\n",
      "       [0.05336692],\n",
      "       [0.02717775],\n",
      "       [0.01261408],\n",
      "       [0.00448713]]), 5: array([[-0.89865016],\n",
      "       [-0.37648529],\n",
      "       [-0.19152288],\n",
      "       [-0.10119188],\n",
      "       [-0.0533669 ],\n",
      "       [-0.02717771],\n",
      "       [-0.01261404],\n",
      "       [-0.00448709]]), 6: array([[-0.89865007],\n",
      "       [-0.37648546],\n",
      "       [-0.19152295],\n",
      "       [-0.10119186],\n",
      "       [-0.05336691],\n",
      "       [-0.02717777],\n",
      "       [-0.01261408],\n",
      "       [-0.00448712]])}}\n",
      "\n",
      "The performance metrics are:\n",
      "{'P_BFGS-RealAmplitudes': {1: {'fidelity': array([[0.99974471]]), 'function_calls': 1281}, 2: {'fidelity': array([[1.]]), 'function_calls': 2170}, 3: {'fidelity': array([[1.]]), 'function_calls': 1924}, 4: {'fidelity': array([[1.]]), 'function_calls': 1616}, 5: {'fidelity': array([[1.]]), 'function_calls': 3211}, 6: {'fidelity': array([[1.]]), 'function_calls': 3894}}, 'P_BFGS-TwoLocal': {1: {'fidelity': array([[0.99974473]]), 'function_calls': 1351}, 2: {'fidelity': array([[1.]]), 'function_calls': 2700}, 3: {'fidelity': array([[1.]]), 'function_calls': 1326}, 4: {'fidelity': array([[1.]]), 'function_calls': 1536}, 5: {'fidelity': array([[1.]]), 'function_calls': 2090}, 6: {'fidelity': array([[1.]]), 'function_calls': 2772}}, 'P_BFGS-EfficientSU2': {1: {'fidelity': array([[0.99974472]]), 'function_calls': 546}, 2: {'fidelity': array([[1.]]), 'function_calls': 860}, 3: {'fidelity': array([[1.]]), 'function_calls': 2899}, 4: {'fidelity': array([[1.]]), 'function_calls': 2800}, 5: {'fidelity': array([[1.]]), 'function_calls': 874}, 6: {'fidelity': array([[1.]]), 'function_calls': 1496}}}\n",
      "\n"
     ]
    }
   ],
   "source": [
    "# Print the results\n",
    "print('The best zeromodes are:')\n",
    "print(zeromodes_N_8)\n",
    "print()\n",
    "\n",
    "print('The performance metrics are:')\n",
    "print(metrics_N_8)\n",
    "print()"
   ]
  },
  {
   "cell_type": "markdown",
   "id": "513ba28d-1e04-45cf-84f2-c64b21d0349f",
   "metadata": {},
   "source": [
    "### Computing relative errors in <x^2>"
   ]
  },
  {
   "cell_type": "code",
   "execution_count": 30,
   "id": "1580ed08-b944-47cc-900f-f92864f20c86",
   "metadata": {},
   "outputs": [
    {
     "name": "stderr",
     "output_type": "stream",
     "text": [
      "C:\\Users\\Owner\\AppData\\Local\\Temp\\ipykernel_2916\\795971042.py:108: DeprecationWarning: Conversion of an array with ndim > 0 to a scalar is deprecated, and will error in future. Ensure you extract a single element from your array before performing this operation. (Deprecated NumPy 1.25.)\n",
      "  eigenvector[2*i] = eigenvector_old[i]\n"
     ]
    },
    {
     "name": "stdout",
     "output_type": "stream",
     "text": [
      "The errors for RealAmplitudes are:\n",
      "[0.055628580649997435, 1.4815925644047548e-05, 1.1472408116226784e-06, 2.5766149873513357e-07, 3.0840543854484014e-07, 3.100925051475348e-07]\n",
      "\n",
      "The errors for TwoLocal are:\n",
      "[0.0556268317128886, 1.20060066981278e-06, 5.214487040490026e-08, 1.3364593573959302e-07, 4.8268438362489556e-08, 3.021334600993426e-07]\n",
      "\n",
      "The errors for EfficientSU2 are:\n",
      "[0.05562852262162045, 5.565939387907108e-08, 1.696055196625737e-07, 2.0244240144136225e-08, 1.6407277395458455e-07, 2.3354812012511053e-07]\n",
      "\n"
     ]
    }
   ],
   "source": [
    "# Get the zeromodes\n",
    "zeromodes = [\n",
    "    zeromode\n",
    "    for depths in zeromodes_N_8.values()\n",
    "    for zeromode in depths.values()\n",
    "]\n",
    "\n",
    "# Initialize\n",
    "relative_errors = []\n",
    "\n",
    "# Compute \n",
    "for zeromode in zeromodes:\n",
    "    x, y = get_pdf(nmax, x, dx, L, shift = 0, zeromode_qpe = zeromode, normalize = True, make_even = True)\n",
    "    \n",
    "    # Ensure quantum_expectation is a scalar\n",
    "    quantum_expectation = compute_expectation_x_squared_simpson(x, y, 2)\n",
    "    if isinstance(quantum_expectation, np.ndarray):\n",
    "        quantum_expectation = quantum_expectation.item()  # Convert to scalar if necessary\n",
    "    \n",
    "    # Compute the relative error\n",
    "    relative_error = compute_errors(classical_expectation, quantum_expectation)\n",
    "    relative_errors.append(relative_error)\n",
    "\n",
    "# Get the relative errors for the individual optimizers\n",
    "errors_realamps = relative_errors[:6]\n",
    "errors_twolocal = relative_errors[6:12]\n",
    "errors_efficientsu2 = relative_errors[12:18]\n",
    "\n",
    "## Print the relative errors\n",
    "print('The errors for RealAmplitudes are:')\n",
    "print(errors_realamps)\n",
    "print()\n",
    "\n",
    "print('The errors for TwoLocal are:')\n",
    "print(errors_twolocal)\n",
    "print()\n",
    "\n",
    "print('The errors for EfficientSU2 are:')\n",
    "print(errors_efficientsu2)\n",
    "print()"
   ]
  },
  {
   "cell_type": "markdown",
   "id": "7e226b9c-e049-4a33-b90d-317a650f15f4",
   "metadata": {},
   "source": [
    "### For N = 16\n",
    "\n",
    "### Get the matrix and the zeromode"
   ]
  },
  {
   "cell_type": "code",
   "execution_count": 19,
   "id": "721d498c-5bd4-4b1c-bda5-963c1ed9b158",
   "metadata": {},
   "outputs": [
    {
     "name": "stdout",
     "output_type": "stream",
     "text": [
      "The matrix is:\n",
      "[[ 6.75000000e+00 -2.54558441e+01  1.83711731e+01  0.00000000e+00\n",
      "   0.00000000e+00  0.00000000e+00  0.00000000e+00  0.00000000e+00\n",
      "   0.00000000e+00  0.00000000e+00  0.00000000e+00  0.00000000e+00\n",
      "   0.00000000e+00  0.00000000e+00  0.00000000e+00  0.00000000e+00]\n",
      " [-2.54558441e+01  1.29750000e+02 -1.73205081e+02  7.11512474e+01\n",
      "   0.00000000e+00  0.00000000e+00  0.00000000e+00  0.00000000e+00\n",
      "   0.00000000e+00  0.00000000e+00  0.00000000e+00  0.00000000e+00\n",
      "   0.00000000e+00  0.00000000e+00  0.00000000e+00  0.00000000e+00]\n",
      " [ 1.83711731e+01 -1.73205081e+02  4.48750000e+02 -4.49132497e+02\n",
      "   1.53704261e+02  0.00000000e+00  0.00000000e+00  0.00000000e+00\n",
      "   0.00000000e+00  0.00000000e+00  0.00000000e+00  0.00000000e+00\n",
      "   0.00000000e+00  0.00000000e+00  0.00000000e+00  0.00000000e+00]\n",
      " [ 0.00000000e+00  7.11512474e+01 -4.49132497e+02  9.63750000e+02\n",
      "  -8.53097884e+02  2.66223590e+02  0.00000000e+00  0.00000000e+00\n",
      "   0.00000000e+00  0.00000000e+00  0.00000000e+00  0.00000000e+00\n",
      "   0.00000000e+00  0.00000000e+00  0.00000000e+00  0.00000000e+00]\n",
      " [ 0.00000000e+00  0.00000000e+00  1.53704261e+02 -8.53097884e+02\n",
      "   1.67475000e+03 -1.38507762e+03  4.08732798e+02  0.00000000e+00\n",
      "   0.00000000e+00  0.00000000e+00  0.00000000e+00  0.00000000e+00\n",
      "   0.00000000e+00  0.00000000e+00  0.00000000e+00  0.00000000e+00]\n",
      " [ 0.00000000e+00  0.00000000e+00  0.00000000e+00  2.66223590e+02\n",
      "  -1.38507762e+03  2.58175000e+03 -2.04506430e+03  5.81237903e+02\n",
      "   0.00000000e+00  0.00000000e+00  0.00000000e+00  0.00000000e+00\n",
      "   0.00000000e+00  0.00000000e+00  0.00000000e+00  0.00000000e+00]\n",
      " [ 0.00000000e+00  0.00000000e+00  0.00000000e+00  0.00000000e+00\n",
      "   4.08732798e+02 -2.04506430e+03  3.68475000e+03 -2.83305489e+03\n",
      "   7.83741029e+02  0.00000000e+00  0.00000000e+00  0.00000000e+00\n",
      "   0.00000000e+00  0.00000000e+00  0.00000000e+00  0.00000000e+00]\n",
      " [ 0.00000000e+00  0.00000000e+00  0.00000000e+00  0.00000000e+00\n",
      "   0.00000000e+00  5.81237903e+02 -2.83305489e+03  4.98375000e+03\n",
      "  -3.74904788e+03  1.01624308e+03  0.00000000e+00  0.00000000e+00\n",
      "   0.00000000e+00  0.00000000e+00  0.00000000e+00  0.00000000e+00]\n",
      " [ 0.00000000e+00  0.00000000e+00  0.00000000e+00  0.00000000e+00\n",
      "   0.00000000e+00  0.00000000e+00  7.83741029e+02 -3.74904788e+03\n",
      "   6.47875000e+03 -4.79304246e+03  1.27874450e+03  0.00000000e+00\n",
      "   0.00000000e+00  0.00000000e+00  0.00000000e+00  0.00000000e+00]\n",
      " [ 0.00000000e+00  0.00000000e+00  0.00000000e+00  0.00000000e+00\n",
      "   0.00000000e+00  0.00000000e+00  0.00000000e+00  1.01624308e+03\n",
      "  -4.79304246e+03  8.16975000e+03 -5.96503814e+03  1.57124553e+03\n",
      "   0.00000000e+00  0.00000000e+00  0.00000000e+00  0.00000000e+00]\n",
      " [ 0.00000000e+00  0.00000000e+00  0.00000000e+00  0.00000000e+00\n",
      "   0.00000000e+00  0.00000000e+00  0.00000000e+00  0.00000000e+00\n",
      "   1.27874450e+03 -5.96503814e+03  1.00567500e+04 -7.26503462e+03\n",
      "   1.89374629e+03  0.00000000e+00  0.00000000e+00  0.00000000e+00]\n",
      " [ 0.00000000e+00  0.00000000e+00  0.00000000e+00  0.00000000e+00\n",
      "   0.00000000e+00  0.00000000e+00  0.00000000e+00  0.00000000e+00\n",
      "   0.00000000e+00  1.57124553e+03 -7.26503462e+03  1.21397500e+04\n",
      "  -8.69303169e+03  2.24624687e+03  0.00000000e+00  0.00000000e+00]\n",
      " [ 0.00000000e+00  0.00000000e+00  0.00000000e+00  0.00000000e+00\n",
      "   0.00000000e+00  0.00000000e+00  0.00000000e+00  0.00000000e+00\n",
      "   0.00000000e+00  0.00000000e+00  1.89374629e+03 -8.69303169e+03\n",
      "   1.44187500e+04 -1.02490292e+04  2.62874733e+03  0.00000000e+00]\n",
      " [ 0.00000000e+00  0.00000000e+00  0.00000000e+00  0.00000000e+00\n",
      "   0.00000000e+00  0.00000000e+00  0.00000000e+00  0.00000000e+00\n",
      "   0.00000000e+00  0.00000000e+00  0.00000000e+00  2.24624687e+03\n",
      "  -1.02490292e+04  1.68937500e+04 -1.19330271e+04  3.04124769e+03]\n",
      " [ 0.00000000e+00  0.00000000e+00  0.00000000e+00  0.00000000e+00\n",
      "   0.00000000e+00  0.00000000e+00  0.00000000e+00  0.00000000e+00\n",
      "   0.00000000e+00  0.00000000e+00  0.00000000e+00  0.00000000e+00\n",
      "   2.62874733e+03 -1.19330271e+04  1.95647500e+04 -1.37450253e+04]\n",
      " [ 0.00000000e+00  0.00000000e+00  0.00000000e+00  0.00000000e+00\n",
      "   0.00000000e+00  0.00000000e+00  0.00000000e+00  0.00000000e+00\n",
      "   0.00000000e+00  0.00000000e+00  0.00000000e+00  0.00000000e+00\n",
      "   0.00000000e+00  3.04124769e+03 -1.37450253e+04  2.01997500e+04]]\n",
      "\n",
      "The zeromode is:\n",
      "[[-8.94496689e-01]\n",
      " [-3.79428482e-01]\n",
      " [-1.97092470e-01]\n",
      " [-1.07893262e-01]\n",
      " [-6.05000226e-02]\n",
      " [-3.43851351e-02]\n",
      " [-1.97029175e-02]\n",
      " [-1.13437308e-02]\n",
      " [-6.54368643e-03]\n",
      " [-3.77053327e-03]\n",
      " [-2.16119994e-03]\n",
      " [-1.22419119e-03]\n",
      " [-6.77395680e-04]\n",
      " [-3.57933036e-04]\n",
      " [-1.71349925e-04]\n",
      " [-6.27060250e-05]]\n",
      "\n"
     ]
    },
    {
     "name": "stderr",
     "output_type": "stream",
     "text": [
      "C:\\Users\\Owner\\AppData\\Local\\Temp\\ipykernel_26752\\795971042.py:108: DeprecationWarning: Conversion of an array with ndim > 0 to a scalar is deprecated, and will error in future. Ensure you extract a single element from your array before performing this operation. (Deprecated NumPy 1.25.)\n",
      "  eigenvector[2*i] = eigenvector_old[i]\n"
     ]
    },
    {
     "name": "stdout",
     "output_type": "stream",
     "text": [
      "The value of <x^2> is:\n",
      "0.996520371963445\n",
      "\n"
     ]
    }
   ],
   "source": [
    "## Get the matrix and zeromode\n",
    "nmax = 31\n",
    "a = 1\n",
    "gamma = 1\n",
    "dx = 0.01\n",
    "c = 0\n",
    "L = 1/2\n",
    "x = np.linspace(-4, 4, int(8/dx))\n",
    "\n",
    "# Matrix and zeromode\n",
    "matrix, zeromode_classic = get_zeromode(nmax, a, c, L, gamma)\n",
    "\n",
    "## Print the matrix and zeromode\n",
    "print('The matrix is:')\n",
    "print(matrix)\n",
    "print()\n",
    "\n",
    "# Print the zeromode\n",
    "print('The zeromode is:')\n",
    "print(zeromode_classic)\n",
    "print()\n",
    "\n",
    "## Compute the classical <x^2> value\n",
    "x, y = get_pdf(nmax, x, dx, L, shift = 0, zeromode_qpe = zeromode_classic, normalize = True, make_even = True)\n",
    "classical_expectation = compute_expectation_x_squared_simpson(x, y, 2)\n",
    "\n",
    "# Print the classical expectation value\n",
    "print('The value of <x^2> is:')\n",
    "print(classical_expectation)\n",
    "print()"
   ]
  },
  {
   "cell_type": "markdown",
   "id": "592dc5f9-c9a9-4e53-a595-754cd507a2c3",
   "metadata": {},
   "source": [
    "### Run VQE for multiple ansatz depths (fix at 50_000 optimization iterations)\n",
    "\n",
    "### Note: we consider 6 independent VQE runs at each ansatz depth"
   ]
  },
  {
   "cell_type": "code",
   "execution_count": 22,
   "id": "af873cfa-8041-496d-9173-d417bc9ee635",
   "metadata": {},
   "outputs": [
    {
     "name": "stderr",
     "output_type": "stream",
     "text": [
      "For Windows, using only current process. Multiple core use not supported.\n"
     ]
    },
    {
     "name": "stdout",
     "output_type": "stream",
     "text": [
      "\n",
      "Running VQE for optimizer-ansatz pair: P_BFGS-RealAmplitudes\n"
     ]
    },
    {
     "name": "stderr",
     "output_type": "stream",
     "text": [
      "For Windows, using only current process. Multiple core use not supported.\n",
      "For Windows, using only current process. Multiple core use not supported.\n",
      "For Windows, using only current process. Multiple core use not supported.\n",
      "For Windows, using only current process. Multiple core use not supported.\n",
      "For Windows, using only current process. Multiple core use not supported.\n",
      "For Windows, using only current process. Multiple core use not supported.\n"
     ]
    },
    {
     "name": "stdout",
     "output_type": "stream",
     "text": [
      "P_BFGS-RealAmplitudes - Depth 1: Best fidelity = [[0.99869519]], Function calls = 2466,             Best zeromode: [[ 9.02920421e-01]\n",
      " [ 3.73568851e-01]\n",
      " [ 1.84870251e-01]\n",
      " [ 9.28299877e-02]\n",
      " [ 4.45524259e-02]\n",
      " [ 1.88014830e-02]\n",
      " [ 6.75720753e-03]\n",
      " [ 1.59261470e-03]\n",
      " [ 1.39618818e-06]\n",
      " [ 5.72884199e-07]\n",
      " [ 3.16441034e-07]\n",
      " [ 1.82175270e-07]\n",
      " [ 1.52926527e-07]\n",
      " [ 1.61131877e-07]\n",
      " [-5.96467102e-07]\n",
      " [-7.77468027e-07]]\n"
     ]
    },
    {
     "name": "stderr",
     "output_type": "stream",
     "text": [
      "For Windows, using only current process. Multiple core use not supported.\n",
      "For Windows, using only current process. Multiple core use not supported.\n",
      "For Windows, using only current process. Multiple core use not supported.\n",
      "For Windows, using only current process. Multiple core use not supported.\n",
      "For Windows, using only current process. Multiple core use not supported.\n",
      "For Windows, using only current process. Multiple core use not supported.\n"
     ]
    },
    {
     "name": "stdout",
     "output_type": "stream",
     "text": [
      "P_BFGS-RealAmplitudes - Depth 2: Best fidelity = [[0.99994494]], Function calls = 7566,             Best zeromode: [[-8.96118512e-01]\n",
      " [-3.78353244e-01]\n",
      " [-1.94954665e-01]\n",
      " [-1.05293865e-01]\n",
      " [-5.77428609e-02]\n",
      " [-3.16305329e-02]\n",
      " [-1.70458867e-02]\n",
      " [-8.85308161e-03]\n",
      " [-4.28389071e-03]\n",
      " [-1.80728176e-03]\n",
      " [-8.24396355e-04]\n",
      " [-4.92574301e-04]\n",
      " [-2.75624822e-04]\n",
      " [-1.51048043e-04]\n",
      " [-8.26009955e-05]\n",
      " [-4.16054427e-05]]\n"
     ]
    },
    {
     "name": "stderr",
     "output_type": "stream",
     "text": [
      "For Windows, using only current process. Multiple core use not supported.\n",
      "For Windows, using only current process. Multiple core use not supported.\n",
      "For Windows, using only current process. Multiple core use not supported.\n",
      "For Windows, using only current process. Multiple core use not supported.\n",
      "For Windows, using only current process. Multiple core use not supported.\n",
      "For Windows, using only current process. Multiple core use not supported.\n"
     ]
    },
    {
     "name": "stdout",
     "output_type": "stream",
     "text": [
      "P_BFGS-RealAmplitudes - Depth 3: Best fidelity = [[0.99998326]], Function calls = 11254,             Best zeromode: [[-8.95416282e-01]\n",
      " [-3.78866680e-01]\n",
      " [-1.95835618e-01]\n",
      " [-1.06371408e-01]\n",
      " [-5.89169126e-02]\n",
      " [-3.28378040e-02]\n",
      " [-1.82647224e-02]\n",
      " [-1.00107786e-02]\n",
      " [-5.34004927e-03]\n",
      " [-2.74639656e-03]\n",
      " [-1.64931762e-03]\n",
      " [-9.44315044e-04]\n",
      " [-4.28596965e-04]\n",
      " [-1.96516983e-04]\n",
      " [-9.99972470e-05]\n",
      " [-1.12037026e-04]]\n"
     ]
    },
    {
     "name": "stderr",
     "output_type": "stream",
     "text": [
      "For Windows, using only current process. Multiple core use not supported.\n",
      "For Windows, using only current process. Multiple core use not supported.\n",
      "For Windows, using only current process. Multiple core use not supported.\n",
      "For Windows, using only current process. Multiple core use not supported.\n",
      "For Windows, using only current process. Multiple core use not supported.\n",
      "For Windows, using only current process. Multiple core use not supported.\n"
     ]
    },
    {
     "name": "stdout",
     "output_type": "stream",
     "text": [
      "P_BFGS-RealAmplitudes - Depth 4: Best fidelity = [[0.99999951]], Function calls = 50001,             Best zeromode: [[8.94506498e-01]\n",
      " [3.79421005e-01]\n",
      " [1.97066032e-01]\n",
      " [1.07859658e-01]\n",
      " [6.04780155e-02]\n",
      " [3.43832794e-02]\n",
      " [1.97368258e-02]\n",
      " [1.14184035e-02]\n",
      " [6.65359995e-03]\n",
      " [3.91715912e-03]\n",
      " [2.38542659e-03]\n",
      " [1.53123753e-03]\n",
      " [1.01771719e-03]\n",
      " [6.97849383e-04]\n",
      " [4.11987583e-04]\n",
      " [1.84412188e-04]]\n"
     ]
    },
    {
     "name": "stderr",
     "output_type": "stream",
     "text": [
      "For Windows, using only current process. Multiple core use not supported.\n",
      "For Windows, using only current process. Multiple core use not supported.\n",
      "For Windows, using only current process. Multiple core use not supported.\n",
      "For Windows, using only current process. Multiple core use not supported.\n",
      "For Windows, using only current process. Multiple core use not supported.\n",
      "For Windows, using only current process. Multiple core use not supported.\n"
     ]
    },
    {
     "name": "stdout",
     "output_type": "stream",
     "text": [
      "P_BFGS-RealAmplitudes - Depth 5: Best fidelity = [[0.99999988]], Function calls = 50025,             Best zeromode: [[-8.94580090e-01]\n",
      " [-3.79365994e-01]\n",
      " [-1.96986750e-01]\n",
      " [-1.07768033e-01]\n",
      " [-6.03712434e-02]\n",
      " [-3.42627284e-02]\n",
      " [-1.95899501e-02]\n",
      " [-1.12405307e-02]\n",
      " [-6.44710071e-03]\n",
      " [-3.68028172e-03]\n",
      " [-2.08221913e-03]\n",
      " [-1.17406799e-03]\n",
      " [-6.61766927e-04]\n",
      " [-3.76498200e-04]\n",
      " [-1.81753831e-04]\n",
      " [-4.96037674e-05]]\n"
     ]
    },
    {
     "name": "stderr",
     "output_type": "stream",
     "text": [
      "For Windows, using only current process. Multiple core use not supported.\n",
      "For Windows, using only current process. Multiple core use not supported.\n",
      "For Windows, using only current process. Multiple core use not supported.\n",
      "For Windows, using only current process. Multiple core use not supported.\n",
      "For Windows, using only current process. Multiple core use not supported.\n",
      "For Windows, using only current process. Multiple core use not supported.\n"
     ]
    },
    {
     "name": "stdout",
     "output_type": "stream",
     "text": [
      "P_BFGS-RealAmplitudes - Depth 6: Best fidelity = [[1.]], Function calls = 34075,             Best zeromode: [[-8.94489783e-01]\n",
      " [-3.79433776e-01]\n",
      " [-1.97102191e-01]\n",
      " [-1.07903811e-01]\n",
      " [-6.05098473e-02]\n",
      " [-3.43934320e-02]\n",
      " [-1.97094742e-02]\n",
      " [-1.13488658e-02]\n",
      " [-6.54772581e-03]\n",
      " [-3.77372883e-03]\n",
      " [-2.16370090e-03]\n",
      " [-1.22615250e-03]\n",
      " [-6.78888320e-04]\n",
      " [-3.58989306e-04]\n",
      " [-1.71988365e-04]\n",
      " [-6.29871380e-05]]\n",
      "\n",
      "Running VQE for optimizer-ansatz pair: P_BFGS-TwoLocal\n"
     ]
    },
    {
     "name": "stderr",
     "output_type": "stream",
     "text": [
      "For Windows, using only current process. Multiple core use not supported.\n",
      "For Windows, using only current process. Multiple core use not supported.\n",
      "For Windows, using only current process. Multiple core use not supported.\n",
      "For Windows, using only current process. Multiple core use not supported.\n",
      "For Windows, using only current process. Multiple core use not supported.\n",
      "For Windows, using only current process. Multiple core use not supported.\n"
     ]
    },
    {
     "name": "stdout",
     "output_type": "stream",
     "text": [
      "P_BFGS-TwoLocal - Depth 1: Best fidelity = [[0.99869556]], Function calls = 1872,             Best zeromode: [[-9.02918180e-01]\n",
      " [-3.73571269e-01]\n",
      " [-1.84874238e-01]\n",
      " [-9.28330547e-02]\n",
      " [-4.45543824e-02]\n",
      " [-1.88021908e-02]\n",
      " [-6.75667264e-03]\n",
      " [-1.59373115e-03]\n",
      " [-2.43411538e-06]\n",
      " [-1.00221792e-06]\n",
      " [-5.29651585e-07]\n",
      " [-2.89731935e-07]\n",
      " [-2.06010431e-07]\n",
      " [-1.85576437e-07]\n",
      " [ 6.02294824e-07]\n",
      " [ 7.92504305e-07]]\n"
     ]
    },
    {
     "name": "stderr",
     "output_type": "stream",
     "text": [
      "For Windows, using only current process. Multiple core use not supported.\n",
      "For Windows, using only current process. Multiple core use not supported.\n",
      "For Windows, using only current process. Multiple core use not supported.\n",
      "For Windows, using only current process. Multiple core use not supported.\n",
      "For Windows, using only current process. Multiple core use not supported.\n",
      "For Windows, using only current process. Multiple core use not supported.\n"
     ]
    },
    {
     "name": "stdout",
     "output_type": "stream",
     "text": [
      "P_BFGS-TwoLocal - Depth 2: Best fidelity = [[0.99995058]], Function calls = 16848,             Best zeromode: [[-8.96044230e-01]\n",
      " [-3.78398118e-01]\n",
      " [-1.95044856e-01]\n",
      " [-1.05413386e-01]\n",
      " [-5.78917944e-02]\n",
      " [-3.18019249e-02]\n",
      " [-1.72298915e-02]\n",
      " [-9.02545610e-03]\n",
      " [-4.40543053e-03]\n",
      " [-1.86872444e-03]\n",
      " [-8.40430769e-04]\n",
      " [-5.00959678e-04]\n",
      " [-2.86886642e-04]\n",
      " [-1.57107250e-04]\n",
      " [-8.70259367e-05]\n",
      " [-4.35387265e-05]]\n"
     ]
    },
    {
     "name": "stderr",
     "output_type": "stream",
     "text": [
      "For Windows, using only current process. Multiple core use not supported.\n",
      "For Windows, using only current process. Multiple core use not supported.\n",
      "For Windows, using only current process. Multiple core use not supported.\n",
      "For Windows, using only current process. Multiple core use not supported.\n",
      "For Windows, using only current process. Multiple core use not supported.\n",
      "For Windows, using only current process. Multiple core use not supported.\n"
     ]
    },
    {
     "name": "stdout",
     "output_type": "stream",
     "text": [
      "P_BFGS-TwoLocal - Depth 3: Best fidelity = [[0.99999938]], Function calls = 49164,             Best zeromode: [[-8.94429672e-01]\n",
      " [-3.79463400e-01]\n",
      " [-1.97163578e-01]\n",
      " [-1.07989740e-01]\n",
      " [-6.06244543e-02]\n",
      " [-3.45348395e-02]\n",
      " [-1.98732484e-02]\n",
      " [-1.15359267e-02]\n",
      " [-6.76089819e-03]\n",
      " [-4.01642883e-03]\n",
      " [-2.46340309e-03]\n",
      " [-1.57402118e-03]\n",
      " [-9.80382942e-04]\n",
      " [-5.80859982e-04]\n",
      " [-3.43967300e-04]\n",
      " [-1.50901103e-04]]\n"
     ]
    },
    {
     "name": "stderr",
     "output_type": "stream",
     "text": [
      "For Windows, using only current process. Multiple core use not supported.\n",
      "For Windows, using only current process. Multiple core use not supported.\n",
      "For Windows, using only current process. Multiple core use not supported.\n",
      "For Windows, using only current process. Multiple core use not supported.\n",
      "For Windows, using only current process. Multiple core use not supported.\n",
      "For Windows, using only current process. Multiple core use not supported.\n"
     ]
    },
    {
     "name": "stdout",
     "output_type": "stream",
     "text": [
      "P_BFGS-TwoLocal - Depth 4: Best fidelity = [[0.99999984]], Function calls = 30828,             Best zeromode: [[8.94556129e-01]\n",
      " [3.79394130e-01]\n",
      " [1.97017975e-01]\n",
      " [1.07795252e-01]\n",
      " [6.03856471e-02]\n",
      " [3.42626902e-02]\n",
      " [1.95803130e-02]\n",
      " [1.12344772e-02]\n",
      " [6.47130798e-03]\n",
      " [3.74520688e-03]\n",
      " [2.20119890e-03]\n",
      " [1.33040684e-03]\n",
      " [8.23488650e-04]\n",
      " [5.20906097e-04]\n",
      " [2.93299509e-04]\n",
      " [1.10253618e-04]]\n"
     ]
    },
    {
     "name": "stderr",
     "output_type": "stream",
     "text": [
      "For Windows, using only current process. Multiple core use not supported.\n",
      "For Windows, using only current process. Multiple core use not supported.\n",
      "For Windows, using only current process. Multiple core use not supported.\n",
      "For Windows, using only current process. Multiple core use not supported.\n",
      "For Windows, using only current process. Multiple core use not supported.\n",
      "For Windows, using only current process. Multiple core use not supported.\n"
     ]
    },
    {
     "name": "stdout",
     "output_type": "stream",
     "text": [
      "P_BFGS-TwoLocal - Depth 5: Best fidelity = [[1.]], Function calls = 11350,             Best zeromode: [[8.94504737e-01]\n",
      " [3.79423132e-01]\n",
      " [1.97081719e-01]\n",
      " [1.07880448e-01]\n",
      " [6.04869198e-02]\n",
      " [3.43726679e-02]\n",
      " [1.96915661e-02]\n",
      " [1.13336885e-02]\n",
      " [6.53491383e-03]\n",
      " [3.76306599e-03]\n",
      " [2.15506643e-03]\n",
      " [1.21932445e-03]\n",
      " [6.73742143e-04]\n",
      " [3.55397785e-04]\n",
      " [1.69826121e-04]\n",
      " [6.20478543e-05]]\n"
     ]
    },
    {
     "name": "stderr",
     "output_type": "stream",
     "text": [
      "For Windows, using only current process. Multiple core use not supported.\n",
      "For Windows, using only current process. Multiple core use not supported.\n",
      "For Windows, using only current process. Multiple core use not supported.\n",
      "For Windows, using only current process. Multiple core use not supported.\n",
      "For Windows, using only current process. Multiple core use not supported.\n",
      "For Windows, using only current process. Multiple core use not supported.\n"
     ]
    },
    {
     "name": "stdout",
     "output_type": "stream",
     "text": [
      "P_BFGS-TwoLocal - Depth 6: Best fidelity = [[1.]], Function calls = 11426,             Best zeromode: [[-8.94497722e-01]\n",
      " [-3.79427272e-01]\n",
      " [-1.97090987e-01]\n",
      " [-1.07892089e-01]\n",
      " [-6.04993826e-02]\n",
      " [-3.43850242e-02]\n",
      " [-1.97029841e-02]\n",
      " [-1.13437258e-02]\n",
      " [-6.54350321e-03]\n",
      " [-3.77017140e-03]\n",
      " [-2.16070510e-03]\n",
      " [-1.22367201e-03]\n",
      " [-6.76917800e-04]\n",
      " [-3.57570000e-04]\n",
      " [-1.71134248e-04]\n",
      " [-6.26104561e-05]]\n",
      "\n",
      "Running VQE for optimizer-ansatz pair: P_BFGS-EfficientSU2\n"
     ]
    },
    {
     "name": "stderr",
     "output_type": "stream",
     "text": [
      "For Windows, using only current process. Multiple core use not supported.\n",
      "For Windows, using only current process. Multiple core use not supported.\n",
      "For Windows, using only current process. Multiple core use not supported.\n",
      "For Windows, using only current process. Multiple core use not supported.\n",
      "For Windows, using only current process. Multiple core use not supported.\n",
      "For Windows, using only current process. Multiple core use not supported.\n"
     ]
    },
    {
     "name": "stdout",
     "output_type": "stream",
     "text": [
      "P_BFGS-EfficientSU2 - Depth 1: Best fidelity = [[0.21967369]], Function calls = 675,             Best zeromode: [[ 0.42446478]\n",
      " [ 0.2404664 ]\n",
      " [ 0.04160774]\n",
      " [ 0.03092915]\n",
      " [ 0.03758086]\n",
      " [ 0.05278157]\n",
      " [-0.36023098]\n",
      " [-0.58903999]\n",
      " [-0.46969369]\n",
      " [-0.23480278]\n",
      " [-0.03790222]\n",
      " [-0.0190923 ]\n",
      " [-0.00674957]\n",
      " [-0.00399367]\n",
      " [-0.02723009]\n",
      " [-0.00603922]]\n"
     ]
    },
    {
     "name": "stderr",
     "output_type": "stream",
     "text": [
      "For Windows, using only current process. Multiple core use not supported.\n",
      "For Windows, using only current process. Multiple core use not supported.\n",
      "For Windows, using only current process. Multiple core use not supported.\n",
      "For Windows, using only current process. Multiple core use not supported.\n",
      "For Windows, using only current process. Multiple core use not supported.\n",
      "For Windows, using only current process. Multiple core use not supported.\n"
     ]
    },
    {
     "name": "stdout",
     "output_type": "stream",
     "text": [
      "P_BFGS-EfficientSU2 - Depth 2: Best fidelity = [[0.97803092]], Function calls = 1248,             Best zeromode: [[ 9.37343104e-01]\n",
      " [ 3.25983496e-01]\n",
      " [ 1.18903220e-01]\n",
      " [ 3.13786741e-02]\n",
      " [ 2.96041281e-05]\n",
      " [ 1.28165794e-05]\n",
      " [-2.44521025e-04]\n",
      " [-8.44032712e-05]\n",
      " [-2.33430943e-05]\n",
      " [-8.11815004e-06]\n",
      " [-2.96400390e-06]\n",
      " [-7.82442972e-07]\n",
      " [-1.04441930e-05]\n",
      " [-3.55972991e-06]\n",
      " [-5.59795431e-06]\n",
      " [-2.04874728e-06]]\n"
     ]
    },
    {
     "name": "stderr",
     "output_type": "stream",
     "text": [
      "For Windows, using only current process. Multiple core use not supported.\n",
      "For Windows, using only current process. Multiple core use not supported.\n",
      "For Windows, using only current process. Multiple core use not supported.\n",
      "For Windows, using only current process. Multiple core use not supported.\n",
      "For Windows, using only current process. Multiple core use not supported.\n",
      "For Windows, using only current process. Multiple core use not supported.\n"
     ]
    },
    {
     "name": "stdout",
     "output_type": "stream",
     "text": [
      "P_BFGS-EfficientSU2 - Depth 3: Best fidelity = [[0.99998068]], Function calls = 31501,             Best zeromode: [[8.93945161e-01]\n",
      " [3.79674488e-01]\n",
      " [1.97674702e-01]\n",
      " [1.08697647e-01]\n",
      " [6.15862890e-02]\n",
      " [3.57343153e-02]\n",
      " [2.13685489e-02]\n",
      " [1.32766483e-02]\n",
      " [8.36037057e-03]\n",
      " [5.30774455e-03]\n",
      " [3.35299981e-03]\n",
      " [2.10424993e-03]\n",
      " [1.29353777e-03]\n",
      " [7.58096646e-04]\n",
      " [3.97886593e-04]\n",
      " [1.56121226e-04]]\n"
     ]
    },
    {
     "name": "stderr",
     "output_type": "stream",
     "text": [
      "For Windows, using only current process. Multiple core use not supported.\n",
      "For Windows, using only current process. Multiple core use not supported.\n",
      "For Windows, using only current process. Multiple core use not supported.\n",
      "For Windows, using only current process. Multiple core use not supported.\n",
      "For Windows, using only current process. Multiple core use not supported.\n",
      "For Windows, using only current process. Multiple core use not supported.\n"
     ]
    },
    {
     "name": "stdout",
     "output_type": "stream",
     "text": [
      "P_BFGS-EfficientSU2 - Depth 4: Best fidelity = [[0.99999994]], Function calls = 29421,             Best zeromode: [[-8.94447885e-01]\n",
      " [-3.79460343e-01]\n",
      " [-1.97154092e-01]\n",
      " [-1.07968098e-01]\n",
      " [-6.05814991e-02]\n",
      " [-3.44690160e-02]\n",
      " [-1.97870886e-02]\n",
      " [-1.14258318e-02]\n",
      " [-6.61759232e-03]\n",
      " [-3.83402437e-03]\n",
      " [-2.21351722e-03]\n",
      " [-1.26504828e-03]\n",
      " [-7.07395348e-04]\n",
      " [-3.78212353e-04]\n",
      " [-1.83434005e-04]\n",
      " [-6.79286276e-05]]\n"
     ]
    },
    {
     "name": "stderr",
     "output_type": "stream",
     "text": [
      "For Windows, using only current process. Multiple core use not supported.\n",
      "For Windows, using only current process. Multiple core use not supported.\n",
      "For Windows, using only current process. Multiple core use not supported.\n",
      "For Windows, using only current process. Multiple core use not supported.\n",
      "For Windows, using only current process. Multiple core use not supported.\n",
      "For Windows, using only current process. Multiple core use not supported.\n"
     ]
    },
    {
     "name": "stdout",
     "output_type": "stream",
     "text": [
      "P_BFGS-EfficientSU2 - Depth 5: Best fidelity = [[0.99999997]], Function calls = 33525,             Best zeromode: [[8.94456745e-01]\n",
      " [3.79456061e-01]\n",
      " [1.97143380e-01]\n",
      " [1.07952720e-01]\n",
      " [6.05655761e-02]\n",
      " [3.44532785e-02]\n",
      " [1.97669766e-02]\n",
      " [1.14010125e-02]\n",
      " [6.59236753e-03]\n",
      " [3.81037743e-03]\n",
      " [2.19241672e-03]\n",
      " [1.24754540e-03]\n",
      " [6.93878716e-04]\n",
      " [3.68652287e-04]\n",
      " [1.77487417e-04]\n",
      " [6.52777500e-05]]\n"
     ]
    },
    {
     "name": "stderr",
     "output_type": "stream",
     "text": [
      "For Windows, using only current process. Multiple core use not supported.\n",
      "For Windows, using only current process. Multiple core use not supported.\n",
      "For Windows, using only current process. Multiple core use not supported.\n",
      "For Windows, using only current process. Multiple core use not supported.\n",
      "For Windows, using only current process. Multiple core use not supported.\n"
     ]
    },
    {
     "name": "stdout",
     "output_type": "stream",
     "text": [
      "P_BFGS-EfficientSU2 - Depth 6: Best fidelity = [[1.]], Function calls = 9715,             Best zeromode: [[-8.94494039e-01]\n",
      " [-3.79430394e-01]\n",
      " [-1.97095900e-01]\n",
      " [-1.07897487e-01]\n",
      " [-6.05042550e-02]\n",
      " [-3.43890470e-02]\n",
      " [-1.97062875e-02]\n",
      " [-1.13464771e-02]\n",
      " [-6.54587242e-03]\n",
      " [-3.77220361e-03]\n",
      " [-2.16249136e-03]\n",
      " [-1.22513851e-03]\n",
      " [-6.78055423e-04]\n",
      " [-3.58344960e-04]\n",
      " [-1.71594367e-04]\n",
      " [-6.28081071e-05]]\n"
     ]
    }
   ],
   "source": [
    "## Get the optimizers\n",
    "maxiter = 50_000\n",
    "optimizer = P_BFGS(maxfun = maxiter)\n",
    "\n",
    "# Define parameters\n",
    "dimension = matrix.shape[0]\n",
    "num_qubits = int(np.log2(dimension))\n",
    "max_depth = 6\n",
    "\n",
    "# Compute \n",
    "zeromodes_N_16, metrics_N_16 = analyze_ansatz_performance(matrix, zeromode_classic, optimizer, num_qubits, max_depth)"
   ]
  },
  {
   "cell_type": "markdown",
   "id": "0f61252f-05a5-42d2-ac14-75448015f19f",
   "metadata": {},
   "source": [
    "### Print the results"
   ]
  },
  {
   "cell_type": "code",
   "execution_count": 25,
   "id": "c74e5d0f-2e12-451a-91e1-34f169760159",
   "metadata": {},
   "outputs": [
    {
     "name": "stdout",
     "output_type": "stream",
     "text": [
      "The best zeromodes are:\n",
      "{'P_BFGS-RealAmplitudes': {1: array([[ 9.02920421e-01],\n",
      "       [ 3.73568851e-01],\n",
      "       [ 1.84870251e-01],\n",
      "       [ 9.28299877e-02],\n",
      "       [ 4.45524259e-02],\n",
      "       [ 1.88014830e-02],\n",
      "       [ 6.75720753e-03],\n",
      "       [ 1.59261470e-03],\n",
      "       [ 1.39618818e-06],\n",
      "       [ 5.72884199e-07],\n",
      "       [ 3.16441034e-07],\n",
      "       [ 1.82175270e-07],\n",
      "       [ 1.52926527e-07],\n",
      "       [ 1.61131877e-07],\n",
      "       [-5.96467102e-07],\n",
      "       [-7.77468027e-07]]), 2: array([[-8.96118512e-01],\n",
      "       [-3.78353244e-01],\n",
      "       [-1.94954665e-01],\n",
      "       [-1.05293865e-01],\n",
      "       [-5.77428609e-02],\n",
      "       [-3.16305329e-02],\n",
      "       [-1.70458867e-02],\n",
      "       [-8.85308161e-03],\n",
      "       [-4.28389071e-03],\n",
      "       [-1.80728176e-03],\n",
      "       [-8.24396355e-04],\n",
      "       [-4.92574301e-04],\n",
      "       [-2.75624822e-04],\n",
      "       [-1.51048043e-04],\n",
      "       [-8.26009955e-05],\n",
      "       [-4.16054427e-05]]), 3: array([[-8.95416282e-01],\n",
      "       [-3.78866680e-01],\n",
      "       [-1.95835618e-01],\n",
      "       [-1.06371408e-01],\n",
      "       [-5.89169126e-02],\n",
      "       [-3.28378040e-02],\n",
      "       [-1.82647224e-02],\n",
      "       [-1.00107786e-02],\n",
      "       [-5.34004927e-03],\n",
      "       [-2.74639656e-03],\n",
      "       [-1.64931762e-03],\n",
      "       [-9.44315044e-04],\n",
      "       [-4.28596965e-04],\n",
      "       [-1.96516983e-04],\n",
      "       [-9.99972470e-05],\n",
      "       [-1.12037026e-04]]), 4: array([[8.94506498e-01],\n",
      "       [3.79421005e-01],\n",
      "       [1.97066032e-01],\n",
      "       [1.07859658e-01],\n",
      "       [6.04780155e-02],\n",
      "       [3.43832794e-02],\n",
      "       [1.97368258e-02],\n",
      "       [1.14184035e-02],\n",
      "       [6.65359995e-03],\n",
      "       [3.91715912e-03],\n",
      "       [2.38542659e-03],\n",
      "       [1.53123753e-03],\n",
      "       [1.01771719e-03],\n",
      "       [6.97849383e-04],\n",
      "       [4.11987583e-04],\n",
      "       [1.84412188e-04]]), 5: array([[-8.94580090e-01],\n",
      "       [-3.79365994e-01],\n",
      "       [-1.96986750e-01],\n",
      "       [-1.07768033e-01],\n",
      "       [-6.03712434e-02],\n",
      "       [-3.42627284e-02],\n",
      "       [-1.95899501e-02],\n",
      "       [-1.12405307e-02],\n",
      "       [-6.44710071e-03],\n",
      "       [-3.68028172e-03],\n",
      "       [-2.08221913e-03],\n",
      "       [-1.17406799e-03],\n",
      "       [-6.61766927e-04],\n",
      "       [-3.76498200e-04],\n",
      "       [-1.81753831e-04],\n",
      "       [-4.96037674e-05]]), 6: array([[-8.94489783e-01],\n",
      "       [-3.79433776e-01],\n",
      "       [-1.97102191e-01],\n",
      "       [-1.07903811e-01],\n",
      "       [-6.05098473e-02],\n",
      "       [-3.43934320e-02],\n",
      "       [-1.97094742e-02],\n",
      "       [-1.13488658e-02],\n",
      "       [-6.54772581e-03],\n",
      "       [-3.77372883e-03],\n",
      "       [-2.16370090e-03],\n",
      "       [-1.22615250e-03],\n",
      "       [-6.78888320e-04],\n",
      "       [-3.58989306e-04],\n",
      "       [-1.71988365e-04],\n",
      "       [-6.29871380e-05]])}, 'P_BFGS-TwoLocal': {1: array([[-9.02918180e-01],\n",
      "       [-3.73571269e-01],\n",
      "       [-1.84874238e-01],\n",
      "       [-9.28330547e-02],\n",
      "       [-4.45543824e-02],\n",
      "       [-1.88021908e-02],\n",
      "       [-6.75667264e-03],\n",
      "       [-1.59373115e-03],\n",
      "       [-2.43411538e-06],\n",
      "       [-1.00221792e-06],\n",
      "       [-5.29651585e-07],\n",
      "       [-2.89731935e-07],\n",
      "       [-2.06010431e-07],\n",
      "       [-1.85576437e-07],\n",
      "       [ 6.02294824e-07],\n",
      "       [ 7.92504305e-07]]), 2: array([[-8.96044230e-01],\n",
      "       [-3.78398118e-01],\n",
      "       [-1.95044856e-01],\n",
      "       [-1.05413386e-01],\n",
      "       [-5.78917944e-02],\n",
      "       [-3.18019249e-02],\n",
      "       [-1.72298915e-02],\n",
      "       [-9.02545610e-03],\n",
      "       [-4.40543053e-03],\n",
      "       [-1.86872444e-03],\n",
      "       [-8.40430769e-04],\n",
      "       [-5.00959678e-04],\n",
      "       [-2.86886642e-04],\n",
      "       [-1.57107250e-04],\n",
      "       [-8.70259367e-05],\n",
      "       [-4.35387265e-05]]), 3: array([[-8.94429672e-01],\n",
      "       [-3.79463400e-01],\n",
      "       [-1.97163578e-01],\n",
      "       [-1.07989740e-01],\n",
      "       [-6.06244543e-02],\n",
      "       [-3.45348395e-02],\n",
      "       [-1.98732484e-02],\n",
      "       [-1.15359267e-02],\n",
      "       [-6.76089819e-03],\n",
      "       [-4.01642883e-03],\n",
      "       [-2.46340309e-03],\n",
      "       [-1.57402118e-03],\n",
      "       [-9.80382942e-04],\n",
      "       [-5.80859982e-04],\n",
      "       [-3.43967300e-04],\n",
      "       [-1.50901103e-04]]), 4: array([[8.94556129e-01],\n",
      "       [3.79394130e-01],\n",
      "       [1.97017975e-01],\n",
      "       [1.07795252e-01],\n",
      "       [6.03856471e-02],\n",
      "       [3.42626902e-02],\n",
      "       [1.95803130e-02],\n",
      "       [1.12344772e-02],\n",
      "       [6.47130798e-03],\n",
      "       [3.74520688e-03],\n",
      "       [2.20119890e-03],\n",
      "       [1.33040684e-03],\n",
      "       [8.23488650e-04],\n",
      "       [5.20906097e-04],\n",
      "       [2.93299509e-04],\n",
      "       [1.10253618e-04]]), 5: array([[8.94504737e-01],\n",
      "       [3.79423132e-01],\n",
      "       [1.97081719e-01],\n",
      "       [1.07880448e-01],\n",
      "       [6.04869198e-02],\n",
      "       [3.43726679e-02],\n",
      "       [1.96915661e-02],\n",
      "       [1.13336885e-02],\n",
      "       [6.53491383e-03],\n",
      "       [3.76306599e-03],\n",
      "       [2.15506643e-03],\n",
      "       [1.21932445e-03],\n",
      "       [6.73742143e-04],\n",
      "       [3.55397785e-04],\n",
      "       [1.69826121e-04],\n",
      "       [6.20478543e-05]]), 6: array([[-8.94497722e-01],\n",
      "       [-3.79427272e-01],\n",
      "       [-1.97090987e-01],\n",
      "       [-1.07892089e-01],\n",
      "       [-6.04993826e-02],\n",
      "       [-3.43850242e-02],\n",
      "       [-1.97029841e-02],\n",
      "       [-1.13437258e-02],\n",
      "       [-6.54350321e-03],\n",
      "       [-3.77017140e-03],\n",
      "       [-2.16070510e-03],\n",
      "       [-1.22367201e-03],\n",
      "       [-6.76917800e-04],\n",
      "       [-3.57570000e-04],\n",
      "       [-1.71134248e-04],\n",
      "       [-6.26104561e-05]])}, 'P_BFGS-EfficientSU2': {1: array([[ 0.42446478],\n",
      "       [ 0.2404664 ],\n",
      "       [ 0.04160774],\n",
      "       [ 0.03092915],\n",
      "       [ 0.03758086],\n",
      "       [ 0.05278157],\n",
      "       [-0.36023098],\n",
      "       [-0.58903999],\n",
      "       [-0.46969369],\n",
      "       [-0.23480278],\n",
      "       [-0.03790222],\n",
      "       [-0.0190923 ],\n",
      "       [-0.00674957],\n",
      "       [-0.00399367],\n",
      "       [-0.02723009],\n",
      "       [-0.00603922]]), 2: array([[ 9.37343104e-01],\n",
      "       [ 3.25983496e-01],\n",
      "       [ 1.18903220e-01],\n",
      "       [ 3.13786741e-02],\n",
      "       [ 2.96041281e-05],\n",
      "       [ 1.28165794e-05],\n",
      "       [-2.44521025e-04],\n",
      "       [-8.44032712e-05],\n",
      "       [-2.33430943e-05],\n",
      "       [-8.11815004e-06],\n",
      "       [-2.96400390e-06],\n",
      "       [-7.82442972e-07],\n",
      "       [-1.04441930e-05],\n",
      "       [-3.55972991e-06],\n",
      "       [-5.59795431e-06],\n",
      "       [-2.04874728e-06]]), 3: array([[8.93945161e-01],\n",
      "       [3.79674488e-01],\n",
      "       [1.97674702e-01],\n",
      "       [1.08697647e-01],\n",
      "       [6.15862890e-02],\n",
      "       [3.57343153e-02],\n",
      "       [2.13685489e-02],\n",
      "       [1.32766483e-02],\n",
      "       [8.36037057e-03],\n",
      "       [5.30774455e-03],\n",
      "       [3.35299981e-03],\n",
      "       [2.10424993e-03],\n",
      "       [1.29353777e-03],\n",
      "       [7.58096646e-04],\n",
      "       [3.97886593e-04],\n",
      "       [1.56121226e-04]]), 4: array([[-8.94447885e-01],\n",
      "       [-3.79460343e-01],\n",
      "       [-1.97154092e-01],\n",
      "       [-1.07968098e-01],\n",
      "       [-6.05814991e-02],\n",
      "       [-3.44690160e-02],\n",
      "       [-1.97870886e-02],\n",
      "       [-1.14258318e-02],\n",
      "       [-6.61759232e-03],\n",
      "       [-3.83402437e-03],\n",
      "       [-2.21351722e-03],\n",
      "       [-1.26504828e-03],\n",
      "       [-7.07395348e-04],\n",
      "       [-3.78212353e-04],\n",
      "       [-1.83434005e-04],\n",
      "       [-6.79286276e-05]]), 5: array([[8.94456745e-01],\n",
      "       [3.79456061e-01],\n",
      "       [1.97143380e-01],\n",
      "       [1.07952720e-01],\n",
      "       [6.05655761e-02],\n",
      "       [3.44532785e-02],\n",
      "       [1.97669766e-02],\n",
      "       [1.14010125e-02],\n",
      "       [6.59236753e-03],\n",
      "       [3.81037743e-03],\n",
      "       [2.19241672e-03],\n",
      "       [1.24754540e-03],\n",
      "       [6.93878716e-04],\n",
      "       [3.68652287e-04],\n",
      "       [1.77487417e-04],\n",
      "       [6.52777500e-05]]), 6: array([[-8.94494039e-01],\n",
      "       [-3.79430394e-01],\n",
      "       [-1.97095900e-01],\n",
      "       [-1.07897487e-01],\n",
      "       [-6.05042550e-02],\n",
      "       [-3.43890470e-02],\n",
      "       [-1.97062875e-02],\n",
      "       [-1.13464771e-02],\n",
      "       [-6.54587242e-03],\n",
      "       [-3.77220361e-03],\n",
      "       [-2.16249136e-03],\n",
      "       [-1.22513851e-03],\n",
      "       [-6.78055423e-04],\n",
      "       [-3.58344960e-04],\n",
      "       [-1.71594367e-04],\n",
      "       [-6.28081071e-05]])}}\n",
      "\n",
      "The performance metrics are:\n",
      "{'P_BFGS-RealAmplitudes': {1: {'fidelity': array([[0.99869519]]), 'function_calls': 2466}, 2: {'fidelity': array([[0.99994494]]), 'function_calls': 7566}, 3: {'fidelity': array([[0.99998326]]), 'function_calls': 11254}, 4: {'fidelity': array([[0.99999951]]), 'function_calls': 50001}, 5: {'fidelity': array([[0.99999988]]), 'function_calls': 50025}, 6: {'fidelity': array([[1.]]), 'function_calls': 34075}}, 'P_BFGS-TwoLocal': {1: {'fidelity': array([[0.99869556]]), 'function_calls': 1872}, 2: {'fidelity': array([[0.99995058]]), 'function_calls': 16848}, 3: {'fidelity': array([[0.99999938]]), 'function_calls': 49164}, 4: {'fidelity': array([[0.99999984]]), 'function_calls': 30828}, 5: {'fidelity': array([[1.]]), 'function_calls': 11350}, 6: {'fidelity': array([[1.]]), 'function_calls': 11426}}, 'P_BFGS-EfficientSU2': {1: {'fidelity': array([[0.21967369]]), 'function_calls': 675}, 2: {'fidelity': array([[0.97803092]]), 'function_calls': 1248}, 3: {'fidelity': array([[0.99998068]]), 'function_calls': 31501}, 4: {'fidelity': array([[0.99999994]]), 'function_calls': 29421}, 5: {'fidelity': array([[0.99999997]]), 'function_calls': 33525}, 6: {'fidelity': array([[1.]]), 'function_calls': 9715}}}\n",
      "\n"
     ]
    }
   ],
   "source": [
    "# Print the results\n",
    "print('The best zeromodes are:')\n",
    "print(zeromodes_N_16)\n",
    "print()\n",
    "\n",
    "print('The performance metrics are:')\n",
    "print(metrics_N_16)\n",
    "print()"
   ]
  },
  {
   "cell_type": "markdown",
   "id": "921795c1-eaa3-410b-93e8-ef20eba26dd9",
   "metadata": {},
   "source": [
    "### Computing relative errors in <x^2>"
   ]
  },
  {
   "cell_type": "code",
   "execution_count": 28,
   "id": "1988fe80-5557-43ff-bc69-713d9dd99c67",
   "metadata": {},
   "outputs": [
    {
     "name": "stderr",
     "output_type": "stream",
     "text": [
      "C:\\Users\\Owner\\AppData\\Local\\Temp\\ipykernel_26752\\795971042.py:108: DeprecationWarning: Conversion of an array with ndim > 0 to a scalar is deprecated, and will error in future. Ensure you extract a single element from your array before performing this operation. (Deprecated NumPy 1.25.)\n",
      "  eigenvector[2*i] = eigenvector_old[i]\n"
     ]
    },
    {
     "name": "stdout",
     "output_type": "stream",
     "text": [
      "The errors for RealAmplitudes are:\n",
      "[0.15389594872887838, 0.04033047569940305, 0.02118097223352969, 0.005634602472894297, 0.001781923171440637, 0.00010669664181539861]\n",
      "\n",
      "The errors for TwoLocal are:\n",
      "[0.15387903029169145, 0.038408860053955864, 0.006745303154615376, 0.000812757892764334, 0.00019465265500145218, 1.134207382746479e-05]\n",
      "\n",
      "The errors for EfficientSU2 are:\n",
      "[50.85809962284226, 0.4072691342736743, 0.029694819112357124, 0.001483457455359662, 0.0010002596092744593, 5.0016590804608324e-05]\n",
      "\n"
     ]
    }
   ],
   "source": [
    "# Get the zeromodes\n",
    "zeromodes = [\n",
    "    zeromode\n",
    "    for depths in zeromodes_N_16.values()\n",
    "    for zeromode in depths.values()\n",
    "]\n",
    "\n",
    "# Initialize\n",
    "relative_errors = []\n",
    "\n",
    "# Compute \n",
    "for zeromode in zeromodes:\n",
    "    x, y = get_pdf(nmax, x, dx, L, shift = 0, zeromode_qpe = zeromode, normalize = True, make_even = True)\n",
    "    \n",
    "    # Ensure quantum_expectation is a scalar\n",
    "    quantum_expectation = compute_expectation_x_squared_simpson(x, y, 2)\n",
    "    if isinstance(quantum_expectation, np.ndarray):\n",
    "        quantum_expectation = quantum_expectation.item()  # Convert to scalar if necessary\n",
    "    \n",
    "    # Compute the relative error\n",
    "    relative_error = compute_errors(classical_expectation, quantum_expectation)\n",
    "    relative_errors.append(relative_error)\n",
    "\n",
    "# Get the relative errors for the individual optimizers\n",
    "errors_realamps = relative_errors[:6]\n",
    "errors_twolocal = relative_errors[6:12]\n",
    "errors_efficientsu2 = relative_errors[12:18]\n",
    "\n",
    "## Print the relative errors\n",
    "print('The errors for RealAmplitudes are:')\n",
    "print(errors_realamps)\n",
    "print()\n",
    "\n",
    "print('The errors for TwoLocal are:')\n",
    "print(errors_twolocal)\n",
    "print()\n",
    "\n",
    "print('The errors for EfficientSU2 are:')\n",
    "print(errors_efficientsu2)\n",
    "print()"
   ]
  },
  {
   "cell_type": "code",
   "execution_count": null,
   "id": "a9186f3d-0430-48b2-9a0e-c87d7372b43f",
   "metadata": {},
   "outputs": [],
   "source": []
  }
 ],
 "metadata": {
  "kernelspec": {
   "display_name": "Python 3 (ipykernel)",
   "language": "python",
   "name": "python3"
  },
  "language_info": {
   "codemirror_mode": {
    "name": "ipython",
    "version": 3
   },
   "file_extension": ".py",
   "mimetype": "text/x-python",
   "name": "python",
   "nbconvert_exporter": "python",
   "pygments_lexer": "ipython3",
   "version": "3.12.4"
  }
 },
 "nbformat": 4,
 "nbformat_minor": 5
}
