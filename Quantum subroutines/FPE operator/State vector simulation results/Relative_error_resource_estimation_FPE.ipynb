{
 "cells": [
  {
   "cell_type": "markdown",
   "id": "42020d18-e660-4116-934f-730af8171e69",
   "metadata": {},
   "source": [
    "## Importing relevant libraries"
   ]
  },
  {
   "cell_type": "code",
   "execution_count": 1,
   "id": "0889d319-db72-4ed6-b4d7-0eecedfb401b",
   "metadata": {},
   "outputs": [],
   "source": [
    "import numpy as np\n",
    "import scipy.linalg as la\n",
    "import scipy.spatial as spat\n",
    "from scipy.stats import unitary_group\n",
    "from scipy.stats import moment\n",
    "from scipy.stats import skew, kurtosis\n",
    "from scipy.optimize import curve_fit\n",
    "from scipy.linalg import norm\n",
    "import matplotlib.pyplot as plt\n",
    "import math\n",
    "from dataclasses import dataclass\n",
    "import time\n",
    "from datetime import datetime\n",
    "\n",
    "# Libraries for implementing the VQD algorithm\n",
    "from qiskit.circuit import QuantumCircuit, Parameter, ParameterVector, Gate\n",
    "from qiskit.primitives import Sampler, Estimator\n",
    "from qiskit_aer import AerSimulator\n",
    "from qiskit_algorithms.utils import algorithm_globals\n",
    "from qiskit_ibm_runtime import QiskitRuntimeService, Sampler, Session, Options\n",
    "from qiskit_ibm_runtime import Estimator as EstimatorNew\n",
    "from qiskit.quantum_info.operators import Operator\n",
    "from qiskit.quantum_info import SparsePauliOp\n",
    "from qiskit.circuit.library import RealAmplitudes, TwoLocal, EfficientSU2\n",
    "from qiskit_algorithms.optimizers import *\n",
    "from qiskit_algorithms.state_fidelities import ComputeUncompute\n",
    "\n",
    "from qiskit_algorithms.eigensolvers import EigensolverResult, VQD\n",
    "from qiskit_algorithms import NumPyMinimumEigensolver, VQE\n",
    "\n",
    "# Import classical optimizers\n",
    "from qiskit_algorithms.optimizers import SPSA, P_BFGS, COBYLA, IMFIL, SNOBFIT, NELDER_MEAD, SLSQP, NFT, ADAM, POWELL, GradientDescent, BOBYQA\n",
    "\n",
    "# Import Statevector and SparsePauliOp\n",
    "from qiskit.quantum_info import SparsePauliOp, Statevector\n",
    "\n",
    "# Import noise models\n",
    "from qiskit_aer.noise import (\n",
    "    NoiseModel,\n",
    "    QuantumError,\n",
    "    ReadoutError,\n",
    "    depolarizing_error,\n",
    "    pauli_error,\n",
    "    thermal_relaxation_error,\n",
    ")\n",
    "\n",
    "# Import a fake backend and Qiskit simulators and/or noise libraries\n",
    "from qiskit_aer import AerSimulator\n",
    "# from qiskit_aer.primitives import Estimator as AerEstimator \n",
    "# from qiskit_aer.noise import NoiseModel\n",
    "\n",
    "# Import the FakeManila backend\n",
    "from qiskit_ibm_runtime.fake_provider import FakeManilaV2, FakeMontrealV2, FakeGuadalupeV2, FakeManila"
   ]
  },
  {
   "cell_type": "markdown",
   "id": "992254e1-a81c-4a66-84c9-ac37b4a45495",
   "metadata": {},
   "source": [
    "## Constructing the FPE operator"
   ]
  },
  {
   "cell_type": "code",
   "execution_count": 3,
   "id": "101a6b41-26fc-4bc6-bd1f-9803cf61bc41",
   "metadata": {},
   "outputs": [],
   "source": [
    "## Classical implementation\n",
    "\"\"\"\n",
    "Purpose: \n",
    "    Find the analytical solution given the input parameters\n",
    "Input: \n",
    "    x: array representing the x coordinates over which the solution is to be found\n",
    "    a, Γ: parameters for the Ornstein-Uhlenbeck equation\n",
    "Output:\n",
    "    y: array of the value of the analytical solution over x\n",
    "\"\"\"\n",
    "\n",
    "def OrnsteinUhlenbeck(x, a = 1, gamma = 1):\n",
    "    y = np.sqrt(a/(2*np.pi*gamma)) * np.exp((-a * x ** 2)/(2*gamma))\n",
    "    \n",
    "    return y\n",
    "\n",
    "\"\"\"\n",
    "Purpose:\n",
    "    Calculate the weighted Hermite polynomials using recursive relations up to H_n\n",
    "Input:\n",
    "    n: the highest number of Hermite polynomials to be evaluated at\n",
    "    x: the value of x at which the weighted Hermite polynomials are to be evaluated\n",
    "Output:\n",
    "    Hermite: the value of the weighted Hermite polynomials\n",
    "Example: HermiteSeries(2, 4) -> [H_0(4), H_1(4), H_2(4)]\n",
    "\"\"\"\n",
    "\n",
    "def HermiteSeries(n, x):\n",
    "    Hermite = np.zeros((1, n+1))\n",
    "    Hermite[0][0] = 1.0 * np.exp(-x**2/2)\n",
    "    Hermite[0][1] = 2.0 * x *np.exp(-x**2/2)\n",
    "    \n",
    "    for ni in range(1, n):\n",
    "        Hermite[0][ni+1] = 2*x*Hermite[0][ni] - 2*ni*Hermite[0][ni-1]\n",
    "    \n",
    "    return Hermite\n",
    "\n",
    "\"\"\"\n",
    "Purpose:\n",
    "    Reconstruct the functions represented by the coefficients of weighted Hermite polynomials in spatial coordinates\n",
    "Input:\n",
    "    x: array containing the x values over which the function is to be evaluated\n",
    "    coefficients: the coefficients corresponding to the Hermite polynomials (should be zero-mode of the operator)\n",
    "    nmax: the highest order of weighted Hermite polynomials used\n",
    "    s: the scaling factor\n",
    "Output:\n",
    "    y: the reconstruction\n",
    "\"\"\"\n",
    "\n",
    "def project(x, coefficients, nmax, s):\n",
    "    \n",
    "    y = np.zeros(x.shape)\n",
    "    \n",
    "    for i in (range(len(x))):\n",
    "        x0 = s*x[i]\n",
    "        hermite_values = HermiteSeries(nmax, x0)\n",
    "        y[i] += np.dot(hermite_values, coefficients)\n",
    "        \n",
    "    return (x, y)\n",
    "\n",
    "\"\"\"\n",
    "Purpose:\n",
    "    Normalize the PDF so that the area under the curve is 1\n",
    "Input:\n",
    "    x, y: arrays representing the unnormalized\n",
    "Output:\n",
    "    (x, y): normalized PDF\n",
    "\"\"\"\n",
    "\n",
    "def normalize(x, y):\n",
    "    dx = x[1] - x[0]\n",
    "    sum = 0\n",
    "    \n",
    "    for i in range(len(x)):\n",
    "        sum = sum + (y[i] * dx)\n",
    "    \n",
    "    y = y/sum\n",
    "    \n",
    "    return (x, y)\n",
    "\n",
    "\"\"\"\n",
    "Purpose:\n",
    "    Calculate the RMS\n",
    "Input:\n",
    "    y_op, y: the y values generated by the operator and the analytical solution\n",
    "Output:\n",
    "    RMS\n",
    "\"\"\"\n",
    "\n",
    "def rms_diff(y_op, y):\n",
    "    return np.sqrt(np.sum((y_op-y)**2)/len(y))\n",
    "\n",
    "\"\"\"\n",
    "Purpose:\n",
    "    Find s given a and Γ such that the projection in Hermite space is just H_0\n",
    "Input:\n",
    "    a, Γ: parameters for Ornstein-Uhlenbeck\n",
    "Output:\n",
    "    s\n",
    "\"\"\"\n",
    "\n",
    "def special_s(a, gamma):\n",
    "    return np.sqrt(a/gamma)\n",
    "\n",
    "def euler_representation(z):\n",
    "    A = abs(z)\n",
    "    phase = math.atan(z.imag/z.real)\n",
    "    \n",
    "    return A, phase\n",
    "\n",
    "def generate_positive_semidefinite_matrix(eigenvalues):\n",
    "    ## Function to transform the FPE operator to the Hermite basis and return a finite truncated matrix for the ...\n",
    "    ## ... FPE operator\n",
    "    \n",
    "    n = len(eigenvalues)\n",
    "    s = np.diag(eigenvalues)\n",
    "    q, _ = la.qr(np.random.rand(n, n))\n",
    "    semidef = np.dot(np.transpose(q), s)\n",
    "    semidef = np.dot(semidef, q)\n",
    "    \n",
    "    return semidef\n",
    "\n",
    "def normalize_probability(y, dx):\n",
    "    ## Function to return a normalized PDF \n",
    "    \n",
    "    total = np.sum(y) * dx\n",
    "    y = y / total\n",
    "    \n",
    "    return y\n",
    "\n",
    "def perturbed_ornstein_uhlenbeck(x0, a = 1, gamma = 1, c = 0, shift = 0):\n",
    "    ## Function to compute the exact solution to the perturbed Ornstein-Uhlenbeck equation\n",
    "    \n",
    "    assert len(x0) > 1, \"Error: x0 should be a vector\"\n",
    "\n",
    "    x = x0 - shift\n",
    "    y = np.exp(-a*x**2 /(2*gamma) - c*x**4 /(4*gamma))\n",
    "    dx = x[2] - x[1]\n",
    "    \n",
    "    y = normalize_probability(y, dx)\n",
    "    \n",
    "    return y\n",
    "\n",
    "def special_L(a, gamma):\n",
    "    ## Function to compute the characteristic length scale\n",
    "    \n",
    "    return np.sqrt(a/gamma)\n",
    "\n",
    "def delta(N, n):\n",
    "    ## Function to implement the Kronecker delta function\n",
    "    \n",
    "    if N == n:\n",
    "        return 1\n",
    "    else:\n",
    "        return 0\n",
    "    \n",
    "def matrix_element(N, n, L):\n",
    "    # Function to compute the matrix elements of the position operator\n",
    "    \n",
    "    value = L/np.sqrt(2) * (np.sqrt(n) * delta(N, n-1) + np.sqrt(n+1) * delta(N, n+1))\n",
    "    \n",
    "    return value\n",
    "\n",
    "def create_position(nmax, L):\n",
    "    # Function to construct the position operator\n",
    "    \n",
    "    op = np.zeros((nmax + 1, nmax + 1))\n",
    "    \n",
    "    for N in range(nmax+1):\n",
    "        row = N\n",
    "        for n in range(nmax+1):\n",
    "            col = n\n",
    "            op[row, col] = matrix_element(N, n, L)\n",
    "            \n",
    "    return op\n",
    "\n",
    "def f(N,n):\n",
    "    return 0.5*( np.sqrt(n*(n-1))*delta(N,n-2) + delta(N,n) - np.sqrt((n+1)*(n+2))*delta(N,n+2))\n",
    "\n",
    "def g(N,n, L):\n",
    "    return (0.5 / L**2)*( np.sqrt(n*(n-1))*delta(N,n-2) - (2*n+1)*delta(N,n) + np.sqrt((n+1)*(n+2))*delta(N,n+2))\n",
    "\n",
    "def t(N, n, L):\n",
    "    val1 = np.sqrt(n*(n-1)*(n-2)*(n-3))*delta(N, n-4)\n",
    "    val2 = (2*n+2)*np.sqrt(n*(n-1))*delta(N, n-2)\n",
    "    val3 = (6*n+3)*delta(N, n)\n",
    "    val4 = -2*n*np.sqrt((n+1)*(n+2))*delta(N, n+2)\n",
    "    val5 = -1*np.sqrt((n+1)*(n+2)*(n+3)*(n+4))*delta(N, n+4)\n",
    "\n",
    "    return (L**2/4)*( val1 + val2 + val3 + val4 + val5 )\n",
    "\n",
    "def element_perturbed(N, n, L, a, c, gamma):\n",
    "    ## Function to compute the matrix elements of the finite truncated matrix for the FPE operator (in the Hermite basis)\n",
    "    \n",
    "    return -(a*f(N,n) + c*t(N, n, L) + gamma*g(N, n, L))\n",
    "\n",
    "def create_operator_perturbed(nmax, L, a, c, gamma):\n",
    "    ## Function to generate the FPE operator matrix in the Hermite basis\n",
    "    op = np.zeros((nmax+1, nmax+1))\n",
    "    \n",
    "    for N in range(nmax+1):\n",
    "        row = N\n",
    "        for n in range(nmax+1):\n",
    "            col = n\n",
    "            op[row, col] = element_perturbed(N, n, L, a, c, gamma)\n",
    "    \n",
    "    \"\"\"\n",
    "    if np.any(np.nan, op):\n",
    "        print(\"There's an nan in the operator\")\n",
    "    elif np.any(np.inf, op):\n",
    "        print(\"There is an inf in the operator\")\n",
    "    \"\"\"\n",
    "\n",
    "    return op\n",
    "\n",
    "def state_n(nmax, x0, L):\n",
    "    ## Function to compute the Hermite polynomials upto the order specified by nmax\n",
    "    \n",
    "    assert L > 0, \"Error (state_n): input L must be greater than or equal to 0\"\n",
    "\n",
    "    states = np.zeros(nmax + 1)\n",
    "    x = x0 / L\n",
    "\n",
    "    states[0] = np.sqrt(L / np.sqrt(1/np.pi))* 1.0 * np.exp(-x**2/2)\n",
    "\n",
    "    if nmax > 0:\n",
    "        states[1] = np.sqrt(L / np.sqrt(1/np.pi))* (1/np.sqrt(2)) * 2.0 * x * np.exp(-(x**2)/2)\n",
    "    \n",
    "    for ni in range(2, nmax + 1):\n",
    "        states[ni] = ((np.sqrt(2)*x) / np.sqrt(ni))*states[ni-1] - (ni-1)/np.sqrt((ni)*(ni-1))*states[ni-2]\n",
    "\n",
    "    return states\n",
    "\n",
    "def integrate_eigenvector(x0, y, nmax, L):\n",
    "    ## Function to compute the coefficients corresponding to the calculated Hermite polynomials by numerical integration\n",
    "    ## Note: here, we use the left-hand integration method\n",
    "    \n",
    "    dx = x0[2] - x0[1]\n",
    "    eigenvector = np.zeros(nmax + 1)\n",
    "\n",
    "    for i in range(len(x)):\n",
    "\n",
    "        states = state_n(nmax, x0[i], L)\n",
    "        states = states * y[i] * dx\n",
    "\n",
    "        eigenvector = eigenvector + states\n",
    "        \n",
    "    return {\"eigenvector\" : eigenvector, \"dx\" : dx, \"nmax\" : nmax, \"x0\" : x0, \"L\" : L}\n",
    "\n",
    "def make_operator_even(op):\n",
    "    op_new = np.zeros((op.shape[0]//2, op.shape[1]//2))\n",
    "    \n",
    "    for row in range(op_new.shape[0]):\n",
    "        for col in range(op_new.shape[1]):\n",
    "            op_new[row, col] = op[row*2, col * 2]\n",
    "    \n",
    "    return op_new\n",
    "\n",
    "def reconstruct_eigenvector(cache, normalize = True, only_even = False):\n",
    "    ## Function to reconstruct the PDF using the cache obtained previously\n",
    "    \n",
    "    eigenvector = cache[\"eigenvector\"]\n",
    "    nmax = cache[\"nmax\"]\n",
    "    x0 = cache[\"x0\"]\n",
    "    dx = cache[\"dx\"]\n",
    "    L = cache[\"L\"]\n",
    "    \n",
    "    if not only_even:\n",
    "        eigenvector = cache[\"eigenvector\"]\n",
    "    else:\n",
    "        eigenvector_old = cache[\"eigenvector\"]\n",
    "        eigenvector = np.zeros(nmax + 1)\n",
    "        \n",
    "        for i in range(len(eigenvector_old)):\n",
    "            eigenvector[2*i] = eigenvector_old[i]\n",
    "\n",
    "    y = np.zeros(len(x0))\n",
    "\n",
    "    for i in range(len(x0)):\n",
    "        states = state_n(nmax, x0[i], L)\n",
    "        y[i] += (np.dot(states, eigenvector))\n",
    "    if normalize:   \n",
    "        y = normalize_probability(y, dx)\n",
    "        \n",
    "    return (x0, y)\n",
    "\n",
    "def find_zeromode(op_nonhermitian, nmax, x0, dx, L, which = \"single\", only_even = False):\n",
    "    ## Function to compute the zeromode, its position, and the eigenvalue corresponding to the zeromode\n",
    "    \n",
    "    assert which == \"nonhermitian\" or which == \"single\", \"Error: currently only supports which = {\\\"nonhermitian\\\", \\\"single\\\"}\"\n",
    "    \n",
    "    if only_even:\n",
    "        op_processed = make_operator_even(op_nonhermitian)\n",
    "    else:\n",
    "        op_processed = op_nonhermitian\n",
    "        \n",
    "    if which == \"nonhermitian\":\n",
    "        op = op_processed\n",
    "    elif which == \"single\":\n",
    "        op = np.dot(np.transpose(op_processed), op_processed)\n",
    "\n",
    "    eigenvalues, eigenvectors = la.eig(op)\n",
    "\n",
    "    index = np.argmin(np.real(eigenvalues)**2)\n",
    "\n",
    "    min_eigenval = eigenvalues[index]\n",
    "    \n",
    "    zeromode = eigenvectors[:, index]\n",
    "\n",
    "    return {\"operator\" : op, \"which\" : which, \\\n",
    "            \"eigenvector\" : np.real(zeromode), \"index\" : index, \"eigenvalue\" : np.real(min_eigenval), \\\n",
    "            \"nmax\" : nmax, \"x0\" : x0, \"dx\" : dx, \"L\" : L, \"spectrum\" : eigenvalues, \"P\" : eigenvectors}\n",
    "\n",
    "def rms_diff(y0, y, sigdigits = 0):\n",
    "    ## Function to compute the RMS difference between the analytically computed PDF and the one ...\n",
    "    ## ... obtained using the FPE operator\n",
    "    \n",
    "    assert len(y0) == len(y), \"Error: the length of y0 and y should be the same\"\n",
    "    diff = np.sum((y0-y)**2)/len(y0)\n",
    "    \n",
    "    return np.sqrt(diff)\n",
    "\n",
    "def analyze_collapse(initial_state, P, index):\n",
    "    num_basis = P.shape[1]\n",
    "    coefficients = np.zeros((num_basis, ))\n",
    "\n",
    "    for i in range(num_basis):\n",
    "        basis = P[:, i]\n",
    "        basis = normalize_eigenvector(basis)\n",
    "\n",
    "        coefficients[i] = np.dot(basis, initial_state)\n",
    "\n",
    "    normalized_coefficients = normalize_eigenvector(coefficients)\n",
    "\n",
    "    reconstruction = np.zeros((P.shape[0], ))\n",
    "\n",
    "    for i in range(num_basis):\n",
    "        basis = P[:, i]\n",
    "        basis = normalize_eigenvector(basis)\n",
    "\n",
    "        added_vector = coefficients[i] * basis\n",
    "        reconstruction = reconstruction + added_vector\n",
    "\n",
    "    probability = normalized_coefficients ** 2\n",
    "    \n",
    "    probability_zeromode = probability[index]\n",
    "    assert np.sum(probability) - 1 < 0.00001, \"Error: unity normalization of probability is not observed\"\n",
    "\n",
    "    print(\"The initial_state is: \")\n",
    "    print(initial_state)\n",
    "    print()\n",
    "\n",
    "    print(\"The coefficient expansion is: \")\n",
    "    print(coefficients)\n",
    "    print()\n",
    "\n",
    "    print(\"The normalized coefficient expansion is: \")\n",
    "    print(normalized_coefficients)\n",
    "    print()\n",
    "\n",
    "    print(\"The reconstructed vector is: \")\n",
    "    print(reconstruction)\n",
    "    print()\n",
    "\n",
    "    print(\"The probability of collapsing into each eigenvector is: \")\n",
    "    print(probability)\n",
    "    print()\n",
    "\n",
    "    print(\"The probability of collapsing into the zeromode is: \")\n",
    "    print(probability_zeromode)\n",
    "    print()\n",
    "    \n",
    "    return probability_zeromode, probability\n",
    "\n",
    "def get_unitary(matrix, add_half = False):\n",
    "    \"\"\"\n",
    "    Purpose: given a matrix, returns the unitary, hermitian matrix to be diagonalized\n",
    "    Input: matrix -> the matrix to be diagonalized\n",
    "    Output: U -> the unitary matrix\n",
    "            nqubits -> the number of qubis needed to represent the basis of U\n",
    "            dimension -> the dimension of the original matrix\n",
    "    \"\"\"\n",
    "    assert matrix.ndim == 2, \"Error: Only a matrix maybe processed\"\n",
    "    assert matrix.shape[0] == matrix.shape[1], \"Error: Only a square matrix maybe processed\"\n",
    "\n",
    "    if np.any(np.transpose(matrix) != matrix):\n",
    "        matrix_T = np.transpose(matrix)\n",
    "        matrix = np.dot(matrix_T, matrix)\n",
    "\n",
    "    ## Finding the dimension of the matrix\n",
    "    dimension_hermitian = matrix.shape[0]\n",
    "\n",
    "    ## Finding the number of qubits required to represent the matrix\n",
    "    nqubits = int(np.ceil(np.log2(dimension_hermitian)))\n",
    "\n",
    "    ## Construct the relevant matrix\n",
    "    op_dim = 2 ** nqubits\n",
    "    op = np.eye(op_dim)\n",
    "    op[0:dimension_hermitian, 0:dimension_hermitian] = np.copy(matrix)\n",
    "\n",
    "    if add_half:\n",
    "        op = op + np.pi * np.eye(op.shape[0])\n",
    "\n",
    "    U = la.expm(1j*op)\n",
    "\n",
    "    # Get the dimensions of the unitary matrix\n",
    "    dimension = U.shape[0]\n",
    "\n",
    "    return U, nqubits, dimension\n",
    "\n",
    "def expect_value(zeromode, matrix):\n",
    "    \n",
    "    value = np.dot(matrix, zeromode)\n",
    "    expect = np.dot(np.transpose(zeromode), value)\n",
    "    \n",
    "    return expect"
   ]
  },
  {
   "cell_type": "markdown",
   "id": "c1e6dc40-ea28-4a08-aca9-73a02918bd59",
   "metadata": {},
   "source": [
    "## Helper functions"
   ]
  },
  {
   "cell_type": "code",
   "execution_count": 6,
   "id": "d3974ff0-21d7-421a-9f7b-8e3db04b5705",
   "metadata": {},
   "outputs": [],
   "source": [
    "def find_probability(eigenvector_raw):\n",
    "    \"\"\"\n",
    "    Purpose: Find the probability associated with each basis of an eigenvector\n",
    "    Input: eigenvector_raw -> Numpy array documenting the number of times each basis is detected within the eigenvector\n",
    "    Output: eigenvector_prob -> Numpy array documenting the probability of detecting each basis\n",
    "    \"\"\"\n",
    "    count_total = np.sum(eigenvector_raw)\n",
    "    eigenvector_prob = eigenvector_raw / count_total\n",
    "    \n",
    "    return eigenvector_prob\n",
    "\n",
    "def find_amplitude(eigenvector_prob):\n",
    "    \"\"\"\n",
    "    Purpose: Finding the probability amplitude of each basis using quantum mechanics\n",
    "    Input: eigenvector_prob -> Numpy array documenting the probability that each basis is measured\n",
    "    Output: eigenvector -> Numpy array representing the eigenvector\n",
    "    \"\"\"\n",
    "    eigenvector = np.sqrt(eigenvector_prob)\n",
    "    return eigenvector\n",
    "\n",
    "def normalize_eigenvector(vector):\n",
    "    \"\"\"\n",
    "    Purpose: Normalizes a vector such that its norm is 1\n",
    "    Input: vector -> The vector to be normalized\n",
    "    Output: vector -> The normalized vector\n",
    "    \"\"\"\n",
    "    L2 = np.sum(np.square(vector))\n",
    "    vector = vector / np.sqrt(L2)\n",
    "\n",
    "    return vector\n",
    "\n",
    "def make_operator_even(op):\n",
    "    op_new = np.zeros((op.shape[0]//2, op.shape[1]//2))\n",
    "\n",
    "    for row in range(op_new.shape[0]):\n",
    "        for col in range(op_new.shape[1]):\n",
    "            op_new[row, col] = op[row*2, col * 2]\n",
    "\n",
    "    return op_new\n",
    "\n",
    "def get_pdf(n, x, dx, L, shift, zeromode_qpe, normalize = True, make_even = False):\n",
    "    # Function to construct the ground state PDF using the VQSVD zeromode\n",
    "    \n",
    "    if not make_even:\n",
    "        eigenvector = zeromode_qpe\n",
    "    else:\n",
    "        eigenvector_old = zeromode_qpe\n",
    "        eigenvector = np.zeros(n + 1)\n",
    "        for i in range(len(eigenvector_old)):\n",
    "            eigenvector[2*i] = eigenvector_old[i]\n",
    "            \n",
    "    x0 = x - shift\n",
    "    \n",
    "    # Computing the PDF\n",
    "    y = np.zeros(len(x0))\n",
    "\n",
    "    for i in range(len(x0)):\n",
    "        states = state_n(nmax, x0[i], L)\n",
    "        y[i] += (np.dot(states, eigenvector))\n",
    "    \n",
    "    if normalize:\n",
    "        y = normalize_probability(y, dx)\n",
    "\n",
    "    return x0, y\n",
    "\n",
    "def compute_expectation_x_squared_simpson(x, y, n):\n",
    "    \"\"\"\n",
    "    Computes the expectation value of x^2 using Simpson's rule for numerical integration.\n",
    "    \n",
    "    Parameters:\n",
    "    x (array-like): Discrete values of x.\n",
    "    y (array-like): Corresponding values of the probability density function (PDF) at x.\n",
    "    \n",
    "    Returns:\n",
    "    float: The expectation value of x^2.\n",
    "    \"\"\"\n",
    "    # Ensure x and y are numpy arrays\n",
    "    x = np.array(x)\n",
    "    y = np.array(y)\n",
    "    \n",
    "    # Compute x^2\n",
    "    x_squared = x**n\n",
    "    \n",
    "    # Check if the number of intervals is even, if not make it even by truncating the last point\n",
    "    if len(x) % 2 == 0:\n",
    "        x = x[:-1]\n",
    "        y = y[:-1]\n",
    "        x_squared = x_squared[:-1]\n",
    "    \n",
    "    # Compute the integral using Simpson's rule\n",
    "    h = (x[-1] - x[0]) / (len(x) - 1)\n",
    "    integral = y[0] * x_squared[0] + y[-1] * x_squared[-1] + \\\n",
    "               4 * np.sum(y[1:-1:2] * x_squared[1:-1:2]) + \\\n",
    "               2 * np.sum(y[2:-2:2] * x_squared[2:-2:2])\n",
    "    integral *= h / 3\n",
    "    \n",
    "    return integral\n",
    "\n",
    "def get_pdf(n, x, dx, L, shift, zeromode_qpe, normalize = True, make_even = False):\n",
    "    # Function to construct the ground state PDF using the VQSVD zeromode\n",
    "    \n",
    "    if not make_even:\n",
    "        eigenvector = zeromode_qpe\n",
    "    else:\n",
    "        eigenvector_old = zeromode_qpe\n",
    "        eigenvector = np.zeros(n + 1)\n",
    "        for i in range(len(eigenvector_old)):\n",
    "            eigenvector[2*i] = eigenvector_old[i]\n",
    "            \n",
    "    x0 = x - shift\n",
    "    \n",
    "    # Computing the PDF\n",
    "    y = np.zeros(len(x0))\n",
    "\n",
    "    for i in range(len(x0)):\n",
    "        states = state_n(nmax, x0[i], L)\n",
    "        y[i] += (np.dot(states, eigenvector))\n",
    "    \n",
    "    if normalize:\n",
    "        y = normalize_probability(y, dx)\n",
    "\n",
    "    return x0, y\n",
    "\n",
    "# Fidelity measure 1\n",
    "def get_fidelity(zeromode_classic, zeromode_vqe):\n",
    "    # Function to compute the infidelity\n",
    "\n",
    "    overlap = np.dot(np.transpose(zeromode_vqe), zeromode_classic)\n",
    "    fidelity = 1 - overlap ** 2\n",
    "    return fidelity\n",
    "\n",
    "# Fidelity measure 2\n",
    "def get_similarity(a, b):\n",
    "    # Function to compute the similarity between 2 zeromodes\n",
    "    \n",
    "    numerator = np.abs(np.dot(a.conj().T, b))**2\n",
    "    denominator = np.linalg.norm(a)**2 * np.linalg.norm(b)**2\n",
    "    \n",
    "    return numerator / denominator\n",
    "\n",
    "def compute_errors(expect_classical, expect_quantum):\n",
    "\n",
    "    error = np.abs(expect_classical - expect_quantum) / expect_classical\n",
    "    return error"
   ]
  },
  {
   "cell_type": "markdown",
   "id": "85a5b3f4-15d7-4dac-b893-a0754aa9a036",
   "metadata": {},
   "source": [
    "## VQE implementation"
   ]
  },
  {
   "cell_type": "code",
   "execution_count": 9,
   "id": "8cd513ff-2637-4c85-a68e-baa8308ca84f",
   "metadata": {},
   "outputs": [],
   "source": [
    "# VQE run for a given ansatz and optimizer\n",
    "def run_vqe_ansatz_analysis(matrix, ansatz, optimizer, seed, exact_ground_state, classical_expectation, nmax, L):\n",
    "\n",
    "    # Define parameters to compute <x^2>\n",
    "    dx = 0.01\n",
    "    x = np.linspace(-4, 4, int(8/dx))\n",
    "\n",
    "    # Get the Pauli-decomposed form of the operator\n",
    "    qub_hamiltonian = SparsePauliOp.from_operator(matrix)\n",
    "    dimension = matrix.shape[0]\n",
    "    num_qubits = int(np.log2(dimension))\n",
    "\n",
    "    # Set up the random initial point\n",
    "    np.random.seed(seed)\n",
    "    initial_point = np.random.uniform(-np.pi, np.pi, ansatz.num_parameters)\n",
    "\n",
    "    # Initialize the Estimator primitive\n",
    "    estimator = Estimator()\n",
    "\n",
    "    # Logging class for VQE callback\n",
    "    @dataclass\n",
    "    class VQELog:\n",
    "        parameters: list\n",
    "        values: list\n",
    "        def update(self, count, parameters, mean, _metadata):\n",
    "            self.values.append(mean)\n",
    "            self.parameters.append(parameters)\n",
    "            \n",
    "    log = VQELog([], [])\n",
    "    \n",
    "    # Run VQE with the given ansatz and optimizer\n",
    "    vqe = VQE(estimator, ansatz, optimizer, initial_point=initial_point, callback=log.update)\n",
    "\n",
    "    # Get the VQE results\n",
    "    result = vqe.compute_minimum_eigenvalue(qub_hamiltonian)\n",
    "\n",
    "    # Get the number of optimizer function calls\n",
    "    num_calls = result.cost_function_evals\n",
    "\n",
    "    # Extract the optimal parameters and construct the state vector\n",
    "    optimal_params = result.optimal_point\n",
    "    final_circuit = ansatz.assign_parameters(optimal_params)\n",
    "    vqe_statevector = Statevector.from_instruction(final_circuit)\n",
    "\n",
    "     # Convert the quantum and classical zeromodes into 4 x 1 arrays\n",
    "    exact_ground_state = np.array(exact_ground_state).reshape((len(exact_ground_state), 1))\n",
    "    vqe_statevector = vqe_statevector.data.tolist()\n",
    "\n",
    "    if len(exact_ground_state) == 6:\n",
    "        vqe_statevector = vqe_statevector[:6]\n",
    "        zeromode = np.array(vqe_statevector).reshape((len(exact_ground_state), 1))\n",
    "        zeromode = np.real(zeromode)\n",
    "    \n",
    "        # Compute the fidelity measure\n",
    "        fidelity_value = get_similarity(exact_ground_state, zeromode)\n",
    "    \n",
    "    else:\n",
    "        zeromode = np.array(vqe_statevector).reshape((len(exact_ground_state), 1))\n",
    "        zeromode = np.real(zeromode)\n",
    "    \n",
    "        # Compute the fidelity measure\n",
    "        fidelity_value = get_similarity(exact_ground_state, zeromode)\n",
    "\n",
    "    # Compute <x^2>\n",
    "    x_quantum, y_quantum = get_pdf(nmax, x, dx, L, shift = 0, zeromode_qpe = zeromode, normalize = True, make_even = True)\n",
    "    quantum_expectation = compute_expectation_x_squared_simpson(x_quantum, y_quantum, 2)\n",
    "    error = compute_errors(classical_expectation, quantum_expectation)\n",
    "        \n",
    "    return zeromode, fidelity_value, error, num_calls"
   ]
  },
  {
   "cell_type": "markdown",
   "id": "8f5edcdc-3395-407e-bf81-9b5cd03af78d",
   "metadata": {},
   "source": [
    "## Construct the matrix and the zeromode"
   ]
  },
  {
   "cell_type": "code",
   "execution_count": 12,
   "id": "7d76f3b6-04dc-4796-b8c7-4e0e7a7cd937",
   "metadata": {},
   "outputs": [],
   "source": [
    "def get_zeromode(nmax, a, c, L, gamma):\n",
    "    # Function to construct the matrix and get the zeromode\n",
    "\n",
    "    #3, 5, 1, 1\n",
    "    dx = 0.01\n",
    "    x = np.linspace(-4, 4, int((8)/dx))\n",
    "    \n",
    "    ## Finding the zeromode through diagonalization\n",
    "    op_nonhermitian = create_operator_perturbed(nmax, L, a, c, gamma)\n",
    "    only_even = True\n",
    "    \n",
    "    # Matrix\n",
    "    cache_diagonalization = find_zeromode(op_nonhermitian, nmax, x, dx, L, which = \"single\", only_even = only_even)\n",
    "    matrix = cache_diagonalization['operator']\n",
    "\n",
    "    # Get the classical zeromode\n",
    "    A, P = la.eig(matrix)\n",
    "    \n",
    "    # Get the zeromode\n",
    "    A_real = np.real(A)\n",
    "    index = np.where(A_real == np.amin(A_real))[0][0]\n",
    "    \n",
    "    eigenvalue = A[index]\n",
    "    zeromode_classic = P[:, index]\n",
    "    \n",
    "    zeromode_classic = np.real(normalize_eigenvector(zeromode_classic))\n",
    "    zeromode_classic = np.reshape(zeromode_classic, (zeromode_classic.size, 1))\n",
    "\n",
    "    return matrix, zeromode_classic"
   ]
  },
  {
   "cell_type": "markdown",
   "id": "db4a28c1-38ed-4e89-90a2-f086b93c42d2",
   "metadata": {},
   "source": [
    "## Estimate quantum resources"
   ]
  },
  {
   "cell_type": "code",
   "execution_count": 15,
   "id": "4c63d5f1-9f0f-48a9-afff-1a5c8ff1795b",
   "metadata": {},
   "outputs": [],
   "source": [
    "def estimate_resources(matrix, zeromode_classic, optimizers, num_qubits, target_error_threshold, classical_expectation, nmax, L):\n",
    "    \n",
    "    # Initial depth and maximum depth\n",
    "    initial_depth = 1\n",
    "    max_depth = 10  # Set the maximum number of depths to check\n",
    "\n",
    "    # Initialize dictionaries to store minimum depths, zeromodes, and resources for each optimizer-ansatz pair\n",
    "    min_depths = {}\n",
    "    relative_errors = {}\n",
    "    resource_info = {}  # To store gate count, circuit depth, and function calls\n",
    "    \n",
    "    # Loop through each optimizer\n",
    "    for optimizer in optimizers:\n",
    "        optimizer_name = optimizer.__class__.__name__\n",
    "        \n",
    "        # Loop through each ansatz type and configure dynamically\n",
    "        for AnsatzClass in [RealAmplitudes, TwoLocal, EfficientSU2]:\n",
    "            # Initialize ansatz with appropriate configurations\n",
    "            if AnsatzClass == RealAmplitudes:\n",
    "                ansatz = AnsatzClass(num_qubits=num_qubits, entanglement='full', reps=initial_depth)\n",
    "            elif AnsatzClass == TwoLocal:\n",
    "                ansatz = AnsatzClass(num_qubits=num_qubits, rotation_blocks=['ry'], entanglement_blocks='cx', reps=initial_depth)\n",
    "            elif AnsatzClass == EfficientSU2:\n",
    "                ansatz = AnsatzClass(num_qubits=num_qubits, su2_gates=['ry'], entanglement='sca', reps=initial_depth)\n",
    "            \n",
    "            ansatz_name = AnsatzClass.__name__\n",
    "            pair_name = f\"{optimizer_name}-{ansatz_name}\"\n",
    "            print(f\"\\nRunning VQE for optimizer-ansatz pair: {pair_name}\")\n",
    "            \n",
    "            current_depth = initial_depth\n",
    "            converged = False  # Flag to check if convergence occurs\n",
    "            \n",
    "            while current_depth <= max_depth:  # Loop for up to max_depth\n",
    "                # Set `reps` (depth) for the current ansatz\n",
    "                ansatz.reps = current_depth\n",
    "                \n",
    "                # Temporary storage for the relative error results\n",
    "                fidelities = []\n",
    "                function_calls = []  # To track the number of function calls for each run\n",
    "                all_relative_errors = [] # To store all the relative errors\n",
    "                \n",
    "                # Perform multiple independent VQE runs to calculate average relative error\n",
    "                for run in range(10):  # Number of independent runs\n",
    "                    # Set a seed for a specific VQE run\n",
    "                    seed = run + 1\n",
    "                    \n",
    "                    # Run VQE\n",
    "                    zeromode, fidelity_value, error, function_call_count = run_vqe_ansatz_analysis(\n",
    "                        matrix=matrix, ansatz=ansatz, optimizer=optimizer, seed=seed,\n",
    "                        exact_ground_state=zeromode_classic, classical_expectation=classical_expectation, \\\n",
    "                        nmax=nmax, L=L)\n",
    "                    \n",
    "                    # Append the relative error and function call count\n",
    "                    fidelities.append(fidelity_value)\n",
    "                    function_calls.append(function_call_count)\n",
    "                    all_relative_errors.append(error)\n",
    "                \n",
    "                # Calculate the average fidelity over the runs\n",
    "                average_relative_error = np.mean(all_relative_errors)\n",
    "                print(f\"{pair_name} - Depth {current_depth}: Average relative error = {average_relative_error}\")\n",
    "        \n",
    "                # Check if the average relative error meets the threshold\n",
    "                if average_relative_error <= target_error_threshold:\n",
    "                    min_depths[pair_name] = current_depth\n",
    "                    converged = True\n",
    "                    \n",
    "                    # Identify the run with the lowest relative error at this depth\n",
    "                    best_run_index = np.argmin(all_relative_errors)\n",
    "                    best_error = all_relative_errors[best_run_index]\n",
    "                    # best_zeromode = all_zeromodes[best_run_index]\n",
    "                    best_function_calls = function_calls[best_run_index]\n",
    "                    \n",
    "                    # Print the run number and highest fidelity at optimal depth\n",
    "                    print(f\"Optimal depth {current_depth} for {pair_name} achieved lowest relative error = {best_error}\")\n",
    "                    print(f\"Run number with lowest relative error: {best_run_index + 1}\")\n",
    "                    \n",
    "                    # Calculate gate count and circuit depth for the ansatz at this depth\n",
    "                    decomposed_ansatz = ansatz.decompose()  # Decompose to get actual gate operations\n",
    "                    gate_count_dict = decomposed_ansatz.count_ops()\n",
    "                    total_gates = sum(gate_count_dict.values())\n",
    "                    circuit_depth = decomposed_ansatz.depth()\n",
    "                    \n",
    "                    # Store relative error and resource information\n",
    "                    relative_errors[pair_name] = best_error\n",
    "                    resource_info[pair_name] = {\n",
    "                        'gate_count': total_gates,\n",
    "                        'circuit_depth': circuit_depth,\n",
    "                        'function_calls': best_function_calls\n",
    "                    }\n",
    "\n",
    "                    print(f\"Relative error at optimal run for {pair_name}: {best_error}\")\n",
    "                    print(f\"Resource estimates for {pair_name}: Gate count = {total_gates}, Circuit depth = {circuit_depth}, Function calls = {best_function_calls}\")\n",
    "                    \n",
    "                    break  # Exit the loop if the threshold is met\n",
    "        \n",
    "                current_depth += 1  # Increase depth and try again\n",
    "            \n",
    "            # If the loop finishes and no convergence occurs, mark as \"did not converge\"\n",
    "            if not converged:\n",
    "                min_depths[pair_name] = \"Did not converge\"\n",
    "                relative_errors[pair_name] = \"Did not converge\"\n",
    "                resource_info[pair_name] = {\n",
    "                    'gate_count': \"N/A\",\n",
    "                    'circuit_depth': \"N/A\",\n",
    "                    'function_calls': \"N/A\"\n",
    "                }\n",
    "                print(f\"{pair_name} did not converge within {max_depth} depths.\")\n",
    "    \n",
    "    return min_depths, relative_errors, resource_info"
   ]
  },
  {
   "cell_type": "markdown",
   "id": "f6133cb4-7d3f-488b-96d1-d06b80f1d313",
   "metadata": {},
   "source": [
    "## Quantum (VQE) analysis\n",
    "\n",
    "### For a = 1, b = 2 (N = 2)\n",
    "\n",
    "### Get the matrix and the zeromode"
   ]
  },
  {
   "cell_type": "code",
   "execution_count": 18,
   "id": "c181d348-bd02-435c-a325-2883c79ed63a",
   "metadata": {},
   "outputs": [
    {
     "name": "stdout",
     "output_type": "stream",
     "text": [
      "The matrix is:\n",
      "[[  5.765625   -21.34578596]\n",
      " [-21.34578596  79.265625  ]]\n",
      "\n",
      "The zeromode is:\n",
      "[[-0.96558703]\n",
      " [-0.26008015]]\n",
      "\n",
      "The value of <x^2> is:\n",
      "0.41050077276583463\n",
      "\n"
     ]
    },
    {
     "name": "stderr",
     "output_type": "stream",
     "text": [
      "C:\\Users\\Owner\\AppData\\Local\\Temp\\ipykernel_32760\\795971042.py:108: DeprecationWarning: Conversion of an array with ndim > 0 to a scalar is deprecated, and will error in future. Ensure you extract a single element from your array before performing this operation. (Deprecated NumPy 1.25.)\n",
      "  eigenvector[2*i] = eigenvector_old[i]\n"
     ]
    }
   ],
   "source": [
    "## Get the matrix and zeromode\n",
    "nmax = 3\n",
    "a = 1\n",
    "gamma = 1\n",
    "dx = 0.01\n",
    "c = 2\n",
    "L = 1/2\n",
    "x = np.linspace(-4, 4, int(8/dx))\n",
    "\n",
    "# Matrix and zeromode\n",
    "matrix, zeromode = get_zeromode(nmax, a, c, L, gamma)\n",
    "\n",
    "## Print the matrix and zeromode\n",
    "print('The matrix is:')\n",
    "print(matrix)\n",
    "print()\n",
    "\n",
    "# Print the zeromode\n",
    "print('The zeromode is:')\n",
    "print(zeromode)\n",
    "print()\n",
    "\n",
    "## Compute the classical <x^2> value\n",
    "x, y = get_pdf(nmax, x, dx, L, shift = 0, zeromode_qpe = zeromode, normalize = True, make_even = True)\n",
    "classical_expectation = compute_expectation_x_squared_simpson(x, y, 2)\n",
    "\n",
    "# Print the classical expectation value\n",
    "print('The value of <x^2> is:')\n",
    "print(classical_expectation)\n",
    "print()"
   ]
  },
  {
   "cell_type": "markdown",
   "id": "7fa4bf44-e619-4f37-ae26-2778d0a7e9ae",
   "metadata": {},
   "source": [
    "### Estimate resource requirements (fix at 5000 optimization iterations)"
   ]
  },
  {
   "cell_type": "code",
   "execution_count": 29,
   "id": "b7fe3c4e-6ea7-446e-bb66-c052e4b510be",
   "metadata": {},
   "outputs": [
    {
     "name": "stdout",
     "output_type": "stream",
     "text": [
      "\n",
      "Running VQE for optimizer-ansatz pair: SLSQP-RealAmplitudes\n"
     ]
    },
    {
     "name": "stderr",
     "output_type": "stream",
     "text": [
      "C:\\Users\\Owner\\AppData\\Local\\Temp\\ipykernel_11088\\795971042.py:108: DeprecationWarning: Conversion of an array with ndim > 0 to a scalar is deprecated, and will error in future. Ensure you extract a single element from your array before performing this operation. (Deprecated NumPy 1.25.)\n",
      "  eigenvector[2*i] = eigenvector_old[i]\n"
     ]
    },
    {
     "name": "stdout",
     "output_type": "stream",
     "text": [
      "SLSQP-RealAmplitudes - Depth 1: Average relative error = 0.11707369916486736\n"
     ]
    },
    {
     "name": "stderr",
     "output_type": "stream",
     "text": [
      "C:\\Users\\Owner\\anaconda3\\Lib\\site-packages\\scipy\\optimize\\_slsqp_py.py:437: RuntimeWarning: Values in x were outside bounds during a minimize step, clipping to bounds\n",
      "  fx = wrapped_fun(x)\n"
     ]
    },
    {
     "name": "stdout",
     "output_type": "stream",
     "text": [
      "SLSQP-RealAmplitudes - Depth 2: Average relative error = 7.841601337552767e-06\n",
      "Optimal depth 2 for SLSQP-RealAmplitudes achieved lowest relative error = 5.336156839963159e-09\n",
      "Run number with lowest relative error: 6\n",
      "Relative error at optimal run for SLSQP-RealAmplitudes: 5.336156839963159e-09\n",
      "Resource estimates for SLSQP-RealAmplitudes: Gate count = 3, Circuit depth = 3, Function calls = 27\n",
      "\n",
      "Running VQE for optimizer-ansatz pair: SLSQP-TwoLocal\n",
      "SLSQP-TwoLocal - Depth 1: Average relative error = 1.3693141044647793e-05\n",
      "Optimal depth 1 for SLSQP-TwoLocal achieved lowest relative error = 5.272217918149814e-08\n",
      "Run number with lowest relative error: 6\n",
      "Relative error at optimal run for SLSQP-TwoLocal: 5.272217918149814e-08\n",
      "Resource estimates for SLSQP-TwoLocal: Gate count = 2, Circuit depth = 2, Function calls = 20\n",
      "\n",
      "Running VQE for optimizer-ansatz pair: SLSQP-EfficientSU2\n",
      "SLSQP-EfficientSU2 - Depth 1: Average relative error = 0.11707369916486736\n"
     ]
    },
    {
     "name": "stderr",
     "output_type": "stream",
     "text": [
      "For Windows, using only current process. Multiple core use not supported.\n",
      "For Windows, using only current process. Multiple core use not supported.\n"
     ]
    },
    {
     "name": "stdout",
     "output_type": "stream",
     "text": [
      "SLSQP-EfficientSU2 - Depth 2: Average relative error = 7.841601337552767e-06\n",
      "Optimal depth 2 for SLSQP-EfficientSU2 achieved lowest relative error = 5.336156839963159e-09\n",
      "Run number with lowest relative error: 6\n",
      "Relative error at optimal run for SLSQP-EfficientSU2: 5.336156839963159e-09\n",
      "Resource estimates for SLSQP-EfficientSU2: Gate count = 3, Circuit depth = 3, Function calls = 27\n",
      "\n",
      "Running VQE for optimizer-ansatz pair: P_BFGS-RealAmplitudes\n"
     ]
    },
    {
     "name": "stderr",
     "output_type": "stream",
     "text": [
      "For Windows, using only current process. Multiple core use not supported.\n",
      "For Windows, using only current process. Multiple core use not supported.\n",
      "For Windows, using only current process. Multiple core use not supported.\n",
      "For Windows, using only current process. Multiple core use not supported.\n",
      "For Windows, using only current process. Multiple core use not supported.\n",
      "For Windows, using only current process. Multiple core use not supported.\n",
      "For Windows, using only current process. Multiple core use not supported.\n",
      "For Windows, using only current process. Multiple core use not supported.\n",
      "For Windows, using only current process. Multiple core use not supported.\n"
     ]
    },
    {
     "name": "stdout",
     "output_type": "stream",
     "text": [
      "P_BFGS-RealAmplitudes - Depth 1: Average relative error = 0.1170676638171726\n"
     ]
    },
    {
     "name": "stderr",
     "output_type": "stream",
     "text": [
      "For Windows, using only current process. Multiple core use not supported.\n",
      "For Windows, using only current process. Multiple core use not supported.\n",
      "For Windows, using only current process. Multiple core use not supported.\n",
      "For Windows, using only current process. Multiple core use not supported.\n",
      "For Windows, using only current process. Multiple core use not supported.\n",
      "For Windows, using only current process. Multiple core use not supported.\n",
      "For Windows, using only current process. Multiple core use not supported.\n",
      "For Windows, using only current process. Multiple core use not supported.\n",
      "For Windows, using only current process. Multiple core use not supported.\n",
      "For Windows, using only current process. Multiple core use not supported.\n"
     ]
    },
    {
     "name": "stdout",
     "output_type": "stream",
     "text": [
      "P_BFGS-RealAmplitudes - Depth 2: Average relative error = 0.6146617213952925\n"
     ]
    },
    {
     "name": "stderr",
     "output_type": "stream",
     "text": [
      "For Windows, using only current process. Multiple core use not supported.\n",
      "For Windows, using only current process. Multiple core use not supported.\n",
      "For Windows, using only current process. Multiple core use not supported.\n",
      "For Windows, using only current process. Multiple core use not supported.\n",
      "For Windows, using only current process. Multiple core use not supported.\n",
      "For Windows, using only current process. Multiple core use not supported.\n",
      "For Windows, using only current process. Multiple core use not supported.\n",
      "For Windows, using only current process. Multiple core use not supported.\n",
      "For Windows, using only current process. Multiple core use not supported.\n",
      "For Windows, using only current process. Multiple core use not supported.\n",
      "For Windows, using only current process. Multiple core use not supported.\n"
     ]
    },
    {
     "name": "stdout",
     "output_type": "stream",
     "text": [
      "P_BFGS-RealAmplitudes - Depth 3: Average relative error = 7.420346770655438e-09\n",
      "Optimal depth 3 for P_BFGS-RealAmplitudes achieved lowest relative error = 1.5244374687256997e-11\n",
      "Run number with lowest relative error: 5\n",
      "Relative error at optimal run for P_BFGS-RealAmplitudes: 1.5244374687256997e-11\n",
      "Resource estimates for P_BFGS-RealAmplitudes: Gate count = 4, Circuit depth = 4, Function calls = 35\n",
      "\n",
      "Running VQE for optimizer-ansatz pair: P_BFGS-TwoLocal\n"
     ]
    },
    {
     "name": "stderr",
     "output_type": "stream",
     "text": [
      "For Windows, using only current process. Multiple core use not supported.\n",
      "For Windows, using only current process. Multiple core use not supported.\n",
      "For Windows, using only current process. Multiple core use not supported.\n",
      "For Windows, using only current process. Multiple core use not supported.\n",
      "For Windows, using only current process. Multiple core use not supported.\n",
      "For Windows, using only current process. Multiple core use not supported.\n",
      "For Windows, using only current process. Multiple core use not supported.\n",
      "For Windows, using only current process. Multiple core use not supported.\n",
      "For Windows, using only current process. Multiple core use not supported.\n",
      "For Windows, using only current process. Multiple core use not supported.\n"
     ]
    },
    {
     "name": "stdout",
     "output_type": "stream",
     "text": [
      "P_BFGS-TwoLocal - Depth 1: Average relative error = 2.9736956561322563e-08\n",
      "Optimal depth 1 for P_BFGS-TwoLocal achieved lowest relative error = 1.6332222168343596e-09\n",
      "Run number with lowest relative error: 4\n",
      "Relative error at optimal run for P_BFGS-TwoLocal: 1.6332222168343596e-09\n",
      "Resource estimates for P_BFGS-TwoLocal: Gate count = 2, Circuit depth = 2, Function calls = 27\n",
      "\n",
      "Running VQE for optimizer-ansatz pair: P_BFGS-EfficientSU2\n"
     ]
    },
    {
     "name": "stderr",
     "output_type": "stream",
     "text": [
      "For Windows, using only current process. Multiple core use not supported.\n",
      "For Windows, using only current process. Multiple core use not supported.\n",
      "For Windows, using only current process. Multiple core use not supported.\n",
      "For Windows, using only current process. Multiple core use not supported.\n",
      "For Windows, using only current process. Multiple core use not supported.\n",
      "For Windows, using only current process. Multiple core use not supported.\n",
      "For Windows, using only current process. Multiple core use not supported.\n",
      "For Windows, using only current process. Multiple core use not supported.\n",
      "For Windows, using only current process. Multiple core use not supported.\n"
     ]
    },
    {
     "name": "stdout",
     "output_type": "stream",
     "text": [
      "P_BFGS-EfficientSU2 - Depth 1: Average relative error = 0.1170676638171726\n"
     ]
    },
    {
     "name": "stderr",
     "output_type": "stream",
     "text": [
      "For Windows, using only current process. Multiple core use not supported.\n",
      "For Windows, using only current process. Multiple core use not supported.\n",
      "For Windows, using only current process. Multiple core use not supported.\n",
      "For Windows, using only current process. Multiple core use not supported.\n",
      "For Windows, using only current process. Multiple core use not supported.\n",
      "For Windows, using only current process. Multiple core use not supported.\n",
      "For Windows, using only current process. Multiple core use not supported.\n",
      "For Windows, using only current process. Multiple core use not supported.\n",
      "For Windows, using only current process. Multiple core use not supported.\n",
      "For Windows, using only current process. Multiple core use not supported.\n"
     ]
    },
    {
     "name": "stdout",
     "output_type": "stream",
     "text": [
      "P_BFGS-EfficientSU2 - Depth 2: Average relative error = 0.6146617213952925\n"
     ]
    },
    {
     "name": "stderr",
     "output_type": "stream",
     "text": [
      "For Windows, using only current process. Multiple core use not supported.\n",
      "For Windows, using only current process. Multiple core use not supported.\n",
      "For Windows, using only current process. Multiple core use not supported.\n",
      "For Windows, using only current process. Multiple core use not supported.\n",
      "For Windows, using only current process. Multiple core use not supported.\n",
      "For Windows, using only current process. Multiple core use not supported.\n",
      "For Windows, using only current process. Multiple core use not supported.\n",
      "For Windows, using only current process. Multiple core use not supported.\n",
      "For Windows, using only current process. Multiple core use not supported.\n"
     ]
    },
    {
     "name": "stdout",
     "output_type": "stream",
     "text": [
      "P_BFGS-EfficientSU2 - Depth 3: Average relative error = 7.420346770655438e-09\n",
      "Optimal depth 3 for P_BFGS-EfficientSU2 achieved lowest relative error = 1.5244374687256997e-11\n",
      "Run number with lowest relative error: 5\n",
      "Relative error at optimal run for P_BFGS-EfficientSU2: 1.5244374687256997e-11\n",
      "Resource estimates for P_BFGS-EfficientSU2: Gate count = 4, Circuit depth = 4, Function calls = 35\n"
     ]
    }
   ],
   "source": [
    "## Get the optimizers\n",
    "maxiter = 5000\n",
    "optimizers = [SLSQP(maxiter = maxiter), P_BFGS(maxfun = maxiter)]\n",
    "\n",
    "# Define parameters\n",
    "dimension = matrix.shape[0]\n",
    "num_qubits = int(np.log2(dimension))\n",
    "target_error_threshold = 0.01\n",
    "\n",
    "# Estimate min. ansatz depths\n",
    "min_depths_N_2, errors_N_2, resources_N_2 = estimate_resources(matrix, zeromode, optimizers, num_qubits, target_error_threshold, \\\n",
    "                                                               classical_expectation, nmax, L)"
   ]
  },
  {
   "cell_type": "markdown",
   "id": "14bcd05e-d3d0-4a31-b699-fabf0dec8503",
   "metadata": {},
   "source": [
    "### Print resource estimates"
   ]
  },
  {
   "cell_type": "code",
   "execution_count": 32,
   "id": "c888534f-11a8-4c1c-accd-9de7a7824507",
   "metadata": {},
   "outputs": [
    {
     "name": "stdout",
     "output_type": "stream",
     "text": [
      "The min. ansatz depth results are:\n",
      "{'SLSQP-RealAmplitudes': 2, 'SLSQP-TwoLocal': 1, 'SLSQP-EfficientSU2': 2, 'P_BFGS-RealAmplitudes': 3, 'P_BFGS-TwoLocal': 1, 'P_BFGS-EfficientSU2': 3}\n",
      "\n",
      "The relative errors are:\n",
      "{'SLSQP-RealAmplitudes': 5.336156839963159e-09, 'SLSQP-TwoLocal': 5.272217918149814e-08, 'SLSQP-EfficientSU2': 5.336156839963159e-09, 'P_BFGS-RealAmplitudes': 1.5244374687256997e-11, 'P_BFGS-TwoLocal': 1.6332222168343596e-09, 'P_BFGS-EfficientSU2': 1.5244374687256997e-11}\n",
      "\n",
      "The resources required are:\n",
      "{'SLSQP-RealAmplitudes': {'gate_count': 3, 'circuit_depth': 3, 'function_calls': 27}, 'SLSQP-TwoLocal': {'gate_count': 2, 'circuit_depth': 2, 'function_calls': 20}, 'SLSQP-EfficientSU2': {'gate_count': 3, 'circuit_depth': 3, 'function_calls': 27}, 'P_BFGS-RealAmplitudes': {'gate_count': 4, 'circuit_depth': 4, 'function_calls': 35}, 'P_BFGS-TwoLocal': {'gate_count': 2, 'circuit_depth': 2, 'function_calls': 27}, 'P_BFGS-EfficientSU2': {'gate_count': 4, 'circuit_depth': 4, 'function_calls': 35}}\n",
      "\n"
     ]
    }
   ],
   "source": [
    "## Print the min. ansatz depth results\n",
    "print('The min. ansatz depth results are:')\n",
    "print(min_depths_N_2)\n",
    "print()\n",
    "\n",
    "## Print the relative errors\n",
    "print('The relative errors are:')\n",
    "print(errors_N_2)\n",
    "print()\n",
    "\n",
    "## Print the resource estimates\n",
    "print('The resources required are:')\n",
    "print(resources_N_2)\n",
    "print()"
   ]
  },
  {
   "cell_type": "markdown",
   "id": "4ac521da-8cd8-45f0-971f-55d4306e4afb",
   "metadata": {},
   "source": [
    "### Estimating resource requirements for POWELL and NELDER-MEAD (fix at 5000 optimization iterations)"
   ]
  },
  {
   "cell_type": "code",
   "execution_count": 21,
   "id": "79bbf5b8-8b20-4960-b71a-a979a46ade87",
   "metadata": {},
   "outputs": [
    {
     "name": "stdout",
     "output_type": "stream",
     "text": [
      "\n",
      "Running VQE for optimizer-ansatz pair: NELDER_MEAD-RealAmplitudes\n"
     ]
    },
    {
     "name": "stderr",
     "output_type": "stream",
     "text": [
      "C:\\Users\\Owner\\AppData\\Local\\Temp\\ipykernel_32760\\795971042.py:108: DeprecationWarning: Conversion of an array with ndim > 0 to a scalar is deprecated, and will error in future. Ensure you extract a single element from your array before performing this operation. (Deprecated NumPy 1.25.)\n",
      "  eigenvector[2*i] = eigenvector_old[i]\n"
     ]
    },
    {
     "name": "stdout",
     "output_type": "stream",
     "text": [
      "NELDER_MEAD-RealAmplitudes - Depth 1: Average relative error = 1.3933608688884431e-06\n",
      "Optimal depth 1 for NELDER_MEAD-RealAmplitudes achieved lowest relative error = 6.243552580350284e-10\n",
      "Run number with lowest relative error: 8\n",
      "Relative error at optimal run for NELDER_MEAD-RealAmplitudes: 6.243552580350284e-10\n",
      "Resource estimates for NELDER_MEAD-RealAmplitudes: Gate count = 2, Circuit depth = 2, Function calls = 107\n",
      "\n",
      "Running VQE for optimizer-ansatz pair: NELDER_MEAD-TwoLocal\n",
      "NELDER_MEAD-TwoLocal - Depth 1: Average relative error = 1.3933608688884431e-06\n",
      "Optimal depth 1 for NELDER_MEAD-TwoLocal achieved lowest relative error = 6.243552580350284e-10\n",
      "Run number with lowest relative error: 8\n",
      "Relative error at optimal run for NELDER_MEAD-TwoLocal: 6.243552580350284e-10\n",
      "Resource estimates for NELDER_MEAD-TwoLocal: Gate count = 2, Circuit depth = 2, Function calls = 107\n",
      "\n",
      "Running VQE for optimizer-ansatz pair: NELDER_MEAD-EfficientSU2\n",
      "NELDER_MEAD-EfficientSU2 - Depth 1: Average relative error = 1.3933608688884431e-06\n",
      "Optimal depth 1 for NELDER_MEAD-EfficientSU2 achieved lowest relative error = 6.243552580350284e-10\n",
      "Run number with lowest relative error: 8\n",
      "Relative error at optimal run for NELDER_MEAD-EfficientSU2: 6.243552580350284e-10\n",
      "Resource estimates for NELDER_MEAD-EfficientSU2: Gate count = 2, Circuit depth = 2, Function calls = 107\n",
      "\n",
      "Running VQE for optimizer-ansatz pair: POWELL-RealAmplitudes\n",
      "POWELL-RealAmplitudes - Depth 1: Average relative error = 3.082140550872985e-09\n",
      "Optimal depth 1 for POWELL-RealAmplitudes achieved lowest relative error = 6.284770039653191e-11\n",
      "Run number with lowest relative error: 2\n",
      "Relative error at optimal run for POWELL-RealAmplitudes: 6.284770039653191e-11\n",
      "Resource estimates for POWELL-RealAmplitudes: Gate count = 2, Circuit depth = 2, Function calls = 71\n",
      "\n",
      "Running VQE for optimizer-ansatz pair: POWELL-TwoLocal\n",
      "POWELL-TwoLocal - Depth 1: Average relative error = 1.7220309124736348e-09\n",
      "Optimal depth 1 for POWELL-TwoLocal achieved lowest relative error = 5.191263271585534e-12\n",
      "Run number with lowest relative error: 9\n",
      "Relative error at optimal run for POWELL-TwoLocal: 5.191263271585534e-12\n",
      "Resource estimates for POWELL-TwoLocal: Gate count = 2, Circuit depth = 2, Function calls = 38\n",
      "\n",
      "Running VQE for optimizer-ansatz pair: POWELL-EfficientSU2\n",
      "POWELL-EfficientSU2 - Depth 1: Average relative error = 3.082140550872985e-09\n",
      "Optimal depth 1 for POWELL-EfficientSU2 achieved lowest relative error = 6.284770039653191e-11\n",
      "Run number with lowest relative error: 2\n",
      "Relative error at optimal run for POWELL-EfficientSU2: 6.284770039653191e-11\n",
      "Resource estimates for POWELL-EfficientSU2: Gate count = 2, Circuit depth = 2, Function calls = 71\n"
     ]
    }
   ],
   "source": [
    "## Get the optimizers\n",
    "maxiter = 5000\n",
    "optimizers = [NELDER_MEAD(maxiter = maxiter), POWELL(maxiter = maxiter)]\n",
    "\n",
    "# Define parameters\n",
    "dimension = matrix.shape[0]\n",
    "num_qubits = int(np.log2(dimension))\n",
    "target_error_threshold = 0.01\n",
    "\n",
    "# Estimate min. ansatz depths\n",
    "min_depths_N_2, errors_N_2, resources_N_2 = estimate_resources(matrix, zeromode, optimizers, num_qubits, target_error_threshold, \\\n",
    "                                                               classical_expectation, nmax, L)"
   ]
  },
  {
   "cell_type": "markdown",
   "id": "04099661-a1a6-479d-8aac-72f7e908f368",
   "metadata": {},
   "source": [
    "### Print resource estimates"
   ]
  },
  {
   "cell_type": "code",
   "execution_count": 24,
   "id": "97774595-0448-4ffc-bc3c-b96786ca5d4d",
   "metadata": {},
   "outputs": [
    {
     "name": "stdout",
     "output_type": "stream",
     "text": [
      "The min. ansatz depth results are:\n",
      "{'NELDER_MEAD-RealAmplitudes': 1, 'NELDER_MEAD-TwoLocal': 1, 'NELDER_MEAD-EfficientSU2': 1, 'POWELL-RealAmplitudes': 1, 'POWELL-TwoLocal': 1, 'POWELL-EfficientSU2': 1}\n",
      "\n",
      "The relative errors are:\n",
      "{'NELDER_MEAD-RealAmplitudes': 6.243552580350284e-10, 'NELDER_MEAD-TwoLocal': 6.243552580350284e-10, 'NELDER_MEAD-EfficientSU2': 6.243552580350284e-10, 'POWELL-RealAmplitudes': 6.284770039653191e-11, 'POWELL-TwoLocal': 5.191263271585534e-12, 'POWELL-EfficientSU2': 6.284770039653191e-11}\n",
      "\n",
      "The resources required are:\n",
      "{'NELDER_MEAD-RealAmplitudes': {'gate_count': 2, 'circuit_depth': 2, 'function_calls': 107}, 'NELDER_MEAD-TwoLocal': {'gate_count': 2, 'circuit_depth': 2, 'function_calls': 107}, 'NELDER_MEAD-EfficientSU2': {'gate_count': 2, 'circuit_depth': 2, 'function_calls': 107}, 'POWELL-RealAmplitudes': {'gate_count': 2, 'circuit_depth': 2, 'function_calls': 71}, 'POWELL-TwoLocal': {'gate_count': 2, 'circuit_depth': 2, 'function_calls': 38}, 'POWELL-EfficientSU2': {'gate_count': 2, 'circuit_depth': 2, 'function_calls': 71}}\n",
      "\n"
     ]
    }
   ],
   "source": [
    "## Print the min. ansatz depth results\n",
    "print('The min. ansatz depth results are:')\n",
    "print(min_depths_N_2)\n",
    "print()\n",
    "\n",
    "## Print the relative errors\n",
    "print('The relative errors are:')\n",
    "print(errors_N_2)\n",
    "print()\n",
    "\n",
    "## Print the resource estimates\n",
    "print('The resources required are:')\n",
    "print(resources_N_2)\n",
    "print()"
   ]
  },
  {
   "cell_type": "markdown",
   "id": "957a3670-e88c-4e36-80e3-d56dd8125cb6",
   "metadata": {},
   "source": [
    "### For a = 1, b = 2 (N = 4)\n",
    "\n",
    "### Get the matrix and the zeromode"
   ]
  },
  {
   "cell_type": "code",
   "execution_count": 26,
   "id": "7c89bd70-61b6-4081-947f-675f8dd8d44a",
   "metadata": {},
   "outputs": [
    {
     "name": "stdout",
     "output_type": "stream",
     "text": [
      "The matrix is:\n",
      "[[   6.140625    -23.4671063    35.51760127   -9.22378041]\n",
      " [ -23.4671063    96.890625   -151.66269884  111.47028752]\n",
      " [  35.51760127 -151.66269884  376.140625   -354.47919269]\n",
      " [  -9.22378041  111.47028752 -354.47919269  972.890625  ]]\n",
      "\n",
      "The zeromode is:\n",
      "[[-0.97335411]\n",
      " [-0.22648723]\n",
      " [ 0.02489903]\n",
      " [ 0.02579447]]\n",
      "\n",
      "The value of <x^2> is:\n",
      "0.32868055910006333\n",
      "\n"
     ]
    },
    {
     "name": "stderr",
     "output_type": "stream",
     "text": [
      "C:\\Users\\Owner\\AppData\\Local\\Temp\\ipykernel_32760\\795971042.py:108: DeprecationWarning: Conversion of an array with ndim > 0 to a scalar is deprecated, and will error in future. Ensure you extract a single element from your array before performing this operation. (Deprecated NumPy 1.25.)\n",
      "  eigenvector[2*i] = eigenvector_old[i]\n"
     ]
    }
   ],
   "source": [
    "## Get the matrix and zeromode\n",
    "nmax = 7\n",
    "a = 1\n",
    "gamma = 1\n",
    "dx = 0.01\n",
    "c = 2\n",
    "L = 1/2\n",
    "x = np.linspace(-4, 4, int(8/dx))\n",
    "\n",
    "# Matrix and zeromode\n",
    "matrix, zeromode = get_zeromode(nmax, a, c, L, gamma)\n",
    "\n",
    "## Print the matrix and zeromode\n",
    "print('The matrix is:')\n",
    "print(matrix)\n",
    "print()\n",
    "\n",
    "# Print the zeromode\n",
    "print('The zeromode is:')\n",
    "print(zeromode)\n",
    "print()\n",
    "\n",
    "## Compute the classical <x^2> value\n",
    "x, y = get_pdf(nmax, x, dx, L, shift = 0, zeromode_qpe = zeromode, normalize = True, make_even = True)\n",
    "classical_expectation = compute_expectation_x_squared_simpson(x, y, 2)\n",
    "\n",
    "# Print the classical expectation value\n",
    "print('The value of <x^2> is:')\n",
    "print(classical_expectation)\n",
    "print()"
   ]
  },
  {
   "cell_type": "markdown",
   "id": "4bde04c5-61c0-4636-a4d4-1f4186485220",
   "metadata": {},
   "source": [
    "### Estimate resource requirements (fix at 5000 optimization iterations)"
   ]
  },
  {
   "cell_type": "code",
   "execution_count": 38,
   "id": "f7e38336-8fd5-4425-be1e-b585b3ca8357",
   "metadata": {},
   "outputs": [
    {
     "name": "stdout",
     "output_type": "stream",
     "text": [
      "\n",
      "Running VQE for optimizer-ansatz pair: SLSQP-RealAmplitudes\n"
     ]
    },
    {
     "name": "stderr",
     "output_type": "stream",
     "text": [
      "C:\\Users\\Owner\\AppData\\Local\\Temp\\ipykernel_11088\\795971042.py:108: DeprecationWarning: Conversion of an array with ndim > 0 to a scalar is deprecated, and will error in future. Ensure you extract a single element from your array before performing this operation. (Deprecated NumPy 1.25.)\n",
      "  eigenvector[2*i] = eigenvector_old[i]\n"
     ]
    },
    {
     "name": "stdout",
     "output_type": "stream",
     "text": [
      "SLSQP-RealAmplitudes - Depth 1: Average relative error = 0.24968473488819098\n",
      "SLSQP-RealAmplitudes - Depth 2: Average relative error = 0.3803728020238014\n",
      "SLSQP-RealAmplitudes - Depth 3: Average relative error = 4.843210048540906e-05\n",
      "Optimal depth 3 for SLSQP-RealAmplitudes achieved lowest relative error = 2.836542927502935e-06\n",
      "Run number with lowest relative error: 3\n",
      "Relative error at optimal run for SLSQP-RealAmplitudes: 2.836542927502935e-06\n",
      "Resource estimates for SLSQP-RealAmplitudes: Gate count = 11, Circuit depth = 7, Function calls = 106\n",
      "\n",
      "Running VQE for optimizer-ansatz pair: SLSQP-TwoLocal\n",
      "SLSQP-TwoLocal - Depth 1: Average relative error = 7.51628079435751e-05\n",
      "Optimal depth 1 for SLSQP-TwoLocal achieved lowest relative error = 8.632139444031718e-06\n",
      "Run number with lowest relative error: 3\n",
      "Relative error at optimal run for SLSQP-TwoLocal: 8.632139444031718e-06\n",
      "Resource estimates for SLSQP-TwoLocal: Gate count = 5, Circuit depth = 3, Function calls = 80\n",
      "\n",
      "Running VQE for optimizer-ansatz pair: SLSQP-EfficientSU2\n",
      "SLSQP-EfficientSU2 - Depth 1: Average relative error = 0.24968473488819098\n"
     ]
    },
    {
     "name": "stderr",
     "output_type": "stream",
     "text": [
      "C:\\Users\\Owner\\anaconda3\\Lib\\site-packages\\scipy\\optimize\\_slsqp_py.py:441: RuntimeWarning: Values in x were outside bounds during a minimize step, clipping to bounds\n",
      "  g = append(wrapped_grad(x), 0.0)\n"
     ]
    },
    {
     "name": "stdout",
     "output_type": "stream",
     "text": [
      "SLSQP-EfficientSU2 - Depth 2: Average relative error = 0.03808474441722653\n"
     ]
    },
    {
     "name": "stderr",
     "output_type": "stream",
     "text": [
      "For Windows, using only current process. Multiple core use not supported.\n"
     ]
    },
    {
     "name": "stdout",
     "output_type": "stream",
     "text": [
      "SLSQP-EfficientSU2 - Depth 3: Average relative error = 3.7479712721115874e-05\n",
      "Optimal depth 3 for SLSQP-EfficientSU2 achieved lowest relative error = 7.130267372472693e-07\n",
      "Run number with lowest relative error: 9\n",
      "Relative error at optimal run for SLSQP-EfficientSU2: 7.130267372472693e-07\n",
      "Resource estimates for SLSQP-EfficientSU2: Gate count = 11, Circuit depth = 7, Function calls = 142\n",
      "\n",
      "Running VQE for optimizer-ansatz pair: P_BFGS-RealAmplitudes\n"
     ]
    },
    {
     "name": "stderr",
     "output_type": "stream",
     "text": [
      "For Windows, using only current process. Multiple core use not supported.\n",
      "For Windows, using only current process. Multiple core use not supported.\n",
      "For Windows, using only current process. Multiple core use not supported.\n",
      "For Windows, using only current process. Multiple core use not supported.\n",
      "For Windows, using only current process. Multiple core use not supported.\n",
      "For Windows, using only current process. Multiple core use not supported.\n",
      "For Windows, using only current process. Multiple core use not supported.\n",
      "For Windows, using only current process. Multiple core use not supported.\n",
      "For Windows, using only current process. Multiple core use not supported.\n",
      "For Windows, using only current process. Multiple core use not supported.\n"
     ]
    },
    {
     "name": "stdout",
     "output_type": "stream",
     "text": [
      "P_BFGS-RealAmplitudes - Depth 1: Average relative error = 0.2686750398148066\n"
     ]
    },
    {
     "name": "stderr",
     "output_type": "stream",
     "text": [
      "For Windows, using only current process. Multiple core use not supported.\n",
      "For Windows, using only current process. Multiple core use not supported.\n",
      "For Windows, using only current process. Multiple core use not supported.\n",
      "For Windows, using only current process. Multiple core use not supported.\n",
      "For Windows, using only current process. Multiple core use not supported.\n",
      "For Windows, using only current process. Multiple core use not supported.\n",
      "For Windows, using only current process. Multiple core use not supported.\n",
      "For Windows, using only current process. Multiple core use not supported.\n",
      "For Windows, using only current process. Multiple core use not supported.\n",
      "For Windows, using only current process. Multiple core use not supported.\n"
     ]
    },
    {
     "name": "stdout",
     "output_type": "stream",
     "text": [
      "P_BFGS-RealAmplitudes - Depth 2: Average relative error = 0.6610696650018539\n"
     ]
    },
    {
     "name": "stderr",
     "output_type": "stream",
     "text": [
      "For Windows, using only current process. Multiple core use not supported.\n",
      "For Windows, using only current process. Multiple core use not supported.\n",
      "For Windows, using only current process. Multiple core use not supported.\n",
      "For Windows, using only current process. Multiple core use not supported.\n",
      "For Windows, using only current process. Multiple core use not supported.\n",
      "For Windows, using only current process. Multiple core use not supported.\n",
      "For Windows, using only current process. Multiple core use not supported.\n",
      "For Windows, using only current process. Multiple core use not supported.\n",
      "For Windows, using only current process. Multiple core use not supported.\n",
      "For Windows, using only current process. Multiple core use not supported.\n"
     ]
    },
    {
     "name": "stdout",
     "output_type": "stream",
     "text": [
      "P_BFGS-RealAmplitudes - Depth 3: Average relative error = 0.09982497281086346\n"
     ]
    },
    {
     "name": "stderr",
     "output_type": "stream",
     "text": [
      "For Windows, using only current process. Multiple core use not supported.\n",
      "For Windows, using only current process. Multiple core use not supported.\n",
      "For Windows, using only current process. Multiple core use not supported.\n",
      "For Windows, using only current process. Multiple core use not supported.\n",
      "For Windows, using only current process. Multiple core use not supported.\n",
      "For Windows, using only current process. Multiple core use not supported.\n",
      "For Windows, using only current process. Multiple core use not supported.\n",
      "For Windows, using only current process. Multiple core use not supported.\n",
      "For Windows, using only current process. Multiple core use not supported.\n",
      "For Windows, using only current process. Multiple core use not supported.\n"
     ]
    },
    {
     "name": "stdout",
     "output_type": "stream",
     "text": [
      "P_BFGS-RealAmplitudes - Depth 4: Average relative error = 2.1508659610036016e-07\n",
      "Optimal depth 4 for P_BFGS-RealAmplitudes achieved lowest relative error = 7.442703715072253e-09\n",
      "Run number with lowest relative error: 5\n",
      "Relative error at optimal run for P_BFGS-RealAmplitudes: 7.442703715072253e-09\n",
      "Resource estimates for P_BFGS-RealAmplitudes: Gate count = 14, Circuit depth = 9, Function calls = 550\n",
      "\n",
      "Running VQE for optimizer-ansatz pair: P_BFGS-TwoLocal\n"
     ]
    },
    {
     "name": "stderr",
     "output_type": "stream",
     "text": [
      "For Windows, using only current process. Multiple core use not supported.\n",
      "For Windows, using only current process. Multiple core use not supported.\n",
      "For Windows, using only current process. Multiple core use not supported.\n",
      "For Windows, using only current process. Multiple core use not supported.\n",
      "For Windows, using only current process. Multiple core use not supported.\n",
      "For Windows, using only current process. Multiple core use not supported.\n",
      "For Windows, using only current process. Multiple core use not supported.\n",
      "For Windows, using only current process. Multiple core use not supported.\n",
      "For Windows, using only current process. Multiple core use not supported.\n",
      "For Windows, using only current process. Multiple core use not supported.\n"
     ]
    },
    {
     "name": "stdout",
     "output_type": "stream",
     "text": [
      "P_BFGS-TwoLocal - Depth 1: Average relative error = 3.6379645344299216e-07\n",
      "Optimal depth 1 for P_BFGS-TwoLocal achieved lowest relative error = 5.607225521331557e-08\n",
      "Run number with lowest relative error: 7\n",
      "Relative error at optimal run for P_BFGS-TwoLocal: 5.607225521331557e-08\n",
      "Resource estimates for P_BFGS-TwoLocal: Gate count = 5, Circuit depth = 3, Function calls = 150\n",
      "\n",
      "Running VQE for optimizer-ansatz pair: P_BFGS-EfficientSU2\n"
     ]
    },
    {
     "name": "stderr",
     "output_type": "stream",
     "text": [
      "For Windows, using only current process. Multiple core use not supported.\n",
      "For Windows, using only current process. Multiple core use not supported.\n",
      "For Windows, using only current process. Multiple core use not supported.\n",
      "For Windows, using only current process. Multiple core use not supported.\n",
      "For Windows, using only current process. Multiple core use not supported.\n",
      "For Windows, using only current process. Multiple core use not supported.\n",
      "For Windows, using only current process. Multiple core use not supported.\n",
      "For Windows, using only current process. Multiple core use not supported.\n",
      "For Windows, using only current process. Multiple core use not supported.\n",
      "For Windows, using only current process. Multiple core use not supported.\n"
     ]
    },
    {
     "name": "stdout",
     "output_type": "stream",
     "text": [
      "P_BFGS-EfficientSU2 - Depth 1: Average relative error = 0.2686750398148066\n"
     ]
    },
    {
     "name": "stderr",
     "output_type": "stream",
     "text": [
      "For Windows, using only current process. Multiple core use not supported.\n",
      "For Windows, using only current process. Multiple core use not supported.\n",
      "For Windows, using only current process. Multiple core use not supported.\n",
      "For Windows, using only current process. Multiple core use not supported.\n",
      "For Windows, using only current process. Multiple core use not supported.\n",
      "For Windows, using only current process. Multiple core use not supported.\n",
      "For Windows, using only current process. Multiple core use not supported.\n",
      "For Windows, using only current process. Multiple core use not supported.\n",
      "For Windows, using only current process. Multiple core use not supported.\n",
      "For Windows, using only current process. Multiple core use not supported.\n"
     ]
    },
    {
     "name": "stdout",
     "output_type": "stream",
     "text": [
      "P_BFGS-EfficientSU2 - Depth 2: Average relative error = 0.13758628230959535\n"
     ]
    },
    {
     "name": "stderr",
     "output_type": "stream",
     "text": [
      "For Windows, using only current process. Multiple core use not supported.\n",
      "For Windows, using only current process. Multiple core use not supported.\n",
      "For Windows, using only current process. Multiple core use not supported.\n",
      "For Windows, using only current process. Multiple core use not supported.\n",
      "For Windows, using only current process. Multiple core use not supported.\n",
      "For Windows, using only current process. Multiple core use not supported.\n",
      "For Windows, using only current process. Multiple core use not supported.\n",
      "For Windows, using only current process. Multiple core use not supported.\n",
      "For Windows, using only current process. Multiple core use not supported.\n"
     ]
    },
    {
     "name": "stdout",
     "output_type": "stream",
     "text": [
      "P_BFGS-EfficientSU2 - Depth 3: Average relative error = 2.58630848068677e-07\n",
      "Optimal depth 3 for P_BFGS-EfficientSU2 achieved lowest relative error = 6.17281161420991e-10\n",
      "Run number with lowest relative error: 1\n",
      "Relative error at optimal run for P_BFGS-EfficientSU2: 6.17281161420991e-10\n",
      "Resource estimates for P_BFGS-EfficientSU2: Gate count = 11, Circuit depth = 7, Function calls = 396\n"
     ]
    }
   ],
   "source": [
    "## Get the optimizers\n",
    "maxiter = 5000\n",
    "optimizers = [SLSQP(maxiter = maxiter), P_BFGS(maxfun = maxiter)]\n",
    "\n",
    "# Define parameters\n",
    "dimension = matrix.shape[0]\n",
    "num_qubits = int(np.log2(dimension))\n",
    "target_error_threshold = 0.01\n",
    "\n",
    "# Estimate min. ansatz depths\n",
    "min_depths_N_4, errors_N_4, resources_N_4 = estimate_resources(matrix, zeromode, optimizers, num_qubits, target_error_threshold, \\\n",
    "                                                               classical_expectation, nmax, L)"
   ]
  },
  {
   "cell_type": "markdown",
   "id": "5c0cb654-c446-4a72-b9f1-1e419930057b",
   "metadata": {},
   "source": [
    "### Print resource estimates"
   ]
  },
  {
   "cell_type": "code",
   "execution_count": 42,
   "id": "ce2078a0-6b44-4c15-bd4b-41cc3f18f882",
   "metadata": {},
   "outputs": [
    {
     "name": "stdout",
     "output_type": "stream",
     "text": [
      "The min. ansatz depth results are:\n",
      "{'SLSQP-RealAmplitudes': 3, 'SLSQP-TwoLocal': 1, 'SLSQP-EfficientSU2': 3, 'P_BFGS-RealAmplitudes': 4, 'P_BFGS-TwoLocal': 1, 'P_BFGS-EfficientSU2': 3}\n",
      "\n",
      "The relative errors are:\n",
      "{'SLSQP-RealAmplitudes': 2.836542927502935e-06, 'SLSQP-TwoLocal': 8.632139444031718e-06, 'SLSQP-EfficientSU2': 7.130267372472693e-07, 'P_BFGS-RealAmplitudes': 7.442703715072253e-09, 'P_BFGS-TwoLocal': 5.607225521331557e-08, 'P_BFGS-EfficientSU2': 6.17281161420991e-10}\n",
      "\n",
      "The resources required are:\n",
      "{'SLSQP-RealAmplitudes': {'gate_count': 11, 'circuit_depth': 7, 'function_calls': 106}, 'SLSQP-TwoLocal': {'gate_count': 5, 'circuit_depth': 3, 'function_calls': 80}, 'SLSQP-EfficientSU2': {'gate_count': 11, 'circuit_depth': 7, 'function_calls': 142}, 'P_BFGS-RealAmplitudes': {'gate_count': 14, 'circuit_depth': 9, 'function_calls': 550}, 'P_BFGS-TwoLocal': {'gate_count': 5, 'circuit_depth': 3, 'function_calls': 150}, 'P_BFGS-EfficientSU2': {'gate_count': 11, 'circuit_depth': 7, 'function_calls': 396}}\n",
      "\n"
     ]
    }
   ],
   "source": [
    "## Print the min. ansatz depth results\n",
    "print('The min. ansatz depth results are:')\n",
    "print(min_depths_N_4)\n",
    "print()\n",
    "\n",
    "## Print the relative errors\n",
    "print('The relative errors are:')\n",
    "print(errors_N_4)\n",
    "print()\n",
    "\n",
    "## Print the resource estimates\n",
    "print('The resources required are:')\n",
    "print(resources_N_4)\n",
    "print()"
   ]
  },
  {
   "cell_type": "markdown",
   "id": "3071176f-f73f-4d8f-8301-997d54aabb8f",
   "metadata": {},
   "source": [
    "### Estimating resource requirements for NELDER-MEAD and POWELL (fix at 5000 optimization iterations)"
   ]
  },
  {
   "cell_type": "code",
   "execution_count": 29,
   "id": "b32b02e0-40c6-4314-a6af-b5a41f69def2",
   "metadata": {},
   "outputs": [
    {
     "name": "stdout",
     "output_type": "stream",
     "text": [
      "\n",
      "Running VQE for optimizer-ansatz pair: NELDER_MEAD-RealAmplitudes\n"
     ]
    },
    {
     "name": "stderr",
     "output_type": "stream",
     "text": [
      "C:\\Users\\Owner\\AppData\\Local\\Temp\\ipykernel_32760\\795971042.py:108: DeprecationWarning: Conversion of an array with ndim > 0 to a scalar is deprecated, and will error in future. Ensure you extract a single element from your array before performing this operation. (Deprecated NumPy 1.25.)\n",
      "  eigenvector[2*i] = eigenvector_old[i]\n"
     ]
    },
    {
     "name": "stdout",
     "output_type": "stream",
     "text": [
      "NELDER_MEAD-RealAmplitudes - Depth 1: Average relative error = 6.923942654359994e-05\n",
      "Optimal depth 1 for NELDER_MEAD-RealAmplitudes achieved lowest relative error = 1.916148148893346e-05\n",
      "Run number with lowest relative error: 1\n",
      "Relative error at optimal run for NELDER_MEAD-RealAmplitudes: 1.916148148893346e-05\n",
      "Resource estimates for NELDER_MEAD-RealAmplitudes: Gate count = 5, Circuit depth = 3, Function calls = 175\n",
      "\n",
      "Running VQE for optimizer-ansatz pair: NELDER_MEAD-TwoLocal\n",
      "NELDER_MEAD-TwoLocal - Depth 1: Average relative error = 6.923942654359994e-05\n",
      "Optimal depth 1 for NELDER_MEAD-TwoLocal achieved lowest relative error = 1.916148148893346e-05\n",
      "Run number with lowest relative error: 1\n",
      "Relative error at optimal run for NELDER_MEAD-TwoLocal: 1.916148148893346e-05\n",
      "Resource estimates for NELDER_MEAD-TwoLocal: Gate count = 5, Circuit depth = 3, Function calls = 175\n",
      "\n",
      "Running VQE for optimizer-ansatz pair: NELDER_MEAD-EfficientSU2\n",
      "NELDER_MEAD-EfficientSU2 - Depth 1: Average relative error = 6.923942654359994e-05\n",
      "Optimal depth 1 for NELDER_MEAD-EfficientSU2 achieved lowest relative error = 1.916148148893346e-05\n",
      "Run number with lowest relative error: 1\n",
      "Relative error at optimal run for NELDER_MEAD-EfficientSU2: 1.916148148893346e-05\n",
      "Resource estimates for NELDER_MEAD-EfficientSU2: Gate count = 5, Circuit depth = 3, Function calls = 175\n",
      "\n",
      "Running VQE for optimizer-ansatz pair: POWELL-RealAmplitudes\n",
      "POWELL-RealAmplitudes - Depth 1: Average relative error = 22.889145794598488\n",
      "POWELL-RealAmplitudes - Depth 2: Average relative error = 1.19857449567801\n",
      "POWELL-RealAmplitudes - Depth 3: Average relative error = 0.13169990147688987\n",
      "POWELL-RealAmplitudes - Depth 4: Average relative error = 0.3225724812647321\n",
      "POWELL-RealAmplitudes - Depth 5: Average relative error = 0.001824362829328836\n",
      "Optimal depth 5 for POWELL-RealAmplitudes achieved lowest relative error = 4.658566225877019e-06\n",
      "Run number with lowest relative error: 5\n",
      "Relative error at optimal run for POWELL-RealAmplitudes: 4.658566225877019e-06\n",
      "Resource estimates for POWELL-RealAmplitudes: Gate count = 17, Circuit depth = 11, Function calls = 702\n",
      "\n",
      "Running VQE for optimizer-ansatz pair: POWELL-TwoLocal\n",
      "POWELL-TwoLocal - Depth 1: Average relative error = 9.336934219287669e-06\n",
      "Optimal depth 1 for POWELL-TwoLocal achieved lowest relative error = 5.363263817009758e-08\n",
      "Run number with lowest relative error: 1\n",
      "Relative error at optimal run for POWELL-TwoLocal: 5.363263817009758e-08\n",
      "Resource estimates for POWELL-TwoLocal: Gate count = 5, Circuit depth = 3, Function calls = 438\n",
      "\n",
      "Running VQE for optimizer-ansatz pair: POWELL-EfficientSU2\n",
      "POWELL-EfficientSU2 - Depth 1: Average relative error = 22.889145794598488\n",
      "POWELL-EfficientSU2 - Depth 2: Average relative error = 1.349409248123576\n",
      "POWELL-EfficientSU2 - Depth 3: Average relative error = 2.929987017393423e-05\n",
      "Optimal depth 3 for POWELL-EfficientSU2 achieved lowest relative error = 5.277416279603296e-06\n",
      "Run number with lowest relative error: 6\n",
      "Relative error at optimal run for POWELL-EfficientSU2: 5.277416279603296e-06\n",
      "Resource estimates for POWELL-EfficientSU2: Gate count = 11, Circuit depth = 7, Function calls = 444\n"
     ]
    }
   ],
   "source": [
    "## Get the optimizers\n",
    "maxiter = 5000\n",
    "optimizers = [NELDER_MEAD(maxiter = maxiter), POWELL(maxiter = maxiter)]\n",
    "\n",
    "# Define parameters\n",
    "dimension = matrix.shape[0]\n",
    "num_qubits = int(np.log2(dimension))\n",
    "target_error_threshold = 0.01\n",
    "\n",
    "# Estimate min. ansatz depths\n",
    "min_depths_N_4, errors_N_4, resources_N_4 = estimate_resources(matrix, zeromode, optimizers, num_qubits, target_error_threshold, \\\n",
    "                                                               classical_expectation, nmax, L)"
   ]
  },
  {
   "cell_type": "markdown",
   "id": "e913dfc9-3248-49a2-bf27-306dd6795150",
   "metadata": {},
   "source": [
    "### Print resource estimates"
   ]
  },
  {
   "cell_type": "code",
   "execution_count": 32,
   "id": "2e838d70-81dd-43a8-9607-61d8dec65629",
   "metadata": {
    "scrolled": true
   },
   "outputs": [
    {
     "name": "stdout",
     "output_type": "stream",
     "text": [
      "The min. ansatz depth results are:\n",
      "{'NELDER_MEAD-RealAmplitudes': 1, 'NELDER_MEAD-TwoLocal': 1, 'NELDER_MEAD-EfficientSU2': 1, 'POWELL-RealAmplitudes': 5, 'POWELL-TwoLocal': 1, 'POWELL-EfficientSU2': 3}\n",
      "\n",
      "The relative errors are:\n",
      "{'NELDER_MEAD-RealAmplitudes': 1.916148148893346e-05, 'NELDER_MEAD-TwoLocal': 1.916148148893346e-05, 'NELDER_MEAD-EfficientSU2': 1.916148148893346e-05, 'POWELL-RealAmplitudes': 4.658566225877019e-06, 'POWELL-TwoLocal': 5.363263817009758e-08, 'POWELL-EfficientSU2': 5.277416279603296e-06}\n",
      "\n",
      "The resources required are:\n",
      "{'NELDER_MEAD-RealAmplitudes': {'gate_count': 5, 'circuit_depth': 3, 'function_calls': 175}, 'NELDER_MEAD-TwoLocal': {'gate_count': 5, 'circuit_depth': 3, 'function_calls': 175}, 'NELDER_MEAD-EfficientSU2': {'gate_count': 5, 'circuit_depth': 3, 'function_calls': 175}, 'POWELL-RealAmplitudes': {'gate_count': 17, 'circuit_depth': 11, 'function_calls': 702}, 'POWELL-TwoLocal': {'gate_count': 5, 'circuit_depth': 3, 'function_calls': 438}, 'POWELL-EfficientSU2': {'gate_count': 11, 'circuit_depth': 7, 'function_calls': 444}}\n",
      "\n"
     ]
    }
   ],
   "source": [
    "## Print the min. ansatz depth results\n",
    "print('The min. ansatz depth results are:')\n",
    "print(min_depths_N_4)\n",
    "print()\n",
    "\n",
    "## Print the relative errors\n",
    "print('The relative errors are:')\n",
    "print(errors_N_4)\n",
    "print()\n",
    "\n",
    "## Print the resource estimates\n",
    "print('The resources required are:')\n",
    "print(resources_N_4)\n",
    "print()"
   ]
  },
  {
   "cell_type": "markdown",
   "id": "e328172d-8caa-4813-a0ba-369cd66ad3e5",
   "metadata": {},
   "source": [
    "### For a = 1, b = 2 (N = 8)\n",
    "\n",
    "### Get the matrix and the zeromode"
   ]
  },
  {
   "cell_type": "code",
   "execution_count": 34,
   "id": "fb9c885e-9a93-4e57-a7fb-ece4f3153136",
   "metadata": {},
   "outputs": [
    {
     "name": "stdout",
     "output_type": "stream",
     "text": [
      "The matrix is:\n",
      "[[ 6.14062500e+00 -2.34671063e+01  3.55176013e+01 -9.22378041e+00\n",
      "  -3.13747510e+00  0.00000000e+00  0.00000000e+00  0.00000000e+00]\n",
      " [-2.34671063e+01  9.68906250e+01 -1.51662699e+02  1.11470288e+02\n",
      "  -6.65558976e+01 -2.10468228e+01  0.00000000e+00  0.00000000e+00]\n",
      " [ 3.55176013e+01 -1.51662699e+02  4.02390625e+02 -3.54479193e+02\n",
      "   1.63951212e+02 -2.30876387e+02 -6.98044143e+01  0.00000000e+00]\n",
      " [-9.22378041e+00  1.11470288e+02 -3.54479193e+02  1.05164062e+03\n",
      "  -5.71772019e+02  1.15363556e+02 -5.86246269e+02 -1.71932490e+02]\n",
      " [-3.13747510e+00 -6.65558976e+01  1.63951212e+02 -5.71772019e+02\n",
      "   2.23364062e+03 -7.19516989e+02 -1.36244266e+02 -1.24067405e+03]\n",
      " [ 0.00000000e+00 -2.10468228e+01 -2.30876387e+02  1.15363556e+02\n",
      "  -7.19516989e+02  4.19739062e+03 -6.89706553e+02 -7.16860080e+02]\n",
      " [ 0.00000000e+00  0.00000000e+00 -6.98044143e+01 -5.86246269e+02\n",
      "  -1.36244266e+02 -6.89706553e+02  6.56939062e+03 -1.15978184e+03]\n",
      " [ 0.00000000e+00  0.00000000e+00  0.00000000e+00 -1.71932490e+02\n",
      "  -1.24067405e+03 -7.16860080e+02 -1.15978184e+03  9.65864062e+03]]\n",
      "\n",
      "The zeromode is:\n",
      "[[-9.70765847e-01]\n",
      " [-2.38641915e-01]\n",
      " [ 1.49872667e-02]\n",
      " [ 2.02525015e-02]\n",
      " [-4.87634140e-03]\n",
      " [-1.51995952e-03]\n",
      " [ 1.67450042e-03]\n",
      " [-1.77605778e-04]]\n",
      "\n",
      "The value of <x^2> is:\n",
      "0.36296427302630774\n",
      "\n"
     ]
    },
    {
     "name": "stderr",
     "output_type": "stream",
     "text": [
      "C:\\Users\\Owner\\AppData\\Local\\Temp\\ipykernel_32760\\795971042.py:108: DeprecationWarning: Conversion of an array with ndim > 0 to a scalar is deprecated, and will error in future. Ensure you extract a single element from your array before performing this operation. (Deprecated NumPy 1.25.)\n",
      "  eigenvector[2*i] = eigenvector_old[i]\n"
     ]
    }
   ],
   "source": [
    "## Get the matrix and zeromode\n",
    "nmax = 15\n",
    "a = 1\n",
    "gamma = 1\n",
    "dx = 0.01\n",
    "c = 2\n",
    "L = 1/2\n",
    "x = np.linspace(-4, 4, int(8/dx))\n",
    "\n",
    "# Matrix and zeromode\n",
    "matrix, zeromode = get_zeromode(nmax, a, c, L, gamma)\n",
    "\n",
    "## Print the matrix and zeromode\n",
    "print('The matrix is:')\n",
    "print(matrix)\n",
    "print()\n",
    "\n",
    "# Print the zeromode\n",
    "print('The zeromode is:')\n",
    "print(zeromode)\n",
    "print()\n",
    "\n",
    "## Compute the classical <x^2> value\n",
    "x, y = get_pdf(nmax, x, dx, L, shift = 0, zeromode_qpe = zeromode, normalize = True, make_even = True)\n",
    "classical_expectation = compute_expectation_x_squared_simpson(x, y, 2)\n",
    "\n",
    "# Print the classical expectation value\n",
    "print('The value of <x^2> is:')\n",
    "print(classical_expectation)\n",
    "print()"
   ]
  },
  {
   "cell_type": "markdown",
   "id": "d8506fd4-4c1d-4da4-acfc-1c7822656de0",
   "metadata": {},
   "source": [
    "### Estimate resource requirements (fix at 5000 optimization iterations)"
   ]
  },
  {
   "cell_type": "code",
   "execution_count": 48,
   "id": "43c0f6e6-0d31-4459-bbe5-859e6337fddf",
   "metadata": {},
   "outputs": [
    {
     "name": "stdout",
     "output_type": "stream",
     "text": [
      "\n",
      "Running VQE for optimizer-ansatz pair: SLSQP-RealAmplitudes\n"
     ]
    },
    {
     "name": "stderr",
     "output_type": "stream",
     "text": [
      "C:\\Users\\Owner\\AppData\\Local\\Temp\\ipykernel_11088\\795971042.py:108: DeprecationWarning: Conversion of an array with ndim > 0 to a scalar is deprecated, and will error in future. Ensure you extract a single element from your array before performing this operation. (Deprecated NumPy 1.25.)\n",
      "  eigenvector[2*i] = eigenvector_old[i]\n"
     ]
    },
    {
     "name": "stdout",
     "output_type": "stream",
     "text": [
      "SLSQP-RealAmplitudes - Depth 1: Average relative error = 0.1769820399026217\n",
      "SLSQP-RealAmplitudes - Depth 2: Average relative error = 0.032556950769379964\n",
      "SLSQP-RealAmplitudes - Depth 3: Average relative error = 0.06432301042493446\n",
      "SLSQP-RealAmplitudes - Depth 4: Average relative error = 8.04308259617955e-05\n",
      "Optimal depth 4 for SLSQP-RealAmplitudes achieved lowest relative error = 1.7376325789516022e-05\n",
      "Run number with lowest relative error: 9\n",
      "Relative error at optimal run for SLSQP-RealAmplitudes: 1.7376325789516022e-05\n",
      "Resource estimates for SLSQP-RealAmplitudes: Gate count = 27, Circuit depth = 17, Function calls = 569\n",
      "\n",
      "Running VQE for optimizer-ansatz pair: SLSQP-TwoLocal\n",
      "SLSQP-TwoLocal - Depth 1: Average relative error = 0.022191522924590562\n",
      "SLSQP-TwoLocal - Depth 2: Average relative error = 0.01575752571302102\n",
      "SLSQP-TwoLocal - Depth 3: Average relative error = 0.00011896187185419384\n",
      "Optimal depth 3 for SLSQP-TwoLocal achieved lowest relative error = 2.464518617350669e-07\n",
      "Run number with lowest relative error: 9\n",
      "Relative error at optimal run for SLSQP-TwoLocal: 2.464518617350669e-07\n",
      "Resource estimates for SLSQP-TwoLocal: Gate count = 21, Circuit depth = 13, Function calls = 501\n",
      "\n",
      "Running VQE for optimizer-ansatz pair: SLSQP-EfficientSU2\n",
      "SLSQP-EfficientSU2 - Depth 1: Average relative error = 0.6947288363892585\n",
      "SLSQP-EfficientSU2 - Depth 2: Average relative error = 0.1251529433094541\n",
      "SLSQP-EfficientSU2 - Depth 3: Average relative error = 0.11550199452182533\n"
     ]
    },
    {
     "name": "stderr",
     "output_type": "stream",
     "text": [
      "For Windows, using only current process. Multiple core use not supported.\n"
     ]
    },
    {
     "name": "stdout",
     "output_type": "stream",
     "text": [
      "SLSQP-EfficientSU2 - Depth 4: Average relative error = 8.30570576411443e-05\n",
      "Optimal depth 4 for SLSQP-EfficientSU2 achieved lowest relative error = 5.849134291772261e-07\n",
      "Run number with lowest relative error: 2\n",
      "Relative error at optimal run for SLSQP-EfficientSU2: 5.849134291772261e-07\n",
      "Resource estimates for SLSQP-EfficientSU2: Gate count = 27, Circuit depth = 17, Function calls = 712\n",
      "\n",
      "Running VQE for optimizer-ansatz pair: P_BFGS-RealAmplitudes\n"
     ]
    },
    {
     "name": "stderr",
     "output_type": "stream",
     "text": [
      "For Windows, using only current process. Multiple core use not supported.\n",
      "For Windows, using only current process. Multiple core use not supported.\n",
      "For Windows, using only current process. Multiple core use not supported.\n",
      "For Windows, using only current process. Multiple core use not supported.\n",
      "For Windows, using only current process. Multiple core use not supported.\n",
      "For Windows, using only current process. Multiple core use not supported.\n",
      "For Windows, using only current process. Multiple core use not supported.\n",
      "For Windows, using only current process. Multiple core use not supported.\n",
      "For Windows, using only current process. Multiple core use not supported.\n",
      "For Windows, using only current process. Multiple core use not supported.\n"
     ]
    },
    {
     "name": "stdout",
     "output_type": "stream",
     "text": [
      "P_BFGS-RealAmplitudes - Depth 1: Average relative error = 0.14924469903401227\n"
     ]
    },
    {
     "name": "stderr",
     "output_type": "stream",
     "text": [
      "For Windows, using only current process. Multiple core use not supported.\n",
      "For Windows, using only current process. Multiple core use not supported.\n",
      "For Windows, using only current process. Multiple core use not supported.\n",
      "For Windows, using only current process. Multiple core use not supported.\n",
      "For Windows, using only current process. Multiple core use not supported.\n",
      "For Windows, using only current process. Multiple core use not supported.\n",
      "For Windows, using only current process. Multiple core use not supported.\n",
      "For Windows, using only current process. Multiple core use not supported.\n",
      "For Windows, using only current process. Multiple core use not supported.\n",
      "For Windows, using only current process. Multiple core use not supported.\n"
     ]
    },
    {
     "name": "stdout",
     "output_type": "stream",
     "text": [
      "P_BFGS-RealAmplitudes - Depth 2: Average relative error = 1.2720273044747872\n"
     ]
    },
    {
     "name": "stderr",
     "output_type": "stream",
     "text": [
      "For Windows, using only current process. Multiple core use not supported.\n",
      "For Windows, using only current process. Multiple core use not supported.\n",
      "For Windows, using only current process. Multiple core use not supported.\n",
      "For Windows, using only current process. Multiple core use not supported.\n",
      "For Windows, using only current process. Multiple core use not supported.\n",
      "For Windows, using only current process. Multiple core use not supported.\n",
      "For Windows, using only current process. Multiple core use not supported.\n",
      "For Windows, using only current process. Multiple core use not supported.\n",
      "For Windows, using only current process. Multiple core use not supported.\n",
      "For Windows, using only current process. Multiple core use not supported.\n"
     ]
    },
    {
     "name": "stdout",
     "output_type": "stream",
     "text": [
      "P_BFGS-RealAmplitudes - Depth 3: Average relative error = 0.2008308011186828\n"
     ]
    },
    {
     "name": "stderr",
     "output_type": "stream",
     "text": [
      "For Windows, using only current process. Multiple core use not supported.\n",
      "For Windows, using only current process. Multiple core use not supported.\n",
      "For Windows, using only current process. Multiple core use not supported.\n",
      "For Windows, using only current process. Multiple core use not supported.\n",
      "For Windows, using only current process. Multiple core use not supported.\n",
      "For Windows, using only current process. Multiple core use not supported.\n",
      "For Windows, using only current process. Multiple core use not supported.\n",
      "For Windows, using only current process. Multiple core use not supported.\n",
      "For Windows, using only current process. Multiple core use not supported.\n",
      "For Windows, using only current process. Multiple core use not supported.\n"
     ]
    },
    {
     "name": "stdout",
     "output_type": "stream",
     "text": [
      "P_BFGS-RealAmplitudes - Depth 4: Average relative error = 1.7113174788836823e-06\n",
      "Optimal depth 4 for P_BFGS-RealAmplitudes achieved lowest relative error = 1.2739785156561975e-07\n",
      "Run number with lowest relative error: 7\n",
      "Relative error at optimal run for P_BFGS-RealAmplitudes: 1.2739785156561975e-07\n",
      "Resource estimates for P_BFGS-RealAmplitudes: Gate count = 27, Circuit depth = 17, Function calls = 1264\n",
      "\n",
      "Running VQE for optimizer-ansatz pair: P_BFGS-TwoLocal\n"
     ]
    },
    {
     "name": "stderr",
     "output_type": "stream",
     "text": [
      "For Windows, using only current process. Multiple core use not supported.\n",
      "For Windows, using only current process. Multiple core use not supported.\n",
      "For Windows, using only current process. Multiple core use not supported.\n",
      "For Windows, using only current process. Multiple core use not supported.\n",
      "For Windows, using only current process. Multiple core use not supported.\n",
      "For Windows, using only current process. Multiple core use not supported.\n",
      "For Windows, using only current process. Multiple core use not supported.\n",
      "For Windows, using only current process. Multiple core use not supported.\n",
      "For Windows, using only current process. Multiple core use not supported.\n",
      "For Windows, using only current process. Multiple core use not supported.\n"
     ]
    },
    {
     "name": "stdout",
     "output_type": "stream",
     "text": [
      "P_BFGS-TwoLocal - Depth 1: Average relative error = 0.016254271202909044\n"
     ]
    },
    {
     "name": "stderr",
     "output_type": "stream",
     "text": [
      "For Windows, using only current process. Multiple core use not supported.\n",
      "For Windows, using only current process. Multiple core use not supported.\n",
      "For Windows, using only current process. Multiple core use not supported.\n",
      "For Windows, using only current process. Multiple core use not supported.\n",
      "For Windows, using only current process. Multiple core use not supported.\n",
      "For Windows, using only current process. Multiple core use not supported.\n",
      "For Windows, using only current process. Multiple core use not supported.\n",
      "For Windows, using only current process. Multiple core use not supported.\n",
      "For Windows, using only current process. Multiple core use not supported.\n",
      "For Windows, using only current process. Multiple core use not supported.\n"
     ]
    },
    {
     "name": "stdout",
     "output_type": "stream",
     "text": [
      "P_BFGS-TwoLocal - Depth 2: Average relative error = 0.002636540166955847\n",
      "Optimal depth 2 for P_BFGS-TwoLocal achieved lowest relative error = 2.095845992341826e-05\n",
      "Run number with lowest relative error: 6\n",
      "Relative error at optimal run for P_BFGS-TwoLocal: 2.095845992341826e-05\n",
      "Resource estimates for P_BFGS-TwoLocal: Gate count = 15, Circuit depth = 9, Function calls = 2750\n",
      "\n",
      "Running VQE for optimizer-ansatz pair: P_BFGS-EfficientSU2\n"
     ]
    },
    {
     "name": "stderr",
     "output_type": "stream",
     "text": [
      "For Windows, using only current process. Multiple core use not supported.\n",
      "For Windows, using only current process. Multiple core use not supported.\n",
      "For Windows, using only current process. Multiple core use not supported.\n",
      "For Windows, using only current process. Multiple core use not supported.\n",
      "For Windows, using only current process. Multiple core use not supported.\n",
      "For Windows, using only current process. Multiple core use not supported.\n",
      "For Windows, using only current process. Multiple core use not supported.\n",
      "For Windows, using only current process. Multiple core use not supported.\n",
      "For Windows, using only current process. Multiple core use not supported.\n",
      "For Windows, using only current process. Multiple core use not supported.\n"
     ]
    },
    {
     "name": "stdout",
     "output_type": "stream",
     "text": [
      "P_BFGS-EfficientSU2 - Depth 1: Average relative error = 1.1451278956140418\n"
     ]
    },
    {
     "name": "stderr",
     "output_type": "stream",
     "text": [
      "For Windows, using only current process. Multiple core use not supported.\n",
      "For Windows, using only current process. Multiple core use not supported.\n",
      "For Windows, using only current process. Multiple core use not supported.\n",
      "For Windows, using only current process. Multiple core use not supported.\n",
      "For Windows, using only current process. Multiple core use not supported.\n",
      "For Windows, using only current process. Multiple core use not supported.\n",
      "For Windows, using only current process. Multiple core use not supported.\n",
      "For Windows, using only current process. Multiple core use not supported.\n",
      "For Windows, using only current process. Multiple core use not supported.\n",
      "For Windows, using only current process. Multiple core use not supported.\n"
     ]
    },
    {
     "name": "stdout",
     "output_type": "stream",
     "text": [
      "P_BFGS-EfficientSU2 - Depth 2: Average relative error = 0.1199698514149972\n"
     ]
    },
    {
     "name": "stderr",
     "output_type": "stream",
     "text": [
      "For Windows, using only current process. Multiple core use not supported.\n",
      "For Windows, using only current process. Multiple core use not supported.\n",
      "For Windows, using only current process. Multiple core use not supported.\n",
      "For Windows, using only current process. Multiple core use not supported.\n",
      "For Windows, using only current process. Multiple core use not supported.\n",
      "For Windows, using only current process. Multiple core use not supported.\n",
      "For Windows, using only current process. Multiple core use not supported.\n",
      "For Windows, using only current process. Multiple core use not supported.\n",
      "For Windows, using only current process. Multiple core use not supported.\n",
      "For Windows, using only current process. Multiple core use not supported.\n"
     ]
    },
    {
     "name": "stdout",
     "output_type": "stream",
     "text": [
      "P_BFGS-EfficientSU2 - Depth 3: Average relative error = 0.014926909745600129\n"
     ]
    },
    {
     "name": "stderr",
     "output_type": "stream",
     "text": [
      "For Windows, using only current process. Multiple core use not supported.\n",
      "For Windows, using only current process. Multiple core use not supported.\n",
      "For Windows, using only current process. Multiple core use not supported.\n",
      "For Windows, using only current process. Multiple core use not supported.\n",
      "For Windows, using only current process. Multiple core use not supported.\n",
      "For Windows, using only current process. Multiple core use not supported.\n",
      "For Windows, using only current process. Multiple core use not supported.\n",
      "For Windows, using only current process. Multiple core use not supported.\n",
      "For Windows, using only current process. Multiple core use not supported.\n",
      "For Windows, using only current process. Multiple core use not supported.\n"
     ]
    },
    {
     "name": "stdout",
     "output_type": "stream",
     "text": [
      "P_BFGS-EfficientSU2 - Depth 4: Average relative error = 1.0612955650432512\n"
     ]
    },
    {
     "name": "stderr",
     "output_type": "stream",
     "text": [
      "For Windows, using only current process. Multiple core use not supported.\n",
      "For Windows, using only current process. Multiple core use not supported.\n",
      "For Windows, using only current process. Multiple core use not supported.\n",
      "For Windows, using only current process. Multiple core use not supported.\n",
      "For Windows, using only current process. Multiple core use not supported.\n",
      "For Windows, using only current process. Multiple core use not supported.\n",
      "For Windows, using only current process. Multiple core use not supported.\n",
      "For Windows, using only current process. Multiple core use not supported.\n",
      "For Windows, using only current process. Multiple core use not supported.\n",
      "For Windows, using only current process. Multiple core use not supported.\n"
     ]
    },
    {
     "name": "stdout",
     "output_type": "stream",
     "text": [
      "P_BFGS-EfficientSU2 - Depth 5: Average relative error = 0.21950880170222647\n"
     ]
    },
    {
     "name": "stderr",
     "output_type": "stream",
     "text": [
      "For Windows, using only current process. Multiple core use not supported.\n",
      "For Windows, using only current process. Multiple core use not supported.\n",
      "For Windows, using only current process. Multiple core use not supported.\n",
      "For Windows, using only current process. Multiple core use not supported.\n",
      "For Windows, using only current process. Multiple core use not supported.\n",
      "For Windows, using only current process. Multiple core use not supported.\n",
      "For Windows, using only current process. Multiple core use not supported.\n",
      "For Windows, using only current process. Multiple core use not supported.\n",
      "For Windows, using only current process. Multiple core use not supported.\n"
     ]
    },
    {
     "name": "stdout",
     "output_type": "stream",
     "text": [
      "P_BFGS-EfficientSU2 - Depth 6: Average relative error = 1.8017902984780919e-06\n",
      "Optimal depth 6 for P_BFGS-EfficientSU2 achieved lowest relative error = 1.4131152509076865e-07\n",
      "Run number with lowest relative error: 9\n",
      "Relative error at optimal run for P_BFGS-EfficientSU2: 1.4131152509076865e-07\n",
      "Resource estimates for P_BFGS-EfficientSU2: Gate count = 39, Circuit depth = 25, Function calls = 1870\n"
     ]
    }
   ],
   "source": [
    "## Get the optimizers\n",
    "maxiter = 5000\n",
    "optimizers = [SLSQP(maxiter = maxiter), P_BFGS(maxfun = maxiter)]\n",
    "\n",
    "# Define parameters\n",
    "dimension = matrix.shape[0]\n",
    "num_qubits = int(np.log2(dimension))\n",
    "target_error_threshold = 0.01\n",
    "\n",
    "# Estimate min. ansatz depths\n",
    "min_depths_N_8, errors_N_8, resources_N_8 = estimate_resources(matrix, zeromode, optimizers, num_qubits, target_error_threshold, \\\n",
    "                                                               classical_expectation, nmax, L)"
   ]
  },
  {
   "cell_type": "markdown",
   "id": "ef0bfb61-e041-43c6-88a6-c1e619b37cfb",
   "metadata": {},
   "source": [
    "### Print resource estimates"
   ]
  },
  {
   "cell_type": "code",
   "execution_count": 52,
   "id": "b94e3725-42fd-4b9a-9d6a-9148ed139d79",
   "metadata": {},
   "outputs": [
    {
     "name": "stdout",
     "output_type": "stream",
     "text": [
      "The min. ansatz depth results are:\n",
      "{'SLSQP-RealAmplitudes': 4, 'SLSQP-TwoLocal': 3, 'SLSQP-EfficientSU2': 4, 'P_BFGS-RealAmplitudes': 4, 'P_BFGS-TwoLocal': 2, 'P_BFGS-EfficientSU2': 6}\n",
      "\n",
      "The relative errors are:\n",
      "{'SLSQP-RealAmplitudes': 1.7376325789516022e-05, 'SLSQP-TwoLocal': 2.464518617350669e-07, 'SLSQP-EfficientSU2': 5.849134291772261e-07, 'P_BFGS-RealAmplitudes': 1.2739785156561975e-07, 'P_BFGS-TwoLocal': 2.095845992341826e-05, 'P_BFGS-EfficientSU2': 1.4131152509076865e-07}\n",
      "\n",
      "The resources required are:\n",
      "{'SLSQP-RealAmplitudes': {'gate_count': 27, 'circuit_depth': 17, 'function_calls': 569}, 'SLSQP-TwoLocal': {'gate_count': 21, 'circuit_depth': 13, 'function_calls': 501}, 'SLSQP-EfficientSU2': {'gate_count': 27, 'circuit_depth': 17, 'function_calls': 712}, 'P_BFGS-RealAmplitudes': {'gate_count': 27, 'circuit_depth': 17, 'function_calls': 1264}, 'P_BFGS-TwoLocal': {'gate_count': 15, 'circuit_depth': 9, 'function_calls': 2750}, 'P_BFGS-EfficientSU2': {'gate_count': 39, 'circuit_depth': 25, 'function_calls': 1870}}\n",
      "\n"
     ]
    }
   ],
   "source": [
    "## Print the min. ansatz depth results\n",
    "print('The min. ansatz depth results are:')\n",
    "print(min_depths_N_8)\n",
    "print()\n",
    "\n",
    "## Print the relative errors\n",
    "print('The relative errors are:')\n",
    "print(errors_N_8)\n",
    "print()\n",
    "\n",
    "## Print the resource estimates\n",
    "print('The resources required are:')\n",
    "print(resources_N_8)\n",
    "print()"
   ]
  },
  {
   "cell_type": "markdown",
   "id": "513d098a-e126-4498-ac1f-e4c7b9ffce5f",
   "metadata": {},
   "source": [
    "### Estimating resource requirements for NELDER-MEAD and POWELL (fix at 5000 optimization iterations)"
   ]
  },
  {
   "cell_type": "code",
   "execution_count": 37,
   "id": "5fefd006-f491-48d6-8362-d47f1aeb3e12",
   "metadata": {},
   "outputs": [
    {
     "name": "stdout",
     "output_type": "stream",
     "text": [
      "\n",
      "Running VQE for optimizer-ansatz pair: NELDER_MEAD-RealAmplitudes\n"
     ]
    },
    {
     "name": "stderr",
     "output_type": "stream",
     "text": [
      "C:\\Users\\Owner\\AppData\\Local\\Temp\\ipykernel_32760\\795971042.py:108: DeprecationWarning: Conversion of an array with ndim > 0 to a scalar is deprecated, and will error in future. Ensure you extract a single element from your array before performing this operation. (Deprecated NumPy 1.25.)\n",
      "  eigenvector[2*i] = eigenvector_old[i]\n"
     ]
    },
    {
     "name": "stdout",
     "output_type": "stream",
     "text": [
      "NELDER_MEAD-RealAmplitudes - Depth 1: Average relative error = 0.014390858346036397\n",
      "NELDER_MEAD-RealAmplitudes - Depth 2: Average relative error = 1.0003297803320783\n",
      "NELDER_MEAD-RealAmplitudes - Depth 3: Average relative error = 3.7053969282804737\n",
      "NELDER_MEAD-RealAmplitudes - Depth 4: Average relative error = 0.333632209676466\n",
      "NELDER_MEAD-RealAmplitudes - Depth 5: Average relative error = 1.670410489028559\n",
      "NELDER_MEAD-RealAmplitudes - Depth 6: Average relative error = 3.752516081291339\n",
      "NELDER_MEAD-RealAmplitudes - Depth 7: Average relative error = 1.0408802403429622\n",
      "NELDER_MEAD-RealAmplitudes - Depth 8: Average relative error = 2.6612221393748206\n",
      "NELDER_MEAD-RealAmplitudes - Depth 9: Average relative error = 1.5728412312918139\n",
      "NELDER_MEAD-RealAmplitudes - Depth 10: Average relative error = 3.2346494031593567\n",
      "NELDER_MEAD-RealAmplitudes did not converge within 10 depths.\n",
      "\n",
      "Running VQE for optimizer-ansatz pair: NELDER_MEAD-TwoLocal\n",
      "NELDER_MEAD-TwoLocal - Depth 1: Average relative error = 0.014390858346036397\n",
      "NELDER_MEAD-TwoLocal - Depth 2: Average relative error = 1.0003297803320783\n",
      "NELDER_MEAD-TwoLocal - Depth 3: Average relative error = 3.7053969282804737\n",
      "NELDER_MEAD-TwoLocal - Depth 4: Average relative error = 0.333632209676466\n",
      "NELDER_MEAD-TwoLocal - Depth 5: Average relative error = 1.670410489028559\n",
      "NELDER_MEAD-TwoLocal - Depth 6: Average relative error = 3.752516081291339\n",
      "NELDER_MEAD-TwoLocal - Depth 7: Average relative error = 1.0408802403429622\n",
      "NELDER_MEAD-TwoLocal - Depth 8: Average relative error = 2.6612221393748206\n",
      "NELDER_MEAD-TwoLocal - Depth 9: Average relative error = 1.5728412312918139\n",
      "NELDER_MEAD-TwoLocal - Depth 10: Average relative error = 3.2346494031593567\n",
      "NELDER_MEAD-TwoLocal did not converge within 10 depths.\n",
      "\n",
      "Running VQE for optimizer-ansatz pair: NELDER_MEAD-EfficientSU2\n",
      "NELDER_MEAD-EfficientSU2 - Depth 1: Average relative error = 1.1914842305502873\n",
      "NELDER_MEAD-EfficientSU2 - Depth 2: Average relative error = 0.48855909233524225\n",
      "NELDER_MEAD-EfficientSU2 - Depth 3: Average relative error = 1.6427673110088783\n",
      "NELDER_MEAD-EfficientSU2 - Depth 4: Average relative error = 5.570273812544441\n",
      "NELDER_MEAD-EfficientSU2 - Depth 5: Average relative error = 2.3994735553827597\n",
      "NELDER_MEAD-EfficientSU2 - Depth 6: Average relative error = 2.9196065687921835\n",
      "NELDER_MEAD-EfficientSU2 - Depth 7: Average relative error = 2.259762530169117\n",
      "NELDER_MEAD-EfficientSU2 - Depth 8: Average relative error = 17.227546454153515\n",
      "NELDER_MEAD-EfficientSU2 - Depth 9: Average relative error = 58.107362618514024\n",
      "NELDER_MEAD-EfficientSU2 - Depth 10: Average relative error = 3.6664234679087877\n",
      "NELDER_MEAD-EfficientSU2 did not converge within 10 depths.\n",
      "\n",
      "Running VQE for optimizer-ansatz pair: POWELL-RealAmplitudes\n",
      "POWELL-RealAmplitudes - Depth 1: Average relative error = 3.3221882583156592\n",
      "POWELL-RealAmplitudes - Depth 2: Average relative error = 2.3398752086088086\n",
      "POWELL-RealAmplitudes - Depth 3: Average relative error = 2.0215285301017634\n",
      "POWELL-RealAmplitudes - Depth 4: Average relative error = 1.014450968952941\n",
      "POWELL-RealAmplitudes - Depth 5: Average relative error = 3.8097057407271357\n",
      "POWELL-RealAmplitudes - Depth 6: Average relative error = 11.206778952177133\n",
      "POWELL-RealAmplitudes - Depth 7: Average relative error = 3.9635279067354476\n",
      "POWELL-RealAmplitudes - Depth 8: Average relative error = 3.9668881339826583\n",
      "POWELL-RealAmplitudes - Depth 9: Average relative error = 4.050581398087648\n",
      "POWELL-RealAmplitudes - Depth 10: Average relative error = 1.0927045778757385\n",
      "POWELL-RealAmplitudes did not converge within 10 depths.\n",
      "\n",
      "Running VQE for optimizer-ansatz pair: POWELL-TwoLocal\n",
      "POWELL-TwoLocal - Depth 1: Average relative error = 0.020789613306097292\n",
      "POWELL-TwoLocal - Depth 2: Average relative error = 0.025947994616219838\n",
      "POWELL-TwoLocal - Depth 3: Average relative error = 11.516993892899178\n",
      "POWELL-TwoLocal - Depth 4: Average relative error = 0.9051238227854663\n",
      "POWELL-TwoLocal - Depth 5: Average relative error = 1.2800264626309819\n",
      "POWELL-TwoLocal - Depth 6: Average relative error = 8.309943393271908\n",
      "POWELL-TwoLocal - Depth 7: Average relative error = 23.53614363130007\n",
      "POWELL-TwoLocal - Depth 8: Average relative error = 4.33805710069292\n",
      "POWELL-TwoLocal - Depth 9: Average relative error = 3.1545040488896734\n",
      "POWELL-TwoLocal - Depth 10: Average relative error = 1.0729134168169634\n",
      "POWELL-TwoLocal did not converge within 10 depths.\n",
      "\n",
      "Running VQE for optimizer-ansatz pair: POWELL-EfficientSU2\n",
      "POWELL-EfficientSU2 - Depth 1: Average relative error = 2.3670177897513076\n",
      "POWELL-EfficientSU2 - Depth 2: Average relative error = 0.6133356334993479\n",
      "POWELL-EfficientSU2 - Depth 3: Average relative error = 1.8375787182488748\n",
      "POWELL-EfficientSU2 - Depth 4: Average relative error = 0.7906267925152622\n",
      "POWELL-EfficientSU2 - Depth 5: Average relative error = 15.28381789972895\n",
      "POWELL-EfficientSU2 - Depth 6: Average relative error = 0.3079474367675802\n",
      "POWELL-EfficientSU2 - Depth 7: Average relative error = 24.476719788269783\n",
      "POWELL-EfficientSU2 - Depth 8: Average relative error = 0.9395088807689242\n",
      "POWELL-EfficientSU2 - Depth 9: Average relative error = 1.004255863085489\n",
      "POWELL-EfficientSU2 - Depth 10: Average relative error = 1.5465577561979456\n",
      "POWELL-EfficientSU2 did not converge within 10 depths.\n"
     ]
    }
   ],
   "source": [
    "## Get the optimizers\n",
    "maxiter = 5000\n",
    "optimizers = [NELDER_MEAD(maxiter = maxiter), POWELL(maxiter = maxiter)]\n",
    "\n",
    "# Define parameters\n",
    "dimension = matrix.shape[0]\n",
    "num_qubits = int(np.log2(dimension))\n",
    "target_error_threshold = 0.01\n",
    "\n",
    "# Estimate min. ansatz depths\n",
    "min_depths_N_8, errors_N_8, resources_N_8 = estimate_resources(matrix, zeromode, optimizers, num_qubits, target_error_threshold, \\\n",
    "                                                               classical_expectation, nmax, L)"
   ]
  },
  {
   "cell_type": "markdown",
   "id": "af8e5800-9def-4da8-b888-583041296d3b",
   "metadata": {},
   "source": [
    "### Print resource estimates"
   ]
  },
  {
   "cell_type": "code",
   "execution_count": 40,
   "id": "b9347611-1ea5-4139-ab52-9c9192ec52d5",
   "metadata": {},
   "outputs": [
    {
     "name": "stdout",
     "output_type": "stream",
     "text": [
      "The min. ansatz depth results are:\n",
      "{'NELDER_MEAD-RealAmplitudes': 'Did not converge', 'NELDER_MEAD-TwoLocal': 'Did not converge', 'NELDER_MEAD-EfficientSU2': 'Did not converge', 'POWELL-RealAmplitudes': 'Did not converge', 'POWELL-TwoLocal': 'Did not converge', 'POWELL-EfficientSU2': 'Did not converge'}\n",
      "\n",
      "The relative errors are:\n",
      "{'NELDER_MEAD-RealAmplitudes': 'Did not converge', 'NELDER_MEAD-TwoLocal': 'Did not converge', 'NELDER_MEAD-EfficientSU2': 'Did not converge', 'POWELL-RealAmplitudes': 'Did not converge', 'POWELL-TwoLocal': 'Did not converge', 'POWELL-EfficientSU2': 'Did not converge'}\n",
      "\n",
      "The resources required are:\n",
      "{'NELDER_MEAD-RealAmplitudes': {'gate_count': 'N/A', 'circuit_depth': 'N/A', 'function_calls': 'N/A'}, 'NELDER_MEAD-TwoLocal': {'gate_count': 'N/A', 'circuit_depth': 'N/A', 'function_calls': 'N/A'}, 'NELDER_MEAD-EfficientSU2': {'gate_count': 'N/A', 'circuit_depth': 'N/A', 'function_calls': 'N/A'}, 'POWELL-RealAmplitudes': {'gate_count': 'N/A', 'circuit_depth': 'N/A', 'function_calls': 'N/A'}, 'POWELL-TwoLocal': {'gate_count': 'N/A', 'circuit_depth': 'N/A', 'function_calls': 'N/A'}, 'POWELL-EfficientSU2': {'gate_count': 'N/A', 'circuit_depth': 'N/A', 'function_calls': 'N/A'}}\n",
      "\n"
     ]
    }
   ],
   "source": [
    "## Print the min. ansatz depth results\n",
    "print('The min. ansatz depth results are:')\n",
    "print(min_depths_N_8)\n",
    "print()\n",
    "\n",
    "## Print the relative errors\n",
    "print('The relative errors are:')\n",
    "print(errors_N_8)\n",
    "print()\n",
    "\n",
    "## Print the resource estimates\n",
    "print('The resources required are:')\n",
    "print(resources_N_8)\n",
    "print()"
   ]
  },
  {
   "cell_type": "markdown",
   "id": "d5130957-7007-4459-bf2c-998e31ca57aa",
   "metadata": {},
   "source": [
    "### For a = 1, b = 2 (N = 16)\n",
    "\n",
    "### Get the matrix and the zeromode"
   ]
  },
  {
   "cell_type": "code",
   "execution_count": 19,
   "id": "091aab48-0dc2-443a-bbf5-43546621fedb",
   "metadata": {},
   "outputs": [
    {
     "name": "stdout",
     "output_type": "stream",
     "text": [
      "The matrix is:\n",
      "[[ 6.14062500e+00 -2.34671063e+01  3.55176013e+01 -9.22378041e+00\n",
      "  -3.13747510e+00  0.00000000e+00  0.00000000e+00  0.00000000e+00\n",
      "   0.00000000e+00  0.00000000e+00  0.00000000e+00  0.00000000e+00\n",
      "   0.00000000e+00  0.00000000e+00  0.00000000e+00  0.00000000e+00]\n",
      " [-2.34671063e+01  9.68906250e+01 -1.51662699e+02  1.11470288e+02\n",
      "  -6.65558976e+01 -2.10468228e+01  0.00000000e+00  0.00000000e+00\n",
      "   0.00000000e+00  0.00000000e+00  0.00000000e+00  0.00000000e+00\n",
      "   0.00000000e+00  0.00000000e+00  0.00000000e+00  0.00000000e+00]\n",
      " [ 3.55176013e+01 -1.51662699e+02  4.02390625e+02 -3.54479193e+02\n",
      "   1.63951212e+02 -2.30876387e+02 -6.98044143e+01  0.00000000e+00\n",
      "   0.00000000e+00  0.00000000e+00  0.00000000e+00  0.00000000e+00\n",
      "   0.00000000e+00  0.00000000e+00  0.00000000e+00  0.00000000e+00]\n",
      " [-9.22378041e+00  1.11470288e+02 -3.54479193e+02  1.05164062e+03\n",
      "  -5.71772019e+02  1.15363556e+02 -5.86246269e+02 -1.71932490e+02\n",
      "   0.00000000e+00  0.00000000e+00  0.00000000e+00  0.00000000e+00\n",
      "   0.00000000e+00  0.00000000e+00  0.00000000e+00  0.00000000e+00]\n",
      " [-3.13747510e+00 -6.65558976e+01  1.63951212e+02 -5.71772019e+02\n",
      "   2.23364062e+03 -7.19516989e+02 -1.36244266e+02 -1.24067405e+03\n",
      "  -3.55934070e+02  0.00000000e+00  0.00000000e+00  0.00000000e+00\n",
      "   0.00000000e+00  0.00000000e+00  0.00000000e+00  0.00000000e+00]\n",
      " [ 0.00000000e+00 -2.10468228e+01 -2.30876387e+02  1.15363556e+02\n",
      "  -7.19516989e+02  4.19739062e+03 -6.89706553e+02 -7.16860080e+02\n",
      "  -2.32616221e+03 -6.56309997e+02  0.00000000e+00  0.00000000e+00\n",
      "   0.00000000e+00  0.00000000e+00  0.00000000e+00  0.00000000e+00]\n",
      " [ 0.00000000e+00  0.00000000e+00 -6.98044143e+01 -5.86246269e+02\n",
      "  -1.36244266e+02 -6.89706553e+02  7.25189062e+03 -3.50337591e+02\n",
      "  -1.77647966e+03 -3.99871171e+03 -1.11356059e+03  0.00000000e+00\n",
      "   0.00000000e+00  0.00000000e+00  0.00000000e+00  0.00000000e+00]\n",
      " [ 0.00000000e+00  0.00000000e+00  0.00000000e+00 -1.71932490e+02\n",
      "  -1.24067405e+03 -7.16860080e+02 -3.50337591e+02  1.17661406e+04\n",
      "   4.54591420e+02 -3.48910125e+03 -6.43832301e+03 -1.77418599e+03\n",
      "   0.00000000e+00  0.00000000e+00  0.00000000e+00  0.00000000e+00]\n",
      " [ 0.00000000e+00  0.00000000e+00  0.00000000e+00  0.00000000e+00\n",
      "  -3.55934070e+02 -2.32616221e+03 -1.77647966e+03  4.54591420e+02\n",
      "   1.81691406e+04  1.90508131e+03 -6.05272397e+03 -9.84899635e+03\n",
      "  -2.69068628e+03  0.00000000e+00  0.00000000e+00  0.00000000e+00]\n",
      " [ 0.00000000e+00  0.00000000e+00  0.00000000e+00  0.00000000e+00\n",
      "   0.00000000e+00 -6.56309997e+02 -3.99871171e+03 -3.48910125e+03\n",
      "   1.90508131e+03  2.69498906e+04  4.20513259e+03 -9.68934740e+03\n",
      "  -1.44587319e+04 -3.92156149e+03  0.00000000e+00  0.00000000e+00]\n",
      " [ 0.00000000e+00  0.00000000e+00  0.00000000e+00  0.00000000e+00\n",
      "   0.00000000e+00  0.00000000e+00 -1.11356059e+03 -6.43832301e+03\n",
      "  -6.05272397e+03  4.20513259e+03  3.86573906e+04  7.58274554e+03\n",
      "  -1.46449713e+04 -2.05195297e+04 -5.53131165e+03  0.00000000e+00]\n",
      " [ 0.00000000e+00  0.00000000e+00  0.00000000e+00  0.00000000e+00\n",
      "   0.00000000e+00  0.00000000e+00  0.00000000e+00 -1.77418599e+03\n",
      "  -9.84899635e+03 -9.68934740e+03  7.58274554e+03  5.39006406e+04\n",
      "   1.22899204e+04 -2.11895955e+04 -2.83073899e+04 -7.59043678e+03]\n",
      " [ 0.00000000e+00  0.00000000e+00  0.00000000e+00  0.00000000e+00\n",
      "   0.00000000e+00  0.00000000e+00  0.00000000e+00  0.00000000e+00\n",
      "  -2.69068628e+03 -1.44587319e+04 -1.46449713e+04  1.22899204e+04\n",
      "   7.33486406e+04  1.86026573e+04 -2.96172199e+04 -3.81223124e+04]\n",
      " [ 0.00000000e+00  0.00000000e+00  0.00000000e+00  0.00000000e+00\n",
      "   0.00000000e+00  0.00000000e+00  0.00000000e+00  0.00000000e+00\n",
      "   0.00000000e+00 -3.92156149e+03 -2.05195297e+04 -2.11895955e+04\n",
      "   1.86026573e+04  9.77303906e+04  2.68209563e+04 -4.02458444e+04]\n",
      " [ 0.00000000e+00  0.00000000e+00  0.00000000e+00  0.00000000e+00\n",
      "   0.00000000e+00  0.00000000e+00  0.00000000e+00  0.00000000e+00\n",
      "   0.00000000e+00  0.00000000e+00 -5.53131165e+03 -2.83073899e+04\n",
      "  -2.96172199e+04  2.68209563e+04  1.14349891e+05  1.53239703e+04]\n",
      " [ 0.00000000e+00  0.00000000e+00  0.00000000e+00  0.00000000e+00\n",
      "   0.00000000e+00  0.00000000e+00  0.00000000e+00  0.00000000e+00\n",
      "   0.00000000e+00  0.00000000e+00  0.00000000e+00 -7.59043678e+03\n",
      "  -3.81223124e+04 -4.02458444e+04  1.53239703e+04  1.11408141e+05]]\n",
      "\n",
      "The zeromode is:\n",
      "[[-9.70583831e-01]\n",
      " [-2.39445349e-01]\n",
      " [ 1.43195784e-02]\n",
      " [ 1.99137010e-02]\n",
      " [-5.09464199e-03]\n",
      " [-1.71508216e-03]\n",
      " [ 1.51693918e-03]\n",
      " [-2.71673876e-04]\n",
      " [-2.01964898e-04]\n",
      " [ 1.76670641e-04]\n",
      " [-4.37312438e-05]\n",
      " [-1.59055281e-05]\n",
      " [ 2.71282836e-05]\n",
      " [-9.64064476e-06]\n",
      " [ 2.65162129e-06]\n",
      " [ 4.35186999e-06]]\n",
      "\n"
     ]
    },
    {
     "name": "stderr",
     "output_type": "stream",
     "text": [
      "C:\\Users\\Owner\\AppData\\Local\\Temp\\ipykernel_47076\\795971042.py:108: DeprecationWarning: Conversion of an array with ndim > 0 to a scalar is deprecated, and will error in future. Ensure you extract a single element from your array before performing this operation. (Deprecated NumPy 1.25.)\n",
      "  eigenvector[2*i] = eigenvector_old[i]\n"
     ]
    },
    {
     "name": "stdout",
     "output_type": "stream",
     "text": [
      "The value of <x^2> is:\n",
      "0.3662333595845026\n",
      "\n"
     ]
    }
   ],
   "source": [
    "## Get the matrix and zeromode\n",
    "nmax = 31\n",
    "a = 1\n",
    "gamma = 1\n",
    "dx = 0.01\n",
    "c = 2\n",
    "L = 1/2\n",
    "x = np.linspace(-4, 4, int(8/dx))\n",
    "\n",
    "# Matrix and zeromode\n",
    "matrix, zeromode = get_zeromode(nmax, a, c, L, gamma)\n",
    "\n",
    "## Print the matrix and zeromode\n",
    "print('The matrix is:')\n",
    "print(matrix)\n",
    "print()\n",
    "\n",
    "# Print the zeromode\n",
    "print('The zeromode is:')\n",
    "print(zeromode)\n",
    "print()\n",
    "\n",
    "## Compute the classical <x^2> value\n",
    "x, y = get_pdf(nmax, x, dx, L, shift = 0, zeromode_qpe = zeromode, normalize = True, make_even = True)\n",
    "classical_expectation = compute_expectation_x_squared_simpson(x, y, 2)\n",
    "\n",
    "# Print the classical expectation value\n",
    "print('The value of <x^2> is:')\n",
    "print(classical_expectation)\n",
    "print()"
   ]
  },
  {
   "cell_type": "markdown",
   "id": "8ee32403-f198-426a-87ed-a8c849ad73dc",
   "metadata": {},
   "source": [
    "### Estimate resource requirements (fix at 5000 optimization iterations)"
   ]
  },
  {
   "cell_type": "code",
   "execution_count": 22,
   "id": "a9616834-42dc-4d82-bd0f-63dc1ecfe073",
   "metadata": {},
   "outputs": [
    {
     "name": "stdout",
     "output_type": "stream",
     "text": [
      "\n",
      "Running VQE for optimizer-ansatz pair: SLSQP-RealAmplitudes\n"
     ]
    },
    {
     "name": "stderr",
     "output_type": "stream",
     "text": [
      "C:\\Users\\Owner\\AppData\\Local\\Temp\\ipykernel_47076\\795971042.py:108: DeprecationWarning: Conversion of an array with ndim > 0 to a scalar is deprecated, and will error in future. Ensure you extract a single element from your array before performing this operation. (Deprecated NumPy 1.25.)\n",
      "  eigenvector[2*i] = eigenvector_old[i]\n",
      "C:\\Users\\Owner\\anaconda3\\Lib\\site-packages\\scipy\\optimize\\_slsqp_py.py:437: RuntimeWarning: Values in x were outside bounds during a minimize step, clipping to bounds\n",
      "  fx = wrapped_fun(x)\n"
     ]
    },
    {
     "name": "stdout",
     "output_type": "stream",
     "text": [
      "SLSQP-RealAmplitudes - Depth 1: Average relative error = 0.19806243802172335\n",
      "SLSQP-RealAmplitudes - Depth 2: Average relative error = 0.026695306176365858\n",
      "SLSQP-RealAmplitudes - Depth 3: Average relative error = 0.06802217243489109\n",
      "SLSQP-RealAmplitudes - Depth 4: Average relative error = 0.009148945466770012\n",
      "Optimal depth 4 for SLSQP-RealAmplitudes achieved lowest relative error = 0.002754492118953014\n",
      "Run number with lowest relative error: 1\n",
      "Relative error at optimal run for SLSQP-RealAmplitudes: 0.002754492118953014\n",
      "Resource estimates for SLSQP-RealAmplitudes: Gate count = 44, Circuit depth = 22, Function calls = 1438\n",
      "\n",
      "Running VQE for optimizer-ansatz pair: SLSQP-TwoLocal\n",
      "SLSQP-TwoLocal - Depth 1: Average relative error = 0.020332486217414247\n",
      "SLSQP-TwoLocal - Depth 2: Average relative error = 0.016364046315085336\n",
      "SLSQP-TwoLocal - Depth 3: Average relative error = 0.008488501626843576\n",
      "Optimal depth 3 for SLSQP-TwoLocal achieved lowest relative error = 0.0007149109040982413\n",
      "Run number with lowest relative error: 7\n",
      "Relative error at optimal run for SLSQP-TwoLocal: 0.0007149109040982413\n",
      "Resource estimates for SLSQP-TwoLocal: Gate count = 34, Circuit depth = 17, Function calls = 1686\n",
      "\n",
      "Running VQE for optimizer-ansatz pair: SLSQP-EfficientSU2\n"
     ]
    },
    {
     "name": "stderr",
     "output_type": "stream",
     "text": [
      "C:\\Users\\Owner\\anaconda3\\Lib\\site-packages\\scipy\\optimize\\_slsqp_py.py:441: RuntimeWarning: Values in x were outside bounds during a minimize step, clipping to bounds\n",
      "  g = append(wrapped_grad(x), 0.0)\n"
     ]
    },
    {
     "name": "stdout",
     "output_type": "stream",
     "text": [
      "SLSQP-EfficientSU2 - Depth 1: Average relative error = 3.022350801962421\n",
      "SLSQP-EfficientSU2 - Depth 2: Average relative error = 0.2697766119558854\n",
      "SLSQP-EfficientSU2 - Depth 3: Average relative error = 0.021852279475247937\n",
      "SLSQP-EfficientSU2 - Depth 4: Average relative error = 0.11994175173512234\n"
     ]
    },
    {
     "name": "stderr",
     "output_type": "stream",
     "text": [
      "For Windows, using only current process. Multiple core use not supported.\n"
     ]
    },
    {
     "name": "stdout",
     "output_type": "stream",
     "text": [
      "SLSQP-EfficientSU2 - Depth 5: Average relative error = 0.0036076744928028566\n",
      "Optimal depth 5 for SLSQP-EfficientSU2 achieved lowest relative error = 1.7298005847677678e-05\n",
      "Run number with lowest relative error: 8\n",
      "Relative error at optimal run for SLSQP-EfficientSU2: 1.7298005847677678e-05\n",
      "Resource estimates for SLSQP-EfficientSU2: Gate count = 44, Circuit depth = 26, Function calls = 2647\n",
      "\n",
      "Running VQE for optimizer-ansatz pair: P_BFGS-RealAmplitudes\n"
     ]
    },
    {
     "name": "stderr",
     "output_type": "stream",
     "text": [
      "For Windows, using only current process. Multiple core use not supported.\n",
      "For Windows, using only current process. Multiple core use not supported.\n",
      "For Windows, using only current process. Multiple core use not supported.\n",
      "For Windows, using only current process. Multiple core use not supported.\n",
      "For Windows, using only current process. Multiple core use not supported.\n",
      "For Windows, using only current process. Multiple core use not supported.\n",
      "For Windows, using only current process. Multiple core use not supported.\n",
      "For Windows, using only current process. Multiple core use not supported.\n",
      "For Windows, using only current process. Multiple core use not supported.\n",
      "For Windows, using only current process. Multiple core use not supported.\n"
     ]
    },
    {
     "name": "stdout",
     "output_type": "stream",
     "text": [
      "P_BFGS-RealAmplitudes - Depth 1: Average relative error = 0.08165186715646286\n"
     ]
    },
    {
     "name": "stderr",
     "output_type": "stream",
     "text": [
      "For Windows, using only current process. Multiple core use not supported.\n",
      "For Windows, using only current process. Multiple core use not supported.\n",
      "For Windows, using only current process. Multiple core use not supported.\n",
      "For Windows, using only current process. Multiple core use not supported.\n",
      "For Windows, using only current process. Multiple core use not supported.\n",
      "For Windows, using only current process. Multiple core use not supported.\n",
      "For Windows, using only current process. Multiple core use not supported.\n",
      "For Windows, using only current process. Multiple core use not supported.\n",
      "For Windows, using only current process. Multiple core use not supported.\n",
      "For Windows, using only current process. Multiple core use not supported.\n"
     ]
    },
    {
     "name": "stdout",
     "output_type": "stream",
     "text": [
      "P_BFGS-RealAmplitudes - Depth 2: Average relative error = 0.42712286220814377\n"
     ]
    },
    {
     "name": "stderr",
     "output_type": "stream",
     "text": [
      "For Windows, using only current process. Multiple core use not supported.\n",
      "For Windows, using only current process. Multiple core use not supported.\n",
      "For Windows, using only current process. Multiple core use not supported.\n",
      "For Windows, using only current process. Multiple core use not supported.\n",
      "For Windows, using only current process. Multiple core use not supported.\n",
      "For Windows, using only current process. Multiple core use not supported.\n",
      "For Windows, using only current process. Multiple core use not supported.\n",
      "For Windows, using only current process. Multiple core use not supported.\n",
      "For Windows, using only current process. Multiple core use not supported.\n",
      "For Windows, using only current process. Multiple core use not supported.\n"
     ]
    },
    {
     "name": "stdout",
     "output_type": "stream",
     "text": [
      "P_BFGS-RealAmplitudes - Depth 3: Average relative error = 2.034795522318068\n"
     ]
    },
    {
     "name": "stderr",
     "output_type": "stream",
     "text": [
      "For Windows, using only current process. Multiple core use not supported.\n",
      "For Windows, using only current process. Multiple core use not supported.\n",
      "For Windows, using only current process. Multiple core use not supported.\n",
      "For Windows, using only current process. Multiple core use not supported.\n",
      "For Windows, using only current process. Multiple core use not supported.\n",
      "For Windows, using only current process. Multiple core use not supported.\n",
      "For Windows, using only current process. Multiple core use not supported.\n",
      "For Windows, using only current process. Multiple core use not supported.\n",
      "For Windows, using only current process. Multiple core use not supported.\n",
      "For Windows, using only current process. Multiple core use not supported.\n"
     ]
    },
    {
     "name": "stdout",
     "output_type": "stream",
     "text": [
      "P_BFGS-RealAmplitudes - Depth 4: Average relative error = 0.040733389382681034\n"
     ]
    },
    {
     "name": "stderr",
     "output_type": "stream",
     "text": [
      "For Windows, using only current process. Multiple core use not supported.\n",
      "For Windows, using only current process. Multiple core use not supported.\n",
      "For Windows, using only current process. Multiple core use not supported.\n",
      "For Windows, using only current process. Multiple core use not supported.\n",
      "For Windows, using only current process. Multiple core use not supported.\n",
      "For Windows, using only current process. Multiple core use not supported.\n",
      "For Windows, using only current process. Multiple core use not supported.\n",
      "For Windows, using only current process. Multiple core use not supported.\n",
      "For Windows, using only current process. Multiple core use not supported.\n",
      "For Windows, using only current process. Multiple core use not supported.\n"
     ]
    },
    {
     "name": "stdout",
     "output_type": "stream",
     "text": [
      "P_BFGS-RealAmplitudes - Depth 5: Average relative error = 0.15434013006676356\n"
     ]
    },
    {
     "name": "stderr",
     "output_type": "stream",
     "text": [
      "For Windows, using only current process. Multiple core use not supported.\n",
      "For Windows, using only current process. Multiple core use not supported.\n",
      "For Windows, using only current process. Multiple core use not supported.\n",
      "For Windows, using only current process. Multiple core use not supported.\n",
      "For Windows, using only current process. Multiple core use not supported.\n",
      "For Windows, using only current process. Multiple core use not supported.\n",
      "For Windows, using only current process. Multiple core use not supported.\n",
      "For Windows, using only current process. Multiple core use not supported.\n",
      "For Windows, using only current process. Multiple core use not supported.\n",
      "For Windows, using only current process. Multiple core use not supported.\n"
     ]
    },
    {
     "name": "stdout",
     "output_type": "stream",
     "text": [
      "P_BFGS-RealAmplitudes - Depth 6: Average relative error = 0.14298888074544763\n"
     ]
    },
    {
     "name": "stderr",
     "output_type": "stream",
     "text": [
      "For Windows, using only current process. Multiple core use not supported.\n",
      "For Windows, using only current process. Multiple core use not supported.\n",
      "For Windows, using only current process. Multiple core use not supported.\n",
      "For Windows, using only current process. Multiple core use not supported.\n",
      "For Windows, using only current process. Multiple core use not supported.\n",
      "For Windows, using only current process. Multiple core use not supported.\n",
      "For Windows, using only current process. Multiple core use not supported.\n",
      "For Windows, using only current process. Multiple core use not supported.\n",
      "For Windows, using only current process. Multiple core use not supported.\n",
      "For Windows, using only current process. Multiple core use not supported.\n"
     ]
    },
    {
     "name": "stdout",
     "output_type": "stream",
     "text": [
      "P_BFGS-RealAmplitudes - Depth 7: Average relative error = 0.10051018828510616\n"
     ]
    },
    {
     "name": "stderr",
     "output_type": "stream",
     "text": [
      "For Windows, using only current process. Multiple core use not supported.\n",
      "For Windows, using only current process. Multiple core use not supported.\n",
      "For Windows, using only current process. Multiple core use not supported.\n",
      "For Windows, using only current process. Multiple core use not supported.\n",
      "For Windows, using only current process. Multiple core use not supported.\n",
      "For Windows, using only current process. Multiple core use not supported.\n",
      "For Windows, using only current process. Multiple core use not supported.\n",
      "For Windows, using only current process. Multiple core use not supported.\n",
      "For Windows, using only current process. Multiple core use not supported.\n",
      "For Windows, using only current process. Multiple core use not supported.\n"
     ]
    },
    {
     "name": "stdout",
     "output_type": "stream",
     "text": [
      "P_BFGS-RealAmplitudes - Depth 8: Average relative error = 0.06972533001097833\n"
     ]
    },
    {
     "name": "stderr",
     "output_type": "stream",
     "text": [
      "For Windows, using only current process. Multiple core use not supported.\n",
      "For Windows, using only current process. Multiple core use not supported.\n",
      "For Windows, using only current process. Multiple core use not supported.\n",
      "For Windows, using only current process. Multiple core use not supported.\n",
      "For Windows, using only current process. Multiple core use not supported.\n",
      "For Windows, using only current process. Multiple core use not supported.\n",
      "For Windows, using only current process. Multiple core use not supported.\n",
      "For Windows, using only current process. Multiple core use not supported.\n",
      "For Windows, using only current process. Multiple core use not supported.\n",
      "For Windows, using only current process. Multiple core use not supported.\n"
     ]
    },
    {
     "name": "stdout",
     "output_type": "stream",
     "text": [
      "P_BFGS-RealAmplitudes - Depth 9: Average relative error = 0.026582030552927342\n"
     ]
    },
    {
     "name": "stderr",
     "output_type": "stream",
     "text": [
      "For Windows, using only current process. Multiple core use not supported.\n",
      "For Windows, using only current process. Multiple core use not supported.\n",
      "For Windows, using only current process. Multiple core use not supported.\n",
      "For Windows, using only current process. Multiple core use not supported.\n",
      "For Windows, using only current process. Multiple core use not supported.\n",
      "For Windows, using only current process. Multiple core use not supported.\n",
      "For Windows, using only current process. Multiple core use not supported.\n",
      "For Windows, using only current process. Multiple core use not supported.\n",
      "For Windows, using only current process. Multiple core use not supported.\n",
      "For Windows, using only current process. Multiple core use not supported.\n"
     ]
    },
    {
     "name": "stdout",
     "output_type": "stream",
     "text": [
      "P_BFGS-RealAmplitudes - Depth 10: Average relative error = 0.7437201777506565\n",
      "P_BFGS-RealAmplitudes did not converge within 10 depths.\n",
      "\n",
      "Running VQE for optimizer-ansatz pair: P_BFGS-TwoLocal\n"
     ]
    },
    {
     "name": "stderr",
     "output_type": "stream",
     "text": [
      "For Windows, using only current process. Multiple core use not supported.\n",
      "For Windows, using only current process. Multiple core use not supported.\n",
      "For Windows, using only current process. Multiple core use not supported.\n",
      "For Windows, using only current process. Multiple core use not supported.\n",
      "For Windows, using only current process. Multiple core use not supported.\n",
      "For Windows, using only current process. Multiple core use not supported.\n",
      "For Windows, using only current process. Multiple core use not supported.\n",
      "For Windows, using only current process. Multiple core use not supported.\n",
      "For Windows, using only current process. Multiple core use not supported.\n",
      "For Windows, using only current process. Multiple core use not supported.\n"
     ]
    },
    {
     "name": "stdout",
     "output_type": "stream",
     "text": [
      "P_BFGS-TwoLocal - Depth 1: Average relative error = 0.0198363785746375\n"
     ]
    },
    {
     "name": "stderr",
     "output_type": "stream",
     "text": [
      "For Windows, using only current process. Multiple core use not supported.\n",
      "For Windows, using only current process. Multiple core use not supported.\n",
      "For Windows, using only current process. Multiple core use not supported.\n",
      "For Windows, using only current process. Multiple core use not supported.\n",
      "For Windows, using only current process. Multiple core use not supported.\n",
      "For Windows, using only current process. Multiple core use not supported.\n",
      "For Windows, using only current process. Multiple core use not supported.\n",
      "For Windows, using only current process. Multiple core use not supported.\n",
      "For Windows, using only current process. Multiple core use not supported.\n",
      "For Windows, using only current process. Multiple core use not supported.\n"
     ]
    },
    {
     "name": "stdout",
     "output_type": "stream",
     "text": [
      "P_BFGS-TwoLocal - Depth 2: Average relative error = 0.016057501408037717\n"
     ]
    },
    {
     "name": "stderr",
     "output_type": "stream",
     "text": [
      "For Windows, using only current process. Multiple core use not supported.\n",
      "For Windows, using only current process. Multiple core use not supported.\n",
      "For Windows, using only current process. Multiple core use not supported.\n",
      "For Windows, using only current process. Multiple core use not supported.\n",
      "For Windows, using only current process. Multiple core use not supported.\n",
      "For Windows, using only current process. Multiple core use not supported.\n",
      "For Windows, using only current process. Multiple core use not supported.\n",
      "For Windows, using only current process. Multiple core use not supported.\n",
      "For Windows, using only current process. Multiple core use not supported.\n",
      "For Windows, using only current process. Multiple core use not supported.\n"
     ]
    },
    {
     "name": "stdout",
     "output_type": "stream",
     "text": [
      "P_BFGS-TwoLocal - Depth 3: Average relative error = 0.009668570286831664\n",
      "Optimal depth 3 for P_BFGS-TwoLocal achieved lowest relative error = 0.0021107143976370236\n",
      "Run number with lowest relative error: 9\n",
      "Relative error at optimal run for P_BFGS-TwoLocal: 0.0021107143976370236\n",
      "Resource estimates for P_BFGS-TwoLocal: Gate count = 34, Circuit depth = 17, Function calls = 5032\n",
      "\n",
      "Running VQE for optimizer-ansatz pair: P_BFGS-EfficientSU2\n"
     ]
    },
    {
     "name": "stderr",
     "output_type": "stream",
     "text": [
      "For Windows, using only current process. Multiple core use not supported.\n",
      "For Windows, using only current process. Multiple core use not supported.\n",
      "For Windows, using only current process. Multiple core use not supported.\n",
      "For Windows, using only current process. Multiple core use not supported.\n",
      "For Windows, using only current process. Multiple core use not supported.\n",
      "For Windows, using only current process. Multiple core use not supported.\n",
      "For Windows, using only current process. Multiple core use not supported.\n",
      "For Windows, using only current process. Multiple core use not supported.\n",
      "For Windows, using only current process. Multiple core use not supported.\n",
      "For Windows, using only current process. Multiple core use not supported.\n"
     ]
    },
    {
     "name": "stdout",
     "output_type": "stream",
     "text": [
      "P_BFGS-EfficientSU2 - Depth 1: Average relative error = 4.4587816204845305\n"
     ]
    },
    {
     "name": "stderr",
     "output_type": "stream",
     "text": [
      "For Windows, using only current process. Multiple core use not supported.\n",
      "For Windows, using only current process. Multiple core use not supported.\n",
      "For Windows, using only current process. Multiple core use not supported.\n",
      "For Windows, using only current process. Multiple core use not supported.\n",
      "For Windows, using only current process. Multiple core use not supported.\n",
      "For Windows, using only current process. Multiple core use not supported.\n",
      "For Windows, using only current process. Multiple core use not supported.\n",
      "For Windows, using only current process. Multiple core use not supported.\n",
      "For Windows, using only current process. Multiple core use not supported.\n",
      "For Windows, using only current process. Multiple core use not supported.\n"
     ]
    },
    {
     "name": "stdout",
     "output_type": "stream",
     "text": [
      "P_BFGS-EfficientSU2 - Depth 2: Average relative error = 0.30680092810319326\n"
     ]
    },
    {
     "name": "stderr",
     "output_type": "stream",
     "text": [
      "For Windows, using only current process. Multiple core use not supported.\n",
      "For Windows, using only current process. Multiple core use not supported.\n",
      "For Windows, using only current process. Multiple core use not supported.\n",
      "For Windows, using only current process. Multiple core use not supported.\n",
      "For Windows, using only current process. Multiple core use not supported.\n",
      "For Windows, using only current process. Multiple core use not supported.\n",
      "For Windows, using only current process. Multiple core use not supported.\n",
      "For Windows, using only current process. Multiple core use not supported.\n",
      "For Windows, using only current process. Multiple core use not supported.\n",
      "For Windows, using only current process. Multiple core use not supported.\n"
     ]
    },
    {
     "name": "stdout",
     "output_type": "stream",
     "text": [
      "P_BFGS-EfficientSU2 - Depth 3: Average relative error = 0.03452225938272657\n"
     ]
    },
    {
     "name": "stderr",
     "output_type": "stream",
     "text": [
      "For Windows, using only current process. Multiple core use not supported.\n",
      "For Windows, using only current process. Multiple core use not supported.\n",
      "For Windows, using only current process. Multiple core use not supported.\n",
      "For Windows, using only current process. Multiple core use not supported.\n",
      "For Windows, using only current process. Multiple core use not supported.\n",
      "For Windows, using only current process. Multiple core use not supported.\n",
      "For Windows, using only current process. Multiple core use not supported.\n",
      "For Windows, using only current process. Multiple core use not supported.\n",
      "For Windows, using only current process. Multiple core use not supported.\n",
      "For Windows, using only current process. Multiple core use not supported.\n"
     ]
    },
    {
     "name": "stdout",
     "output_type": "stream",
     "text": [
      "P_BFGS-EfficientSU2 - Depth 4: Average relative error = 0.1733090685213507\n"
     ]
    },
    {
     "name": "stderr",
     "output_type": "stream",
     "text": [
      "For Windows, using only current process. Multiple core use not supported.\n",
      "For Windows, using only current process. Multiple core use not supported.\n",
      "For Windows, using only current process. Multiple core use not supported.\n",
      "For Windows, using only current process. Multiple core use not supported.\n",
      "For Windows, using only current process. Multiple core use not supported.\n",
      "For Windows, using only current process. Multiple core use not supported.\n",
      "For Windows, using only current process. Multiple core use not supported.\n",
      "For Windows, using only current process. Multiple core use not supported.\n",
      "For Windows, using only current process. Multiple core use not supported.\n",
      "For Windows, using only current process. Multiple core use not supported.\n"
     ]
    },
    {
     "name": "stdout",
     "output_type": "stream",
     "text": [
      "P_BFGS-EfficientSU2 - Depth 5: Average relative error = 0.5781758350859882\n"
     ]
    },
    {
     "name": "stderr",
     "output_type": "stream",
     "text": [
      "For Windows, using only current process. Multiple core use not supported.\n",
      "For Windows, using only current process. Multiple core use not supported.\n",
      "For Windows, using only current process. Multiple core use not supported.\n",
      "For Windows, using only current process. Multiple core use not supported.\n",
      "For Windows, using only current process. Multiple core use not supported.\n",
      "For Windows, using only current process. Multiple core use not supported.\n",
      "For Windows, using only current process. Multiple core use not supported.\n",
      "For Windows, using only current process. Multiple core use not supported.\n",
      "For Windows, using only current process. Multiple core use not supported.\n",
      "For Windows, using only current process. Multiple core use not supported.\n"
     ]
    },
    {
     "name": "stdout",
     "output_type": "stream",
     "text": [
      "P_BFGS-EfficientSU2 - Depth 6: Average relative error = 0.15346044043742998\n"
     ]
    },
    {
     "name": "stderr",
     "output_type": "stream",
     "text": [
      "For Windows, using only current process. Multiple core use not supported.\n",
      "For Windows, using only current process. Multiple core use not supported.\n",
      "For Windows, using only current process. Multiple core use not supported.\n",
      "For Windows, using only current process. Multiple core use not supported.\n",
      "For Windows, using only current process. Multiple core use not supported.\n",
      "For Windows, using only current process. Multiple core use not supported.\n",
      "For Windows, using only current process. Multiple core use not supported.\n",
      "For Windows, using only current process. Multiple core use not supported.\n",
      "For Windows, using only current process. Multiple core use not supported.\n",
      "For Windows, using only current process. Multiple core use not supported.\n"
     ]
    },
    {
     "name": "stdout",
     "output_type": "stream",
     "text": [
      "P_BFGS-EfficientSU2 - Depth 7: Average relative error = 3.4294840310849173\n"
     ]
    },
    {
     "name": "stderr",
     "output_type": "stream",
     "text": [
      "For Windows, using only current process. Multiple core use not supported.\n",
      "For Windows, using only current process. Multiple core use not supported.\n",
      "For Windows, using only current process. Multiple core use not supported.\n",
      "For Windows, using only current process. Multiple core use not supported.\n",
      "For Windows, using only current process. Multiple core use not supported.\n",
      "For Windows, using only current process. Multiple core use not supported.\n",
      "For Windows, using only current process. Multiple core use not supported.\n",
      "For Windows, using only current process. Multiple core use not supported.\n",
      "For Windows, using only current process. Multiple core use not supported.\n",
      "For Windows, using only current process. Multiple core use not supported.\n"
     ]
    },
    {
     "name": "stdout",
     "output_type": "stream",
     "text": [
      "P_BFGS-EfficientSU2 - Depth 8: Average relative error = 1.754086033668619\n"
     ]
    },
    {
     "name": "stderr",
     "output_type": "stream",
     "text": [
      "For Windows, using only current process. Multiple core use not supported.\n",
      "For Windows, using only current process. Multiple core use not supported.\n",
      "For Windows, using only current process. Multiple core use not supported.\n",
      "For Windows, using only current process. Multiple core use not supported.\n",
      "For Windows, using only current process. Multiple core use not supported.\n",
      "For Windows, using only current process. Multiple core use not supported.\n",
      "For Windows, using only current process. Multiple core use not supported.\n",
      "For Windows, using only current process. Multiple core use not supported.\n",
      "For Windows, using only current process. Multiple core use not supported.\n",
      "For Windows, using only current process. Multiple core use not supported.\n"
     ]
    },
    {
     "name": "stdout",
     "output_type": "stream",
     "text": [
      "P_BFGS-EfficientSU2 - Depth 9: Average relative error = 0.6713909103128061\n"
     ]
    },
    {
     "name": "stderr",
     "output_type": "stream",
     "text": [
      "For Windows, using only current process. Multiple core use not supported.\n",
      "For Windows, using only current process. Multiple core use not supported.\n",
      "For Windows, using only current process. Multiple core use not supported.\n",
      "For Windows, using only current process. Multiple core use not supported.\n",
      "For Windows, using only current process. Multiple core use not supported.\n",
      "For Windows, using only current process. Multiple core use not supported.\n",
      "For Windows, using only current process. Multiple core use not supported.\n",
      "For Windows, using only current process. Multiple core use not supported.\n",
      "For Windows, using only current process. Multiple core use not supported.\n"
     ]
    },
    {
     "name": "stdout",
     "output_type": "stream",
     "text": [
      "P_BFGS-EfficientSU2 - Depth 10: Average relative error = 1.9636128213854653\n",
      "P_BFGS-EfficientSU2 did not converge within 10 depths.\n"
     ]
    }
   ],
   "source": [
    "## Get the optimizers\n",
    "maxiter = 5000\n",
    "optimizers = [SLSQP(maxiter = maxiter), P_BFGS(maxfun = maxiter)]\n",
    "\n",
    "# Define parameters\n",
    "dimension = matrix.shape[0]\n",
    "num_qubits = int(np.log2(dimension))\n",
    "target_error_threshold = 0.01\n",
    "\n",
    "# Estimate min. ansatz depths\n",
    "min_depths_N_16, errors_N_16, resources_N_16 = estimate_resources(matrix, zeromode, optimizers, num_qubits, target_error_threshold, \\\n",
    "                                                               classical_expectation, nmax, L)"
   ]
  },
  {
   "cell_type": "markdown",
   "id": "2244e9f5-29ce-4c7a-8013-47e6510464cc",
   "metadata": {},
   "source": [
    "### Print the results"
   ]
  },
  {
   "cell_type": "code",
   "execution_count": 25,
   "id": "6a1c9643-e52c-427e-9c52-48c9abb6b2f4",
   "metadata": {},
   "outputs": [
    {
     "name": "stdout",
     "output_type": "stream",
     "text": [
      "The min. ansatz depth results are:\n",
      "{'SLSQP-RealAmplitudes': 4, 'SLSQP-TwoLocal': 3, 'SLSQP-EfficientSU2': 5, 'P_BFGS-RealAmplitudes': 'Did not converge', 'P_BFGS-TwoLocal': 3, 'P_BFGS-EfficientSU2': 'Did not converge'}\n",
      "\n",
      "The relative errors are:\n",
      "{'SLSQP-RealAmplitudes': 0.002754492118953014, 'SLSQP-TwoLocal': 0.0007149109040982413, 'SLSQP-EfficientSU2': 1.7298005847677678e-05, 'P_BFGS-RealAmplitudes': 'Did not converge', 'P_BFGS-TwoLocal': 0.0021107143976370236, 'P_BFGS-EfficientSU2': 'Did not converge'}\n",
      "\n",
      "The resources required are:\n",
      "{'SLSQP-RealAmplitudes': {'gate_count': 44, 'circuit_depth': 22, 'function_calls': 1438}, 'SLSQP-TwoLocal': {'gate_count': 34, 'circuit_depth': 17, 'function_calls': 1686}, 'SLSQP-EfficientSU2': {'gate_count': 44, 'circuit_depth': 26, 'function_calls': 2647}, 'P_BFGS-RealAmplitudes': {'gate_count': 'N/A', 'circuit_depth': 'N/A', 'function_calls': 'N/A'}, 'P_BFGS-TwoLocal': {'gate_count': 34, 'circuit_depth': 17, 'function_calls': 5032}, 'P_BFGS-EfficientSU2': {'gate_count': 'N/A', 'circuit_depth': 'N/A', 'function_calls': 'N/A'}}\n",
      "\n"
     ]
    }
   ],
   "source": [
    "## Print the min. ansatz depth results\n",
    "print('The min. ansatz depth results are:')\n",
    "print(min_depths_N_16)\n",
    "print()\n",
    "\n",
    "## Print the relative errors\n",
    "print('The relative errors are:')\n",
    "print(errors_N_16)\n",
    "print()\n",
    "\n",
    "## Print the resource estimates\n",
    "print('The resources required are:')\n",
    "print(resources_N_16)\n",
    "print()"
   ]
  },
  {
   "cell_type": "markdown",
   "id": "2974d624-2cf7-4532-b234-16c30db18b56",
   "metadata": {},
   "source": [
    "### For a = -1, b = 2 (N = 2)\n",
    "\n",
    "### Get the matrix and the zeromode"
   ]
  },
  {
   "cell_type": "code",
   "execution_count": 55,
   "id": "f024252e-d006-42fa-8d88-335369c53b12",
   "metadata": {},
   "outputs": [
    {
     "name": "stdout",
     "output_type": "stream",
     "text": [
      "The matrix is:\n",
      "[[ 17.015625   -37.25568853]\n",
      " [-37.25568853  84.515625  ]]\n",
      "\n",
      "The zeromode is:\n",
      "[[-0.91416021]\n",
      " [-0.40535307]]\n",
      "\n",
      "The value of <x^2> is:\n",
      "0.48931145833928297\n",
      "\n"
     ]
    },
    {
     "name": "stderr",
     "output_type": "stream",
     "text": [
      "C:\\Users\\Owner\\AppData\\Local\\Temp\\ipykernel_11088\\795971042.py:108: DeprecationWarning: Conversion of an array with ndim > 0 to a scalar is deprecated, and will error in future. Ensure you extract a single element from your array before performing this operation. (Deprecated NumPy 1.25.)\n",
      "  eigenvector[2*i] = eigenvector_old[i]\n"
     ]
    }
   ],
   "source": [
    "## Get the matrix and zeromode\n",
    "nmax = 3\n",
    "a = -1\n",
    "gamma = 1\n",
    "dx = 0.01\n",
    "c = 2\n",
    "L = 1/2\n",
    "x = np.linspace(-4, 4, int(8/dx))\n",
    "\n",
    "# Matrix and zeromode\n",
    "matrix, zeromode = get_zeromode(nmax, a, c, L, gamma)\n",
    "\n",
    "## Print the matrix and zeromode\n",
    "print('The matrix is:')\n",
    "print(matrix)\n",
    "print()\n",
    "\n",
    "# Print the zeromode\n",
    "print('The zeromode is:')\n",
    "print(zeromode)\n",
    "print()\n",
    "\n",
    "## Compute the classical <x^2> value\n",
    "x, y = get_pdf(nmax, x, dx, L, shift = 0, zeromode_qpe = zeromode, normalize = True, make_even = True)\n",
    "classical_expectation = compute_expectation_x_squared_simpson(x, y, 2)\n",
    "\n",
    "# Print the classical expectation value\n",
    "print('The value of <x^2> is:')\n",
    "print(classical_expectation)\n",
    "print()"
   ]
  },
  {
   "cell_type": "markdown",
   "id": "3e5ed6c5-a98d-42a6-9a21-e6032309d3ef",
   "metadata": {},
   "source": [
    "### Estimate resource requirements (fix at 5000 optimization iterations)"
   ]
  },
  {
   "cell_type": "code",
   "execution_count": 58,
   "id": "14c65c15-58a4-482a-b6a2-64d904f94888",
   "metadata": {},
   "outputs": [
    {
     "name": "stdout",
     "output_type": "stream",
     "text": [
      "\n",
      "Running VQE for optimizer-ansatz pair: SLSQP-RealAmplitudes\n"
     ]
    },
    {
     "name": "stderr",
     "output_type": "stream",
     "text": [
      "C:\\Users\\Owner\\AppData\\Local\\Temp\\ipykernel_11088\\795971042.py:108: DeprecationWarning: Conversion of an array with ndim > 0 to a scalar is deprecated, and will error in future. Ensure you extract a single element from your array before performing this operation. (Deprecated NumPy 1.25.)\n",
      "  eigenvector[2*i] = eigenvector_old[i]\n"
     ]
    },
    {
     "name": "stdout",
     "output_type": "stream",
     "text": [
      "SLSQP-RealAmplitudes - Depth 1: Average relative error = 0.14653160143751628\n",
      "SLSQP-RealAmplitudes - Depth 2: Average relative error = 1.8879777725189022e-05\n",
      "Optimal depth 2 for SLSQP-RealAmplitudes achieved lowest relative error = 4.292026354756172e-09\n",
      "Run number with lowest relative error: 6\n",
      "Relative error at optimal run for SLSQP-RealAmplitudes: 4.292026354756172e-09\n",
      "Resource estimates for SLSQP-RealAmplitudes: Gate count = 3, Circuit depth = 3, Function calls = 23\n",
      "\n",
      "Running VQE for optimizer-ansatz pair: SLSQP-TwoLocal\n",
      "SLSQP-TwoLocal - Depth 1: Average relative error = 1.3148079243836353e-05\n",
      "Optimal depth 1 for SLSQP-TwoLocal achieved lowest relative error = 6.894609420541554e-10\n",
      "Run number with lowest relative error: 8\n",
      "Relative error at optimal run for SLSQP-TwoLocal: 6.894609420541554e-10\n",
      "Resource estimates for SLSQP-TwoLocal: Gate count = 2, Circuit depth = 2, Function calls = 21\n",
      "\n",
      "Running VQE for optimizer-ansatz pair: SLSQP-EfficientSU2\n",
      "SLSQP-EfficientSU2 - Depth 1: Average relative error = 0.14653160143751628\n"
     ]
    },
    {
     "name": "stderr",
     "output_type": "stream",
     "text": [
      "For Windows, using only current process. Multiple core use not supported.\n",
      "For Windows, using only current process. Multiple core use not supported.\n",
      "For Windows, using only current process. Multiple core use not supported.\n"
     ]
    },
    {
     "name": "stdout",
     "output_type": "stream",
     "text": [
      "SLSQP-EfficientSU2 - Depth 2: Average relative error = 1.8879777725189022e-05\n",
      "Optimal depth 2 for SLSQP-EfficientSU2 achieved lowest relative error = 4.292026354756172e-09\n",
      "Run number with lowest relative error: 6\n",
      "Relative error at optimal run for SLSQP-EfficientSU2: 4.292026354756172e-09\n",
      "Resource estimates for SLSQP-EfficientSU2: Gate count = 3, Circuit depth = 3, Function calls = 23\n",
      "\n",
      "Running VQE for optimizer-ansatz pair: P_BFGS-RealAmplitudes\n"
     ]
    },
    {
     "name": "stderr",
     "output_type": "stream",
     "text": [
      "For Windows, using only current process. Multiple core use not supported.\n",
      "For Windows, using only current process. Multiple core use not supported.\n",
      "For Windows, using only current process. Multiple core use not supported.\n",
      "For Windows, using only current process. Multiple core use not supported.\n",
      "For Windows, using only current process. Multiple core use not supported.\n",
      "For Windows, using only current process. Multiple core use not supported.\n",
      "For Windows, using only current process. Multiple core use not supported.\n",
      "For Windows, using only current process. Multiple core use not supported.\n",
      "For Windows, using only current process. Multiple core use not supported.\n"
     ]
    },
    {
     "name": "stdout",
     "output_type": "stream",
     "text": [
      "P_BFGS-RealAmplitudes - Depth 1: Average relative error = 0.14653157057056895\n"
     ]
    },
    {
     "name": "stderr",
     "output_type": "stream",
     "text": [
      "For Windows, using only current process. Multiple core use not supported.\n",
      "For Windows, using only current process. Multiple core use not supported.\n",
      "For Windows, using only current process. Multiple core use not supported.\n",
      "For Windows, using only current process. Multiple core use not supported.\n",
      "For Windows, using only current process. Multiple core use not supported.\n",
      "For Windows, using only current process. Multiple core use not supported.\n",
      "For Windows, using only current process. Multiple core use not supported.\n",
      "For Windows, using only current process. Multiple core use not supported.\n",
      "For Windows, using only current process. Multiple core use not supported.\n",
      "For Windows, using only current process. Multiple core use not supported.\n"
     ]
    },
    {
     "name": "stdout",
     "output_type": "stream",
     "text": [
      "P_BFGS-RealAmplitudes - Depth 2: Average relative error = 0.46734221695396005\n"
     ]
    },
    {
     "name": "stderr",
     "output_type": "stream",
     "text": [
      "For Windows, using only current process. Multiple core use not supported.\n",
      "For Windows, using only current process. Multiple core use not supported.\n",
      "For Windows, using only current process. Multiple core use not supported.\n",
      "For Windows, using only current process. Multiple core use not supported.\n",
      "For Windows, using only current process. Multiple core use not supported.\n",
      "For Windows, using only current process. Multiple core use not supported.\n",
      "For Windows, using only current process. Multiple core use not supported.\n",
      "For Windows, using only current process. Multiple core use not supported.\n",
      "For Windows, using only current process. Multiple core use not supported.\n",
      "For Windows, using only current process. Multiple core use not supported.\n",
      "For Windows, using only current process. Multiple core use not supported.\n"
     ]
    },
    {
     "name": "stdout",
     "output_type": "stream",
     "text": [
      "P_BFGS-RealAmplitudes - Depth 3: Average relative error = 6.7762359389037945e-09\n",
      "Optimal depth 3 for P_BFGS-RealAmplitudes achieved lowest relative error = 5.962260603191657e-10\n",
      "Run number with lowest relative error: 4\n",
      "Relative error at optimal run for P_BFGS-RealAmplitudes: 5.962260603191657e-10\n",
      "Resource estimates for P_BFGS-RealAmplitudes: Gate count = 4, Circuit depth = 4, Function calls = 35\n",
      "\n",
      "Running VQE for optimizer-ansatz pair: P_BFGS-TwoLocal\n"
     ]
    },
    {
     "name": "stderr",
     "output_type": "stream",
     "text": [
      "For Windows, using only current process. Multiple core use not supported.\n",
      "For Windows, using only current process. Multiple core use not supported.\n",
      "For Windows, using only current process. Multiple core use not supported.\n",
      "For Windows, using only current process. Multiple core use not supported.\n",
      "For Windows, using only current process. Multiple core use not supported.\n",
      "For Windows, using only current process. Multiple core use not supported.\n",
      "For Windows, using only current process. Multiple core use not supported.\n",
      "For Windows, using only current process. Multiple core use not supported.\n",
      "For Windows, using only current process. Multiple core use not supported.\n",
      "For Windows, using only current process. Multiple core use not supported.\n"
     ]
    },
    {
     "name": "stdout",
     "output_type": "stream",
     "text": [
      "P_BFGS-TwoLocal - Depth 1: Average relative error = 5.301986895245689e-09\n",
      "Optimal depth 1 for P_BFGS-TwoLocal achieved lowest relative error = 5.070049503793998e-10\n",
      "Run number with lowest relative error: 7\n",
      "Relative error at optimal run for P_BFGS-TwoLocal: 5.070049503793998e-10\n",
      "Resource estimates for P_BFGS-TwoLocal: Gate count = 2, Circuit depth = 2, Function calls = 18\n",
      "\n",
      "Running VQE for optimizer-ansatz pair: P_BFGS-EfficientSU2\n"
     ]
    },
    {
     "name": "stderr",
     "output_type": "stream",
     "text": [
      "For Windows, using only current process. Multiple core use not supported.\n",
      "For Windows, using only current process. Multiple core use not supported.\n",
      "For Windows, using only current process. Multiple core use not supported.\n",
      "For Windows, using only current process. Multiple core use not supported.\n",
      "For Windows, using only current process. Multiple core use not supported.\n",
      "For Windows, using only current process. Multiple core use not supported.\n",
      "For Windows, using only current process. Multiple core use not supported.\n",
      "For Windows, using only current process. Multiple core use not supported.\n",
      "For Windows, using only current process. Multiple core use not supported.\n",
      "For Windows, using only current process. Multiple core use not supported.\n"
     ]
    },
    {
     "name": "stdout",
     "output_type": "stream",
     "text": [
      "P_BFGS-EfficientSU2 - Depth 1: Average relative error = 0.14653157057056895\n"
     ]
    },
    {
     "name": "stderr",
     "output_type": "stream",
     "text": [
      "For Windows, using only current process. Multiple core use not supported.\n",
      "For Windows, using only current process. Multiple core use not supported.\n",
      "For Windows, using only current process. Multiple core use not supported.\n",
      "For Windows, using only current process. Multiple core use not supported.\n",
      "For Windows, using only current process. Multiple core use not supported.\n",
      "For Windows, using only current process. Multiple core use not supported.\n",
      "For Windows, using only current process. Multiple core use not supported.\n",
      "For Windows, using only current process. Multiple core use not supported.\n",
      "For Windows, using only current process. Multiple core use not supported.\n"
     ]
    },
    {
     "name": "stdout",
     "output_type": "stream",
     "text": [
      "P_BFGS-EfficientSU2 - Depth 2: Average relative error = 0.46734221695396005\n"
     ]
    },
    {
     "name": "stderr",
     "output_type": "stream",
     "text": [
      "For Windows, using only current process. Multiple core use not supported.\n",
      "For Windows, using only current process. Multiple core use not supported.\n",
      "For Windows, using only current process. Multiple core use not supported.\n",
      "For Windows, using only current process. Multiple core use not supported.\n",
      "For Windows, using only current process. Multiple core use not supported.\n",
      "For Windows, using only current process. Multiple core use not supported.\n",
      "For Windows, using only current process. Multiple core use not supported.\n",
      "For Windows, using only current process. Multiple core use not supported.\n"
     ]
    },
    {
     "name": "stdout",
     "output_type": "stream",
     "text": [
      "P_BFGS-EfficientSU2 - Depth 3: Average relative error = 6.7762359389037945e-09\n",
      "Optimal depth 3 for P_BFGS-EfficientSU2 achieved lowest relative error = 5.962260603191657e-10\n",
      "Run number with lowest relative error: 4\n",
      "Relative error at optimal run for P_BFGS-EfficientSU2: 5.962260603191657e-10\n",
      "Resource estimates for P_BFGS-EfficientSU2: Gate count = 4, Circuit depth = 4, Function calls = 35\n"
     ]
    }
   ],
   "source": [
    "## Get the optimizers\n",
    "maxiter = 5000\n",
    "optimizers = [SLSQP(maxiter = maxiter), P_BFGS(maxfun = maxiter)]\n",
    "\n",
    "# Define parameters\n",
    "dimension = matrix.shape[0]\n",
    "num_qubits = int(np.log2(dimension))\n",
    "target_error_threshold = 0.01\n",
    "\n",
    "# Estimate min. ansatz depths\n",
    "min_depths_N_2, errors_N_2, resources_N_2 = estimate_resources(matrix, zeromode, optimizers, num_qubits, target_error_threshold, \\\n",
    "                                                               classical_expectation, nmax, L)"
   ]
  },
  {
   "cell_type": "markdown",
   "id": "85d86877-c87c-4158-9c70-6de0759a3a47",
   "metadata": {},
   "source": [
    "### Print resource estimates"
   ]
  },
  {
   "cell_type": "code",
   "execution_count": 61,
   "id": "401ccb0c-3933-481c-8d7f-530d01a57883",
   "metadata": {},
   "outputs": [
    {
     "name": "stdout",
     "output_type": "stream",
     "text": [
      "The min. ansatz depth results are:\n",
      "{'SLSQP-RealAmplitudes': 2, 'SLSQP-TwoLocal': 1, 'SLSQP-EfficientSU2': 2, 'P_BFGS-RealAmplitudes': 3, 'P_BFGS-TwoLocal': 1, 'P_BFGS-EfficientSU2': 3}\n",
      "\n",
      "The relative errors are:\n",
      "{'SLSQP-RealAmplitudes': 4.292026354756172e-09, 'SLSQP-TwoLocal': 6.894609420541554e-10, 'SLSQP-EfficientSU2': 4.292026354756172e-09, 'P_BFGS-RealAmplitudes': 5.962260603191657e-10, 'P_BFGS-TwoLocal': 5.070049503793998e-10, 'P_BFGS-EfficientSU2': 5.962260603191657e-10}\n",
      "\n",
      "The resources required are:\n",
      "{'SLSQP-RealAmplitudes': {'gate_count': 3, 'circuit_depth': 3, 'function_calls': 23}, 'SLSQP-TwoLocal': {'gate_count': 2, 'circuit_depth': 2, 'function_calls': 21}, 'SLSQP-EfficientSU2': {'gate_count': 3, 'circuit_depth': 3, 'function_calls': 23}, 'P_BFGS-RealAmplitudes': {'gate_count': 4, 'circuit_depth': 4, 'function_calls': 35}, 'P_BFGS-TwoLocal': {'gate_count': 2, 'circuit_depth': 2, 'function_calls': 18}, 'P_BFGS-EfficientSU2': {'gate_count': 4, 'circuit_depth': 4, 'function_calls': 35}}\n",
      "\n"
     ]
    }
   ],
   "source": [
    "## Print the min. ansatz depth results\n",
    "print('The min. ansatz depth results are:')\n",
    "print(min_depths_N_2)\n",
    "print()\n",
    "\n",
    "## Print the relative errors\n",
    "print('The relative errors are:')\n",
    "print(errors_N_2)\n",
    "print()\n",
    "\n",
    "## Print the resource estimates\n",
    "print('The resources required are:')\n",
    "print(resources_N_2)\n",
    "print()"
   ]
  },
  {
   "cell_type": "markdown",
   "id": "d8f49377-8c0c-4017-9e38-7d0d35230f78",
   "metadata": {},
   "source": [
    "### For a = -1, b = 2 (N = 4)\n",
    "\n",
    "### Get the matrix and the zeromode"
   ]
  },
  {
   "cell_type": "code",
   "execution_count": 64,
   "id": "d0d2c5ae-2e77-4d37-bbc1-0640bd32a4ae",
   "metadata": {},
   "outputs": [
    {
     "name": "stdout",
     "output_type": "stream",
     "text": [
      "The matrix is:\n",
      "[[  17.390625    -41.49832922   41.64132563   -2.51557647]\n",
      " [ -41.49832922  138.140625   -204.49024847  154.16103593]\n",
      " [  41.64132563 -204.49024847  387.390625   -424.31381877]\n",
      " [  -2.51557647  154.16103593 -424.31381877  790.140625  ]]\n",
      "\n",
      "The zeromode is:\n",
      "[[-0.80492107]\n",
      " [-0.55178885]\n",
      " [-0.21791911]\n",
      " [-0.01193297]]\n",
      "\n",
      "The value of <x^2> is:\n",
      "0.7580435055926756\n",
      "\n"
     ]
    },
    {
     "name": "stderr",
     "output_type": "stream",
     "text": [
      "C:\\Users\\Owner\\AppData\\Local\\Temp\\ipykernel_11088\\795971042.py:108: DeprecationWarning: Conversion of an array with ndim > 0 to a scalar is deprecated, and will error in future. Ensure you extract a single element from your array before performing this operation. (Deprecated NumPy 1.25.)\n",
      "  eigenvector[2*i] = eigenvector_old[i]\n"
     ]
    }
   ],
   "source": [
    "## Get the matrix and zeromode\n",
    "nmax = 7\n",
    "a = -1\n",
    "gamma = 1\n",
    "dx = 0.01\n",
    "c = 2\n",
    "L = 1/2\n",
    "x = np.linspace(-4, 4, int(8/dx))\n",
    "\n",
    "# Matrix and zeromode\n",
    "matrix, zeromode = get_zeromode(nmax, a, c, L, gamma)\n",
    "\n",
    "## Print the matrix and zeromode\n",
    "print('The matrix is:')\n",
    "print(matrix)\n",
    "print()\n",
    "\n",
    "# Print the zeromode\n",
    "print('The zeromode is:')\n",
    "print(zeromode)\n",
    "print()\n",
    "\n",
    "## Compute the classical <x^2> value\n",
    "x, y = get_pdf(nmax, x, dx, L, shift = 0, zeromode_qpe = zeromode, normalize = True, make_even = True)\n",
    "classical_expectation = compute_expectation_x_squared_simpson(x, y, 2)\n",
    "\n",
    "# Print the classical expectation value\n",
    "print('The value of <x^2> is:')\n",
    "print(classical_expectation)\n",
    "print()"
   ]
  },
  {
   "cell_type": "markdown",
   "id": "3dd0c99f-e2e5-4644-9000-52c58e0dff2d",
   "metadata": {},
   "source": [
    "### Estimate resource requirements (fix at 5000 optimization iterations)"
   ]
  },
  {
   "cell_type": "code",
   "execution_count": 67,
   "id": "badbf5d8-2016-4a2b-8299-4c694e8387da",
   "metadata": {},
   "outputs": [
    {
     "name": "stdout",
     "output_type": "stream",
     "text": [
      "\n",
      "Running VQE for optimizer-ansatz pair: SLSQP-RealAmplitudes\n"
     ]
    },
    {
     "name": "stderr",
     "output_type": "stream",
     "text": [
      "C:\\Users\\Owner\\AppData\\Local\\Temp\\ipykernel_11088\\795971042.py:108: DeprecationWarning: Conversion of an array with ndim > 0 to a scalar is deprecated, and will error in future. Ensure you extract a single element from your array before performing this operation. (Deprecated NumPy 1.25.)\n",
      "  eigenvector[2*i] = eigenvector_old[i]\n"
     ]
    },
    {
     "name": "stdout",
     "output_type": "stream",
     "text": [
      "SLSQP-RealAmplitudes - Depth 1: Average relative error = 0.026685304352362754\n",
      "SLSQP-RealAmplitudes - Depth 2: Average relative error = 0.11421118747026257\n",
      "SLSQP-RealAmplitudes - Depth 3: Average relative error = 0.04406038038468647\n",
      "SLSQP-RealAmplitudes - Depth 4: Average relative error = 3.30834530961778e-05\n",
      "Optimal depth 4 for SLSQP-RealAmplitudes achieved lowest relative error = 8.867874604269487e-07\n",
      "Run number with lowest relative error: 6\n",
      "Relative error at optimal run for SLSQP-RealAmplitudes: 8.867874604269487e-07\n",
      "Resource estimates for SLSQP-RealAmplitudes: Gate count = 14, Circuit depth = 9, Function calls = 236\n",
      "\n",
      "Running VQE for optimizer-ansatz pair: SLSQP-TwoLocal\n",
      "SLSQP-TwoLocal - Depth 1: Average relative error = 9.713419418917283e-05\n",
      "Optimal depth 1 for SLSQP-TwoLocal achieved lowest relative error = 3.8593836728381256e-07\n",
      "Run number with lowest relative error: 7\n",
      "Relative error at optimal run for SLSQP-TwoLocal: 3.8593836728381256e-07\n",
      "Resource estimates for SLSQP-TwoLocal: Gate count = 5, Circuit depth = 3, Function calls = 109\n",
      "\n",
      "Running VQE for optimizer-ansatz pair: SLSQP-EfficientSU2\n",
      "SLSQP-EfficientSU2 - Depth 1: Average relative error = 0.026685304352362754\n",
      "SLSQP-EfficientSU2 - Depth 2: Average relative error = 0.06630287875864029\n"
     ]
    },
    {
     "name": "stderr",
     "output_type": "stream",
     "text": [
      "For Windows, using only current process. Multiple core use not supported.\n"
     ]
    },
    {
     "name": "stdout",
     "output_type": "stream",
     "text": [
      "SLSQP-EfficientSU2 - Depth 3: Average relative error = 4.2503207821117936e-05\n",
      "Optimal depth 3 for SLSQP-EfficientSU2 achieved lowest relative error = 3.0729606825647177e-06\n",
      "Run number with lowest relative error: 3\n",
      "Relative error at optimal run for SLSQP-EfficientSU2: 3.0729606825647177e-06\n",
      "Resource estimates for SLSQP-EfficientSU2: Gate count = 11, Circuit depth = 7, Function calls = 213\n",
      "\n",
      "Running VQE for optimizer-ansatz pair: P_BFGS-RealAmplitudes\n"
     ]
    },
    {
     "name": "stderr",
     "output_type": "stream",
     "text": [
      "For Windows, using only current process. Multiple core use not supported.\n",
      "For Windows, using only current process. Multiple core use not supported.\n",
      "For Windows, using only current process. Multiple core use not supported.\n",
      "For Windows, using only current process. Multiple core use not supported.\n",
      "For Windows, using only current process. Multiple core use not supported.\n",
      "For Windows, using only current process. Multiple core use not supported.\n",
      "For Windows, using only current process. Multiple core use not supported.\n",
      "For Windows, using only current process. Multiple core use not supported.\n",
      "For Windows, using only current process. Multiple core use not supported.\n",
      "For Windows, using only current process. Multiple core use not supported.\n"
     ]
    },
    {
     "name": "stdout",
     "output_type": "stream",
     "text": [
      "P_BFGS-RealAmplitudes - Depth 1: Average relative error = 0.02664886345392259\n"
     ]
    },
    {
     "name": "stderr",
     "output_type": "stream",
     "text": [
      "For Windows, using only current process. Multiple core use not supported.\n",
      "For Windows, using only current process. Multiple core use not supported.\n",
      "For Windows, using only current process. Multiple core use not supported.\n",
      "For Windows, using only current process. Multiple core use not supported.\n",
      "For Windows, using only current process. Multiple core use not supported.\n",
      "For Windows, using only current process. Multiple core use not supported.\n",
      "For Windows, using only current process. Multiple core use not supported.\n",
      "For Windows, using only current process. Multiple core use not supported.\n",
      "For Windows, using only current process. Multiple core use not supported.\n",
      "For Windows, using only current process. Multiple core use not supported.\n"
     ]
    },
    {
     "name": "stdout",
     "output_type": "stream",
     "text": [
      "P_BFGS-RealAmplitudes - Depth 2: Average relative error = 0.1408222786528786\n"
     ]
    },
    {
     "name": "stderr",
     "output_type": "stream",
     "text": [
      "For Windows, using only current process. Multiple core use not supported.\n",
      "For Windows, using only current process. Multiple core use not supported.\n",
      "For Windows, using only current process. Multiple core use not supported.\n",
      "For Windows, using only current process. Multiple core use not supported.\n",
      "For Windows, using only current process. Multiple core use not supported.\n",
      "For Windows, using only current process. Multiple core use not supported.\n",
      "For Windows, using only current process. Multiple core use not supported.\n",
      "For Windows, using only current process. Multiple core use not supported.\n",
      "For Windows, using only current process. Multiple core use not supported.\n",
      "For Windows, using only current process. Multiple core use not supported.\n"
     ]
    },
    {
     "name": "stdout",
     "output_type": "stream",
     "text": [
      "P_BFGS-RealAmplitudes - Depth 3: Average relative error = 0.22756929117088545\n"
     ]
    },
    {
     "name": "stderr",
     "output_type": "stream",
     "text": [
      "For Windows, using only current process. Multiple core use not supported.\n",
      "For Windows, using only current process. Multiple core use not supported.\n",
      "For Windows, using only current process. Multiple core use not supported.\n",
      "For Windows, using only current process. Multiple core use not supported.\n",
      "For Windows, using only current process. Multiple core use not supported.\n",
      "For Windows, using only current process. Multiple core use not supported.\n",
      "For Windows, using only current process. Multiple core use not supported.\n",
      "For Windows, using only current process. Multiple core use not supported.\n",
      "For Windows, using only current process. Multiple core use not supported.\n",
      "For Windows, using only current process. Multiple core use not supported.\n"
     ]
    },
    {
     "name": "stdout",
     "output_type": "stream",
     "text": [
      "P_BFGS-RealAmplitudes - Depth 4: Average relative error = 2.177173265502484e-07\n",
      "Optimal depth 4 for P_BFGS-RealAmplitudes achieved lowest relative error = 2.243422859439806e-08\n",
      "Run number with lowest relative error: 10\n",
      "Relative error at optimal run for P_BFGS-RealAmplitudes: 2.243422859439806e-08\n",
      "Resource estimates for P_BFGS-RealAmplitudes: Gate count = 14, Circuit depth = 9, Function calls = 473\n",
      "\n",
      "Running VQE for optimizer-ansatz pair: P_BFGS-TwoLocal\n"
     ]
    },
    {
     "name": "stderr",
     "output_type": "stream",
     "text": [
      "For Windows, using only current process. Multiple core use not supported.\n",
      "For Windows, using only current process. Multiple core use not supported.\n",
      "For Windows, using only current process. Multiple core use not supported.\n",
      "For Windows, using only current process. Multiple core use not supported.\n",
      "For Windows, using only current process. Multiple core use not supported.\n",
      "For Windows, using only current process. Multiple core use not supported.\n",
      "For Windows, using only current process. Multiple core use not supported.\n",
      "For Windows, using only current process. Multiple core use not supported.\n",
      "For Windows, using only current process. Multiple core use not supported.\n",
      "For Windows, using only current process. Multiple core use not supported.\n"
     ]
    },
    {
     "name": "stdout",
     "output_type": "stream",
     "text": [
      "P_BFGS-TwoLocal - Depth 1: Average relative error = 1.944621850470834e-07\n",
      "Optimal depth 1 for P_BFGS-TwoLocal achieved lowest relative error = 5.741521609805066e-09\n",
      "Run number with lowest relative error: 3\n",
      "Relative error at optimal run for P_BFGS-TwoLocal: 5.741521609805066e-09\n",
      "Resource estimates for P_BFGS-TwoLocal: Gate count = 5, Circuit depth = 3, Function calls = 130\n",
      "\n",
      "Running VQE for optimizer-ansatz pair: P_BFGS-EfficientSU2\n"
     ]
    },
    {
     "name": "stderr",
     "output_type": "stream",
     "text": [
      "For Windows, using only current process. Multiple core use not supported.\n",
      "For Windows, using only current process. Multiple core use not supported.\n",
      "For Windows, using only current process. Multiple core use not supported.\n",
      "For Windows, using only current process. Multiple core use not supported.\n",
      "For Windows, using only current process. Multiple core use not supported.\n",
      "For Windows, using only current process. Multiple core use not supported.\n",
      "For Windows, using only current process. Multiple core use not supported.\n",
      "For Windows, using only current process. Multiple core use not supported.\n",
      "For Windows, using only current process. Multiple core use not supported.\n",
      "For Windows, using only current process. Multiple core use not supported.\n"
     ]
    },
    {
     "name": "stdout",
     "output_type": "stream",
     "text": [
      "P_BFGS-EfficientSU2 - Depth 1: Average relative error = 0.02664886345392259\n"
     ]
    },
    {
     "name": "stderr",
     "output_type": "stream",
     "text": [
      "For Windows, using only current process. Multiple core use not supported.\n",
      "For Windows, using only current process. Multiple core use not supported.\n",
      "For Windows, using only current process. Multiple core use not supported.\n",
      "For Windows, using only current process. Multiple core use not supported.\n",
      "For Windows, using only current process. Multiple core use not supported.\n",
      "For Windows, using only current process. Multiple core use not supported.\n",
      "For Windows, using only current process. Multiple core use not supported.\n",
      "For Windows, using only current process. Multiple core use not supported.\n",
      "For Windows, using only current process. Multiple core use not supported.\n",
      "For Windows, using only current process. Multiple core use not supported.\n"
     ]
    },
    {
     "name": "stdout",
     "output_type": "stream",
     "text": [
      "P_BFGS-EfficientSU2 - Depth 2: Average relative error = 0.2539276784277459\n"
     ]
    },
    {
     "name": "stderr",
     "output_type": "stream",
     "text": [
      "For Windows, using only current process. Multiple core use not supported.\n",
      "For Windows, using only current process. Multiple core use not supported.\n",
      "For Windows, using only current process. Multiple core use not supported.\n",
      "For Windows, using only current process. Multiple core use not supported.\n",
      "For Windows, using only current process. Multiple core use not supported.\n",
      "For Windows, using only current process. Multiple core use not supported.\n",
      "For Windows, using only current process. Multiple core use not supported.\n",
      "For Windows, using only current process. Multiple core use not supported.\n",
      "For Windows, using only current process. Multiple core use not supported.\n"
     ]
    },
    {
     "name": "stdout",
     "output_type": "stream",
     "text": [
      "P_BFGS-EfficientSU2 - Depth 3: Average relative error = 1.644875816634471e-07\n",
      "Optimal depth 3 for P_BFGS-EfficientSU2 achieved lowest relative error = 1.2894078399654205e-08\n",
      "Run number with lowest relative error: 2\n",
      "Relative error at optimal run for P_BFGS-EfficientSU2: 1.2894078399654205e-08\n",
      "Resource estimates for P_BFGS-EfficientSU2: Gate count = 11, Circuit depth = 7, Function calls = 207\n"
     ]
    }
   ],
   "source": [
    "## Get the optimizers\n",
    "maxiter = 5000\n",
    "optimizers = [SLSQP(maxiter = maxiter), P_BFGS(maxfun = maxiter)]\n",
    "\n",
    "# Define parameters\n",
    "dimension = matrix.shape[0]\n",
    "num_qubits = int(np.log2(dimension))\n",
    "target_error_threshold = 0.01\n",
    "\n",
    "# Estimate min. ansatz depths\n",
    "min_depths_N_4, errors_N_4, resources_N_4 = estimate_resources(matrix, zeromode, optimizers, num_qubits, target_error_threshold, \\\n",
    "                                                               classical_expectation, nmax, L)"
   ]
  },
  {
   "cell_type": "markdown",
   "id": "6dfbd2eb-1409-4e4f-89d9-0b8d4c1dbcc0",
   "metadata": {},
   "source": [
    "### Print resource estimates"
   ]
  },
  {
   "cell_type": "code",
   "execution_count": 70,
   "id": "6917d305-6dc5-4e46-96eb-693bdf4975b2",
   "metadata": {},
   "outputs": [
    {
     "name": "stdout",
     "output_type": "stream",
     "text": [
      "The min. ansatz depth results are:\n",
      "{'SLSQP-RealAmplitudes': 4, 'SLSQP-TwoLocal': 1, 'SLSQP-EfficientSU2': 3, 'P_BFGS-RealAmplitudes': 4, 'P_BFGS-TwoLocal': 1, 'P_BFGS-EfficientSU2': 3}\n",
      "\n",
      "The relative errors are:\n",
      "{'SLSQP-RealAmplitudes': 8.867874604269487e-07, 'SLSQP-TwoLocal': 3.8593836728381256e-07, 'SLSQP-EfficientSU2': 3.0729606825647177e-06, 'P_BFGS-RealAmplitudes': 2.243422859439806e-08, 'P_BFGS-TwoLocal': 5.741521609805066e-09, 'P_BFGS-EfficientSU2': 1.2894078399654205e-08}\n",
      "\n",
      "The resources required are:\n",
      "{'SLSQP-RealAmplitudes': {'gate_count': 14, 'circuit_depth': 9, 'function_calls': 236}, 'SLSQP-TwoLocal': {'gate_count': 5, 'circuit_depth': 3, 'function_calls': 109}, 'SLSQP-EfficientSU2': {'gate_count': 11, 'circuit_depth': 7, 'function_calls': 213}, 'P_BFGS-RealAmplitudes': {'gate_count': 14, 'circuit_depth': 9, 'function_calls': 473}, 'P_BFGS-TwoLocal': {'gate_count': 5, 'circuit_depth': 3, 'function_calls': 130}, 'P_BFGS-EfficientSU2': {'gate_count': 11, 'circuit_depth': 7, 'function_calls': 207}}\n",
      "\n"
     ]
    }
   ],
   "source": [
    "## Print the min. ansatz depth results\n",
    "print('The min. ansatz depth results are:')\n",
    "print(min_depths_N_4)\n",
    "print()\n",
    "\n",
    "## Print the relative errors\n",
    "print('The relative errors are:')\n",
    "print(errors_N_4)\n",
    "print()\n",
    "\n",
    "## Print the resource estimates\n",
    "print('The resources required are:')\n",
    "print(resources_N_4)\n",
    "print()"
   ]
  },
  {
   "cell_type": "markdown",
   "id": "5c122e95-4f4a-4486-ba68-2a8bc3984087",
   "metadata": {},
   "source": [
    "### For a = -1, b = 2 (N = 8)\n",
    "\n",
    "### Get the matrix and the zeromode"
   ]
  },
  {
   "cell_type": "code",
   "execution_count": 73,
   "id": "dee1c3ae-812e-448f-8c46-b8e68740152f",
   "metadata": {},
   "outputs": [
    {
     "name": "stdout",
     "output_type": "stream",
     "text": [
      "The matrix is:\n",
      "[[ 1.73906250e+01 -4.14983292e+01  4.16413256e+01 -2.51557647e+00\n",
      "  -3.13747510e+00  0.00000000e+00  0.00000000e+00  0.00000000e+00]\n",
      " [-4.14983292e+01  1.38140625e+02 -2.04490248e+02  1.54161036e+02\n",
      "  -3.10594189e+01 -2.10468228e+01  0.00000000e+00  0.00000000e+00]\n",
      " [ 4.16413256e+01 -2.04490248e+02  4.13640625e+02 -4.62654398e+02\n",
      "   2.97161572e+02 -1.33665277e+02 -6.98044143e+01  0.00000000e+00]\n",
      " [-2.51557647e+00  1.54161036e+02 -4.62654398e+02  9.24890625e+02\n",
      "  -7.68209032e+02  4.17083625e+02 -3.82334523e+02 -1.71932490e+02]\n",
      " [-3.13747510e+00 -3.10594189e+01  2.97161572e+02 -7.68209032e+02\n",
      "   1.81289062e+03 -1.04918443e+03  4.35981651e+02 -8.73066927e+02]\n",
      " [ 0.00000000e+00 -2.10468228e+01 -1.33665277e+02  4.17083625e+02\n",
      "  -1.04918443e+03  3.27864062e+03 -1.20958947e+03  2.51869758e+02]\n",
      " [ 0.00000000e+00  0.00000000e+00 -6.98044143e+01 -3.82334523e+02\n",
      "   4.35981651e+02 -1.20958947e+03  4.90064062e+03 -1.53414981e+03]\n",
      " [ 0.00000000e+00  0.00000000e+00  0.00000000e+00 -1.71932490e+02\n",
      "  -8.73066927e+02  2.51869758e+02 -1.53414981e+03  7.65989062e+03]]\n",
      "\n",
      "The zeromode is:\n",
      "[[-0.83477494]\n",
      " [-0.52277432]\n",
      " [-0.16895116]\n",
      " [ 0.02397234]\n",
      " [ 0.02597929]\n",
      " [-0.00650643]\n",
      " [-0.00351119]\n",
      " [ 0.00300988]]\n",
      "\n",
      "The value of <x^2> is:\n",
      "0.6389400054333254\n",
      "\n"
     ]
    },
    {
     "name": "stderr",
     "output_type": "stream",
     "text": [
      "C:\\Users\\Owner\\AppData\\Local\\Temp\\ipykernel_11088\\795971042.py:108: DeprecationWarning: Conversion of an array with ndim > 0 to a scalar is deprecated, and will error in future. Ensure you extract a single element from your array before performing this operation. (Deprecated NumPy 1.25.)\n",
      "  eigenvector[2*i] = eigenvector_old[i]\n"
     ]
    }
   ],
   "source": [
    "## Get the matrix and zeromode\n",
    "nmax = 15\n",
    "a = -1\n",
    "gamma = 1\n",
    "dx = 0.01\n",
    "c = 2\n",
    "L = 1/2\n",
    "x = np.linspace(-4, 4, int(8/dx))\n",
    "\n",
    "# Matrix and zeromode\n",
    "matrix, zeromode = get_zeromode(nmax, a, c, L, gamma)\n",
    "\n",
    "## Print the matrix and zeromode\n",
    "print('The matrix is:')\n",
    "print(matrix)\n",
    "print()\n",
    "\n",
    "# Print the zeromode\n",
    "print('The zeromode is:')\n",
    "print(zeromode)\n",
    "print()\n",
    "\n",
    "## Compute the classical <x^2> value\n",
    "x, y = get_pdf(nmax, x, dx, L, shift = 0, zeromode_qpe = zeromode, normalize = True, make_even = True)\n",
    "classical_expectation = compute_expectation_x_squared_simpson(x, y, 2)\n",
    "\n",
    "# Print the classical expectation value\n",
    "print('The value of <x^2> is:')\n",
    "print(classical_expectation)\n",
    "print()"
   ]
  },
  {
   "cell_type": "markdown",
   "id": "100a5735-f756-4c8d-bfc2-735d6fd353f1",
   "metadata": {},
   "source": [
    "### Estimate resource requirements (fix at 5000 optimization iterations)"
   ]
  },
  {
   "cell_type": "code",
   "execution_count": 76,
   "id": "cec543ee-1167-4047-b054-204467a028bb",
   "metadata": {},
   "outputs": [
    {
     "name": "stdout",
     "output_type": "stream",
     "text": [
      "\n",
      "Running VQE for optimizer-ansatz pair: SLSQP-RealAmplitudes\n"
     ]
    },
    {
     "name": "stderr",
     "output_type": "stream",
     "text": [
      "C:\\Users\\Owner\\AppData\\Local\\Temp\\ipykernel_11088\\795971042.py:108: DeprecationWarning: Conversion of an array with ndim > 0 to a scalar is deprecated, and will error in future. Ensure you extract a single element from your array before performing this operation. (Deprecated NumPy 1.25.)\n",
      "  eigenvector[2*i] = eigenvector_old[i]\n"
     ]
    },
    {
     "name": "stdout",
     "output_type": "stream",
     "text": [
      "SLSQP-RealAmplitudes - Depth 1: Average relative error = 0.3942387861866542\n",
      "SLSQP-RealAmplitudes - Depth 2: Average relative error = 0.005235440870832742\n",
      "Optimal depth 2 for SLSQP-RealAmplitudes achieved lowest relative error = 2.404972472478609e-06\n",
      "Run number with lowest relative error: 6\n",
      "Relative error at optimal run for SLSQP-RealAmplitudes: 2.404972472478609e-06\n",
      "Resource estimates for SLSQP-RealAmplitudes: Gate count = 15, Circuit depth = 9, Function calls = 422\n",
      "\n",
      "Running VQE for optimizer-ansatz pair: SLSQP-TwoLocal\n",
      "SLSQP-TwoLocal - Depth 1: Average relative error = 0.05332697997180615\n",
      "SLSQP-TwoLocal - Depth 2: Average relative error = 0.0028377553983254906\n",
      "Optimal depth 2 for SLSQP-TwoLocal achieved lowest relative error = 8.084603690787865e-05\n",
      "Run number with lowest relative error: 1\n",
      "Relative error at optimal run for SLSQP-TwoLocal: 8.084603690787865e-05\n",
      "Resource estimates for SLSQP-TwoLocal: Gate count = 15, Circuit depth = 9, Function calls = 643\n",
      "\n",
      "Running VQE for optimizer-ansatz pair: SLSQP-EfficientSU2\n",
      "SLSQP-EfficientSU2 - Depth 1: Average relative error = 0.3713148140619135\n",
      "SLSQP-EfficientSU2 - Depth 2: Average relative error = 0.2029550083022899\n",
      "SLSQP-EfficientSU2 - Depth 3: Average relative error = 0.15447105640060027\n"
     ]
    },
    {
     "name": "stderr",
     "output_type": "stream",
     "text": [
      "For Windows, using only current process. Multiple core use not supported.\n"
     ]
    },
    {
     "name": "stdout",
     "output_type": "stream",
     "text": [
      "SLSQP-EfficientSU2 - Depth 4: Average relative error = 5.944625890666698e-05\n",
      "Optimal depth 4 for SLSQP-EfficientSU2 achieved lowest relative error = 1.4669562483966657e-06\n",
      "Run number with lowest relative error: 2\n",
      "Relative error at optimal run for SLSQP-EfficientSU2: 1.4669562483966657e-06\n",
      "Resource estimates for SLSQP-EfficientSU2: Gate count = 27, Circuit depth = 17, Function calls = 793\n",
      "\n",
      "Running VQE for optimizer-ansatz pair: P_BFGS-RealAmplitudes\n"
     ]
    },
    {
     "name": "stderr",
     "output_type": "stream",
     "text": [
      "For Windows, using only current process. Multiple core use not supported.\n",
      "For Windows, using only current process. Multiple core use not supported.\n",
      "For Windows, using only current process. Multiple core use not supported.\n",
      "For Windows, using only current process. Multiple core use not supported.\n",
      "For Windows, using only current process. Multiple core use not supported.\n",
      "For Windows, using only current process. Multiple core use not supported.\n",
      "For Windows, using only current process. Multiple core use not supported.\n",
      "For Windows, using only current process. Multiple core use not supported.\n",
      "For Windows, using only current process. Multiple core use not supported.\n",
      "For Windows, using only current process. Multiple core use not supported.\n"
     ]
    },
    {
     "name": "stdout",
     "output_type": "stream",
     "text": [
      "P_BFGS-RealAmplitudes - Depth 1: Average relative error = 0.13166700208445864\n"
     ]
    },
    {
     "name": "stderr",
     "output_type": "stream",
     "text": [
      "For Windows, using only current process. Multiple core use not supported.\n",
      "For Windows, using only current process. Multiple core use not supported.\n",
      "For Windows, using only current process. Multiple core use not supported.\n",
      "For Windows, using only current process. Multiple core use not supported.\n",
      "For Windows, using only current process. Multiple core use not supported.\n",
      "For Windows, using only current process. Multiple core use not supported.\n",
      "For Windows, using only current process. Multiple core use not supported.\n",
      "For Windows, using only current process. Multiple core use not supported.\n",
      "For Windows, using only current process. Multiple core use not supported.\n",
      "For Windows, using only current process. Multiple core use not supported.\n"
     ]
    },
    {
     "name": "stdout",
     "output_type": "stream",
     "text": [
      "P_BFGS-RealAmplitudes - Depth 2: Average relative error = 0.018322552095236953\n"
     ]
    },
    {
     "name": "stderr",
     "output_type": "stream",
     "text": [
      "For Windows, using only current process. Multiple core use not supported.\n",
      "For Windows, using only current process. Multiple core use not supported.\n",
      "For Windows, using only current process. Multiple core use not supported.\n",
      "For Windows, using only current process. Multiple core use not supported.\n",
      "For Windows, using only current process. Multiple core use not supported.\n",
      "For Windows, using only current process. Multiple core use not supported.\n",
      "For Windows, using only current process. Multiple core use not supported.\n",
      "For Windows, using only current process. Multiple core use not supported.\n",
      "For Windows, using only current process. Multiple core use not supported.\n",
      "For Windows, using only current process. Multiple core use not supported.\n"
     ]
    },
    {
     "name": "stdout",
     "output_type": "stream",
     "text": [
      "P_BFGS-RealAmplitudes - Depth 3: Average relative error = 0.22725983029012423\n"
     ]
    },
    {
     "name": "stderr",
     "output_type": "stream",
     "text": [
      "For Windows, using only current process. Multiple core use not supported.\n",
      "For Windows, using only current process. Multiple core use not supported.\n",
      "For Windows, using only current process. Multiple core use not supported.\n",
      "For Windows, using only current process. Multiple core use not supported.\n",
      "For Windows, using only current process. Multiple core use not supported.\n",
      "For Windows, using only current process. Multiple core use not supported.\n",
      "For Windows, using only current process. Multiple core use not supported.\n",
      "For Windows, using only current process. Multiple core use not supported.\n",
      "For Windows, using only current process. Multiple core use not supported.\n",
      "For Windows, using only current process. Multiple core use not supported.\n"
     ]
    },
    {
     "name": "stdout",
     "output_type": "stream",
     "text": [
      "P_BFGS-RealAmplitudes - Depth 4: Average relative error = 1.8053044770063844e-06\n",
      "Optimal depth 4 for P_BFGS-RealAmplitudes achieved lowest relative error = 2.8526900864602765e-07\n",
      "Run number with lowest relative error: 1\n",
      "Relative error at optimal run for P_BFGS-RealAmplitudes: 2.8526900864602765e-07\n",
      "Resource estimates for P_BFGS-RealAmplitudes: Gate count = 27, Circuit depth = 17, Function calls = 2864\n",
      "\n",
      "Running VQE for optimizer-ansatz pair: P_BFGS-TwoLocal\n"
     ]
    },
    {
     "name": "stderr",
     "output_type": "stream",
     "text": [
      "For Windows, using only current process. Multiple core use not supported.\n",
      "For Windows, using only current process. Multiple core use not supported.\n",
      "For Windows, using only current process. Multiple core use not supported.\n",
      "For Windows, using only current process. Multiple core use not supported.\n",
      "For Windows, using only current process. Multiple core use not supported.\n",
      "For Windows, using only current process. Multiple core use not supported.\n",
      "For Windows, using only current process. Multiple core use not supported.\n",
      "For Windows, using only current process. Multiple core use not supported.\n",
      "For Windows, using only current process. Multiple core use not supported.\n",
      "For Windows, using only current process. Multiple core use not supported.\n"
     ]
    },
    {
     "name": "stdout",
     "output_type": "stream",
     "text": [
      "P_BFGS-TwoLocal - Depth 1: Average relative error = 0.057141615862391616\n"
     ]
    },
    {
     "name": "stderr",
     "output_type": "stream",
     "text": [
      "For Windows, using only current process. Multiple core use not supported.\n",
      "For Windows, using only current process. Multiple core use not supported.\n",
      "For Windows, using only current process. Multiple core use not supported.\n",
      "For Windows, using only current process. Multiple core use not supported.\n",
      "For Windows, using only current process. Multiple core use not supported.\n",
      "For Windows, using only current process. Multiple core use not supported.\n",
      "For Windows, using only current process. Multiple core use not supported.\n",
      "For Windows, using only current process. Multiple core use not supported.\n",
      "For Windows, using only current process. Multiple core use not supported.\n",
      "For Windows, using only current process. Multiple core use not supported.\n"
     ]
    },
    {
     "name": "stdout",
     "output_type": "stream",
     "text": [
      "P_BFGS-TwoLocal - Depth 2: Average relative error = 8.675434070940091e-06\n",
      "Optimal depth 2 for P_BFGS-TwoLocal achieved lowest relative error = 2.411690472012576e-06\n",
      "Run number with lowest relative error: 6\n",
      "Relative error at optimal run for P_BFGS-TwoLocal: 2.411690472012576e-06\n",
      "Resource estimates for P_BFGS-TwoLocal: Gate count = 15, Circuit depth = 9, Function calls = 1200\n",
      "\n",
      "Running VQE for optimizer-ansatz pair: P_BFGS-EfficientSU2\n"
     ]
    },
    {
     "name": "stderr",
     "output_type": "stream",
     "text": [
      "For Windows, using only current process. Multiple core use not supported.\n",
      "For Windows, using only current process. Multiple core use not supported.\n",
      "For Windows, using only current process. Multiple core use not supported.\n",
      "For Windows, using only current process. Multiple core use not supported.\n",
      "For Windows, using only current process. Multiple core use not supported.\n",
      "For Windows, using only current process. Multiple core use not supported.\n",
      "For Windows, using only current process. Multiple core use not supported.\n",
      "For Windows, using only current process. Multiple core use not supported.\n",
      "For Windows, using only current process. Multiple core use not supported.\n",
      "For Windows, using only current process. Multiple core use not supported.\n"
     ]
    },
    {
     "name": "stdout",
     "output_type": "stream",
     "text": [
      "P_BFGS-EfficientSU2 - Depth 1: Average relative error = 0.6431781449398677\n"
     ]
    },
    {
     "name": "stderr",
     "output_type": "stream",
     "text": [
      "For Windows, using only current process. Multiple core use not supported.\n",
      "For Windows, using only current process. Multiple core use not supported.\n",
      "For Windows, using only current process. Multiple core use not supported.\n",
      "For Windows, using only current process. Multiple core use not supported.\n",
      "For Windows, using only current process. Multiple core use not supported.\n",
      "For Windows, using only current process. Multiple core use not supported.\n",
      "For Windows, using only current process. Multiple core use not supported.\n",
      "For Windows, using only current process. Multiple core use not supported.\n",
      "For Windows, using only current process. Multiple core use not supported.\n",
      "For Windows, using only current process. Multiple core use not supported.\n"
     ]
    },
    {
     "name": "stdout",
     "output_type": "stream",
     "text": [
      "P_BFGS-EfficientSU2 - Depth 2: Average relative error = 0.05569398707901881\n"
     ]
    },
    {
     "name": "stderr",
     "output_type": "stream",
     "text": [
      "For Windows, using only current process. Multiple core use not supported.\n",
      "For Windows, using only current process. Multiple core use not supported.\n",
      "For Windows, using only current process. Multiple core use not supported.\n",
      "For Windows, using only current process. Multiple core use not supported.\n",
      "For Windows, using only current process. Multiple core use not supported.\n",
      "For Windows, using only current process. Multiple core use not supported.\n",
      "For Windows, using only current process. Multiple core use not supported.\n",
      "For Windows, using only current process. Multiple core use not supported.\n",
      "For Windows, using only current process. Multiple core use not supported.\n",
      "For Windows, using only current process. Multiple core use not supported.\n"
     ]
    },
    {
     "name": "stdout",
     "output_type": "stream",
     "text": [
      "P_BFGS-EfficientSU2 - Depth 3: Average relative error = 0.027737212611540392\n"
     ]
    },
    {
     "name": "stderr",
     "output_type": "stream",
     "text": [
      "For Windows, using only current process. Multiple core use not supported.\n",
      "For Windows, using only current process. Multiple core use not supported.\n",
      "For Windows, using only current process. Multiple core use not supported.\n",
      "For Windows, using only current process. Multiple core use not supported.\n",
      "For Windows, using only current process. Multiple core use not supported.\n",
      "For Windows, using only current process. Multiple core use not supported.\n",
      "For Windows, using only current process. Multiple core use not supported.\n",
      "For Windows, using only current process. Multiple core use not supported.\n",
      "For Windows, using only current process. Multiple core use not supported.\n",
      "For Windows, using only current process. Multiple core use not supported.\n"
     ]
    },
    {
     "name": "stdout",
     "output_type": "stream",
     "text": [
      "P_BFGS-EfficientSU2 - Depth 4: Average relative error = 0.24789953757558117\n"
     ]
    },
    {
     "name": "stderr",
     "output_type": "stream",
     "text": [
      "For Windows, using only current process. Multiple core use not supported.\n",
      "For Windows, using only current process. Multiple core use not supported.\n",
      "For Windows, using only current process. Multiple core use not supported.\n",
      "For Windows, using only current process. Multiple core use not supported.\n",
      "For Windows, using only current process. Multiple core use not supported.\n",
      "For Windows, using only current process. Multiple core use not supported.\n",
      "For Windows, using only current process. Multiple core use not supported.\n",
      "For Windows, using only current process. Multiple core use not supported.\n",
      "For Windows, using only current process. Multiple core use not supported.\n",
      "For Windows, using only current process. Multiple core use not supported.\n"
     ]
    },
    {
     "name": "stdout",
     "output_type": "stream",
     "text": [
      "P_BFGS-EfficientSU2 - Depth 5: Average relative error = 0.6047195277411983\n"
     ]
    },
    {
     "name": "stderr",
     "output_type": "stream",
     "text": [
      "For Windows, using only current process. Multiple core use not supported.\n",
      "For Windows, using only current process. Multiple core use not supported.\n",
      "For Windows, using only current process. Multiple core use not supported.\n",
      "For Windows, using only current process. Multiple core use not supported.\n",
      "For Windows, using only current process. Multiple core use not supported.\n",
      "For Windows, using only current process. Multiple core use not supported.\n",
      "For Windows, using only current process. Multiple core use not supported.\n",
      "For Windows, using only current process. Multiple core use not supported.\n",
      "For Windows, using only current process. Multiple core use not supported.\n"
     ]
    },
    {
     "name": "stdout",
     "output_type": "stream",
     "text": [
      "P_BFGS-EfficientSU2 - Depth 6: Average relative error = 8.835470724090545e-07\n",
      "Optimal depth 6 for P_BFGS-EfficientSU2 achieved lowest relative error = 1.410191432154513e-07\n",
      "Run number with lowest relative error: 3\n",
      "Relative error at optimal run for P_BFGS-EfficientSU2: 1.410191432154513e-07\n",
      "Resource estimates for P_BFGS-EfficientSU2: Gate count = 39, Circuit depth = 25, Function calls = 2684\n"
     ]
    }
   ],
   "source": [
    "## Get the optimizers\n",
    "maxiter = 5000\n",
    "optimizers = [SLSQP(maxiter = maxiter), P_BFGS(maxfun = maxiter)]\n",
    "\n",
    "# Define parameters\n",
    "dimension = matrix.shape[0]\n",
    "num_qubits = int(np.log2(dimension))\n",
    "target_error_threshold = 0.01\n",
    "\n",
    "# Estimate min. ansatz depths\n",
    "min_depths_N_8, errors_N_8, resources_N_8 = estimate_resources(matrix, zeromode, optimizers, num_qubits, target_error_threshold, \\\n",
    "                                                               classical_expectation, nmax, L)"
   ]
  },
  {
   "cell_type": "markdown",
   "id": "81d004c5-a121-437f-80f7-d0309eb1dca0",
   "metadata": {},
   "source": [
    "### Print resource estimates"
   ]
  },
  {
   "cell_type": "code",
   "execution_count": 79,
   "id": "6261e8dc-ac29-4e75-82c4-c2be49664e44",
   "metadata": {},
   "outputs": [
    {
     "name": "stdout",
     "output_type": "stream",
     "text": [
      "The min. ansatz depth results are:\n",
      "{'SLSQP-RealAmplitudes': 2, 'SLSQP-TwoLocal': 2, 'SLSQP-EfficientSU2': 4, 'P_BFGS-RealAmplitudes': 4, 'P_BFGS-TwoLocal': 2, 'P_BFGS-EfficientSU2': 6}\n",
      "\n",
      "The relative errors are:\n",
      "{'SLSQP-RealAmplitudes': 2.404972472478609e-06, 'SLSQP-TwoLocal': 8.084603690787865e-05, 'SLSQP-EfficientSU2': 1.4669562483966657e-06, 'P_BFGS-RealAmplitudes': 2.8526900864602765e-07, 'P_BFGS-TwoLocal': 2.411690472012576e-06, 'P_BFGS-EfficientSU2': 1.410191432154513e-07}\n",
      "\n",
      "The resources required are:\n",
      "{'SLSQP-RealAmplitudes': {'gate_count': 15, 'circuit_depth': 9, 'function_calls': 422}, 'SLSQP-TwoLocal': {'gate_count': 15, 'circuit_depth': 9, 'function_calls': 643}, 'SLSQP-EfficientSU2': {'gate_count': 27, 'circuit_depth': 17, 'function_calls': 793}, 'P_BFGS-RealAmplitudes': {'gate_count': 27, 'circuit_depth': 17, 'function_calls': 2864}, 'P_BFGS-TwoLocal': {'gate_count': 15, 'circuit_depth': 9, 'function_calls': 1200}, 'P_BFGS-EfficientSU2': {'gate_count': 39, 'circuit_depth': 25, 'function_calls': 2684}}\n",
      "\n"
     ]
    }
   ],
   "source": [
    "## Print the min. ansatz depth results\n",
    "print('The min. ansatz depth results are:')\n",
    "print(min_depths_N_8)\n",
    "print()\n",
    "\n",
    "## Print the relative errors\n",
    "print('The relative errors are:')\n",
    "print(errors_N_8)\n",
    "print()\n",
    "\n",
    "## Print the resource estimates\n",
    "print('The resources required are:')\n",
    "print(resources_N_8)\n",
    "print()"
   ]
  },
  {
   "cell_type": "markdown",
   "id": "4ac21aaf-2349-47b4-b4fc-3a4272d74dca",
   "metadata": {},
   "source": [
    "### For a = -1, b = 2 (N = 16)\n",
    "\n",
    "### Get the matrix and the zeromode"
   ]
  },
  {
   "cell_type": "code",
   "execution_count": 28,
   "id": "a5b2397e-fd11-4844-8b97-6f64a89f9b27",
   "metadata": {},
   "outputs": [
    {
     "name": "stdout",
     "output_type": "stream",
     "text": [
      "The matrix is:\n",
      "[[ 1.73906250e+01 -4.14983292e+01  4.16413256e+01 -2.51557647e+00\n",
      "  -3.13747510e+00  0.00000000e+00  0.00000000e+00  0.00000000e+00\n",
      "   0.00000000e+00  0.00000000e+00  0.00000000e+00  0.00000000e+00\n",
      "   0.00000000e+00  0.00000000e+00  0.00000000e+00  0.00000000e+00]\n",
      " [-4.14983292e+01  1.38140625e+02 -2.04490248e+02  1.54161036e+02\n",
      "  -3.10594189e+01 -2.10468228e+01  0.00000000e+00  0.00000000e+00\n",
      "   0.00000000e+00  0.00000000e+00  0.00000000e+00  0.00000000e+00\n",
      "   0.00000000e+00  0.00000000e+00  0.00000000e+00  0.00000000e+00]\n",
      " [ 4.16413256e+01 -2.04490248e+02  4.13640625e+02 -4.62654398e+02\n",
      "   2.97161572e+02 -1.33665277e+02 -6.98044143e+01  0.00000000e+00\n",
      "   0.00000000e+00  0.00000000e+00  0.00000000e+00  0.00000000e+00\n",
      "   0.00000000e+00  0.00000000e+00  0.00000000e+00  0.00000000e+00]\n",
      " [-2.51557647e+00  1.54161036e+02 -4.62654398e+02  9.24890625e+02\n",
      "  -7.68209032e+02  4.17083625e+02 -3.82334523e+02 -1.71932490e+02\n",
      "   0.00000000e+00  0.00000000e+00  0.00000000e+00  0.00000000e+00\n",
      "   0.00000000e+00  0.00000000e+00  0.00000000e+00  0.00000000e+00]\n",
      " [-3.13747510e+00 -3.10594189e+01  2.97161572e+02 -7.68209032e+02\n",
      "   1.81289062e+03 -1.04918443e+03  4.35981651e+02 -8.73066927e+02\n",
      "  -3.55934070e+02  0.00000000e+00  0.00000000e+00  0.00000000e+00\n",
      "   0.00000000e+00  0.00000000e+00  0.00000000e+00  0.00000000e+00]\n",
      " [ 0.00000000e+00 -2.10468228e+01 -1.33665277e+02  4.17083625e+02\n",
      "  -1.04918443e+03  3.27864062e+03 -1.20958947e+03  2.51869758e+02\n",
      "  -1.72586228e+03 -6.56309997e+02  0.00000000e+00  0.00000000e+00\n",
      "   0.00000000e+00  0.00000000e+00  0.00000000e+00  0.00000000e+00]\n",
      " [ 0.00000000e+00  0.00000000e+00 -6.98044143e+01 -3.82334523e+02\n",
      "   4.35981651e+02 -1.20958947e+03  5.58314062e+03 -1.12942769e+03\n",
      "  -2.61247010e+02 -3.08472046e+03 -1.11356059e+03  0.00000000e+00\n",
      "   0.00000000e+00  0.00000000e+00  0.00000000e+00  0.00000000e+00]\n",
      " [ 0.00000000e+00  0.00000000e+00  0.00000000e+00 -1.71932490e+02\n",
      "  -8.73066927e+02  2.51869758e+02 -1.12942769e+03  9.04739062e+03\n",
      "  -6.64700767e+02 -1.25336647e+03 -5.11764136e+03 -1.77418599e+03\n",
      "   0.00000000e+00  0.00000000e+00  0.00000000e+00  0.00000000e+00]\n",
      " [ 0.00000000e+00  0.00000000e+00  0.00000000e+00  0.00000000e+00\n",
      "  -3.55934070e+02 -1.72586228e+03 -2.61247010e+02 -6.64700767e+02\n",
      "   1.40523906e+04  3.52590372e+02 -2.89848754e+03 -8.01662494e+03\n",
      "  -2.69068628e+03  0.00000000e+00  0.00000000e+00  0.00000000e+00]\n",
      " [ 0.00000000e+00  0.00000000e+00  0.00000000e+00  0.00000000e+00\n",
      "   0.00000000e+00 -6.56309997e+02 -3.08472046e+03 -1.25336647e+03\n",
      "   3.52590372e+02  2.10391406e+04  2.11444520e+03 -5.39460964e+03\n",
      "  -1.19976711e+04 -3.92156149e+03  0.00000000e+00  0.00000000e+00]\n",
      " [ 0.00000000e+00  0.00000000e+00  0.00000000e+00  0.00000000e+00\n",
      "   0.00000000e+00  0.00000000e+00 -1.11356059e+03 -5.11764136e+03\n",
      "  -2.89848754e+03  2.11444520e+03  3.05086406e+04  4.83686338e+03\n",
      "  -8.96373243e+03 -1.73007799e+04 -5.53131165e+03  0.00000000e+00]\n",
      " [ 0.00000000e+00  0.00000000e+00  0.00000000e+00  0.00000000e+00\n",
      "   0.00000000e+00  0.00000000e+00  0.00000000e+00 -1.77418599e+03\n",
      "  -8.01662494e+03 -5.39460964e+03  4.83686338e+03  4.30218906e+04\n",
      "   8.75984469e+03 -1.38518557e+04 -2.41899513e+04 -7.59043678e+03]\n",
      " [ 0.00000000e+00  0.00000000e+00  0.00000000e+00  0.00000000e+00\n",
      "   0.00000000e+00  0.00000000e+00  0.00000000e+00  0.00000000e+00\n",
      "  -2.69068628e+03 -1.19976711e+04 -8.96373243e+03  8.75984469e+03\n",
      "   5.91998906e+04  1.41473890e+04 -2.03289793e+04 -3.29531853e+04]\n",
      " [ 0.00000000e+00  0.00000000e+00  0.00000000e+00  0.00000000e+00\n",
      "   0.00000000e+00  0.00000000e+00  0.00000000e+00  0.00000000e+00\n",
      "   0.00000000e+00 -3.92156149e+03 -1.73007799e+04 -1.38518557e+04\n",
      "   1.41473890e+04  7.97236406e+04  2.12874962e+04 -2.86891032e+04]\n",
      " [ 0.00000000e+00  0.00000000e+00  0.00000000e+00  0.00000000e+00\n",
      "   0.00000000e+00  0.00000000e+00  0.00000000e+00  0.00000000e+00\n",
      "   0.00000000e+00  0.00000000e+00 -5.53131165e+03 -2.41899513e+04\n",
      "  -2.03289793e+04  2.12874962e+04  9.18491406e+04  1.22047934e+04]\n",
      " [ 0.00000000e+00  0.00000000e+00  0.00000000e+00  0.00000000e+00\n",
      "   0.00000000e+00  0.00000000e+00  0.00000000e+00  0.00000000e+00\n",
      "   0.00000000e+00  0.00000000e+00  0.00000000e+00 -7.59043678e+03\n",
      "  -3.29531853e+04 -2.86891032e+04  1.22047934e+04  9.46413906e+04]]\n",
      "\n",
      "The zeromode is:\n",
      "[[-8.33616331e-01]\n",
      " [-5.24079477e-01]\n",
      " [-1.70843806e-01]\n",
      " [ 2.27832468e-02]\n",
      " [ 2.54474498e-02]\n",
      " [-6.89803130e-03]\n",
      " [-3.84535264e-03]\n",
      " [ 2.68846391e-03]\n",
      " [-8.54577580e-05]\n",
      " [-7.17181087e-04]\n",
      " [ 3.43309489e-04]\n",
      " [-3.67605103e-06]\n",
      " [-1.31700668e-04]\n",
      " [ 5.77041261e-05]\n",
      " [-1.93397937e-05]\n",
      " [-2.61655236e-05]]\n",
      "\n"
     ]
    },
    {
     "name": "stderr",
     "output_type": "stream",
     "text": [
      "C:\\Users\\Owner\\AppData\\Local\\Temp\\ipykernel_47076\\795971042.py:108: DeprecationWarning: Conversion of an array with ndim > 0 to a scalar is deprecated, and will error in future. Ensure you extract a single element from your array before performing this operation. (Deprecated NumPy 1.25.)\n",
      "  eigenvector[2*i] = eigenvector_old[i]\n"
     ]
    },
    {
     "name": "stdout",
     "output_type": "stream",
     "text": [
      "The value of <x^2> is:\n",
      "0.6471064574160962\n",
      "\n"
     ]
    }
   ],
   "source": [
    "## Get the matrix and zeromode\n",
    "nmax = 31\n",
    "a = -1\n",
    "gamma = 1\n",
    "dx = 0.01\n",
    "c = 2\n",
    "L = 1/2\n",
    "x = np.linspace(-4, 4, int(8/dx))\n",
    "\n",
    "# Matrix and zeromode\n",
    "matrix, zeromode = get_zeromode(nmax, a, c, L, gamma)\n",
    "\n",
    "## Print the matrix and zeromode\n",
    "print('The matrix is:')\n",
    "print(matrix)\n",
    "print()\n",
    "\n",
    "# Print the zeromode\n",
    "print('The zeromode is:')\n",
    "print(zeromode)\n",
    "print()\n",
    "\n",
    "## Compute the classical <x^2> value\n",
    "x, y = get_pdf(nmax, x, dx, L, shift = 0, zeromode_qpe = zeromode, normalize = True, make_even = True)\n",
    "classical_expectation = compute_expectation_x_squared_simpson(x, y, 2)\n",
    "\n",
    "# Print the classical expectation value\n",
    "print('The value of <x^2> is:')\n",
    "print(classical_expectation)\n",
    "print()"
   ]
  },
  {
   "cell_type": "markdown",
   "id": "7449c1d1-d9af-491e-9703-b7a0616697fd",
   "metadata": {},
   "source": [
    "### Estimating resource requirements (fix at 5000 optimization iterations)"
   ]
  },
  {
   "cell_type": "code",
   "execution_count": 31,
   "id": "7750ce2c-6298-43f0-b328-566ba11f9c85",
   "metadata": {},
   "outputs": [
    {
     "name": "stdout",
     "output_type": "stream",
     "text": [
      "\n",
      "Running VQE for optimizer-ansatz pair: SLSQP-RealAmplitudes\n"
     ]
    },
    {
     "name": "stderr",
     "output_type": "stream",
     "text": [
      "C:\\Users\\Owner\\AppData\\Local\\Temp\\ipykernel_47076\\795971042.py:108: DeprecationWarning: Conversion of an array with ndim > 0 to a scalar is deprecated, and will error in future. Ensure you extract a single element from your array before performing this operation. (Deprecated NumPy 1.25.)\n",
      "  eigenvector[2*i] = eigenvector_old[i]\n"
     ]
    },
    {
     "name": "stdout",
     "output_type": "stream",
     "text": [
      "SLSQP-RealAmplitudes - Depth 1: Average relative error = 0.11682480885921372\n",
      "SLSQP-RealAmplitudes - Depth 2: Average relative error = 0.0516398448802874\n",
      "SLSQP-RealAmplitudes - Depth 3: Average relative error = 0.24773510679199048\n",
      "SLSQP-RealAmplitudes - Depth 4: Average relative error = 0.0549747329322243\n",
      "SLSQP-RealAmplitudes - Depth 5: Average relative error = 0.002526710905965401\n",
      "Optimal depth 5 for SLSQP-RealAmplitudes achieved lowest relative error = 1.2841541244993534e-05\n",
      "Run number with lowest relative error: 6\n",
      "Relative error at optimal run for SLSQP-RealAmplitudes: 1.2841541244993534e-05\n",
      "Resource estimates for SLSQP-RealAmplitudes: Gate count = 54, Circuit depth = 27, Function calls = 1248\n",
      "\n",
      "Running VQE for optimizer-ansatz pair: SLSQP-TwoLocal\n",
      "SLSQP-TwoLocal - Depth 1: Average relative error = 0.09056961375837055\n",
      "SLSQP-TwoLocal - Depth 2: Average relative error = 0.022893532856594692\n",
      "SLSQP-TwoLocal - Depth 3: Average relative error = 0.007017152441387608\n",
      "Optimal depth 3 for SLSQP-TwoLocal achieved lowest relative error = 0.0024836094545450543\n",
      "Run number with lowest relative error: 7\n",
      "Relative error at optimal run for SLSQP-TwoLocal: 0.0024836094545450543\n",
      "Resource estimates for SLSQP-TwoLocal: Gate count = 34, Circuit depth = 17, Function calls = 1317\n",
      "\n",
      "Running VQE for optimizer-ansatz pair: SLSQP-EfficientSU2\n",
      "SLSQP-EfficientSU2 - Depth 1: Average relative error = 2.5438393106806787\n",
      "SLSQP-EfficientSU2 - Depth 2: Average relative error = 0.29714511853741443\n",
      "SLSQP-EfficientSU2 - Depth 3: Average relative error = 0.36598369516873946\n"
     ]
    },
    {
     "name": "stderr",
     "output_type": "stream",
     "text": [
      "For Windows, using only current process. Multiple core use not supported.\n"
     ]
    },
    {
     "name": "stdout",
     "output_type": "stream",
     "text": [
      "SLSQP-EfficientSU2 - Depth 4: Average relative error = 0.0016695536998567722\n",
      "Optimal depth 4 for SLSQP-EfficientSU2 achieved lowest relative error = 6.414381781907047e-05\n",
      "Run number with lowest relative error: 10\n",
      "Relative error at optimal run for SLSQP-EfficientSU2: 6.414381781907047e-05\n",
      "Resource estimates for SLSQP-EfficientSU2: Gate count = 36, Circuit depth = 21, Function calls = 1919\n",
      "\n",
      "Running VQE for optimizer-ansatz pair: P_BFGS-RealAmplitudes\n"
     ]
    },
    {
     "name": "stderr",
     "output_type": "stream",
     "text": [
      "For Windows, using only current process. Multiple core use not supported.\n",
      "For Windows, using only current process. Multiple core use not supported.\n",
      "For Windows, using only current process. Multiple core use not supported.\n",
      "For Windows, using only current process. Multiple core use not supported.\n",
      "For Windows, using only current process. Multiple core use not supported.\n",
      "For Windows, using only current process. Multiple core use not supported.\n",
      "For Windows, using only current process. Multiple core use not supported.\n",
      "For Windows, using only current process. Multiple core use not supported.\n",
      "For Windows, using only current process. Multiple core use not supported.\n",
      "For Windows, using only current process. Multiple core use not supported.\n"
     ]
    },
    {
     "name": "stdout",
     "output_type": "stream",
     "text": [
      "P_BFGS-RealAmplitudes - Depth 1: Average relative error = 0.1263481512850815\n"
     ]
    },
    {
     "name": "stderr",
     "output_type": "stream",
     "text": [
      "For Windows, using only current process. Multiple core use not supported.\n",
      "For Windows, using only current process. Multiple core use not supported.\n",
      "For Windows, using only current process. Multiple core use not supported.\n",
      "For Windows, using only current process. Multiple core use not supported.\n",
      "For Windows, using only current process. Multiple core use not supported.\n",
      "For Windows, using only current process. Multiple core use not supported.\n",
      "For Windows, using only current process. Multiple core use not supported.\n",
      "For Windows, using only current process. Multiple core use not supported.\n",
      "For Windows, using only current process. Multiple core use not supported.\n",
      "For Windows, using only current process. Multiple core use not supported.\n"
     ]
    },
    {
     "name": "stdout",
     "output_type": "stream",
     "text": [
      "P_BFGS-RealAmplitudes - Depth 2: Average relative error = 0.05240150882918515\n"
     ]
    },
    {
     "name": "stderr",
     "output_type": "stream",
     "text": [
      "For Windows, using only current process. Multiple core use not supported.\n",
      "For Windows, using only current process. Multiple core use not supported.\n",
      "For Windows, using only current process. Multiple core use not supported.\n",
      "For Windows, using only current process. Multiple core use not supported.\n",
      "For Windows, using only current process. Multiple core use not supported.\n",
      "For Windows, using only current process. Multiple core use not supported.\n",
      "For Windows, using only current process. Multiple core use not supported.\n",
      "For Windows, using only current process. Multiple core use not supported.\n",
      "For Windows, using only current process. Multiple core use not supported.\n",
      "For Windows, using only current process. Multiple core use not supported.\n"
     ]
    },
    {
     "name": "stdout",
     "output_type": "stream",
     "text": [
      "P_BFGS-RealAmplitudes - Depth 3: Average relative error = 0.24010732889738984\n"
     ]
    },
    {
     "name": "stderr",
     "output_type": "stream",
     "text": [
      "For Windows, using only current process. Multiple core use not supported.\n",
      "For Windows, using only current process. Multiple core use not supported.\n",
      "For Windows, using only current process. Multiple core use not supported.\n",
      "For Windows, using only current process. Multiple core use not supported.\n",
      "For Windows, using only current process. Multiple core use not supported.\n",
      "For Windows, using only current process. Multiple core use not supported.\n",
      "For Windows, using only current process. Multiple core use not supported.\n",
      "For Windows, using only current process. Multiple core use not supported.\n",
      "For Windows, using only current process. Multiple core use not supported.\n",
      "For Windows, using only current process. Multiple core use not supported.\n"
     ]
    },
    {
     "name": "stdout",
     "output_type": "stream",
     "text": [
      "P_BFGS-RealAmplitudes - Depth 4: Average relative error = 0.31898724906253545\n"
     ]
    },
    {
     "name": "stderr",
     "output_type": "stream",
     "text": [
      "For Windows, using only current process. Multiple core use not supported.\n",
      "For Windows, using only current process. Multiple core use not supported.\n",
      "For Windows, using only current process. Multiple core use not supported.\n",
      "For Windows, using only current process. Multiple core use not supported.\n",
      "For Windows, using only current process. Multiple core use not supported.\n",
      "For Windows, using only current process. Multiple core use not supported.\n",
      "For Windows, using only current process. Multiple core use not supported.\n",
      "For Windows, using only current process. Multiple core use not supported.\n",
      "For Windows, using only current process. Multiple core use not supported.\n",
      "For Windows, using only current process. Multiple core use not supported.\n"
     ]
    },
    {
     "name": "stdout",
     "output_type": "stream",
     "text": [
      "P_BFGS-RealAmplitudes - Depth 5: Average relative error = 0.750775047316344\n"
     ]
    },
    {
     "name": "stderr",
     "output_type": "stream",
     "text": [
      "For Windows, using only current process. Multiple core use not supported.\n",
      "For Windows, using only current process. Multiple core use not supported.\n",
      "For Windows, using only current process. Multiple core use not supported.\n",
      "For Windows, using only current process. Multiple core use not supported.\n",
      "For Windows, using only current process. Multiple core use not supported.\n",
      "For Windows, using only current process. Multiple core use not supported.\n",
      "For Windows, using only current process. Multiple core use not supported.\n",
      "For Windows, using only current process. Multiple core use not supported.\n",
      "For Windows, using only current process. Multiple core use not supported.\n",
      "For Windows, using only current process. Multiple core use not supported.\n"
     ]
    },
    {
     "name": "stdout",
     "output_type": "stream",
     "text": [
      "P_BFGS-RealAmplitudes - Depth 6: Average relative error = 0.3911627326054868\n"
     ]
    },
    {
     "name": "stderr",
     "output_type": "stream",
     "text": [
      "For Windows, using only current process. Multiple core use not supported.\n",
      "For Windows, using only current process. Multiple core use not supported.\n",
      "For Windows, using only current process. Multiple core use not supported.\n",
      "For Windows, using only current process. Multiple core use not supported.\n",
      "For Windows, using only current process. Multiple core use not supported.\n",
      "For Windows, using only current process. Multiple core use not supported.\n",
      "For Windows, using only current process. Multiple core use not supported.\n",
      "For Windows, using only current process. Multiple core use not supported.\n",
      "For Windows, using only current process. Multiple core use not supported.\n",
      "For Windows, using only current process. Multiple core use not supported.\n"
     ]
    },
    {
     "name": "stdout",
     "output_type": "stream",
     "text": [
      "P_BFGS-RealAmplitudes - Depth 7: Average relative error = 0.1651134713110604\n"
     ]
    },
    {
     "name": "stderr",
     "output_type": "stream",
     "text": [
      "For Windows, using only current process. Multiple core use not supported.\n",
      "For Windows, using only current process. Multiple core use not supported.\n",
      "For Windows, using only current process. Multiple core use not supported.\n",
      "For Windows, using only current process. Multiple core use not supported.\n",
      "For Windows, using only current process. Multiple core use not supported.\n",
      "For Windows, using only current process. Multiple core use not supported.\n",
      "For Windows, using only current process. Multiple core use not supported.\n",
      "For Windows, using only current process. Multiple core use not supported.\n",
      "For Windows, using only current process. Multiple core use not supported.\n",
      "For Windows, using only current process. Multiple core use not supported.\n"
     ]
    },
    {
     "name": "stdout",
     "output_type": "stream",
     "text": [
      "P_BFGS-RealAmplitudes - Depth 8: Average relative error = 0.05262000789560919\n"
     ]
    },
    {
     "name": "stderr",
     "output_type": "stream",
     "text": [
      "For Windows, using only current process. Multiple core use not supported.\n",
      "For Windows, using only current process. Multiple core use not supported.\n",
      "For Windows, using only current process. Multiple core use not supported.\n",
      "For Windows, using only current process. Multiple core use not supported.\n",
      "For Windows, using only current process. Multiple core use not supported.\n",
      "For Windows, using only current process. Multiple core use not supported.\n",
      "For Windows, using only current process. Multiple core use not supported.\n",
      "For Windows, using only current process. Multiple core use not supported.\n",
      "For Windows, using only current process. Multiple core use not supported.\n",
      "For Windows, using only current process. Multiple core use not supported.\n"
     ]
    },
    {
     "name": "stdout",
     "output_type": "stream",
     "text": [
      "P_BFGS-RealAmplitudes - Depth 9: Average relative error = 0.012172002751297876\n"
     ]
    },
    {
     "name": "stderr",
     "output_type": "stream",
     "text": [
      "For Windows, using only current process. Multiple core use not supported.\n",
      "For Windows, using only current process. Multiple core use not supported.\n",
      "For Windows, using only current process. Multiple core use not supported.\n",
      "For Windows, using only current process. Multiple core use not supported.\n",
      "For Windows, using only current process. Multiple core use not supported.\n",
      "For Windows, using only current process. Multiple core use not supported.\n",
      "For Windows, using only current process. Multiple core use not supported.\n",
      "For Windows, using only current process. Multiple core use not supported.\n",
      "For Windows, using only current process. Multiple core use not supported.\n",
      "For Windows, using only current process. Multiple core use not supported.\n"
     ]
    },
    {
     "name": "stdout",
     "output_type": "stream",
     "text": [
      "P_BFGS-RealAmplitudes - Depth 10: Average relative error = 0.037847149718828126\n",
      "P_BFGS-RealAmplitudes did not converge within 10 depths.\n",
      "\n",
      "Running VQE for optimizer-ansatz pair: P_BFGS-TwoLocal\n"
     ]
    },
    {
     "name": "stderr",
     "output_type": "stream",
     "text": [
      "For Windows, using only current process. Multiple core use not supported.\n",
      "For Windows, using only current process. Multiple core use not supported.\n",
      "For Windows, using only current process. Multiple core use not supported.\n",
      "For Windows, using only current process. Multiple core use not supported.\n",
      "For Windows, using only current process. Multiple core use not supported.\n",
      "For Windows, using only current process. Multiple core use not supported.\n",
      "For Windows, using only current process. Multiple core use not supported.\n",
      "For Windows, using only current process. Multiple core use not supported.\n",
      "For Windows, using only current process. Multiple core use not supported.\n",
      "For Windows, using only current process. Multiple core use not supported.\n"
     ]
    },
    {
     "name": "stdout",
     "output_type": "stream",
     "text": [
      "P_BFGS-TwoLocal - Depth 1: Average relative error = 0.08913870471544251\n"
     ]
    },
    {
     "name": "stderr",
     "output_type": "stream",
     "text": [
      "For Windows, using only current process. Multiple core use not supported.\n",
      "For Windows, using only current process. Multiple core use not supported.\n",
      "For Windows, using only current process. Multiple core use not supported.\n",
      "For Windows, using only current process. Multiple core use not supported.\n",
      "For Windows, using only current process. Multiple core use not supported.\n",
      "For Windows, using only current process. Multiple core use not supported.\n",
      "For Windows, using only current process. Multiple core use not supported.\n",
      "For Windows, using only current process. Multiple core use not supported.\n",
      "For Windows, using only current process. Multiple core use not supported.\n",
      "For Windows, using only current process. Multiple core use not supported.\n"
     ]
    },
    {
     "name": "stdout",
     "output_type": "stream",
     "text": [
      "P_BFGS-TwoLocal - Depth 2: Average relative error = 0.003015089578285955\n",
      "Optimal depth 2 for P_BFGS-TwoLocal achieved lowest relative error = 0.00012289495854951593\n",
      "Run number with lowest relative error: 4\n",
      "Relative error at optimal run for P_BFGS-TwoLocal: 0.00012289495854951593\n",
      "Resource estimates for P_BFGS-TwoLocal: Gate count = 24, Circuit depth = 12, Function calls = 4121\n",
      "\n",
      "Running VQE for optimizer-ansatz pair: P_BFGS-EfficientSU2\n"
     ]
    },
    {
     "name": "stderr",
     "output_type": "stream",
     "text": [
      "For Windows, using only current process. Multiple core use not supported.\n",
      "For Windows, using only current process. Multiple core use not supported.\n",
      "For Windows, using only current process. Multiple core use not supported.\n",
      "For Windows, using only current process. Multiple core use not supported.\n",
      "For Windows, using only current process. Multiple core use not supported.\n",
      "For Windows, using only current process. Multiple core use not supported.\n",
      "For Windows, using only current process. Multiple core use not supported.\n",
      "For Windows, using only current process. Multiple core use not supported.\n",
      "For Windows, using only current process. Multiple core use not supported.\n",
      "For Windows, using only current process. Multiple core use not supported.\n"
     ]
    },
    {
     "name": "stdout",
     "output_type": "stream",
     "text": [
      "P_BFGS-EfficientSU2 - Depth 1: Average relative error = 2.1278451415853223\n"
     ]
    },
    {
     "name": "stderr",
     "output_type": "stream",
     "text": [
      "For Windows, using only current process. Multiple core use not supported.\n",
      "For Windows, using only current process. Multiple core use not supported.\n",
      "For Windows, using only current process. Multiple core use not supported.\n",
      "For Windows, using only current process. Multiple core use not supported.\n",
      "For Windows, using only current process. Multiple core use not supported.\n",
      "For Windows, using only current process. Multiple core use not supported.\n",
      "For Windows, using only current process. Multiple core use not supported.\n",
      "For Windows, using only current process. Multiple core use not supported.\n",
      "For Windows, using only current process. Multiple core use not supported.\n",
      "For Windows, using only current process. Multiple core use not supported.\n"
     ]
    },
    {
     "name": "stdout",
     "output_type": "stream",
     "text": [
      "P_BFGS-EfficientSU2 - Depth 2: Average relative error = 0.6258306733708531\n"
     ]
    },
    {
     "name": "stderr",
     "output_type": "stream",
     "text": [
      "For Windows, using only current process. Multiple core use not supported.\n",
      "For Windows, using only current process. Multiple core use not supported.\n",
      "For Windows, using only current process. Multiple core use not supported.\n",
      "For Windows, using only current process. Multiple core use not supported.\n",
      "For Windows, using only current process. Multiple core use not supported.\n",
      "For Windows, using only current process. Multiple core use not supported.\n",
      "For Windows, using only current process. Multiple core use not supported.\n",
      "For Windows, using only current process. Multiple core use not supported.\n",
      "For Windows, using only current process. Multiple core use not supported.\n",
      "For Windows, using only current process. Multiple core use not supported.\n"
     ]
    },
    {
     "name": "stdout",
     "output_type": "stream",
     "text": [
      "P_BFGS-EfficientSU2 - Depth 3: Average relative error = 0.6956857733688704\n"
     ]
    },
    {
     "name": "stderr",
     "output_type": "stream",
     "text": [
      "For Windows, using only current process. Multiple core use not supported.\n",
      "For Windows, using only current process. Multiple core use not supported.\n",
      "For Windows, using only current process. Multiple core use not supported.\n",
      "For Windows, using only current process. Multiple core use not supported.\n",
      "For Windows, using only current process. Multiple core use not supported.\n",
      "For Windows, using only current process. Multiple core use not supported.\n",
      "For Windows, using only current process. Multiple core use not supported.\n",
      "For Windows, using only current process. Multiple core use not supported.\n",
      "For Windows, using only current process. Multiple core use not supported.\n",
      "For Windows, using only current process. Multiple core use not supported.\n"
     ]
    },
    {
     "name": "stdout",
     "output_type": "stream",
     "text": [
      "P_BFGS-EfficientSU2 - Depth 4: Average relative error = 0.148242130473909\n"
     ]
    },
    {
     "name": "stderr",
     "output_type": "stream",
     "text": [
      "For Windows, using only current process. Multiple core use not supported.\n",
      "For Windows, using only current process. Multiple core use not supported.\n",
      "For Windows, using only current process. Multiple core use not supported.\n",
      "For Windows, using only current process. Multiple core use not supported.\n",
      "For Windows, using only current process. Multiple core use not supported.\n",
      "For Windows, using only current process. Multiple core use not supported.\n",
      "For Windows, using only current process. Multiple core use not supported.\n",
      "For Windows, using only current process. Multiple core use not supported.\n",
      "For Windows, using only current process. Multiple core use not supported.\n",
      "For Windows, using only current process. Multiple core use not supported.\n"
     ]
    },
    {
     "name": "stdout",
     "output_type": "stream",
     "text": [
      "P_BFGS-EfficientSU2 - Depth 5: Average relative error = 0.3357230865817111\n"
     ]
    },
    {
     "name": "stderr",
     "output_type": "stream",
     "text": [
      "For Windows, using only current process. Multiple core use not supported.\n",
      "For Windows, using only current process. Multiple core use not supported.\n",
      "For Windows, using only current process. Multiple core use not supported.\n",
      "For Windows, using only current process. Multiple core use not supported.\n",
      "For Windows, using only current process. Multiple core use not supported.\n",
      "For Windows, using only current process. Multiple core use not supported.\n",
      "For Windows, using only current process. Multiple core use not supported.\n",
      "For Windows, using only current process. Multiple core use not supported.\n",
      "For Windows, using only current process. Multiple core use not supported.\n",
      "For Windows, using only current process. Multiple core use not supported.\n"
     ]
    },
    {
     "name": "stdout",
     "output_type": "stream",
     "text": [
      "P_BFGS-EfficientSU2 - Depth 6: Average relative error = 0.10476012132361237\n"
     ]
    },
    {
     "name": "stderr",
     "output_type": "stream",
     "text": [
      "For Windows, using only current process. Multiple core use not supported.\n",
      "For Windows, using only current process. Multiple core use not supported.\n",
      "For Windows, using only current process. Multiple core use not supported.\n",
      "For Windows, using only current process. Multiple core use not supported.\n",
      "For Windows, using only current process. Multiple core use not supported.\n",
      "For Windows, using only current process. Multiple core use not supported.\n",
      "For Windows, using only current process. Multiple core use not supported.\n",
      "For Windows, using only current process. Multiple core use not supported.\n",
      "For Windows, using only current process. Multiple core use not supported.\n",
      "For Windows, using only current process. Multiple core use not supported.\n"
     ]
    },
    {
     "name": "stdout",
     "output_type": "stream",
     "text": [
      "P_BFGS-EfficientSU2 - Depth 7: Average relative error = 0.6634214078595526\n"
     ]
    },
    {
     "name": "stderr",
     "output_type": "stream",
     "text": [
      "For Windows, using only current process. Multiple core use not supported.\n",
      "For Windows, using only current process. Multiple core use not supported.\n",
      "For Windows, using only current process. Multiple core use not supported.\n",
      "For Windows, using only current process. Multiple core use not supported.\n",
      "For Windows, using only current process. Multiple core use not supported.\n",
      "For Windows, using only current process. Multiple core use not supported.\n",
      "For Windows, using only current process. Multiple core use not supported.\n",
      "For Windows, using only current process. Multiple core use not supported.\n",
      "For Windows, using only current process. Multiple core use not supported.\n",
      "For Windows, using only current process. Multiple core use not supported.\n"
     ]
    },
    {
     "name": "stdout",
     "output_type": "stream",
     "text": [
      "P_BFGS-EfficientSU2 - Depth 8: Average relative error = 1.336612660284348\n"
     ]
    },
    {
     "name": "stderr",
     "output_type": "stream",
     "text": [
      "For Windows, using only current process. Multiple core use not supported.\n",
      "For Windows, using only current process. Multiple core use not supported.\n",
      "For Windows, using only current process. Multiple core use not supported.\n",
      "For Windows, using only current process. Multiple core use not supported.\n",
      "For Windows, using only current process. Multiple core use not supported.\n",
      "For Windows, using only current process. Multiple core use not supported.\n",
      "For Windows, using only current process. Multiple core use not supported.\n",
      "For Windows, using only current process. Multiple core use not supported.\n",
      "For Windows, using only current process. Multiple core use not supported.\n",
      "For Windows, using only current process. Multiple core use not supported.\n"
     ]
    },
    {
     "name": "stdout",
     "output_type": "stream",
     "text": [
      "P_BFGS-EfficientSU2 - Depth 9: Average relative error = 4.584898674644727\n"
     ]
    },
    {
     "name": "stderr",
     "output_type": "stream",
     "text": [
      "For Windows, using only current process. Multiple core use not supported.\n",
      "For Windows, using only current process. Multiple core use not supported.\n",
      "For Windows, using only current process. Multiple core use not supported.\n",
      "For Windows, using only current process. Multiple core use not supported.\n",
      "For Windows, using only current process. Multiple core use not supported.\n",
      "For Windows, using only current process. Multiple core use not supported.\n",
      "For Windows, using only current process. Multiple core use not supported.\n",
      "For Windows, using only current process. Multiple core use not supported.\n",
      "For Windows, using only current process. Multiple core use not supported.\n"
     ]
    },
    {
     "name": "stdout",
     "output_type": "stream",
     "text": [
      "P_BFGS-EfficientSU2 - Depth 10: Average relative error = 0.7018550415775751\n",
      "P_BFGS-EfficientSU2 did not converge within 10 depths.\n"
     ]
    }
   ],
   "source": [
    "## Get the optimizers\n",
    "maxiter = 5000\n",
    "optimizers = [SLSQP(maxiter = maxiter), P_BFGS(maxfun = maxiter)]\n",
    "\n",
    "# Define parameters\n",
    "dimension = matrix.shape[0]\n",
    "num_qubits = int(np.log2(dimension))\n",
    "target_error_threshold = 0.01\n",
    "\n",
    "# Estimate min. ansatz depths\n",
    "min_depths_N_16, errors_N_16, resources_N_16 = estimate_resources(matrix, zeromode, optimizers, num_qubits, target_error_threshold, \\\n",
    "                                                               classical_expectation, nmax, L)"
   ]
  },
  {
   "cell_type": "markdown",
   "id": "b0004cae-7222-451b-a848-6ef96992ea46",
   "metadata": {},
   "source": [
    "### Print the results"
   ]
  },
  {
   "cell_type": "code",
   "execution_count": 34,
   "id": "1aedfccb-257e-4ad8-ba4e-8bc752419e6a",
   "metadata": {},
   "outputs": [
    {
     "name": "stdout",
     "output_type": "stream",
     "text": [
      "The min. ansatz depth results are:\n",
      "{'SLSQP-RealAmplitudes': 5, 'SLSQP-TwoLocal': 3, 'SLSQP-EfficientSU2': 4, 'P_BFGS-RealAmplitudes': 'Did not converge', 'P_BFGS-TwoLocal': 2, 'P_BFGS-EfficientSU2': 'Did not converge'}\n",
      "\n",
      "The relative errors are:\n",
      "{'SLSQP-RealAmplitudes': 1.2841541244993534e-05, 'SLSQP-TwoLocal': 0.0024836094545450543, 'SLSQP-EfficientSU2': 6.414381781907047e-05, 'P_BFGS-RealAmplitudes': 'Did not converge', 'P_BFGS-TwoLocal': 0.00012289495854951593, 'P_BFGS-EfficientSU2': 'Did not converge'}\n",
      "\n",
      "The resources required are:\n",
      "{'SLSQP-RealAmplitudes': {'gate_count': 54, 'circuit_depth': 27, 'function_calls': 1248}, 'SLSQP-TwoLocal': {'gate_count': 34, 'circuit_depth': 17, 'function_calls': 1317}, 'SLSQP-EfficientSU2': {'gate_count': 36, 'circuit_depth': 21, 'function_calls': 1919}, 'P_BFGS-RealAmplitudes': {'gate_count': 'N/A', 'circuit_depth': 'N/A', 'function_calls': 'N/A'}, 'P_BFGS-TwoLocal': {'gate_count': 24, 'circuit_depth': 12, 'function_calls': 4121}, 'P_BFGS-EfficientSU2': {'gate_count': 'N/A', 'circuit_depth': 'N/A', 'function_calls': 'N/A'}}\n",
      "\n"
     ]
    }
   ],
   "source": [
    "## Print the min. ansatz depth results\n",
    "print('The min. ansatz depth results are:')\n",
    "print(min_depths_N_16)\n",
    "print()\n",
    "\n",
    "## Print the relative errors\n",
    "print('The relative errors are:')\n",
    "print(errors_N_16)\n",
    "print()\n",
    "\n",
    "## Print the resource estimates\n",
    "print('The resources required are:')\n",
    "print(resources_N_16)\n",
    "print()"
   ]
  },
  {
   "cell_type": "markdown",
   "id": "6236d630-9e25-4b2b-82cf-6f2fd0ce027d",
   "metadata": {},
   "source": [
    "### For a = 1, b = 0 (N = 2)\n",
    "\n",
    "### Get the matrix and the zeromode"
   ]
  },
  {
   "cell_type": "code",
   "execution_count": 19,
   "id": "a8838327-7671-4370-b84b-448de324b392",
   "metadata": {},
   "outputs": [
    {
     "name": "stdout",
     "output_type": "stream",
     "text": [
      "The matrix is:\n",
      "[[  6.75       -25.45584412]\n",
      " [-25.45584412 102.75      ]]\n",
      "\n",
      "The zeromode is:\n",
      "[[-0.97042573]\n",
      " [-0.24139987]]\n",
      "\n",
      "The value of <x^2> is:\n",
      "0.40008586593679\n",
      "\n"
     ]
    },
    {
     "name": "stderr",
     "output_type": "stream",
     "text": [
      "C:\\Users\\Owner\\AppData\\Local\\Temp\\ipykernel_26868\\795971042.py:108: DeprecationWarning: Conversion of an array with ndim > 0 to a scalar is deprecated, and will error in future. Ensure you extract a single element from your array before performing this operation. (Deprecated NumPy 1.25.)\n",
      "  eigenvector[2*i] = eigenvector_old[i]\n"
     ]
    }
   ],
   "source": [
    "## Get the matrix and zeromode\n",
    "nmax = 3\n",
    "a = 1\n",
    "gamma = 1\n",
    "dx = 0.01\n",
    "c = 0\n",
    "L = 1/2\n",
    "x = np.linspace(-4, 4, int(8/dx))\n",
    "\n",
    "# Matrix and zeromode\n",
    "matrix, zeromode = get_zeromode(nmax, a, c, L, gamma)\n",
    "\n",
    "## Print the matrix and zeromode\n",
    "print('The matrix is:')\n",
    "print(matrix)\n",
    "print()\n",
    "\n",
    "# Print the zeromode\n",
    "print('The zeromode is:')\n",
    "print(zeromode)\n",
    "print()\n",
    "\n",
    "## Compute the classical <x^2> value\n",
    "x, y = get_pdf(nmax, x, dx, L, shift = 0, zeromode_qpe = zeromode, normalize = True, make_even = True)\n",
    "classical_expectation = compute_expectation_x_squared_simpson(x, y, 2)\n",
    "\n",
    "# Print the classical expectation value\n",
    "print('The value of <x^2> is:')\n",
    "print(classical_expectation)\n",
    "print()"
   ]
  },
  {
   "cell_type": "markdown",
   "id": "2927d691-fa97-4b87-8fb9-96d32ace5272",
   "metadata": {},
   "source": [
    "### Estimate resource requirements (fix at 5000 optimization iterations)"
   ]
  },
  {
   "cell_type": "code",
   "execution_count": 22,
   "id": "fab848fe-d2be-4a47-ad33-bb7e2f94dc04",
   "metadata": {},
   "outputs": [
    {
     "name": "stdout",
     "output_type": "stream",
     "text": [
      "\n",
      "Running VQE for optimizer-ansatz pair: SLSQP-RealAmplitudes\n"
     ]
    },
    {
     "name": "stderr",
     "output_type": "stream",
     "text": [
      "C:\\Users\\Owner\\AppData\\Local\\Temp\\ipykernel_26868\\795971042.py:108: DeprecationWarning: Conversion of an array with ndim > 0 to a scalar is deprecated, and will error in future. Ensure you extract a single element from your array before performing this operation. (Deprecated NumPy 1.25.)\n",
      "  eigenvector[2*i] = eigenvector_old[i]\n"
     ]
    },
    {
     "name": "stdout",
     "output_type": "stream",
     "text": [
      "SLSQP-RealAmplitudes - Depth 1: Average relative error = 0.07488136401807644\n",
      "SLSQP-RealAmplitudes - Depth 2: Average relative error = 7.670365683273846e-06\n",
      "Optimal depth 2 for SLSQP-RealAmplitudes achieved lowest relative error = 5.9895000490341794e-09\n",
      "Run number with lowest relative error: 6\n",
      "Relative error at optimal run for SLSQP-RealAmplitudes: 5.9895000490341794e-09\n",
      "Resource estimates for SLSQP-RealAmplitudes: Gate count = 3, Circuit depth = 3, Function calls = 27\n",
      "\n",
      "Running VQE for optimizer-ansatz pair: SLSQP-TwoLocal\n",
      "SLSQP-TwoLocal - Depth 1: Average relative error = 2.1927352946061566e-05\n",
      "Optimal depth 1 for SLSQP-TwoLocal achieved lowest relative error = 7.651001395424214e-09\n",
      "Run number with lowest relative error: 7\n",
      "Relative error at optimal run for SLSQP-TwoLocal: 7.651001395424214e-09\n",
      "Resource estimates for SLSQP-TwoLocal: Gate count = 2, Circuit depth = 2, Function calls = 21\n",
      "\n",
      "Running VQE for optimizer-ansatz pair: SLSQP-EfficientSU2\n",
      "SLSQP-EfficientSU2 - Depth 1: Average relative error = 0.07488136401807644\n"
     ]
    },
    {
     "name": "stderr",
     "output_type": "stream",
     "text": [
      "For Windows, using only current process. Multiple core use not supported.\n",
      "For Windows, using only current process. Multiple core use not supported.\n"
     ]
    },
    {
     "name": "stdout",
     "output_type": "stream",
     "text": [
      "SLSQP-EfficientSU2 - Depth 2: Average relative error = 7.670365683273846e-06\n",
      "Optimal depth 2 for SLSQP-EfficientSU2 achieved lowest relative error = 5.9895000490341794e-09\n",
      "Run number with lowest relative error: 6\n",
      "Relative error at optimal run for SLSQP-EfficientSU2: 5.9895000490341794e-09\n",
      "Resource estimates for SLSQP-EfficientSU2: Gate count = 3, Circuit depth = 3, Function calls = 27\n",
      "\n",
      "Running VQE for optimizer-ansatz pair: P_BFGS-RealAmplitudes\n"
     ]
    },
    {
     "name": "stderr",
     "output_type": "stream",
     "text": [
      "For Windows, using only current process. Multiple core use not supported.\n",
      "For Windows, using only current process. Multiple core use not supported.\n",
      "For Windows, using only current process. Multiple core use not supported.\n",
      "For Windows, using only current process. Multiple core use not supported.\n",
      "For Windows, using only current process. Multiple core use not supported.\n",
      "For Windows, using only current process. Multiple core use not supported.\n",
      "For Windows, using only current process. Multiple core use not supported.\n",
      "For Windows, using only current process. Multiple core use not supported.\n",
      "For Windows, using only current process. Multiple core use not supported.\n",
      "For Windows, using only current process. Multiple core use not supported.\n"
     ]
    },
    {
     "name": "stdout",
     "output_type": "stream",
     "text": [
      "P_BFGS-RealAmplitudes - Depth 1: Average relative error = 0.11230562979079899\n"
     ]
    },
    {
     "name": "stderr",
     "output_type": "stream",
     "text": [
      "For Windows, using only current process. Multiple core use not supported.\n",
      "For Windows, using only current process. Multiple core use not supported.\n",
      "For Windows, using only current process. Multiple core use not supported.\n",
      "For Windows, using only current process. Multiple core use not supported.\n",
      "For Windows, using only current process. Multiple core use not supported.\n",
      "For Windows, using only current process. Multiple core use not supported.\n",
      "For Windows, using only current process. Multiple core use not supported.\n",
      "For Windows, using only current process. Multiple core use not supported.\n",
      "For Windows, using only current process. Multiple core use not supported.\n",
      "For Windows, using only current process. Multiple core use not supported.\n"
     ]
    },
    {
     "name": "stdout",
     "output_type": "stream",
     "text": [
      "P_BFGS-RealAmplitudes - Depth 2: Average relative error = 0.6384718961948734\n"
     ]
    },
    {
     "name": "stderr",
     "output_type": "stream",
     "text": [
      "For Windows, using only current process. Multiple core use not supported.\n",
      "For Windows, using only current process. Multiple core use not supported.\n",
      "For Windows, using only current process. Multiple core use not supported.\n",
      "For Windows, using only current process. Multiple core use not supported.\n",
      "For Windows, using only current process. Multiple core use not supported.\n",
      "For Windows, using only current process. Multiple core use not supported.\n",
      "For Windows, using only current process. Multiple core use not supported.\n",
      "For Windows, using only current process. Multiple core use not supported.\n",
      "For Windows, using only current process. Multiple core use not supported.\n",
      "For Windows, using only current process. Multiple core use not supported.\n"
     ]
    },
    {
     "name": "stdout",
     "output_type": "stream",
     "text": [
      "P_BFGS-RealAmplitudes - Depth 3: Average relative error = 5.202052170277253e-09\n",
      "Optimal depth 3 for P_BFGS-RealAmplitudes achieved lowest relative error = 4.158149946195491e-10\n",
      "Run number with lowest relative error: 2\n",
      "Relative error at optimal run for P_BFGS-RealAmplitudes: 4.158149946195491e-10\n",
      "Resource estimates for P_BFGS-RealAmplitudes: Gate count = 4, Circuit depth = 4, Function calls = 35\n",
      "\n",
      "Running VQE for optimizer-ansatz pair: P_BFGS-TwoLocal\n"
     ]
    },
    {
     "name": "stderr",
     "output_type": "stream",
     "text": [
      "For Windows, using only current process. Multiple core use not supported.\n",
      "For Windows, using only current process. Multiple core use not supported.\n",
      "For Windows, using only current process. Multiple core use not supported.\n",
      "For Windows, using only current process. Multiple core use not supported.\n",
      "For Windows, using only current process. Multiple core use not supported.\n",
      "For Windows, using only current process. Multiple core use not supported.\n",
      "For Windows, using only current process. Multiple core use not supported.\n",
      "For Windows, using only current process. Multiple core use not supported.\n",
      "For Windows, using only current process. Multiple core use not supported.\n",
      "For Windows, using only current process. Multiple core use not supported.\n"
     ]
    },
    {
     "name": "stdout",
     "output_type": "stream",
     "text": [
      "P_BFGS-TwoLocal - Depth 1: Average relative error = 5.757389597873686e-09\n",
      "Optimal depth 1 for P_BFGS-TwoLocal achieved lowest relative error = 8.928951812668842e-10\n",
      "Run number with lowest relative error: 10\n",
      "Relative error at optimal run for P_BFGS-TwoLocal: 8.928951812668842e-10\n",
      "Resource estimates for P_BFGS-TwoLocal: Gate count = 2, Circuit depth = 2, Function calls = 18\n",
      "\n",
      "Running VQE for optimizer-ansatz pair: P_BFGS-EfficientSU2\n"
     ]
    },
    {
     "name": "stderr",
     "output_type": "stream",
     "text": [
      "For Windows, using only current process. Multiple core use not supported.\n",
      "For Windows, using only current process. Multiple core use not supported.\n",
      "For Windows, using only current process. Multiple core use not supported.\n",
      "For Windows, using only current process. Multiple core use not supported.\n",
      "For Windows, using only current process. Multiple core use not supported.\n",
      "For Windows, using only current process. Multiple core use not supported.\n",
      "For Windows, using only current process. Multiple core use not supported.\n",
      "For Windows, using only current process. Multiple core use not supported.\n",
      "For Windows, using only current process. Multiple core use not supported.\n"
     ]
    },
    {
     "name": "stdout",
     "output_type": "stream",
     "text": [
      "P_BFGS-EfficientSU2 - Depth 1: Average relative error = 0.11230562979079899\n"
     ]
    },
    {
     "name": "stderr",
     "output_type": "stream",
     "text": [
      "For Windows, using only current process. Multiple core use not supported.\n",
      "For Windows, using only current process. Multiple core use not supported.\n",
      "For Windows, using only current process. Multiple core use not supported.\n",
      "For Windows, using only current process. Multiple core use not supported.\n",
      "For Windows, using only current process. Multiple core use not supported.\n",
      "For Windows, using only current process. Multiple core use not supported.\n",
      "For Windows, using only current process. Multiple core use not supported.\n",
      "For Windows, using only current process. Multiple core use not supported.\n",
      "For Windows, using only current process. Multiple core use not supported.\n",
      "For Windows, using only current process. Multiple core use not supported.\n"
     ]
    },
    {
     "name": "stdout",
     "output_type": "stream",
     "text": [
      "P_BFGS-EfficientSU2 - Depth 2: Average relative error = 0.6384718961948734\n"
     ]
    },
    {
     "name": "stderr",
     "output_type": "stream",
     "text": [
      "For Windows, using only current process. Multiple core use not supported.\n",
      "For Windows, using only current process. Multiple core use not supported.\n",
      "For Windows, using only current process. Multiple core use not supported.\n",
      "For Windows, using only current process. Multiple core use not supported.\n",
      "For Windows, using only current process. Multiple core use not supported.\n",
      "For Windows, using only current process. Multiple core use not supported.\n",
      "For Windows, using only current process. Multiple core use not supported.\n",
      "For Windows, using only current process. Multiple core use not supported.\n",
      "For Windows, using only current process. Multiple core use not supported.\n"
     ]
    },
    {
     "name": "stdout",
     "output_type": "stream",
     "text": [
      "P_BFGS-EfficientSU2 - Depth 3: Average relative error = 5.202052170277253e-09\n",
      "Optimal depth 3 for P_BFGS-EfficientSU2 achieved lowest relative error = 4.158149946195491e-10\n",
      "Run number with lowest relative error: 2\n",
      "Relative error at optimal run for P_BFGS-EfficientSU2: 4.158149946195491e-10\n",
      "Resource estimates for P_BFGS-EfficientSU2: Gate count = 4, Circuit depth = 4, Function calls = 35\n"
     ]
    }
   ],
   "source": [
    "## Get the optimizers\n",
    "maxiter = 5000\n",
    "optimizers = [SLSQP(maxiter = maxiter), P_BFGS(maxfun = maxiter)]\n",
    "\n",
    "# Define parameters\n",
    "dimension = matrix.shape[0]\n",
    "num_qubits = int(np.log2(dimension))\n",
    "target_error_threshold = 0.01\n",
    "\n",
    "# Estimate min. ansatz depths\n",
    "min_depths_N_2, errors_N_2, resources_N_2 = estimate_resources(matrix, zeromode, optimizers, num_qubits, target_error_threshold, \\\n",
    "                                                               classical_expectation, nmax, L)"
   ]
  },
  {
   "cell_type": "markdown",
   "id": "12df457b-311a-4072-8eb7-bb76993a88d4",
   "metadata": {},
   "source": [
    "### Print resource estimates"
   ]
  },
  {
   "cell_type": "code",
   "execution_count": 25,
   "id": "1d9896a8-d93f-4b7a-b8b1-aadae9a9e898",
   "metadata": {},
   "outputs": [
    {
     "name": "stdout",
     "output_type": "stream",
     "text": [
      "The min. ansatz depth results are:\n",
      "{'SLSQP-RealAmplitudes': 2, 'SLSQP-TwoLocal': 1, 'SLSQP-EfficientSU2': 2, 'P_BFGS-RealAmplitudes': 3, 'P_BFGS-TwoLocal': 1, 'P_BFGS-EfficientSU2': 3}\n",
      "\n",
      "The relative errors are:\n",
      "{'SLSQP-RealAmplitudes': 5.9895000490341794e-09, 'SLSQP-TwoLocal': 7.651001395424214e-09, 'SLSQP-EfficientSU2': 5.9895000490341794e-09, 'P_BFGS-RealAmplitudes': 4.158149946195491e-10, 'P_BFGS-TwoLocal': 8.928951812668842e-10, 'P_BFGS-EfficientSU2': 4.158149946195491e-10}\n",
      "\n",
      "The resources required are:\n",
      "{'SLSQP-RealAmplitudes': {'gate_count': 3, 'circuit_depth': 3, 'function_calls': 27}, 'SLSQP-TwoLocal': {'gate_count': 2, 'circuit_depth': 2, 'function_calls': 21}, 'SLSQP-EfficientSU2': {'gate_count': 3, 'circuit_depth': 3, 'function_calls': 27}, 'P_BFGS-RealAmplitudes': {'gate_count': 4, 'circuit_depth': 4, 'function_calls': 35}, 'P_BFGS-TwoLocal': {'gate_count': 2, 'circuit_depth': 2, 'function_calls': 18}, 'P_BFGS-EfficientSU2': {'gate_count': 4, 'circuit_depth': 4, 'function_calls': 35}}\n",
      "\n"
     ]
    }
   ],
   "source": [
    "## Print the min. ansatz depth results\n",
    "print('The min. ansatz depth results are:')\n",
    "print(min_depths_N_2)\n",
    "print()\n",
    "\n",
    "## Print the relative errors\n",
    "print('The relative errors are:')\n",
    "print(errors_N_2)\n",
    "print()\n",
    "\n",
    "## Print the resource estimates\n",
    "print('The resources required are:')\n",
    "print(resources_N_2)\n",
    "print()"
   ]
  },
  {
   "cell_type": "markdown",
   "id": "05b32bfc-666f-4984-893f-57c4302431b7",
   "metadata": {},
   "source": [
    "### For a = 1, b = 0 (N = 4)\n",
    "\n",
    "### Get the matrix and the zeromode"
   ]
  },
  {
   "cell_type": "code",
   "execution_count": 29,
   "id": "4191af52-51c1-4eb9-9df1-caadc3d11de7",
   "metadata": {},
   "outputs": [
    {
     "name": "stdout",
     "output_type": "stream",
     "text": [
      "The matrix is:\n",
      "[[   6.75        -25.45584412   18.37117307    0.        ]\n",
      " [ -25.45584412  129.75       -173.20508076   71.15124735]\n",
      " [  18.37117307 -173.20508076  448.75       -449.13249715]\n",
      " [   0.           71.15124735 -449.13249715  837.75      ]]\n",
      "\n",
      "The zeromode is:\n",
      "[[-0.92504521]\n",
      " [-0.34807967]\n",
      " [-0.14437197]\n",
      " [-0.04783967]]\n",
      "\n",
      "The value of <x^2> is:\n",
      "0.6419765393615697\n",
      "\n"
     ]
    },
    {
     "name": "stderr",
     "output_type": "stream",
     "text": [
      "C:\\Users\\Owner\\AppData\\Local\\Temp\\ipykernel_26868\\795971042.py:108: DeprecationWarning: Conversion of an array with ndim > 0 to a scalar is deprecated, and will error in future. Ensure you extract a single element from your array before performing this operation. (Deprecated NumPy 1.25.)\n",
      "  eigenvector[2*i] = eigenvector_old[i]\n"
     ]
    }
   ],
   "source": [
    "## Get the matrix and zeromode\n",
    "nmax = 7\n",
    "a = 1\n",
    "gamma = 1\n",
    "dx = 0.01\n",
    "c = 0\n",
    "L = 1/2\n",
    "x = np.linspace(-4, 4, int(8/dx))\n",
    "\n",
    "# Matrix and zeromode\n",
    "matrix, zeromode = get_zeromode(nmax, a, c, L, gamma)\n",
    "\n",
    "## Print the matrix and zeromode\n",
    "print('The matrix is:')\n",
    "print(matrix)\n",
    "print()\n",
    "\n",
    "# Print the zeromode\n",
    "print('The zeromode is:')\n",
    "print(zeromode)\n",
    "print()\n",
    "\n",
    "## Compute the classical <x^2> value\n",
    "x, y = get_pdf(nmax, x, dx, L, shift = 0, zeromode_qpe = zeromode, normalize = True, make_even = True)\n",
    "classical_expectation = compute_expectation_x_squared_simpson(x, y, 2)\n",
    "\n",
    "# Print the classical expectation value\n",
    "print('The value of <x^2> is:')\n",
    "print(classical_expectation)\n",
    "print()"
   ]
  },
  {
   "cell_type": "markdown",
   "id": "c02e1d9d-f082-4fa7-901d-082bce49cadc",
   "metadata": {},
   "source": [
    "### Estimate resource requirements (fix at 5000 optimization iterations)"
   ]
  },
  {
   "cell_type": "code",
   "execution_count": 32,
   "id": "791c5395-6ec4-4063-bcd5-916fe89dae32",
   "metadata": {},
   "outputs": [
    {
     "name": "stdout",
     "output_type": "stream",
     "text": [
      "\n",
      "Running VQE for optimizer-ansatz pair: SLSQP-RealAmplitudes\n"
     ]
    },
    {
     "name": "stderr",
     "output_type": "stream",
     "text": [
      "C:\\Users\\Owner\\AppData\\Local\\Temp\\ipykernel_26868\\795971042.py:108: DeprecationWarning: Conversion of an array with ndim > 0 to a scalar is deprecated, and will error in future. Ensure you extract a single element from your array before performing this operation. (Deprecated NumPy 1.25.)\n",
      "  eigenvector[2*i] = eigenvector_old[i]\n",
      "C:\\Users\\Owner\\anaconda3\\Lib\\site-packages\\scipy\\optimize\\_slsqp_py.py:437: RuntimeWarning: Values in x were outside bounds during a minimize step, clipping to bounds\n",
      "  fx = wrapped_fun(x)\n"
     ]
    },
    {
     "name": "stdout",
     "output_type": "stream",
     "text": [
      "SLSQP-RealAmplitudes - Depth 1: Average relative error = 0.3792741770135687\n",
      "SLSQP-RealAmplitudes - Depth 2: Average relative error = 0.1513595301086548\n",
      "SLSQP-RealAmplitudes - Depth 3: Average relative error = 3.274933414107105e-05\n",
      "Optimal depth 3 for SLSQP-RealAmplitudes achieved lowest relative error = 2.8237250946032572e-06\n",
      "Run number with lowest relative error: 1\n",
      "Relative error at optimal run for SLSQP-RealAmplitudes: 2.8237250946032572e-06\n",
      "Resource estimates for SLSQP-RealAmplitudes: Gate count = 11, Circuit depth = 7, Function calls = 142\n",
      "\n",
      "Running VQE for optimizer-ansatz pair: SLSQP-TwoLocal\n",
      "SLSQP-TwoLocal - Depth 1: Average relative error = 5.487690955940053e-05\n",
      "Optimal depth 1 for SLSQP-TwoLocal achieved lowest relative error = 3.033551887178738e-06\n",
      "Run number with lowest relative error: 5\n",
      "Relative error at optimal run for SLSQP-TwoLocal: 3.033551887178738e-06\n",
      "Resource estimates for SLSQP-TwoLocal: Gate count = 5, Circuit depth = 3, Function calls = 159\n",
      "\n",
      "Running VQE for optimizer-ansatz pair: SLSQP-EfficientSU2\n",
      "SLSQP-EfficientSU2 - Depth 1: Average relative error = 0.3792741770135687\n"
     ]
    },
    {
     "name": "stderr",
     "output_type": "stream",
     "text": [
      "C:\\Users\\Owner\\anaconda3\\Lib\\site-packages\\scipy\\optimize\\_slsqp_py.py:441: RuntimeWarning: Values in x were outside bounds during a minimize step, clipping to bounds\n",
      "  g = append(wrapped_grad(x), 0.0)\n"
     ]
    },
    {
     "name": "stdout",
     "output_type": "stream",
     "text": [
      "SLSQP-EfficientSU2 - Depth 2: Average relative error = 0.06104622680705961\n",
      "SLSQP-EfficientSU2 - Depth 3: Average relative error = 0.04572620774567097\n"
     ]
    },
    {
     "name": "stderr",
     "output_type": "stream",
     "text": [
      "For Windows, using only current process. Multiple core use not supported.\n"
     ]
    },
    {
     "name": "stdout",
     "output_type": "stream",
     "text": [
      "SLSQP-EfficientSU2 - Depth 4: Average relative error = 2.2067656958252177e-05\n",
      "Optimal depth 4 for SLSQP-EfficientSU2 achieved lowest relative error = 1.7148993657021465e-06\n",
      "Run number with lowest relative error: 2\n",
      "Relative error at optimal run for SLSQP-EfficientSU2: 1.7148993657021465e-06\n",
      "Resource estimates for SLSQP-EfficientSU2: Gate count = 14, Circuit depth = 9, Function calls = 135\n",
      "\n",
      "Running VQE for optimizer-ansatz pair: P_BFGS-RealAmplitudes\n"
     ]
    },
    {
     "name": "stderr",
     "output_type": "stream",
     "text": [
      "For Windows, using only current process. Multiple core use not supported.\n",
      "For Windows, using only current process. Multiple core use not supported.\n",
      "For Windows, using only current process. Multiple core use not supported.\n",
      "For Windows, using only current process. Multiple core use not supported.\n",
      "For Windows, using only current process. Multiple core use not supported.\n",
      "For Windows, using only current process. Multiple core use not supported.\n",
      "For Windows, using only current process. Multiple core use not supported.\n",
      "For Windows, using only current process. Multiple core use not supported.\n",
      "For Windows, using only current process. Multiple core use not supported.\n",
      "For Windows, using only current process. Multiple core use not supported.\n"
     ]
    },
    {
     "name": "stdout",
     "output_type": "stream",
     "text": [
      "P_BFGS-RealAmplitudes - Depth 1: Average relative error = 0.16323062953907255\n"
     ]
    },
    {
     "name": "stderr",
     "output_type": "stream",
     "text": [
      "For Windows, using only current process. Multiple core use not supported.\n",
      "For Windows, using only current process. Multiple core use not supported.\n",
      "For Windows, using only current process. Multiple core use not supported.\n",
      "For Windows, using only current process. Multiple core use not supported.\n",
      "For Windows, using only current process. Multiple core use not supported.\n",
      "For Windows, using only current process. Multiple core use not supported.\n",
      "For Windows, using only current process. Multiple core use not supported.\n",
      "For Windows, using only current process. Multiple core use not supported.\n",
      "For Windows, using only current process. Multiple core use not supported.\n",
      "For Windows, using only current process. Multiple core use not supported.\n"
     ]
    },
    {
     "name": "stdout",
     "output_type": "stream",
     "text": [
      "P_BFGS-RealAmplitudes - Depth 2: Average relative error = 0.5585277992324725\n"
     ]
    },
    {
     "name": "stderr",
     "output_type": "stream",
     "text": [
      "For Windows, using only current process. Multiple core use not supported.\n",
      "For Windows, using only current process. Multiple core use not supported.\n",
      "For Windows, using only current process. Multiple core use not supported.\n",
      "For Windows, using only current process. Multiple core use not supported.\n",
      "For Windows, using only current process. Multiple core use not supported.\n",
      "For Windows, using only current process. Multiple core use not supported.\n",
      "For Windows, using only current process. Multiple core use not supported.\n",
      "For Windows, using only current process. Multiple core use not supported.\n",
      "For Windows, using only current process. Multiple core use not supported.\n",
      "For Windows, using only current process. Multiple core use not supported.\n"
     ]
    },
    {
     "name": "stdout",
     "output_type": "stream",
     "text": [
      "P_BFGS-RealAmplitudes - Depth 3: Average relative error = 0.0331084854072934\n"
     ]
    },
    {
     "name": "stderr",
     "output_type": "stream",
     "text": [
      "For Windows, using only current process. Multiple core use not supported.\n",
      "For Windows, using only current process. Multiple core use not supported.\n",
      "For Windows, using only current process. Multiple core use not supported.\n",
      "For Windows, using only current process. Multiple core use not supported.\n",
      "For Windows, using only current process. Multiple core use not supported.\n",
      "For Windows, using only current process. Multiple core use not supported.\n",
      "For Windows, using only current process. Multiple core use not supported.\n",
      "For Windows, using only current process. Multiple core use not supported.\n",
      "For Windows, using only current process. Multiple core use not supported.\n",
      "For Windows, using only current process. Multiple core use not supported.\n"
     ]
    },
    {
     "name": "stdout",
     "output_type": "stream",
     "text": [
      "P_BFGS-RealAmplitudes - Depth 4: Average relative error = 1.090057283631845e-07\n",
      "Optimal depth 4 for P_BFGS-RealAmplitudes achieved lowest relative error = 2.5750902542678553e-08\n",
      "Run number with lowest relative error: 9\n",
      "Relative error at optimal run for P_BFGS-RealAmplitudes: 2.5750902542678553e-08\n",
      "Resource estimates for P_BFGS-RealAmplitudes: Gate count = 14, Circuit depth = 9, Function calls = 396\n",
      "\n",
      "Running VQE for optimizer-ansatz pair: P_BFGS-TwoLocal\n"
     ]
    },
    {
     "name": "stderr",
     "output_type": "stream",
     "text": [
      "For Windows, using only current process. Multiple core use not supported.\n",
      "For Windows, using only current process. Multiple core use not supported.\n",
      "For Windows, using only current process. Multiple core use not supported.\n",
      "For Windows, using only current process. Multiple core use not supported.\n",
      "For Windows, using only current process. Multiple core use not supported.\n",
      "For Windows, using only current process. Multiple core use not supported.\n",
      "For Windows, using only current process. Multiple core use not supported.\n",
      "For Windows, using only current process. Multiple core use not supported.\n",
      "For Windows, using only current process. Multiple core use not supported.\n",
      "For Windows, using only current process. Multiple core use not supported.\n"
     ]
    },
    {
     "name": "stdout",
     "output_type": "stream",
     "text": [
      "P_BFGS-TwoLocal - Depth 1: Average relative error = 1.7792394494997472e-07\n",
      "Optimal depth 1 for P_BFGS-TwoLocal achieved lowest relative error = 2.269803009897159e-09\n",
      "Run number with lowest relative error: 9\n",
      "Relative error at optimal run for P_BFGS-TwoLocal: 2.269803009897159e-09\n",
      "Resource estimates for P_BFGS-TwoLocal: Gate count = 5, Circuit depth = 3, Function calls = 160\n",
      "\n",
      "Running VQE for optimizer-ansatz pair: P_BFGS-EfficientSU2\n"
     ]
    },
    {
     "name": "stderr",
     "output_type": "stream",
     "text": [
      "For Windows, using only current process. Multiple core use not supported.\n",
      "For Windows, using only current process. Multiple core use not supported.\n",
      "For Windows, using only current process. Multiple core use not supported.\n",
      "For Windows, using only current process. Multiple core use not supported.\n",
      "For Windows, using only current process. Multiple core use not supported.\n",
      "For Windows, using only current process. Multiple core use not supported.\n",
      "For Windows, using only current process. Multiple core use not supported.\n",
      "For Windows, using only current process. Multiple core use not supported.\n",
      "For Windows, using only current process. Multiple core use not supported.\n",
      "For Windows, using only current process. Multiple core use not supported.\n"
     ]
    },
    {
     "name": "stdout",
     "output_type": "stream",
     "text": [
      "P_BFGS-EfficientSU2 - Depth 1: Average relative error = 0.16323062953907255\n"
     ]
    },
    {
     "name": "stderr",
     "output_type": "stream",
     "text": [
      "For Windows, using only current process. Multiple core use not supported.\n",
      "For Windows, using only current process. Multiple core use not supported.\n",
      "For Windows, using only current process. Multiple core use not supported.\n",
      "For Windows, using only current process. Multiple core use not supported.\n",
      "For Windows, using only current process. Multiple core use not supported.\n",
      "For Windows, using only current process. Multiple core use not supported.\n",
      "For Windows, using only current process. Multiple core use not supported.\n",
      "For Windows, using only current process. Multiple core use not supported.\n",
      "For Windows, using only current process. Multiple core use not supported.\n",
      "For Windows, using only current process. Multiple core use not supported.\n"
     ]
    },
    {
     "name": "stdout",
     "output_type": "stream",
     "text": [
      "P_BFGS-EfficientSU2 - Depth 2: Average relative error = 0.3122692710454967\n"
     ]
    },
    {
     "name": "stderr",
     "output_type": "stream",
     "text": [
      "For Windows, using only current process. Multiple core use not supported.\n",
      "For Windows, using only current process. Multiple core use not supported.\n",
      "For Windows, using only current process. Multiple core use not supported.\n",
      "For Windows, using only current process. Multiple core use not supported.\n",
      "For Windows, using only current process. Multiple core use not supported.\n",
      "For Windows, using only current process. Multiple core use not supported.\n",
      "For Windows, using only current process. Multiple core use not supported.\n",
      "For Windows, using only current process. Multiple core use not supported.\n",
      "For Windows, using only current process. Multiple core use not supported.\n"
     ]
    },
    {
     "name": "stdout",
     "output_type": "stream",
     "text": [
      "P_BFGS-EfficientSU2 - Depth 3: Average relative error = 1.6241554383556552e-07\n",
      "Optimal depth 3 for P_BFGS-EfficientSU2 achieved lowest relative error = 3.520059432603429e-09\n",
      "Run number with lowest relative error: 1\n",
      "Relative error at optimal run for P_BFGS-EfficientSU2: 3.520059432603429e-09\n",
      "Resource estimates for P_BFGS-EfficientSU2: Gate count = 11, Circuit depth = 7, Function calls = 243\n"
     ]
    }
   ],
   "source": [
    "## Get the optimizers\n",
    "maxiter = 5000\n",
    "optimizers = [SLSQP(maxiter = maxiter), P_BFGS(maxfun = maxiter)]\n",
    "\n",
    "# Define parameters\n",
    "dimension = matrix.shape[0]\n",
    "num_qubits = int(np.log2(dimension))\n",
    "target_error_threshold = 0.01\n",
    "\n",
    "# Estimate min. ansatz depths\n",
    "min_depths_N_4, errors_N_4, resources_N_4 = estimate_resources(matrix, zeromode, optimizers, num_qubits, target_error_threshold, \\\n",
    "                                                               classical_expectation, nmax, L)"
   ]
  },
  {
   "cell_type": "markdown",
   "id": "af844044-0f10-44ba-8813-ee7618b8079e",
   "metadata": {},
   "source": [
    "### Print resource estimates"
   ]
  },
  {
   "cell_type": "code",
   "execution_count": 35,
   "id": "07c7c7a0-8daa-4af1-8d41-f2f8fffc12d5",
   "metadata": {},
   "outputs": [
    {
     "name": "stdout",
     "output_type": "stream",
     "text": [
      "The min. ansatz depth results are:\n",
      "{'SLSQP-RealAmplitudes': 3, 'SLSQP-TwoLocal': 1, 'SLSQP-EfficientSU2': 4, 'P_BFGS-RealAmplitudes': 4, 'P_BFGS-TwoLocal': 1, 'P_BFGS-EfficientSU2': 3}\n",
      "\n",
      "The relative errors are:\n",
      "{'SLSQP-RealAmplitudes': 2.8237250946032572e-06, 'SLSQP-TwoLocal': 3.033551887178738e-06, 'SLSQP-EfficientSU2': 1.7148993657021465e-06, 'P_BFGS-RealAmplitudes': 2.5750902542678553e-08, 'P_BFGS-TwoLocal': 2.269803009897159e-09, 'P_BFGS-EfficientSU2': 3.520059432603429e-09}\n",
      "\n",
      "The resources required are:\n",
      "{'SLSQP-RealAmplitudes': {'gate_count': 11, 'circuit_depth': 7, 'function_calls': 142}, 'SLSQP-TwoLocal': {'gate_count': 5, 'circuit_depth': 3, 'function_calls': 159}, 'SLSQP-EfficientSU2': {'gate_count': 14, 'circuit_depth': 9, 'function_calls': 135}, 'P_BFGS-RealAmplitudes': {'gate_count': 14, 'circuit_depth': 9, 'function_calls': 396}, 'P_BFGS-TwoLocal': {'gate_count': 5, 'circuit_depth': 3, 'function_calls': 160}, 'P_BFGS-EfficientSU2': {'gate_count': 11, 'circuit_depth': 7, 'function_calls': 243}}\n",
      "\n"
     ]
    }
   ],
   "source": [
    "## Print the min. ansatz depth results\n",
    "print('The min. ansatz depth results are:')\n",
    "print(min_depths_N_4)\n",
    "print()\n",
    "\n",
    "## Print the relative errors\n",
    "print('The relative errors are:')\n",
    "print(errors_N_4)\n",
    "print()\n",
    "\n",
    "## Print the resource estimates\n",
    "print('The resources required are:')\n",
    "print(resources_N_4)\n",
    "print()"
   ]
  },
  {
   "cell_type": "markdown",
   "id": "6729c586-894f-471e-b84c-f2fe276ba3c2",
   "metadata": {},
   "source": [
    "### For a = 1, b = 0 (N = 8)\n",
    "\n",
    "### Get the matrix and the zeromode"
   ]
  },
  {
   "cell_type": "code",
   "execution_count": 38,
   "id": "41f91ed7-3af6-4d0f-82ad-9b1a9a47f21a",
   "metadata": {},
   "outputs": [
    {
     "name": "stdout",
     "output_type": "stream",
     "text": [
      "The matrix is:\n",
      "[[    6.75         -25.45584412    18.37117307     0.\n",
      "      0.             0.             0.             0.        ]\n",
      " [  -25.45584412   129.75        -173.20508076    71.15124735\n",
      "      0.             0.             0.             0.        ]\n",
      " [   18.37117307  -173.20508076   448.75        -449.13249715\n",
      "    153.70426149     0.             0.             0.        ]\n",
      " [    0.            71.15124735  -449.13249715   963.75\n",
      "   -853.09788418   266.22359024     0.             0.        ]\n",
      " [    0.             0.           153.70426149  -853.09788418\n",
      "   1674.75       -1385.07761515   408.7327978      0.        ]\n",
      " [    0.             0.             0.           266.22359024\n",
      "  -1385.07761515  2581.75       -2045.06430217   581.2379031 ]\n",
      " [    0.             0.             0.             0.\n",
      "    408.7327978  -2045.06430217  3684.75       -2833.05488828]\n",
      " [    0.             0.             0.             0.\n",
      "      0.           581.2379031  -2833.05488828  4443.75      ]]\n",
      "\n",
      "The zeromode is:\n",
      "[[0.89865021]\n",
      " [0.37648525]\n",
      " [0.19152278]\n",
      " [0.10119182]\n",
      " [0.05336691]\n",
      " [0.02717778]\n",
      " [0.01261409]\n",
      " [0.00448713]]\n",
      "\n",
      "The value of <x^2> is:\n",
      "0.8993572186285961\n",
      "\n"
     ]
    },
    {
     "name": "stderr",
     "output_type": "stream",
     "text": [
      "C:\\Users\\Owner\\AppData\\Local\\Temp\\ipykernel_26868\\795971042.py:108: DeprecationWarning: Conversion of an array with ndim > 0 to a scalar is deprecated, and will error in future. Ensure you extract a single element from your array before performing this operation. (Deprecated NumPy 1.25.)\n",
      "  eigenvector[2*i] = eigenvector_old[i]\n"
     ]
    }
   ],
   "source": [
    "## Get the matrix and zeromode\n",
    "nmax = 15\n",
    "a = 1\n",
    "gamma = 1\n",
    "dx = 0.01\n",
    "c = 0\n",
    "L = 1/2\n",
    "x = np.linspace(-4, 4, int(8/dx))\n",
    "\n",
    "# Matrix and zeromode\n",
    "matrix, zeromode = get_zeromode(nmax, a, c, L, gamma)\n",
    "\n",
    "## Print the matrix and zeromode\n",
    "print('The matrix is:')\n",
    "print(matrix)\n",
    "print()\n",
    "\n",
    "# Print the zeromode\n",
    "print('The zeromode is:')\n",
    "print(zeromode)\n",
    "print()\n",
    "\n",
    "## Compute the classical <x^2> value\n",
    "x, y = get_pdf(nmax, x, dx, L, shift = 0, zeromode_qpe = zeromode, normalize = True, make_even = True)\n",
    "classical_expectation = compute_expectation_x_squared_simpson(x, y, 2)\n",
    "\n",
    "# Print the classical expectation value\n",
    "print('The value of <x^2> is:')\n",
    "print(classical_expectation)\n",
    "print()"
   ]
  },
  {
   "cell_type": "markdown",
   "id": "d6d75377-3a11-4c40-bba1-9db1a639b5f7",
   "metadata": {},
   "source": [
    "### Estimate resource requirements (fix at 5000 optimization iterations)"
   ]
  },
  {
   "cell_type": "code",
   "execution_count": 41,
   "id": "a044baa6-f04a-4720-ab70-1e24b8cefdab",
   "metadata": {},
   "outputs": [
    {
     "name": "stdout",
     "output_type": "stream",
     "text": [
      "\n",
      "Running VQE for optimizer-ansatz pair: SLSQP-RealAmplitudes\n"
     ]
    },
    {
     "name": "stderr",
     "output_type": "stream",
     "text": [
      "C:\\Users\\Owner\\AppData\\Local\\Temp\\ipykernel_26868\\795971042.py:108: DeprecationWarning: Conversion of an array with ndim > 0 to a scalar is deprecated, and will error in future. Ensure you extract a single element from your array before performing this operation. (Deprecated NumPy 1.25.)\n",
      "  eigenvector[2*i] = eigenvector_old[i]\n"
     ]
    },
    {
     "name": "stdout",
     "output_type": "stream",
     "text": [
      "SLSQP-RealAmplitudes - Depth 1: Average relative error = 0.22240612505083557\n",
      "SLSQP-RealAmplitudes - Depth 2: Average relative error = 0.0341722620145584\n",
      "SLSQP-RealAmplitudes - Depth 3: Average relative error = 0.1753041681005697\n",
      "SLSQP-RealAmplitudes - Depth 4: Average relative error = 0.00013971179185546823\n",
      "Optimal depth 4 for SLSQP-RealAmplitudes achieved lowest relative error = 2.3306997766340855e-06\n",
      "Run number with lowest relative error: 7\n",
      "Relative error at optimal run for SLSQP-RealAmplitudes: 2.3306997766340855e-06\n",
      "Resource estimates for SLSQP-RealAmplitudes: Gate count = 27, Circuit depth = 17, Function calls = 718\n",
      "\n",
      "Running VQE for optimizer-ansatz pair: SLSQP-TwoLocal\n",
      "SLSQP-TwoLocal - Depth 1: Average relative error = 0.07801950746834627\n",
      "SLSQP-TwoLocal - Depth 2: Average relative error = 0.03150159908546839\n",
      "SLSQP-TwoLocal - Depth 3: Average relative error = 0.00012203168142217876\n",
      "Optimal depth 3 for SLSQP-TwoLocal achieved lowest relative error = 2.8121006838607546e-06\n",
      "Run number with lowest relative error: 2\n",
      "Relative error at optimal run for SLSQP-TwoLocal: 2.8121006838607546e-06\n",
      "Resource estimates for SLSQP-TwoLocal: Gate count = 21, Circuit depth = 13, Function calls = 637\n",
      "\n",
      "Running VQE for optimizer-ansatz pair: SLSQP-EfficientSU2\n",
      "SLSQP-EfficientSU2 - Depth 1: Average relative error = 0.37882319316475616\n",
      "SLSQP-EfficientSU2 - Depth 2: Average relative error = 0.11766407269413018\n"
     ]
    },
    {
     "name": "stderr",
     "output_type": "stream",
     "text": [
      "For Windows, using only current process. Multiple core use not supported.\n"
     ]
    },
    {
     "name": "stdout",
     "output_type": "stream",
     "text": [
      "SLSQP-EfficientSU2 - Depth 3: Average relative error = 0.00014320687983152396\n",
      "Optimal depth 3 for SLSQP-EfficientSU2 achieved lowest relative error = 4.935818294724644e-07\n",
      "Run number with lowest relative error: 5\n",
      "Relative error at optimal run for SLSQP-EfficientSU2: 4.935818294724644e-07\n",
      "Resource estimates for SLSQP-EfficientSU2: Gate count = 21, Circuit depth = 13, Function calls = 482\n",
      "\n",
      "Running VQE for optimizer-ansatz pair: P_BFGS-RealAmplitudes\n"
     ]
    },
    {
     "name": "stderr",
     "output_type": "stream",
     "text": [
      "For Windows, using only current process. Multiple core use not supported.\n",
      "For Windows, using only current process. Multiple core use not supported.\n",
      "For Windows, using only current process. Multiple core use not supported.\n",
      "For Windows, using only current process. Multiple core use not supported.\n",
      "For Windows, using only current process. Multiple core use not supported.\n",
      "For Windows, using only current process. Multiple core use not supported.\n",
      "For Windows, using only current process. Multiple core use not supported.\n",
      "For Windows, using only current process. Multiple core use not supported.\n",
      "For Windows, using only current process. Multiple core use not supported.\n",
      "For Windows, using only current process. Multiple core use not supported.\n"
     ]
    },
    {
     "name": "stdout",
     "output_type": "stream",
     "text": [
      "P_BFGS-RealAmplitudes - Depth 1: Average relative error = 0.22015178426810378\n"
     ]
    },
    {
     "name": "stderr",
     "output_type": "stream",
     "text": [
      "For Windows, using only current process. Multiple core use not supported.\n",
      "For Windows, using only current process. Multiple core use not supported.\n",
      "For Windows, using only current process. Multiple core use not supported.\n",
      "For Windows, using only current process. Multiple core use not supported.\n",
      "For Windows, using only current process. Multiple core use not supported.\n",
      "For Windows, using only current process. Multiple core use not supported.\n",
      "For Windows, using only current process. Multiple core use not supported.\n",
      "For Windows, using only current process. Multiple core use not supported.\n",
      "For Windows, using only current process. Multiple core use not supported.\n",
      "For Windows, using only current process. Multiple core use not supported.\n"
     ]
    },
    {
     "name": "stdout",
     "output_type": "stream",
     "text": [
      "P_BFGS-RealAmplitudes - Depth 2: Average relative error = 0.021906556033923174\n"
     ]
    },
    {
     "name": "stderr",
     "output_type": "stream",
     "text": [
      "For Windows, using only current process. Multiple core use not supported.\n",
      "For Windows, using only current process. Multiple core use not supported.\n",
      "For Windows, using only current process. Multiple core use not supported.\n",
      "For Windows, using only current process. Multiple core use not supported.\n",
      "For Windows, using only current process. Multiple core use not supported.\n",
      "For Windows, using only current process. Multiple core use not supported.\n",
      "For Windows, using only current process. Multiple core use not supported.\n",
      "For Windows, using only current process. Multiple core use not supported.\n",
      "For Windows, using only current process. Multiple core use not supported.\n",
      "For Windows, using only current process. Multiple core use not supported.\n"
     ]
    },
    {
     "name": "stdout",
     "output_type": "stream",
     "text": [
      "P_BFGS-RealAmplitudes - Depth 3: Average relative error = 0.18809252870686716\n"
     ]
    },
    {
     "name": "stderr",
     "output_type": "stream",
     "text": [
      "For Windows, using only current process. Multiple core use not supported.\n",
      "For Windows, using only current process. Multiple core use not supported.\n",
      "For Windows, using only current process. Multiple core use not supported.\n",
      "For Windows, using only current process. Multiple core use not supported.\n",
      "For Windows, using only current process. Multiple core use not supported.\n",
      "For Windows, using only current process. Multiple core use not supported.\n",
      "For Windows, using only current process. Multiple core use not supported.\n",
      "For Windows, using only current process. Multiple core use not supported.\n",
      "For Windows, using only current process. Multiple core use not supported.\n",
      "For Windows, using only current process. Multiple core use not supported.\n"
     ]
    },
    {
     "name": "stdout",
     "output_type": "stream",
     "text": [
      "P_BFGS-RealAmplitudes - Depth 4: Average relative error = 7.294487786685128e-06\n",
      "Optimal depth 4 for P_BFGS-RealAmplitudes achieved lowest relative error = 3.260549678855917e-08\n",
      "Run number with lowest relative error: 2\n",
      "Relative error at optimal run for P_BFGS-RealAmplitudes: 3.260549678855917e-08\n",
      "Resource estimates for P_BFGS-RealAmplitudes: Gate count = 27, Circuit depth = 17, Function calls = 1264\n",
      "\n",
      "Running VQE for optimizer-ansatz pair: P_BFGS-TwoLocal\n"
     ]
    },
    {
     "name": "stderr",
     "output_type": "stream",
     "text": [
      "For Windows, using only current process. Multiple core use not supported.\n",
      "For Windows, using only current process. Multiple core use not supported.\n",
      "For Windows, using only current process. Multiple core use not supported.\n",
      "For Windows, using only current process. Multiple core use not supported.\n",
      "For Windows, using only current process. Multiple core use not supported.\n",
      "For Windows, using only current process. Multiple core use not supported.\n",
      "For Windows, using only current process. Multiple core use not supported.\n",
      "For Windows, using only current process. Multiple core use not supported.\n",
      "For Windows, using only current process. Multiple core use not supported.\n",
      "For Windows, using only current process. Multiple core use not supported.\n"
     ]
    },
    {
     "name": "stdout",
     "output_type": "stream",
     "text": [
      "P_BFGS-TwoLocal - Depth 1: Average relative error = 0.07094095794727083\n"
     ]
    },
    {
     "name": "stderr",
     "output_type": "stream",
     "text": [
      "For Windows, using only current process. Multiple core use not supported.\n",
      "For Windows, using only current process. Multiple core use not supported.\n",
      "For Windows, using only current process. Multiple core use not supported.\n",
      "For Windows, using only current process. Multiple core use not supported.\n",
      "For Windows, using only current process. Multiple core use not supported.\n",
      "For Windows, using only current process. Multiple core use not supported.\n",
      "For Windows, using only current process. Multiple core use not supported.\n",
      "For Windows, using only current process. Multiple core use not supported.\n",
      "For Windows, using only current process. Multiple core use not supported.\n",
      "For Windows, using only current process. Multiple core use not supported.\n"
     ]
    },
    {
     "name": "stdout",
     "output_type": "stream",
     "text": [
      "P_BFGS-TwoLocal - Depth 2: Average relative error = 0.00776723894582656\n",
      "Optimal depth 2 for P_BFGS-TwoLocal achieved lowest relative error = 1.20060066981278e-06\n",
      "Run number with lowest relative error: 1\n",
      "Relative error at optimal run for P_BFGS-TwoLocal: 1.20060066981278e-06\n",
      "Resource estimates for P_BFGS-TwoLocal: Gate count = 15, Circuit depth = 9, Function calls = 2700\n",
      "\n",
      "Running VQE for optimizer-ansatz pair: P_BFGS-EfficientSU2\n"
     ]
    },
    {
     "name": "stderr",
     "output_type": "stream",
     "text": [
      "For Windows, using only current process. Multiple core use not supported.\n",
      "For Windows, using only current process. Multiple core use not supported.\n",
      "For Windows, using only current process. Multiple core use not supported.\n",
      "For Windows, using only current process. Multiple core use not supported.\n",
      "For Windows, using only current process. Multiple core use not supported.\n",
      "For Windows, using only current process. Multiple core use not supported.\n",
      "For Windows, using only current process. Multiple core use not supported.\n",
      "For Windows, using only current process. Multiple core use not supported.\n",
      "For Windows, using only current process. Multiple core use not supported.\n",
      "For Windows, using only current process. Multiple core use not supported.\n"
     ]
    },
    {
     "name": "stdout",
     "output_type": "stream",
     "text": [
      "P_BFGS-EfficientSU2 - Depth 1: Average relative error = 0.44788635168632984\n"
     ]
    },
    {
     "name": "stderr",
     "output_type": "stream",
     "text": [
      "For Windows, using only current process. Multiple core use not supported.\n",
      "For Windows, using only current process. Multiple core use not supported.\n",
      "For Windows, using only current process. Multiple core use not supported.\n",
      "For Windows, using only current process. Multiple core use not supported.\n",
      "For Windows, using only current process. Multiple core use not supported.\n",
      "For Windows, using only current process. Multiple core use not supported.\n",
      "For Windows, using only current process. Multiple core use not supported.\n",
      "For Windows, using only current process. Multiple core use not supported.\n",
      "For Windows, using only current process. Multiple core use not supported.\n",
      "For Windows, using only current process. Multiple core use not supported.\n"
     ]
    },
    {
     "name": "stdout",
     "output_type": "stream",
     "text": [
      "P_BFGS-EfficientSU2 - Depth 2: Average relative error = 0.02667318428912736\n"
     ]
    },
    {
     "name": "stderr",
     "output_type": "stream",
     "text": [
      "For Windows, using only current process. Multiple core use not supported.\n",
      "For Windows, using only current process. Multiple core use not supported.\n",
      "For Windows, using only current process. Multiple core use not supported.\n",
      "For Windows, using only current process. Multiple core use not supported.\n",
      "For Windows, using only current process. Multiple core use not supported.\n",
      "For Windows, using only current process. Multiple core use not supported.\n",
      "For Windows, using only current process. Multiple core use not supported.\n",
      "For Windows, using only current process. Multiple core use not supported.\n",
      "For Windows, using only current process. Multiple core use not supported.\n",
      "For Windows, using only current process. Multiple core use not supported.\n"
     ]
    },
    {
     "name": "stdout",
     "output_type": "stream",
     "text": [
      "P_BFGS-EfficientSU2 - Depth 3: Average relative error = 0.31479531997446386\n"
     ]
    },
    {
     "name": "stderr",
     "output_type": "stream",
     "text": [
      "For Windows, using only current process. Multiple core use not supported.\n",
      "For Windows, using only current process. Multiple core use not supported.\n",
      "For Windows, using only current process. Multiple core use not supported.\n",
      "For Windows, using only current process. Multiple core use not supported.\n",
      "For Windows, using only current process. Multiple core use not supported.\n",
      "For Windows, using only current process. Multiple core use not supported.\n",
      "For Windows, using only current process. Multiple core use not supported.\n",
      "For Windows, using only current process. Multiple core use not supported.\n",
      "For Windows, using only current process. Multiple core use not supported.\n",
      "For Windows, using only current process. Multiple core use not supported.\n"
     ]
    },
    {
     "name": "stdout",
     "output_type": "stream",
     "text": [
      "P_BFGS-EfficientSU2 - Depth 4: Average relative error = 0.1037414487559832\n"
     ]
    },
    {
     "name": "stderr",
     "output_type": "stream",
     "text": [
      "For Windows, using only current process. Multiple core use not supported.\n",
      "For Windows, using only current process. Multiple core use not supported.\n",
      "For Windows, using only current process. Multiple core use not supported.\n",
      "For Windows, using only current process. Multiple core use not supported.\n",
      "For Windows, using only current process. Multiple core use not supported.\n",
      "For Windows, using only current process. Multiple core use not supported.\n",
      "For Windows, using only current process. Multiple core use not supported.\n",
      "For Windows, using only current process. Multiple core use not supported.\n",
      "For Windows, using only current process. Multiple core use not supported.\n",
      "For Windows, using only current process. Multiple core use not supported.\n"
     ]
    },
    {
     "name": "stdout",
     "output_type": "stream",
     "text": [
      "P_BFGS-EfficientSU2 - Depth 5: Average relative error = 0.23126226862352803\n"
     ]
    },
    {
     "name": "stderr",
     "output_type": "stream",
     "text": [
      "For Windows, using only current process. Multiple core use not supported.\n",
      "For Windows, using only current process. Multiple core use not supported.\n",
      "For Windows, using only current process. Multiple core use not supported.\n",
      "For Windows, using only current process. Multiple core use not supported.\n",
      "For Windows, using only current process. Multiple core use not supported.\n",
      "For Windows, using only current process. Multiple core use not supported.\n",
      "For Windows, using only current process. Multiple core use not supported.\n",
      "For Windows, using only current process. Multiple core use not supported.\n",
      "For Windows, using only current process. Multiple core use not supported.\n"
     ]
    },
    {
     "name": "stdout",
     "output_type": "stream",
     "text": [
      "P_BFGS-EfficientSU2 - Depth 6: Average relative error = 3.3273066344450536e-06\n",
      "Optimal depth 6 for P_BFGS-EfficientSU2 achieved lowest relative error = 2.3354812012511053e-07\n",
      "Run number with lowest relative error: 10\n",
      "Relative error at optimal run for P_BFGS-EfficientSU2: 2.3354812012511053e-07\n",
      "Resource estimates for P_BFGS-EfficientSU2: Gate count = 39, Circuit depth = 25, Function calls = 1496\n"
     ]
    }
   ],
   "source": [
    "## Get the optimizers\n",
    "maxiter = 5000\n",
    "optimizers = [SLSQP(maxiter = maxiter), P_BFGS(maxfun = maxiter)]\n",
    "\n",
    "# Define parameters\n",
    "dimension = matrix.shape[0]\n",
    "num_qubits = int(np.log2(dimension))\n",
    "target_error_threshold = 0.01\n",
    "\n",
    "# Estimate min. ansatz depths\n",
    "min_depths_N_8, errors_N_8, resources_N_8 = estimate_resources(matrix, zeromode, optimizers, num_qubits, target_error_threshold, \\\n",
    "                                                               classical_expectation, nmax, L)"
   ]
  },
  {
   "cell_type": "markdown",
   "id": "f8406983-7369-435e-8321-3944f07e95f7",
   "metadata": {},
   "source": [
    "### Print resource estimates"
   ]
  },
  {
   "cell_type": "code",
   "execution_count": 44,
   "id": "39e7a50f-804c-4993-a1b8-b2129bec58f9",
   "metadata": {},
   "outputs": [
    {
     "name": "stdout",
     "output_type": "stream",
     "text": [
      "The min. ansatz depth results are:\n",
      "{'SLSQP-RealAmplitudes': 4, 'SLSQP-TwoLocal': 3, 'SLSQP-EfficientSU2': 3, 'P_BFGS-RealAmplitudes': 4, 'P_BFGS-TwoLocal': 2, 'P_BFGS-EfficientSU2': 6}\n",
      "\n",
      "The relative errors are:\n",
      "{'SLSQP-RealAmplitudes': 2.3306997766340855e-06, 'SLSQP-TwoLocal': 2.8121006838607546e-06, 'SLSQP-EfficientSU2': 4.935818294724644e-07, 'P_BFGS-RealAmplitudes': 3.260549678855917e-08, 'P_BFGS-TwoLocal': 1.20060066981278e-06, 'P_BFGS-EfficientSU2': 2.3354812012511053e-07}\n",
      "\n",
      "The resources required are:\n",
      "{'SLSQP-RealAmplitudes': {'gate_count': 27, 'circuit_depth': 17, 'function_calls': 718}, 'SLSQP-TwoLocal': {'gate_count': 21, 'circuit_depth': 13, 'function_calls': 637}, 'SLSQP-EfficientSU2': {'gate_count': 21, 'circuit_depth': 13, 'function_calls': 482}, 'P_BFGS-RealAmplitudes': {'gate_count': 27, 'circuit_depth': 17, 'function_calls': 1264}, 'P_BFGS-TwoLocal': {'gate_count': 15, 'circuit_depth': 9, 'function_calls': 2700}, 'P_BFGS-EfficientSU2': {'gate_count': 39, 'circuit_depth': 25, 'function_calls': 1496}}\n",
      "\n"
     ]
    }
   ],
   "source": [
    "## Print the min. ansatz depth results\n",
    "print('The min. ansatz depth results are:')\n",
    "print(min_depths_N_8)\n",
    "print()\n",
    "\n",
    "## Print the relative errors\n",
    "print('The relative errors are:')\n",
    "print(errors_N_8)\n",
    "print()\n",
    "\n",
    "## Print the resource estimates\n",
    "print('The resources required are:')\n",
    "print(resources_N_8)\n",
    "print()"
   ]
  },
  {
   "cell_type": "markdown",
   "id": "2f5711dd-a890-4e0f-bd3e-89b447236477",
   "metadata": {},
   "source": [
    "### For a = 1, b = 0 (N = 16)\n",
    "\n",
    "### Get the matrix and the zeromode"
   ]
  },
  {
   "cell_type": "code",
   "execution_count": 47,
   "id": "6c2eb1b4-a308-4199-8ca5-bbc1464596d5",
   "metadata": {},
   "outputs": [
    {
     "name": "stdout",
     "output_type": "stream",
     "text": [
      "The matrix is:\n",
      "[[ 6.75000000e+00 -2.54558441e+01  1.83711731e+01  0.00000000e+00\n",
      "   0.00000000e+00  0.00000000e+00  0.00000000e+00  0.00000000e+00\n",
      "   0.00000000e+00  0.00000000e+00  0.00000000e+00  0.00000000e+00\n",
      "   0.00000000e+00  0.00000000e+00  0.00000000e+00  0.00000000e+00]\n",
      " [-2.54558441e+01  1.29750000e+02 -1.73205081e+02  7.11512474e+01\n",
      "   0.00000000e+00  0.00000000e+00  0.00000000e+00  0.00000000e+00\n",
      "   0.00000000e+00  0.00000000e+00  0.00000000e+00  0.00000000e+00\n",
      "   0.00000000e+00  0.00000000e+00  0.00000000e+00  0.00000000e+00]\n",
      " [ 1.83711731e+01 -1.73205081e+02  4.48750000e+02 -4.49132497e+02\n",
      "   1.53704261e+02  0.00000000e+00  0.00000000e+00  0.00000000e+00\n",
      "   0.00000000e+00  0.00000000e+00  0.00000000e+00  0.00000000e+00\n",
      "   0.00000000e+00  0.00000000e+00  0.00000000e+00  0.00000000e+00]\n",
      " [ 0.00000000e+00  7.11512474e+01 -4.49132497e+02  9.63750000e+02\n",
      "  -8.53097884e+02  2.66223590e+02  0.00000000e+00  0.00000000e+00\n",
      "   0.00000000e+00  0.00000000e+00  0.00000000e+00  0.00000000e+00\n",
      "   0.00000000e+00  0.00000000e+00  0.00000000e+00  0.00000000e+00]\n",
      " [ 0.00000000e+00  0.00000000e+00  1.53704261e+02 -8.53097884e+02\n",
      "   1.67475000e+03 -1.38507762e+03  4.08732798e+02  0.00000000e+00\n",
      "   0.00000000e+00  0.00000000e+00  0.00000000e+00  0.00000000e+00\n",
      "   0.00000000e+00  0.00000000e+00  0.00000000e+00  0.00000000e+00]\n",
      " [ 0.00000000e+00  0.00000000e+00  0.00000000e+00  2.66223590e+02\n",
      "  -1.38507762e+03  2.58175000e+03 -2.04506430e+03  5.81237903e+02\n",
      "   0.00000000e+00  0.00000000e+00  0.00000000e+00  0.00000000e+00\n",
      "   0.00000000e+00  0.00000000e+00  0.00000000e+00  0.00000000e+00]\n",
      " [ 0.00000000e+00  0.00000000e+00  0.00000000e+00  0.00000000e+00\n",
      "   4.08732798e+02 -2.04506430e+03  3.68475000e+03 -2.83305489e+03\n",
      "   7.83741029e+02  0.00000000e+00  0.00000000e+00  0.00000000e+00\n",
      "   0.00000000e+00  0.00000000e+00  0.00000000e+00  0.00000000e+00]\n",
      " [ 0.00000000e+00  0.00000000e+00  0.00000000e+00  0.00000000e+00\n",
      "   0.00000000e+00  5.81237903e+02 -2.83305489e+03  4.98375000e+03\n",
      "  -3.74904788e+03  1.01624308e+03  0.00000000e+00  0.00000000e+00\n",
      "   0.00000000e+00  0.00000000e+00  0.00000000e+00  0.00000000e+00]\n",
      " [ 0.00000000e+00  0.00000000e+00  0.00000000e+00  0.00000000e+00\n",
      "   0.00000000e+00  0.00000000e+00  7.83741029e+02 -3.74904788e+03\n",
      "   6.47875000e+03 -4.79304246e+03  1.27874450e+03  0.00000000e+00\n",
      "   0.00000000e+00  0.00000000e+00  0.00000000e+00  0.00000000e+00]\n",
      " [ 0.00000000e+00  0.00000000e+00  0.00000000e+00  0.00000000e+00\n",
      "   0.00000000e+00  0.00000000e+00  0.00000000e+00  1.01624308e+03\n",
      "  -4.79304246e+03  8.16975000e+03 -5.96503814e+03  1.57124553e+03\n",
      "   0.00000000e+00  0.00000000e+00  0.00000000e+00  0.00000000e+00]\n",
      " [ 0.00000000e+00  0.00000000e+00  0.00000000e+00  0.00000000e+00\n",
      "   0.00000000e+00  0.00000000e+00  0.00000000e+00  0.00000000e+00\n",
      "   1.27874450e+03 -5.96503814e+03  1.00567500e+04 -7.26503462e+03\n",
      "   1.89374629e+03  0.00000000e+00  0.00000000e+00  0.00000000e+00]\n",
      " [ 0.00000000e+00  0.00000000e+00  0.00000000e+00  0.00000000e+00\n",
      "   0.00000000e+00  0.00000000e+00  0.00000000e+00  0.00000000e+00\n",
      "   0.00000000e+00  1.57124553e+03 -7.26503462e+03  1.21397500e+04\n",
      "  -8.69303169e+03  2.24624687e+03  0.00000000e+00  0.00000000e+00]\n",
      " [ 0.00000000e+00  0.00000000e+00  0.00000000e+00  0.00000000e+00\n",
      "   0.00000000e+00  0.00000000e+00  0.00000000e+00  0.00000000e+00\n",
      "   0.00000000e+00  0.00000000e+00  1.89374629e+03 -8.69303169e+03\n",
      "   1.44187500e+04 -1.02490292e+04  2.62874733e+03  0.00000000e+00]\n",
      " [ 0.00000000e+00  0.00000000e+00  0.00000000e+00  0.00000000e+00\n",
      "   0.00000000e+00  0.00000000e+00  0.00000000e+00  0.00000000e+00\n",
      "   0.00000000e+00  0.00000000e+00  0.00000000e+00  2.24624687e+03\n",
      "  -1.02490292e+04  1.68937500e+04 -1.19330271e+04  3.04124769e+03]\n",
      " [ 0.00000000e+00  0.00000000e+00  0.00000000e+00  0.00000000e+00\n",
      "   0.00000000e+00  0.00000000e+00  0.00000000e+00  0.00000000e+00\n",
      "   0.00000000e+00  0.00000000e+00  0.00000000e+00  0.00000000e+00\n",
      "   2.62874733e+03 -1.19330271e+04  1.95647500e+04 -1.37450253e+04]\n",
      " [ 0.00000000e+00  0.00000000e+00  0.00000000e+00  0.00000000e+00\n",
      "   0.00000000e+00  0.00000000e+00  0.00000000e+00  0.00000000e+00\n",
      "   0.00000000e+00  0.00000000e+00  0.00000000e+00  0.00000000e+00\n",
      "   0.00000000e+00  3.04124769e+03 -1.37450253e+04  2.01997500e+04]]\n",
      "\n",
      "The zeromode is:\n",
      "[[-8.94496689e-01]\n",
      " [-3.79428482e-01]\n",
      " [-1.97092470e-01]\n",
      " [-1.07893262e-01]\n",
      " [-6.05000226e-02]\n",
      " [-3.43851351e-02]\n",
      " [-1.97029175e-02]\n",
      " [-1.13437308e-02]\n",
      " [-6.54368643e-03]\n",
      " [-3.77053327e-03]\n",
      " [-2.16119994e-03]\n",
      " [-1.22419119e-03]\n",
      " [-6.77395680e-04]\n",
      " [-3.57933036e-04]\n",
      " [-1.71349925e-04]\n",
      " [-6.27060250e-05]]\n",
      "\n"
     ]
    },
    {
     "name": "stderr",
     "output_type": "stream",
     "text": [
      "C:\\Users\\Owner\\AppData\\Local\\Temp\\ipykernel_26868\\795971042.py:108: DeprecationWarning: Conversion of an array with ndim > 0 to a scalar is deprecated, and will error in future. Ensure you extract a single element from your array before performing this operation. (Deprecated NumPy 1.25.)\n",
      "  eigenvector[2*i] = eigenvector_old[i]\n"
     ]
    },
    {
     "name": "stdout",
     "output_type": "stream",
     "text": [
      "The value of <x^2> is:\n",
      "0.996520371963445\n",
      "\n"
     ]
    }
   ],
   "source": [
    "## Get the matrix and zeromode\n",
    "nmax = 31\n",
    "a = 1\n",
    "gamma = 1\n",
    "dx = 0.01\n",
    "c = 0\n",
    "L = 1/2\n",
    "x = np.linspace(-4, 4, int(8/dx))\n",
    "\n",
    "# Matrix and zeromode\n",
    "matrix, zeromode = get_zeromode(nmax, a, c, L, gamma)\n",
    "\n",
    "## Print the matrix and zeromode\n",
    "print('The matrix is:')\n",
    "print(matrix)\n",
    "print()\n",
    "\n",
    "# Print the zeromode\n",
    "print('The zeromode is:')\n",
    "print(zeromode)\n",
    "print()\n",
    "\n",
    "## Compute the classical <x^2> value\n",
    "x, y = get_pdf(nmax, x, dx, L, shift = 0, zeromode_qpe = zeromode, normalize = True, make_even = True)\n",
    "classical_expectation = compute_expectation_x_squared_simpson(x, y, 2)\n",
    "\n",
    "# Print the classical expectation value\n",
    "print('The value of <x^2> is:')\n",
    "print(classical_expectation)\n",
    "print()"
   ]
  },
  {
   "cell_type": "markdown",
   "id": "99e5719b-7719-4217-a8e5-e4a8c17a60ab",
   "metadata": {},
   "source": [
    "### Estimate resource requirements (fix at 5000 optimization iterations)"
   ]
  },
  {
   "cell_type": "code",
   "execution_count": 50,
   "id": "0154aee6-8c61-4e0a-b15b-c9b1ef190585",
   "metadata": {},
   "outputs": [
    {
     "name": "stdout",
     "output_type": "stream",
     "text": [
      "\n",
      "Running VQE for optimizer-ansatz pair: SLSQP-RealAmplitudes\n"
     ]
    },
    {
     "name": "stderr",
     "output_type": "stream",
     "text": [
      "C:\\Users\\Owner\\AppData\\Local\\Temp\\ipykernel_26868\\795971042.py:108: DeprecationWarning: Conversion of an array with ndim > 0 to a scalar is deprecated, and will error in future. Ensure you extract a single element from your array before performing this operation. (Deprecated NumPy 1.25.)\n",
      "  eigenvector[2*i] = eigenvector_old[i]\n"
     ]
    },
    {
     "name": "stdout",
     "output_type": "stream",
     "text": [
      "SLSQP-RealAmplitudes - Depth 1: Average relative error = 0.1976183110320648\n",
      "SLSQP-RealAmplitudes - Depth 2: Average relative error = 0.09302120173834794\n",
      "SLSQP-RealAmplitudes - Depth 3: Average relative error = 0.0637491216681241\n",
      "SLSQP-RealAmplitudes - Depth 4: Average relative error = 0.032693089120350495\n",
      "SLSQP-RealAmplitudes - Depth 5: Average relative error = 0.03309424974134166\n",
      "SLSQP-RealAmplitudes - Depth 6: Average relative error = 0.013061685353905988\n",
      "SLSQP-RealAmplitudes - Depth 7: Average relative error = 0.0007008506711754932\n",
      "Optimal depth 7 for SLSQP-RealAmplitudes achieved lowest relative error = 0.00010983100133915506\n",
      "Run number with lowest relative error: 8\n",
      "Relative error at optimal run for SLSQP-RealAmplitudes: 0.00010983100133915506\n",
      "Resource estimates for SLSQP-RealAmplitudes: Gate count = 74, Circuit depth = 37, Function calls = 5014\n",
      "\n",
      "Running VQE for optimizer-ansatz pair: SLSQP-TwoLocal\n",
      "SLSQP-TwoLocal - Depth 1: Average relative error = 0.15067426887628693\n",
      "SLSQP-TwoLocal - Depth 2: Average relative error = 0.0765385259503632\n",
      "SLSQP-TwoLocal - Depth 3: Average relative error = 0.057830432189048465\n",
      "SLSQP-TwoLocal - Depth 4: Average relative error = 0.02973203937519008\n",
      "SLSQP-TwoLocal - Depth 5: Average relative error = 0.03151961186522146\n",
      "SLSQP-TwoLocal - Depth 6: Average relative error = 0.021075065721652835\n",
      "SLSQP-TwoLocal - Depth 7: Average relative error = 0.06300325116155595\n",
      "SLSQP-TwoLocal - Depth 8: Average relative error = 0.003451584021569777\n",
      "Optimal depth 8 for SLSQP-TwoLocal achieved lowest relative error = 0.00021045760772180755\n",
      "Run number with lowest relative error: 4\n",
      "Relative error at optimal run for SLSQP-TwoLocal: 0.00021045760772180755\n",
      "Resource estimates for SLSQP-TwoLocal: Gate count = 84, Circuit depth = 42, Function calls = 8274\n",
      "\n",
      "Running VQE for optimizer-ansatz pair: SLSQP-EfficientSU2\n",
      "SLSQP-EfficientSU2 - Depth 1: Average relative error = 1.842867431902108\n",
      "SLSQP-EfficientSU2 - Depth 2: Average relative error = 0.47347732295937767\n",
      "SLSQP-EfficientSU2 - Depth 3: Average relative error = 0.12364215901858647\n",
      "SLSQP-EfficientSU2 - Depth 4: Average relative error = 0.0383328626024751\n"
     ]
    },
    {
     "name": "stderr",
     "output_type": "stream",
     "text": [
      "For Windows, using only current process. Multiple core use not supported.\n"
     ]
    },
    {
     "name": "stdout",
     "output_type": "stream",
     "text": [
      "SLSQP-EfficientSU2 - Depth 5: Average relative error = 0.0004929820512678852\n",
      "Optimal depth 5 for SLSQP-EfficientSU2 achieved lowest relative error = 8.028852314103912e-05\n",
      "Run number with lowest relative error: 9\n",
      "Relative error at optimal run for SLSQP-EfficientSU2: 8.028852314103912e-05\n",
      "Resource estimates for SLSQP-EfficientSU2: Gate count = 44, Circuit depth = 26, Function calls = 3015\n",
      "\n",
      "Running VQE for optimizer-ansatz pair: P_BFGS-RealAmplitudes\n"
     ]
    },
    {
     "name": "stderr",
     "output_type": "stream",
     "text": [
      "For Windows, using only current process. Multiple core use not supported.\n",
      "For Windows, using only current process. Multiple core use not supported.\n",
      "For Windows, using only current process. Multiple core use not supported.\n",
      "For Windows, using only current process. Multiple core use not supported.\n",
      "For Windows, using only current process. Multiple core use not supported.\n",
      "For Windows, using only current process. Multiple core use not supported.\n",
      "For Windows, using only current process. Multiple core use not supported.\n",
      "For Windows, using only current process. Multiple core use not supported.\n",
      "For Windows, using only current process. Multiple core use not supported.\n",
      "For Windows, using only current process. Multiple core use not supported.\n"
     ]
    },
    {
     "name": "stdout",
     "output_type": "stream",
     "text": [
      "P_BFGS-RealAmplitudes - Depth 1: Average relative error = 0.2384114782268921\n"
     ]
    },
    {
     "name": "stderr",
     "output_type": "stream",
     "text": [
      "For Windows, using only current process. Multiple core use not supported.\n",
      "For Windows, using only current process. Multiple core use not supported.\n",
      "For Windows, using only current process. Multiple core use not supported.\n",
      "For Windows, using only current process. Multiple core use not supported.\n",
      "For Windows, using only current process. Multiple core use not supported.\n",
      "For Windows, using only current process. Multiple core use not supported.\n",
      "For Windows, using only current process. Multiple core use not supported.\n",
      "For Windows, using only current process. Multiple core use not supported.\n",
      "For Windows, using only current process. Multiple core use not supported.\n",
      "For Windows, using only current process. Multiple core use not supported.\n"
     ]
    },
    {
     "name": "stdout",
     "output_type": "stream",
     "text": [
      "P_BFGS-RealAmplitudes - Depth 2: Average relative error = 0.43109586143758066\n"
     ]
    },
    {
     "name": "stderr",
     "output_type": "stream",
     "text": [
      "For Windows, using only current process. Multiple core use not supported.\n",
      "For Windows, using only current process. Multiple core use not supported.\n",
      "For Windows, using only current process. Multiple core use not supported.\n",
      "For Windows, using only current process. Multiple core use not supported.\n",
      "For Windows, using only current process. Multiple core use not supported.\n",
      "For Windows, using only current process. Multiple core use not supported.\n",
      "For Windows, using only current process. Multiple core use not supported.\n",
      "For Windows, using only current process. Multiple core use not supported.\n",
      "For Windows, using only current process. Multiple core use not supported.\n",
      "For Windows, using only current process. Multiple core use not supported.\n"
     ]
    },
    {
     "name": "stdout",
     "output_type": "stream",
     "text": [
      "P_BFGS-RealAmplitudes - Depth 3: Average relative error = 2.4596833437569963\n"
     ]
    },
    {
     "name": "stderr",
     "output_type": "stream",
     "text": [
      "For Windows, using only current process. Multiple core use not supported.\n",
      "For Windows, using only current process. Multiple core use not supported.\n",
      "For Windows, using only current process. Multiple core use not supported.\n",
      "For Windows, using only current process. Multiple core use not supported.\n",
      "For Windows, using only current process. Multiple core use not supported.\n",
      "For Windows, using only current process. Multiple core use not supported.\n",
      "For Windows, using only current process. Multiple core use not supported.\n",
      "For Windows, using only current process. Multiple core use not supported.\n",
      "For Windows, using only current process. Multiple core use not supported.\n",
      "For Windows, using only current process. Multiple core use not supported.\n"
     ]
    },
    {
     "name": "stdout",
     "output_type": "stream",
     "text": [
      "P_BFGS-RealAmplitudes - Depth 4: Average relative error = 0.9128673992949479\n"
     ]
    },
    {
     "name": "stderr",
     "output_type": "stream",
     "text": [
      "For Windows, using only current process. Multiple core use not supported.\n",
      "For Windows, using only current process. Multiple core use not supported.\n",
      "For Windows, using only current process. Multiple core use not supported.\n",
      "For Windows, using only current process. Multiple core use not supported.\n",
      "For Windows, using only current process. Multiple core use not supported.\n",
      "For Windows, using only current process. Multiple core use not supported.\n",
      "For Windows, using only current process. Multiple core use not supported.\n",
      "For Windows, using only current process. Multiple core use not supported.\n",
      "For Windows, using only current process. Multiple core use not supported.\n",
      "For Windows, using only current process. Multiple core use not supported.\n"
     ]
    },
    {
     "name": "stdout",
     "output_type": "stream",
     "text": [
      "P_BFGS-RealAmplitudes - Depth 5: Average relative error = 2.541058419109085\n"
     ]
    },
    {
     "name": "stderr",
     "output_type": "stream",
     "text": [
      "For Windows, using only current process. Multiple core use not supported.\n",
      "For Windows, using only current process. Multiple core use not supported.\n",
      "For Windows, using only current process. Multiple core use not supported.\n",
      "For Windows, using only current process. Multiple core use not supported.\n",
      "For Windows, using only current process. Multiple core use not supported.\n",
      "For Windows, using only current process. Multiple core use not supported.\n",
      "For Windows, using only current process. Multiple core use not supported.\n",
      "For Windows, using only current process. Multiple core use not supported.\n",
      "For Windows, using only current process. Multiple core use not supported.\n",
      "For Windows, using only current process. Multiple core use not supported.\n"
     ]
    },
    {
     "name": "stdout",
     "output_type": "stream",
     "text": [
      "P_BFGS-RealAmplitudes - Depth 6: Average relative error = 3.1899649201579323\n"
     ]
    },
    {
     "name": "stderr",
     "output_type": "stream",
     "text": [
      "For Windows, using only current process. Multiple core use not supported.\n",
      "For Windows, using only current process. Multiple core use not supported.\n",
      "For Windows, using only current process. Multiple core use not supported.\n",
      "For Windows, using only current process. Multiple core use not supported.\n",
      "For Windows, using only current process. Multiple core use not supported.\n",
      "For Windows, using only current process. Multiple core use not supported.\n",
      "For Windows, using only current process. Multiple core use not supported.\n",
      "For Windows, using only current process. Multiple core use not supported.\n",
      "For Windows, using only current process. Multiple core use not supported.\n",
      "For Windows, using only current process. Multiple core use not supported.\n"
     ]
    },
    {
     "name": "stdout",
     "output_type": "stream",
     "text": [
      "P_BFGS-RealAmplitudes - Depth 7: Average relative error = 0.3348093254964858\n"
     ]
    },
    {
     "name": "stderr",
     "output_type": "stream",
     "text": [
      "For Windows, using only current process. Multiple core use not supported.\n",
      "For Windows, using only current process. Multiple core use not supported.\n",
      "For Windows, using only current process. Multiple core use not supported.\n",
      "For Windows, using only current process. Multiple core use not supported.\n",
      "For Windows, using only current process. Multiple core use not supported.\n",
      "For Windows, using only current process. Multiple core use not supported.\n",
      "For Windows, using only current process. Multiple core use not supported.\n",
      "For Windows, using only current process. Multiple core use not supported.\n",
      "For Windows, using only current process. Multiple core use not supported.\n",
      "For Windows, using only current process. Multiple core use not supported.\n"
     ]
    },
    {
     "name": "stdout",
     "output_type": "stream",
     "text": [
      "P_BFGS-RealAmplitudes - Depth 8: Average relative error = 0.7859629700848212\n"
     ]
    },
    {
     "name": "stderr",
     "output_type": "stream",
     "text": [
      "For Windows, using only current process. Multiple core use not supported.\n",
      "For Windows, using only current process. Multiple core use not supported.\n",
      "For Windows, using only current process. Multiple core use not supported.\n",
      "For Windows, using only current process. Multiple core use not supported.\n",
      "For Windows, using only current process. Multiple core use not supported.\n",
      "For Windows, using only current process. Multiple core use not supported.\n",
      "For Windows, using only current process. Multiple core use not supported.\n",
      "For Windows, using only current process. Multiple core use not supported.\n",
      "For Windows, using only current process. Multiple core use not supported.\n",
      "For Windows, using only current process. Multiple core use not supported.\n"
     ]
    },
    {
     "name": "stdout",
     "output_type": "stream",
     "text": [
      "P_BFGS-RealAmplitudes - Depth 9: Average relative error = 1.5806336138547004\n"
     ]
    },
    {
     "name": "stderr",
     "output_type": "stream",
     "text": [
      "For Windows, using only current process. Multiple core use not supported.\n",
      "For Windows, using only current process. Multiple core use not supported.\n",
      "For Windows, using only current process. Multiple core use not supported.\n",
      "For Windows, using only current process. Multiple core use not supported.\n",
      "For Windows, using only current process. Multiple core use not supported.\n",
      "For Windows, using only current process. Multiple core use not supported.\n",
      "For Windows, using only current process. Multiple core use not supported.\n",
      "For Windows, using only current process. Multiple core use not supported.\n",
      "For Windows, using only current process. Multiple core use not supported.\n",
      "For Windows, using only current process. Multiple core use not supported.\n"
     ]
    },
    {
     "name": "stdout",
     "output_type": "stream",
     "text": [
      "P_BFGS-RealAmplitudes - Depth 10: Average relative error = 1.2492854842754906\n",
      "P_BFGS-RealAmplitudes did not converge within 10 depths.\n",
      "\n",
      "Running VQE for optimizer-ansatz pair: P_BFGS-TwoLocal\n"
     ]
    },
    {
     "name": "stderr",
     "output_type": "stream",
     "text": [
      "For Windows, using only current process. Multiple core use not supported.\n",
      "For Windows, using only current process. Multiple core use not supported.\n",
      "For Windows, using only current process. Multiple core use not supported.\n",
      "For Windows, using only current process. Multiple core use not supported.\n",
      "For Windows, using only current process. Multiple core use not supported.\n",
      "For Windows, using only current process. Multiple core use not supported.\n",
      "For Windows, using only current process. Multiple core use not supported.\n",
      "For Windows, using only current process. Multiple core use not supported.\n",
      "For Windows, using only current process. Multiple core use not supported.\n",
      "For Windows, using only current process. Multiple core use not supported.\n"
     ]
    },
    {
     "name": "stdout",
     "output_type": "stream",
     "text": [
      "P_BFGS-TwoLocal - Depth 1: Average relative error = 0.15096597652005622\n"
     ]
    },
    {
     "name": "stderr",
     "output_type": "stream",
     "text": [
      "For Windows, using only current process. Multiple core use not supported.\n",
      "For Windows, using only current process. Multiple core use not supported.\n",
      "For Windows, using only current process. Multiple core use not supported.\n",
      "For Windows, using only current process. Multiple core use not supported.\n",
      "For Windows, using only current process. Multiple core use not supported.\n",
      "For Windows, using only current process. Multiple core use not supported.\n",
      "For Windows, using only current process. Multiple core use not supported.\n",
      "For Windows, using only current process. Multiple core use not supported.\n",
      "For Windows, using only current process. Multiple core use not supported.\n",
      "For Windows, using only current process. Multiple core use not supported.\n"
     ]
    },
    {
     "name": "stdout",
     "output_type": "stream",
     "text": [
      "P_BFGS-TwoLocal - Depth 2: Average relative error = 0.06322086173348873\n"
     ]
    },
    {
     "name": "stderr",
     "output_type": "stream",
     "text": [
      "For Windows, using only current process. Multiple core use not supported.\n",
      "For Windows, using only current process. Multiple core use not supported.\n",
      "For Windows, using only current process. Multiple core use not supported.\n",
      "For Windows, using only current process. Multiple core use not supported.\n",
      "For Windows, using only current process. Multiple core use not supported.\n",
      "For Windows, using only current process. Multiple core use not supported.\n",
      "For Windows, using only current process. Multiple core use not supported.\n",
      "For Windows, using only current process. Multiple core use not supported.\n",
      "For Windows, using only current process. Multiple core use not supported.\n",
      "For Windows, using only current process. Multiple core use not supported.\n"
     ]
    },
    {
     "name": "stdout",
     "output_type": "stream",
     "text": [
      "P_BFGS-TwoLocal - Depth 3: Average relative error = 0.03665160606551081\n"
     ]
    },
    {
     "name": "stderr",
     "output_type": "stream",
     "text": [
      "For Windows, using only current process. Multiple core use not supported.\n",
      "For Windows, using only current process. Multiple core use not supported.\n",
      "For Windows, using only current process. Multiple core use not supported.\n",
      "For Windows, using only current process. Multiple core use not supported.\n",
      "For Windows, using only current process. Multiple core use not supported.\n",
      "For Windows, using only current process. Multiple core use not supported.\n",
      "For Windows, using only current process. Multiple core use not supported.\n",
      "For Windows, using only current process. Multiple core use not supported.\n",
      "For Windows, using only current process. Multiple core use not supported.\n",
      "For Windows, using only current process. Multiple core use not supported.\n"
     ]
    },
    {
     "name": "stdout",
     "output_type": "stream",
     "text": [
      "P_BFGS-TwoLocal - Depth 4: Average relative error = 1.1229528212799855\n"
     ]
    },
    {
     "name": "stderr",
     "output_type": "stream",
     "text": [
      "For Windows, using only current process. Multiple core use not supported.\n",
      "For Windows, using only current process. Multiple core use not supported.\n",
      "For Windows, using only current process. Multiple core use not supported.\n",
      "For Windows, using only current process. Multiple core use not supported.\n",
      "For Windows, using only current process. Multiple core use not supported.\n",
      "For Windows, using only current process. Multiple core use not supported.\n",
      "For Windows, using only current process. Multiple core use not supported.\n",
      "For Windows, using only current process. Multiple core use not supported.\n",
      "For Windows, using only current process. Multiple core use not supported.\n",
      "For Windows, using only current process. Multiple core use not supported.\n"
     ]
    },
    {
     "name": "stdout",
     "output_type": "stream",
     "text": [
      "P_BFGS-TwoLocal - Depth 5: Average relative error = 0.02267604386769751\n"
     ]
    },
    {
     "name": "stderr",
     "output_type": "stream",
     "text": [
      "For Windows, using only current process. Multiple core use not supported.\n",
      "For Windows, using only current process. Multiple core use not supported.\n",
      "For Windows, using only current process. Multiple core use not supported.\n",
      "For Windows, using only current process. Multiple core use not supported.\n",
      "For Windows, using only current process. Multiple core use not supported.\n",
      "For Windows, using only current process. Multiple core use not supported.\n",
      "For Windows, using only current process. Multiple core use not supported.\n",
      "For Windows, using only current process. Multiple core use not supported.\n",
      "For Windows, using only current process. Multiple core use not supported.\n",
      "For Windows, using only current process. Multiple core use not supported.\n"
     ]
    },
    {
     "name": "stdout",
     "output_type": "stream",
     "text": [
      "P_BFGS-TwoLocal - Depth 6: Average relative error = 3.7798172212779653\n"
     ]
    },
    {
     "name": "stderr",
     "output_type": "stream",
     "text": [
      "For Windows, using only current process. Multiple core use not supported.\n",
      "For Windows, using only current process. Multiple core use not supported.\n",
      "For Windows, using only current process. Multiple core use not supported.\n",
      "For Windows, using only current process. Multiple core use not supported.\n",
      "For Windows, using only current process. Multiple core use not supported.\n",
      "For Windows, using only current process. Multiple core use not supported.\n",
      "For Windows, using only current process. Multiple core use not supported.\n",
      "For Windows, using only current process. Multiple core use not supported.\n",
      "For Windows, using only current process. Multiple core use not supported.\n",
      "For Windows, using only current process. Multiple core use not supported.\n"
     ]
    },
    {
     "name": "stdout",
     "output_type": "stream",
     "text": [
      "P_BFGS-TwoLocal - Depth 7: Average relative error = 5.399863341173635\n"
     ]
    },
    {
     "name": "stderr",
     "output_type": "stream",
     "text": [
      "For Windows, using only current process. Multiple core use not supported.\n",
      "For Windows, using only current process. Multiple core use not supported.\n",
      "For Windows, using only current process. Multiple core use not supported.\n",
      "For Windows, using only current process. Multiple core use not supported.\n",
      "For Windows, using only current process. Multiple core use not supported.\n",
      "For Windows, using only current process. Multiple core use not supported.\n",
      "For Windows, using only current process. Multiple core use not supported.\n",
      "For Windows, using only current process. Multiple core use not supported.\n",
      "For Windows, using only current process. Multiple core use not supported.\n",
      "For Windows, using only current process. Multiple core use not supported.\n"
     ]
    },
    {
     "name": "stdout",
     "output_type": "stream",
     "text": [
      "P_BFGS-TwoLocal - Depth 8: Average relative error = 1.2505364368458913\n"
     ]
    },
    {
     "name": "stderr",
     "output_type": "stream",
     "text": [
      "For Windows, using only current process. Multiple core use not supported.\n",
      "For Windows, using only current process. Multiple core use not supported.\n",
      "For Windows, using only current process. Multiple core use not supported.\n",
      "For Windows, using only current process. Multiple core use not supported.\n",
      "For Windows, using only current process. Multiple core use not supported.\n",
      "For Windows, using only current process. Multiple core use not supported.\n",
      "For Windows, using only current process. Multiple core use not supported.\n",
      "For Windows, using only current process. Multiple core use not supported.\n",
      "For Windows, using only current process. Multiple core use not supported.\n",
      "For Windows, using only current process. Multiple core use not supported.\n"
     ]
    },
    {
     "name": "stdout",
     "output_type": "stream",
     "text": [
      "P_BFGS-TwoLocal - Depth 9: Average relative error = 1.3805218784250208\n"
     ]
    },
    {
     "name": "stderr",
     "output_type": "stream",
     "text": [
      "For Windows, using only current process. Multiple core use not supported.\n",
      "For Windows, using only current process. Multiple core use not supported.\n",
      "For Windows, using only current process. Multiple core use not supported.\n",
      "For Windows, using only current process. Multiple core use not supported.\n",
      "For Windows, using only current process. Multiple core use not supported.\n",
      "For Windows, using only current process. Multiple core use not supported.\n",
      "For Windows, using only current process. Multiple core use not supported.\n",
      "For Windows, using only current process. Multiple core use not supported.\n",
      "For Windows, using only current process. Multiple core use not supported.\n",
      "For Windows, using only current process. Multiple core use not supported.\n"
     ]
    },
    {
     "name": "stdout",
     "output_type": "stream",
     "text": [
      "P_BFGS-TwoLocal - Depth 10: Average relative error = 0.9971505718823046\n",
      "P_BFGS-TwoLocal did not converge within 10 depths.\n",
      "\n",
      "Running VQE for optimizer-ansatz pair: P_BFGS-EfficientSU2\n"
     ]
    },
    {
     "name": "stderr",
     "output_type": "stream",
     "text": [
      "For Windows, using only current process. Multiple core use not supported.\n",
      "For Windows, using only current process. Multiple core use not supported.\n",
      "For Windows, using only current process. Multiple core use not supported.\n",
      "For Windows, using only current process. Multiple core use not supported.\n",
      "For Windows, using only current process. Multiple core use not supported.\n",
      "For Windows, using only current process. Multiple core use not supported.\n",
      "For Windows, using only current process. Multiple core use not supported.\n",
      "For Windows, using only current process. Multiple core use not supported.\n",
      "For Windows, using only current process. Multiple core use not supported.\n",
      "For Windows, using only current process. Multiple core use not supported.\n"
     ]
    },
    {
     "name": "stdout",
     "output_type": "stream",
     "text": [
      "P_BFGS-EfficientSU2 - Depth 1: Average relative error = 8.457903120286124\n"
     ]
    },
    {
     "name": "stderr",
     "output_type": "stream",
     "text": [
      "For Windows, using only current process. Multiple core use not supported.\n",
      "For Windows, using only current process. Multiple core use not supported.\n",
      "For Windows, using only current process. Multiple core use not supported.\n",
      "For Windows, using only current process. Multiple core use not supported.\n",
      "For Windows, using only current process. Multiple core use not supported.\n",
      "For Windows, using only current process. Multiple core use not supported.\n",
      "For Windows, using only current process. Multiple core use not supported.\n",
      "For Windows, using only current process. Multiple core use not supported.\n",
      "For Windows, using only current process. Multiple core use not supported.\n",
      "For Windows, using only current process. Multiple core use not supported.\n"
     ]
    },
    {
     "name": "stdout",
     "output_type": "stream",
     "text": [
      "P_BFGS-EfficientSU2 - Depth 2: Average relative error = 0.6915178427851142\n"
     ]
    },
    {
     "name": "stderr",
     "output_type": "stream",
     "text": [
      "For Windows, using only current process. Multiple core use not supported.\n",
      "For Windows, using only current process. Multiple core use not supported.\n",
      "For Windows, using only current process. Multiple core use not supported.\n",
      "For Windows, using only current process. Multiple core use not supported.\n",
      "For Windows, using only current process. Multiple core use not supported.\n",
      "For Windows, using only current process. Multiple core use not supported.\n",
      "For Windows, using only current process. Multiple core use not supported.\n",
      "For Windows, using only current process. Multiple core use not supported.\n",
      "For Windows, using only current process. Multiple core use not supported.\n",
      "For Windows, using only current process. Multiple core use not supported.\n"
     ]
    },
    {
     "name": "stdout",
     "output_type": "stream",
     "text": [
      "P_BFGS-EfficientSU2 - Depth 3: Average relative error = 1.188430129920022\n"
     ]
    },
    {
     "name": "stderr",
     "output_type": "stream",
     "text": [
      "For Windows, using only current process. Multiple core use not supported.\n",
      "For Windows, using only current process. Multiple core use not supported.\n",
      "For Windows, using only current process. Multiple core use not supported.\n",
      "For Windows, using only current process. Multiple core use not supported.\n",
      "For Windows, using only current process. Multiple core use not supported.\n",
      "For Windows, using only current process. Multiple core use not supported.\n",
      "For Windows, using only current process. Multiple core use not supported.\n",
      "For Windows, using only current process. Multiple core use not supported.\n",
      "For Windows, using only current process. Multiple core use not supported.\n",
      "For Windows, using only current process. Multiple core use not supported.\n"
     ]
    },
    {
     "name": "stdout",
     "output_type": "stream",
     "text": [
      "P_BFGS-EfficientSU2 - Depth 4: Average relative error = 0.7344490036815946\n"
     ]
    },
    {
     "name": "stderr",
     "output_type": "stream",
     "text": [
      "For Windows, using only current process. Multiple core use not supported.\n",
      "For Windows, using only current process. Multiple core use not supported.\n",
      "For Windows, using only current process. Multiple core use not supported.\n",
      "For Windows, using only current process. Multiple core use not supported.\n",
      "For Windows, using only current process. Multiple core use not supported.\n",
      "For Windows, using only current process. Multiple core use not supported.\n",
      "For Windows, using only current process. Multiple core use not supported.\n",
      "For Windows, using only current process. Multiple core use not supported.\n",
      "For Windows, using only current process. Multiple core use not supported.\n",
      "For Windows, using only current process. Multiple core use not supported.\n"
     ]
    },
    {
     "name": "stdout",
     "output_type": "stream",
     "text": [
      "P_BFGS-EfficientSU2 - Depth 5: Average relative error = 2.261942957296047\n"
     ]
    },
    {
     "name": "stderr",
     "output_type": "stream",
     "text": [
      "For Windows, using only current process. Multiple core use not supported.\n",
      "For Windows, using only current process. Multiple core use not supported.\n",
      "For Windows, using only current process. Multiple core use not supported.\n",
      "For Windows, using only current process. Multiple core use not supported.\n",
      "For Windows, using only current process. Multiple core use not supported.\n",
      "For Windows, using only current process. Multiple core use not supported.\n",
      "For Windows, using only current process. Multiple core use not supported.\n",
      "For Windows, using only current process. Multiple core use not supported.\n",
      "For Windows, using only current process. Multiple core use not supported.\n",
      "For Windows, using only current process. Multiple core use not supported.\n"
     ]
    },
    {
     "name": "stdout",
     "output_type": "stream",
     "text": [
      "P_BFGS-EfficientSU2 - Depth 6: Average relative error = 0.3308723791485978\n"
     ]
    },
    {
     "name": "stderr",
     "output_type": "stream",
     "text": [
      "For Windows, using only current process. Multiple core use not supported.\n",
      "For Windows, using only current process. Multiple core use not supported.\n",
      "For Windows, using only current process. Multiple core use not supported.\n",
      "For Windows, using only current process. Multiple core use not supported.\n",
      "For Windows, using only current process. Multiple core use not supported.\n",
      "For Windows, using only current process. Multiple core use not supported.\n",
      "For Windows, using only current process. Multiple core use not supported.\n",
      "For Windows, using only current process. Multiple core use not supported.\n",
      "For Windows, using only current process. Multiple core use not supported.\n",
      "For Windows, using only current process. Multiple core use not supported.\n"
     ]
    },
    {
     "name": "stdout",
     "output_type": "stream",
     "text": [
      "P_BFGS-EfficientSU2 - Depth 7: Average relative error = 2.824861170773824\n"
     ]
    },
    {
     "name": "stderr",
     "output_type": "stream",
     "text": [
      "For Windows, using only current process. Multiple core use not supported.\n",
      "For Windows, using only current process. Multiple core use not supported.\n",
      "For Windows, using only current process. Multiple core use not supported.\n",
      "For Windows, using only current process. Multiple core use not supported.\n",
      "For Windows, using only current process. Multiple core use not supported.\n",
      "For Windows, using only current process. Multiple core use not supported.\n",
      "For Windows, using only current process. Multiple core use not supported.\n"
     ]
    },
    {
     "ename": "KeyboardInterrupt",
     "evalue": "",
     "output_type": "error",
     "traceback": [
      "\u001b[1;31m---------------------------------------------------------------------------\u001b[0m",
      "\u001b[1;31mKeyboardInterrupt\u001b[0m                         Traceback (most recent call last)",
      "Cell \u001b[1;32mIn[50], line 11\u001b[0m\n\u001b[0;32m      8\u001b[0m target_error_threshold \u001b[38;5;241m=\u001b[39m \u001b[38;5;241m0.01\u001b[39m\n\u001b[0;32m     10\u001b[0m \u001b[38;5;66;03m# Estimate min. ansatz depths\u001b[39;00m\n\u001b[1;32m---> 11\u001b[0m min_depths_N_16, errors_N_16, resources_N_16 \u001b[38;5;241m=\u001b[39m estimate_resources(matrix, zeromode, optimizers, num_qubits, target_error_threshold, \\\n\u001b[0;32m     12\u001b[0m                                                                classical_expectation, nmax, L)\n",
      "Cell \u001b[1;32mIn[15], line 48\u001b[0m, in \u001b[0;36mestimate_resources\u001b[1;34m(matrix, zeromode_classic, optimizers, num_qubits, target_error_threshold, classical_expectation, nmax, L)\u001b[0m\n\u001b[0;32m     45\u001b[0m seed \u001b[38;5;241m=\u001b[39m run \u001b[38;5;241m+\u001b[39m \u001b[38;5;241m1\u001b[39m\n\u001b[0;32m     47\u001b[0m \u001b[38;5;66;03m# Run VQE\u001b[39;00m\n\u001b[1;32m---> 48\u001b[0m zeromode, fidelity_value, error, function_call_count \u001b[38;5;241m=\u001b[39m run_vqe_ansatz_analysis(\n\u001b[0;32m     49\u001b[0m     matrix\u001b[38;5;241m=\u001b[39mmatrix, ansatz\u001b[38;5;241m=\u001b[39mansatz, optimizer\u001b[38;5;241m=\u001b[39moptimizer, seed\u001b[38;5;241m=\u001b[39mseed,\n\u001b[0;32m     50\u001b[0m     exact_ground_state\u001b[38;5;241m=\u001b[39mzeromode_classic, classical_expectation\u001b[38;5;241m=\u001b[39mclassical_expectation, \\\n\u001b[0;32m     51\u001b[0m     nmax\u001b[38;5;241m=\u001b[39mnmax, L\u001b[38;5;241m=\u001b[39mL)\n\u001b[0;32m     53\u001b[0m \u001b[38;5;66;03m# Append the relative error and function call count\u001b[39;00m\n\u001b[0;32m     54\u001b[0m fidelities\u001b[38;5;241m.\u001b[39mappend(fidelity_value)\n",
      "Cell \u001b[1;32mIn[9], line 35\u001b[0m, in \u001b[0;36mrun_vqe_ansatz_analysis\u001b[1;34m(matrix, ansatz, optimizer, seed, exact_ground_state, classical_expectation, nmax, L)\u001b[0m\n\u001b[0;32m     32\u001b[0m vqe \u001b[38;5;241m=\u001b[39m VQE(estimator, ansatz, optimizer, initial_point\u001b[38;5;241m=\u001b[39minitial_point, callback\u001b[38;5;241m=\u001b[39mlog\u001b[38;5;241m.\u001b[39mupdate)\n\u001b[0;32m     34\u001b[0m \u001b[38;5;66;03m# Get the VQE results\u001b[39;00m\n\u001b[1;32m---> 35\u001b[0m result \u001b[38;5;241m=\u001b[39m vqe\u001b[38;5;241m.\u001b[39mcompute_minimum_eigenvalue(qub_hamiltonian)\n\u001b[0;32m     37\u001b[0m \u001b[38;5;66;03m# Get the number of optimizer function calls\u001b[39;00m\n\u001b[0;32m     38\u001b[0m num_calls \u001b[38;5;241m=\u001b[39m result\u001b[38;5;241m.\u001b[39mcost_function_evals\n",
      "File \u001b[1;32m~\\anaconda3\\Lib\\site-packages\\qiskit_algorithms\\minimum_eigensolvers\\vqe.py:194\u001b[0m, in \u001b[0;36mVQE.compute_minimum_eigenvalue\u001b[1;34m(self, operator, aux_operators)\u001b[0m\n\u001b[0;32m    189\u001b[0m \u001b[38;5;28;01melse\u001b[39;00m:\n\u001b[0;32m    190\u001b[0m     \u001b[38;5;66;03m# we always want to submit as many estimations per job as possible for minimal\u001b[39;00m\n\u001b[0;32m    191\u001b[0m     \u001b[38;5;66;03m# overhead on the hardware\u001b[39;00m\n\u001b[0;32m    192\u001b[0m     was_updated \u001b[38;5;241m=\u001b[39m _set_default_batchsize(\u001b[38;5;28mself\u001b[39m\u001b[38;5;241m.\u001b[39moptimizer)\n\u001b[1;32m--> 194\u001b[0m     optimizer_result \u001b[38;5;241m=\u001b[39m \u001b[38;5;28mself\u001b[39m\u001b[38;5;241m.\u001b[39moptimizer\u001b[38;5;241m.\u001b[39mminimize(\n\u001b[0;32m    195\u001b[0m         fun\u001b[38;5;241m=\u001b[39mevaluate_energy,  \u001b[38;5;66;03m# type: ignore[arg-type]\u001b[39;00m\n\u001b[0;32m    196\u001b[0m         x0\u001b[38;5;241m=\u001b[39minitial_point,\n\u001b[0;32m    197\u001b[0m         jac\u001b[38;5;241m=\u001b[39mevaluate_gradient,  \u001b[38;5;66;03m# type: ignore[arg-type]\u001b[39;00m\n\u001b[0;32m    198\u001b[0m         bounds\u001b[38;5;241m=\u001b[39mbounds,\n\u001b[0;32m    199\u001b[0m     )\n\u001b[0;32m    201\u001b[0m     \u001b[38;5;66;03m# reset to original value\u001b[39;00m\n\u001b[0;32m    202\u001b[0m     \u001b[38;5;28;01mif\u001b[39;00m was_updated:\n",
      "File \u001b[1;32m~\\anaconda3\\Lib\\site-packages\\qiskit_algorithms\\optimizers\\p_bfgs.py:155\u001b[0m, in \u001b[0;36mP_BFGS.minimize\u001b[1;34m(self, fun, x0, jac, bounds)\u001b[0m\n\u001b[0;32m    150\u001b[0m     proc\u001b[38;5;241m.\u001b[39mstart()\n\u001b[0;32m    152\u001b[0m \u001b[38;5;66;03m# While the one optimize in this process below runs the other processes will\u001b[39;00m\n\u001b[0;32m    153\u001b[0m \u001b[38;5;66;03m# be running too. This one runs\u001b[39;00m\n\u001b[0;32m    154\u001b[0m \u001b[38;5;66;03m# with the supplied initial point. The process ones have their own random one\u001b[39;00m\n\u001b[1;32m--> 155\u001b[0m sol, opt, nfev \u001b[38;5;241m=\u001b[39m \u001b[38;5;28mself\u001b[39m\u001b[38;5;241m.\u001b[39m_optimize(fun, x0, jac, bounds)\n\u001b[0;32m    157\u001b[0m \u001b[38;5;28;01mfor\u001b[39;00m proc \u001b[38;5;129;01min\u001b[39;00m processes:\n\u001b[0;32m    158\u001b[0m     \u001b[38;5;66;03m# For each other process we wait now for it to finish and see if it has\u001b[39;00m\n\u001b[0;32m    159\u001b[0m     \u001b[38;5;66;03m# a better result than above\u001b[39;00m\n\u001b[0;32m    160\u001b[0m     proc\u001b[38;5;241m.\u001b[39mjoin()\n",
      "File \u001b[1;32m~\\anaconda3\\Lib\\site-packages\\qiskit_algorithms\\optimizers\\p_bfgs.py:180\u001b[0m, in \u001b[0;36mP_BFGS._optimize\u001b[1;34m(self, objective_function, initial_point, gradient_function, variable_bounds)\u001b[0m\n\u001b[0;32m    173\u001b[0m \u001b[38;5;28;01mdef\u001b[39;00m \u001b[38;5;21m_optimize\u001b[39m(\n\u001b[0;32m    174\u001b[0m     \u001b[38;5;28mself\u001b[39m,\n\u001b[0;32m    175\u001b[0m     objective_function,\n\u001b[1;32m   (...)\u001b[0m\n\u001b[0;32m    178\u001b[0m     variable_bounds\u001b[38;5;241m=\u001b[39m\u001b[38;5;28;01mNone\u001b[39;00m,\n\u001b[0;32m    179\u001b[0m ) \u001b[38;5;241m-\u001b[39m\u001b[38;5;241m>\u001b[39m \u001b[38;5;28mtuple\u001b[39m[POINT, \u001b[38;5;28mfloat\u001b[39m, \u001b[38;5;28mint\u001b[39m]:\n\u001b[1;32m--> 180\u001b[0m     result \u001b[38;5;241m=\u001b[39m \u001b[38;5;28msuper\u001b[39m()\u001b[38;5;241m.\u001b[39mminimize(\n\u001b[0;32m    181\u001b[0m         objective_function, initial_point, gradient_function, variable_bounds\n\u001b[0;32m    182\u001b[0m     )\n\u001b[0;32m    183\u001b[0m     \u001b[38;5;28;01mreturn\u001b[39;00m result\u001b[38;5;241m.\u001b[39mx, result\u001b[38;5;241m.\u001b[39mfun, result\u001b[38;5;241m.\u001b[39mnfev\n",
      "File \u001b[1;32m~\\anaconda3\\Lib\\site-packages\\qiskit_algorithms\\optimizers\\scipy_optimizer.py:148\u001b[0m, in \u001b[0;36mSciPyOptimizer.minimize\u001b[1;34m(self, fun, x0, jac, bounds)\u001b[0m\n\u001b[0;32m    145\u001b[0m     swapped_deprecated_args \u001b[38;5;241m=\u001b[39m \u001b[38;5;28;01mTrue\u001b[39;00m\n\u001b[0;32m    146\u001b[0m     \u001b[38;5;28mself\u001b[39m\u001b[38;5;241m.\u001b[39m_options[\u001b[38;5;124m\"\u001b[39m\u001b[38;5;124mmaxfun\u001b[39m\u001b[38;5;124m\"\u001b[39m] \u001b[38;5;241m=\u001b[39m \u001b[38;5;28mself\u001b[39m\u001b[38;5;241m.\u001b[39m_options\u001b[38;5;241m.\u001b[39mpop(\u001b[38;5;124m\"\u001b[39m\u001b[38;5;124mmaxiter\u001b[39m\u001b[38;5;124m\"\u001b[39m)\n\u001b[1;32m--> 148\u001b[0m raw_result \u001b[38;5;241m=\u001b[39m minimize(\n\u001b[0;32m    149\u001b[0m     fun\u001b[38;5;241m=\u001b[39mfun,\n\u001b[0;32m    150\u001b[0m     x0\u001b[38;5;241m=\u001b[39mx0,\n\u001b[0;32m    151\u001b[0m     method\u001b[38;5;241m=\u001b[39m\u001b[38;5;28mself\u001b[39m\u001b[38;5;241m.\u001b[39m_method,\n\u001b[0;32m    152\u001b[0m     jac\u001b[38;5;241m=\u001b[39mjac,\n\u001b[0;32m    153\u001b[0m     bounds\u001b[38;5;241m=\u001b[39mbounds,\n\u001b[0;32m    154\u001b[0m     options\u001b[38;5;241m=\u001b[39m\u001b[38;5;28mself\u001b[39m\u001b[38;5;241m.\u001b[39m_options,\n\u001b[0;32m    155\u001b[0m     \u001b[38;5;241m*\u001b[39m\u001b[38;5;241m*\u001b[39m\u001b[38;5;28mself\u001b[39m\u001b[38;5;241m.\u001b[39m_kwargs,\n\u001b[0;32m    156\u001b[0m )\n\u001b[0;32m    157\u001b[0m \u001b[38;5;28;01mif\u001b[39;00m swapped_deprecated_args:\n\u001b[0;32m    158\u001b[0m     \u001b[38;5;28mself\u001b[39m\u001b[38;5;241m.\u001b[39m_options[\u001b[38;5;124m\"\u001b[39m\u001b[38;5;124mmaxiter\u001b[39m\u001b[38;5;124m\"\u001b[39m] \u001b[38;5;241m=\u001b[39m \u001b[38;5;28mself\u001b[39m\u001b[38;5;241m.\u001b[39m_options\u001b[38;5;241m.\u001b[39mpop(\u001b[38;5;124m\"\u001b[39m\u001b[38;5;124mmaxfun\u001b[39m\u001b[38;5;124m\"\u001b[39m)\n",
      "File \u001b[1;32m~\\anaconda3\\Lib\\site-packages\\scipy\\optimize\\_minimize.py:713\u001b[0m, in \u001b[0;36mminimize\u001b[1;34m(fun, x0, args, method, jac, hess, hessp, bounds, constraints, tol, callback, options)\u001b[0m\n\u001b[0;32m    710\u001b[0m     res \u001b[38;5;241m=\u001b[39m _minimize_newtoncg(fun, x0, args, jac, hess, hessp, callback,\n\u001b[0;32m    711\u001b[0m                              \u001b[38;5;241m*\u001b[39m\u001b[38;5;241m*\u001b[39moptions)\n\u001b[0;32m    712\u001b[0m \u001b[38;5;28;01melif\u001b[39;00m meth \u001b[38;5;241m==\u001b[39m \u001b[38;5;124m'\u001b[39m\u001b[38;5;124ml-bfgs-b\u001b[39m\u001b[38;5;124m'\u001b[39m:\n\u001b[1;32m--> 713\u001b[0m     res \u001b[38;5;241m=\u001b[39m _minimize_lbfgsb(fun, x0, args, jac, bounds,\n\u001b[0;32m    714\u001b[0m                            callback\u001b[38;5;241m=\u001b[39mcallback, \u001b[38;5;241m*\u001b[39m\u001b[38;5;241m*\u001b[39moptions)\n\u001b[0;32m    715\u001b[0m \u001b[38;5;28;01melif\u001b[39;00m meth \u001b[38;5;241m==\u001b[39m \u001b[38;5;124m'\u001b[39m\u001b[38;5;124mtnc\u001b[39m\u001b[38;5;124m'\u001b[39m:\n\u001b[0;32m    716\u001b[0m     res \u001b[38;5;241m=\u001b[39m _minimize_tnc(fun, x0, args, jac, bounds, callback\u001b[38;5;241m=\u001b[39mcallback,\n\u001b[0;32m    717\u001b[0m                         \u001b[38;5;241m*\u001b[39m\u001b[38;5;241m*\u001b[39moptions)\n",
      "File \u001b[1;32m~\\anaconda3\\Lib\\site-packages\\scipy\\optimize\\_lbfgsb_py.py:407\u001b[0m, in \u001b[0;36m_minimize_lbfgsb\u001b[1;34m(fun, x0, args, jac, bounds, disp, maxcor, ftol, gtol, eps, maxfun, maxiter, iprint, callback, maxls, finite_diff_rel_step, **unknown_options)\u001b[0m\n\u001b[0;32m    401\u001b[0m task_str \u001b[38;5;241m=\u001b[39m task\u001b[38;5;241m.\u001b[39mtobytes()\n\u001b[0;32m    402\u001b[0m \u001b[38;5;28;01mif\u001b[39;00m task_str\u001b[38;5;241m.\u001b[39mstartswith(\u001b[38;5;124mb\u001b[39m\u001b[38;5;124m'\u001b[39m\u001b[38;5;124mFG\u001b[39m\u001b[38;5;124m'\u001b[39m):\n\u001b[0;32m    403\u001b[0m     \u001b[38;5;66;03m# The minimization routine wants f and g at the current x.\u001b[39;00m\n\u001b[0;32m    404\u001b[0m     \u001b[38;5;66;03m# Note that interruptions due to maxfun are postponed\u001b[39;00m\n\u001b[0;32m    405\u001b[0m     \u001b[38;5;66;03m# until the completion of the current minimization iteration.\u001b[39;00m\n\u001b[0;32m    406\u001b[0m     \u001b[38;5;66;03m# Overwrite f and g:\u001b[39;00m\n\u001b[1;32m--> 407\u001b[0m     f, g \u001b[38;5;241m=\u001b[39m func_and_grad(x)\n\u001b[0;32m    408\u001b[0m \u001b[38;5;28;01melif\u001b[39;00m task_str\u001b[38;5;241m.\u001b[39mstartswith(\u001b[38;5;124mb\u001b[39m\u001b[38;5;124m'\u001b[39m\u001b[38;5;124mNEW_X\u001b[39m\u001b[38;5;124m'\u001b[39m):\n\u001b[0;32m    409\u001b[0m     \u001b[38;5;66;03m# new iteration\u001b[39;00m\n\u001b[0;32m    410\u001b[0m     n_iterations \u001b[38;5;241m+\u001b[39m\u001b[38;5;241m=\u001b[39m \u001b[38;5;241m1\u001b[39m\n",
      "File \u001b[1;32m~\\anaconda3\\Lib\\site-packages\\scipy\\optimize\\_differentiable_functions.py:297\u001b[0m, in \u001b[0;36mScalarFunction.fun_and_grad\u001b[1;34m(self, x)\u001b[0m\n\u001b[0;32m    295\u001b[0m     \u001b[38;5;28mself\u001b[39m\u001b[38;5;241m.\u001b[39m_update_x_impl(x)\n\u001b[0;32m    296\u001b[0m \u001b[38;5;28mself\u001b[39m\u001b[38;5;241m.\u001b[39m_update_fun()\n\u001b[1;32m--> 297\u001b[0m \u001b[38;5;28mself\u001b[39m\u001b[38;5;241m.\u001b[39m_update_grad()\n\u001b[0;32m    298\u001b[0m \u001b[38;5;28;01mreturn\u001b[39;00m \u001b[38;5;28mself\u001b[39m\u001b[38;5;241m.\u001b[39mf, \u001b[38;5;28mself\u001b[39m\u001b[38;5;241m.\u001b[39mg\n",
      "File \u001b[1;32m~\\anaconda3\\Lib\\site-packages\\scipy\\optimize\\_differentiable_functions.py:267\u001b[0m, in \u001b[0;36mScalarFunction._update_grad\u001b[1;34m(self)\u001b[0m\n\u001b[0;32m    265\u001b[0m \u001b[38;5;28;01mdef\u001b[39;00m \u001b[38;5;21m_update_grad\u001b[39m(\u001b[38;5;28mself\u001b[39m):\n\u001b[0;32m    266\u001b[0m     \u001b[38;5;28;01mif\u001b[39;00m \u001b[38;5;129;01mnot\u001b[39;00m \u001b[38;5;28mself\u001b[39m\u001b[38;5;241m.\u001b[39mg_updated:\n\u001b[1;32m--> 267\u001b[0m         \u001b[38;5;28mself\u001b[39m\u001b[38;5;241m.\u001b[39m_update_grad_impl()\n\u001b[0;32m    268\u001b[0m         \u001b[38;5;28mself\u001b[39m\u001b[38;5;241m.\u001b[39mg_updated \u001b[38;5;241m=\u001b[39m \u001b[38;5;28;01mTrue\u001b[39;00m\n",
      "File \u001b[1;32m~\\anaconda3\\Lib\\site-packages\\scipy\\optimize\\_differentiable_functions.py:181\u001b[0m, in \u001b[0;36mScalarFunction.__init__.<locals>.update_grad\u001b[1;34m()\u001b[0m\n\u001b[0;32m    179\u001b[0m \u001b[38;5;28mself\u001b[39m\u001b[38;5;241m.\u001b[39m_update_fun()\n\u001b[0;32m    180\u001b[0m \u001b[38;5;28mself\u001b[39m\u001b[38;5;241m.\u001b[39mngev \u001b[38;5;241m+\u001b[39m\u001b[38;5;241m=\u001b[39m \u001b[38;5;241m1\u001b[39m\n\u001b[1;32m--> 181\u001b[0m \u001b[38;5;28mself\u001b[39m\u001b[38;5;241m.\u001b[39mg \u001b[38;5;241m=\u001b[39m approx_derivative(fun_wrapped, \u001b[38;5;28mself\u001b[39m\u001b[38;5;241m.\u001b[39mx, f0\u001b[38;5;241m=\u001b[39m\u001b[38;5;28mself\u001b[39m\u001b[38;5;241m.\u001b[39mf,\n\u001b[0;32m    182\u001b[0m                            \u001b[38;5;241m*\u001b[39m\u001b[38;5;241m*\u001b[39mfinite_diff_options)\n",
      "File \u001b[1;32m~\\anaconda3\\Lib\\site-packages\\scipy\\optimize\\_numdiff.py:519\u001b[0m, in \u001b[0;36mapprox_derivative\u001b[1;34m(fun, x0, method, rel_step, abs_step, f0, bounds, sparsity, as_linear_operator, args, kwargs)\u001b[0m\n\u001b[0;32m    516\u001b[0m     use_one_sided \u001b[38;5;241m=\u001b[39m \u001b[38;5;28;01mFalse\u001b[39;00m\n\u001b[0;32m    518\u001b[0m \u001b[38;5;28;01mif\u001b[39;00m sparsity \u001b[38;5;129;01mis\u001b[39;00m \u001b[38;5;28;01mNone\u001b[39;00m:\n\u001b[1;32m--> 519\u001b[0m     \u001b[38;5;28;01mreturn\u001b[39;00m _dense_difference(fun_wrapped, x0, f0, h,\n\u001b[0;32m    520\u001b[0m                              use_one_sided, method)\n\u001b[0;32m    521\u001b[0m \u001b[38;5;28;01melse\u001b[39;00m:\n\u001b[0;32m    522\u001b[0m     \u001b[38;5;28;01mif\u001b[39;00m \u001b[38;5;129;01mnot\u001b[39;00m issparse(sparsity) \u001b[38;5;129;01mand\u001b[39;00m \u001b[38;5;28mlen\u001b[39m(sparsity) \u001b[38;5;241m==\u001b[39m \u001b[38;5;241m2\u001b[39m:\n",
      "File \u001b[1;32m~\\anaconda3\\Lib\\site-packages\\scipy\\optimize\\_numdiff.py:590\u001b[0m, in \u001b[0;36m_dense_difference\u001b[1;34m(fun, x0, f0, h, use_one_sided, method)\u001b[0m\n\u001b[0;32m    588\u001b[0m     x \u001b[38;5;241m=\u001b[39m x0 \u001b[38;5;241m+\u001b[39m h_vecs[i]\n\u001b[0;32m    589\u001b[0m     dx \u001b[38;5;241m=\u001b[39m x[i] \u001b[38;5;241m-\u001b[39m x0[i]  \u001b[38;5;66;03m# Recompute dx as exactly representable number.\u001b[39;00m\n\u001b[1;32m--> 590\u001b[0m     df \u001b[38;5;241m=\u001b[39m fun(x) \u001b[38;5;241m-\u001b[39m f0\n\u001b[0;32m    591\u001b[0m \u001b[38;5;28;01melif\u001b[39;00m method \u001b[38;5;241m==\u001b[39m \u001b[38;5;124m'\u001b[39m\u001b[38;5;124m3-point\u001b[39m\u001b[38;5;124m'\u001b[39m \u001b[38;5;129;01mand\u001b[39;00m use_one_sided[i]:\n\u001b[0;32m    592\u001b[0m     x1 \u001b[38;5;241m=\u001b[39m x0 \u001b[38;5;241m+\u001b[39m h_vecs[i]\n",
      "File \u001b[1;32m~\\anaconda3\\Lib\\site-packages\\scipy\\optimize\\_numdiff.py:470\u001b[0m, in \u001b[0;36mapprox_derivative.<locals>.fun_wrapped\u001b[1;34m(x)\u001b[0m\n\u001b[0;32m    467\u001b[0m \u001b[38;5;28;01mif\u001b[39;00m xp\u001b[38;5;241m.\u001b[39misdtype(x\u001b[38;5;241m.\u001b[39mdtype, \u001b[38;5;124m\"\u001b[39m\u001b[38;5;124mreal floating\u001b[39m\u001b[38;5;124m\"\u001b[39m):\n\u001b[0;32m    468\u001b[0m     x \u001b[38;5;241m=\u001b[39m xp\u001b[38;5;241m.\u001b[39mastype(x, x0\u001b[38;5;241m.\u001b[39mdtype)\n\u001b[1;32m--> 470\u001b[0m f \u001b[38;5;241m=\u001b[39m np\u001b[38;5;241m.\u001b[39matleast_1d(fun(x, \u001b[38;5;241m*\u001b[39margs, \u001b[38;5;241m*\u001b[39m\u001b[38;5;241m*\u001b[39mkwargs))\n\u001b[0;32m    471\u001b[0m \u001b[38;5;28;01mif\u001b[39;00m f\u001b[38;5;241m.\u001b[39mndim \u001b[38;5;241m>\u001b[39m \u001b[38;5;241m1\u001b[39m:\n\u001b[0;32m    472\u001b[0m     \u001b[38;5;28;01mraise\u001b[39;00m \u001b[38;5;167;01mRuntimeError\u001b[39;00m(\u001b[38;5;124m\"\u001b[39m\u001b[38;5;124m`fun` return value has \u001b[39m\u001b[38;5;124m\"\u001b[39m\n\u001b[0;32m    473\u001b[0m                        \u001b[38;5;124m\"\u001b[39m\u001b[38;5;124mmore than 1 dimension.\u001b[39m\u001b[38;5;124m\"\u001b[39m)\n",
      "File \u001b[1;32m~\\anaconda3\\Lib\\site-packages\\scipy\\optimize\\_differentiable_functions.py:145\u001b[0m, in \u001b[0;36mScalarFunction.__init__.<locals>.fun_wrapped\u001b[1;34m(x)\u001b[0m\n\u001b[0;32m    141\u001b[0m \u001b[38;5;28mself\u001b[39m\u001b[38;5;241m.\u001b[39mnfev \u001b[38;5;241m+\u001b[39m\u001b[38;5;241m=\u001b[39m \u001b[38;5;241m1\u001b[39m\n\u001b[0;32m    142\u001b[0m \u001b[38;5;66;03m# Send a copy because the user may overwrite it.\u001b[39;00m\n\u001b[0;32m    143\u001b[0m \u001b[38;5;66;03m# Overwriting results in undefined behaviour because\u001b[39;00m\n\u001b[0;32m    144\u001b[0m \u001b[38;5;66;03m# fun(self.x) will change self.x, with the two no longer linked.\u001b[39;00m\n\u001b[1;32m--> 145\u001b[0m fx \u001b[38;5;241m=\u001b[39m fun(np\u001b[38;5;241m.\u001b[39mcopy(x), \u001b[38;5;241m*\u001b[39margs)\n\u001b[0;32m    146\u001b[0m \u001b[38;5;66;03m# Make sure the function returns a true scalar\u001b[39;00m\n\u001b[0;32m    147\u001b[0m \u001b[38;5;28;01mif\u001b[39;00m \u001b[38;5;129;01mnot\u001b[39;00m np\u001b[38;5;241m.\u001b[39misscalar(fx):\n",
      "File \u001b[1;32m~\\anaconda3\\Lib\\site-packages\\qiskit_algorithms\\minimum_eigensolvers\\vqe.py:266\u001b[0m, in \u001b[0;36mVQE._get_evaluate_energy.<locals>.evaluate_energy\u001b[1;34m(parameters)\u001b[0m\n\u001b[0;32m    264\u001b[0m \u001b[38;5;28;01mtry\u001b[39;00m:\n\u001b[0;32m    265\u001b[0m     job \u001b[38;5;241m=\u001b[39m \u001b[38;5;28mself\u001b[39m\u001b[38;5;241m.\u001b[39mestimator\u001b[38;5;241m.\u001b[39mrun(batch_size \u001b[38;5;241m*\u001b[39m [ansatz], batch_size \u001b[38;5;241m*\u001b[39m [operator], parameters)\n\u001b[1;32m--> 266\u001b[0m     estimator_result \u001b[38;5;241m=\u001b[39m job\u001b[38;5;241m.\u001b[39mresult()\n\u001b[0;32m    267\u001b[0m \u001b[38;5;28;01mexcept\u001b[39;00m \u001b[38;5;167;01mException\u001b[39;00m \u001b[38;5;28;01mas\u001b[39;00m exc:\n\u001b[0;32m    268\u001b[0m     \u001b[38;5;28;01mraise\u001b[39;00m AlgorithmError(\u001b[38;5;124m\"\u001b[39m\u001b[38;5;124mThe primitive job to evaluate the energy failed!\u001b[39m\u001b[38;5;124m\"\u001b[39m) \u001b[38;5;28;01mfrom\u001b[39;00m \u001b[38;5;21;01mexc\u001b[39;00m\n",
      "File \u001b[1;32m~\\anaconda3\\Lib\\site-packages\\qiskit\\primitives\\primitive_job.py:51\u001b[0m, in \u001b[0;36mPrimitiveJob.result\u001b[1;34m(self)\u001b[0m\n\u001b[0;32m     49\u001b[0m \u001b[38;5;28;01mdef\u001b[39;00m \u001b[38;5;21mresult\u001b[39m(\u001b[38;5;28mself\u001b[39m) \u001b[38;5;241m-\u001b[39m\u001b[38;5;241m>\u001b[39m ResultT:\n\u001b[0;32m     50\u001b[0m     \u001b[38;5;28mself\u001b[39m\u001b[38;5;241m.\u001b[39m_check_submitted()\n\u001b[1;32m---> 51\u001b[0m     \u001b[38;5;28;01mreturn\u001b[39;00m \u001b[38;5;28mself\u001b[39m\u001b[38;5;241m.\u001b[39m_future\u001b[38;5;241m.\u001b[39mresult()\n",
      "File \u001b[1;32m~\\anaconda3\\Lib\\concurrent\\futures\\_base.py:451\u001b[0m, in \u001b[0;36mFuture.result\u001b[1;34m(self, timeout)\u001b[0m\n\u001b[0;32m    448\u001b[0m \u001b[38;5;28;01melif\u001b[39;00m \u001b[38;5;28mself\u001b[39m\u001b[38;5;241m.\u001b[39m_state \u001b[38;5;241m==\u001b[39m FINISHED:\n\u001b[0;32m    449\u001b[0m     \u001b[38;5;28;01mreturn\u001b[39;00m \u001b[38;5;28mself\u001b[39m\u001b[38;5;241m.\u001b[39m__get_result()\n\u001b[1;32m--> 451\u001b[0m \u001b[38;5;28mself\u001b[39m\u001b[38;5;241m.\u001b[39m_condition\u001b[38;5;241m.\u001b[39mwait(timeout)\n\u001b[0;32m    453\u001b[0m \u001b[38;5;28;01mif\u001b[39;00m \u001b[38;5;28mself\u001b[39m\u001b[38;5;241m.\u001b[39m_state \u001b[38;5;129;01min\u001b[39;00m [CANCELLED, CANCELLED_AND_NOTIFIED]:\n\u001b[0;32m    454\u001b[0m     \u001b[38;5;28;01mraise\u001b[39;00m CancelledError()\n",
      "File \u001b[1;32m~\\anaconda3\\Lib\\threading.py:355\u001b[0m, in \u001b[0;36mCondition.wait\u001b[1;34m(self, timeout)\u001b[0m\n\u001b[0;32m    353\u001b[0m \u001b[38;5;28;01mtry\u001b[39;00m:    \u001b[38;5;66;03m# restore state no matter what (e.g., KeyboardInterrupt)\u001b[39;00m\n\u001b[0;32m    354\u001b[0m     \u001b[38;5;28;01mif\u001b[39;00m timeout \u001b[38;5;129;01mis\u001b[39;00m \u001b[38;5;28;01mNone\u001b[39;00m:\n\u001b[1;32m--> 355\u001b[0m         waiter\u001b[38;5;241m.\u001b[39macquire()\n\u001b[0;32m    356\u001b[0m         gotit \u001b[38;5;241m=\u001b[39m \u001b[38;5;28;01mTrue\u001b[39;00m\n\u001b[0;32m    357\u001b[0m     \u001b[38;5;28;01melse\u001b[39;00m:\n",
      "\u001b[1;31mKeyboardInterrupt\u001b[0m: "
     ]
    }
   ],
   "source": [
    "## Get the optimizers\n",
    "maxiter = 5000\n",
    "optimizers = [SLSQP(maxiter = maxiter), P_BFGS(maxfun = maxiter)]\n",
    "\n",
    "# Define parameters\n",
    "dimension = matrix.shape[0]\n",
    "num_qubits = int(np.log2(dimension))\n",
    "target_error_threshold = 0.01\n",
    "\n",
    "# Estimate min. ansatz depths\n",
    "min_depths_N_16, errors_N_16, resources_N_16 = estimate_resources(matrix, zeromode, optimizers, num_qubits, target_error_threshold, \\\n",
    "                                                               classical_expectation, nmax, L)"
   ]
  },
  {
   "cell_type": "markdown",
   "id": "07007267-4517-45ae-90a2-2651703286c9",
   "metadata": {},
   "source": [
    "### Next (possible task) --- determine how the entanglement entropy scales with N across different problem instances, given that information about the optimal number of ansatz layers is known. "
   ]
  },
  {
   "cell_type": "code",
   "execution_count": null,
   "id": "fedb9609-f78f-4488-8342-b4745b67e8ef",
   "metadata": {},
   "outputs": [],
   "source": []
  }
 ],
 "metadata": {
  "kernelspec": {
   "display_name": "Python 3 (ipykernel)",
   "language": "python",
   "name": "python3"
  },
  "language_info": {
   "codemirror_mode": {
    "name": "ipython",
    "version": 3
   },
   "file_extension": ".py",
   "mimetype": "text/x-python",
   "name": "python",
   "nbconvert_exporter": "python",
   "pygments_lexer": "ipython3",
   "version": "3.12.4"
  }
 },
 "nbformat": 4,
 "nbformat_minor": 5
}
